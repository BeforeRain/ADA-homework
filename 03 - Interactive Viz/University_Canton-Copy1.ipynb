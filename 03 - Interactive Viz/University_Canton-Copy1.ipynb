{
 "cells": [
  {
   "cell_type": "code",
   "execution_count": null,
   "metadata": {
    "collapsed": true
   },
   "outputs": [],
   "source": [
    "# Table of Contents\n",
    " <p><div class=\"lev1\"><a href=\"# Step 1. Process data\"><span class=\"toc-item-num\">1&nbsp;&nbsp;</span>TODO: Following given notebooks in HW1, create table of contents here :) </a></div>\n",
    "\n",
    "This Jupyter extension might help. https://github.com/minrk/ipython_extensions"
   ]
  },
  {
   "cell_type": "markdown",
   "metadata": {},
   "source": [
    "# Homework 03 - Interactive Viz"
   ]
  },
  {
   "cell_type": "markdown",
   "metadata": {},
   "source": [
    "# Overview \n",
    "\n",
    "### Objective : Build a [Choropleth map](https://en.wikipedia.org/wiki/Choropleth_map) which shows intuitively how much grant money goes to each Swiss canton.\n",
    "\n",
    "##### What data do we have?\n",
    "\n",
    "The SNSF (Swiss National Science Foundation) has graciously provided the [P<sup>3</sup>](http://p3.snf.ch/) database, which contains data on research projects approved by the SNSF. We will just use the [Grants Data](http://p3.snf.ch/P3Export/P3_GrantExport.csv) (saved in `data/P3_GrantExport`) as this contains the grant amounts going to different universities.\n",
    "\n",
    "We are also given the file `data/ch-cantons.topojson.json`, which contains the geo-coordinates of each Swiss canton.\n",
    "\n",
    "##### What needs to be done?\n",
    "\n",
    "The Grants Data does not contain the Canton of the University/Institution that received the funding. Therefore, we will need to deduce the Canton from the University/Institution. Once this is accomplished, we can sum the grant money that was allocated to each Canton.\n",
    "\n",
    "##### How will this be done?\n",
    "\n",
    "We will use the following Python packages to accomplish our objective:\n",
    "1. `pandas` to import, clean, and wrangle the Grants Data\n",
    "2. `json` and `pprint` to read the `data/ch-cantons.topojson.json` file\n",
    "3. `requests` with the [GeoNames API](http://www.geonames.org/export/web-services.html) and `googlemaps` (a [Python wrapper](https://github.com/googlemaps/google-maps-services-python) for Google Maps API Web Services) to determine the Canton of a particular University/Institution\n",
    "4. `folium` to deal with the geographical data and create the Choropleth map"
   ]
  },
  {
   "cell_type": "markdown",
   "metadata": {},
   "source": [
    "# Building the Choropleth Map"
   ]
  },
  {
   "cell_type": "markdown",
   "metadata": {},
   "source": [
    "We start off by importing the Python packages mentioned above."
   ]
  },
  {
   "cell_type": "code",
   "execution_count": 1,
   "metadata": {
    "collapsed": false
   },
   "outputs": [],
   "source": [
    "import requests\n",
    "import folium\n",
    "import pandas as pd\n",
    "import numpy as np\n",
    "import json\n",
    "import random\n",
    "from pprint import pprint"
   ]
  },
  {
   "cell_type": "markdown",
   "metadata": {},
   "source": [
    "## 1. Importing the Data\n",
    "\n",
    "We downloaded the [Grants Data](http://p3.snf.ch/P3Export/P3_GrantExport.csv) and placed it in the local `data` folder."
   ]
  },
  {
   "cell_type": "code",
   "execution_count": 2,
   "metadata": {
    "collapsed": false
   },
   "outputs": [
    {
     "data": {
      "text/html": [
       "<div>\n",
       "<table border=\"1\" class=\"dataframe\">\n",
       "  <thead>\n",
       "    <tr style=\"text-align: right;\">\n",
       "      <th></th>\n",
       "      <th>﻿\"Project Number\"</th>\n",
       "      <th>Project Title</th>\n",
       "      <th>Project Title English</th>\n",
       "      <th>Responsible Applicant</th>\n",
       "      <th>Funding Instrument</th>\n",
       "      <th>Funding Instrument Hierarchy</th>\n",
       "      <th>Institution</th>\n",
       "      <th>University</th>\n",
       "      <th>Discipline Number</th>\n",
       "      <th>Discipline Name</th>\n",
       "      <th>Discipline Name Hierarchy</th>\n",
       "      <th>Start Date</th>\n",
       "      <th>End Date</th>\n",
       "      <th>Approved Amount</th>\n",
       "      <th>Keywords</th>\n",
       "    </tr>\n",
       "  </thead>\n",
       "  <tbody>\n",
       "    <tr>\n",
       "      <th>0</th>\n",
       "      <td>1</td>\n",
       "      <td>Schlussband (Bd. VI) der Jacob Burckhardt-Biog...</td>\n",
       "      <td>NaN</td>\n",
       "      <td>Kaegi Werner</td>\n",
       "      <td>Project funding (Div. I-III)</td>\n",
       "      <td>Project funding</td>\n",
       "      <td>NaN</td>\n",
       "      <td>Nicht zuteilbar - NA</td>\n",
       "      <td>10302</td>\n",
       "      <td>Swiss history</td>\n",
       "      <td>Human and Social Sciences;Theology &amp; religious...</td>\n",
       "      <td>01.10.1975</td>\n",
       "      <td>30.09.1976</td>\n",
       "      <td>11619.00</td>\n",
       "      <td>NaN</td>\n",
       "    </tr>\n",
       "    <tr>\n",
       "      <th>1</th>\n",
       "      <td>4</td>\n",
       "      <td>Batterie de tests à l'usage des enseignants po...</td>\n",
       "      <td>NaN</td>\n",
       "      <td>Massarenti Léonard</td>\n",
       "      <td>Project funding (Div. I-III)</td>\n",
       "      <td>Project funding</td>\n",
       "      <td>Faculté de Psychologie et des Sciences de l'Ed...</td>\n",
       "      <td>Université de Genève - GE</td>\n",
       "      <td>10104</td>\n",
       "      <td>Educational science and Pedagogy</td>\n",
       "      <td>Human and Social Sciences;Psychology, educatio...</td>\n",
       "      <td>01.10.1975</td>\n",
       "      <td>30.09.1976</td>\n",
       "      <td>41022.00</td>\n",
       "      <td>NaN</td>\n",
       "    </tr>\n",
       "    <tr>\n",
       "      <th>2</th>\n",
       "      <td>5</td>\n",
       "      <td>Kritische Erstausgabe der \"Evidentiae contra D...</td>\n",
       "      <td>NaN</td>\n",
       "      <td>Kommission für das Corpus philosophorum medii ...</td>\n",
       "      <td>Project funding (Div. I-III)</td>\n",
       "      <td>Project funding</td>\n",
       "      <td>Kommission für das Corpus philosophorum medii ...</td>\n",
       "      <td>NPO (Biblioth., Museen, Verwalt.) - NPO</td>\n",
       "      <td>10101</td>\n",
       "      <td>Philosophy</td>\n",
       "      <td>Human and Social Sciences;Linguistics and lite...</td>\n",
       "      <td>01.03.1976</td>\n",
       "      <td>28.02.1985</td>\n",
       "      <td>79732.00</td>\n",
       "      <td>NaN</td>\n",
       "    </tr>\n",
       "  </tbody>\n",
       "</table>\n",
       "</div>"
      ],
      "text/plain": [
       "   ﻿\"Project Number\"                                      Project Title  \\\n",
       "0                  1  Schlussband (Bd. VI) der Jacob Burckhardt-Biog...   \n",
       "1                  4  Batterie de tests à l'usage des enseignants po...   \n",
       "2                  5  Kritische Erstausgabe der \"Evidentiae contra D...   \n",
       "\n",
       "  Project Title English                              Responsible Applicant  \\\n",
       "0                   NaN                                       Kaegi Werner   \n",
       "1                   NaN                                 Massarenti Léonard   \n",
       "2                   NaN  Kommission für das Corpus philosophorum medii ...   \n",
       "\n",
       "             Funding Instrument Funding Instrument Hierarchy  \\\n",
       "0  Project funding (Div. I-III)              Project funding   \n",
       "1  Project funding (Div. I-III)              Project funding   \n",
       "2  Project funding (Div. I-III)              Project funding   \n",
       "\n",
       "                                         Institution  \\\n",
       "0                                                NaN   \n",
       "1  Faculté de Psychologie et des Sciences de l'Ed...   \n",
       "2  Kommission für das Corpus philosophorum medii ...   \n",
       "\n",
       "                                University  Discipline Number  \\\n",
       "0                     Nicht zuteilbar - NA              10302   \n",
       "1                Université de Genève - GE              10104   \n",
       "2  NPO (Biblioth., Museen, Verwalt.) - NPO              10101   \n",
       "\n",
       "                    Discipline Name  \\\n",
       "0                     Swiss history   \n",
       "1  Educational science and Pedagogy   \n",
       "2                        Philosophy   \n",
       "\n",
       "                           Discipline Name Hierarchy  Start Date    End Date  \\\n",
       "0  Human and Social Sciences;Theology & religious...  01.10.1975  30.09.1976   \n",
       "1  Human and Social Sciences;Psychology, educatio...  01.10.1975  30.09.1976   \n",
       "2  Human and Social Sciences;Linguistics and lite...  01.03.1976  28.02.1985   \n",
       "\n",
       "  Approved Amount Keywords  \n",
       "0        11619.00      NaN  \n",
       "1        41022.00      NaN  \n",
       "2        79732.00      NaN  "
      ]
     },
     "execution_count": 2,
     "metadata": {},
     "output_type": "execute_result"
    }
   ],
   "source": [
    "GRANTS_FILE = 'data/P3_GrantExport.csv'\n",
    "grants_data_orig = pd.read_csv(GRANTS_FILE, sep = ';')\n",
    "grants_data_orig.head(3)"
   ]
  },
  {
   "cell_type": "markdown",
   "metadata": {},
   "source": [
    "For our objective, we are interested in the following columns: \n",
    "\n",
    "* ** University **: the (possible) university proposing the project. As we see in the third row, a grant can be awarded to an NPO (Non-Profit Organization).\n",
    "* ** Institution **: the institution proposing the project.\n",
    "* ** Approved Amount **: amount of approved grants\n",
    "\n",
    "The Institution/University can be used to deduce the Swiss Canton. Finally, the Amount Approved will be used for our Choropleth map. Let's extract these columns to reduce the size of our DataFrame."
   ]
  },
  {
   "cell_type": "code",
   "execution_count": 3,
   "metadata": {
    "collapsed": false
   },
   "outputs": [
    {
     "data": {
      "text/html": [
       "<div>\n",
       "<table border=\"1\" class=\"dataframe\">\n",
       "  <thead>\n",
       "    <tr style=\"text-align: right;\">\n",
       "      <th></th>\n",
       "      <th>University</th>\n",
       "      <th>Institution</th>\n",
       "      <th>Approved Amount</th>\n",
       "    </tr>\n",
       "  </thead>\n",
       "  <tbody>\n",
       "    <tr>\n",
       "      <th>0</th>\n",
       "      <td>Nicht zuteilbar - NA</td>\n",
       "      <td>NaN</td>\n",
       "      <td>11619.00</td>\n",
       "    </tr>\n",
       "    <tr>\n",
       "      <th>1</th>\n",
       "      <td>Université de Genève - GE</td>\n",
       "      <td>Faculté de Psychologie et des Sciences de l'Ed...</td>\n",
       "      <td>41022.00</td>\n",
       "    </tr>\n",
       "    <tr>\n",
       "      <th>2</th>\n",
       "      <td>NPO (Biblioth., Museen, Verwalt.) - NPO</td>\n",
       "      <td>Kommission für das Corpus philosophorum medii ...</td>\n",
       "      <td>79732.00</td>\n",
       "    </tr>\n",
       "    <tr>\n",
       "      <th>3</th>\n",
       "      <td>Universität Basel - BS</td>\n",
       "      <td>Abt. Handschriften und Alte Drucke Bibliothek ...</td>\n",
       "      <td>52627.00</td>\n",
       "    </tr>\n",
       "    <tr>\n",
       "      <th>4</th>\n",
       "      <td>NPO (Biblioth., Museen, Verwalt.) - NPO</td>\n",
       "      <td>Schweiz. Thesauruskommission</td>\n",
       "      <td>120042.00</td>\n",
       "    </tr>\n",
       "  </tbody>\n",
       "</table>\n",
       "</div>"
      ],
      "text/plain": [
       "                                University  \\\n",
       "0                     Nicht zuteilbar - NA   \n",
       "1                Université de Genève - GE   \n",
       "2  NPO (Biblioth., Museen, Verwalt.) - NPO   \n",
       "3                   Universität Basel - BS   \n",
       "4  NPO (Biblioth., Museen, Verwalt.) - NPO   \n",
       "\n",
       "                                         Institution Approved Amount  \n",
       "0                                                NaN        11619.00  \n",
       "1  Faculté de Psychologie et des Sciences de l'Ed...        41022.00  \n",
       "2  Kommission für das Corpus philosophorum medii ...        79732.00  \n",
       "3  Abt. Handschriften und Alte Drucke Bibliothek ...        52627.00  \n",
       "4                       Schweiz. Thesauruskommission       120042.00  "
      ]
     },
     "execution_count": 3,
     "metadata": {},
     "output_type": "execute_result"
    }
   ],
   "source": [
    "grants_data_red = grants_data_orig[['University', 'Institution', 'Approved Amount']]\n",
    "grants_data_red.head()"
   ]
  },
  {
   "cell_type": "markdown",
   "metadata": {},
   "source": [
    "Finally, we will rename the \"Approved Amount\" column to \"Amount\" so that it can be easily accessed."
   ]
  },
  {
   "cell_type": "code",
   "execution_count": 4,
   "metadata": {
    "collapsed": false
   },
   "outputs": [
    {
     "name": "stderr",
     "output_type": "stream",
     "text": [
      "/home/ubuntu/anaconda2/envs/py3k/lib/python3.5/site-packages/pandas/core/frame.py:2754: SettingWithCopyWarning: \n",
      "A value is trying to be set on a copy of a slice from a DataFrame\n",
      "\n",
      "See the caveats in the documentation: http://pandas.pydata.org/pandas-docs/stable/indexing.html#indexing-view-versus-copy\n",
      "  **kwargs)\n"
     ]
    }
   ],
   "source": [
    "grants_data_red.rename(columns={'Approved Amount': 'Amount'}, inplace=True)"
   ]
  },
  {
   "cell_type": "markdown",
   "metadata": {},
   "source": [
    "## 2. Cleaning the Data"
   ]
  },
  {
   "cell_type": "markdown",
   "metadata": {},
   "source": [
    "### Cleaning \"Amount\""
   ]
  },
  {
   "cell_type": "markdown",
   "metadata": {},
   "source": [
    "Let's make sure the \"Amount\" has the correct variable type, i.e. numeric, and that entries with an invalid \"Amount\" are dropped."
   ]
  },
  {
   "cell_type": "code",
   "execution_count": 5,
   "metadata": {
    "collapsed": false
   },
   "outputs": [
    {
     "name": "stdout",
     "output_type": "stream",
     "text": [
      "(63969, 3)\n",
      "(53059, 3)\n"
     ]
    },
    {
     "name": "stderr",
     "output_type": "stream",
     "text": [
      "/home/ubuntu/anaconda2/envs/py3k/lib/python3.5/site-packages/pandas/core/generic.py:2701: SettingWithCopyWarning: \n",
      "A value is trying to be set on a copy of a slice from a DataFrame.\n",
      "Try using .loc[row_indexer,col_indexer] = value instead\n",
      "\n",
      "See the caveats in the documentation: http://pandas.pydata.org/pandas-docs/stable/indexing.html#indexing-view-versus-copy\n",
      "  self[name] = value\n"
     ]
    }
   ],
   "source": [
    "print(grants_data_red.shape)\n",
    "grants_clean_amount = grants_data_red\n",
    "grants_clean_amount.Amount = pd.to_numeric(grants_clean_amount.Amount, errors='coerce')\n",
    "grants_clean_amount = grants_data_red.dropna(subset=[\"Amount\"])\n",
    "print(grants_clean_amount.shape)"
   ]
  },
  {
   "cell_type": "markdown",
   "metadata": {},
   "source": [
    "We have dropped 10910 entries.\n",
    "\n",
    "### Cleaning \"University\" and \"Institution\"\n",
    "\n",
    "We only need one of these fields to be valid for each row in order to geolocate where the grant was awarded. So let's drop those rows that have invalid entries for **both** fields. Moreover, we have noticed that the \"University\" entries have the following structure:\n",
    "\n",
    "`LONG NAME - SHORT NAME`\n",
    "\n",
    "Furthermore, one of the entries is `Nicht zuteilbar - NA` which must be SNSF's way of indicating an invalid entry. We will first replace such entries with the standard entry for invalids - `NaN` - before dropping rows."
   ]
  },
  {
   "cell_type": "code",
   "execution_count": 7,
   "metadata": {
    "collapsed": false
   },
   "outputs": [
    {
     "name": "stdout",
     "output_type": "stream",
     "text": [
      "(53059, 3)\n",
      "(49823, 3)\n"
     ]
    }
   ],
   "source": [
    "print(grants_clean_amount.shape)\n",
    "grants_clean_place = grants_clean_amount.replace(to_replace=\"Nicht zuteilbar - NA\", value=np.nan)\n",
    "grants_clean_place.dropna(how='all',subset=[\"University\",\"Institution\"], inplace=True)\n",
    "print(grants_clean_place.shape)"
   ]
  },
  {
   "cell_type": "markdown",
   "metadata": {},
   "source": [
    "We have dropped 3236 entries. Almost done! We only one need either \"Univerisity\" or \"Institution\" for geolocation. For most entries the \"University\" should be enough. However, 1437 of the entries are not from Universities but rather Non-Profit Organizations (NPO). This count was determined by running:\n",
    "\n",
    "`grants_clean.University.value_counts()`\n",
    "\n",
    "So let's merge the \"University\" and \"Institution\" columns into a new column entitled \"Institute\" and keep the `LONG NAME` of the \"University\" entry unless it is \"NPO (Biblioth., Museen, Verwalt.) - NPO\". We also remove anything in the `LONG NAME` that has parenthesis. "
   ]
  },
  {
   "cell_type": "code",
   "execution_count": 8,
   "metadata": {
    "collapsed": false
   },
   "outputs": [
    {
     "data": {
      "text/html": [
       "<div>\n",
       "<table border=\"1\" class=\"dataframe\">\n",
       "  <thead>\n",
       "    <tr style=\"text-align: right;\">\n",
       "      <th></th>\n",
       "      <th>University</th>\n",
       "      <th>Institution</th>\n",
       "      <th>Amount</th>\n",
       "      <th>Institute</th>\n",
       "    </tr>\n",
       "  </thead>\n",
       "  <tbody>\n",
       "    <tr>\n",
       "      <th>1</th>\n",
       "      <td>Université de Genève - GE</td>\n",
       "      <td>Faculté de Psychologie et des Sciences de l'Ed...</td>\n",
       "      <td>41022.0</td>\n",
       "      <td>Université de Genève</td>\n",
       "    </tr>\n",
       "    <tr>\n",
       "      <th>2</th>\n",
       "      <td>NPO (Biblioth., Museen, Verwalt.) - NPO</td>\n",
       "      <td>Kommission für das Corpus philosophorum medii ...</td>\n",
       "      <td>79732.0</td>\n",
       "      <td>Kommission für das Corpus philosophorum medii ...</td>\n",
       "    </tr>\n",
       "    <tr>\n",
       "      <th>3</th>\n",
       "      <td>Universität Basel - BS</td>\n",
       "      <td>Abt. Handschriften und Alte Drucke Bibliothek ...</td>\n",
       "      <td>52627.0</td>\n",
       "      <td>Universität Basel</td>\n",
       "    </tr>\n",
       "    <tr>\n",
       "      <th>4</th>\n",
       "      <td>NPO (Biblioth., Museen, Verwalt.) - NPO</td>\n",
       "      <td>Schweiz. Thesauruskommission</td>\n",
       "      <td>120042.0</td>\n",
       "      <td>Schweiz. Thesauruskommission</td>\n",
       "    </tr>\n",
       "    <tr>\n",
       "      <th>5</th>\n",
       "      <td>Université de Fribourg - FR</td>\n",
       "      <td>Séminaire de politique économique, d'économie ...</td>\n",
       "      <td>53009.0</td>\n",
       "      <td>Université de Fribourg</td>\n",
       "    </tr>\n",
       "  </tbody>\n",
       "</table>\n",
       "</div>"
      ],
      "text/plain": [
       "                                University  \\\n",
       "1                Université de Genève - GE   \n",
       "2  NPO (Biblioth., Museen, Verwalt.) - NPO   \n",
       "3                   Universität Basel - BS   \n",
       "4  NPO (Biblioth., Museen, Verwalt.) - NPO   \n",
       "5              Université de Fribourg - FR   \n",
       "\n",
       "                                         Institution    Amount  \\\n",
       "1  Faculté de Psychologie et des Sciences de l'Ed...   41022.0   \n",
       "2  Kommission für das Corpus philosophorum medii ...   79732.0   \n",
       "3  Abt. Handschriften und Alte Drucke Bibliothek ...   52627.0   \n",
       "4                       Schweiz. Thesauruskommission  120042.0   \n",
       "5  Séminaire de politique économique, d'économie ...   53009.0   \n",
       "\n",
       "                                           Institute  \n",
       "1                              Université de Genève   \n",
       "2  Kommission für das Corpus philosophorum medii ...  \n",
       "3                                 Universität Basel   \n",
       "4                       Schweiz. Thesauruskommission  \n",
       "5                            Université de Fribourg   "
      ]
     },
     "execution_count": 8,
     "metadata": {},
     "output_type": "execute_result"
    }
   ],
   "source": [
    "def extract_long_name(entry):\n",
    "    split_entry = entry.replace(\"(\",\"-\").split(\"-\")\n",
    "    return split_entry[0]\n",
    "\n",
    "def set_institute(row): \n",
    "    if row[\"University\"] == \"NPO (Biblioth., Museen, Verwalt.) - NPO\":\n",
    "        return row[\"Institution\"]\n",
    "    else: \n",
    "        return extract_long_name(str(row[\"University\"]))\n",
    "\n",
    "grants_clean_place['Institute'] = grants_clean_place.apply(lambda row: set_institute(row), axis=1)\n",
    "grants_clean_place.head()"
   ]
  },
  {
   "cell_type": "markdown",
   "metadata": {},
   "source": [
    "Lastly, we need to drop those cases where \"University\" as an NPO but the \"Institution\" was missing/invalid."
   ]
  },
  {
   "cell_type": "code",
   "execution_count": 9,
   "metadata": {
    "collapsed": false
   },
   "outputs": [
    {
     "name": "stdout",
     "output_type": "stream",
     "text": [
      "(49823, 4)\n",
      "(49738, 4)\n"
     ]
    }
   ],
   "source": [
    "print(grants_clean_place.shape)\n",
    "grants_clean_place = grants_clean_place.dropna(subset=[\"Institute\"])\n",
    "print(grants_clean_place.shape)"
   ]
  },
  {
   "cell_type": "markdown",
   "metadata": {},
   "source": [
    "85 entries were dropped. Now let's extract the \"Institute\" and the \"Amount\" and this is what we will use for the rest of the exercise."
   ]
  },
  {
   "cell_type": "code",
   "execution_count": 10,
   "metadata": {
    "collapsed": false
   },
   "outputs": [
    {
     "data": {
      "text/html": [
       "<div>\n",
       "<table border=\"1\" class=\"dataframe\">\n",
       "  <thead>\n",
       "    <tr style=\"text-align: right;\">\n",
       "      <th></th>\n",
       "      <th>Institute</th>\n",
       "      <th>Amount</th>\n",
       "    </tr>\n",
       "  </thead>\n",
       "  <tbody>\n",
       "    <tr>\n",
       "      <th>1</th>\n",
       "      <td>Université de Genève</td>\n",
       "      <td>41022.0</td>\n",
       "    </tr>\n",
       "    <tr>\n",
       "      <th>2</th>\n",
       "      <td>Kommission für das Corpus philosophorum medii ...</td>\n",
       "      <td>79732.0</td>\n",
       "    </tr>\n",
       "    <tr>\n",
       "      <th>3</th>\n",
       "      <td>Universität Basel</td>\n",
       "      <td>52627.0</td>\n",
       "    </tr>\n",
       "    <tr>\n",
       "      <th>4</th>\n",
       "      <td>Schweiz. Thesauruskommission</td>\n",
       "      <td>120042.0</td>\n",
       "    </tr>\n",
       "    <tr>\n",
       "      <th>5</th>\n",
       "      <td>Université de Fribourg</td>\n",
       "      <td>53009.0</td>\n",
       "    </tr>\n",
       "  </tbody>\n",
       "</table>\n",
       "</div>"
      ],
      "text/plain": [
       "                                           Institute    Amount\n",
       "1                              Université de Genève    41022.0\n",
       "2  Kommission für das Corpus philosophorum medii ...   79732.0\n",
       "3                                 Universität Basel    52627.0\n",
       "4                       Schweiz. Thesauruskommission  120042.0\n",
       "5                            Université de Fribourg    53009.0"
      ]
     },
     "execution_count": 10,
     "metadata": {},
     "output_type": "execute_result"
    }
   ],
   "source": [
    "grants_clean = grants_clean_place[['Institute', 'Amount']]\n",
    "grants_clean.head()"
   ]
  },
  {
   "cell_type": "markdown",
   "metadata": {},
   "source": [
    "### Summary\n",
    "\n",
    "We have gone from 63696 entries to 49738 by dropping invalid \"Amount\" and \"University\" or \"Institution\" entries. We then created a single \"Institute\" column as this will be sufficient for geolocation."
   ]
  },
  {
   "cell_type": "markdown",
   "metadata": {},
   "source": [
    "## 3. Reading the Canton Data"
   ]
  },
  {
   "cell_type": "markdown",
   "metadata": {},
   "source": [
    "Now we obtain the abbrevations for all cantons from the geographical JSON data in `data/ch-cantons.topojson.json`. We did some inspection of the structure of the JSON file (using pprint) and extracted the canton abbrevations by navigating appropriately through the JSON data structure."
   ]
  },
  {
   "cell_type": "code",
   "execution_count": 11,
   "metadata": {
    "collapsed": false
   },
   "outputs": [
    {
     "name": "stdout",
     "output_type": "stream",
     "text": [
      "['ZH', 'BE', 'LU', 'UR', 'SZ', 'OW', 'NW', 'GL', 'ZG', 'FR', 'SO', 'BS', 'BL', 'SH', 'AR', 'AI', 'SG', 'GR', 'AG', 'TG', 'TI', 'VD', 'VS', 'NE', 'GE', 'JU']\n"
     ]
    }
   ],
   "source": [
    "CH_GEO_JSON = 'data/ch-cantons.topojson.json'\n",
    "\n",
    "with open(CH_GEO_JSON, 'r') as f:\n",
    "    canton_data = json.load(f)\n",
    "\n",
    "cantons = canton_data['objects']['cantons']['geometries']\n",
    "canton_ids = []\n",
    "for canton in cantons:\n",
    "    canton_ids.append(canton['id'])\n",
    "\n",
    "print(canton_ids)\n",
    "#pprint(canton_data)"
   ]
  },
  {
   "cell_type": "markdown",
   "metadata": {},
   "source": [
    "## 4. Mapping \"Institute\" to a Canton"
   ]
  },
  {
   "cell_type": "markdown",
   "metadata": {},
   "source": [
    "To compute grants by canton, we need to find the corresponding Canton for a particular \"Institute\".\n",
    "\n",
    "We will first use the **Geonames API** as this was suggested by the assignment but then revert to the results of the **GoogleMaps API** as the latter is able to map more of the \"Institutes\". \n",
    "\n",
    "### Geonames API"
   ]
  },
  {
   "cell_type": "code",
   "execution_count": null,
   "metadata": {
    "collapsed": false
   },
   "outputs": [],
   "source": [
    "uni_canton = pd.DataFrame(columns=['University','Canton'])"
   ]
  },
  {
   "cell_type": "code",
   "execution_count": null,
   "metadata": {
    "collapsed": true
   },
   "outputs": [],
   "source": [
    "def canton_in_CH(result):\n",
    "    for i in range(len(result)):\n",
    "        if(result['geonames'][i]['countryName']=='Switzerland'):\n",
    "            return True\n",
    "    return False"
   ]
  },
  {
   "cell_type": "code",
   "execution_count": null,
   "metadata": {
    "collapsed": true
   },
   "outputs": [],
   "source": [
    "URL = 'http://api.geonames.org/searchJSON?'\n",
    "\n",
    "def canton_get(uni):\n",
    "    paraload = {'q':uni,'username':'shiyuenie'}\n",
    "    r = requests.get(URL, params=paraload)\n",
    "    result = r.json()\n",
    "    return result"
   ]
  },
  {
   "cell_type": "code",
   "execution_count": null,
   "metadata": {
    "collapsed": false
   },
   "outputs": [],
   "source": [
    "institutes = grants_clean.Institute.unique()"
   ]
  },
  {
   "cell_type": "code",
   "execution_count": null,
   "metadata": {
    "collapsed": false
   },
   "outputs": [],
   "source": [
    "for ucount in range(len(institutes)): # search full name\n",
    "    uni = institutes[0][ucount]\n",
    "    result = canton_get(uni)\n",
    "    if (result['geonames'] != []):\n",
    "        if (canton_in_CH(result)):\n",
    "            uni_canton.loc[ucount] = [uni,result['geonames'][0]['adminName1']]\n",
    "        else:\n",
    "            uni_canton.loc[ucount] = [uni,'Not Found']   \n",
    "    else:\n",
    "        uni_canton.loc[ucount] = [uni,'Not Found']\n",
    "    \n",
    "uni_canton.head()"
   ]
  },
  {
   "cell_type": "code",
   "execution_count": null,
   "metadata": {
    "collapsed": false
   },
   "outputs": [],
   "source": [
    "#uni_name=uni_name.replace({r'\\s+': '&'}, regex=True)\n",
    "\n",
    "for ucount in range(len(uni_name)):\n",
    "    if (uni_canton.loc[:,'Canton'][ucount] == 'Not Found'): # search with seperate parts\n",
    "        uni_full = uni_name['Full Name'][ucount] \n",
    "        uni_short = uni_name['Short Name'][ucount] \n",
    "        result = canton_get(uni_full) # search part 1\n",
    "        if (result['geonames'] != []):\n",
    "            if(canton_in_CH(result)):\n",
    "                uni_canton.loc[ucount] = [uni,result['geonames'][0]['adminName1']]\n",
    "            else:\n",
    "                result = canton_get(uni_short) # search part 2 \n",
    "                if (result['geonames'] != []):\n",
    "                    if(canton_in_CH(result)):\n",
    "                        uni_canton.loc[ucount] = [uni,result['geonames'][0]['adminName1']]\n",
    "        \n",
    "uni_canton.head()"
   ]
  },
  {
   "cell_type": "code",
   "execution_count": null,
   "metadata": {
    "collapsed": false,
    "scrolled": true
   },
   "outputs": [],
   "source": [
    "uni_canton[uni_canton['Canton'] != \"Not Found\"]\n",
    "\n",
    "for ucount in range(len(uni_test)): # search full name wit &\n",
    "    uni = uni_test[0][ucount]\n",
    "    result = canton_get(uni)\n",
    "    if (result['geonames'] != []):\n",
    "        if (canton_in_CH(result)):\n",
    "            uni_canton.loc[ucount] = [uni,result['geonames'][0]['adminName1']]\n",
    "    \n",
    "uni_canton.head()"
   ]
  },
  {
   "cell_type": "code",
   "execution_count": null,
   "metadata": {
    "collapsed": false
   },
   "outputs": [],
   "source": [
    "np.sum(uni_canton.loc[:,'Canton']=='Not Found')"
   ]
  },
  {
   "cell_type": "code",
   "execution_count": null,
   "metadata": {
    "collapsed": false,
    "scrolled": true
   },
   "outputs": [],
   "source": [
    "uni_canton[uni_canton['Canton'] != \"Not Found\"]"
   ]
  },
  {
   "cell_type": "code",
   "execution_count": null,
   "metadata": {
    "collapsed": false
   },
   "outputs": [],
   "source": [
    "np.sum(uni_canton.loc[:,'Canton']!='Not Found')"
   ]
  },
  {
   "cell_type": "markdown",
   "metadata": {},
   "source": [
    "## GoogleMaps API\n",
    "\n",
    "We use a Python [API wrapper](https://github.com/googlemaps/google-maps-services-python) for GoogleMaps"
   ]
  },
  {
   "cell_type": "code",
   "execution_count": 12,
   "metadata": {
    "collapsed": false
   },
   "outputs": [
    {
     "name": "stdout",
     "output_type": "stream",
     "text": [
      "Collecting googlemaps\n",
      "  Downloading googlemaps-2.4.4.tar.gz\n",
      "Collecting requests<=2.10.0 (from googlemaps)\n",
      "  Downloading requests-2.10.0-py2.py3-none-any.whl (506kB)\n",
      "\u001b[K    100% |████████████████████████████████| 512kB 2.1MB/s \n",
      "\u001b[?25hBuilding wheels for collected packages: googlemaps\n",
      "  Running setup.py bdist_wheel for googlemaps ... \u001b[?25l-\b \bdone\n",
      "\u001b[?25h  Stored in directory: /home/ubuntu/.cache/pip/wheels/9a/f9/21/1f17a586dc434abde2935f3d24ecd3b850f46fbff885eac0c6\n",
      "Successfully built googlemaps\n",
      "Installing collected packages: requests, googlemaps\n",
      "  Found existing installation: requests 2.11.1\n",
      "    Uninstalling requests-2.11.1:\n",
      "      Successfully uninstalled requests-2.11.1\n",
      "Successfully installed googlemaps-2.4.4 requests-2.10.0\n"
     ]
    }
   ],
   "source": [
    "# to install the wrapper: !pip install -U googlemaps"
   ]
  },
  {
   "cell_type": "code",
   "execution_count": 15,
   "metadata": {
    "collapsed": false
   },
   "outputs": [],
   "source": [
    "import googlemaps\n",
    "\n",
    "# Key omitted due to security concerns on Github\n",
    "key = #% env GOOGLE_MAPS_KEY\n",
    "#########################'\n",
    "\n",
    "gmaps = googlemaps.Client(key=key)"
   ]
  },
  {
   "cell_type": "code",
   "execution_count": 16,
   "metadata": {
    "collapsed": false
   },
   "outputs": [
    {
     "data": {
      "text/plain": [
       "[{'address_components': [{'long_name': 'EPFL',\n",
       "    'short_name': 'EPFL',\n",
       "    'types': ['premise']},\n",
       "   {'long_name': 'Lausanne',\n",
       "    'short_name': 'Lausanne',\n",
       "    'types': ['locality', 'political']},\n",
       "   {'long_name': 'Ouest lausannois',\n",
       "    'short_name': 'Ouest lausannois',\n",
       "    'types': ['administrative_area_level_2', 'political']},\n",
       "   {'long_name': 'Vaud',\n",
       "    'short_name': 'VD',\n",
       "    'types': ['administrative_area_level_1', 'political']},\n",
       "   {'long_name': 'Switzerland',\n",
       "    'short_name': 'CH',\n",
       "    'types': ['country', 'political']},\n",
       "   {'long_name': '1015', 'short_name': '1015', 'types': ['postal_code']}],\n",
       "  'formatted_address': 'EPFL, 1015 Lausanne, Switzerland',\n",
       "  'geometry': {'location': {'lat': 46.5189865, 'lng': 6.5676007},\n",
       "   'location_type': 'ROOFTOP',\n",
       "   'viewport': {'northeast': {'lat': 46.52033548029151,\n",
       "     'lng': 6.568949680291502},\n",
       "    'southwest': {'lat': 46.51763751970851, 'lng': 6.566251719708498}}},\n",
       "  'place_id': 'ChIJ4zm3ev4wjEcRShTLf2C0UWA',\n",
       "  'types': ['premise']}]"
      ]
     },
     "execution_count": 16,
     "metadata": {},
     "output_type": "execute_result"
    }
   ],
   "source": [
    "# We try a sample search to obtain the structure of reply\n",
    "test_epfl = gmaps.geocode('EPFL Switzerland')\n",
    "test_epfl"
   ]
  },
  {
   "cell_type": "markdown",
   "metadata": {
    "collapsed": false
   },
   "source": [
    "We notice that canton information is returned in 'administrative_area_level_1' field. long_name gives the full name of the canton, short_name gives the abbrevation, the same as the id used in geometry json file."
   ]
  },
  {
   "cell_type": "code",
   "execution_count": 17,
   "metadata": {
    "collapsed": false
   },
   "outputs": [
    {
     "data": {
      "text/plain": [
       "'VD'"
      ]
     },
     "execution_count": 17,
     "metadata": {},
     "output_type": "execute_result"
    }
   ],
   "source": [
    "CANTON_TYPE_KEY = 'administrative_area_level_1'\n",
    "    \n",
    "def place_in_CH(place_info):\n",
    "    for info_dict in place_info['address_components']:\n",
    "        if info_dict['long_name'] == 'Switzerland':\n",
    "            return True\n",
    "    return False\n",
    "\n",
    "def parse_canton(place_candidates):\n",
    "    if (place_candidates == None or len(place_candidates) == 0):\n",
    "        return None\n",
    "    \n",
    "    for place in place_candidates:\n",
    "        if not place_in_CH(place):\n",
    "            continue\n",
    "        for info_dict in place['address_components']:\n",
    "            if (CANTON_TYPE_KEY in info_dict['types']) and (info_dict['short_name'] in canton_ids):\n",
    "                return info_dict['short_name']\n",
    "    \n",
    "    return None    \n",
    "\n",
    "parse_canton(test_epfl)"
   ]
  },
  {
   "cell_type": "code",
   "execution_count": 2,
   "metadata": {
    "collapsed": false
   },
   "outputs": [
    {
     "ename": "NameError",
     "evalue": "name 'grants_clean_place' is not defined",
     "output_type": "error",
     "traceback": [
      "\u001b[0;31m---------------------------------------------------------------------------\u001b[0m",
      "\u001b[0;31mNameError\u001b[0m                                 Traceback (most recent call last)",
      "\u001b[0;32m<ipython-input-2-76748fc97e7f>\u001b[0m in \u001b[0;36m<module>\u001b[0;34m()\u001b[0m\n\u001b[1;32m      1\u001b[0m \u001b[0mcnt_found\u001b[0m \u001b[0;34m=\u001b[0m \u001b[0;36m0\u001b[0m\u001b[0;34m\u001b[0m\u001b[0m\n\u001b[1;32m      2\u001b[0m \u001b[0mcnt_unfound\u001b[0m \u001b[0;34m=\u001b[0m \u001b[0;36m0\u001b[0m\u001b[0;34m\u001b[0m\u001b[0m\n\u001b[0;32m----> 3\u001b[0;31m \u001b[0;32mfor\u001b[0m \u001b[0minst\u001b[0m \u001b[0;32min\u001b[0m \u001b[0mgrants_clean_place\u001b[0m\u001b[0;34m.\u001b[0m\u001b[0mInstitute\u001b[0m\u001b[0;34m:\u001b[0m\u001b[0;34m\u001b[0m\u001b[0m\n\u001b[0m\u001b[1;32m      4\u001b[0m     \u001b[0;32mif\u001b[0m \u001b[0minst\u001b[0m \u001b[0;32min\u001b[0m \u001b[0minst_canton_dic\u001b[0m\u001b[0;34m:\u001b[0m\u001b[0;34m\u001b[0m\u001b[0m\n\u001b[1;32m      5\u001b[0m         \u001b[0mcnt_found\u001b[0m \u001b[0;34m+=\u001b[0m \u001b[0;36m1\u001b[0m\u001b[0;34m\u001b[0m\u001b[0m\n",
      "\u001b[0;31mNameError\u001b[0m: name 'grants_clean_place' is not defined"
     ]
    }
   ],
   "source": [
    "cnt_found = 0\n",
    "cnt_unfound = 0\n",
    "for inst in grants_clean_place.Institute:\n",
    "    if inst in inst_canton_dic:\n",
    "        cnt_found += 1\n",
    "    else:\n",
    "        cnt_unfound += 1\n",
    "print(cnt_found)\n",
    "print(cnt_unfound)"
   ]
  },
  {
   "cell_type": "code",
   "execution_count": null,
   "metadata": {
    "collapsed": true
   },
   "outputs": [],
   "source": [
    "def construct_search_keys(university, institution):\n",
    "    \n",
    "    def keys_with(x):\n",
    "        keys = []\n",
    "        keys.append(x)\n",
    "        keys.append(x + ', Switzerland')\n",
    "        keys.append(x + ', CH')\n",
    "        return keys\n",
    "    \n",
    "    uni_full_name, uni_short_name = university.rsplit('-',1)\n",
    "\n",
    "    keys = []   \n",
    "    keys += keys_with(university)\n",
    "    keys += keys_with(uni_full_name)\n",
    "    \n",
    "    if institution != None:\n",
    "        keys += keys_with(str(institution))\n",
    "    if uni_short_name != None:\n",
    "        keys += keys_with(uni_short_name)\n",
    "    return keys "
   ]
  },
  {
   "cell_type": "code",
   "execution_count": 18,
   "metadata": {
    "collapsed": true
   },
   "outputs": [],
   "source": [
    "def search_canton(keys):\n",
    "    for key in keys:\n",
    "        resp = gmaps.geocode(key)\n",
    "        canton = parse_canton(resp)\n",
    "        if canton != None:\n",
    "            return canton\n",
    "    return None"
   ]
  },
  {
   "cell_type": "code",
   "execution_count": 21,
   "metadata": {
    "collapsed": false
   },
   "outputs": [
    {
     "name": "stdout",
     "output_type": "stream",
     "text": [
      "Université de Genève  GE\n",
      "Kommission für das Corpus philosophorum medii aevi der SGG None\n",
      "Universität Basel  BS\n",
      "Schweiz. Thesauruskommission None\n",
      "Université de Fribourg  FR\n",
      "Université de Fribourg  FR\n",
      "Universität Zürich  ZH\n",
      "Université de Lausanne  VD\n",
      "Université de Genève  GE\n",
      "Université de Fribourg  FR\n",
      "Schweizerische Rechtsquellen c/o Universität Zürich / RWI None\n",
      "Université de Genève  GE\n",
      "Universität Basel  BS\n",
      "Universität Zürich  ZH\n",
      "Université de Fribourg  FR\n",
      "Université de Genève  GE\n",
      "Universität Zürich  ZH\n",
      "Université de Lausanne  VD\n",
      "Université de Genève  GE\n",
      "Universität Bern  BE\n",
      "Universität Zürich  ZH\n",
      "Université de Genève  GE\n",
      "Schweizerische Gesellschaft für Volkskunde None\n",
      "Kuratorium Carl J. Burckhardt None\n",
      "Universität Zürich  ZH\n",
      "Eidg. Forschungsanstalt für Wald,Schnee,Land  None\n",
      "Schweizerisches Nationalmuseum Landesmuseum Zürich ZH\n",
      "Fondation Hardt pour l'étude de l'Antiquité classique None\n",
      "Universität Basel  BS\n",
      "Historische und Antiquarische Gesellschaft zu Basel BS\n",
      "Université de Genève  GE\n",
      "Schweizerisches Institut für Volkskunde (SIV) None\n",
      "Bibliothèque de Genève Département des périodiques None\n",
      "Université de Neuchâtel  None\n",
      "Université de Genève  GE\n",
      "Université de Genève  GE\n",
      "Université de Fribourg  FR\n",
      "Universität Bern  BE\n",
      "Universität Zürich  ZH\n",
      "Universität Basel  BS\n",
      "Universität Basel  BS\n",
      "ETH Zürich  ZH\n",
      "Universität Basel  BS\n",
      "Université de Genève  GE\n",
      "Université de Lausanne  VD\n",
      "Kommission zur Herausgabe der Basler Rektoratsmatrikel None\n",
      "Université de Neuchâtel  None\n",
      "Collège secondaire de Béthusy None\n",
      "Université de Genève  GE\n",
      "Inst. de Hautes Etudes Internat. et du Dév  None\n",
      "Université de Lausanne  VD\n",
      "Forum Ost-West None\n",
      "Universität Bern  BE\n",
      "Université de Genève  GE\n",
      "Université de Fribourg  FR\n",
      "AGGS Staatsarchiv None\n",
      "Université de Neuchâtel  None\n",
      "Universität Bern  BE\n",
      "AGGS Staatsarchiv None\n",
      "Universität Zürich  ZH\n",
      "Université de Fribourg  FR\n",
      "Schweizerischer Juristenverein None\n",
      "Université de Genève  GE\n",
      "Université de Genève  GE\n",
      "Université de Fribourg  FR\n",
      "Universität Zürich  ZH\n",
      "Antikenmuseum None\n",
      "ETH Zürich  ZH\n",
      "Stiftung \"Pro Innerrhoden\" None\n",
      "Universität Zürich  ZH\n",
      "ETH Zürich  ZH\n",
      "Inst. de Hautes Etudes Internat. et du Dév  None\n",
      "Universität Bern  BE\n",
      "Universität Bern  BE\n",
      "Universität St. Gallen  SG\n",
      "Weitere Institute  None\n",
      "Weitere Institute  None\n",
      "Universität Zürich  ZH\n",
      "Universität Zürich  ZH\n",
      "Schweiz. Osteuropabibliothek None\n",
      "Universität St. Gallen  SG\n",
      "Firmen/Privatwirtschaft  None\n",
      "Universität Zürich  ZH\n",
      "Universität Zürich  ZH\n",
      "Universität Zürich  ZH\n",
      "ETH Zürich  ZH\n",
      "Fondation pour le LIMC None\n",
      "Stift. Pro Kloster St. Johann in Müstair GR\n",
      "Université de Genève  GE\n",
      "Schweizerische Nationalbibliothek None\n",
      "Université de Genève  GE\n",
      "Université de Lausanne  VD\n",
      "Universität Basel  BS\n",
      "Universität Zürich  ZH\n",
      "Universität Bern  BE\n",
      "AGGS Staatsarchiv None\n",
      "Universität Basel  BS\n",
      "Universität Bern  BE\n",
      "Université de Neuchâtel  None\n",
      "Kommission für klassische und orientalische Archäologie Archäologisches Seminar None\n",
      "Universität Bern  BE\n",
      "Büro für Archäologie der Stadt Zürich ZH\n",
      "Universität St. Gallen  SG\n",
      "Universität Zürich  ZH\n",
      "Universität Bern  BE\n",
      "Université de Lausanne  VD\n",
      "Museum der Kulturen None\n",
      "Université de Neuchâtel  None\n",
      "Université de Fribourg  FR\n",
      "Université de Genève  GE\n",
      "Universität Bern  BE\n",
      "Universität Zürich  ZH\n",
      "Fondation pour le LIMC None\n",
      "Université de Fribourg  FR\n",
      "Université de Neuchâtel  None\n",
      "Kantonsschule Sargans SG\n",
      "Sprachatlas der deutschen Schweiz None\n",
      "Université de Fribourg  FR\n",
      "Université de Fribourg  FR\n",
      "Gesellschaft für Schweizerische Kunstgeschichte None\n",
      "Schweizerische Gesellschaft für Volkskunde None\n",
      "Staatsarchiv None\n",
      "Inst. de Hautes Etudes Internat. et du Dév  None\n",
      "Pädagogische Hochschule Graubünden  GR\n",
      "Universität Zürich  ZH\n",
      "Université de Genève  GE\n",
      "Universität Basel  BS\n",
      "Université de Lausanne  VD\n",
      "Université de Fribourg  FR\n",
      "Schweizerische Gesellschaft für Geschichte Generalsekretariat None\n",
      "Bibliotheque militaire fédérale None\n",
      "Université de Genève  GE\n",
      "Kuratorium der Helvetia Sacra c/o Staatsarchiv Basel BS\n",
      "Université de Neuchâtel  None\n",
      "Universität Bern  BE\n",
      "Université de Genève  GE\n",
      "Universität Bern  BE\n",
      "Universität Bern  BE\n",
      "Université de Genève  GE\n",
      "Université de Genève  GE\n",
      "Archäologie und Kantonsmuseum Kanton Basel-Landschaft Regierungsgebäude None\n",
      "Universität Bern  BE\n",
      "Universität St. Gallen  SG\n",
      "Universität St. Gallen  SG\n",
      "Inst. de Hautes Etudes Internat. et du Dév  None\n",
      "Université de Genève  GE\n",
      "Université de Genève  GE\n",
      "Université de Neuchâtel  None\n",
      "Universität St. Gallen  SG\n",
      "Commission administrative du GPSR None\n",
      "Université de Fribourg  FR\n",
      "Université de Genève  GE\n",
      "Kuratorium Urner Namenbuch None\n",
      "Université de Fribourg  FR\n",
      "Universität Bern  BE\n",
      "Universität Bern  BE\n",
      "EPF Lausanne  VD\n",
      "Université de Fribourg  FR\n",
      "Université de Neuchâtel  None\n",
      "Universität St. Gallen  SG\n",
      "Commission nationale pour la publication des DDS None\n",
      "Université de Genève  GE\n",
      "nan GR\n",
      "Site et Musée romains Fondation Pro Aventico Casa postale 237 None\n",
      "Universität St. Gallen  SG\n",
      "Université de Neuchâtel  None\n",
      "Universität Zürich  ZH\n",
      "Université de Genève  GE\n",
      "Université de Genève  GE\n",
      "Universität Zürich  ZH\n",
      "Université de Fribourg  FR\n",
      "Universität Bern  BE\n",
      "ETH Zürich  ZH\n",
      "Universität Basel  BS\n",
      "Université de Genève  GE\n",
      "Université de Lausanne  VD\n",
      "Université de Genève  GE\n",
      "Université de Fribourg  FR\n",
      "Universität Bern  BE\n",
      "Universität St. Gallen  SG\n",
      "Universität Zürich  ZH\n",
      "Universität Bern  BE\n",
      "Universität Bern  BE\n",
      "Universität Bern  BE\n",
      "Universität St. Gallen  SG\n",
      "Stadtarchiv Vadiana None\n",
      "Pädagogische Hochschule Zürich  ZH\n",
      "Universität St. Gallen  SG\n",
      "Universität Basel  BS\n",
      "Université de Lausanne  VD\n",
      "Universität St. Gallen  SG\n",
      "Université de Genève  GE\n",
      "Universität Zürich  ZH\n",
      "Archäologische Bodenforschung des Kantons Basel-Stadt BS\n",
      "Universität Zürich  ZH\n",
      "Universität Zürich  ZH\n",
      "Universität Zürich  ZH\n",
      "Societa Retorumantscha Dicziunari Rumantsch Grischun None\n",
      "Commissione scientifica del VDSI None\n",
      "Redaktion des Schweizerdeutschen Wörterbuchs None\n",
      "Commission administrative du GPSR None\n",
      "Inst. de Hautes Etudes Internat. et du Dév  None\n",
      "Universität Basel  BS\n",
      "Kantonsschule am Burggraben Rektorat None\n",
      "Université de Fribourg  FR\n",
      "Inst. de Hautes Etudes Internat. et du Dév  None\n",
      "Université de Genève  GE\n",
      "Universität Bern  BE\n",
      "Université de Lausanne  VD\n",
      "Karl-Jaspers-Stiftung None\n",
      "Université de Lausanne  VD\n",
      "Universität St. Gallen  SG\n",
      "Département des travaux publics du Canton de Vaud VD\n",
      "Université de Neuchâtel  None\n",
      "Ecole Suisse d'archéologie en Grèce  Univ. de Lausanne VD\n",
      "Kommission für das Mittellateinische Wörterbuch der SAGW None\n",
      "Universität Bern  BE\n",
      "Kommission des Phonogrammarchivs Universität Zürich ZH\n",
      "Université de Fribourg  FR\n",
      "Bibliothèque de Genève Département des périodiques None\n",
      "Université de Lausanne  VD\n",
      "Universität Zürich  ZH\n",
      "CESSRIVE Bibliothèque None\n",
      "Fondation Hardt pour l'étude de l'Antiquité classique None\n",
      "Université de Lausanne  VD\n",
      "Staatsarchiv None\n",
      "Universität St. Gallen  SG\n",
      "Universität Zürich  ZH\n",
      "Universität Basel  BS\n",
      "Staatsarchiv Uri UR\n",
      "Universität St. Gallen  SG\n",
      "Université de Lausanne  VD\n",
      "Université de Fribourg  FR\n",
      "Universität St. Gallen  SG\n",
      "Tschudi-Kommission der AGGS Staatsarchiv Zürich ZH\n",
      "Université de Genève  GE\n",
      "Firmen/Privatwirtschaft  None\n",
      "Université de Genève  GE\n",
      "Universität Basel  BS\n",
      "Schweizerische Gesellschaft für Volkskunde None\n",
      "Université de Genève  GE\n",
      "Universität Zürich  ZH\n",
      "Universität St. Gallen  SG\n",
      "Universität Zürich  ZH\n",
      "Université de Genève  GE\n",
      "Universität Zürich  ZH\n",
      "Université de Genève  GE\n",
      "Université de Lausanne  VD\n",
      "Université de Fribourg  FR\n",
      "Zwingliverein Schweiz. Landesmuseum None\n",
      "Université de Fribourg  FR\n",
      "Basler Denkmalpflege Museum kleines Klingental None\n",
      "Commission nationale pour la publication des DDS None\n",
      "Université de Fribourg  FR\n",
      "Université de Genève  GE\n",
      "Université de Lausanne  VD\n",
      "Commission nationale pour la publication des DDS None\n",
      "Université de Genève  GE\n",
      "Universität Bern  BE\n",
      "Université de Genève  GE\n",
      "Schweizerische Musikforschende Gesellschaft None\n",
      "Université de Fribourg  FR\n",
      "Universität St. Gallen  SG\n",
      "Université de Fribourg  FR\n",
      "Universität Zürich  ZH\n",
      "Universität Zürich  ZH\n",
      "Université de Fribourg  FR\n",
      "Universität Bern  BE\n",
      "Université de Genève  GE\n",
      "Bernisches Historisches Museum None\n",
      "Université de Genève  GE\n",
      "Universität Luzern  LU\n",
      "Universität Bern  BE\n",
      "Inst. de Hautes Etudes Internat. et du Dév  None\n",
      "Schweiz. Thesauruskommission None\n",
      "Université de Genève  GE\n",
      "ETH Zürich  ZH\n",
      "Universität Zürich  ZH\n",
      "Universität Zürich  ZH\n",
      "Universität Zürich  ZH\n",
      "Inst. de Hautes Etudes Internat. et du Dév  None\n",
      "Universität Zürich  ZH\n",
      "AGGS Staatsarchiv None\n",
      "Universität Basel  BS\n",
      "Association Pro Lousonna Musée cantonal d'Archéologie et d'Histoire None\n",
      "Karl Barth-Archiv None\n",
      "Kuratorium Carl J. Burckhardt None\n",
      "Universität Basel  BS\n",
      "Universität Zürich  ZH\n",
      "Commission nationale pour la publication des DDS None\n",
      "Université de Genève  GE\n",
      "Universität Zürich  ZH\n",
      "Universität Basel  BS\n",
      "Schweizerische Gesellschaft für Theaterkultur None\n",
      "Universität St. Gallen  SG\n",
      "Französisches Etymologisches Wörterbuch None\n",
      "Universität Zürich  ZH\n",
      "Commission nationale pour la publication des DDS None\n",
      "Schweizerisches Institut für Volkskunde (SIV) None\n",
      "AGGS Staatsarchiv None\n",
      "Kuratorium für das Corpus der römischen Meilensteine None\n",
      "Université de Genève  GE\n",
      "Commission nationale pour la publication des DDS None\n",
      "Universität Zürich  ZH\n",
      "Universität Zürich  ZH\n",
      "Universität Zürich  ZH\n",
      "Universität Basel  BS\n",
      "Kuratorium Musikinstrumente der Schweiz None\n",
      "Universität Basel  BS\n",
      "Universität Basel  BS\n",
      "Université de Lausanne  VD\n",
      "Université de Fribourg  FR\n",
      "Universität Bern  BE\n",
      "Universität Bern  BE\n",
      "Universität Zürich  ZH\n",
      "EPF Lausanne  VD\n",
      "Commission nationale pour la publication des DDS None\n",
      "Université de Lausanne  VD\n",
      "Universität Zürich  ZH\n",
      "Societa Retorumantscha Dicziunari Rumantsch Grischun None\n",
      "Commissione scientifica del VDSI None\n",
      "Redaktion des Schweizerdeutschen Wörterbuchs None\n",
      "Commission administrative du GPSR None\n",
      "Universität Luzern  LU\n",
      "Universität Basel  BS\n",
      "Université de Fribourg  FR\n",
      "Universität Bern  BE\n",
      "ETH Zürich  ZH\n",
      "Université de Lausanne  VD\n",
      "Universität St. Gallen  SG\n",
      "Université de Fribourg  FR\n",
      "Université de Genève  GE\n",
      "Ecole Suisse d'archéologie en Grèce  Univ. de Lausanne VD\n",
      "Universität Bern  BE\n",
      "Université de Fribourg  FR\n",
      "Universität St. Gallen  SG\n",
      "Université de Lausanne  VD\n",
      "Université de Lausanne  VD\n",
      "Université de Fribourg  FR\n",
      "Universität Zürich  ZH\n",
      "Archives d'Etat de Genève GE\n",
      "Universität Zürich  ZH\n",
      "Université de Fribourg  FR\n",
      "Universität Zürich  ZH\n",
      "Université de Genève  GE\n",
      "Université de Fribourg  FR\n",
      "Universität Bern  BE\n",
      "Université de Fribourg  FR\n",
      "Universität Zürich  ZH\n"
     ]
    },
    {
     "ename": "KeyboardInterrupt",
     "evalue": "",
     "output_type": "error",
     "traceback": [
      "\u001b[0;31m---------------------------------------------------------------------------\u001b[0m",
      "\u001b[0;31mKeyboardInterrupt\u001b[0m                         Traceback (most recent call last)",
      "\u001b[0;32m<ipython-input-21-87a9ddf799b5>\u001b[0m in \u001b[0;36m<module>\u001b[0;34m()\u001b[0m\n\u001b[1;32m     16\u001b[0m     \u001b[0;32mreturn\u001b[0m \u001b[0;34m\"\"\u001b[0m\u001b[0;34m\u001b[0m\u001b[0m\n\u001b[1;32m     17\u001b[0m \u001b[0;34m\u001b[0m\u001b[0m\n\u001b[0;32m---> 18\u001b[0;31m \u001b[0mddf\u001b[0m\u001b[0;34m[\u001b[0m\u001b[0;34m'Canton'\u001b[0m\u001b[0;34m]\u001b[0m \u001b[0;34m=\u001b[0m \u001b[0mddf\u001b[0m\u001b[0;34m.\u001b[0m\u001b[0mapply\u001b[0m\u001b[0;34m(\u001b[0m\u001b[0mmap_canton\u001b[0m\u001b[0;34m,\u001b[0m \u001b[0maxis\u001b[0m\u001b[0;34m=\u001b[0m\u001b[0;36m1\u001b[0m\u001b[0;34m)\u001b[0m\u001b[0;34m\u001b[0m\u001b[0m\n\u001b[0m\u001b[1;32m     19\u001b[0m \u001b[0mddf\u001b[0m\u001b[0;34m.\u001b[0m\u001b[0mhead\u001b[0m\u001b[0;34m(\u001b[0m\u001b[0;34m)\u001b[0m\u001b[0;34m\u001b[0m\u001b[0m\n",
      "\u001b[0;32m/home/ubuntu/anaconda2/envs/py3k/lib/python3.5/site-packages/pandas/core/frame.py\u001b[0m in \u001b[0;36mapply\u001b[0;34m(self, func, axis, broadcast, raw, reduce, args, **kwds)\u001b[0m\n\u001b[1;32m   4059\u001b[0m                     \u001b[0;32mif\u001b[0m \u001b[0mreduce\u001b[0m \u001b[0;32mis\u001b[0m \u001b[0;32mNone\u001b[0m\u001b[0;34m:\u001b[0m\u001b[0;34m\u001b[0m\u001b[0m\n\u001b[1;32m   4060\u001b[0m                         \u001b[0mreduce\u001b[0m \u001b[0;34m=\u001b[0m \u001b[0;32mTrue\u001b[0m\u001b[0;34m\u001b[0m\u001b[0m\n\u001b[0;32m-> 4061\u001b[0;31m                     \u001b[0;32mreturn\u001b[0m \u001b[0mself\u001b[0m\u001b[0;34m.\u001b[0m\u001b[0m_apply_standard\u001b[0m\u001b[0;34m(\u001b[0m\u001b[0mf\u001b[0m\u001b[0;34m,\u001b[0m \u001b[0maxis\u001b[0m\u001b[0;34m,\u001b[0m \u001b[0mreduce\u001b[0m\u001b[0;34m=\u001b[0m\u001b[0mreduce\u001b[0m\u001b[0;34m)\u001b[0m\u001b[0;34m\u001b[0m\u001b[0m\n\u001b[0m\u001b[1;32m   4062\u001b[0m             \u001b[0;32melse\u001b[0m\u001b[0;34m:\u001b[0m\u001b[0;34m\u001b[0m\u001b[0m\n\u001b[1;32m   4063\u001b[0m                 \u001b[0;32mreturn\u001b[0m \u001b[0mself\u001b[0m\u001b[0;34m.\u001b[0m\u001b[0m_apply_broadcast\u001b[0m\u001b[0;34m(\u001b[0m\u001b[0mf\u001b[0m\u001b[0;34m,\u001b[0m \u001b[0maxis\u001b[0m\u001b[0;34m)\u001b[0m\u001b[0;34m\u001b[0m\u001b[0m\n",
      "\u001b[0;32m/home/ubuntu/anaconda2/envs/py3k/lib/python3.5/site-packages/pandas/core/frame.py\u001b[0m in \u001b[0;36m_apply_standard\u001b[0;34m(self, func, axis, ignore_failures, reduce)\u001b[0m\n\u001b[1;32m   4115\u001b[0m                     \u001b[0mlabels\u001b[0m \u001b[0;34m=\u001b[0m \u001b[0mself\u001b[0m\u001b[0;34m.\u001b[0m\u001b[0m_get_agg_axis\u001b[0m\u001b[0;34m(\u001b[0m\u001b[0maxis\u001b[0m\u001b[0;34m)\u001b[0m\u001b[0;34m\u001b[0m\u001b[0m\n\u001b[1;32m   4116\u001b[0m                     result = lib.reduce(values, func, axis=axis, dummy=dummy,\n\u001b[0;32m-> 4117\u001b[0;31m                                         labels=labels)\n\u001b[0m\u001b[1;32m   4118\u001b[0m                     \u001b[0;32mreturn\u001b[0m \u001b[0mSeries\u001b[0m\u001b[0;34m(\u001b[0m\u001b[0mresult\u001b[0m\u001b[0;34m,\u001b[0m \u001b[0mindex\u001b[0m\u001b[0;34m=\u001b[0m\u001b[0mlabels\u001b[0m\u001b[0;34m)\u001b[0m\u001b[0;34m\u001b[0m\u001b[0m\n\u001b[1;32m   4119\u001b[0m                 \u001b[0;32mexcept\u001b[0m \u001b[0mException\u001b[0m\u001b[0;34m:\u001b[0m\u001b[0;34m\u001b[0m\u001b[0m\n",
      "\u001b[0;32mpandas/src/reduce.pyx\u001b[0m in \u001b[0;36mpandas.lib.reduce (pandas/lib.c:43539)\u001b[0;34m()\u001b[0m\n",
      "\u001b[0;32mpandas/src/reduce.pyx\u001b[0m in \u001b[0;36mpandas.lib.Reducer.get_result (pandas/lib.c:33736)\u001b[0;34m()\u001b[0m\n",
      "\u001b[0;32m<ipython-input-21-87a9ddf799b5>\u001b[0m in \u001b[0;36mmap_canton\u001b[0;34m(row)\u001b[0m\n\u001b[1;32m      9\u001b[0m         \u001b[0msearch_keys\u001b[0m\u001b[0;34m.\u001b[0m\u001b[0mappend\u001b[0m\u001b[0;34m(\u001b[0m\u001b[0mrow\u001b[0m\u001b[0;34m.\u001b[0m\u001b[0mInstitute\u001b[0m \u001b[0;34m+\u001b[0m \u001b[0;34m', Switzerland'\u001b[0m\u001b[0;34m)\u001b[0m\u001b[0;34m\u001b[0m\u001b[0m\n\u001b[1;32m     10\u001b[0m         \u001b[0msearch_keys\u001b[0m\u001b[0;34m.\u001b[0m\u001b[0mappend\u001b[0m\u001b[0;34m(\u001b[0m\u001b[0mrow\u001b[0m\u001b[0;34m.\u001b[0m\u001b[0mInstitute\u001b[0m \u001b[0;34m+\u001b[0m \u001b[0;34m', CH'\u001b[0m\u001b[0;34m)\u001b[0m\u001b[0;34m\u001b[0m\u001b[0m\n\u001b[0;32m---> 11\u001b[0;31m         \u001b[0mcanton\u001b[0m \u001b[0;34m=\u001b[0m \u001b[0msearch_canton\u001b[0m\u001b[0;34m(\u001b[0m\u001b[0msearch_keys\u001b[0m\u001b[0;34m)\u001b[0m\u001b[0;34m\u001b[0m\u001b[0m\n\u001b[0m\u001b[1;32m     12\u001b[0m         \u001b[0;32mif\u001b[0m \u001b[0mcanton\u001b[0m \u001b[0;34m==\u001b[0m \u001b[0;32mNone\u001b[0m\u001b[0;34m:\u001b[0m\u001b[0;34m\u001b[0m\u001b[0m\n\u001b[1;32m     13\u001b[0m             \u001b[0mprint\u001b[0m\u001b[0;34m(\u001b[0m\u001b[0mrow\u001b[0m\u001b[0;34m.\u001b[0m\u001b[0mInstitute\u001b[0m \u001b[0;34m+\u001b[0m \u001b[0;34m\" None\"\u001b[0m\u001b[0;34m)\u001b[0m\u001b[0;34m\u001b[0m\u001b[0m\n",
      "\u001b[0;32m<ipython-input-18-1224817b9bf3>\u001b[0m in \u001b[0;36msearch_canton\u001b[0;34m(keys)\u001b[0m\n\u001b[1;32m      1\u001b[0m \u001b[0;32mdef\u001b[0m \u001b[0msearch_canton\u001b[0m\u001b[0;34m(\u001b[0m\u001b[0mkeys\u001b[0m\u001b[0;34m)\u001b[0m\u001b[0;34m:\u001b[0m\u001b[0;34m\u001b[0m\u001b[0m\n\u001b[1;32m      2\u001b[0m     \u001b[0;32mfor\u001b[0m \u001b[0mkey\u001b[0m \u001b[0;32min\u001b[0m \u001b[0mkeys\u001b[0m\u001b[0;34m:\u001b[0m\u001b[0;34m\u001b[0m\u001b[0m\n\u001b[0;32m----> 3\u001b[0;31m         \u001b[0mresp\u001b[0m \u001b[0;34m=\u001b[0m \u001b[0mgmaps\u001b[0m\u001b[0;34m.\u001b[0m\u001b[0mgeocode\u001b[0m\u001b[0;34m(\u001b[0m\u001b[0mkey\u001b[0m\u001b[0;34m)\u001b[0m\u001b[0;34m\u001b[0m\u001b[0m\n\u001b[0m\u001b[1;32m      4\u001b[0m         \u001b[0mcanton\u001b[0m \u001b[0;34m=\u001b[0m \u001b[0mparse_canton\u001b[0m\u001b[0;34m(\u001b[0m\u001b[0mresp\u001b[0m\u001b[0;34m)\u001b[0m\u001b[0;34m\u001b[0m\u001b[0m\n\u001b[1;32m      5\u001b[0m         \u001b[0;32mif\u001b[0m \u001b[0mcanton\u001b[0m \u001b[0;34m!=\u001b[0m \u001b[0;32mNone\u001b[0m\u001b[0;34m:\u001b[0m\u001b[0;34m\u001b[0m\u001b[0m\n",
      "\u001b[0;32m/home/ubuntu/anaconda2/envs/py3k/lib/python3.5/site-packages/googlemaps/geocoding.py\u001b[0m in \u001b[0;36mgeocode\u001b[0;34m(client, address, components, bounds, region, language)\u001b[0m\n\u001b[1;32m     66\u001b[0m         \u001b[0mparams\u001b[0m\u001b[0;34m[\u001b[0m\u001b[0;34m\"language\"\u001b[0m\u001b[0;34m]\u001b[0m \u001b[0;34m=\u001b[0m \u001b[0mlanguage\u001b[0m\u001b[0;34m\u001b[0m\u001b[0m\n\u001b[1;32m     67\u001b[0m \u001b[0;34m\u001b[0m\u001b[0m\n\u001b[0;32m---> 68\u001b[0;31m     \u001b[0;32mreturn\u001b[0m \u001b[0mclient\u001b[0m\u001b[0;34m.\u001b[0m\u001b[0m_get\u001b[0m\u001b[0;34m(\u001b[0m\u001b[0;34m\"/maps/api/geocode/json\"\u001b[0m\u001b[0;34m,\u001b[0m \u001b[0mparams\u001b[0m\u001b[0;34m)\u001b[0m\u001b[0;34m[\u001b[0m\u001b[0;34m\"results\"\u001b[0m\u001b[0;34m]\u001b[0m\u001b[0;34m\u001b[0m\u001b[0m\n\u001b[0m\u001b[1;32m     69\u001b[0m \u001b[0;34m\u001b[0m\u001b[0m\n\u001b[1;32m     70\u001b[0m \u001b[0;34m\u001b[0m\u001b[0m\n",
      "\u001b[0;32m/home/ubuntu/anaconda2/envs/py3k/lib/python3.5/site-packages/googlemaps/client.py\u001b[0m in \u001b[0;36m_get\u001b[0;34m(self, url, params, first_request_time, retry_counter, base_url, accepts_clientid, extract_body, requests_kwargs)\u001b[0m\n\u001b[1;32m    216\u001b[0m         \u001b[0mrequests_kwargs\u001b[0m \u001b[0;34m=\u001b[0m \u001b[0mdict\u001b[0m\u001b[0;34m(\u001b[0m\u001b[0mself\u001b[0m\u001b[0;34m.\u001b[0m\u001b[0mrequests_kwargs\u001b[0m\u001b[0;34m,\u001b[0m \u001b[0;34m**\u001b[0m\u001b[0;34m(\u001b[0m\u001b[0mrequests_kwargs\u001b[0m \u001b[0;32mor\u001b[0m \u001b[0;34m{\u001b[0m\u001b[0;34m}\u001b[0m\u001b[0;34m)\u001b[0m\u001b[0;34m)\u001b[0m\u001b[0;34m\u001b[0m\u001b[0m\n\u001b[1;32m    217\u001b[0m         \u001b[0;32mtry\u001b[0m\u001b[0;34m:\u001b[0m\u001b[0;34m\u001b[0m\u001b[0m\n\u001b[0;32m--> 218\u001b[0;31m             \u001b[0mresp\u001b[0m \u001b[0;34m=\u001b[0m \u001b[0mrequests\u001b[0m\u001b[0;34m.\u001b[0m\u001b[0mget\u001b[0m\u001b[0;34m(\u001b[0m\u001b[0mbase_url\u001b[0m \u001b[0;34m+\u001b[0m \u001b[0mauthed_url\u001b[0m\u001b[0;34m,\u001b[0m \u001b[0;34m**\u001b[0m\u001b[0mrequests_kwargs\u001b[0m\u001b[0;34m)\u001b[0m\u001b[0;34m\u001b[0m\u001b[0m\n\u001b[0m\u001b[1;32m    219\u001b[0m         \u001b[0;32mexcept\u001b[0m \u001b[0mrequests\u001b[0m\u001b[0;34m.\u001b[0m\u001b[0mexceptions\u001b[0m\u001b[0;34m.\u001b[0m\u001b[0mTimeout\u001b[0m\u001b[0;34m:\u001b[0m\u001b[0;34m\u001b[0m\u001b[0m\n\u001b[1;32m    220\u001b[0m             \u001b[0;32mraise\u001b[0m \u001b[0mgooglemaps\u001b[0m\u001b[0;34m.\u001b[0m\u001b[0mexceptions\u001b[0m\u001b[0;34m.\u001b[0m\u001b[0mTimeout\u001b[0m\u001b[0;34m(\u001b[0m\u001b[0;34m)\u001b[0m\u001b[0;34m\u001b[0m\u001b[0m\n",
      "\u001b[0;32m/home/ubuntu/anaconda2/envs/py3k/lib/python3.5/site-packages/requests/api.py\u001b[0m in \u001b[0;36mget\u001b[0;34m(url, params, **kwargs)\u001b[0m\n\u001b[1;32m     68\u001b[0m     \"\"\"\n\u001b[1;32m     69\u001b[0m \u001b[0;34m\u001b[0m\u001b[0m\n\u001b[0;32m---> 70\u001b[0;31m     \u001b[0mkwargs\u001b[0m\u001b[0;34m.\u001b[0m\u001b[0msetdefault\u001b[0m\u001b[0;34m(\u001b[0m\u001b[0;34m'allow_redirects'\u001b[0m\u001b[0;34m,\u001b[0m \u001b[0;32mTrue\u001b[0m\u001b[0;34m)\u001b[0m\u001b[0;34m\u001b[0m\u001b[0m\n\u001b[0m\u001b[1;32m     71\u001b[0m     \u001b[0;32mreturn\u001b[0m \u001b[0mrequest\u001b[0m\u001b[0;34m(\u001b[0m\u001b[0;34m'get'\u001b[0m\u001b[0;34m,\u001b[0m \u001b[0murl\u001b[0m\u001b[0;34m,\u001b[0m \u001b[0mparams\u001b[0m\u001b[0;34m=\u001b[0m\u001b[0mparams\u001b[0m\u001b[0;34m,\u001b[0m \u001b[0;34m**\u001b[0m\u001b[0mkwargs\u001b[0m\u001b[0;34m)\u001b[0m\u001b[0;34m\u001b[0m\u001b[0m\n\u001b[1;32m     72\u001b[0m \u001b[0;34m\u001b[0m\u001b[0m\n",
      "\u001b[0;32m/home/ubuntu/anaconda2/envs/py3k/lib/python3.5/site-packages/requests/api.py\u001b[0m in \u001b[0;36mrequest\u001b[0;34m(method, url, **kwargs)\u001b[0m\n\u001b[1;32m     54\u001b[0m     \u001b[0;31m# avoid leaving sockets open which can trigger a ResourceWarning in some\u001b[0m\u001b[0;34m\u001b[0m\u001b[0;34m\u001b[0m\u001b[0m\n\u001b[1;32m     55\u001b[0m     \u001b[0;31m# cases, and look like a memory leak in others.\u001b[0m\u001b[0;34m\u001b[0m\u001b[0;34m\u001b[0m\u001b[0m\n\u001b[0;32m---> 56\u001b[0;31m     \u001b[0;32mwith\u001b[0m \u001b[0msessions\u001b[0m\u001b[0;34m.\u001b[0m\u001b[0mSession\u001b[0m\u001b[0;34m(\u001b[0m\u001b[0;34m)\u001b[0m \u001b[0;32mas\u001b[0m \u001b[0msession\u001b[0m\u001b[0;34m:\u001b[0m\u001b[0;34m\u001b[0m\u001b[0m\n\u001b[0m\u001b[1;32m     57\u001b[0m         \u001b[0;32mreturn\u001b[0m \u001b[0msession\u001b[0m\u001b[0;34m.\u001b[0m\u001b[0mrequest\u001b[0m\u001b[0;34m(\u001b[0m\u001b[0mmethod\u001b[0m\u001b[0;34m=\u001b[0m\u001b[0mmethod\u001b[0m\u001b[0;34m,\u001b[0m \u001b[0murl\u001b[0m\u001b[0;34m=\u001b[0m\u001b[0murl\u001b[0m\u001b[0;34m,\u001b[0m \u001b[0;34m**\u001b[0m\u001b[0mkwargs\u001b[0m\u001b[0;34m)\u001b[0m\u001b[0;34m\u001b[0m\u001b[0m\n\u001b[1;32m     58\u001b[0m \u001b[0;34m\u001b[0m\u001b[0m\n",
      "\u001b[0;32m/home/ubuntu/anaconda2/envs/py3k/lib/python3.5/site-packages/requests/sessions.py\u001b[0m in \u001b[0;36mrequest\u001b[0;34m(self, method, url, params, data, headers, cookies, files, auth, timeout, allow_redirects, proxies, hooks, stream, verify, cert, json)\u001b[0m\n\u001b[1;32m    473\u001b[0m         }\n\u001b[1;32m    474\u001b[0m         \u001b[0msend_kwargs\u001b[0m\u001b[0;34m.\u001b[0m\u001b[0mupdate\u001b[0m\u001b[0;34m(\u001b[0m\u001b[0msettings\u001b[0m\u001b[0;34m)\u001b[0m\u001b[0;34m\u001b[0m\u001b[0m\n\u001b[0;32m--> 475\u001b[0;31m         \u001b[0mresp\u001b[0m \u001b[0;34m=\u001b[0m \u001b[0mself\u001b[0m\u001b[0;34m.\u001b[0m\u001b[0msend\u001b[0m\u001b[0;34m(\u001b[0m\u001b[0mprep\u001b[0m\u001b[0;34m,\u001b[0m \u001b[0;34m**\u001b[0m\u001b[0msend_kwargs\u001b[0m\u001b[0;34m)\u001b[0m\u001b[0;34m\u001b[0m\u001b[0m\n\u001b[0m\u001b[1;32m    476\u001b[0m \u001b[0;34m\u001b[0m\u001b[0m\n\u001b[1;32m    477\u001b[0m         \u001b[0;32mreturn\u001b[0m \u001b[0mresp\u001b[0m\u001b[0;34m\u001b[0m\u001b[0m\n",
      "\u001b[0;32m/home/ubuntu/anaconda2/envs/py3k/lib/python3.5/site-packages/requests/sessions.py\u001b[0m in \u001b[0;36msend\u001b[0;34m(self, request, **kwargs)\u001b[0m\n\u001b[1;32m    594\u001b[0m         \u001b[0;32mif\u001b[0m \u001b[0mr\u001b[0m\u001b[0;34m.\u001b[0m\u001b[0mhistory\u001b[0m\u001b[0;34m:\u001b[0m\u001b[0;34m\u001b[0m\u001b[0m\n\u001b[1;32m    595\u001b[0m \u001b[0;34m\u001b[0m\u001b[0m\n\u001b[0;32m--> 596\u001b[0;31m             \u001b[0;31m# If the hooks create history then we want those cookies too\u001b[0m\u001b[0;34m\u001b[0m\u001b[0;34m\u001b[0m\u001b[0m\n\u001b[0m\u001b[1;32m    597\u001b[0m             \u001b[0;32mfor\u001b[0m \u001b[0mresp\u001b[0m \u001b[0;32min\u001b[0m \u001b[0mr\u001b[0m\u001b[0;34m.\u001b[0m\u001b[0mhistory\u001b[0m\u001b[0;34m:\u001b[0m\u001b[0;34m\u001b[0m\u001b[0m\n\u001b[1;32m    598\u001b[0m                 \u001b[0mextract_cookies_to_jar\u001b[0m\u001b[0;34m(\u001b[0m\u001b[0mself\u001b[0m\u001b[0;34m.\u001b[0m\u001b[0mcookies\u001b[0m\u001b[0;34m,\u001b[0m \u001b[0mresp\u001b[0m\u001b[0;34m.\u001b[0m\u001b[0mrequest\u001b[0m\u001b[0;34m,\u001b[0m \u001b[0mresp\u001b[0m\u001b[0;34m.\u001b[0m\u001b[0mraw\u001b[0m\u001b[0;34m)\u001b[0m\u001b[0;34m\u001b[0m\u001b[0m\n",
      "\u001b[0;32m/home/ubuntu/anaconda2/envs/py3k/lib/python3.5/site-packages/requests/adapters.py\u001b[0m in \u001b[0;36msend\u001b[0;34m(self, request, stream, timeout, verify, cert, proxies)\u001b[0m\n\u001b[1;32m    421\u001b[0m                     \u001b[0mlow_conn\u001b[0m\u001b[0;34m.\u001b[0m\u001b[0mendheaders\u001b[0m\u001b[0;34m(\u001b[0m\u001b[0;34m)\u001b[0m\u001b[0;34m\u001b[0m\u001b[0m\n\u001b[1;32m    422\u001b[0m \u001b[0;34m\u001b[0m\u001b[0m\n\u001b[0;32m--> 423\u001b[0;31m                     \u001b[0;32mfor\u001b[0m \u001b[0mi\u001b[0m \u001b[0;32min\u001b[0m \u001b[0mrequest\u001b[0m\u001b[0;34m.\u001b[0m\u001b[0mbody\u001b[0m\u001b[0;34m:\u001b[0m\u001b[0;34m\u001b[0m\u001b[0m\n\u001b[0m\u001b[1;32m    424\u001b[0m                         \u001b[0mlow_conn\u001b[0m\u001b[0;34m.\u001b[0m\u001b[0msend\u001b[0m\u001b[0;34m(\u001b[0m\u001b[0mhex\u001b[0m\u001b[0;34m(\u001b[0m\u001b[0mlen\u001b[0m\u001b[0;34m(\u001b[0m\u001b[0mi\u001b[0m\u001b[0;34m)\u001b[0m\u001b[0;34m)\u001b[0m\u001b[0;34m[\u001b[0m\u001b[0;36m2\u001b[0m\u001b[0;34m:\u001b[0m\u001b[0;34m]\u001b[0m\u001b[0;34m.\u001b[0m\u001b[0mencode\u001b[0m\u001b[0;34m(\u001b[0m\u001b[0;34m'utf-8'\u001b[0m\u001b[0;34m)\u001b[0m\u001b[0;34m)\u001b[0m\u001b[0;34m\u001b[0m\u001b[0m\n\u001b[1;32m    425\u001b[0m                         \u001b[0mlow_conn\u001b[0m\u001b[0;34m.\u001b[0m\u001b[0msend\u001b[0m\u001b[0;34m(\u001b[0m\u001b[0;34mb'\\r\\n'\u001b[0m\u001b[0;34m)\u001b[0m\u001b[0;34m\u001b[0m\u001b[0m\n",
      "\u001b[0;32m/home/ubuntu/anaconda2/envs/py3k/lib/python3.5/site-packages/requests/packages/urllib3/connectionpool.py\u001b[0m in \u001b[0;36murlopen\u001b[0;34m(self, method, url, body, headers, retries, redirect, assert_same_host, timeout, pool_timeout, release_conn, chunked, **response_kw)\u001b[0m\n\u001b[1;32m    605\u001b[0m \u001b[0;34m\u001b[0m\u001b[0m\n\u001b[1;32m    606\u001b[0m         \u001b[0;32mexcept\u001b[0m \u001b[0mSSLError\u001b[0m\u001b[0;34m:\u001b[0m\u001b[0;34m\u001b[0m\u001b[0m\n\u001b[0;32m--> 607\u001b[0;31m             \u001b[0;31m# Treat SSLError separately from BaseSSLError to preserve\u001b[0m\u001b[0;34m\u001b[0m\u001b[0;34m\u001b[0m\u001b[0m\n\u001b[0m\u001b[1;32m    608\u001b[0m             \u001b[0;31m# traceback.\u001b[0m\u001b[0;34m\u001b[0m\u001b[0;34m\u001b[0m\u001b[0m\n\u001b[1;32m    609\u001b[0m             \u001b[0mclean_exit\u001b[0m \u001b[0;34m=\u001b[0m \u001b[0;32mFalse\u001b[0m\u001b[0;34m\u001b[0m\u001b[0m\n",
      "\u001b[0;32m/home/ubuntu/anaconda2/envs/py3k/lib/python3.5/site-packages/requests/packages/urllib3/response.py\u001b[0m in \u001b[0;36mfrom_httplib\u001b[0;34m(ResponseCls, r, **response_kw)\u001b[0m\n\u001b[1;32m    381\u001b[0m                            \u001b[0mreason\u001b[0m\u001b[0;34m=\u001b[0m\u001b[0mr\u001b[0m\u001b[0;34m.\u001b[0m\u001b[0mreason\u001b[0m\u001b[0;34m,\u001b[0m\u001b[0;34m\u001b[0m\u001b[0m\n\u001b[1;32m    382\u001b[0m                            \u001b[0mstrict\u001b[0m\u001b[0;34m=\u001b[0m\u001b[0mstrict\u001b[0m\u001b[0;34m,\u001b[0m\u001b[0;34m\u001b[0m\u001b[0m\n\u001b[0;32m--> 383\u001b[0;31m                            \u001b[0moriginal_response\u001b[0m\u001b[0;34m=\u001b[0m\u001b[0mr\u001b[0m\u001b[0;34m,\u001b[0m\u001b[0;34m\u001b[0m\u001b[0m\n\u001b[0m\u001b[1;32m    384\u001b[0m                            **response_kw)\n\u001b[1;32m    385\u001b[0m         \u001b[0;32mreturn\u001b[0m \u001b[0mresp\u001b[0m\u001b[0;34m\u001b[0m\u001b[0m\n",
      "\u001b[0;31mKeyboardInterrupt\u001b[0m: "
     ]
    }
   ],
   "source": [
    "dic = {}\n",
    "\n",
    "ddf = grants_clean.copy()\n",
    "\n",
    "def map_canton(row):\n",
    "    if row.Institute != None:\n",
    "        search_keys = []\n",
    "        search_keys.append(row.Institute)\n",
    "        search_keys.append(row.Institute + ', Switzerland')\n",
    "        search_keys.append(row.Institute + ', CH')\n",
    "        canton = search_canton(search_keys)\n",
    "        if canton == None:\n",
    "            print(row.Institute + \" None\")\n",
    "        else:\n",
    "            print(row.Institute + \" \" + canton)\n",
    "    return \"\"\n",
    "\n",
    "ddf['Canton'] = ddf.apply(map_canton, axis=1)\n",
    "ddf.head()\n"
   ]
  },
  {
   "cell_type": "code",
   "execution_count": null,
   "metadata": {
    "collapsed": false
   },
   "outputs": [],
   "source": [
    "# intialize uni_canton_dict from file\n",
    "# uni_canton_dict maps university to canton\n",
    "uni_canton_df = pd.read_csv('uni-canton.csv', encoding='utf-8')\n",
    "uni_canton_df.set_index('University', inplace=True)\n",
    "uni_canton_dict = uni_canton_df.to_dict()['0']"
   ]
  },
  {
   "cell_type": "code",
   "execution_count": null,
   "metadata": {
    "collapsed": false
   },
   "outputs": [],
   "source": [
    "def find_canton(row):\n",
    "    # if not searched before\n",
    "    if row.University not in uni_canton_dict:\n",
    "        search_keys = construct_search_keys(row.University, row.Institution)\n",
    "        uni_canton_dict[row.University] = search_canton(search_keys)\n",
    "        print(row.University + \" \" + uni_canton_dict[row.University])\n",
    "    return uni_canton_dict[row.University]"
   ]
  },
  {
   "cell_type": "code",
   "execution_count": null,
   "metadata": {
    "collapsed": false
   },
   "outputs": [],
   "source": [
    "# uni_canton_df = pd.DataFrame.from_dict(uni_canton_dict, orient=\"index\")\n",
    "# uni_canton_df.index.name = 'University'\n",
    "# uni_canton_df.to_csv('uni-canton.csv', encoding='utf-8')"
   ]
  },
  {
   "cell_type": "code",
   "execution_count": null,
   "metadata": {
    "collapsed": false,
    "scrolled": false
   },
   "outputs": [],
   "source": [
    "df = data.copy()\n",
    "df['Canton'] = df.apply(find_canton, axis=1)"
   ]
  },
  {
   "cell_type": "code",
   "execution_count": null,
   "metadata": {
    "collapsed": false
   },
   "outputs": [],
   "source": [
    "df.head()"
   ]
  },
  {
   "cell_type": "code",
   "execution_count": null,
   "metadata": {
    "collapsed": true
   },
   "outputs": [],
   "source": [
    "df.to_csv('data-with-canton.csv', encoding='utf-8')"
   ]
  },
  {
   "cell_type": "code",
   "execution_count": null,
   "metadata": {
    "collapsed": false
   },
   "outputs": [],
   "source": [
    "found_rate = pd.notnull(df['Canton']).sum() / len(df['Canton'])\n",
    "found_rate"
   ]
  },
  {
   "cell_type": "markdown",
   "metadata": {},
   "source": [
    "### Manually handle missing data"
   ]
  },
  {
   "cell_type": "markdown",
   "metadata": {},
   "source": [
    "Fow now, we simply ignore the missing records.\n",
    "\n",
    "#  Compute grants by canton"
   ]
  },
  {
   "cell_type": "code",
   "execution_count": null,
   "metadata": {
    "collapsed": false
   },
   "outputs": [],
   "source": [
    "canton_grants_df = df[['Approved Amount', 'Canton']].groupby(['Canton']).mean()\n",
    "canton_grants_df.reset_index(inplace=True)"
   ]
  },
  {
   "cell_type": "code",
   "execution_count": null,
   "metadata": {
    "collapsed": false
   },
   "outputs": [],
   "source": [
    "# Add missing data\n",
    "for canton_id in canton_ids:\n",
    "    if canton_id not in canton_grants_df['Canton'].values:\n",
    "        canton_grants_df = canton_grants_df.append({'Canton':canton_id, 'Approved Amount': 0.0}, ignore_index=True)\n",
    "\n",
    "canton_grants_df = canton_grants_df.sort_values(by=['Approved Amount'], ascending=False)\n",
    "canton_grants_df"
   ]
  },
  {
   "cell_type": "markdown",
   "metadata": {},
   "source": [
    "# Data visualization\n",
    "##  Draw grants map by canton"
   ]
  },
  {
   "cell_type": "code",
   "execution_count": null,
   "metadata": {
    "collapsed": false,
    "scrolled": true
   },
   "outputs": [],
   "source": [
    "map = folium.Map(location=[46.82244,8.22410], zoom_start=8)\n",
    "map.choropleth(data=canton_grants_df,\n",
    "               columns=['Canton', 'Approved Amount'], \n",
    "               key_on='feature.id', \n",
    "               geo_path=CH_GEO_JSON, \n",
    "               topojson='objects.cantons', \n",
    "               fill_color='YlOrRd'\n",
    "               )\n",
    "map"
   ]
  },
  {
   "cell_type": "markdown",
   "metadata": {
    "collapsed": true
   },
   "source": [
    "** TODO **: The map cannot be displayed on Github. To view the map, you have to run this cell locally with Jupyter Notebook. To facilitate code reviewing, we may add an additionaly snapshot of the map here."
   ]
  }
 ],
 "metadata": {
  "anaconda-cloud": {},
  "kernelspec": {
   "display_name": "Python [conda env:py3k]",
   "language": "python",
   "name": "conda-env-py3k-py"
  },
  "language_info": {
   "codemirror_mode": {
    "name": "ipython",
    "version": 3
   },
   "file_extension": ".py",
   "mimetype": "text/x-python",
   "name": "python",
   "nbconvert_exporter": "python",
   "pygments_lexer": "ipython3",
   "version": "3.5.2"
  }
 },
 "nbformat": 4,
 "nbformat_minor": 1
}
