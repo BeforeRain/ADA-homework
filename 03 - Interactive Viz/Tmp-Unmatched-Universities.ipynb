{
 "cells": [
  {
   "cell_type": "code",
   "execution_count": 93,
   "metadata": {
    "collapsed": false
   },
   "outputs": [
    {
     "name": "stdout",
     "output_type": "stream",
     "text": [
      "Idiap Research Institute - IDIAP\n",
      "Fachhochschule Kalaidos - FHKD\n",
      "Fachhochschule Nordwestschweiz (ohne PH) - FHNW\n",
      "Ente Ospedaliero Cantonale - EOC\n",
      "Forschungsinstitut für Opthalmologie - IRO\n",
      "Istituto Svizzero di Roma - ISR\n",
      "SUP della Svizzera italiana - SUPSI\n",
      "AO Research Institute - AORI\n",
      "Zürcher Fachhochschule (ohne PH) - ZFH\n",
      "Inst. Suisse de Spéléologie et Karstologie - ISSKA\n",
      "Eidg. Anstalt für Wasserversorgung - EAWAG\n",
      "Institut Universitaire Kurt Bösch - IUKB\n",
      "Forschungsinstitut für biologischen Landbau - FIBL\n",
      "Pädagogische Hochschule Nordwestschweiz - PHFHNW\n",
      "Weitere Institute - FINST\n",
      "Fachhochschule Ostschweiz - FHO\n",
      "Schweiz. Hochschule für Logopädie Rorschach - SHLR\n",
      "Fernfachhochschule Schweiz (Mitglied SUPSI) - FFHS\n",
      "Forschungsanstalten Agroscope - AGS\n",
      "Inst. de Hautes Etudes Internat. et du Dév - IHEID\n",
      "Friedrich Miescher Institute - FMI\n",
      "Allergie- und Asthmaforschung - SIAF\n",
      "Eidg. Hochschulinstitut für Berufsbildung - EHB\n",
      "Swiss Center for Electronics and Microtech. - CSEM\n",
      "Schweizer Paraplegiker Forschung - SPF\n"
     ]
    }
   ],
   "source": [
    "cnt_found = 0\n",
    "cnt_unfound = 0\n",
    "\n",
    "for uni, canton in uni_canton_dict.items():\n",
    "    if str(canton) == 'nan':\n",
    "        print(uni)\n",
    "        cnt_unfound += 1\n",
    "    else:\n",
    "        cnt_found += 1"
   ]
  },
  {
   "cell_type": "code",
   "execution_count": 94,
   "metadata": {
    "collapsed": false
   },
   "outputs": [
    {
     "data": {
      "text/plain": [
       "51"
      ]
     },
     "execution_count": 94,
     "metadata": {},
     "output_type": "execute_result"
    }
   ],
   "source": [
    "cnt_found"
   ]
  },
  {
   "cell_type": "code",
   "execution_count": 95,
   "metadata": {
    "collapsed": false
   },
   "outputs": [
    {
     "data": {
      "text/plain": [
       "25"
      ]
     },
     "execution_count": 95,
     "metadata": {},
     "output_type": "execute_result"
    }
   ],
   "source": [
    "cnt_unfound"
   ]
  },
  {
   "cell_type": "code",
   "execution_count": 97,
   "metadata": {
    "collapsed": false
   },
   "outputs": [
    {
     "data": {
      "text/plain": [
       "0.6710526315789473"
      ]
     },
     "execution_count": 97,
     "metadata": {},
     "output_type": "execute_result"
    }
   ],
   "source": [
    "cnt_found / len(df['University'].unique())"
   ]
  },
  {
   "cell_type": "code",
   "execution_count": null,
   "metadata": {
    "collapsed": true
   },
   "outputs": [],
   "source": []
  }
 ],
 "metadata": {
  "anaconda-cloud": {},
  "kernelspec": {
   "display_name": "Python [conda env:py3k]",
   "language": "python",
   "name": "conda-env-py3k-py"
  },
  "language_info": {
   "codemirror_mode": {
    "name": "ipython",
    "version": 3
   },
   "file_extension": ".py",
   "mimetype": "text/x-python",
   "name": "python",
   "nbconvert_exporter": "python",
   "pygments_lexer": "ipython3",
   "version": "3.5.2"
  }
 },
 "nbformat": 4,
 "nbformat_minor": 1
}
