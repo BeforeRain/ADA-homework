{
 "cells": [
  {
   "cell_type": "markdown",
   "metadata": {
    "collapsed": false
   },
   "source": [
    "# Table of Contents\n",
    " <p><div class=\"lev1\"><a href=\"# Step 1. Process data\"><span class=\"toc-item-num\">1&nbsp;&nbsp;</span>TODO: Following given notebooks in HW1, create table of contents here :) </a></div>\n",
    "\n",
    "This Jupyter extension might help. https://github.com/minrk/ipython_extensions"
   ]
  },
  {
   "cell_type": "markdown",
   "metadata": {},
   "source": [
    "# Homework 03 - Interactive Viz"
   ]
  },
  {
   "cell_type": "markdown",
   "metadata": {},
   "source": [
    "Build a Choropleth map which shows intuitively (i.e., use colors wisely) how much grant money goes to each Swiss canton. \n",
    "\n",
    "The P3 database of the SNSF (Swiss National Science Foundation) http://p3.snf.ch/Pages/DataAndDocumentation.aspx can be linked via the project number (Project Number) field, in order to create a relationship between people and projects or publications and projects. Raw data of this project:\n",
    "- P3_GrantExport.csv\n",
    "- P3_GrantExport_with_abstracts.csv\n",
    "- P3_PersonExport.csv\n",
    "- P3_PublicationExport.csv"
   ]
  },
  {
   "cell_type": "markdown",
   "metadata": {},
   "source": [
    "# Overview\n",
    "\n",
    "**TODO**  \n",
    "The objective of this homework is to ...  \n",
    "To achieve this goal, we ..."
   ]
  },
  {
   "cell_type": "code",
   "execution_count": 1,
   "metadata": {
    "collapsed": true
   },
   "outputs": [],
   "source": [
    "import requests\n",
    "import folium\n",
    "import pandas as pd\n",
    "import numpy as np\n",
    "import json\n",
    "import random\n",
    "import pprint"
   ]
  },
  {
   "cell_type": "markdown",
   "metadata": {},
   "source": [
    "# Data preprocessing/cleaning/wrangling/?\n",
    "First, we obtain information about grant records, and cantons in Switzerland."
   ]
  },
  {
   "cell_type": "markdown",
   "metadata": {},
   "source": [
    "## Grant data\n",
    "\n",
    "We download the data file from P3 website. We try to clean up data and obtain all grant records."
   ]
  },
  {
   "cell_type": "code",
   "execution_count": 2,
   "metadata": {
    "collapsed": false
   },
   "outputs": [
    {
     "data": {
      "text/plain": [
       "﻿\"Project Number\"                int64\n",
       "Project Title                   object\n",
       "Project Title English           object\n",
       "Responsible Applicant           object\n",
       "Funding Instrument              object\n",
       "Funding Instrument Hierarchy    object\n",
       "Institution                     object\n",
       "University                      object\n",
       "Discipline Number                int64\n",
       "Discipline Name                 object\n",
       "Discipline Name Hierarchy       object\n",
       "Start Date                      object\n",
       "End Date                        object\n",
       "Approved Amount                 object\n",
       "Keywords                        object\n",
       "dtype: object"
      ]
     },
     "execution_count": 2,
     "metadata": {},
     "output_type": "execute_result"
    }
   ],
   "source": [
    "GRANTS_FILE = 'data/P3_GrantExport.csv'\n",
    "\n",
    "csv_data = pd.read_csv(GRANTS_FILE, sep = ';')\n",
    "csv_data.dtypes"
   ]
  },
  {
   "cell_type": "code",
   "execution_count": 3,
   "metadata": {
    "collapsed": false,
    "scrolled": true
   },
   "outputs": [
    {
     "data": {
      "text/html": [
       "<div>\n",
       "<table border=\"1\" class=\"dataframe\">\n",
       "  <thead>\n",
       "    <tr style=\"text-align: right;\">\n",
       "      <th></th>\n",
       "      <th>﻿\"Project Number\"</th>\n",
       "      <th>Project Title</th>\n",
       "      <th>Project Title English</th>\n",
       "      <th>Responsible Applicant</th>\n",
       "      <th>Funding Instrument</th>\n",
       "      <th>Funding Instrument Hierarchy</th>\n",
       "      <th>Institution</th>\n",
       "      <th>University</th>\n",
       "      <th>Discipline Number</th>\n",
       "      <th>Discipline Name</th>\n",
       "      <th>Discipline Name Hierarchy</th>\n",
       "      <th>Start Date</th>\n",
       "      <th>End Date</th>\n",
       "      <th>Approved Amount</th>\n",
       "      <th>Keywords</th>\n",
       "    </tr>\n",
       "  </thead>\n",
       "  <tbody>\n",
       "    <tr>\n",
       "      <th>0</th>\n",
       "      <td>1</td>\n",
       "      <td>Schlussband (Bd. VI) der Jacob Burckhardt-Biog...</td>\n",
       "      <td>NaN</td>\n",
       "      <td>Kaegi Werner</td>\n",
       "      <td>Project funding (Div. I-III)</td>\n",
       "      <td>Project funding</td>\n",
       "      <td>NaN</td>\n",
       "      <td>Nicht zuteilbar - NA</td>\n",
       "      <td>10302</td>\n",
       "      <td>Swiss history</td>\n",
       "      <td>Human and Social Sciences;Theology &amp; religious...</td>\n",
       "      <td>01.10.1975</td>\n",
       "      <td>30.09.1976</td>\n",
       "      <td>11619.00</td>\n",
       "      <td>NaN</td>\n",
       "    </tr>\n",
       "    <tr>\n",
       "      <th>1</th>\n",
       "      <td>4</td>\n",
       "      <td>Batterie de tests à l'usage des enseignants po...</td>\n",
       "      <td>NaN</td>\n",
       "      <td>Massarenti Léonard</td>\n",
       "      <td>Project funding (Div. I-III)</td>\n",
       "      <td>Project funding</td>\n",
       "      <td>Faculté de Psychologie et des Sciences de l'Ed...</td>\n",
       "      <td>Université de Genève - GE</td>\n",
       "      <td>10104</td>\n",
       "      <td>Educational science and Pedagogy</td>\n",
       "      <td>Human and Social Sciences;Psychology, educatio...</td>\n",
       "      <td>01.10.1975</td>\n",
       "      <td>30.09.1976</td>\n",
       "      <td>41022.00</td>\n",
       "      <td>NaN</td>\n",
       "    </tr>\n",
       "    <tr>\n",
       "      <th>2</th>\n",
       "      <td>5</td>\n",
       "      <td>Kritische Erstausgabe der \"Evidentiae contra D...</td>\n",
       "      <td>NaN</td>\n",
       "      <td>Kommission für das Corpus philosophorum medii ...</td>\n",
       "      <td>Project funding (Div. I-III)</td>\n",
       "      <td>Project funding</td>\n",
       "      <td>Kommission für das Corpus philosophorum medii ...</td>\n",
       "      <td>NPO (Biblioth., Museen, Verwalt.) - NPO</td>\n",
       "      <td>10101</td>\n",
       "      <td>Philosophy</td>\n",
       "      <td>Human and Social Sciences;Linguistics and lite...</td>\n",
       "      <td>01.03.1976</td>\n",
       "      <td>28.02.1985</td>\n",
       "      <td>79732.00</td>\n",
       "      <td>NaN</td>\n",
       "    </tr>\n",
       "    <tr>\n",
       "      <th>3</th>\n",
       "      <td>6</td>\n",
       "      <td>Katalog der datierten Handschriften in der Sch...</td>\n",
       "      <td>NaN</td>\n",
       "      <td>Burckhardt Max</td>\n",
       "      <td>Project funding (Div. I-III)</td>\n",
       "      <td>Project funding</td>\n",
       "      <td>Abt. Handschriften und Alte Drucke Bibliothek ...</td>\n",
       "      <td>Universität Basel - BS</td>\n",
       "      <td>10302</td>\n",
       "      <td>Swiss history</td>\n",
       "      <td>Human and Social Sciences;Theology &amp; religious...</td>\n",
       "      <td>01.10.1975</td>\n",
       "      <td>30.09.1976</td>\n",
       "      <td>52627.00</td>\n",
       "      <td>NaN</td>\n",
       "    </tr>\n",
       "    <tr>\n",
       "      <th>4</th>\n",
       "      <td>7</td>\n",
       "      <td>Wissenschaftliche Mitarbeit am Thesaurus Lingu...</td>\n",
       "      <td>NaN</td>\n",
       "      <td>Schweiz. Thesauruskommission</td>\n",
       "      <td>Project funding (Div. I-III)</td>\n",
       "      <td>Project funding</td>\n",
       "      <td>Schweiz. Thesauruskommission</td>\n",
       "      <td>NPO (Biblioth., Museen, Verwalt.) - NPO</td>\n",
       "      <td>10303</td>\n",
       "      <td>Ancient history and Classical studies</td>\n",
       "      <td>Human and Social Sciences;Theology &amp; religious...</td>\n",
       "      <td>01.01.1976</td>\n",
       "      <td>30.04.1978</td>\n",
       "      <td>120042.00</td>\n",
       "      <td>NaN</td>\n",
       "    </tr>\n",
       "  </tbody>\n",
       "</table>\n",
       "</div>"
      ],
      "text/plain": [
       "   ﻿\"Project Number\"                                      Project Title  \\\n",
       "0                  1  Schlussband (Bd. VI) der Jacob Burckhardt-Biog...   \n",
       "1                  4  Batterie de tests à l'usage des enseignants po...   \n",
       "2                  5  Kritische Erstausgabe der \"Evidentiae contra D...   \n",
       "3                  6  Katalog der datierten Handschriften in der Sch...   \n",
       "4                  7  Wissenschaftliche Mitarbeit am Thesaurus Lingu...   \n",
       "\n",
       "  Project Title English                              Responsible Applicant  \\\n",
       "0                   NaN                                       Kaegi Werner   \n",
       "1                   NaN                                 Massarenti Léonard   \n",
       "2                   NaN  Kommission für das Corpus philosophorum medii ...   \n",
       "3                   NaN                                     Burckhardt Max   \n",
       "4                   NaN                       Schweiz. Thesauruskommission   \n",
       "\n",
       "             Funding Instrument Funding Instrument Hierarchy  \\\n",
       "0  Project funding (Div. I-III)              Project funding   \n",
       "1  Project funding (Div. I-III)              Project funding   \n",
       "2  Project funding (Div. I-III)              Project funding   \n",
       "3  Project funding (Div. I-III)              Project funding   \n",
       "4  Project funding (Div. I-III)              Project funding   \n",
       "\n",
       "                                         Institution  \\\n",
       "0                                                NaN   \n",
       "1  Faculté de Psychologie et des Sciences de l'Ed...   \n",
       "2  Kommission für das Corpus philosophorum medii ...   \n",
       "3  Abt. Handschriften und Alte Drucke Bibliothek ...   \n",
       "4                       Schweiz. Thesauruskommission   \n",
       "\n",
       "                                University  Discipline Number  \\\n",
       "0                     Nicht zuteilbar - NA              10302   \n",
       "1                Université de Genève - GE              10104   \n",
       "2  NPO (Biblioth., Museen, Verwalt.) - NPO              10101   \n",
       "3                   Universität Basel - BS              10302   \n",
       "4  NPO (Biblioth., Museen, Verwalt.) - NPO              10303   \n",
       "\n",
       "                         Discipline Name  \\\n",
       "0                          Swiss history   \n",
       "1       Educational science and Pedagogy   \n",
       "2                             Philosophy   \n",
       "3                          Swiss history   \n",
       "4  Ancient history and Classical studies   \n",
       "\n",
       "                           Discipline Name Hierarchy  Start Date    End Date  \\\n",
       "0  Human and Social Sciences;Theology & religious...  01.10.1975  30.09.1976   \n",
       "1  Human and Social Sciences;Psychology, educatio...  01.10.1975  30.09.1976   \n",
       "2  Human and Social Sciences;Linguistics and lite...  01.03.1976  28.02.1985   \n",
       "3  Human and Social Sciences;Theology & religious...  01.10.1975  30.09.1976   \n",
       "4  Human and Social Sciences;Theology & religious...  01.01.1976  30.04.1978   \n",
       "\n",
       "  Approved Amount Keywords  \n",
       "0        11619.00      NaN  \n",
       "1        41022.00      NaN  \n",
       "2        79732.00      NaN  \n",
       "3        52627.00      NaN  \n",
       "4       120042.00      NaN  "
      ]
     },
     "execution_count": 3,
     "metadata": {},
     "output_type": "execute_result"
    }
   ],
   "source": [
    "csv_data.head()"
   ]
  },
  {
   "cell_type": "markdown",
   "metadata": {},
   "source": [
    "After further inspection, we summarize the data fields as follows:\n",
    "* ** TODO **: add descriptions of all fields\n",
    "* \n",
    "\n",
    "For this assignment, to compute the total amount of grants, we plan to find the canton of every record of grants, and group these amount together by canton. We note that information about university and institution can provide us information about the place of project. This information is crucial for us to identify its canton.\n",
    "\n",
    "Thus, we are interested in following three data fields :\n",
    "* ** Institution **: the institution where the project is carried.\n",
    "* ** University **: the university where the project is carried.\n",
    "* ** Approved Amount **: amount of approved grants\n",
    "\n",
    "We extract these columns from initial data to a separate DataFrame."
   ]
  },
  {
   "cell_type": "code",
   "execution_count": 4,
   "metadata": {
    "collapsed": false
   },
   "outputs": [
    {
     "data": {
      "text/html": [
       "<div>\n",
       "<table border=\"1\" class=\"dataframe\">\n",
       "  <thead>\n",
       "    <tr style=\"text-align: right;\">\n",
       "      <th></th>\n",
       "      <th>University</th>\n",
       "      <th>Institution</th>\n",
       "      <th>Approved Amount</th>\n",
       "    </tr>\n",
       "  </thead>\n",
       "  <tbody>\n",
       "    <tr>\n",
       "      <th>0</th>\n",
       "      <td>Nicht zuteilbar - NA</td>\n",
       "      <td>NaN</td>\n",
       "      <td>11619.00</td>\n",
       "    </tr>\n",
       "    <tr>\n",
       "      <th>1</th>\n",
       "      <td>Université de Genève - GE</td>\n",
       "      <td>Faculté de Psychologie et des Sciences de l'Ed...</td>\n",
       "      <td>41022.00</td>\n",
       "    </tr>\n",
       "    <tr>\n",
       "      <th>2</th>\n",
       "      <td>NPO (Biblioth., Museen, Verwalt.) - NPO</td>\n",
       "      <td>Kommission für das Corpus philosophorum medii ...</td>\n",
       "      <td>79732.00</td>\n",
       "    </tr>\n",
       "    <tr>\n",
       "      <th>3</th>\n",
       "      <td>Universität Basel - BS</td>\n",
       "      <td>Abt. Handschriften und Alte Drucke Bibliothek ...</td>\n",
       "      <td>52627.00</td>\n",
       "    </tr>\n",
       "    <tr>\n",
       "      <th>4</th>\n",
       "      <td>NPO (Biblioth., Museen, Verwalt.) - NPO</td>\n",
       "      <td>Schweiz. Thesauruskommission</td>\n",
       "      <td>120042.00</td>\n",
       "    </tr>\n",
       "  </tbody>\n",
       "</table>\n",
       "</div>"
      ],
      "text/plain": [
       "                                University  \\\n",
       "0                     Nicht zuteilbar - NA   \n",
       "1                Université de Genève - GE   \n",
       "2  NPO (Biblioth., Museen, Verwalt.) - NPO   \n",
       "3                   Universität Basel - BS   \n",
       "4  NPO (Biblioth., Museen, Verwalt.) - NPO   \n",
       "\n",
       "                                         Institution Approved Amount  \n",
       "0                                                NaN        11619.00  \n",
       "1  Faculté de Psychologie et des Sciences de l'Ed...        41022.00  \n",
       "2  Kommission für das Corpus philosophorum medii ...        79732.00  \n",
       "3  Abt. Handschriften und Alte Drucke Bibliothek ...        52627.00  \n",
       "4                       Schweiz. Thesauruskommission       120042.00  "
      ]
     },
     "execution_count": 4,
     "metadata": {},
     "output_type": "execute_result"
    }
   ],
   "source": [
    "data = csv_data[['University', 'Institution', 'Approved Amount']]\n",
    "data.head()"
   ]
  },
  {
   "cell_type": "markdown",
   "metadata": {},
   "source": [
    "Next, we clean up the data.  \n",
    "We note that some values of 'Approved Amount' field are not numeric. Instead, they are strings indicating the lack of data. So, we only keep records with numberic values."
   ]
  },
  {
   "cell_type": "code",
   "execution_count": 5,
   "metadata": {
    "collapsed": false
   },
   "outputs": [
    {
     "name": "stderr",
     "output_type": "stream",
     "text": [
      "c:\\Program Files\\Anaconda3\\lib\\site-packages\\ipykernel\\__main__.py:1: SettingWithCopyWarning: \n",
      "A value is trying to be set on a copy of a slice from a DataFrame.\n",
      "Try using .loc[row_indexer,col_indexer] = value instead\n",
      "\n",
      "See the caveats in the documentation: http://pandas.pydata.org/pandas-docs/stable/indexing.html#indexing-view-versus-copy\n",
      "  if __name__ == '__main__':\n"
     ]
    }
   ],
   "source": [
    "data['Approved Amount'] = pd.to_numeric(data['Approved Amount'], errors='coerce')"
   ]
  },
  {
   "cell_type": "markdown",
   "metadata": {},
   "source": [
    "We also remove records with illegal universities and null approved amount"
   ]
  },
  {
   "cell_type": "code",
   "execution_count": 6,
   "metadata": {
    "collapsed": false
   },
   "outputs": [],
   "source": [
    "data = data[(data.University != 'Nicht zuteilbar - NA') & pd.notnull(data.University) & pd.notnull(data['Approved Amount'])]"
   ]
  },
  {
   "cell_type": "code",
   "execution_count": 7,
   "metadata": {
    "collapsed": false
   },
   "outputs": [
    {
     "data": {
      "text/html": [
       "<div>\n",
       "<table border=\"1\" class=\"dataframe\">\n",
       "  <thead>\n",
       "    <tr style=\"text-align: right;\">\n",
       "      <th></th>\n",
       "      <th>University</th>\n",
       "      <th>Institution</th>\n",
       "      <th>Approved Amount</th>\n",
       "    </tr>\n",
       "  </thead>\n",
       "  <tbody>\n",
       "    <tr>\n",
       "      <th>1</th>\n",
       "      <td>Université de Genève - GE</td>\n",
       "      <td>Faculté de Psychologie et des Sciences de l'Ed...</td>\n",
       "      <td>41022.0</td>\n",
       "    </tr>\n",
       "    <tr>\n",
       "      <th>2</th>\n",
       "      <td>NPO (Biblioth., Museen, Verwalt.) - NPO</td>\n",
       "      <td>Kommission für das Corpus philosophorum medii ...</td>\n",
       "      <td>79732.0</td>\n",
       "    </tr>\n",
       "    <tr>\n",
       "      <th>3</th>\n",
       "      <td>Universität Basel - BS</td>\n",
       "      <td>Abt. Handschriften und Alte Drucke Bibliothek ...</td>\n",
       "      <td>52627.0</td>\n",
       "    </tr>\n",
       "    <tr>\n",
       "      <th>4</th>\n",
       "      <td>NPO (Biblioth., Museen, Verwalt.) - NPO</td>\n",
       "      <td>Schweiz. Thesauruskommission</td>\n",
       "      <td>120042.0</td>\n",
       "    </tr>\n",
       "    <tr>\n",
       "      <th>5</th>\n",
       "      <td>Université de Fribourg - FR</td>\n",
       "      <td>Séminaire de politique économique, d'économie ...</td>\n",
       "      <td>53009.0</td>\n",
       "    </tr>\n",
       "  </tbody>\n",
       "</table>\n",
       "</div>"
      ],
      "text/plain": [
       "                                University  \\\n",
       "1                Université de Genève - GE   \n",
       "2  NPO (Biblioth., Museen, Verwalt.) - NPO   \n",
       "3                   Universität Basel - BS   \n",
       "4  NPO (Biblioth., Museen, Verwalt.) - NPO   \n",
       "5              Université de Fribourg - FR   \n",
       "\n",
       "                                         Institution  Approved Amount  \n",
       "1  Faculté de Psychologie et des Sciences de l'Ed...          41022.0  \n",
       "2  Kommission für das Corpus philosophorum medii ...          79732.0  \n",
       "3  Abt. Handschriften und Alte Drucke Bibliothek ...          52627.0  \n",
       "4                       Schweiz. Thesauruskommission         120042.0  \n",
       "5  Séminaire de politique économique, d'économie ...          53009.0  "
      ]
     },
     "execution_count": 7,
     "metadata": {},
     "output_type": "execute_result"
    }
   ],
   "source": [
    "data.head()"
   ]
  },
  {
   "cell_type": "code",
   "execution_count": 8,
   "metadata": {
    "collapsed": false
   },
   "outputs": [
    {
     "data": {
      "text/html": [
       "<div>\n",
       "<table border=\"1\" class=\"dataframe\">\n",
       "  <thead>\n",
       "    <tr style=\"text-align: right;\">\n",
       "      <th></th>\n",
       "      <th>Full Name</th>\n",
       "      <th>Short Name</th>\n",
       "    </tr>\n",
       "  </thead>\n",
       "  <tbody>\n",
       "    <tr>\n",
       "      <th>0</th>\n",
       "      <td>Université de Genève</td>\n",
       "      <td>GE</td>\n",
       "    </tr>\n",
       "    <tr>\n",
       "      <th>1</th>\n",
       "      <td>NPO (Biblioth., Museen, Verwalt.)</td>\n",
       "      <td>NPO</td>\n",
       "    </tr>\n",
       "    <tr>\n",
       "      <th>2</th>\n",
       "      <td>Universität Basel</td>\n",
       "      <td>BS</td>\n",
       "    </tr>\n",
       "    <tr>\n",
       "      <th>3</th>\n",
       "      <td>Université de Fribourg</td>\n",
       "      <td>FR</td>\n",
       "    </tr>\n",
       "    <tr>\n",
       "      <th>4</th>\n",
       "      <td>Universität Zürich</td>\n",
       "      <td>ZH</td>\n",
       "    </tr>\n",
       "  </tbody>\n",
       "</table>\n",
       "</div>"
      ],
      "text/plain": [
       "                            Full Name Short Name\n",
       "0               Université de Genève          GE\n",
       "1  NPO (Biblioth., Museen, Verwalt.)         NPO\n",
       "2                  Universität Basel          BS\n",
       "3             Université de Fribourg          FR\n",
       "4                 Universität Zürich          ZH"
      ]
     },
     "execution_count": 8,
     "metadata": {},
     "output_type": "execute_result"
    }
   ],
   "source": [
    "# TODO. It's a temporary workaround.\n",
    "# In next section, we need to split all university names by '-' to two parts: full name and short name.\n",
    "# If there is no '-' in the string, extracting short name will get an error \n",
    "data['University'].replace(\"Forschungskommission SAGW\", \"Forschungskommission - SAGE\", inplace=True)\n",
    "universities = pd.DataFrame(data.University.unique())\n",
    "\n",
    "uni_test = universities.replace({r'\\s+': '&'}, regex=True)\n",
    "uni_name = pd.DataFrame(universities[0].str.rsplit('-',1).tolist(), columns=['Full Name', 'Short Name'])\n",
    "uni_name.head()"
   ]
  },
  {
   "cell_type": "markdown",
   "metadata": {},
   "source": [
    "## Canton data\n",
    "\n",
    "We obtain abbrevations for all cantons from geographical JSON data.\n",
    "We did some inspection of the structure of the JSON file, and extract canton abbrevations from the specified label."
   ]
  },
  {
   "cell_type": "code",
   "execution_count": 9,
   "metadata": {
    "collapsed": false
   },
   "outputs": [
    {
     "data": {
      "text/plain": [
       "['ZH',\n",
       " 'BE',\n",
       " 'LU',\n",
       " 'UR',\n",
       " 'SZ',\n",
       " 'OW',\n",
       " 'NW',\n",
       " 'GL',\n",
       " 'ZG',\n",
       " 'FR',\n",
       " 'SO',\n",
       " 'BS',\n",
       " 'BL',\n",
       " 'SH',\n",
       " 'AR',\n",
       " 'AI',\n",
       " 'SG',\n",
       " 'GR',\n",
       " 'AG',\n",
       " 'TG',\n",
       " 'TI',\n",
       " 'VD',\n",
       " 'VS',\n",
       " 'NE',\n",
       " 'GE',\n",
       " 'JU']"
      ]
     },
     "execution_count": 9,
     "metadata": {},
     "output_type": "execute_result"
    }
   ],
   "source": [
    "CH_GEO_JSON = 'data/ch-cantons.topojson.json'\n",
    "\n",
    "with open(CH_GEO_JSON, 'r') as f:\n",
    "    d = json.load(f)\n",
    "\n",
    "cantons = d['objects']['cantons']['geometries']\n",
    "canton_ids = []\n",
    "for canton in cantons:\n",
    "    canton_ids.append(canton['id'])\n",
    "\n",
    "canton_ids"
   ]
  },
  {
   "cell_type": "markdown",
   "metadata": {},
   "source": [
    "# Mapping to canton"
   ]
  },
  {
   "cell_type": "markdown",
   "metadata": {},
   "source": [
    "To compute grants by canton, we need to map (University, Institution) to canton.\n",
    "\n",
    "Available APIs to obtain such mappings include **Geonames Full Text Search API in JSON**, and **GoogleMaps API**, etc. \n",
    "\n",
    "## Geonames API"
   ]
  },
  {
   "cell_type": "code",
   "execution_count": 10,
   "metadata": {
    "collapsed": false
   },
   "outputs": [],
   "source": [
    "uni_canton = pd.DataFrame(columns=['University','Canton'])"
   ]
  },
  {
   "cell_type": "code",
   "execution_count": 11,
   "metadata": {
    "collapsed": true
   },
   "outputs": [],
   "source": [
    "def canton_in_CH(result):\n",
    "    for i in range(len(result)):\n",
    "        if(result['geonames'][i]['countryName']=='Switzerland'):\n",
    "            return True\n",
    "    return False"
   ]
  },
  {
   "cell_type": "code",
   "execution_count": 12,
   "metadata": {
    "collapsed": true
   },
   "outputs": [],
   "source": [
    "URL = 'http://api.geonames.org/searchJSON?'\n",
    "\n",
    "def canton_get(uni):\n",
    "    paraload = {'q':uni,'username':'shiyuenie'}\n",
    "    r = requests.get(URL, params=paraload)\n",
    "    result = r.json()\n",
    "    return result"
   ]
  },
  {
   "cell_type": "code",
   "execution_count": 13,
   "metadata": {
    "collapsed": false
   },
   "outputs": [
    {
     "data": {
      "text/html": [
       "<div>\n",
       "<table border=\"1\" class=\"dataframe\">\n",
       "  <thead>\n",
       "    <tr style=\"text-align: right;\">\n",
       "      <th></th>\n",
       "      <th>University</th>\n",
       "      <th>Canton</th>\n",
       "    </tr>\n",
       "  </thead>\n",
       "  <tbody>\n",
       "    <tr>\n",
       "      <th>0</th>\n",
       "      <td>Université de Genève - GE</td>\n",
       "      <td>Not Found</td>\n",
       "    </tr>\n",
       "    <tr>\n",
       "      <th>1</th>\n",
       "      <td>NPO (Biblioth., Museen, Verwalt.) - NPO</td>\n",
       "      <td>Not Found</td>\n",
       "    </tr>\n",
       "    <tr>\n",
       "      <th>2</th>\n",
       "      <td>Universität Basel - BS</td>\n",
       "      <td>Basel-City</td>\n",
       "    </tr>\n",
       "    <tr>\n",
       "      <th>3</th>\n",
       "      <td>Université de Fribourg - FR</td>\n",
       "      <td>Fribourg</td>\n",
       "    </tr>\n",
       "    <tr>\n",
       "      <th>4</th>\n",
       "      <td>Universität Zürich - ZH</td>\n",
       "      <td>Zurich</td>\n",
       "    </tr>\n",
       "  </tbody>\n",
       "</table>\n",
       "</div>"
      ],
      "text/plain": [
       "                                University      Canton\n",
       "0                Université de Genève - GE   Not Found\n",
       "1  NPO (Biblioth., Museen, Verwalt.) - NPO   Not Found\n",
       "2                   Universität Basel - BS  Basel-City\n",
       "3              Université de Fribourg - FR    Fribourg\n",
       "4                  Universität Zürich - ZH      Zurich"
      ]
     },
     "execution_count": 13,
     "metadata": {},
     "output_type": "execute_result"
    }
   ],
   "source": [
    "for ucount in range(len(universities)): # search full name\n",
    "    uni = universities[0][ucount]\n",
    "    result = canton_get(uni)\n",
    "    if (result['geonames'] != []):\n",
    "        if (canton_in_CH(result)):\n",
    "            uni_canton.loc[ucount] = [uni,result['geonames'][0]['adminName1']]\n",
    "        else:\n",
    "            uni_canton.loc[ucount] = [uni,'Not Found']   \n",
    "    else:\n",
    "        uni_canton.loc[ucount] = [uni,'Not Found']\n",
    "    \n",
    "uni_canton.head()"
   ]
  },
  {
   "cell_type": "code",
   "execution_count": 14,
   "metadata": {
    "collapsed": false
   },
   "outputs": [
    {
     "data": {
      "text/html": [
       "<div>\n",
       "<table border=\"1\" class=\"dataframe\">\n",
       "  <thead>\n",
       "    <tr style=\"text-align: right;\">\n",
       "      <th></th>\n",
       "      <th>University</th>\n",
       "      <th>Canton</th>\n",
       "    </tr>\n",
       "  </thead>\n",
       "  <tbody>\n",
       "    <tr>\n",
       "      <th>0</th>\n",
       "      <td>Université de Genève - GE</td>\n",
       "      <td>Not Found</td>\n",
       "    </tr>\n",
       "    <tr>\n",
       "      <th>1</th>\n",
       "      <td>NPO (Biblioth., Museen, Verwalt.) - NPO</td>\n",
       "      <td>Not Found</td>\n",
       "    </tr>\n",
       "    <tr>\n",
       "      <th>2</th>\n",
       "      <td>Universität Basel - BS</td>\n",
       "      <td>Basel-City</td>\n",
       "    </tr>\n",
       "    <tr>\n",
       "      <th>3</th>\n",
       "      <td>Université de Fribourg - FR</td>\n",
       "      <td>Fribourg</td>\n",
       "    </tr>\n",
       "    <tr>\n",
       "      <th>4</th>\n",
       "      <td>Universität Zürich - ZH</td>\n",
       "      <td>Zurich</td>\n",
       "    </tr>\n",
       "  </tbody>\n",
       "</table>\n",
       "</div>"
      ],
      "text/plain": [
       "                                University      Canton\n",
       "0                Université de Genève - GE   Not Found\n",
       "1  NPO (Biblioth., Museen, Verwalt.) - NPO   Not Found\n",
       "2                   Universität Basel - BS  Basel-City\n",
       "3              Université de Fribourg - FR    Fribourg\n",
       "4                  Universität Zürich - ZH      Zurich"
      ]
     },
     "execution_count": 14,
     "metadata": {},
     "output_type": "execute_result"
    }
   ],
   "source": [
    "#uni_name=uni_name.replace({r'\\s+': '&'}, regex=True)\n",
    "\n",
    "for ucount in range(len(uni_name)):\n",
    "    if (uni_canton.loc[:,'Canton'][ucount] == 'Not Found'): # search with seperate parts\n",
    "        uni_full = uni_name['Full Name'][ucount] \n",
    "        uni_short = uni_name['Short Name'][ucount] \n",
    "        result = canton_get(uni_full) # search part 1\n",
    "        if (result['geonames'] != []):\n",
    "            if(canton_in_CH(result)):\n",
    "                uni_canton.loc[ucount] = [uni,result['geonames'][0]['adminName1']]\n",
    "            else:\n",
    "                result = canton_get(uni_short) # search part 2 \n",
    "                if (result['geonames'] != []):\n",
    "                    if(canton_in_CH(result)):\n",
    "                        uni_canton.loc[ucount] = [uni,result['geonames'][0]['adminName1']]\n",
    "        \n",
    "uni_canton.head()"
   ]
  },
  {
   "cell_type": "code",
   "execution_count": 15,
   "metadata": {
    "collapsed": false,
    "scrolled": true
   },
   "outputs": [
    {
     "data": {
      "text/html": [
       "<div>\n",
       "<table border=\"1\" class=\"dataframe\">\n",
       "  <thead>\n",
       "    <tr style=\"text-align: right;\">\n",
       "      <th></th>\n",
       "      <th>University</th>\n",
       "      <th>Canton</th>\n",
       "    </tr>\n",
       "  </thead>\n",
       "  <tbody>\n",
       "    <tr>\n",
       "      <th>0</th>\n",
       "      <td>Université de Genève - GE</td>\n",
       "      <td>Not Found</td>\n",
       "    </tr>\n",
       "    <tr>\n",
       "      <th>1</th>\n",
       "      <td>NPO (Biblioth., Museen, Verwalt.) - NPO</td>\n",
       "      <td>Not Found</td>\n",
       "    </tr>\n",
       "    <tr>\n",
       "      <th>2</th>\n",
       "      <td>Universität Basel - BS</td>\n",
       "      <td>Basel-City</td>\n",
       "    </tr>\n",
       "    <tr>\n",
       "      <th>3</th>\n",
       "      <td>Université de Fribourg - FR</td>\n",
       "      <td>Fribourg</td>\n",
       "    </tr>\n",
       "    <tr>\n",
       "      <th>4</th>\n",
       "      <td>Universität Zürich - ZH</td>\n",
       "      <td>Zurich</td>\n",
       "    </tr>\n",
       "  </tbody>\n",
       "</table>\n",
       "</div>"
      ],
      "text/plain": [
       "                                University      Canton\n",
       "0                Université de Genève - GE   Not Found\n",
       "1  NPO (Biblioth., Museen, Verwalt.) - NPO   Not Found\n",
       "2                   Universität Basel - BS  Basel-City\n",
       "3              Université de Fribourg - FR    Fribourg\n",
       "4                  Universität Zürich - ZH      Zurich"
      ]
     },
     "execution_count": 15,
     "metadata": {},
     "output_type": "execute_result"
    }
   ],
   "source": [
    "uni_canton[uni_canton['Canton'] != \"Not Found\"]\n",
    "\n",
    "for ucount in range(len(uni_test)): # search full name wit &\n",
    "    uni = uni_test[0][ucount]\n",
    "    result = canton_get(uni)\n",
    "    if (result['geonames'] != []):\n",
    "        if (canton_in_CH(result)):\n",
    "            uni_canton.loc[ucount] = [uni,result['geonames'][0]['adminName1']]\n",
    "    \n",
    "uni_canton.head()"
   ]
  },
  {
   "cell_type": "code",
   "execution_count": 16,
   "metadata": {
    "collapsed": false
   },
   "outputs": [
    {
     "data": {
      "text/plain": [
       "68"
      ]
     },
     "execution_count": 16,
     "metadata": {},
     "output_type": "execute_result"
    }
   ],
   "source": [
    "np.sum(uni_canton.loc[:,'Canton']=='Not Found')"
   ]
  },
  {
   "cell_type": "code",
   "execution_count": 17,
   "metadata": {
    "collapsed": false,
    "scrolled": true
   },
   "outputs": [
    {
     "data": {
      "text/html": [
       "<div>\n",
       "<table border=\"1\" class=\"dataframe\">\n",
       "  <thead>\n",
       "    <tr style=\"text-align: right;\">\n",
       "      <th></th>\n",
       "      <th>University</th>\n",
       "      <th>Canton</th>\n",
       "    </tr>\n",
       "  </thead>\n",
       "  <tbody>\n",
       "    <tr>\n",
       "      <th>2</th>\n",
       "      <td>Universität Basel - BS</td>\n",
       "      <td>Basel-City</td>\n",
       "    </tr>\n",
       "    <tr>\n",
       "      <th>3</th>\n",
       "      <td>Université de Fribourg - FR</td>\n",
       "      <td>Fribourg</td>\n",
       "    </tr>\n",
       "    <tr>\n",
       "      <th>4</th>\n",
       "      <td>Universität Zürich - ZH</td>\n",
       "      <td>Zurich</td>\n",
       "    </tr>\n",
       "    <tr>\n",
       "      <th>5</th>\n",
       "      <td>Fernfachhochschule Schweiz (Mitglied SUPSI) - ...</td>\n",
       "      <td>Vaud</td>\n",
       "    </tr>\n",
       "    <tr>\n",
       "      <th>6</th>\n",
       "      <td>Universität Bern - BE</td>\n",
       "      <td>Bern</td>\n",
       "    </tr>\n",
       "    <tr>\n",
       "      <th>8</th>\n",
       "      <td>Université de Neuchâtel - NE</td>\n",
       "      <td>Neuchâtel</td>\n",
       "    </tr>\n",
       "    <tr>\n",
       "      <th>9</th>\n",
       "      <td>Fernfachhochschule Schweiz (Mitglied SUPSI) - ...</td>\n",
       "      <td>Zurich</td>\n",
       "    </tr>\n",
       "    <tr>\n",
       "      <th>34</th>\n",
       "      <td>Fernfachhochschule Schweiz (Mitglied SUPSI) - ...</td>\n",
       "      <td>Saint Gallen</td>\n",
       "    </tr>\n",
       "  </tbody>\n",
       "</table>\n",
       "</div>"
      ],
      "text/plain": [
       "                                           University        Canton\n",
       "2                              Universität Basel - BS    Basel-City\n",
       "3                         Université de Fribourg - FR      Fribourg\n",
       "4                             Universität Zürich - ZH        Zurich\n",
       "5   Fernfachhochschule Schweiz (Mitglied SUPSI) - ...          Vaud\n",
       "6                               Universität Bern - BE          Bern\n",
       "8                        Université de Neuchâtel - NE     Neuchâtel\n",
       "9   Fernfachhochschule Schweiz (Mitglied SUPSI) - ...        Zurich\n",
       "34  Fernfachhochschule Schweiz (Mitglied SUPSI) - ...  Saint Gallen"
      ]
     },
     "execution_count": 17,
     "metadata": {},
     "output_type": "execute_result"
    }
   ],
   "source": [
    "uni_canton[uni_canton['Canton'] != \"Not Found\"]"
   ]
  },
  {
   "cell_type": "markdown",
   "metadata": {},
   "source": [
    "## GoogleMaps API\n",
    "\n",
    "We use a Python [API wrapper](https://github.com/slimkrazy/python-google-places) for GoogleMaps"
   ]
  },
  {
   "cell_type": "code",
   "execution_count": 18,
   "metadata": {
    "collapsed": false
   },
   "outputs": [],
   "source": [
    "# to install the wrapper\n",
    "# !pip install https://github.com/slimkrazy/python-google-places/zipball/master"
   ]
  },
  {
   "cell_type": "code",
   "execution_count": 19,
   "metadata": {
    "collapsed": false
   },
   "outputs": [],
   "source": [
    "import googlemaps\n",
    "\n",
    "# Key omitted due to security concerns on Github\n",
    "API_KEY = #########################'\n",
    "\n",
    "gmaps = googlemaps.Client(key=API_KEY)"
   ]
  },
  {
   "cell_type": "code",
   "execution_count": 20,
   "metadata": {
    "collapsed": false
   },
   "outputs": [
    {
     "data": {
      "text/plain": [
       "[{'address_components': [{'long_name': 'EPFL',\n",
       "    'short_name': 'EPFL',\n",
       "    'types': ['premise']},\n",
       "   {'long_name': 'Lausanne',\n",
       "    'short_name': 'Lausanne',\n",
       "    'types': ['locality', 'political']},\n",
       "   {'long_name': 'Ouest lausannois',\n",
       "    'short_name': 'Ouest lausannois',\n",
       "    'types': ['administrative_area_level_2', 'political']},\n",
       "   {'long_name': 'Vaud',\n",
       "    'short_name': 'VD',\n",
       "    'types': ['administrative_area_level_1', 'political']},\n",
       "   {'long_name': 'Switzerland',\n",
       "    'short_name': 'CH',\n",
       "    'types': ['country', 'political']},\n",
       "   {'long_name': '1015', 'short_name': '1015', 'types': ['postal_code']}],\n",
       "  'formatted_address': 'EPFL, 1015 Lausanne, Switzerland',\n",
       "  'geometry': {'location': {'lat': 46.5189865, 'lng': 6.5676007},\n",
       "   'location_type': 'ROOFTOP',\n",
       "   'viewport': {'northeast': {'lat': 46.52033548029151,\n",
       "     'lng': 6.568949680291502},\n",
       "    'southwest': {'lat': 46.51763751970851, 'lng': 6.566251719708498}}},\n",
       "  'place_id': 'ChIJ4zm3ev4wjEcRShTLf2C0UWA',\n",
       "  'types': ['premise']}]"
      ]
     },
     "execution_count": 20,
     "metadata": {},
     "output_type": "execute_result"
    }
   ],
   "source": [
    "# We try a sample search to obtain the structure of reply\n",
    "test_epfl = gmaps.geocode('EPFL Switzerland')\n",
    "test_epfl"
   ]
  },
  {
   "cell_type": "markdown",
   "metadata": {
    "collapsed": false
   },
   "source": [
    "We notice that canton information is returned in 'administrative_area_level_2' field. long_name gives the full name of the canton, short_name gives the abbrevation, the same as the id used in geometry json file."
   ]
  },
  {
   "cell_type": "code",
   "execution_count": 21,
   "metadata": {
    "collapsed": false
   },
   "outputs": [
    {
     "data": {
      "text/plain": [
       "'VD'"
      ]
     },
     "execution_count": 21,
     "metadata": {},
     "output_type": "execute_result"
    }
   ],
   "source": [
    "CANTON_TYPE_KEY = 'administrative_area_level_1'\n",
    "    \n",
    "def place_in_CH(place_info):\n",
    "    for info_dict in place_info['address_components']:\n",
    "        if info_dict['long_name'] == 'Switzerland':\n",
    "            return True\n",
    "    return False\n",
    "\n",
    "def parse_canton(place_candidates):\n",
    "    if (place_candidates == None or len(place_candidates) == 0):\n",
    "        return None\n",
    "    \n",
    "    for place in place_candidates:\n",
    "        if not place_in_CH(place):\n",
    "            continue\n",
    "        for info_dict in place['address_components']:\n",
    "            if (CANTON_TYPE_KEY in info_dict['types']) and (info_dict['short_name'] in canton_ids):\n",
    "                return info_dict['short_name']\n",
    "    \n",
    "    return None    \n",
    "\n",
    "parse_canton(test_epfl)"
   ]
  },
  {
   "cell_type": "code",
   "execution_count": 22,
   "metadata": {
    "collapsed": true
   },
   "outputs": [],
   "source": [
    "def construct_search_keys(university, institution):\n",
    "    \n",
    "    def keys_with(x):\n",
    "        keys = []\n",
    "        keys.append(x)\n",
    "        keys.append(x + ', Switzerland')\n",
    "        keys.append(x + ', CH')\n",
    "        return keys\n",
    "    \n",
    "    uni_full_name, uni_short_name = university.rsplit('-',1)\n",
    "\n",
    "    keys = []   \n",
    "    keys += keys_with(university)\n",
    "    keys += keys_with(uni_full_name)\n",
    "    \n",
    "    if institution != None:\n",
    "        keys += keys_with(str(institution))\n",
    "    if uni_short_name != None:\n",
    "        keys += keys_with(uni_short_name)\n",
    "    return keys "
   ]
  },
  {
   "cell_type": "code",
   "execution_count": 23,
   "metadata": {
    "collapsed": true
   },
   "outputs": [],
   "source": [
    "def search_canton(keys):\n",
    "    for key in keys:\n",
    "        resp = gmaps.geocode(key)\n",
    "        canton = parse_canton(resp)\n",
    "        if canton != None:\n",
    "            return canton\n",
    "    return None"
   ]
  },
  {
   "cell_type": "code",
   "execution_count": 24,
   "metadata": {
    "collapsed": false
   },
   "outputs": [],
   "source": [
    "# intialize uni_canton_dict from file\n",
    "# uni_canton_dict maps university to canton\n",
    "uni_canton_df = pd.read_csv('uni-canton.csv', encoding='utf-8')\n",
    "uni_canton_df.set_index('University', inplace=True)\n",
    "uni_canton_dict = uni_canton_df.to_dict()['0']"
   ]
  },
  {
   "cell_type": "code",
   "execution_count": 25,
   "metadata": {
    "collapsed": false
   },
   "outputs": [],
   "source": [
    "def find_canton(row):\n",
    "    # if not searched before\n",
    "    if row.University not in uni_canton_dict:\n",
    "        search_keys = construct_search_keys(row.University, row.Institution)\n",
    "        uni_canton_dict[row.University] = search_canton(search_keys)\n",
    "        print(row.University + \" \" + uni_canton_dict[row.University])\n",
    "    return uni_canton_dict[row.University]"
   ]
  },
  {
   "cell_type": "code",
   "execution_count": 26,
   "metadata": {
    "collapsed": false
   },
   "outputs": [],
   "source": [
    "# uni_canton_df = pd.DataFrame.from_dict(uni_canton_dict, orient=\"index\")\n",
    "# uni_canton_df.index.name = 'University'\n",
    "# uni_canton_df.to_csv('uni-canton.csv', encoding='utf-8')"
   ]
  },
  {
   "cell_type": "code",
   "execution_count": 27,
   "metadata": {
    "collapsed": false,
    "scrolled": false
   },
   "outputs": [],
   "source": [
    "df = data.copy()\n",
    "df['Canton'] = df.apply(find_canton, axis=1)"
   ]
  },
  {
   "cell_type": "code",
   "execution_count": 28,
   "metadata": {
    "collapsed": false
   },
   "outputs": [
    {
     "data": {
      "text/html": [
       "<div>\n",
       "<table border=\"1\" class=\"dataframe\">\n",
       "  <thead>\n",
       "    <tr style=\"text-align: right;\">\n",
       "      <th></th>\n",
       "      <th>University</th>\n",
       "      <th>Institution</th>\n",
       "      <th>Approved Amount</th>\n",
       "      <th>Canton</th>\n",
       "    </tr>\n",
       "  </thead>\n",
       "  <tbody>\n",
       "    <tr>\n",
       "      <th>1</th>\n",
       "      <td>Université de Genève - GE</td>\n",
       "      <td>Faculté de Psychologie et des Sciences de l'Ed...</td>\n",
       "      <td>41022.0</td>\n",
       "      <td>GE</td>\n",
       "    </tr>\n",
       "    <tr>\n",
       "      <th>2</th>\n",
       "      <td>NPO (Biblioth., Museen, Verwalt.) - NPO</td>\n",
       "      <td>Kommission für das Corpus philosophorum medii ...</td>\n",
       "      <td>79732.0</td>\n",
       "      <td>FR</td>\n",
       "    </tr>\n",
       "    <tr>\n",
       "      <th>3</th>\n",
       "      <td>Universität Basel - BS</td>\n",
       "      <td>Abt. Handschriften und Alte Drucke Bibliothek ...</td>\n",
       "      <td>52627.0</td>\n",
       "      <td>BS</td>\n",
       "    </tr>\n",
       "    <tr>\n",
       "      <th>4</th>\n",
       "      <td>NPO (Biblioth., Museen, Verwalt.) - NPO</td>\n",
       "      <td>Schweiz. Thesauruskommission</td>\n",
       "      <td>120042.0</td>\n",
       "      <td>FR</td>\n",
       "    </tr>\n",
       "    <tr>\n",
       "      <th>5</th>\n",
       "      <td>Université de Fribourg - FR</td>\n",
       "      <td>Séminaire de politique économique, d'économie ...</td>\n",
       "      <td>53009.0</td>\n",
       "      <td>FR</td>\n",
       "    </tr>\n",
       "  </tbody>\n",
       "</table>\n",
       "</div>"
      ],
      "text/plain": [
       "                                University  \\\n",
       "1                Université de Genève - GE   \n",
       "2  NPO (Biblioth., Museen, Verwalt.) - NPO   \n",
       "3                   Universität Basel - BS   \n",
       "4  NPO (Biblioth., Museen, Verwalt.) - NPO   \n",
       "5              Université de Fribourg - FR   \n",
       "\n",
       "                                         Institution  Approved Amount Canton  \n",
       "1  Faculté de Psychologie et des Sciences de l'Ed...          41022.0     GE  \n",
       "2  Kommission für das Corpus philosophorum medii ...          79732.0     FR  \n",
       "3  Abt. Handschriften und Alte Drucke Bibliothek ...          52627.0     BS  \n",
       "4                       Schweiz. Thesauruskommission         120042.0     FR  \n",
       "5  Séminaire de politique économique, d'économie ...          53009.0     FR  "
      ]
     },
     "execution_count": 28,
     "metadata": {},
     "output_type": "execute_result"
    }
   ],
   "source": [
    "df.head()"
   ]
  },
  {
   "cell_type": "code",
   "execution_count": 29,
   "metadata": {
    "collapsed": true
   },
   "outputs": [],
   "source": [
    "df.to_csv('data-with-canton.csv', encoding='utf-8')"
   ]
  },
  {
   "cell_type": "code",
   "execution_count": 30,
   "metadata": {
    "collapsed": false
   },
   "outputs": [
    {
     "data": {
      "text/plain": [
       "0.96396247126317747"
      ]
     },
     "execution_count": 30,
     "metadata": {},
     "output_type": "execute_result"
    }
   ],
   "source": [
    "found_rate = pd.notnull(df['Canton']).sum() / len(df['Canton'])\n",
    "found_rate"
   ]
  },
  {
   "cell_type": "markdown",
   "metadata": {},
   "source": [
    "### Manually handle missing data"
   ]
  },
  {
   "cell_type": "markdown",
   "metadata": {},
   "source": [
    "Fow now, we simply ignore the missing records.\n",
    "\n",
    "#  Compute grants by canton"
   ]
  },
  {
   "cell_type": "code",
   "execution_count": 31,
   "metadata": {
    "collapsed": false
   },
   "outputs": [],
   "source": [
    "canton_grants_df = df[['Approved Amount', 'Canton']].groupby(['Canton']).mean()\n",
    "canton_grants_df.reset_index(inplace=True)"
   ]
  },
  {
   "cell_type": "code",
   "execution_count": 32,
   "metadata": {
    "collapsed": false
   },
   "outputs": [
    {
     "data": {
      "text/html": [
       "<div>\n",
       "<table border=\"1\" class=\"dataframe\">\n",
       "  <thead>\n",
       "    <tr style=\"text-align: right;\">\n",
       "      <th></th>\n",
       "      <th>Canton</th>\n",
       "      <th>Approved Amount</th>\n",
       "    </tr>\n",
       "  </thead>\n",
       "  <tbody>\n",
       "    <tr>\n",
       "      <th>5</th>\n",
       "      <td>GE</td>\n",
       "      <td>288583.545632</td>\n",
       "    </tr>\n",
       "    <tr>\n",
       "      <th>13</th>\n",
       "      <td>TG</td>\n",
       "      <td>287070.071429</td>\n",
       "    </tr>\n",
       "    <tr>\n",
       "      <th>3</th>\n",
       "      <td>BS</td>\n",
       "      <td>285288.768854</td>\n",
       "    </tr>\n",
       "    <tr>\n",
       "      <th>16</th>\n",
       "      <td>VD</td>\n",
       "      <td>280711.058715</td>\n",
       "    </tr>\n",
       "    <tr>\n",
       "      <th>2</th>\n",
       "      <td>BE</td>\n",
       "      <td>276768.072614</td>\n",
       "    </tr>\n",
       "    <tr>\n",
       "      <th>19</th>\n",
       "      <td>ZH</td>\n",
       "      <td>266918.811070</td>\n",
       "    </tr>\n",
       "    <tr>\n",
       "      <th>14</th>\n",
       "      <td>TI</td>\n",
       "      <td>242504.534507</td>\n",
       "    </tr>\n",
       "    <tr>\n",
       "      <th>6</th>\n",
       "      <td>GR</td>\n",
       "      <td>234106.088595</td>\n",
       "    </tr>\n",
       "    <tr>\n",
       "      <th>4</th>\n",
       "      <td>FR</td>\n",
       "      <td>222939.102799</td>\n",
       "    </tr>\n",
       "    <tr>\n",
       "      <th>0</th>\n",
       "      <td>AG</td>\n",
       "      <td>215293.570682</td>\n",
       "    </tr>\n",
       "    <tr>\n",
       "      <th>17</th>\n",
       "      <td>VS</td>\n",
       "      <td>212749.000000</td>\n",
       "    </tr>\n",
       "    <tr>\n",
       "      <th>1</th>\n",
       "      <td>AR</td>\n",
       "      <td>196649.424286</td>\n",
       "    </tr>\n",
       "    <tr>\n",
       "      <th>15</th>\n",
       "      <td>UR</td>\n",
       "      <td>195959.750000</td>\n",
       "    </tr>\n",
       "    <tr>\n",
       "      <th>12</th>\n",
       "      <td>SZ</td>\n",
       "      <td>187310.200000</td>\n",
       "    </tr>\n",
       "    <tr>\n",
       "      <th>9</th>\n",
       "      <td>SG</td>\n",
       "      <td>177263.750411</td>\n",
       "    </tr>\n",
       "    <tr>\n",
       "      <th>10</th>\n",
       "      <td>SH</td>\n",
       "      <td>176691.000000</td>\n",
       "    </tr>\n",
       "    <tr>\n",
       "      <th>7</th>\n",
       "      <td>LU</td>\n",
       "      <td>170910.977608</td>\n",
       "    </tr>\n",
       "    <tr>\n",
       "      <th>8</th>\n",
       "      <td>NE</td>\n",
       "      <td>155348.428571</td>\n",
       "    </tr>\n",
       "    <tr>\n",
       "      <th>11</th>\n",
       "      <td>SO</td>\n",
       "      <td>126062.603173</td>\n",
       "    </tr>\n",
       "    <tr>\n",
       "      <th>18</th>\n",
       "      <td>ZG</td>\n",
       "      <td>70816.428571</td>\n",
       "    </tr>\n",
       "    <tr>\n",
       "      <th>20</th>\n",
       "      <td>OW</td>\n",
       "      <td>0.000000</td>\n",
       "    </tr>\n",
       "    <tr>\n",
       "      <th>21</th>\n",
       "      <td>NW</td>\n",
       "      <td>0.000000</td>\n",
       "    </tr>\n",
       "    <tr>\n",
       "      <th>22</th>\n",
       "      <td>GL</td>\n",
       "      <td>0.000000</td>\n",
       "    </tr>\n",
       "    <tr>\n",
       "      <th>23</th>\n",
       "      <td>BL</td>\n",
       "      <td>0.000000</td>\n",
       "    </tr>\n",
       "    <tr>\n",
       "      <th>24</th>\n",
       "      <td>AI</td>\n",
       "      <td>0.000000</td>\n",
       "    </tr>\n",
       "    <tr>\n",
       "      <th>25</th>\n",
       "      <td>JU</td>\n",
       "      <td>0.000000</td>\n",
       "    </tr>\n",
       "  </tbody>\n",
       "</table>\n",
       "</div>"
      ],
      "text/plain": [
       "   Canton  Approved Amount\n",
       "5      GE    288583.545632\n",
       "13     TG    287070.071429\n",
       "3      BS    285288.768854\n",
       "16     VD    280711.058715\n",
       "2      BE    276768.072614\n",
       "19     ZH    266918.811070\n",
       "14     TI    242504.534507\n",
       "6      GR    234106.088595\n",
       "4      FR    222939.102799\n",
       "0      AG    215293.570682\n",
       "17     VS    212749.000000\n",
       "1      AR    196649.424286\n",
       "15     UR    195959.750000\n",
       "12     SZ    187310.200000\n",
       "9      SG    177263.750411\n",
       "10     SH    176691.000000\n",
       "7      LU    170910.977608\n",
       "8      NE    155348.428571\n",
       "11     SO    126062.603173\n",
       "18     ZG     70816.428571\n",
       "20     OW         0.000000\n",
       "21     NW         0.000000\n",
       "22     GL         0.000000\n",
       "23     BL         0.000000\n",
       "24     AI         0.000000\n",
       "25     JU         0.000000"
      ]
     },
     "execution_count": 32,
     "metadata": {},
     "output_type": "execute_result"
    }
   ],
   "source": [
    "# Add missing data\n",
    "for canton_id in canton_ids:\n",
    "    if canton_id not in canton_grants_df['Canton'].values:\n",
    "        canton_grants_df = canton_grants_df.append({'Canton':canton_id, 'Approved Amount': 0.0}, ignore_index=True)\n",
    "\n",
    "canton_grants_df = canton_grants_df.sort_values(by=['Approved Amount'], ascending=False)\n",
    "canton_grants_df"
   ]
  },
  {
   "cell_type": "markdown",
   "metadata": {},
   "source": [
    "# Data visualization\n",
    "##  Draw grants map by canton"
   ]
  },
  {
   "cell_type": "code",
   "execution_count": 33,
   "metadata": {
    "collapsed": false,
    "scrolled": true
   },
   "outputs": [
    {
     "name": "stderr",
     "output_type": "stream",
     "text": [
      "c:\\Program Files\\Anaconda3\\lib\\site-packages\\ipykernel\\__main__.py:7: FutureWarning: 'threshold_scale' default behavior has changed. Now you get a linear scale between the 'min' and the 'max' of your data. To get former behavior, use folium.utilities.split_six.\n"
     ]
    },
    {
     "data": {
      "text/html": [
       "<div style=\"width:100%;\"><div style=\"position:relative;width:100%;height:0;padding-bottom:60%;\"><iframe src=\"data:text/html;base64,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\" style=\"position:absolute;width:100%;height:100%;left:0;top:0;\"></iframe></div></div>"
      ],
      "text/plain": [
       "<folium.folium.Map at 0x92173c8>"
      ]
     },
     "execution_count": 33,
     "metadata": {},
     "output_type": "execute_result"
    }
   ],
   "source": [
    "map = folium.Map(location=[46.82244,8.22410], zoom_start=8)\n",
    "map.choropleth(data=canton_grants_df,\n",
    "               columns=['Canton', 'Approved Amount'], \n",
    "               key_on='feature.id', \n",
    "               geo_path=CH_GEO_JSON, \n",
    "               topojson='objects.cantons', \n",
    "               fill_color='YlOrRd'\n",
    "               )\n",
    "map"
   ]
  },
  {
   "cell_type": "markdown",
   "metadata": {
    "collapsed": true
   },
   "source": [
    "** TODO **: The map cannot be displayed on Github. To view the map, you have to run this cell locally with Jupyter Notebook. To facilitate code reviewing, we may add an additionaly snapshot of the map here."
   ]
  }
 ],
 "metadata": {
  "anaconda-cloud": {},
  "kernelspec": {
   "display_name": "Python 2",
   "language": "python",
   "name": "python2"
  },
  "language_info": {
   "codemirror_mode": {
    "name": "ipython",
    "version": 2
   },
   "file_extension": ".py",
   "mimetype": "text/x-python",
   "name": "python",
   "nbconvert_exporter": "python",
   "pygments_lexer": "ipython2",
   "version": "2.7.11"
  }
 },
 "nbformat": 4,
 "nbformat_minor": 1
}
