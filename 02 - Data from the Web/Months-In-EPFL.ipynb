{
 "cells": [
  {
   "cell_type": "code",
   "execution_count": 1,
   "metadata": {
    "collapsed": true
   },
   "outputs": [],
   "source": [
    "import requests\n",
    "from bs4 import BeautifulSoup"
   ]
  },
  {
   "cell_type": "code",
   "execution_count": 2,
   "metadata": {
    "collapsed": true
   },
   "outputs": [],
   "source": [
    "# parameter keys\n",
    "PARAM_YEAR = 'ww_x_PERIODE_ACAD'\n",
    "PARAM_STATUS = 'ww_x_PERIODE_PEDAGO'\n",
    "PARAM_SEMESTER = 'ww_x_HIVERETE'\n",
    "PARAM_GPS = 'ww_x_GPS'"
   ]
  },
  {
   "cell_type": "code",
   "execution_count": 3,
   "metadata": {
    "collapsed": false
   },
   "outputs": [],
   "source": [
    "FILTER_BASE_URL = 'http://isa.epfl.ch/imoniteur_ISAP/!GEDPUBLICREPORTS.filter?ww_b_list=1&ww_i_reportmodel=133685247&ww_i_reportModelXsl=133685270&ww_x_UNITE_ACAD=249847'\n",
    "GPS_BASE_URL = 'http://isa.epfl.ch/imoniteur_ISAP/!GEDPUBLICREPORTS.html?ww_i_reportModel=133685247&ww_i_reportModelXsl=133685270&ww_b_list=1&ww_x_UNITE_ACAD=249847'"
   ]
  },
  {
   "cell_type": "code",
   "execution_count": 4,
   "metadata": {
    "collapsed": true
   },
   "outputs": [],
   "source": [
    "# semester types\n",
    "SEMESTER_AUTUMN = 'Autumn'\n",
    "SEMESTER_SPRING = 'Spring'"
   ]
  },
  {
   "cell_type": "code",
   "execution_count": 5,
   "metadata": {
    "collapsed": true
   },
   "outputs": [],
   "source": [
    "# status types\n",
    "STATUS_B1 = 'B1'\n",
    "STATUS_B6 = 'B6'"
   ]
  },
  {
   "cell_type": "code",
   "execution_count": 6,
   "metadata": {
    "collapsed": true
   },
   "outputs": [],
   "source": [
    "def param_in_url(param_name, param_value):\n",
    "    return '&' + param_name + '=' + param_value"
   ]
  },
  {
   "cell_type": "code",
   "execution_count": 7,
   "metadata": {
    "collapsed": true
   },
   "outputs": [],
   "source": [
    "r = requests.get(FILTER_BASE_URL)"
   ]
  },
  {
   "cell_type": "code",
   "execution_count": 8,
   "metadata": {
    "collapsed": true
   },
   "outputs": [],
   "source": [
    "# TODO(weiyu): extract statuses instead of using hard code\n",
    "statuses = {}\n",
    "statuses[STATUS_B1] = \"249108\"\n",
    "statuses[STATUS_B6] = \"942175\""
   ]
  },
  {
   "cell_type": "code",
   "execution_count": 9,
   "metadata": {
    "collapsed": true
   },
   "outputs": [],
   "source": [
    "# TODO(weiyu): extract years\n",
    "years = {}\n",
    "# 2015 - 2016\n",
    "years[2015] = \"213638028\""
   ]
  },
  {
   "cell_type": "code",
   "execution_count": 10,
   "metadata": {
    "collapsed": true
   },
   "outputs": [],
   "source": [
    "# TODO(weiyu):\n",
    "# extract semesters\n",
    "semesters = {}\n",
    "semesters[SEMESTER_AUTUMN] = \"2936286\"\n",
    "semesters[SEMESTER_SPRING] = \"2936295\""
   ]
  },
  {
   "cell_type": "code",
   "execution_count": 11,
   "metadata": {
    "collapsed": true
   },
   "outputs": [],
   "source": [
    "def is_valid_gps(gps):\n",
    "    return gps != \"-1\"\n",
    "\n",
    "def extract_gps(content):\n",
    "    soup = BeautifulSoup(content, 'html.parser')\n",
    "    elements = soup.find_all('a', class_='ww_x_GPS')\n",
    "    for element in elements:\n",
    "        raw_info = element.attrs['onclick']\n",
    "        gps = raw_info.split(\"'\")[1].split('=')[1]\n",
    "        if is_valid_gps(gps):\n",
    "            return gps"
   ]
  },
  {
   "cell_type": "code",
   "execution_count": 12,
   "metadata": {
    "collapsed": false
   },
   "outputs": [],
   "source": [
    "# TODO: query records by gps & store data to the global dict\n",
    "def handle_gps(gps, year, status, semester):\n",
    "    if gps == None:\n",
    "        return\n",
    "    url = GPS_BASE_URL + param_in_url(PARAM_GPS, gps)\n",
    "    r = requests.get(url)\n",
    "    # print(r.content)  "
   ]
  },
  {
   "cell_type": "code",
   "execution_count": 13,
   "metadata": {
    "collapsed": false
   },
   "outputs": [
    {
     "name": "stdout",
     "output_type": "stream",
     "text": [
      "2015 B6 Autumn None\n",
      "2015 B6 Spring 1650772010\n",
      "2015 B1 Autumn 1897032870\n",
      "2015 B1 Spring None\n"
     ]
    }
   ],
   "source": [
    "for year, year_val in years.items():\n",
    "    for status, status_val in statuses.items():        \n",
    "        for semester, sms_val in semesters.items():\n",
    "            # construct urls for query\n",
    "            url = FILTER_BASE_URL\n",
    "            url += param_in_url(PARAM_YEAR, year_val)\n",
    "            url += param_in_url(PARAM_STATUS, status_val)\n",
    "            url += param_in_url(PARAM_SEMESTER, sms_val)\n",
    "\n",
    "            # get gps list\n",
    "            r = requests.get(url)\n",
    "            gps = extract_gps(r.content)\n",
    "            print(year, status, semester, gps)\n",
    "            \n",
    "            # query by gps & extract data to the global dict\n",
    "            handle_gps(gps, year, status, semester)"
   ]
  },
  {
   "cell_type": "code",
   "execution_count": null,
   "metadata": {
    "collapsed": true
   },
   "outputs": [],
   "source": []
  }
 ],
 "metadata": {
  "anaconda-cloud": {},
  "kernelspec": {
   "display_name": "Python [Root]",
   "language": "python",
   "name": "Python [Root]"
  },
  "language_info": {
   "codemirror_mode": {
    "name": "ipython",
    "version": 3
   },
   "file_extension": ".py",
   "mimetype": "text/x-python",
   "name": "python",
   "nbconvert_exporter": "python",
   "pygments_lexer": "ipython3",
   "version": "3.5.2"
  }
 },
 "nbformat": 4,
 "nbformat_minor": 0
}
