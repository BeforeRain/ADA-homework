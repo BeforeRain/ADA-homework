{
 "cells": [
  {
   "cell_type": "code",
   "execution_count": 1,
   "metadata": {
    "collapsed": true
   },
   "outputs": [],
   "source": [
    "from bs4 import BeautifulSoup\n",
    "import requests\n",
    "import pandas as pd\n",
    "import numpy as np"
   ]
  },
  {
   "cell_type": "markdown",
   "metadata": {},
   "source": [
    "** NOTE: ** We have commented some outputs so that the notebook isn't much longer than it already is."
   ]
  },
  {
   "cell_type": "markdown",
   "metadata": {},
   "source": [
    "# Familiarizing with the tools and data"
   ]
  },
  {
   "cell_type": "markdown",
   "metadata": {},
   "source": [
    "Let's first analyze the HTML content of the IS-Academia directory. We will this by using the `requests` library to `GET` the HTML content given a URL. We obtained the following URL using Postman (https://www.getpostman.com/) and Postman Interceptor."
   ]
  },
  {
   "cell_type": "code",
   "execution_count": 2,
   "metadata": {
    "collapsed": false
   },
   "outputs": [],
   "source": [
    "r = requests.get(\"http://isa.epfl.ch/imoniteur_ISAP/!GEDPUBLICREPORTS.filter?ww_i_reportModel=133685247\")"
   ]
  },
  {
   "cell_type": "markdown",
   "metadata": {},
   "source": [
    "Now we will use `BeautifulSoup` to parse through the data and visualize it nicely with the `pretiffy()` method."
   ]
  },
  {
   "cell_type": "code",
   "execution_count": 3,
   "metadata": {
    "collapsed": false
   },
   "outputs": [],
   "source": [
    "soup = BeautifulSoup(r.content, 'html.parser')\n",
    "#print(soup.prettify())"
   ]
  },
  {
   "cell_type": "markdown",
   "metadata": {},
   "source": [
    "With `BeautifulSoup`, we can conveniently dig deeper into the HTML content as described in this tutorial: https://www.crummy.com/software/BeautifulSoup/bs4/doc/. We will isolate the filters used to distinguish students by Major (Unité académique), Academic Year (Période académique), Student Status (Période pédagogique), and Semester Type (Type de semestre). We have identified from the output above that the filters are in the `body`, between `<table>` tags with `id=\"filtre\"`. Finally, we can use `find_all('tr')` to get each filter as an entry in a list."
   ]
  },
  {
   "cell_type": "code",
   "execution_count": 4,
   "metadata": {
    "collapsed": false
   },
   "outputs": [],
   "source": [
    "filters = soup.body.find(id=\"filtre\").find_all('tr')\n",
    "#print(filters)"
   ]
  },
  {
   "cell_type": "markdown",
   "metadata": {},
   "source": [
    "Admittedly, not the nicest output. And besides the fact that there are square brackets, it's hard to even say that it's a list! Let's try to output this more cleanly. From the `prettify()` output, we saw that each filter, e.g. `Architecture` for Unité académique or `2010-2011` for Période académique has an `option` tag surrounding it. Let's use `find_all(option)` with each item in the above list to \"cleanly\" output the filter options."
   ]
  },
  {
   "cell_type": "code",
   "execution_count": 5,
   "metadata": {
    "collapsed": false
   },
   "outputs": [
    {
     "name": "stdout",
     "output_type": "stream",
     "text": [
      "[<option value=\"null\"></option>, <option value=\"942293\">Architecture</option>, <option value=\"246696\">Chimie et génie chimique</option>, <option value=\"943282\">Cours de mathématiques spéciales</option>, <option value=\"637841336\">EME (EPFL Middle East)</option>, <option value=\"942623\">Génie civil</option>, <option value=\"944263\">Génie mécanique</option>, <option value=\"943936\">Génie électrique et électronique </option>, <option value=\"2054839157\">Humanités digitales</option>, <option value=\"249847\">Informatique</option>, <option value=\"120623110\">Ingénierie financière</option>, <option value=\"946882\">Management de la technologie</option>, <option value=\"944590\">Mathématiques</option>, <option value=\"945244\">Microtechnique</option>, <option value=\"945571\">Physique</option>, <option value=\"944917\">Science et génie des matériaux</option>, <option value=\"942953\">Sciences et ingénierie de l'environnement</option>, <option value=\"945901\">Sciences et technologies du vivant</option>, <option value=\"1574548993\">Section FCUE</option>, <option value=\"946228\">Systèmes de communication</option>]\n",
      "[<option value=\"null\"></option>, <option value=\"355925344\">2016-2017</option>, <option value=\"213638028\">2015-2016</option>, <option value=\"213637922\">2014-2015</option>, <option value=\"213637754\">2013-2014</option>, <option value=\"123456101\">2012-2013</option>, <option value=\"123455150\">2011-2012</option>, <option value=\"39486325\">2010-2011</option>, <option value=\"978195\">2009-2010</option>, <option value=\"978187\">2008-2009</option>, <option value=\"978181\">2007-2008</option>]\n",
      "[<option value=\"null\"></option>, <option value=\"249108\">Bachelor semestre 1</option>, <option value=\"249114\">Bachelor semestre 2</option>, <option value=\"942155\">Bachelor semestre 3</option>, <option value=\"942163\">Bachelor semestre 4</option>, <option value=\"942120\">Bachelor semestre 5</option>, <option value=\"2226768\">Bachelor semestre 5b</option>, <option value=\"942175\">Bachelor semestre 6</option>, <option value=\"2226785\">Bachelor semestre 6b</option>, <option value=\"2230106\">Master semestre 1</option>, <option value=\"942192\">Master semestre 2</option>, <option value=\"2230128\">Master semestre 3</option>, <option value=\"2230140\">Master semestre 4</option>, <option value=\"2335667\">Mineur semestre 1</option>, <option value=\"2335676\">Mineur semestre 2</option>, <option value=\"2063602308\">Mise à niveau</option>, <option value=\"249127\">Projet Master automne</option>, <option value=\"3781783\">Projet Master printemps</option>, <option value=\"953159\">Semestre automne</option>, <option value=\"2754553\">Semestre printemps</option>, <option value=\"953137\">Stage automne 3ème année</option>, <option value=\"2226616\">Stage automne 4ème année</option>, <option value=\"983606\">Stage printemps 3ème année</option>, <option value=\"2226626\">Stage printemps 4ème année</option>, <option value=\"2227132\">Stage printemps master</option>]\n",
      "[<option value=\"null\"></option>, <option value=\"2936286\">Semestre d'automne</option>, <option value=\"2936295\">Semestre de printemps</option>]\n"
     ]
    }
   ],
   "source": [
    "for field in filters:\n",
    "    print(field.find_all('option'))"
   ]
  },
  {
   "cell_type": "markdown",
   "metadata": {},
   "source": [
    "That's a bit better. We can see a `value` associated with each field option, e.g. `249847` for `Informatique`. Let's actually use some of these filters on the website itself and intercept the requests using Postman + Postman Interceptor. Postman helps us track which URLs are requested and to analyze the corresponding HTML. Let's check out the URL and HTML content (with `BeautifulSoup`) when we select the following field options: `Informatique`, `2009-2010`, `Bachelor semestre 1`, and `Semestre d'automne`.\n",
    "\n",
    "http://isa.epfl.ch/imoniteur_ISAP/!GEDPUBLICREPORTS.filter?ww_b_list=1&ww_i_reportmodel=133685247&ww_c_langue=&ww_i_reportModelXsl=133685270&zz_x_UNITE_ACAD=Informatique&ww_x_UNITE_ACAD=249847&zz_x_PERIODE_ACAD=2009-2010&ww_x_PERIODE_ACAD=978195&zz_x_PERIODE_PEDAGO=Bachelor+semestre+1&ww_x_PERIODE_PEDAGO=249108&zz_x_HIVERETE=Semestre+d%27automne&ww_x_HIVERETE=2936286&dummy=ok\n",
    "\n",
    "In the URL we can see the options we selected! Moreover, they have been used as parameters for the URL along with their corresponding `value` attribute. The parameter names (that `Informatique`, `2009-2010`, `Bachelor semestre 1`, and `Semestre d'automne` are being set to) could be identified by navigating through our `filters` list (by going into the `td` tag and then selecting the `name` attribute of the `input` tag)."
   ]
  },
  {
   "cell_type": "code",
   "execution_count": 6,
   "metadata": {
    "collapsed": false
   },
   "outputs": [
    {
     "name": "stdout",
     "output_type": "stream",
     "text": [
      "zz_x_UNITE_ACAD\n",
      "zz_x_PERIODE_ACAD\n",
      "zz_x_PERIODE_PEDAGO\n",
      "zz_x_HIVERETE\n"
     ]
    }
   ],
   "source": [
    "for field in filters:\n",
    "    print(field.td.input[\"name\"])"
   ]
  },
  {
   "cell_type": "markdown",
   "metadata": {},
   "source": [
    "`zz_*` seems to be for the string parameter name and `xx_*` for the corresponding `value` attribute. However, it is also possible to get the same HTML content without the `zz_*` parameters by adding the `ww_b_list` parameter (we found this out using Postmaster):\n",
    "\n",
    "http://isa.epfl.ch/imoniteur_ISAP/!GEDPUBLICREPORTS.filter?ww_b_list=1&ww_i_reportmodel=133685247&ww_i_reportModelXsl=133685270&ww_x_HIVERETE=2936286&ww_x_PERIODE_ACAD=978195&ww_x_UNITE_ACAD=249847&ww_x_PERIODE_PEDAGO=249108\n",
    "\n",
    "When checking out the HTML content, we see a new table at the bottom (corresponding to the options we see on the IS-Academia portal) with attribute `border=\"0\"`. Let's check it out with `BeautifulSoup`."
   ]
  },
  {
   "cell_type": "code",
   "execution_count": 7,
   "metadata": {
    "collapsed": false
   },
   "outputs": [],
   "source": [
    "r = requests.get(\"http://isa.epfl.ch/imoniteur_ISAP/!GEDPUBLICREPORTS.filter?ww_b_list=1&ww_i_reportmodel=133685247&ww_c_langue=&ww_i_reportModelXsl=133685270&zz_x_UNITE_ACAD=Informatique&ww_x_UNITE_ACAD=249847&zz_x_PERIODE_ACAD=2009-2010&ww_x_PERIODE_ACAD=978195&zz_x_PERIODE_PEDAGO=Bachelor+semestre+1&ww_x_PERIODE_PEDAGO=249108&zz_x_HIVERETE=Semestre+d%27automne&ww_x_HIVERETE=2936286&dummy=ok\")\n",
    "soup = BeautifulSoup(r.content, 'html.parser')\n",
    "#print(soup.prettify())"
   ]
  },
  {
   "cell_type": "markdown",
   "metadata": {},
   "source": [
    "We now see this new parameter `ww_x_GPS`. Let's follow the link for `Informatique, 2009-2010, Bachelor semestre 1` and analyze as before. The webpage now shows the corresponding list of students! With Postman, we see a `GET` request with the following URL:\n",
    "\n",
    "http://isa.epfl.ch/imoniteur_ISAP/!GEDPUBLICREPORTS.html?ww_x_GPS=213617925&ww_i_reportModel=133685247&ww_i_reportModelXsl=133685270&ww_b_list=1&ww_x_UNITE_ACAD=249847&ww_x_PERIODE_ACAD=978195&ww_x_PERIODE_PEDAGO=249108&ww_x_HIVERETE=2936286\n",
    "\n",
    "This is very similar to previous URL with one key difference: the new parameter `ww_x_GPS` with its corresponding value has been added to the URL.\n",
    "\n",
    "We have now \"cracked\" the manner in which to extract the desired HTML content from IS-Academia! The general procedure is as follows:\n",
    "\n",
    "1. Identity the `value` attributes according to desired filters.\n",
    "2. Using `requests`, build the URL for filter search results with the `value` attributes as parameters of the following base URL: http://isa.epfl.ch/imoniteur_ISAP/!GEDPUBLICREPORTS.filter?ww_b_list=1&ww_i_reportmodel=133685247&ww_c_langue=&ww_i_reportModelXsl=133685270\n",
    "3. Use `BeautifulSoup` to extract the `ww_x_GPS` parameter value from the HTML content.\n",
    "4. With `requests`, build the URL with the newly acquired `ww_x_GPS` value and the `value` attributes as parameters of the following base URL: http://isa.epfl.ch/imoniteur_ISAP/!GEDPUBLICREPORTS.html?ww_i_reportModel=133685247&ww_i_reportModelXsl=133685270&ww_b_list=1\n",
    "5. We then have a table of students in HTML format. We can use then use `Beautiful Soup` in order to conveniently access the data.\n",
    "\n",
    "Below we will go through the above steps for picking out the students we need for our analysis in the exercises."
   ]
  },
  {
   "cell_type": "markdown",
   "metadata": {},
   "source": [
    "#### 1. Identify `value` attributes according to desired filters"
   ]
  },
  {
   "cell_type": "markdown",
   "metadata": {},
   "source": [
    "In order to perform the first step conveniently, we will create a few dictionaries so we can \"translate\" the desired filter options into their corresponding `value` attributes. These dictionaries will be used in the following exercises. The following is our base url for the main page."
   ]
  },
  {
   "cell_type": "code",
   "execution_count": 8,
   "metadata": {
    "collapsed": false
   },
   "outputs": [],
   "source": [
    "# same URL as before, identified with postmam\n",
    "r = requests.get(\"http://isa.epfl.ch/imoniteur_ISAP/!GEDPUBLICREPORTS.filter?ww_i_reportModel=133685247\")\n",
    "# scrape content using BeautifulSoup\n",
    "soup = BeautifulSoup(r.content, 'html.parser')\n",
    "# obtain list of filters as previously described\n",
    "filters = soup.body.find(id=\"filtre\").find_all('tr')"
   ]
  },
  {
   "cell_type": "markdown",
   "metadata": {},
   "source": [
    "Now we define a new function `create_series()` in order to scrape the string and corresponding `value` attribute from a list of `option`s. The function will finally place them in a dictionary with the string as the key and the `value` attribute as the (you, got it) value. We then construct a pandas `Series` from the dictionary and return it."
   ]
  },
  {
   "cell_type": "code",
   "execution_count": 9,
   "metadata": {
    "collapsed": false
   },
   "outputs": [],
   "source": [
    "# function to create Series for each filter\n",
    "def create_series(field_list):\n",
    "    field_dict = {}\n",
    "    for i in range(1, len(field_list)):\n",
    "        field_dict[field_list[i].string] = field_list[i][\"value\"]\n",
    "    return pd.Series(data=field_dict)\n",
    "\n",
    "# Unité académique, Période académique, Période pédagogique, Type de semestre\n",
    "major,acad_yr,status,semester = [create_series(filters[x].find_all('option')) for x in range(0,4)]"
   ]
  },
  {
   "cell_type": "markdown",
   "metadata": {},
   "source": [
    "Let's `pickle` these `Series` so we don't have to have to rely on `requests`."
   ]
  },
  {
   "cell_type": "code",
   "execution_count": 10,
   "metadata": {
    "collapsed": false
   },
   "outputs": [],
   "source": [
    "pickle_names = [\"major_pickle\", \"acad_yr_pickle\", \"status_pickle\", \"sem_pickle\"]\n",
    "dicts = [major,acad_yr,status,semester]\n",
    "res = [dic.to_pickle(pname) for dic, pname in zip(dicts,pickle_names)]"
   ]
  },
  {
   "cell_type": "markdown",
   "metadata": {},
   "source": [
    "Now we can convieniently obtain the necessary parameters to build the URLs for filtering students based on Major (Unité académique), Academic Year (Période académique), Student Status (Période pédagogique), and Semester Type (Type de semestre)! Below are some examples."
   ]
  },
  {
   "cell_type": "code",
   "execution_count": 11,
   "metadata": {
    "collapsed": false
   },
   "outputs": [
    {
     "name": "stdout",
     "output_type": "stream",
     "text": [
      "249847\n",
      "123456101\n",
      "2230128\n",
      "2936295\n"
     ]
    }
   ],
   "source": [
    "print(major[\"Informatique\"])\n",
    "print(acad_yr[\"2012-2013\"])\n",
    "print(status[\"Master semestre 3\"])\n",
    "print(semester[\"Semestre de printemps\"])"
   ]
  },
  {
   "cell_type": "markdown",
   "metadata": {},
   "source": [
    "#### 2. Using `requests`, build the URL for the filter search results with the `value` attributes as parameters"
   ]
  },
  {
   "cell_type": "markdown",
   "metadata": {},
   "source": [
    "Now let's build the required URL so we can obtain the `ww_x_GPS` parameter value to then gather the students that meet our search criteria. The following is our base URL for the filter search results:"
   ]
  },
  {
   "cell_type": "code",
   "execution_count": 12,
   "metadata": {
    "collapsed": true
   },
   "outputs": [],
   "source": [
    "FILTER_BASE_URL = 'http://isa.epfl.ch/imoniteur_ISAP/!GEDPUBLICREPORTS.filter?ww_b_list=1&ww_i_reportmodel=133685247&ww_c_langue=&ww_i_reportModelXsl=133685270'"
   ]
  },
  {
   "cell_type": "markdown",
   "metadata": {},
   "source": [
    "Now using `requests`, we can build the URL with the necessary parameters as we saw above. We have the following parameters:"
   ]
  },
  {
   "cell_type": "code",
   "execution_count": 13,
   "metadata": {
    "collapsed": true
   },
   "outputs": [],
   "source": [
    "# parameter keys\n",
    "PARAM_MAJ = 'ww_x_UNITE_ACAD'\n",
    "PARAM_YR = 'ww_x_PERIODE_ACAD'\n",
    "PARAM_STATUS = 'ww_x_PERIODE_PEDAGO'\n",
    "PARAM_SEM = 'ww_x_HIVERETE'"
   ]
  },
  {
   "cell_type": "markdown",
   "metadata": {},
   "source": [
    "Now let's pass parameters to the URL as described here (http://docs.python-requests.org/en/master/user/quickstart/#passing-parameters-in-urls) and make a `GET` request. Let's say we want students in `Informatique`, `2009-2010`, `Bachelor semestre 1`, and `Semestre d'automne` as before."
   ]
  },
  {
   "cell_type": "code",
   "execution_count": 14,
   "metadata": {
    "collapsed": false
   },
   "outputs": [
    {
     "name": "stdout",
     "output_type": "stream",
     "text": [
      "http://isa.epfl.ch/imoniteur_ISAP/!GEDPUBLICREPORTS.filter?ww_b_list=1&ww_i_reportmodel=133685247&ww_c_langue=&ww_i_reportModelXsl=133685270&ww_x_PERIODE_ACAD=978195&ww_x_UNITE_ACAD=249847&ww_x_HIVERETE=2936286&ww_x_PERIODE_PEDAGO=249108\n"
     ]
    }
   ],
   "source": [
    "# create URL for filtered result\n",
    "payload_filter = {PARAM_MAJ: major['Informatique'], \n",
    "                  PARAM_YR: acad_yr['2009-2010'], \n",
    "                  PARAM_STATUS: status['Bachelor semestre 1'], \n",
    "                  PARAM_SEM: semester[\"Semestre d'automne\"]}\n",
    "r = requests.get(FILTER_BASE_URL, params=payload_filter)\n",
    "print(r.url)"
   ]
  },
  {
   "cell_type": "markdown",
   "metadata": {},
   "source": [
    "#### 3. Use `BeautifulSoup` to extract the `ww_x_GPS` parameter value from the HTML content. "
   ]
  },
  {
   "cell_type": "markdown",
   "metadata": {},
   "source": [
    "Let's see how we can use `BeautifulSoup` to navigate through the HTML content and extract the `ww_x_GPS` parameter value. `prettify()` can help us with this."
   ]
  },
  {
   "cell_type": "code",
   "execution_count": 15,
   "metadata": {
    "collapsed": false
   },
   "outputs": [],
   "source": [
    "soup = BeautifulSoup(r.content, 'html.parser')\n",
    "#print(soup.prettify())"
   ]
  },
  {
   "cell_type": "markdown",
   "metadata": {},
   "source": [
    "We need to pick out the `a` tags that have a `class` attribute equal to `ww_x_GPS`. This can be done with the `find_all()` method."
   ]
  },
  {
   "cell_type": "code",
   "execution_count": 16,
   "metadata": {
    "collapsed": false
   },
   "outputs": [
    {
     "data": {
      "text/plain": [
       "[<a class=\"ww_x_GPS\" href=\"javascript:void(0)\" onclick=\"loadReport('ww_x_GPS=-1');return false;\">Tous</a>,\n",
       " <a class=\"ww_x_GPS\" href=\"javascript:void(0)\" onclick=\"loadReport('ww_x_GPS=213617925');return false;\">Informatique, 2009-2010, Bachelor semestre 1</a>]"
      ]
     },
     "execution_count": 16,
     "metadata": {},
     "output_type": "execute_result"
    }
   ],
   "source": [
    "soup.find_all('a', class_='ww_x_GPS')"
   ]
  },
  {
   "cell_type": "markdown",
   "metadata": {},
   "source": [
    "Now we have a list of HTML entries that contain `ww_x_GPS` values. The value itself is in the `onclick` attribute. We can extract the `ww_x_GPS` value by parsing the information contained in this attribute. We will assume that we only get two entries in the above list are our filter entries as our search criteria will ensure this. The two categories (which can be seen on the IS-Academia site) are \"Tous\" and the category of students we are interested in. \"Tous\" has a `ww_x_GPS` value of `-1` so we make sure to return the other value. \"Tous\" will list all the students and will probably give the same result but we will use the other `ww_x_GPS` value."
   ]
  },
  {
   "cell_type": "code",
   "execution_count": 17,
   "metadata": {
    "collapsed": false
   },
   "outputs": [
    {
     "name": "stdout",
     "output_type": "stream",
     "text": [
      "213617925\n"
     ]
    }
   ],
   "source": [
    "# assuming we only get two results with one of them being \"Tous\"\n",
    "def extract_gps(content):\n",
    "    soup = BeautifulSoup(content, 'html.parser')\n",
    "    elements = soup.find_all('a', class_='ww_x_GPS')\n",
    "    for element in elements:\n",
    "        raw_info = element.attrs['onclick']\n",
    "        gps = raw_info.split(\"'\")[1].split('=')[1]\n",
    "        if gps != \"-1\":\n",
    "            return gps\n",
    "\n",
    "gps = extract_gps(r.content)\n",
    "print(gps)"
   ]
  },
  {
   "cell_type": "markdown",
   "metadata": {},
   "source": [
    "#### 4. With `requests`, build the URL with the newly acquired `ww_x_GPS` value and the `value` attributes as parameters and obtain the HTML content."
   ]
  },
  {
   "cell_type": "markdown",
   "metadata": {},
   "source": [
    "Now we have a new base URL and an additional parameter for our payload."
   ]
  },
  {
   "cell_type": "code",
   "execution_count": 18,
   "metadata": {
    "collapsed": false
   },
   "outputs": [],
   "source": [
    "PARAM_GPS = 'ww_x_GPS'\n",
    "DATA_BASE_URL = 'http://isa.epfl.ch/imoniteur_ISAP/!GEDPUBLICREPORTS.html?ww_i_reportModel=133685247&ww_i_reportModelXsl=133685270&ww_b_list=1'"
   ]
  },
  {
   "cell_type": "markdown",
   "metadata": {},
   "source": [
    "As in Step 2, we use `requests` to can build the URL with the necessary parameters."
   ]
  },
  {
   "cell_type": "code",
   "execution_count": 19,
   "metadata": {
    "collapsed": false
   },
   "outputs": [
    {
     "name": "stdout",
     "output_type": "stream",
     "text": [
      "http://isa.epfl.ch/imoniteur_ISAP/!GEDPUBLICREPORTS.html?ww_i_reportModel=133685247&ww_i_reportModelXsl=133685270&ww_b_list=1&ww_x_PERIODE_ACAD=978195&ww_x_UNITE_ACAD=249847&ww_x_GPS=213617925&ww_x_HIVERETE=2936286&ww_x_PERIODE_PEDAGO=249108\n"
     ]
    }
   ],
   "source": [
    "# create URL for filtered result\n",
    "payload_data = {PARAM_GPS: gps,\n",
    "                PARAM_MAJ: major['Informatique'], \n",
    "                PARAM_YR: acad_yr['2009-2010'], \n",
    "                PARAM_STATUS: status['Bachelor semestre 1'], \n",
    "                PARAM_SEM: semester[\"Semestre d'automne\"]}\n",
    "r = requests.get(DATA_BASE_URL, params=payload_data)\n",
    "print(r.url)"
   ]
  },
  {
   "cell_type": "markdown",
   "metadata": {},
   "source": [
    "Following the above link takes us to the list of students meeting the following criteria: `Informatique`, `2009-2010`, `Bachelor semestre 1`, and `Semestre d'automne`. With `requests`, we can obtain the HTML content."
   ]
  },
  {
   "cell_type": "markdown",
   "metadata": {},
   "source": [
    "We have created the following function to combine Steps 1-4 given the Major, the Academic Year, the Student Status, and the Semester (Fall or Srping)"
   ]
  },
  {
   "cell_type": "code",
   "execution_count": 20,
   "metadata": {
    "collapsed": true
   },
   "outputs": [],
   "source": [
    "# combine steps 1-4 from procedure of extracting HTML content of desired students\n",
    "def get_html_content(maj, yr, stat, sem):\n",
    "    # obtain gps\n",
    "    payload = {PARAM_MAJ: major[maj],\n",
    "               PARAM_YR: acad_yr[yr], \n",
    "               PARAM_STATUS: status[stat],\n",
    "               PARAM_SEM: semester[sem]}\n",
    "    r_filt = requests.get(FILTER_BASE_URL, params=payload)\n",
    "    gps = extract_gps(r_filt.content)\n",
    "    # get list of students\n",
    "    payload[PARAM_GPS] = gps\n",
    "    r_list = requests.get(DATA_BASE_URL, params=payload)\n",
    "    return r_list.content"
   ]
  },
  {
   "cell_type": "markdown",
   "metadata": {},
   "source": [
    "#### 5. Use  `BeautifulSoup` to conveniently navigate through and access the data."
   ]
  },
  {
   "cell_type": "markdown",
   "metadata": {},
   "source": [
    "We can use the `html_content()` function to extract the HTML content according to a certain set of filters. And now we will use `BeautifulSoup` to extract the student info."
   ]
  },
  {
   "cell_type": "code",
   "execution_count": 21,
   "metadata": {
    "collapsed": false
   },
   "outputs": [],
   "source": [
    "html_content = get_html_content(\"Informatique\", \"2009-2010\", \"Bachelor semestre 1\", \"Semestre d'automne\")\n",
    "soup_students = BeautifulSoup(html_content, 'html.parser')\n",
    "# visualize\n",
    "#print(soup_students.prettify())"
   ]
  },
  {
   "cell_type": "markdown",
   "metadata": {},
   "source": [
    "From the `prettify()` output, we see that student info is contained within `<tr>` tags and that the first two entries between `<tr>` are for general information about the students. Therefore, to get all the students, we can use `find_all()` to get all the `<tr>` entries and drop the first two."
   ]
  },
  {
   "cell_type": "code",
   "execution_count": 22,
   "metadata": {
    "collapsed": false
   },
   "outputs": [
    {
     "data": {
      "text/plain": [
       "<tr><td style=\"white-space:nowrap\">Monsieur</td><td style=\"white-space:nowrap\">Abdallah Jad</td><td style=\"white-space:nowrap\"></td><td style=\"white-space:nowrap\"></td><td style=\"white-space:nowrap\"></td><td style=\"white-space:nowrap\"></td><td style=\"white-space:nowrap\"></td><td style=\"white-space:nowrap\">Présent</td><td style=\"white-space:nowrap\"></td><td style=\"white-space:nowrap\"></td><td>194197</td><td style=\"white-space:nowrap\"></td></tr>"
      ]
     },
     "execution_count": 22,
     "metadata": {},
     "output_type": "execute_result"
    }
   ],
   "source": [
    "rows = soup_students.find_all('tr')\n",
    "students = rows[2:]\n",
    "# let's look at one of the student entries\n",
    "students[0]"
   ]
  },
  {
   "cell_type": "markdown",
   "metadata": {},
   "source": [
    "Each data point (e.g. gender, minor, sciper) about the student is surround by `<td>` tags. We can again use `find_all()` to access these elements and print these nicely. The second row of `rows` contains the label for each data point."
   ]
  },
  {
   "cell_type": "code",
   "execution_count": 23,
   "metadata": {
    "collapsed": false
   },
   "outputs": [
    {
     "name": "stdout",
     "output_type": "stream",
     "text": [
      "0, Civilité: Monsieur\n",
      "1, Nom Prénom: Abdallah Jad\n",
      "2, Orientation Bachelor: None\n",
      "3, Orientation Master: None\n",
      "4, Spécialisation: None\n",
      "5, Filière opt.: None\n",
      "6, Mineur: None\n",
      "7, Statut: Présent\n",
      "8, Type Echange: None\n",
      "9, Ecole Echange: None\n",
      "10, No Sciper: 194197\n"
     ]
    }
   ],
   "source": [
    "student = students[0].find_all('td')\n",
    "labels = rows[1].find_all('th') # separated by <th> tags\n",
    "for i in range(len(labels)):\n",
    "    print(str(i) + \", \" + labels[i].string + \": \", end=\"\")\n",
    "    print(student[i].string)"
   ]
  },
  {
   "cell_type": "markdown",
   "metadata": {
    "collapsed": false
   },
   "source": [
    "Now we can see the corresponding index for a particular data point of a student and pick out what we want for the following exercises!"
   ]
  },
  {
   "cell_type": "markdown",
   "metadata": {},
   "source": [
    "# Exercise 1"
   ]
  },
  {
   "cell_type": "markdown",
   "metadata": {},
   "source": [
    "_We will focus exclusively on the academic unit `Informatique`._"
   ]
  },
  {
   "cell_type": "markdown",
   "metadata": {},
   "source": [
    "_Obtain all the data for the Bachelor students, starting from 2007. Keep only the students for which you have an entry for both `Bachelor semestre 1` and `Bachelor semestre 6`. Compute how many months it took each student to go from the first to the sixth semester. Partition the data between male and female students, and compute the average -- is the difference in average statistically significant?_"
   ]
  },
  {
   "cell_type": "markdown",
   "metadata": {},
   "source": [
    "For this problem, we will create two `DataFrame`s: one for `Bachelor semestre 1` (B1) students and another for `Bachelor semestre 6` (B6) students. For the B1 `DataFrame`, we will start from 2007 and add students when they are first enrolled as `Informatique` and B1. If they repeat, their info will not be added again / updated. For B6, though, we will take the most recent entry. When storing the date of the semester, we will store it in `Year-Month` format; if the semester is Autumn we will use `09` as the month and if the semester is Spring we will use `03` as the month. The duration is calculated as: 12 x (`B6 Year` - `B1 Year`) + (`B6 Month` - `B1 Month`) + 6. We add 6 to account for the duration of the 6th semester.\n",
    "\n",
    "**NOTE** : We realize that there is some discussion on Slack with people considering students that finished their studies with `Bachelor semestre 5`; however, the assignment states to compute the number of months for each student to go from the first to the sixth semester (how long it took for their Bachelors is a different problem). We did, however, take the later of the (possible multiple) 6th semesters to get a bit closer to the full duration (while keeping to the original problem of finding the duration till the 6th semester)."
   ]
  },
  {
   "cell_type": "markdown",
   "metadata": {},
   "source": [
    "Below is our function to compute the start of the semester based on the academic year and the semester type (autumn or spring) as described above. We will use this function in the next exercise as well."
   ]
  },
  {
   "cell_type": "code",
   "execution_count": 24,
   "metadata": {
    "collapsed": true
   },
   "outputs": [],
   "source": [
    "def sem_start_date(academic_year, semester):\n",
    "    start_year, next_year = academic_year.split('-')\n",
    "    if semester == \"Semestre d'automne\":\n",
    "        return start_year + '-09'\n",
    "    else:\n",
    "        return next_year + '-03'"
   ]
  },
  {
   "cell_type": "markdown",
   "metadata": {},
   "source": [
    "For this exercise, we are only interested in the Gender and the Dates of B1 and B6. Given a row from the HTML table of students - `info` - and information about the semester and dates, our `create_student_entry()` function will create a dictionary with just the desired content."
   ]
  },
  {
   "cell_type": "code",
   "execution_count": 25,
   "metadata": {
    "collapsed": true
   },
   "outputs": [],
   "source": [
    "def create_student_entry(stat, info, yr, sem):\n",
    "    student = {}\n",
    "    student['Gender'] = info[0].string\n",
    "    student[stat] = sem_start_date(yr, sem)\n",
    "    return student"
   ]
  },
  {
   "cell_type": "markdown",
   "metadata": {},
   "source": [
    "This dictionary will be given to a larger dictionary containing all the students with the SCIPER as an index. This larger dictionary is for a particular semester (e.g. B1 or B6) by going through all the available years and the semester types. This function `scrape_student_data` will also be used for the Masters students. It returns a `DataFrame` that can be easily manipulated for our analysis. "
   ]
  },
  {
   "cell_type": "code",
   "execution_count": 26,
   "metadata": {
    "collapsed": false
   },
   "outputs": [],
   "source": [
    "def scrape_student_data(maj, stat):\n",
    "    dic = {}\n",
    "    # go through all statuses, years, and semesters\n",
    "    for yr in acad_yr.keys():\n",
    "        for sem in semester.keys():\n",
    "            html_content = get_html_content(maj, yr, stat, sem)\n",
    "            # parse with beautiful soup\n",
    "            soup_students = BeautifulSoup(html_content, 'html.parser')\n",
    "            rows = soup_students.find_all('tr')\n",
    "            # students are starting after two rows\n",
    "            for row in rows[2:]:\n",
    "                student = row.find_all('td')\n",
    "                sciper = student[10].string\n",
    "                # keep earliest year in case a student repeated first semester\n",
    "                if stat.split(' ')[-1] == '1': # obtaining number of semester\n",
    "                    if sciper not in dic:\n",
    "                        dic[sciper] = create_student_entry(stat, student, yr, sem)\n",
    "                # for other semesters replace with latest\n",
    "                else:\n",
    "                    dic[sciper] = create_student_entry(stat, student, yr, sem)\n",
    "    df = pd.DataFrame.from_dict(dic, orient='index')\n",
    "    return df"
   ]
  },
  {
   "cell_type": "markdown",
   "metadata": {},
   "source": [
    "** NOTE **: The first two rows of the HTML table are metadata so we skip these. For the first semester of a program (e.g. `Bachelor semestre 1` or `Master semestre 1`) we use the earliest entry of a student as this marks the true beginning. For latter semesters, we use the most recent entry in case a student repeated a particular semester."
   ]
  },
  {
   "cell_type": "markdown",
   "metadata": {},
   "source": [
    "Now let's create a DataFrame for the B1 and the B6 students."
   ]
  },
  {
   "cell_type": "code",
   "execution_count": 27,
   "metadata": {
    "collapsed": false
   },
   "outputs": [],
   "source": [
    "bach_sems = ['Bachelor semestre 1', 'Bachelor semestre 6']\n",
    "df_b1, df_b6 = [scrape_student_data('Informatique', bach_sem) for bach_sem in bach_sems]"
   ]
  },
  {
   "cell_type": "markdown",
   "metadata": {},
   "source": [
    "Save to `pickle` so we don't always need to extract the HTML content."
   ]
  },
  {
   "cell_type": "code",
   "execution_count": 28,
   "metadata": {
    "collapsed": false
   },
   "outputs": [],
   "source": [
    "import sys\n",
    "sys.setrecursionlimit(50000)\n",
    "df_b1.to_pickle(\"b1_pickle\")\n",
    "df_b6.to_pickle(\"b6_pickle\")"
   ]
  },
  {
   "cell_type": "markdown",
   "metadata": {},
   "source": [
    "### Import data"
   ]
  },
  {
   "cell_type": "code",
   "execution_count": 29,
   "metadata": {
    "collapsed": false
   },
   "outputs": [],
   "source": [
    "df_b1 = pd.read_pickle(\"b1_pickle\")\n",
    "df_b6 = pd.read_pickle(\"b6_pickle\")"
   ]
  },
  {
   "cell_type": "markdown",
   "metadata": {},
   "source": [
    "### Prepare data"
   ]
  },
  {
   "cell_type": "markdown",
   "metadata": {
    "collapsed": true
   },
   "source": [
    "Join b1 and b6 students and keep those that are in both with `how='inner'`"
   ]
  },
  {
   "cell_type": "code",
   "execution_count": 30,
   "metadata": {
    "collapsed": false
   },
   "outputs": [
    {
     "data": {
      "text/html": [
       "<div>\n",
       "<table border=\"1\" class=\"dataframe\">\n",
       "  <thead>\n",
       "    <tr style=\"text-align: right;\">\n",
       "      <th></th>\n",
       "      <th>Bachelor semestre 1</th>\n",
       "      <th>Gender</th>\n",
       "      <th>Bachelor semestre 6</th>\n",
       "    </tr>\n",
       "  </thead>\n",
       "  <tbody>\n",
       "    <tr>\n",
       "      <th>250300</th>\n",
       "      <td>2014-09</td>\n",
       "      <td>Monsieur</td>\n",
       "      <td>2017-03</td>\n",
       "    </tr>\n",
       "    <tr>\n",
       "      <th>250362</th>\n",
       "      <td>2014-09</td>\n",
       "      <td>Monsieur</td>\n",
       "      <td>2017-03</td>\n",
       "    </tr>\n",
       "    <tr>\n",
       "      <th>250703</th>\n",
       "      <td>2014-09</td>\n",
       "      <td>Monsieur</td>\n",
       "      <td>2017-03</td>\n",
       "    </tr>\n",
       "    <tr>\n",
       "      <th>251758</th>\n",
       "      <td>2014-09</td>\n",
       "      <td>Monsieur</td>\n",
       "      <td>2017-03</td>\n",
       "    </tr>\n",
       "    <tr>\n",
       "      <th>251759</th>\n",
       "      <td>2014-09</td>\n",
       "      <td>Monsieur</td>\n",
       "      <td>2017-03</td>\n",
       "    </tr>\n",
       "  </tbody>\n",
       "</table>\n",
       "</div>"
      ],
      "text/plain": [
       "       Bachelor semestre 1    Gender Bachelor semestre 6\n",
       "250300             2014-09  Monsieur             2017-03\n",
       "250362             2014-09  Monsieur             2017-03\n",
       "250703             2014-09  Monsieur             2017-03\n",
       "251758             2014-09  Monsieur             2017-03\n",
       "251759             2014-09  Monsieur             2017-03"
      ]
     },
     "execution_count": 30,
     "metadata": {},
     "output_type": "execute_result"
    }
   ],
   "source": [
    "b1_to_b6 = df_b1[[\"Bachelor semestre 1\",\"Gender\"]].join(df_b6[\"Bachelor semestre 6\"], how='inner')\n",
    "b1_to_b6.tail()"
   ]
  },
  {
   "cell_type": "markdown",
   "metadata": {},
   "source": [
    "We can see some students with a future `Bachelor semestre 6`. Let's drop these people because they may take longer."
   ]
  },
  {
   "cell_type": "code",
   "execution_count": 31,
   "metadata": {
    "collapsed": false
   },
   "outputs": [
    {
     "data": {
      "text/html": [
       "<div>\n",
       "<table border=\"1\" class=\"dataframe\">\n",
       "  <thead>\n",
       "    <tr style=\"text-align: right;\">\n",
       "      <th></th>\n",
       "      <th>Bachelor semestre 1</th>\n",
       "      <th>Gender</th>\n",
       "      <th>Bachelor semestre 6</th>\n",
       "    </tr>\n",
       "  </thead>\n",
       "  <tbody>\n",
       "    <tr>\n",
       "      <th>238150</th>\n",
       "      <td>2013-09</td>\n",
       "      <td>Monsieur</td>\n",
       "      <td>2016-03</td>\n",
       "    </tr>\n",
       "    <tr>\n",
       "      <th>239124</th>\n",
       "      <td>2013-09</td>\n",
       "      <td>Monsieur</td>\n",
       "      <td>2016-03</td>\n",
       "    </tr>\n",
       "    <tr>\n",
       "      <th>239170</th>\n",
       "      <td>2013-09</td>\n",
       "      <td>Monsieur</td>\n",
       "      <td>2016-03</td>\n",
       "    </tr>\n",
       "    <tr>\n",
       "      <th>239314</th>\n",
       "      <td>2013-09</td>\n",
       "      <td>Monsieur</td>\n",
       "      <td>2016-03</td>\n",
       "    </tr>\n",
       "    <tr>\n",
       "      <th>239366</th>\n",
       "      <td>2013-09</td>\n",
       "      <td>Monsieur</td>\n",
       "      <td>2016-03</td>\n",
       "    </tr>\n",
       "  </tbody>\n",
       "</table>\n",
       "</div>"
      ],
      "text/plain": [
       "       Bachelor semestre 1    Gender Bachelor semestre 6\n",
       "238150             2013-09  Monsieur             2016-03\n",
       "239124             2013-09  Monsieur             2016-03\n",
       "239170             2013-09  Monsieur             2016-03\n",
       "239314             2013-09  Monsieur             2016-03\n",
       "239366             2013-09  Monsieur             2016-03"
      ]
     },
     "execution_count": 31,
     "metadata": {},
     "output_type": "execute_result"
    }
   ],
   "source": [
    "b1_to_b6 = b1_to_b6[np.logical_not(b1_to_b6[\"Bachelor semestre 6\"].isin(['2017-03']))]\n",
    "b1_to_b6.tail()"
   ]
  },
  {
   "cell_type": "markdown",
   "metadata": {},
   "source": [
    "### Analyze data"
   ]
  },
  {
   "cell_type": "markdown",
   "metadata": {},
   "source": [
    "Let's compute the duration from Semester 1 to the (last) Semester 6 as previously described: 12 x (`B6 Year` - `B1 Year`) + (`B6 Month` - `B1 Month`) + 6."
   ]
  },
  {
   "cell_type": "code",
   "execution_count": 32,
   "metadata": {
    "collapsed": false
   },
   "outputs": [
    {
     "data": {
      "text/html": [
       "<div>\n",
       "<table border=\"1\" class=\"dataframe\">\n",
       "  <thead>\n",
       "    <tr style=\"text-align: right;\">\n",
       "      <th></th>\n",
       "      <th>Bachelor semestre 1</th>\n",
       "      <th>Gender</th>\n",
       "      <th>Bachelor semestre 6</th>\n",
       "      <th>Duration</th>\n",
       "    </tr>\n",
       "  </thead>\n",
       "  <tbody>\n",
       "    <tr>\n",
       "      <th>147008</th>\n",
       "      <td>2008-09</td>\n",
       "      <td>Monsieur</td>\n",
       "      <td>2011-03</td>\n",
       "      <td>36</td>\n",
       "    </tr>\n",
       "    <tr>\n",
       "      <th>169569</th>\n",
       "      <td>2007-09</td>\n",
       "      <td>Monsieur</td>\n",
       "      <td>2010-03</td>\n",
       "      <td>36</td>\n",
       "    </tr>\n",
       "    <tr>\n",
       "      <th>169731</th>\n",
       "      <td>2007-09</td>\n",
       "      <td>Monsieur</td>\n",
       "      <td>2011-03</td>\n",
       "      <td>48</td>\n",
       "    </tr>\n",
       "    <tr>\n",
       "      <th>169795</th>\n",
       "      <td>2007-09</td>\n",
       "      <td>Monsieur</td>\n",
       "      <td>2011-03</td>\n",
       "      <td>48</td>\n",
       "    </tr>\n",
       "    <tr>\n",
       "      <th>171195</th>\n",
       "      <td>2007-09</td>\n",
       "      <td>Monsieur</td>\n",
       "      <td>2010-03</td>\n",
       "      <td>36</td>\n",
       "    </tr>\n",
       "  </tbody>\n",
       "</table>\n",
       "</div>"
      ],
      "text/plain": [
       "       Bachelor semestre 1    Gender Bachelor semestre 6  Duration\n",
       "147008             2008-09  Monsieur             2011-03        36\n",
       "169569             2007-09  Monsieur             2010-03        36\n",
       "169731             2007-09  Monsieur             2011-03        48\n",
       "169795             2007-09  Monsieur             2011-03        48\n",
       "171195             2007-09  Monsieur             2010-03        36"
      ]
     },
     "execution_count": 32,
     "metadata": {},
     "output_type": "execute_result"
    }
   ],
   "source": [
    "# date is in 'year-month' format. e.g. 2015-07\n",
    "def months_between_dates(start_date, end_date):\n",
    "    start_year, start_month = start_date.split('-')\n",
    "    end_year, end_month = end_date.split('-')\n",
    "    return (int(end_year) - int(start_year)) * 12 + int(end_month) - int(start_month) + 6\n",
    "\n",
    "def bachelor_duration(row):\n",
    "    return months_between_dates(row['Bachelor semestre 1'], row['Bachelor semestre 6'])\n",
    "\n",
    "b1_to_b6['Duration'] = b1_to_b6.apply(bachelor_duration, axis=1)\n",
    "b1_to_b6.head()"
   ]
  },
  {
   "cell_type": "markdown",
   "metadata": {},
   "source": [
    "Now we can compute the average duration in months for male and female and test for statistical significance between their means."
   ]
  },
  {
   "cell_type": "code",
   "execution_count": 33,
   "metadata": {
    "collapsed": false
   },
   "outputs": [
    {
     "name": "stdout",
     "output_type": "stream",
     "text": [
      "Average duration for male students: 42.05187319884726\n",
      "Average duration for female students: 39.55555555555556\n",
      "Monsieur    347\n",
      "Madame       27\n",
      "Name: Gender, dtype: int64\n"
     ]
    }
   ],
   "source": [
    "male_mean = b1_to_b6['Duration'][b1_to_b6.Gender==\"Monsieur\"].mean()\n",
    "female_mean = b1_to_b6['Duration'][b1_to_b6.Gender==\"Madame\"].mean()\n",
    "print(\"Average duration for male students: \" + str(male_mean))\n",
    "print(\"Average duration for female students: \" + str(female_mean))\n",
    "print(b1_to_b6.Gender.value_counts())"
   ]
  },
  {
   "cell_type": "markdown",
   "metadata": {},
   "source": [
    "We will use the Two-Sample T-Test to see if there is a statistical significance between the average duration for males and females. More info can be found in the link providded with the homework: http://hamelg.blogspot.ch/2015/11/python-for-data-analysis-part-24.html The assumption for this test is that we have two independent samples, which in this case are Males and Females. We won't assume equal population variance; therefore, the Welch t-test is performed. More info about the function `ttest_ind` can be found here: https://docs.scipy.org/doc/scipy-0.14.0/reference/generated/scipy.stats.ttest_ind.html"
   ]
  },
  {
   "cell_type": "code",
   "execution_count": 34,
   "metadata": {
    "collapsed": false
   },
   "outputs": [
    {
     "data": {
      "text/plain": [
       "Ttest_indResult(statistic=1.860117047790256, pvalue=0.071443584251684678)"
      ]
     },
     "execution_count": 34,
     "metadata": {},
     "output_type": "execute_result"
    }
   ],
   "source": [
    "import scipy.stats as stats\n",
    "stats.ttest_ind(a= b1_to_b6['Duration'][b1_to_b6.Gender==\"Monsieur\"],\n",
    "                b= b1_to_b6['Duration'][b1_to_b6.Gender==\"Madame\"],\n",
    "                equal_var=False) "
   ]
  },
  {
   "cell_type": "markdown",
   "metadata": {},
   "source": [
    "The test yields a p-value of 0.0714, which means there is a 7.14% chance we'd see sample data this far apart if the two groups tested (male and female) are actually identical. If we were using a 95% confidence level, we would fail to reject the null hypothesis since the p-value is greater than the corresponding significance level of 5%. Therefore, according to this criteria, the difference in average duration is not statistically significant."
   ]
  },
  {
   "cell_type": "markdown",
   "metadata": {},
   "source": [
    "# Exercise 2"
   ]
  },
  {
   "cell_type": "markdown",
   "metadata": {},
   "source": [
    "_Perform a similar operation to what described above, this time for Master students. Notice that this data is more tricky, as there are many missing records in the IS-Academia database. Therefore, try to guess how much time a master student spent at EPFL by at least checking the distance in months between `Master semestre 1` and `Master semestre 2`. If the `Mineur` field is not empty, the student should also appear registered in Master semestre 3. Last but not the least, don't forget to check if the student has an entry also in the `Projet Master` tables. Once you can handle well this data, compute the \"average stay at EPFL\" for master students. Now extract all the students with a `Spécialisation` and compute the \"average stay\" per each category of that attribute -- compared to the general average, can you find any specialization for which the difference in average is statistically significant?_"
   ]
  },
  {
   "cell_type": "markdown",
   "metadata": {},
   "source": [
    "Now we would like to collect the Specialization and Minor data as well so we add this to the dictionary created by `create_student_entry()`."
   ]
  },
  {
   "cell_type": "code",
   "execution_count": 35,
   "metadata": {
    "collapsed": true
   },
   "outputs": [],
   "source": [
    "def create_student_entry(stat, info, yr, sem):\n",
    "    student = {}\n",
    "    student['Gender'] = info[0].string\n",
    "    student['Specialisation'] = info[4].string\n",
    "    student['Minor'] = info[6].string\n",
    "    student[stat] = sem_start_date(yr, sem)\n",
    "    return student"
   ]
  },
  {
   "cell_type": "markdown",
   "metadata": {},
   "source": [
    "Similar to Exercise 1, let's create a `DataFrame` for each of the semesters we are interested in."
   ]
  },
  {
   "cell_type": "code",
   "execution_count": 36,
   "metadata": {
    "collapsed": true
   },
   "outputs": [],
   "source": [
    "masters_sems = ['Master semestre 1', 'Master semestre 2', 'Master semestre 3', 'Projet Master automne', 'Projet Master printemps']\n",
    "df_m1, df_m2, df_m3, df_pm_aut, df_pm_pri = [scrape_student_data('Informatique', master_sem) for master_sem in masters_sems]"
   ]
  },
  {
   "cell_type": "markdown",
   "metadata": {},
   "source": [
    "Save to pickle so we don't always need to extract the HTML content."
   ]
  },
  {
   "cell_type": "code",
   "execution_count": 37,
   "metadata": {
    "collapsed": true
   },
   "outputs": [],
   "source": [
    "pickle_names = [\"m1_pickle\", \"m2_pickle\", \"m3_pickle\", \"pm_aut_pickle\", \"pm_pri_pickle\"]\n",
    "dicts = [df_m1, df_m2, df_m3, df_pm_aut, df_pm_pri]\n",
    "res = [dic.to_pickle(pname) for dic, pname in zip(dicts,pickle_names)]"
   ]
  },
  {
   "cell_type": "markdown",
   "metadata": {},
   "source": [
    "### Import data"
   ]
  },
  {
   "cell_type": "code",
   "execution_count": 38,
   "metadata": {
    "collapsed": true
   },
   "outputs": [],
   "source": [
    "df_m1 = pd.read_pickle(\"m1_pickle\")\n",
    "df_m2 = pd.read_pickle(\"m2_pickle\")\n",
    "df_m3 = pd.read_pickle(\"m3_pickle\")"
   ]
  },
  {
   "cell_type": "markdown",
   "metadata": {},
   "source": [
    "### Analyze data "
   ]
  },
  {
   "cell_type": "markdown",
   "metadata": {},
   "source": [
    "#### Try to guess how much time a master student spent at EPFL by at least checking the distance in months between Master semestre 1 and Master semestre 2"
   ]
  },
  {
   "cell_type": "markdown",
   "metadata": {},
   "source": [
    "Join M1 and M2 students (both fields shoud exist) as we did for B1 and B2"
   ]
  },
  {
   "cell_type": "code",
   "execution_count": 39,
   "metadata": {
    "collapsed": false
   },
   "outputs": [
    {
     "data": {
      "text/html": [
       "<div>\n",
       "<table border=\"1\" class=\"dataframe\">\n",
       "  <thead>\n",
       "    <tr style=\"text-align: right;\">\n",
       "      <th></th>\n",
       "      <th>Master semestre 1</th>\n",
       "      <th>Gender</th>\n",
       "      <th>Master semestre 2</th>\n",
       "    </tr>\n",
       "  </thead>\n",
       "  <tbody>\n",
       "    <tr>\n",
       "      <th>260806</th>\n",
       "      <td>2015-09</td>\n",
       "      <td>Monsieur</td>\n",
       "      <td>2016-03</td>\n",
       "    </tr>\n",
       "    <tr>\n",
       "      <th>260811</th>\n",
       "      <td>2015-09</td>\n",
       "      <td>Monsieur</td>\n",
       "      <td>2016-03</td>\n",
       "    </tr>\n",
       "    <tr>\n",
       "      <th>260968</th>\n",
       "      <td>2015-09</td>\n",
       "      <td>Madame</td>\n",
       "      <td>2016-03</td>\n",
       "    </tr>\n",
       "    <tr>\n",
       "      <th>261006</th>\n",
       "      <td>2015-09</td>\n",
       "      <td>Madame</td>\n",
       "      <td>2016-03</td>\n",
       "    </tr>\n",
       "    <tr>\n",
       "      <th>261146</th>\n",
       "      <td>2015-09</td>\n",
       "      <td>Monsieur</td>\n",
       "      <td>2016-03</td>\n",
       "    </tr>\n",
       "  </tbody>\n",
       "</table>\n",
       "</div>"
      ],
      "text/plain": [
       "       Master semestre 1    Gender Master semestre 2\n",
       "260806           2015-09  Monsieur           2016-03\n",
       "260811           2015-09  Monsieur           2016-03\n",
       "260968           2015-09    Madame           2016-03\n",
       "261006           2015-09    Madame           2016-03\n",
       "261146           2015-09  Monsieur           2016-03"
      ]
     },
     "execution_count": 39,
     "metadata": {},
     "output_type": "execute_result"
    }
   ],
   "source": [
    "m1_to_m2 = df_m1[[\"Master semestre 1\",\"Gender\"]].join(df_m2[\"Master semestre 2\"], how='inner')\n",
    "m1_to_m2.tail()"
   ]
  },
  {
   "cell_type": "markdown",
   "metadata": {},
   "source": [
    "Now we compute the duration. We use essentially the same function as for Bachelor, just changing the name of the columns for the start and end date."
   ]
  },
  {
   "cell_type": "code",
   "execution_count": 40,
   "metadata": {
    "collapsed": false
   },
   "outputs": [
    {
     "data": {
      "text/html": [
       "<div>\n",
       "<table border=\"1\" class=\"dataframe\">\n",
       "  <thead>\n",
       "    <tr style=\"text-align: right;\">\n",
       "      <th></th>\n",
       "      <th>Master semestre 1</th>\n",
       "      <th>Gender</th>\n",
       "      <th>Master semestre 2</th>\n",
       "      <th>Duration</th>\n",
       "    </tr>\n",
       "  </thead>\n",
       "  <tbody>\n",
       "    <tr>\n",
       "      <th>146330</th>\n",
       "      <td>2007-09</td>\n",
       "      <td>Monsieur</td>\n",
       "      <td>2008-03</td>\n",
       "      <td>12</td>\n",
       "    </tr>\n",
       "    <tr>\n",
       "      <th>146742</th>\n",
       "      <td>2008-09</td>\n",
       "      <td>Monsieur</td>\n",
       "      <td>2010-03</td>\n",
       "      <td>24</td>\n",
       "    </tr>\n",
       "    <tr>\n",
       "      <th>146929</th>\n",
       "      <td>2007-09</td>\n",
       "      <td>Monsieur</td>\n",
       "      <td>2008-03</td>\n",
       "      <td>12</td>\n",
       "    </tr>\n",
       "    <tr>\n",
       "      <th>147008</th>\n",
       "      <td>2011-09</td>\n",
       "      <td>Monsieur</td>\n",
       "      <td>2013-03</td>\n",
       "      <td>24</td>\n",
       "    </tr>\n",
       "    <tr>\n",
       "      <th>152232</th>\n",
       "      <td>2007-09</td>\n",
       "      <td>Monsieur</td>\n",
       "      <td>2008-03</td>\n",
       "      <td>12</td>\n",
       "    </tr>\n",
       "  </tbody>\n",
       "</table>\n",
       "</div>"
      ],
      "text/plain": [
       "       Master semestre 1    Gender Master semestre 2  Duration\n",
       "146330           2007-09  Monsieur           2008-03        12\n",
       "146742           2008-09  Monsieur           2010-03        24\n",
       "146929           2007-09  Monsieur           2008-03        12\n",
       "147008           2011-09  Monsieur           2013-03        24\n",
       "152232           2007-09  Monsieur           2008-03        12"
      ]
     },
     "execution_count": 40,
     "metadata": {},
     "output_type": "execute_result"
    }
   ],
   "source": [
    "def master_duration_rough(row):\n",
    "    return months_between_dates(row['Master semestre 1'], row['Master semestre 2'])\n",
    "\n",
    "m1_to_m2['Duration'] = m1_to_m2.apply(master_duration_rough, axis=1)\n",
    "m1_to_m2.head()"
   ]
  },
  {
   "cell_type": "markdown",
   "metadata": {},
   "source": [
    "A closer look to the data reveals some students with strange durations (<=0)."
   ]
  },
  {
   "cell_type": "code",
   "execution_count": 41,
   "metadata": {
    "collapsed": false
   },
   "outputs": [
    {
     "name": "stdout",
     "output_type": "stream",
     "text": [
      "15\n"
     ]
    },
    {
     "data": {
      "text/html": [
       "<div>\n",
       "<table border=\"1\" class=\"dataframe\">\n",
       "  <thead>\n",
       "    <tr style=\"text-align: right;\">\n",
       "      <th></th>\n",
       "      <th>Master semestre 1</th>\n",
       "      <th>Gender</th>\n",
       "      <th>Master semestre 2</th>\n",
       "      <th>Duration</th>\n",
       "    </tr>\n",
       "  </thead>\n",
       "  <tbody>\n",
       "    <tr>\n",
       "      <th>171206</th>\n",
       "      <td>2010-09</td>\n",
       "      <td>Monsieur</td>\n",
       "      <td>2010-03</td>\n",
       "      <td>0</td>\n",
       "    </tr>\n",
       "    <tr>\n",
       "      <th>178786</th>\n",
       "      <td>2011-09</td>\n",
       "      <td>Monsieur</td>\n",
       "      <td>2011-03</td>\n",
       "      <td>0</td>\n",
       "    </tr>\n",
       "    <tr>\n",
       "      <th>180816</th>\n",
       "      <td>2013-09</td>\n",
       "      <td>Monsieur</td>\n",
       "      <td>2013-03</td>\n",
       "      <td>0</td>\n",
       "    </tr>\n",
       "    <tr>\n",
       "      <th>192345</th>\n",
       "      <td>2014-09</td>\n",
       "      <td>Monsieur</td>\n",
       "      <td>2014-03</td>\n",
       "      <td>0</td>\n",
       "    </tr>\n",
       "    <tr>\n",
       "      <th>196034</th>\n",
       "      <td>2015-09</td>\n",
       "      <td>Monsieur</td>\n",
       "      <td>2015-03</td>\n",
       "      <td>0</td>\n",
       "    </tr>\n",
       "  </tbody>\n",
       "</table>\n",
       "</div>"
      ],
      "text/plain": [
       "       Master semestre 1    Gender Master semestre 2  Duration\n",
       "171206           2010-09  Monsieur           2010-03         0\n",
       "178786           2011-09  Monsieur           2011-03         0\n",
       "180816           2013-09  Monsieur           2013-03         0\n",
       "192345           2014-09  Monsieur           2014-03         0\n",
       "196034           2015-09  Monsieur           2015-03         0"
      ]
     },
     "execution_count": 41,
     "metadata": {},
     "output_type": "execute_result"
    }
   ],
   "source": [
    "print(len(m1_to_m2.loc[m1_to_m2[\"Duration\"]<=0]))\n",
    "m1_to_m2.loc[m1_to_m2[\"Duration\"]<=0].head()"
   ]
  },
  {
   "cell_type": "markdown",
   "metadata": {},
   "source": [
    "Let's drop these cases before computing the first rough estimate of the mean (but we will keep them for later on in case their 3rd semester or Master Project has a correct date)."
   ]
  },
  {
   "cell_type": "code",
   "execution_count": 42,
   "metadata": {
    "collapsed": false
   },
   "outputs": [
    {
     "data": {
      "text/plain": [
       "Duration    15.861148\n",
       "dtype: float64"
      ]
     },
     "execution_count": 42,
     "metadata": {},
     "output_type": "execute_result"
    }
   ],
   "source": [
    "m1_to_m2.loc[m1_to_m2[\"Duration\"]>0].mean()"
   ]
  },
  {
   "cell_type": "markdown",
   "metadata": {},
   "source": [
    "#### If the Mineur field is not empty, the student should also appear registered in Master semestre 3"
   ]
  },
  {
   "cell_type": "markdown",
   "metadata": {},
   "source": [
    "We will specialization as well since this also takes an extra semester. According to EPFL regulations a minor or specialization must be chosen by Master semester 2:\n",
    "* http://ic.epfl.ch/page-97562-en.html\n",
    "* http://ic.epfl.ch/specializations\n",
    "\n",
    "So we will take the Specialization/Minor from M2 when combining M1, M2, and M3. We use `inner` when joining M2 since an M2 is required while an M3 may not be."
   ]
  },
  {
   "cell_type": "code",
   "execution_count": 43,
   "metadata": {
    "collapsed": false
   },
   "outputs": [
    {
     "data": {
      "text/html": [
       "<div>\n",
       "<table border=\"1\" class=\"dataframe\">\n",
       "  <thead>\n",
       "    <tr style=\"text-align: right;\">\n",
       "      <th></th>\n",
       "      <th>Master semestre 1</th>\n",
       "      <th>Gender</th>\n",
       "      <th>Master semestre 2</th>\n",
       "      <th>Minor</th>\n",
       "      <th>Specialisation</th>\n",
       "      <th>Master semestre 3</th>\n",
       "    </tr>\n",
       "  </thead>\n",
       "  <tbody>\n",
       "    <tr>\n",
       "      <th>146330</th>\n",
       "      <td>2007-09</td>\n",
       "      <td>Monsieur</td>\n",
       "      <td>2008-03</td>\n",
       "      <td>None</td>\n",
       "      <td>None</td>\n",
       "      <td>2008-09</td>\n",
       "    </tr>\n",
       "    <tr>\n",
       "      <th>146742</th>\n",
       "      <td>2008-09</td>\n",
       "      <td>Monsieur</td>\n",
       "      <td>2010-03</td>\n",
       "      <td>None</td>\n",
       "      <td>Signals, Images and Interfaces</td>\n",
       "      <td>2012-09</td>\n",
       "    </tr>\n",
       "    <tr>\n",
       "      <th>146929</th>\n",
       "      <td>2007-09</td>\n",
       "      <td>Monsieur</td>\n",
       "      <td>2008-03</td>\n",
       "      <td>None</td>\n",
       "      <td>None</td>\n",
       "      <td>NaN</td>\n",
       "    </tr>\n",
       "    <tr>\n",
       "      <th>147008</th>\n",
       "      <td>2011-09</td>\n",
       "      <td>Monsieur</td>\n",
       "      <td>2013-03</td>\n",
       "      <td>None</td>\n",
       "      <td>None</td>\n",
       "      <td>2012-09</td>\n",
       "    </tr>\n",
       "    <tr>\n",
       "      <th>152232</th>\n",
       "      <td>2007-09</td>\n",
       "      <td>Monsieur</td>\n",
       "      <td>2008-03</td>\n",
       "      <td>Mineur en Management, technologie et entrepren...</td>\n",
       "      <td>None</td>\n",
       "      <td>2008-09</td>\n",
       "    </tr>\n",
       "  </tbody>\n",
       "</table>\n",
       "</div>"
      ],
      "text/plain": [
       "       Master semestre 1    Gender Master semestre 2  \\\n",
       "146330           2007-09  Monsieur           2008-03   \n",
       "146742           2008-09  Monsieur           2010-03   \n",
       "146929           2007-09  Monsieur           2008-03   \n",
       "147008           2011-09  Monsieur           2013-03   \n",
       "152232           2007-09  Monsieur           2008-03   \n",
       "\n",
       "                                                    Minor  \\\n",
       "146330                                               None   \n",
       "146742                                               None   \n",
       "146929                                               None   \n",
       "147008                                               None   \n",
       "152232  Mineur en Management, technologie et entrepren...   \n",
       "\n",
       "                        Specialisation Master semestre 3  \n",
       "146330                            None           2008-09  \n",
       "146742  Signals, Images and Interfaces           2012-09  \n",
       "146929                            None               NaN  \n",
       "147008                            None           2012-09  \n",
       "152232                            None           2008-09  "
      ]
     },
     "execution_count": 43,
     "metadata": {},
     "output_type": "execute_result"
    }
   ],
   "source": [
    "m1_to_m3 = df_m1[[\"Master semestre 1\",\"Gender\"]].join(df_m2[[\"Master semestre 2\",\"Minor\",\"Specialisation\"]], \n",
    "                                                            how='inner').join(df_m3[\"Master semestre 3\"])\n",
    "m1_to_m3.head()"
   ]
  },
  {
   "cell_type": "markdown",
   "metadata": {},
   "source": [
    "We can see cases of students (`146330` and `147008`) that don't have a minor or a specialisation but have an entry for `Master semestre 3`. Therefore, we will simply check if `Master semestre 3` is not `NaN` (rather than checking if minor or specialisation is empty). This will give a more accurate value for the stay at EPFL."
   ]
  },
  {
   "cell_type": "markdown",
   "metadata": {},
   "source": [
    "Again, a similar function as before to compute the duration. This time we check to see if `Master semestre 3` is `NaN` and if not, we use this as the end date."
   ]
  },
  {
   "cell_type": "code",
   "execution_count": 44,
   "metadata": {
    "collapsed": false
   },
   "outputs": [
    {
     "data": {
      "text/html": [
       "<div>\n",
       "<table border=\"1\" class=\"dataframe\">\n",
       "  <thead>\n",
       "    <tr style=\"text-align: right;\">\n",
       "      <th></th>\n",
       "      <th>Master semestre 1</th>\n",
       "      <th>Gender</th>\n",
       "      <th>Master semestre 2</th>\n",
       "      <th>Minor</th>\n",
       "      <th>Specialisation</th>\n",
       "      <th>Master semestre 3</th>\n",
       "      <th>Duration</th>\n",
       "    </tr>\n",
       "  </thead>\n",
       "  <tbody>\n",
       "    <tr>\n",
       "      <th>146330</th>\n",
       "      <td>2007-09</td>\n",
       "      <td>Monsieur</td>\n",
       "      <td>2008-03</td>\n",
       "      <td>None</td>\n",
       "      <td>None</td>\n",
       "      <td>2008-09</td>\n",
       "      <td>18</td>\n",
       "    </tr>\n",
       "    <tr>\n",
       "      <th>146742</th>\n",
       "      <td>2008-09</td>\n",
       "      <td>Monsieur</td>\n",
       "      <td>2010-03</td>\n",
       "      <td>None</td>\n",
       "      <td>Signals, Images and Interfaces</td>\n",
       "      <td>2012-09</td>\n",
       "      <td>54</td>\n",
       "    </tr>\n",
       "    <tr>\n",
       "      <th>146929</th>\n",
       "      <td>2007-09</td>\n",
       "      <td>Monsieur</td>\n",
       "      <td>2008-03</td>\n",
       "      <td>None</td>\n",
       "      <td>None</td>\n",
       "      <td>NaN</td>\n",
       "      <td>12</td>\n",
       "    </tr>\n",
       "    <tr>\n",
       "      <th>147008</th>\n",
       "      <td>2011-09</td>\n",
       "      <td>Monsieur</td>\n",
       "      <td>2013-03</td>\n",
       "      <td>None</td>\n",
       "      <td>None</td>\n",
       "      <td>2012-09</td>\n",
       "      <td>18</td>\n",
       "    </tr>\n",
       "    <tr>\n",
       "      <th>152232</th>\n",
       "      <td>2007-09</td>\n",
       "      <td>Monsieur</td>\n",
       "      <td>2008-03</td>\n",
       "      <td>Mineur en Management, technologie et entrepren...</td>\n",
       "      <td>None</td>\n",
       "      <td>2008-09</td>\n",
       "      <td>18</td>\n",
       "    </tr>\n",
       "  </tbody>\n",
       "</table>\n",
       "</div>"
      ],
      "text/plain": [
       "       Master semestre 1    Gender Master semestre 2  \\\n",
       "146330           2007-09  Monsieur           2008-03   \n",
       "146742           2008-09  Monsieur           2010-03   \n",
       "146929           2007-09  Monsieur           2008-03   \n",
       "147008           2011-09  Monsieur           2013-03   \n",
       "152232           2007-09  Monsieur           2008-03   \n",
       "\n",
       "                                                    Minor  \\\n",
       "146330                                               None   \n",
       "146742                                               None   \n",
       "146929                                               None   \n",
       "147008                                               None   \n",
       "152232  Mineur en Management, technologie et entrepren...   \n",
       "\n",
       "                        Specialisation Master semestre 3  Duration  \n",
       "146330                            None           2008-09        18  \n",
       "146742  Signals, Images and Interfaces           2012-09        54  \n",
       "146929                            None               NaN        12  \n",
       "147008                            None           2012-09        18  \n",
       "152232                            None           2008-09        18  "
      ]
     },
     "execution_count": 44,
     "metadata": {},
     "output_type": "execute_result"
    }
   ],
   "source": [
    "def master_duration_in_months(row):\n",
    "    start_date = row['Master semestre 1']\n",
    "    end_date = row['Master semestre 2']\n",
    "    if pd.notnull(row['Master semestre 3']):\n",
    "        end_date = row['Master semestre 3']\n",
    "    if pd.isnull(start_date) or pd.isnull(end_date):\n",
    "        return np.nan\n",
    "    return months_between_dates(start_date, end_date)\n",
    "\n",
    "m1_to_m3['Duration'] = m1_to_m3.apply(lambda row: master_duration_in_months(row), axis=1)\n",
    "m1_to_m3.head()"
   ]
  },
  {
   "cell_type": "markdown",
   "metadata": {},
   "source": [
    "We still have some cases of students with a strange duration..."
   ]
  },
  {
   "cell_type": "code",
   "execution_count": 45,
   "metadata": {
    "collapsed": false
   },
   "outputs": [
    {
     "data": {
      "text/plain": [
       "15"
      ]
     },
     "execution_count": 45,
     "metadata": {},
     "output_type": "execute_result"
    }
   ],
   "source": [
    "# some interesting cases of an M2/M3 before their M1...\n",
    "len(m1_to_m3.loc[m1_to_m3[\"Duration\"]<=0])"
   ]
  },
  {
   "cell_type": "markdown",
   "metadata": {},
   "source": [
    "We will drop the cases of students that have these strange durations before computing this new estimate of the average duration."
   ]
  },
  {
   "cell_type": "code",
   "execution_count": 46,
   "metadata": {
    "collapsed": false
   },
   "outputs": [
    {
     "data": {
      "text/plain": [
       "Duration    18.0\n",
       "dtype: float64"
      ]
     },
     "execution_count": 46,
     "metadata": {},
     "output_type": "execute_result"
    }
   ],
   "source": [
    "m1_to_m3.loc[m1_to_m3[\"Duration\"]>0].mean()"
   ]
  },
  {
   "cell_type": "markdown",
   "metadata": {},
   "source": [
    "#### Last but not the least, don't forget to check if the student has an entry also in the Projet Master tables. Once you can handle well this data, compute the \"average stay at EPFL\" for master students."
   ]
  },
  {
   "cell_type": "markdown",
   "metadata": {},
   "source": [
    "Let's import the data we created at the beginning of the exercise."
   ]
  },
  {
   "cell_type": "code",
   "execution_count": 47,
   "metadata": {
    "collapsed": true
   },
   "outputs": [],
   "source": [
    "df_pm_aut = pd.read_pickle(\"pm_aut_pickle\")\n",
    "df_pm_pri = pd.read_pickle(\"pm_pri_pickle\")"
   ]
  },
  {
   "cell_type": "markdown",
   "metadata": {},
   "source": [
    "Some students seems to have an entry in both Autumn and Spring semesters."
   ]
  },
  {
   "cell_type": "code",
   "execution_count": 48,
   "metadata": {
    "collapsed": false
   },
   "outputs": [
    {
     "data": {
      "text/plain": [
       "Index([146742, 159852, 160213, 170235, 173527, 183605, 191471], dtype='object')"
      ]
     },
     "execution_count": 48,
     "metadata": {},
     "output_type": "execute_result"
    }
   ],
   "source": [
    "df_pm_aut.index.intersection(df_pm_pri.index)"
   ]
  },
  {
   "cell_type": "markdown",
   "metadata": {},
   "source": [
    "Let's first add these columns to the `m1_to_m3` DataFrame and then deal with this cases while creating a single `Projet Master` column."
   ]
  },
  {
   "cell_type": "code",
   "execution_count": 49,
   "metadata": {
    "collapsed": false
   },
   "outputs": [
    {
     "data": {
      "text/html": [
       "<div>\n",
       "<table border=\"1\" class=\"dataframe\">\n",
       "  <thead>\n",
       "    <tr style=\"text-align: right;\">\n",
       "      <th></th>\n",
       "      <th>Master semestre 1</th>\n",
       "      <th>Gender</th>\n",
       "      <th>Master semestre 2</th>\n",
       "      <th>Minor</th>\n",
       "      <th>Specialisation</th>\n",
       "      <th>Master semestre 3</th>\n",
       "      <th>Duration</th>\n",
       "      <th>Projet Master automne</th>\n",
       "      <th>Projet Master printemps</th>\n",
       "    </tr>\n",
       "  </thead>\n",
       "  <tbody>\n",
       "    <tr>\n",
       "      <th>146330</th>\n",
       "      <td>2007-09</td>\n",
       "      <td>Monsieur</td>\n",
       "      <td>2008-03</td>\n",
       "      <td>None</td>\n",
       "      <td>None</td>\n",
       "      <td>2008-09</td>\n",
       "      <td>18</td>\n",
       "      <td>NaN</td>\n",
       "      <td>NaN</td>\n",
       "    </tr>\n",
       "    <tr>\n",
       "      <th>146742</th>\n",
       "      <td>2008-09</td>\n",
       "      <td>Monsieur</td>\n",
       "      <td>2010-03</td>\n",
       "      <td>None</td>\n",
       "      <td>Signals, Images and Interfaces</td>\n",
       "      <td>2012-09</td>\n",
       "      <td>54</td>\n",
       "      <td>2010-09</td>\n",
       "      <td>2011-03</td>\n",
       "    </tr>\n",
       "    <tr>\n",
       "      <th>146929</th>\n",
       "      <td>2007-09</td>\n",
       "      <td>Monsieur</td>\n",
       "      <td>2008-03</td>\n",
       "      <td>None</td>\n",
       "      <td>None</td>\n",
       "      <td>NaN</td>\n",
       "      <td>12</td>\n",
       "      <td>NaN</td>\n",
       "      <td>NaN</td>\n",
       "    </tr>\n",
       "    <tr>\n",
       "      <th>147008</th>\n",
       "      <td>2011-09</td>\n",
       "      <td>Monsieur</td>\n",
       "      <td>2013-03</td>\n",
       "      <td>None</td>\n",
       "      <td>None</td>\n",
       "      <td>2012-09</td>\n",
       "      <td>18</td>\n",
       "      <td>NaN</td>\n",
       "      <td>NaN</td>\n",
       "    </tr>\n",
       "    <tr>\n",
       "      <th>152232</th>\n",
       "      <td>2007-09</td>\n",
       "      <td>Monsieur</td>\n",
       "      <td>2008-03</td>\n",
       "      <td>Mineur en Management, technologie et entrepren...</td>\n",
       "      <td>None</td>\n",
       "      <td>2008-09</td>\n",
       "      <td>18</td>\n",
       "      <td>NaN</td>\n",
       "      <td>NaN</td>\n",
       "    </tr>\n",
       "  </tbody>\n",
       "</table>\n",
       "</div>"
      ],
      "text/plain": [
       "       Master semestre 1    Gender Master semestre 2  \\\n",
       "146330           2007-09  Monsieur           2008-03   \n",
       "146742           2008-09  Monsieur           2010-03   \n",
       "146929           2007-09  Monsieur           2008-03   \n",
       "147008           2011-09  Monsieur           2013-03   \n",
       "152232           2007-09  Monsieur           2008-03   \n",
       "\n",
       "                                                    Minor  \\\n",
       "146330                                               None   \n",
       "146742                                               None   \n",
       "146929                                               None   \n",
       "147008                                               None   \n",
       "152232  Mineur en Management, technologie et entrepren...   \n",
       "\n",
       "                        Specialisation Master semestre 3  Duration  \\\n",
       "146330                            None           2008-09        18   \n",
       "146742  Signals, Images and Interfaces           2012-09        54   \n",
       "146929                            None               NaN        12   \n",
       "147008                            None           2012-09        18   \n",
       "152232                            None           2008-09        18   \n",
       "\n",
       "       Projet Master automne Projet Master printemps  \n",
       "146330                   NaN                     NaN  \n",
       "146742               2010-09                 2011-03  \n",
       "146929                   NaN                     NaN  \n",
       "147008                   NaN                     NaN  \n",
       "152232                   NaN                     NaN  "
      ]
     },
     "execution_count": 49,
     "metadata": {},
     "output_type": "execute_result"
    }
   ],
   "source": [
    "m1_to_proj = m1_to_m3.join(df_pm_aut[\"Projet Master automne\"]).join(df_pm_pri[\"Projet Master printemps\"])\n",
    "m1_to_proj.head()"
   ]
  },
  {
   "cell_type": "markdown",
   "metadata": {},
   "source": [
    "We will keep the latter of the two entries and store it in a new column called `Projet Master`."
   ]
  },
  {
   "cell_type": "code",
   "execution_count": 50,
   "metadata": {
    "collapsed": false
   },
   "outputs": [
    {
     "data": {
      "text/html": [
       "<div>\n",
       "<table border=\"1\" class=\"dataframe\">\n",
       "  <thead>\n",
       "    <tr style=\"text-align: right;\">\n",
       "      <th></th>\n",
       "      <th>Master semestre 1</th>\n",
       "      <th>Gender</th>\n",
       "      <th>Master semestre 2</th>\n",
       "      <th>Minor</th>\n",
       "      <th>Specialisation</th>\n",
       "      <th>Master semestre 3</th>\n",
       "      <th>Duration</th>\n",
       "      <th>Projet Master automne</th>\n",
       "      <th>Projet Master printemps</th>\n",
       "      <th>Projet Master</th>\n",
       "    </tr>\n",
       "  </thead>\n",
       "  <tbody>\n",
       "    <tr>\n",
       "      <th>146330</th>\n",
       "      <td>2007-09</td>\n",
       "      <td>Monsieur</td>\n",
       "      <td>2008-03</td>\n",
       "      <td>None</td>\n",
       "      <td>None</td>\n",
       "      <td>2008-09</td>\n",
       "      <td>18</td>\n",
       "      <td>NaN</td>\n",
       "      <td>NaN</td>\n",
       "      <td>NaN</td>\n",
       "    </tr>\n",
       "    <tr>\n",
       "      <th>146742</th>\n",
       "      <td>2008-09</td>\n",
       "      <td>Monsieur</td>\n",
       "      <td>2010-03</td>\n",
       "      <td>None</td>\n",
       "      <td>Signals, Images and Interfaces</td>\n",
       "      <td>2012-09</td>\n",
       "      <td>54</td>\n",
       "      <td>2010-09</td>\n",
       "      <td>2011-03</td>\n",
       "      <td>2011-03</td>\n",
       "    </tr>\n",
       "    <tr>\n",
       "      <th>146929</th>\n",
       "      <td>2007-09</td>\n",
       "      <td>Monsieur</td>\n",
       "      <td>2008-03</td>\n",
       "      <td>None</td>\n",
       "      <td>None</td>\n",
       "      <td>NaN</td>\n",
       "      <td>12</td>\n",
       "      <td>NaN</td>\n",
       "      <td>NaN</td>\n",
       "      <td>NaN</td>\n",
       "    </tr>\n",
       "    <tr>\n",
       "      <th>147008</th>\n",
       "      <td>2011-09</td>\n",
       "      <td>Monsieur</td>\n",
       "      <td>2013-03</td>\n",
       "      <td>None</td>\n",
       "      <td>None</td>\n",
       "      <td>2012-09</td>\n",
       "      <td>18</td>\n",
       "      <td>NaN</td>\n",
       "      <td>NaN</td>\n",
       "      <td>NaN</td>\n",
       "    </tr>\n",
       "    <tr>\n",
       "      <th>152232</th>\n",
       "      <td>2007-09</td>\n",
       "      <td>Monsieur</td>\n",
       "      <td>2008-03</td>\n",
       "      <td>Mineur en Management, technologie et entrepren...</td>\n",
       "      <td>None</td>\n",
       "      <td>2008-09</td>\n",
       "      <td>18</td>\n",
       "      <td>NaN</td>\n",
       "      <td>NaN</td>\n",
       "      <td>NaN</td>\n",
       "    </tr>\n",
       "  </tbody>\n",
       "</table>\n",
       "</div>"
      ],
      "text/plain": [
       "       Master semestre 1    Gender Master semestre 2  \\\n",
       "146330           2007-09  Monsieur           2008-03   \n",
       "146742           2008-09  Monsieur           2010-03   \n",
       "146929           2007-09  Monsieur           2008-03   \n",
       "147008           2011-09  Monsieur           2013-03   \n",
       "152232           2007-09  Monsieur           2008-03   \n",
       "\n",
       "                                                    Minor  \\\n",
       "146330                                               None   \n",
       "146742                                               None   \n",
       "146929                                               None   \n",
       "147008                                               None   \n",
       "152232  Mineur en Management, technologie et entrepren...   \n",
       "\n",
       "                        Specialisation Master semestre 3  Duration  \\\n",
       "146330                            None           2008-09        18   \n",
       "146742  Signals, Images and Interfaces           2012-09        54   \n",
       "146929                            None               NaN        12   \n",
       "147008                            None           2012-09        18   \n",
       "152232                            None           2008-09        18   \n",
       "\n",
       "       Projet Master automne Projet Master printemps Projet Master  \n",
       "146330                   NaN                     NaN           NaN  \n",
       "146742               2010-09                 2011-03       2011-03  \n",
       "146929                   NaN                     NaN           NaN  \n",
       "147008                   NaN                     NaN           NaN  \n",
       "152232                   NaN                     NaN           NaN  "
      ]
     },
     "execution_count": 50,
     "metadata": {},
     "output_type": "execute_result"
    }
   ],
   "source": [
    "def later_date(d1, d2):\n",
    "    # subtract 6 since we added to get to end of semester\n",
    "    if months_between_dates(d1,d2)-6 < 0:\n",
    "        return d1\n",
    "    else:\n",
    "        return d2\n",
    "\n",
    "def create_single_project_column(row):\n",
    "    pm_aut = row['Projet Master automne']\n",
    "    pm_pri = row['Projet Master printemps']\n",
    "    if pm_aut is np.nan and pm_pri is np.nan:\n",
    "        return np.nan\n",
    "    elif pm_aut is np.nan:\n",
    "        return pm_pri\n",
    "    elif pm_pri is np.nan:\n",
    "        return pm_aut\n",
    "    else: # return later date\n",
    "        return later_date(pm_aut, pm_pri)\n",
    "           \n",
    "m1_to_proj['Projet Master'] = m1_to_proj.apply(lambda row: create_single_project_column(row), axis=1)\n",
    "m1_to_proj.head()"
   ]
  },
  {
   "cell_type": "markdown",
   "metadata": {},
   "source": [
    "Now we modify our `master_duration_in_months()` function to take into account if a Master Project was done."
   ]
  },
  {
   "cell_type": "code",
   "execution_count": 51,
   "metadata": {
    "collapsed": false
   },
   "outputs": [
    {
     "data": {
      "text/html": [
       "<div>\n",
       "<table border=\"1\" class=\"dataframe\">\n",
       "  <thead>\n",
       "    <tr style=\"text-align: right;\">\n",
       "      <th></th>\n",
       "      <th>Master semestre 1</th>\n",
       "      <th>Gender</th>\n",
       "      <th>Master semestre 2</th>\n",
       "      <th>Minor</th>\n",
       "      <th>Specialisation</th>\n",
       "      <th>Master semestre 3</th>\n",
       "      <th>Duration</th>\n",
       "      <th>Projet Master automne</th>\n",
       "      <th>Projet Master printemps</th>\n",
       "      <th>Projet Master</th>\n",
       "    </tr>\n",
       "  </thead>\n",
       "  <tbody>\n",
       "    <tr>\n",
       "      <th>146330</th>\n",
       "      <td>2007-09</td>\n",
       "      <td>Monsieur</td>\n",
       "      <td>2008-03</td>\n",
       "      <td>None</td>\n",
       "      <td>None</td>\n",
       "      <td>2008-09</td>\n",
       "      <td>18</td>\n",
       "      <td>NaN</td>\n",
       "      <td>NaN</td>\n",
       "      <td>NaN</td>\n",
       "    </tr>\n",
       "    <tr>\n",
       "      <th>146742</th>\n",
       "      <td>2008-09</td>\n",
       "      <td>Monsieur</td>\n",
       "      <td>2010-03</td>\n",
       "      <td>None</td>\n",
       "      <td>Signals, Images and Interfaces</td>\n",
       "      <td>2012-09</td>\n",
       "      <td>54</td>\n",
       "      <td>2010-09</td>\n",
       "      <td>2011-03</td>\n",
       "      <td>2011-03</td>\n",
       "    </tr>\n",
       "    <tr>\n",
       "      <th>146929</th>\n",
       "      <td>2007-09</td>\n",
       "      <td>Monsieur</td>\n",
       "      <td>2008-03</td>\n",
       "      <td>None</td>\n",
       "      <td>None</td>\n",
       "      <td>NaN</td>\n",
       "      <td>12</td>\n",
       "      <td>NaN</td>\n",
       "      <td>NaN</td>\n",
       "      <td>NaN</td>\n",
       "    </tr>\n",
       "    <tr>\n",
       "      <th>147008</th>\n",
       "      <td>2011-09</td>\n",
       "      <td>Monsieur</td>\n",
       "      <td>2013-03</td>\n",
       "      <td>None</td>\n",
       "      <td>None</td>\n",
       "      <td>2012-09</td>\n",
       "      <td>24</td>\n",
       "      <td>NaN</td>\n",
       "      <td>NaN</td>\n",
       "      <td>NaN</td>\n",
       "    </tr>\n",
       "    <tr>\n",
       "      <th>152232</th>\n",
       "      <td>2007-09</td>\n",
       "      <td>Monsieur</td>\n",
       "      <td>2008-03</td>\n",
       "      <td>Mineur en Management, technologie et entrepren...</td>\n",
       "      <td>None</td>\n",
       "      <td>2008-09</td>\n",
       "      <td>18</td>\n",
       "      <td>NaN</td>\n",
       "      <td>NaN</td>\n",
       "      <td>NaN</td>\n",
       "    </tr>\n",
       "  </tbody>\n",
       "</table>\n",
       "</div>"
      ],
      "text/plain": [
       "       Master semestre 1    Gender Master semestre 2  \\\n",
       "146330           2007-09  Monsieur           2008-03   \n",
       "146742           2008-09  Monsieur           2010-03   \n",
       "146929           2007-09  Monsieur           2008-03   \n",
       "147008           2011-09  Monsieur           2013-03   \n",
       "152232           2007-09  Monsieur           2008-03   \n",
       "\n",
       "                                                    Minor  \\\n",
       "146330                                               None   \n",
       "146742                                               None   \n",
       "146929                                               None   \n",
       "147008                                               None   \n",
       "152232  Mineur en Management, technologie et entrepren...   \n",
       "\n",
       "                        Specialisation Master semestre 3  Duration  \\\n",
       "146330                            None           2008-09        18   \n",
       "146742  Signals, Images and Interfaces           2012-09        54   \n",
       "146929                            None               NaN        12   \n",
       "147008                            None           2012-09        24   \n",
       "152232                            None           2008-09        18   \n",
       "\n",
       "       Projet Master automne Projet Master printemps Projet Master  \n",
       "146330                   NaN                     NaN           NaN  \n",
       "146742               2010-09                 2011-03       2011-03  \n",
       "146929                   NaN                     NaN           NaN  \n",
       "147008                   NaN                     NaN           NaN  \n",
       "152232                   NaN                     NaN           NaN  "
      ]
     },
     "execution_count": 51,
     "metadata": {},
     "output_type": "execute_result"
    }
   ],
   "source": [
    "# now including Projet Master\n",
    "def master_duration_in_months(row):\n",
    "    start_date = row['Master semestre 1']\n",
    "    end_date = row['Master semestre 2']\n",
    "    if pd.notnull(row['Projet Master']):\n",
    "        end_date = later_date(end_date, row['Projet Master'])\n",
    "    if pd.notnull(row['Master semestre 3']):\n",
    "        end_date = later_date(end_date, row['Master semestre 3'])\n",
    "    if pd.isnull(start_date) or pd.isnull(end_date):\n",
    "        return np.nan\n",
    "    return months_between_dates(start_date, end_date)\n",
    "\n",
    "m1_to_proj['Duration'] = m1_to_proj.apply(lambda row: master_duration_in_months(row), axis=1)\n",
    "m1_to_proj.head()"
   ]
  },
  {
   "cell_type": "markdown",
   "metadata": {},
   "source": [
    "Finally, we will drop those students that have a duration of less than 18 months as this is the minimum duration needed for a CS major."
   ]
  },
  {
   "cell_type": "code",
   "execution_count": 52,
   "metadata": {
    "collapsed": true
   },
   "outputs": [],
   "source": [
    "m1_to_proj_clean = m1_to_proj.loc[m1_to_m3[\"Duration\"]>=18]"
   ]
  },
  {
   "cell_type": "markdown",
   "metadata": {},
   "source": [
    "The new estimate of the general average is now:"
   ]
  },
  {
   "cell_type": "code",
   "execution_count": 53,
   "metadata": {
    "collapsed": false
   },
   "outputs": [
    {
     "data": {
      "text/plain": [
       "Duration    22.170732\n",
       "dtype: float64"
      ]
     },
     "execution_count": 53,
     "metadata": {},
     "output_type": "execute_result"
    }
   ],
   "source": [
    "m1_to_proj_clean.mean()"
   ]
  },
  {
   "cell_type": "markdown",
   "metadata": {},
   "source": [
    "#### Now extract all the students with a Spécialisation and compute the \"average stay\" per each category of that attribute -- compared to the general average, can you find any specialization for which the difference in average is statistically significant?"
   ]
  },
  {
   "cell_type": "markdown",
   "metadata": {},
   "source": [
    "We don't drop `NaN` to just see how many don't have a specialization."
   ]
  },
  {
   "cell_type": "code",
   "execution_count": 54,
   "metadata": {
    "collapsed": false
   },
   "outputs": [
    {
     "data": {
      "text/plain": [
       "NaN                               378\n",
       "Internet computing                 74\n",
       "Foundations of Software            54\n",
       "Signals, Images and Interfaces     20\n",
       "Software Systems                   16\n",
       "Computer Engineering - SP          16\n",
       "Information Security - SP           7\n",
       "Data Analytics                      3\n",
       "Service science                     2\n",
       "Biocomputing                        2\n",
       "Computer Science Theory             1\n",
       "Internet Information Systems        1\n",
       "Name: Specialisation, dtype: int64"
      ]
     },
     "execution_count": 54,
     "metadata": {},
     "output_type": "execute_result"
    }
   ],
   "source": [
    "m1_to_proj_clean.Specialisation.value_counts(dropna=False)"
   ]
  },
  {
   "cell_type": "markdown",
   "metadata": {},
   "source": [
    "We will only extract the specialization and duration (as this is what we are interested), group by specialization, and then compute the average stay for each one."
   ]
  },
  {
   "cell_type": "code",
   "execution_count": 55,
   "metadata": {
    "collapsed": false
   },
   "outputs": [
    {
     "data": {
      "text/plain": [
       "Specialisation\n",
       "Biocomputing                      33.000000\n",
       "Computer Engineering - SP         22.875000\n",
       "Computer Science Theory           18.000000\n",
       "Data Analytics                    18.000000\n",
       "Foundations of Software           24.444444\n",
       "Information Security - SP         21.428571\n",
       "Internet Information Systems      18.000000\n",
       "Internet computing                23.837838\n",
       "Service science                   24.000000\n",
       "Signals, Images and Interfaces    27.000000\n",
       "Software Systems                  20.250000\n",
       "Name: Duration, dtype: float64"
      ]
     },
     "execution_count": 55,
     "metadata": {},
     "output_type": "execute_result"
    }
   ],
   "source": [
    "m1_to_proj_copy = m1_to_proj_clean[[\"Specialisation\",\"Duration\"]]\n",
    "m1_to_proj_copy.dropna().groupby('Specialisation')['Duration'].mean()"
   ]
  },
  {
   "cell_type": "markdown",
   "metadata": {},
   "source": [
    "We now use the One-Sample T-Test to see if there is a statistical significance between the general average duration and the average duration for each specialization. A one-sample t-test checks whether a sample mean (in this case from a specialization) differs from the population mean (i.e. the general average). More info can be found in the link provided with the homework: http://hamelg.blogspot.ch/2015/11/python-for-data-analysis-part-24.html We will use the `ttest_1samp()` function from the `scipy.stats` library. More info about it can be found here: http://docs.scipy.org/doc/scipy/reference/generated/scipy.stats.ttest_1samp.html"
   ]
  },
  {
   "cell_type": "code",
   "execution_count": 56,
   "metadata": {
    "collapsed": false
   },
   "outputs": [
    {
     "name": "stderr",
     "output_type": "stream",
     "text": [
      "/Users/eric/anaconda/envs/py35/lib/python3.5/site-packages/numpy/core/_methods.py:82: RuntimeWarning: Degrees of freedom <= 0 for slice\n",
      "  warnings.warn(\"Degrees of freedom <= 0 for slice\", RuntimeWarning)\n"
     ]
    },
    {
     "data": {
      "text/plain": [
       "Biocomputing                      17.204633\n",
       "Computer Engineering - SP         61.363861\n",
       "Computer Science Theory                 NaN\n",
       "Data Analytics                     0.000000\n",
       "Foundations of Software            0.778548\n",
       "Information Security - SP         74.878031\n",
       "Internet Information Systems            NaN\n",
       "Internet computing                 2.183813\n",
       "Service science                   81.160763\n",
       "Signals, Images and Interfaces     3.041909\n",
       "Software Systems                   9.509438\n",
       "dtype: float64"
      ]
     },
     "execution_count": 56,
     "metadata": {},
     "output_type": "execute_result"
    }
   ],
   "source": [
    "specs = m1_to_proj_copy.dropna().Specialisation.unique() # obtain specialization names\n",
    "popmean = m1_to_proj_copy.Duration.mean()  # expected / general mean\n",
    "p_vals = {}\n",
    "# obtain p-value for each specialization\n",
    "for spec in specs:\n",
    "    durations_spec = m1_to_proj_copy[m1_to_proj_copy.Specialisation == spec].Duration.values\n",
    "    result = stats.ttest_1samp(a=durations_spec,popmean=popmean)\n",
    "    p_vals[spec] = result[1]*100\n",
    "p_vals = pd.Series(p_vals)\n",
    "p_vals"
   ]
  },
  {
   "cell_type": "markdown",
   "metadata": {},
   "source": [
    "We have `NaN` since there was only one person who did those specialisations. We use a confidence interval of 95% to check for statistical significance."
   ]
  },
  {
   "cell_type": "code",
   "execution_count": 57,
   "metadata": {
    "collapsed": false
   },
   "outputs": [
    {
     "data": {
      "text/plain": [
       "array([18, 18, 18])"
      ]
     },
     "execution_count": 57,
     "metadata": {},
     "output_type": "execute_result"
    }
   ],
   "source": [
    "m1_to_proj_copy[m1_to_proj_copy.Specialisation == \"Data Analytics\"].Duration.values"
   ]
  },
  {
   "cell_type": "markdown",
   "metadata": {},
   "source": [
    "We have a p-value of `0.0` for Data Analytics since they all have a duration of 18 so there is no variance."
   ]
  },
  {
   "cell_type": "code",
   "execution_count": 58,
   "metadata": {
    "collapsed": false
   },
   "outputs": [
    {
     "data": {
      "text/plain": [
       "Data Analytics                    0.000000\n",
       "Foundations of Software           0.778548\n",
       "Internet computing                2.183813\n",
       "Signals, Images and Interfaces    3.041909\n",
       "dtype: float64"
      ]
     },
     "execution_count": 58,
     "metadata": {},
     "output_type": "execute_result"
    }
   ],
   "source": [
    "p_vals[p_vals<5]"
   ]
  },
  {
   "cell_type": "markdown",
   "metadata": {},
   "source": [
    "Using the One-Sample T-Test and a confidence interval of 95%, the difference in average for the following specializations is statistically significant:\n",
    "* **Data Analytics**\n",
    "* **Foundations of Software**\n",
    "* **Internet computing**\n",
    "* **Signals, Images and Interfaces**\n",
    "\n",
    "The difference in average for the Biocomputing specialization seems statisticlly significant but since there are only two students."
   ]
  },
  {
   "cell_type": "markdown",
   "metadata": {},
   "source": [
    "# Exercise 3"
   ]
  },
  {
   "cell_type": "markdown",
   "metadata": {},
   "source": [
    "_BONUS: perform the gender-based study also on the Master students, as explained in 1. Use scatterplots to visually identify changes over time. Plot males and females with different colors -- can you spot different trends that match the results of your statistical tests?_"
   ]
  },
  {
   "cell_type": "markdown",
   "metadata": {},
   "source": [
    "Let's first extract the column we want - Gender, Duration, and Start Date. For Start Date we will extract the year from M1."
   ]
  },
  {
   "cell_type": "code",
   "execution_count": 59,
   "metadata": {
    "collapsed": false
   },
   "outputs": [
    {
     "name": "stderr",
     "output_type": "stream",
     "text": [
      "/Users/eric/anaconda/envs/py35/lib/python3.5/site-packages/ipykernel/__main__.py:2: SettingWithCopyWarning: \n",
      "A value is trying to be set on a copy of a slice from a DataFrame.\n",
      "Try using .loc[row_indexer,col_indexer] = value instead\n",
      "\n",
      "See the caveats in the documentation: http://pandas.pydata.org/pandas-docs/stable/indexing.html#indexing-view-versus-copy\n",
      "  from ipykernel import kernelapp as app\n"
     ]
    },
    {
     "data": {
      "text/html": [
       "<div>\n",
       "<table border=\"1\" class=\"dataframe\">\n",
       "  <thead>\n",
       "    <tr style=\"text-align: right;\">\n",
       "      <th></th>\n",
       "      <th>Gender</th>\n",
       "      <th>Duration</th>\n",
       "      <th>Start</th>\n",
       "    </tr>\n",
       "  </thead>\n",
       "  <tbody>\n",
       "    <tr>\n",
       "      <th>146330</th>\n",
       "      <td>Monsieur</td>\n",
       "      <td>18</td>\n",
       "      <td>2007</td>\n",
       "    </tr>\n",
       "    <tr>\n",
       "      <th>146742</th>\n",
       "      <td>Monsieur</td>\n",
       "      <td>54</td>\n",
       "      <td>2008</td>\n",
       "    </tr>\n",
       "    <tr>\n",
       "      <th>147008</th>\n",
       "      <td>Monsieur</td>\n",
       "      <td>24</td>\n",
       "      <td>2011</td>\n",
       "    </tr>\n",
       "    <tr>\n",
       "      <th>152232</th>\n",
       "      <td>Monsieur</td>\n",
       "      <td>18</td>\n",
       "      <td>2007</td>\n",
       "    </tr>\n",
       "    <tr>\n",
       "      <th>153066</th>\n",
       "      <td>Monsieur</td>\n",
       "      <td>36</td>\n",
       "      <td>2007</td>\n",
       "    </tr>\n",
       "  </tbody>\n",
       "</table>\n",
       "</div>"
      ],
      "text/plain": [
       "          Gender  Duration Start\n",
       "146330  Monsieur        18  2007\n",
       "146742  Monsieur        54  2008\n",
       "147008  Monsieur        24  2011\n",
       "152232  Monsieur        18  2007\n",
       "153066  Monsieur        36  2007"
      ]
     },
     "execution_count": 59,
     "metadata": {},
     "output_type": "execute_result"
    }
   ],
   "source": [
    "m1_proj = m1_to_proj_clean[[\"Gender\",\"Duration\"]]\n",
    "m1_proj[\"Start\"] = m1_to_proj_clean[\"Master semestre 1\"].apply(lambda x: x.split('-')[0])\n",
    "m1_proj.head()"
   ]
  },
  {
   "cell_type": "markdown",
   "metadata": {},
   "source": [
    "We make sure Duration and Start are numbers."
   ]
  },
  {
   "cell_type": "code",
   "execution_count": 60,
   "metadata": {
    "collapsed": false
   },
   "outputs": [
    {
     "name": "stderr",
     "output_type": "stream",
     "text": [
      "/Users/eric/anaconda/envs/py35/lib/python3.5/site-packages/pandas/core/frame.py:2378: SettingWithCopyWarning: \n",
      "A value is trying to be set on a copy of a slice from a DataFrame.\n",
      "Try using .loc[row_indexer,col_indexer] = value instead\n",
      "\n",
      "See the caveats in the documentation: http://pandas.pydata.org/pandas-docs/stable/indexing.html#indexing-view-versus-copy\n",
      "  self[k1] = value[k2]\n"
     ]
    },
    {
     "data": {
      "text/html": [
       "<div>\n",
       "<table border=\"1\" class=\"dataframe\">\n",
       "  <thead>\n",
       "    <tr style=\"text-align: right;\">\n",
       "      <th></th>\n",
       "      <th>Gender</th>\n",
       "      <th>Duration</th>\n",
       "      <th>Start</th>\n",
       "    </tr>\n",
       "  </thead>\n",
       "  <tbody>\n",
       "    <tr>\n",
       "      <th>146330</th>\n",
       "      <td>Monsieur</td>\n",
       "      <td>18</td>\n",
       "      <td>2007</td>\n",
       "    </tr>\n",
       "    <tr>\n",
       "      <th>146742</th>\n",
       "      <td>Monsieur</td>\n",
       "      <td>54</td>\n",
       "      <td>2008</td>\n",
       "    </tr>\n",
       "    <tr>\n",
       "      <th>147008</th>\n",
       "      <td>Monsieur</td>\n",
       "      <td>24</td>\n",
       "      <td>2011</td>\n",
       "    </tr>\n",
       "    <tr>\n",
       "      <th>152232</th>\n",
       "      <td>Monsieur</td>\n",
       "      <td>18</td>\n",
       "      <td>2007</td>\n",
       "    </tr>\n",
       "    <tr>\n",
       "      <th>153066</th>\n",
       "      <td>Monsieur</td>\n",
       "      <td>36</td>\n",
       "      <td>2007</td>\n",
       "    </tr>\n",
       "  </tbody>\n",
       "</table>\n",
       "</div>"
      ],
      "text/plain": [
       "          Gender  Duration  Start\n",
       "146330  Monsieur        18   2007\n",
       "146742  Monsieur        54   2008\n",
       "147008  Monsieur        24   2011\n",
       "152232  Monsieur        18   2007\n",
       "153066  Monsieur        36   2007"
      ]
     },
     "execution_count": 60,
     "metadata": {},
     "output_type": "execute_result"
    }
   ],
   "source": [
    "m1_proj[[\"Duration\",\"Start\"]] = m1_proj[[\"Duration\",\"Start\"]].apply(pd.to_numeric)\n",
    "m1_proj.head()"
   ]
  },
  {
   "cell_type": "markdown",
   "metadata": {},
   "source": [
    "We will use `seaborn` to create nice visuals, showing over time how long it took for a CS Masters and differentiating by gender with the color."
   ]
  },
  {
   "cell_type": "code",
   "execution_count": 61,
   "metadata": {
    "collapsed": false
   },
   "outputs": [
    {
     "data": {
      "text/plain": [
       "<matplotlib.text.Text at 0x122400c18>"
      ]
     },
     "execution_count": 61,
     "metadata": {},
     "output_type": "execute_result"
    },
    {
     "data": {
      "image/png": "[encoded data removed]",
      "text/plain": [
       "<matplotlib.figure.Figure at 0x11ffd0940>"
      ]
     },
     "metadata": {},
     "output_type": "display_data"
    }
   ],
   "source": [
    "# help from: http://chrisalbon.com/python/seaborn_scatterplot.html\n",
    "import seaborn as sns\n",
    "import matplotlib.pyplot as plt\n",
    "\n",
    "sns.set_context(\"notebook\", font_scale=1.1)\n",
    "sns.set_style(\"ticks\")\n",
    "\n",
    "sns.lmplot('Start', 'Duration', data=m1_proj, fit_reg=False, hue=\"Gender\", scatter_kws={\"marker\": \"D\", \"s\": 100})\n",
    "plt.title('Duration of CS Masters (0 - Male, 1 - Female)')\n",
    "plt.xlabel('Year')\n",
    "plt.ylabel('Duration in Months')"
   ]
  },
  {
   "cell_type": "markdown",
   "metadata": {},
   "source": [
    "From the first scatterplot, we can observe that Males usually finish later than Females, particularly those that started in 2007, 2008, 2009, 2012, 2013, and 2015."
   ]
  }
 ],
 "metadata": {
  "anaconda-cloud": {},
  "kernelspec": {
   "display_name": "Python [py35]",
   "language": "python",
   "name": "Python [py35]"
  },
  "language_info": {
   "codemirror_mode": {
    "name": "ipython",
    "version": 3
   },
   "file_extension": ".py",
   "mimetype": "text/x-python",
   "name": "python",
   "nbconvert_exporter": "python",
   "pygments_lexer": "ipython3",
   "version": "3.5.2"
  }
 },
 "nbformat": 4,
 "nbformat_minor": 0
}
