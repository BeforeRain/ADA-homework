{
 "cells": [
  {
   "cell_type": "code",
   "execution_count": 1,
   "metadata": {
    "collapsed": true
   },
   "outputs": [],
   "source": [
    "from bs4 import BeautifulSoup\n",
    "import requests\n",
    "import pandas as pd\n",
    "import numpy as np"
   ]
  },
  {
   "cell_type": "markdown",
   "metadata": {},
   "source": [
    "** NOTE: ** We have suppressed some outputs so that the notebook isn't too long."
   ]
  },
  {
   "cell_type": "markdown",
   "metadata": {},
   "source": [
    "# Familiarizing with the tools and data"
   ]
  },
  {
   "cell_type": "markdown",
   "metadata": {},
   "source": [
    "Let's first analyze the HTML content of the IS-Academia directory. We will this by using the `requests` library to `GET` the HTML content given a URL. We obtained the following URL using Postman and Postman Interceptor."
   ]
  },
  {
   "cell_type": "code",
   "execution_count": 2,
   "metadata": {
    "collapsed": false
   },
   "outputs": [],
   "source": [
    "r = requests.get(\"http://isa.epfl.ch/imoniteur_ISAP/!GEDPUBLICREPORTS.filter?ww_i_reportModel=133685247\")"
   ]
  },
  {
   "cell_type": "markdown",
   "metadata": {},
   "source": [
    "Now we will use `BeautifulSoup` to parse through the data and visualize it nicely with the `pretiffy()` method."
   ]
  },
  {
   "cell_type": "code",
   "execution_count": 3,
   "metadata": {
    "collapsed": false
   },
   "outputs": [],
   "source": [
    "soup = BeautifulSoup(r.content, 'html.parser')\n",
    "#print(soup.prettify())"
   ]
  },
  {
   "cell_type": "markdown",
   "metadata": {},
   "source": [
    "With `BeautifulSoup`, we can convinient dig deeper into the HTML content as described in this tutorial: https://www.crummy.com/software/BeautifulSoup/bs4/doc/. We will isolate the filters used to distinguish students by Major (Unité académique), Academic Year (Période académique), Student Status (Période pédagogique), and Semester Type (Type de semestre). We have identified from the output above that the filters are in the `body`, between `<table>` tags with `id=\"filtre\"`. Finally, we can use `find_all('tr')` to get each filter as an entry in a list."
   ]
  },
  {
   "cell_type": "code",
   "execution_count": 4,
   "metadata": {
    "collapsed": false
   },
   "outputs": [],
   "source": [
    "filters = soup.body.find(id=\"filtre\").find_all('tr')\n",
    "#print(filters)"
   ]
  },
  {
   "cell_type": "markdown",
   "metadata": {},
   "source": [
    "Admittedly, not the nicest output. And besides the fact that there are square brackets, it's hard to even say that it's a list! Let's try to output this more cleanly. From the `prettify()` output, we saw that each filter, e.g. `Architecture` for Unité académique or `2010-2011` for Période académique has an `option` tag surrounding it. Let's use `find_all(option)` with each item in the above list to cleanly output the filter options."
   ]
  },
  {
   "cell_type": "code",
   "execution_count": 5,
   "metadata": {
    "collapsed": false
   },
   "outputs": [
    {
     "name": "stdout",
     "output_type": "stream",
     "text": [
      "[<option value=\"null\"></option>, <option value=\"942293\">Architecture</option>, <option value=\"246696\">Chimie et génie chimique</option>, <option value=\"943282\">Cours de mathématiques spéciales</option>, <option value=\"637841336\">EME (EPFL Middle East)</option>, <option value=\"942623\">Génie civil</option>, <option value=\"944263\">Génie mécanique</option>, <option value=\"943936\">Génie électrique et électronique </option>, <option value=\"2054839157\">Humanités digitales</option>, <option value=\"249847\">Informatique</option>, <option value=\"120623110\">Ingénierie financière</option>, <option value=\"946882\">Management de la technologie</option>, <option value=\"944590\">Mathématiques</option>, <option value=\"945244\">Microtechnique</option>, <option value=\"945571\">Physique</option>, <option value=\"944917\">Science et génie des matériaux</option>, <option value=\"942953\">Sciences et ingénierie de l'environnement</option>, <option value=\"945901\">Sciences et technologies du vivant</option>, <option value=\"1574548993\">Section FCUE</option>, <option value=\"946228\">Systèmes de communication</option>]\n",
      "[<option value=\"null\"></option>, <option value=\"355925344\">2016-2017</option>, <option value=\"213638028\">2015-2016</option>, <option value=\"213637922\">2014-2015</option>, <option value=\"213637754\">2013-2014</option>, <option value=\"123456101\">2012-2013</option>, <option value=\"123455150\">2011-2012</option>, <option value=\"39486325\">2010-2011</option>, <option value=\"978195\">2009-2010</option>, <option value=\"978187\">2008-2009</option>, <option value=\"978181\">2007-2008</option>]\n",
      "[<option value=\"null\"></option>, <option value=\"249108\">Bachelor semestre 1</option>, <option value=\"249114\">Bachelor semestre 2</option>, <option value=\"942155\">Bachelor semestre 3</option>, <option value=\"942163\">Bachelor semestre 4</option>, <option value=\"942120\">Bachelor semestre 5</option>, <option value=\"2226768\">Bachelor semestre 5b</option>, <option value=\"942175\">Bachelor semestre 6</option>, <option value=\"2226785\">Bachelor semestre 6b</option>, <option value=\"2230106\">Master semestre 1</option>, <option value=\"942192\">Master semestre 2</option>, <option value=\"2230128\">Master semestre 3</option>, <option value=\"2230140\">Master semestre 4</option>, <option value=\"2335667\">Mineur semestre 1</option>, <option value=\"2335676\">Mineur semestre 2</option>, <option value=\"2063602308\">Mise à niveau</option>, <option value=\"249127\">Projet Master automne</option>, <option value=\"3781783\">Projet Master printemps</option>, <option value=\"953159\">Semestre automne</option>, <option value=\"2754553\">Semestre printemps</option>, <option value=\"953137\">Stage automne 3ème année</option>, <option value=\"2226616\">Stage automne 4ème année</option>, <option value=\"983606\">Stage printemps 3ème année</option>, <option value=\"2226626\">Stage printemps 4ème année</option>, <option value=\"2227132\">Stage printemps master</option>]\n",
      "[<option value=\"null\"></option>, <option value=\"2936286\">Semestre d'automne</option>, <option value=\"2936295\">Semestre de printemps</option>]\n"
     ]
    }
   ],
   "source": [
    "for field in filters:\n",
    "    print(field.find_all('option'))"
   ]
  },
  {
   "cell_type": "markdown",
   "metadata": {},
   "source": [
    "That's a bit better. We can see a `value` associated with each field option, e.g. `249847` for `Informatique`. Let's actually use some of these filters on the website itself and intercept the requests using Postman + Postman Interceptor. Postman helps us track which URL's are requested and to analyze the corresponding HTML. Let's check out the URL and HTML content (with `BeautifulSoup`) when we select the following field options: `Informatique`, `2009-2010`, `Bachelor semestre 1`, and `Semestre d'automne`.\n",
    "\n",
    "http://isa.epfl.ch/imoniteur_ISAP/!GEDPUBLICREPORTS.filter?ww_b_list=1&ww_i_reportmodel=133685247&ww_c_langue=&ww_i_reportModelXsl=133685270&zz_x_UNITE_ACAD=Informatique&ww_x_UNITE_ACAD=249847&zz_x_PERIODE_ACAD=2009-2010&ww_x_PERIODE_ACAD=978195&zz_x_PERIODE_PEDAGO=Bachelor+semestre+1&ww_x_PERIODE_PEDAGO=249108&zz_x_HIVERETE=Semestre+d%27automne&ww_x_HIVERETE=2936286&dummy=ok\n",
    "\n",
    "In the URL we can see the options we selected! Moreover, they have been used as parameters for the URL along with their corresponding `value` attribute. The parameter names (that `Informatique`, `2009-2010`, `Bachelor semestre 1`, and `Semestre d'automne` are being set to) could be identified by navigating through our `filters` list (by going into the `td` tag and then selecting the `name` attribute of the `input` tag)."
   ]
  },
  {
   "cell_type": "code",
   "execution_count": 6,
   "metadata": {
    "collapsed": false
   },
   "outputs": [
    {
     "name": "stdout",
     "output_type": "stream",
     "text": [
      "zz_x_UNITE_ACAD\n",
      "zz_x_PERIODE_ACAD\n",
      "zz_x_PERIODE_PEDAGO\n",
      "zz_x_HIVERETE\n"
     ]
    }
   ],
   "source": [
    "for field in filters:\n",
    "    print(field.td.input[\"name\"])"
   ]
  },
  {
   "cell_type": "markdown",
   "metadata": {},
   "source": [
    "`zz_*` seems to be for the string parameter name and `xx_*` for the corresponding `value` attribute. However, it is also possible to get the same HTML content without the `zz_*` parameters by adding the `ww_b_list` parameter (we found this out using Postmaster):\n",
    "\n",
    "http://isa.epfl.ch/imoniteur_ISAP/!GEDPUBLICREPORTS.filter?ww_b_list=1&ww_i_reportmodel=133685247&ww_i_reportModelXsl=133685270&ww_x_HIVERETE=2936286&ww_x_PERIODE_ACAD=978195&ww_x_UNITE_ACAD=249847&ww_x_PERIODE_PEDAGO=249108\n",
    "\n",
    "When checking out the HTML content, we see a new table at the bottom (corresponding to the options we see on the IS-Academia portal) with attribute `border=\"0\"`. Let's check it out with `BeautifulSoup`."
   ]
  },
  {
   "cell_type": "code",
   "execution_count": 7,
   "metadata": {
    "collapsed": false
   },
   "outputs": [],
   "source": [
    "r = requests.get(\"http://isa.epfl.ch/imoniteur_ISAP/!GEDPUBLICREPORTS.filter?ww_b_list=1&ww_i_reportmodel=133685247&ww_c_langue=&ww_i_reportModelXsl=133685270&zz_x_UNITE_ACAD=Informatique&ww_x_UNITE_ACAD=249847&zz_x_PERIODE_ACAD=2009-2010&ww_x_PERIODE_ACAD=978195&zz_x_PERIODE_PEDAGO=Bachelor+semestre+1&ww_x_PERIODE_PEDAGO=249108&zz_x_HIVERETE=Semestre+d%27automne&ww_x_HIVERETE=2936286&dummy=ok\")\n",
    "soup = BeautifulSoup(r.content, 'html.parser')\n",
    "#print(soup.prettify())"
   ]
  },
  {
   "cell_type": "markdown",
   "metadata": {},
   "source": [
    "We now see this new parameter `ww_x_GPS`. Let's follow the link for `Informatique, 2009-2010, Bachelor semestre 1` and analyze as before. The webpage now shows the corresponding list of students! With Postman, we see a `GET` request with the following URL:\n",
    "\n",
    "http://isa.epfl.ch/imoniteur_ISAP/!GEDPUBLICREPORTS.html?ww_x_GPS=213617925&ww_i_reportModel=133685247&ww_i_reportModelXsl=133685270&ww_b_list=1&ww_x_UNITE_ACAD=249847&ww_x_PERIODE_ACAD=978195&ww_x_PERIODE_PEDAGO=249108&ww_x_HIVERETE=2936286\n",
    "\n",
    "This is very similar to previous URL with one key difference: the new parameter `ww_x_GPS` with its corresponding value has been added to the URL.\n",
    "\n",
    "We have now \"cracked\" the manner in which to extract the desired HTML content from IS-Academia! The general procedure is as follows:\n",
    "\n",
    "1. Identity the `value` attributes according to desired filters.\n",
    "2. Using `requests`, build the URL for filter search results with the `value` attributes as parameters of the following base URL: http://isa.epfl.ch/imoniteur_ISAP/!GEDPUBLICREPORTS.filter?ww_b_list=1&ww_i_reportmodel=133685247&ww_c_langue=&ww_i_reportModelXsl=133685270\n",
    "3. Use `BeautifulSoup` to extract the `ww_x_GPS` parameter value from the HTML content.\n",
    "4. With `requests`, build the URL with the newly acquired `ww_x_GPS` value and the `value` attributes as parameters of the following base URL: http://isa.epfl.ch/imoniteur_ISAP/!GEDPUBLICREPORTS.html?ww_i_reportModel=133685247&ww_i_reportModelXsl=133685270&ww_b_list=1\n",
    "5. We then have a table of students in HTML format. We can use the `read_html()` function of `pandas` in order to conveniently access the data.\n",
    "\n",
    "Below we will go through the above steps for picking out the students we need for our analysis in the exercises."
   ]
  },
  {
   "cell_type": "markdown",
   "metadata": {},
   "source": [
    "#### 1. Identify `value` attributes according to desired filters"
   ]
  },
  {
   "cell_type": "markdown",
   "metadata": {},
   "source": [
    "In order to perform the first step conveniently, we will create a few dictionaries so we can \"translate\" the desired filter options into their corresponding `value` attributes. These dictionaries will be used in the following exercises."
   ]
  },
  {
   "cell_type": "code",
   "execution_count": 8,
   "metadata": {
    "collapsed": false
   },
   "outputs": [],
   "source": [
    "# same URL as before, identified with postmam\n",
    "r = requests.get(\"http://isa.epfl.ch/imoniteur_ISAP/!GEDPUBLICREPORTS.filter?ww_i_reportModel=133685247\")\n",
    "# scrape content using BeautifulSoup\n",
    "soup = BeautifulSoup(r.content, 'html.parser')\n",
    "# obtain list of filters as previously described\n",
    "filters = soup.body.find(id=\"filtre\").find_all('tr')"
   ]
  },
  {
   "cell_type": "markdown",
   "metadata": {},
   "source": [
    "Now we define a new function `create_series()` in order to scrape the string and corresponding `value` attribute from a list of `option`'s. The function will finally place them in a dictionary with the string as the key and the `value` attribute as the (you, got it) value. We then construct a pandas `Series` from the dictionary and return it ."
   ]
  },
  {
   "cell_type": "code",
   "execution_count": 9,
   "metadata": {
    "collapsed": false
   },
   "outputs": [],
   "source": [
    "# function to create dictionary for each filter\n",
    "def create_series(field_list):\n",
    "    field_dict = {}\n",
    "    for i in range(1, len(field_list)):\n",
    "        field_dict[field_list[i].string] = field_list[i][\"value\"]\n",
    "    return pd.Series(data=field_dict)\n",
    "\n",
    "# Unité académique, Période académique, Période pédagogique, Type de semestre\n",
    "major,acad_yr,status,semester = [create_series(filters[x].find_all('option')) for x in range(0,4)]"
   ]
  },
  {
   "cell_type": "markdown",
   "metadata": {},
   "source": [
    "Let's `pickle` these `Series` so we don't have to have to rely on `requests`."
   ]
  },
  {
   "cell_type": "code",
   "execution_count": 10,
   "metadata": {
    "collapsed": false
   },
   "outputs": [],
   "source": [
    "pickle_names = [\"major_pickle\", \"acad_yr_pickle\", \"status_pickle\", \"sem_pickle\"]\n",
    "dicts = [major,acad_yr,status,semester]\n",
    "res = [dic.to_pickle(pname) for dic, pname in zip(dicts,pickle_names)]"
   ]
  },
  {
   "cell_type": "markdown",
   "metadata": {},
   "source": [
    "Now we can convieniently obtain the necessary parameters to build the URLs for filtering students based on Major (Unité académique), Academic Year (Période académique), Student Status (Période pédagogique), and Semester Type (Type de semestre)!"
   ]
  },
  {
   "cell_type": "markdown",
   "metadata": {},
   "source": [
    "#### 2. Using `requests`, build the URL for filter search results with the `value` attributes as parameters"
   ]
  },
  {
   "cell_type": "markdown",
   "metadata": {},
   "source": [
    "Now let's build the required URL so we can obtain the `ww_x_GPS` parameter value to then gather the students that meet our search criteria. The following is our base URL for the filter search results:"
   ]
  },
  {
   "cell_type": "code",
   "execution_count": 11,
   "metadata": {
    "collapsed": true
   },
   "outputs": [],
   "source": [
    "FILTER_BASE_URL = 'http://isa.epfl.ch/imoniteur_ISAP/!GEDPUBLICREPORTS.filter?ww_b_list=1&ww_i_reportmodel=133685247&ww_c_langue=&ww_i_reportModelXsl=133685270'"
   ]
  },
  {
   "cell_type": "markdown",
   "metadata": {},
   "source": [
    "Now using `requests`, we can build the URL with the necessary parameters as we saw above. We have the following parameters:"
   ]
  },
  {
   "cell_type": "code",
   "execution_count": 12,
   "metadata": {
    "collapsed": true
   },
   "outputs": [],
   "source": [
    "# parameter keys\n",
    "PARAM_MAJ = 'ww_x_UNITE_ACAD'\n",
    "PARAM_YR = 'ww_x_PERIODE_ACAD'\n",
    "PARAM_STATUS = 'ww_x_PERIODE_PEDAGO'\n",
    "PARAM_SEM = 'ww_x_HIVERETE'"
   ]
  },
  {
   "cell_type": "markdown",
   "metadata": {},
   "source": [
    "Now let's pass parameters to the URL as described here (http://docs.python-requests.org/en/master/user/quickstart/#passing-parameters-in-urls) and make a `GET` request. Let's say we want students in `Informatique`, `2009-2010`, `Bachelor semestre 1`, and `Semestre d'automne` as before."
   ]
  },
  {
   "cell_type": "code",
   "execution_count": 13,
   "metadata": {
    "collapsed": false
   },
   "outputs": [
    {
     "name": "stdout",
     "output_type": "stream",
     "text": [
      "http://isa.epfl.ch/imoniteur_ISAP/!GEDPUBLICREPORTS.filter?ww_b_list=1&ww_i_reportmodel=133685247&ww_c_langue=&ww_i_reportModelXsl=133685270&ww_x_UNITE_ACAD=249847&ww_x_PERIODE_ACAD=978195&ww_x_HIVERETE=2936286&ww_x_PERIODE_PEDAGO=249108\n"
     ]
    }
   ],
   "source": [
    "# create URL for filtered result\n",
    "payload_filter = {PARAM_MAJ: major['Informatique'], \n",
    "                  PARAM_YR: acad_yr['2009-2010'], \n",
    "                  PARAM_STATUS: status['Bachelor semestre 1'], \n",
    "                  PARAM_SEM: semester[\"Semestre d'automne\"]}\n",
    "r = requests.get(FILTER_BASE_URL, params=payload_filter)\n",
    "print(r.url)"
   ]
  },
  {
   "cell_type": "markdown",
   "metadata": {},
   "source": [
    "#### 3. Use `BeautifulSoup` to extract the `ww_x_GPS` parameter value from the HTML content. "
   ]
  },
  {
   "cell_type": "markdown",
   "metadata": {},
   "source": [
    "Let's see how we can use `BeautifulSoup` to navigate through the HTML content and extract the `ww_x_GPS` parameter value. `prettify()` can help us with this."
   ]
  },
  {
   "cell_type": "code",
   "execution_count": 14,
   "metadata": {
    "collapsed": false
   },
   "outputs": [],
   "source": [
    "soup = BeautifulSoup(r.content, 'html.parser')\n",
    "#print(soup.prettify())"
   ]
  },
  {
   "cell_type": "markdown",
   "metadata": {},
   "source": [
    "We need to pick out the `a` tags that have a `class` attribute equal to `ww_x_GPS`. This can be done with the `find_all()` method."
   ]
  },
  {
   "cell_type": "code",
   "execution_count": 15,
   "metadata": {
    "collapsed": false
   },
   "outputs": [
    {
     "data": {
      "text/plain": [
       "[<a class=\"ww_x_GPS\" href=\"javascript:void(0)\" onclick=\"loadReport('ww_x_GPS=-1');return false;\">Tous</a>,\n",
       " <a class=\"ww_x_GPS\" href=\"javascript:void(0)\" onclick=\"loadReport('ww_x_GPS=213617925');return false;\">Informatique, 2009-2010, Bachelor semestre 1</a>]"
      ]
     },
     "execution_count": 15,
     "metadata": {},
     "output_type": "execute_result"
    }
   ],
   "source": [
    "soup.find_all('a', class_='ww_x_GPS')"
   ]
  },
  {
   "cell_type": "markdown",
   "metadata": {},
   "source": [
    "Now we have a list of HTML entries that contain `ww_x_GPS` values. The value itself is in the `onclick` attribute. We can extract the `ww_x_GPS` value by parsing the information contained in this attribute. We will assume that we only get two entries in the above list are our filter entries as our search criteria will ensure this. The two categories (which can be seen on the IS-Academia site) are \"Tous\" and the category of students we are interested in. \"Tous\" has a `ww_x_GPS` value of `-1` so we make sure to return the other value."
   ]
  },
  {
   "cell_type": "code",
   "execution_count": 16,
   "metadata": {
    "collapsed": false
   },
   "outputs": [
    {
     "name": "stdout",
     "output_type": "stream",
     "text": [
      "213617925\n"
     ]
    }
   ],
   "source": [
    "# assuming we only get two results with one of them being \"Tous\"\n",
    "def extract_gps(content):\n",
    "    soup = BeautifulSoup(content, 'html.parser')\n",
    "    elements = soup.find_all('a', class_='ww_x_GPS')\n",
    "    for element in elements:\n",
    "        raw_info = element.attrs['onclick']\n",
    "        gps = raw_info.split(\"'\")[1].split('=')[1]\n",
    "        if gps != \"-1\":\n",
    "            return gps\n",
    "\n",
    "gps = extract_gps(r.content)\n",
    "print(gps)"
   ]
  },
  {
   "cell_type": "markdown",
   "metadata": {},
   "source": [
    "#### 4. With `requests`, build the URL with the newly acquired `ww_x_GPS` value and the `value` attributes as parameters. "
   ]
  },
  {
   "cell_type": "markdown",
   "metadata": {},
   "source": [
    "Now we have a new base URL and an additional parameter for our payload."
   ]
  },
  {
   "cell_type": "code",
   "execution_count": 17,
   "metadata": {
    "collapsed": false
   },
   "outputs": [],
   "source": [
    "PARAM_GPS = 'ww_x_GPS'\n",
    "DATA_BASE_URL = 'http://isa.epfl.ch/imoniteur_ISAP/!GEDPUBLICREPORTS.html?ww_i_reportModel=133685247&ww_i_reportModelXsl=133685270&ww_b_list=1'"
   ]
  },
  {
   "cell_type": "markdown",
   "metadata": {},
   "source": [
    "As in Step 2, we use `requests` to can build the URL with the necessary parameters."
   ]
  },
  {
   "cell_type": "code",
   "execution_count": 18,
   "metadata": {
    "collapsed": false
   },
   "outputs": [
    {
     "name": "stdout",
     "output_type": "stream",
     "text": [
      "http://isa.epfl.ch/imoniteur_ISAP/!GEDPUBLICREPORTS.html?ww_i_reportModel=133685247&ww_i_reportModelXsl=133685270&ww_b_list=1&ww_x_UNITE_ACAD=249847&ww_x_PERIODE_ACAD=978195&ww_x_GPS=213617925&ww_x_HIVERETE=2936286&ww_x_PERIODE_PEDAGO=249108\n"
     ]
    }
   ],
   "source": [
    "# create URL for filtered result\n",
    "payload_data = {PARAM_GPS: gps,\n",
    "                PARAM_MAJ: major['Informatique'], \n",
    "                PARAM_YR: acad_yr['2009-2010'], \n",
    "                PARAM_STATUS: status['Bachelor semestre 1'], \n",
    "                PARAM_SEM: semester[\"Semestre d'automne\"]}\n",
    "r = requests.get(DATA_BASE_URL, params=payload_data)\n",
    "print(r.url)"
   ]
  },
  {
   "cell_type": "markdown",
   "metadata": {},
   "source": [
    "Following the above link takes us to the list of students meeting the following criteria: `Informatique`, `2009-2010`, `Bachelor semestre 1`, and `Semestre d'automne`."
   ]
  },
  {
   "cell_type": "markdown",
   "metadata": {},
   "source": [
    "#### 5. Use  `BeautifulSoup` to conveniently navigate through and access the data."
   ]
  },
  {
   "cell_type": "code",
   "execution_count": 19,
   "metadata": {
    "collapsed": false
   },
   "outputs": [],
   "source": [
    "soup_students = BeautifulSoup(r.content, 'html.parser')\n",
    "# visualize\n",
    "#print(soup_students.prettify())"
   ]
  },
  {
   "cell_type": "markdown",
   "metadata": {},
   "source": [
    "From the `prettify()` output, we see that student info is contained within `<tr>` tags and that the first two entries between `<tr>` are for general information about the students. Therefore, to get all the students, we can use `find_all()` to get all the `<tr>` entries and drop the first two."
   ]
  },
  {
   "cell_type": "code",
   "execution_count": 20,
   "metadata": {
    "collapsed": false
   },
   "outputs": [
    {
     "data": {
      "text/plain": [
       "<tr><td style=\"white-space:nowrap\">Monsieur</td><td style=\"white-space:nowrap\">Abdallah Jad</td><td style=\"white-space:nowrap\"></td><td style=\"white-space:nowrap\"></td><td style=\"white-space:nowrap\"></td><td style=\"white-space:nowrap\"></td><td style=\"white-space:nowrap\"></td><td style=\"white-space:nowrap\">Présent</td><td style=\"white-space:nowrap\"></td><td style=\"white-space:nowrap\"></td><td>194197</td><td style=\"white-space:nowrap\"></td></tr>"
      ]
     },
     "execution_count": 20,
     "metadata": {},
     "output_type": "execute_result"
    }
   ],
   "source": [
    "rows = soup_students.find_all('tr')\n",
    "students = rows[2:]\n",
    "# let's look at one of the student entries\n",
    "students[0]"
   ]
  },
  {
   "cell_type": "markdown",
   "metadata": {},
   "source": [
    "Each data point (e.g. gender, minor, sciper) about the student is surround by `<td>` tags. We can again use `find_all()` to access these elements and print these nicely. The second row of `rows` contains the label for each data point."
   ]
  },
  {
   "cell_type": "code",
   "execution_count": 21,
   "metadata": {
    "collapsed": false
   },
   "outputs": [
    {
     "name": "stdout",
     "output_type": "stream",
     "text": [
      "0, Civilité: Monsieur\n",
      "1, Nom Prénom: Abdallah Jad\n",
      "2, Orientation Bachelor: None\n",
      "3, Orientation Master: None\n",
      "4, Spécialisation: None\n",
      "5, Filière opt.: None\n",
      "6, Mineur: None\n",
      "7, Statut: Présent\n",
      "8, Type Echange: None\n",
      "9, Ecole Echange: None\n",
      "10, No Sciper: 194197\n"
     ]
    }
   ],
   "source": [
    "student = students[0].find_all('td')\n",
    "labels = rows[1].find_all('th') # separated by <th> tags\n",
    "for i in range(len(labels)):\n",
    "    print(str(i) + \", \" + labels[i].string + \": \", end=\"\")\n",
    "    print(student[i].string)"
   ]
  },
  {
   "cell_type": "markdown",
   "metadata": {
    "collapsed": false
   },
   "source": [
    "Now we can see the corresponding index for a particular data point of a student and pick out what we want for the following exercises!"
   ]
  },
  {
   "cell_type": "markdown",
   "metadata": {},
   "source": [
    "# Exercise 1"
   ]
  },
  {
   "cell_type": "markdown",
   "metadata": {},
   "source": [
    "_We will focus exclusively on the academic unit `Informatique`._"
   ]
  },
  {
   "cell_type": "markdown",
   "metadata": {},
   "source": [
    "_Obtain all the data for the Bachelor students, starting from 2007. Keep only the students for which you have an entry for both `Bachelor semestre 1` and `Bachelor semestre 6`. Compute how many months it took each student to go from the first to the sixth semester. Partition the data between male and female students, and compute the average -- is the difference in average statistically significant?_"
   ]
  },
  {
   "cell_type": "markdown",
   "metadata": {},
   "source": [
    "For this problem, we will create two `DataFrame`s: one for `Bachelor semestre 1` (B1) students and another for `Bachelor semestre 6` (B6) students. For the B1 `DataFrame`, we will start from 2007 and add students when they are first enrolled as `Informatique` and B1. If they repeat, their info will not be added again / updated. For B6, though, we will take the most recent entry. When storing the date of the semester, we will store it in `Year-Month` format; if the semester is Autumn we will use `09` as the month and if the semester is Spring we will use `03` as the month. The duration is calculated as: 12 x (`B6 Year` - `B1 Year`) + (`B6 Month` - `B1 Month`) + 6. We add 6 to account for the duration of the 6th semester.\n",
    "\n",
    "**NOTE** : We realize that there is some discussion on Slack with people considering students that finished their studies with `Bachelor semestre 5`; however, the assignment states to compute the number of months for each student to go from the first to the sixth semester (how long it took for their Bachelors is a different problem). We did, however, take the later of the (possible multiple) 6th semesters to get a bit closer to the full duration (while keeping to the original problem of finding the duration till the 6th semester)."
   ]
  },
  {
   "cell_type": "code",
   "execution_count": 22,
   "metadata": {
    "collapsed": false
   },
   "outputs": [],
   "source": [
    "from bs4 import BeautifulSoup\n",
    "import requests\n",
    "import pandas as pd\n",
    "\n",
    "## (REMINDER) constants and functions as previously described/explained\n",
    "# parameter keys\n",
    "PARAM_GPS = 'ww_x_GPS'\n",
    "PARAM_MAJ = 'ww_x_UNITE_ACAD'\n",
    "PARAM_YR = 'ww_x_PERIODE_ACAD'\n",
    "PARAM_STATUS = 'ww_x_PERIODE_PEDAGO'\n",
    "PARAM_SEM = 'ww_x_HIVERETE'\n",
    "\n",
    "# base urls\n",
    "FILTER_BASE_URL = 'http://isa.epfl.ch/imoniteur_ISAP/!GEDPUBLICREPORTS.filter?ww_b_list=1&ww_i_reportmodel=133685247&ww_c_langue=&ww_i_reportModelXsl=133685270'\n",
    "DATA_BASE_URL = 'http://isa.epfl.ch/imoniteur_ISAP/!GEDPUBLICREPORTS.html?ww_i_reportModel=133685247&ww_i_reportModelXsl=133685270&ww_b_list=1'\n",
    "\n",
    "# open the Series for the filter dropdown menus made before\n",
    "majors = pd.read_pickle(\"major_pickle\")\n",
    "acad_yrs = pd.read_pickle(\"acad_yr_pickle\")\n",
    "statuses = pd.read_pickle(\"status_pickle\")\n",
    "semesters = pd.read_pickle(\"sem_pickle\")\n",
    "\n",
    "# extracting GPS value\n",
    "def extract_gps(content):\n",
    "    soup = BeautifulSoup(content, 'html.parser')\n",
    "    elements = soup.find_all('a', class_='ww_x_GPS')\n",
    "    for element in elements:\n",
    "        raw_info = element.attrs['onclick']\n",
    "        gps = raw_info.split(\"'\")[1].split('=')[1]\n",
    "        if gps != \"-1\":\n",
    "            return gps\n",
    "\n",
    "# combine steps 1-4 from procedure of extracting HTML content of desired students\n",
    "def get_html_content(maj, yr, stat, sem):\n",
    "    # obtain gps\n",
    "    payload = {PARAM_MAJ: majors[maj],\n",
    "               PARAM_YR: acad_yrs[yr], \n",
    "               PARAM_STATUS: statuses[stat],\n",
    "               PARAM_SEM: semesters[sem]}\n",
    "    r_filt = requests.get(FILTER_BASE_URL, params=payload)\n",
    "    gps = extract_gps(r_filt.content)\n",
    "    # get list of students\n",
    "    payload[PARAM_GPS] = gps\n",
    "    r_list = requests.get(DATA_BASE_URL, params=payload)\n",
    "    return r_list.content\n",
    "\n",
    "# calculate the start date of a given academic year and semester type\n",
    "def sem_start_date(academic_year, semester):\n",
    "    start_year, next_year = academic_year.split('-')\n",
    "    if semester == \"Semestre d'automne\":\n",
    "        return start_year + '-09'\n",
    "    else:\n",
    "        return next_year + '-03'\n",
    "\n",
    "# create entry for a particular student (using only necessary labels from those we saw earlier)\n",
    "def create_student_entry(stat, info, yr, sem):\n",
    "    student = {}\n",
    "    student['Gender'] = info[0].string\n",
    "    student[stat] = sem_start_date(yr, sem)\n",
    "    return student\n",
    "\n",
    "# scrape student data for a particular major and student status\n",
    "def scrape_student_data(maj, stat):\n",
    "    dic = {}\n",
    "    # go through all statuses, years, and semesters\n",
    "    for yr in acad_yrs.keys():\n",
    "        for sem in semesters.keys():\n",
    "            html_content = get_html_content(maj, yr, stat, sem)\n",
    "            # parse with beautiful soup\n",
    "            soup_students = BeautifulSoup(html_content, 'html.parser')\n",
    "            rows = soup_students.find_all('tr')\n",
    "            # students are starting after two rows\n",
    "            for row in rows[2:]:\n",
    "                student = row.find_all('td')\n",
    "                sciper = student[10].string\n",
    "                # keep earliest year in case a student repeated first semester\n",
    "                if int(stat.split(' ')[-1]) == 1: # obtaining number of semester\n",
    "                    if sciper not in dic:\n",
    "                        dic[sciper] = create_student_entry(stat, student, yr, sem)\n",
    "                # for other semesters replace with latest\n",
    "                else:\n",
    "                    dic[sciper] = create_student_entry(stat, student, yr, sem)\n",
    "    df = pd.DataFrame.from_dict(dic, orient='index')\n",
    "    return df"
   ]
  },
  {
   "cell_type": "markdown",
   "metadata": {},
   "source": [
    "The last function - `scrape_student_data()` - deserves some description. Given a major and a student status (e.g. `Bachelor semestre 1` or `Master semestre 3`, it returns the students over all academic years and semesters (Spring or Autumn) that satisfy the given filters. It essentially runs through the 5 steps we described just before this exercise:\n",
    "1. `get_html_content` performs the first 4 steps \n",
    "2. We use `BeautifulSoup` to navigate and parse through the HTML content as described in the 5th step. We go through each row of the HTML table (starting from the 3rd as the first 2 are metadata) to add the student to a dictionary. For the first semester of a program (e.g. `Bachelor semestre 1` or `Master semestre 1`) we use the earliest entry of a student as this marks the true beginning. For latter semesters, we use the most recent entry in case a student repeated a particular semester. In `create_student_entry()`, we only save the necessary info about the student for this exercise: SCIPER, Gender, and date of the semester.\n",
    "3. Finally, we use the dictionary to create a `DataFrame` as this will be easier to manipulate for our analysis."
   ]
  },
  {
   "cell_type": "markdown",
   "metadata": {},
   "source": [
    "Let's create a DataFrame for the B1 and the B6 students."
   ]
  },
  {
   "cell_type": "code",
   "execution_count": 23,
   "metadata": {
    "collapsed": false
   },
   "outputs": [],
   "source": [
    "major = 'Informatique'\n",
    "bach_sems = ['Bachelor semestre 1', 'Bachelor semestre 6']\n",
    "df_b1, df_b6 = [scrape_student_data(major, bach_sem) for bach_sem in bach_sems]"
   ]
  },
  {
   "cell_type": "markdown",
   "metadata": {},
   "source": [
    "Save to `pickle` so we don't always need to extract the HTML content."
   ]
  },
  {
   "cell_type": "code",
   "execution_count": 24,
   "metadata": {
    "collapsed": false
   },
   "outputs": [],
   "source": [
    "import sys\n",
    "sys.setrecursionlimit(50000)\n",
    "df_b1.to_pickle(\"b1_pickle\")\n",
    "df_b6.to_pickle(\"b6_pickle\")"
   ]
  },
  {
   "cell_type": "markdown",
   "metadata": {},
   "source": [
    "### Import data"
   ]
  },
  {
   "cell_type": "code",
   "execution_count": 25,
   "metadata": {
    "collapsed": true
   },
   "outputs": [],
   "source": [
    "df_b1 = pd.read_pickle(\"b1_pickle\")\n",
    "df_b6 = pd.read_pickle(\"b6_pickle\")"
   ]
  },
  {
   "cell_type": "markdown",
   "metadata": {},
   "source": [
    "### Prepare data"
   ]
  },
  {
   "cell_type": "markdown",
   "metadata": {
    "collapsed": true
   },
   "source": [
    "Join b1 and b6 students and keep those that are in both with `how='inner'`"
   ]
  },
  {
   "cell_type": "code",
   "execution_count": 26,
   "metadata": {
    "collapsed": false
   },
   "outputs": [
    {
     "data": {
      "text/html": [
       "<div>\n",
       "<table border=\"1\" class=\"dataframe\">\n",
       "  <thead>\n",
       "    <tr style=\"text-align: right;\">\n",
       "      <th></th>\n",
       "      <th>Bachelor semestre 1</th>\n",
       "      <th>Gender</th>\n",
       "      <th>Bachelor semestre 6</th>\n",
       "    </tr>\n",
       "  </thead>\n",
       "  <tbody>\n",
       "    <tr>\n",
       "      <th>250300</th>\n",
       "      <td>2014-09</td>\n",
       "      <td>Monsieur</td>\n",
       "      <td>2017-03</td>\n",
       "    </tr>\n",
       "    <tr>\n",
       "      <th>250362</th>\n",
       "      <td>2014-09</td>\n",
       "      <td>Monsieur</td>\n",
       "      <td>2017-03</td>\n",
       "    </tr>\n",
       "    <tr>\n",
       "      <th>250703</th>\n",
       "      <td>2014-09</td>\n",
       "      <td>Monsieur</td>\n",
       "      <td>2017-03</td>\n",
       "    </tr>\n",
       "    <tr>\n",
       "      <th>251758</th>\n",
       "      <td>2014-09</td>\n",
       "      <td>Monsieur</td>\n",
       "      <td>2017-03</td>\n",
       "    </tr>\n",
       "    <tr>\n",
       "      <th>251759</th>\n",
       "      <td>2014-09</td>\n",
       "      <td>Monsieur</td>\n",
       "      <td>2017-03</td>\n",
       "    </tr>\n",
       "  </tbody>\n",
       "</table>\n",
       "</div>"
      ],
      "text/plain": [
       "       Bachelor semestre 1    Gender Bachelor semestre 6\n",
       "250300             2014-09  Monsieur             2017-03\n",
       "250362             2014-09  Monsieur             2017-03\n",
       "250703             2014-09  Monsieur             2017-03\n",
       "251758             2014-09  Monsieur             2017-03\n",
       "251759             2014-09  Monsieur             2017-03"
      ]
     },
     "execution_count": 26,
     "metadata": {},
     "output_type": "execute_result"
    }
   ],
   "source": [
    "b1_to_b6 = df_b1[[\"Bachelor semestre 1\",\"Gender\"]].join(df_b6[\"Bachelor semestre 6\"], how='inner')\n",
    "b1_to_b6.tail()"
   ]
  },
  {
   "cell_type": "markdown",
   "metadata": {},
   "source": [
    "We can see some students with a future `Bachelor semestre 6`. Let's drop these people because they may take longer."
   ]
  },
  {
   "cell_type": "code",
   "execution_count": 27,
   "metadata": {
    "collapsed": false
   },
   "outputs": [
    {
     "data": {
      "text/html": [
       "<div>\n",
       "<table border=\"1\" class=\"dataframe\">\n",
       "  <thead>\n",
       "    <tr style=\"text-align: right;\">\n",
       "      <th></th>\n",
       "      <th>Bachelor semestre 1</th>\n",
       "      <th>Gender</th>\n",
       "      <th>Bachelor semestre 6</th>\n",
       "    </tr>\n",
       "  </thead>\n",
       "  <tbody>\n",
       "    <tr>\n",
       "      <th>238150</th>\n",
       "      <td>2013-09</td>\n",
       "      <td>Monsieur</td>\n",
       "      <td>2016-03</td>\n",
       "    </tr>\n",
       "    <tr>\n",
       "      <th>239124</th>\n",
       "      <td>2013-09</td>\n",
       "      <td>Monsieur</td>\n",
       "      <td>2016-03</td>\n",
       "    </tr>\n",
       "    <tr>\n",
       "      <th>239170</th>\n",
       "      <td>2013-09</td>\n",
       "      <td>Monsieur</td>\n",
       "      <td>2016-03</td>\n",
       "    </tr>\n",
       "    <tr>\n",
       "      <th>239314</th>\n",
       "      <td>2013-09</td>\n",
       "      <td>Monsieur</td>\n",
       "      <td>2016-03</td>\n",
       "    </tr>\n",
       "    <tr>\n",
       "      <th>239366</th>\n",
       "      <td>2013-09</td>\n",
       "      <td>Monsieur</td>\n",
       "      <td>2016-03</td>\n",
       "    </tr>\n",
       "  </tbody>\n",
       "</table>\n",
       "</div>"
      ],
      "text/plain": [
       "       Bachelor semestre 1    Gender Bachelor semestre 6\n",
       "238150             2013-09  Monsieur             2016-03\n",
       "239124             2013-09  Monsieur             2016-03\n",
       "239170             2013-09  Monsieur             2016-03\n",
       "239314             2013-09  Monsieur             2016-03\n",
       "239366             2013-09  Monsieur             2016-03"
      ]
     },
     "execution_count": 27,
     "metadata": {},
     "output_type": "execute_result"
    }
   ],
   "source": [
    "b1_to_b6 = b1_to_b6[np.logical_not(b1_to_b6[\"Bachelor semestre 6\"].isin(['2017-03']))]\n",
    "b1_to_b6.tail()"
   ]
  },
  {
   "cell_type": "markdown",
   "metadata": {},
   "source": [
    "### Analyze data"
   ]
  },
  {
   "cell_type": "markdown",
   "metadata": {},
   "source": [
    "Let's compute the duration from Semester 1 to the (last) Semester 6 as previously described."
   ]
  },
  {
   "cell_type": "code",
   "execution_count": 28,
   "metadata": {
    "collapsed": false
   },
   "outputs": [
    {
     "data": {
      "text/html": [
       "<div>\n",
       "<table border=\"1\" class=\"dataframe\">\n",
       "  <thead>\n",
       "    <tr style=\"text-align: right;\">\n",
       "      <th></th>\n",
       "      <th>Bachelor semestre 1</th>\n",
       "      <th>Gender</th>\n",
       "      <th>Bachelor semestre 6</th>\n",
       "      <th>Duration</th>\n",
       "    </tr>\n",
       "  </thead>\n",
       "  <tbody>\n",
       "    <tr>\n",
       "      <th>147008</th>\n",
       "      <td>2008-09</td>\n",
       "      <td>Monsieur</td>\n",
       "      <td>2011-03</td>\n",
       "      <td>36</td>\n",
       "    </tr>\n",
       "    <tr>\n",
       "      <th>169569</th>\n",
       "      <td>2007-09</td>\n",
       "      <td>Monsieur</td>\n",
       "      <td>2010-03</td>\n",
       "      <td>36</td>\n",
       "    </tr>\n",
       "    <tr>\n",
       "      <th>169731</th>\n",
       "      <td>2007-09</td>\n",
       "      <td>Monsieur</td>\n",
       "      <td>2011-03</td>\n",
       "      <td>48</td>\n",
       "    </tr>\n",
       "    <tr>\n",
       "      <th>169795</th>\n",
       "      <td>2007-09</td>\n",
       "      <td>Monsieur</td>\n",
       "      <td>2011-03</td>\n",
       "      <td>48</td>\n",
       "    </tr>\n",
       "    <tr>\n",
       "      <th>171195</th>\n",
       "      <td>2007-09</td>\n",
       "      <td>Monsieur</td>\n",
       "      <td>2010-03</td>\n",
       "      <td>36</td>\n",
       "    </tr>\n",
       "  </tbody>\n",
       "</table>\n",
       "</div>"
      ],
      "text/plain": [
       "       Bachelor semestre 1    Gender Bachelor semestre 6  Duration\n",
       "147008             2008-09  Monsieur             2011-03        36\n",
       "169569             2007-09  Monsieur             2010-03        36\n",
       "169731             2007-09  Monsieur             2011-03        48\n",
       "169795             2007-09  Monsieur             2011-03        48\n",
       "171195             2007-09  Monsieur             2010-03        36"
      ]
     },
     "execution_count": 28,
     "metadata": {},
     "output_type": "execute_result"
    }
   ],
   "source": [
    "# date is in 'year-month' format. e.g. 2015-07\n",
    "def months_between_dates(start_date, end_date):\n",
    "    start_year, start_month = start_date.split('-')\n",
    "    end_year, end_month = end_date.split('-')\n",
    "    return (int(end_year) - int(start_year)) * 12 + int(end_month) - int(start_month) + 6\n",
    "\n",
    "def bachelor_duration(row):\n",
    "    return months_between_dates(row['Bachelor semestre 1'], row['Bachelor semestre 6'])\n",
    "\n",
    "b1_to_b6['Duration'] = b1_to_b6.apply(bachelor_duration, axis=1)\n",
    "b1_to_b6.head()"
   ]
  },
  {
   "cell_type": "markdown",
   "metadata": {},
   "source": [
    "Now we can compute the mean duration in months for male and female and test for statistical significance between their means."
   ]
  },
  {
   "cell_type": "code",
   "execution_count": 29,
   "metadata": {
    "collapsed": false
   },
   "outputs": [
    {
     "name": "stdout",
     "output_type": "stream",
     "text": [
      "Average duration for male students: 42.05187319884726\n",
      "Average duration for female students: 39.55555555555556\n",
      "Monsieur    347\n",
      "Madame       27\n",
      "Name: Gender, dtype: int64\n"
     ]
    }
   ],
   "source": [
    "male_mean = b1_to_b6['Duration'][b1_to_b6.Gender==\"Monsieur\"].mean()\n",
    "female_mean = b1_to_b6['Duration'][b1_to_b6.Gender==\"Madame\"].mean()\n",
    "print(\"Average duration for male students: \" + str(male_mean))\n",
    "print(\"Average duration for female students: \" + str(female_mean))\n",
    "print(b1_to_b6.Gender.value_counts())"
   ]
  },
  {
   "cell_type": "markdown",
   "metadata": {},
   "source": [
    "We will use the Two-Sample T-Test to see if there is a statistical significance between the average duration for males and females."
   ]
  },
  {
   "cell_type": "code",
   "execution_count": 30,
   "metadata": {
    "collapsed": false
   },
   "outputs": [
    {
     "data": {
      "text/plain": [
       "Ttest_indResult(statistic=1.860117047790256, pvalue=0.071443584251684678)"
      ]
     },
     "execution_count": 30,
     "metadata": {},
     "output_type": "execute_result"
    }
   ],
   "source": [
    "import scipy.stats as stats\n",
    "stats.ttest_ind(a= b1_to_b6['Duration'][b1_to_b6.Gender==\"Monsieur\"],\n",
    "                b= b1_to_b6['Duration'][b1_to_b6.Gender==\"Madame\"],\n",
    "                equal_var=False) "
   ]
  },
  {
   "cell_type": "markdown",
   "metadata": {},
   "source": [
    "The test yields a p-value of 0.0714, which means there is a 7.14% chance we'd see sample data this far apart if the two groups tested (male and female) are actually identical. If we were using a 95% confidence level, we would fail to reject the null hypothesis (that the means are the same), since the p-value is greater than the corresponding significance level of 5%. Therefore, according to this criteria, the difference in average duration is not statistically significant."
   ]
  },
  {
   "cell_type": "markdown",
   "metadata": {},
   "source": [
    "# Exercise 2"
   ]
  },
  {
   "cell_type": "markdown",
   "metadata": {},
   "source": [
    "_Perform a similar operation to what described above, this time for Master students. Notice that this data is more tricky, as there are many missing records in the IS-Academia database. Therefore, try to guess how much time a master student spent at EPFL by at least checking the distance in months between `Master semestre 1` and `Master semestre 2`. If the `Mineur` field is not empty, the student should also appear registered in Master semestre 3. Last but not the least, don't forget to check if the student has an entry also in the `Projet Master` tables. Once you can handle well this data, compute the \"average stay at EPFL\" for master students. Now extract all the students with a `Spécialisation` and compute the \"average stay\" per each category of that attribute -- compared to the general average, can you find any specialization for which the difference in average is statistically significant?_"
   ]
  },
  {
   "cell_type": "code",
   "execution_count": 31,
   "metadata": {
    "collapsed": true
   },
   "outputs": [],
   "source": [
    "# now we would like to collect the Specialization and Minor as well\n",
    "def create_student_entry(stat, info, yr, sem):\n",
    "    student = {}\n",
    "    student['Gender'] = info[0].string\n",
    "    student['Specialisation'] = info[4].string\n",
    "    student['Minor'] = info[6].string\n",
    "    student[stat] = sem_start_date(yr, sem)\n",
    "    return student\n",
    "\n",
    "# scrape student data for a particular major and student status\n",
    "def scrape_student_data(maj, stat):\n",
    "    dic = {}\n",
    "    # go through all statuses, years, and semesters\n",
    "    for yr in acad_yrs.keys():\n",
    "        for sem in semesters.keys():\n",
    "            html_content = get_html_content(maj, yr, stat, sem)\n",
    "            # parse with beautiful soup\n",
    "            soup_students = BeautifulSoup(html_content, 'html.parser')\n",
    "            rows = soup_students.find_all('tr')\n",
    "            # students are starting after two rows\n",
    "            for row in rows[2:]:\n",
    "                student = row.find_all('td')\n",
    "                sciper = student[10].string\n",
    "                # keep earliest year in case a student repeated first semester\n",
    "                if int(stat.split(' ')[-1]) == 1: # obtaining number of semester\n",
    "                    if sciper not in dic:\n",
    "                        dic[sciper] = create_student_entry(stat, student, yr, sem)\n",
    "                # for other semesters replace with latest\n",
    "                else:\n",
    "                    dic[sciper] = create_student_entry(stat, student, yr, sem)\n",
    "    df = pd.DataFrame.from_dict(dic, orient='index')\n",
    "    return df"
   ]
  },
  {
   "cell_type": "markdown",
   "metadata": {},
   "source": [
    "Similar to Exercise 1, let's create a `DataFrame` for each of the semesters were are interested in."
   ]
  },
  {
   "cell_type": "code",
   "execution_count": 32,
   "metadata": {
    "collapsed": true
   },
   "outputs": [],
   "source": [
    "major = 'Informatique'\n",
    "masters_sems = ['Master semestre 1', 'Master semestre 2', 'Master semestre 3']\n",
    "df_m1, df_m2, df_m3 = [scrape_student_data(major, master_sem) for master_sem in masters_sems]"
   ]
  },
  {
   "cell_type": "markdown",
   "metadata": {},
   "source": [
    "Save to pickle so we don't always need to extract the HTML content."
   ]
  },
  {
   "cell_type": "code",
   "execution_count": 33,
   "metadata": {
    "collapsed": true
   },
   "outputs": [],
   "source": [
    "df_m1.to_pickle(\"m1_pickle\")\n",
    "df_m2.to_pickle(\"m2_pickle\")\n",
    "df_m3.to_pickle(\"m3_pickle\")"
   ]
  },
  {
   "cell_type": "markdown",
   "metadata": {},
   "source": [
    "### Import data"
   ]
  },
  {
   "cell_type": "code",
   "execution_count": 34,
   "metadata": {
    "collapsed": true
   },
   "outputs": [],
   "source": [
    "df_m1 = pd.read_pickle(\"m1_pickle\")\n",
    "df_m2 = pd.read_pickle(\"m2_pickle\")\n",
    "df_m3 = pd.read_pickle(\"m3_pickle\")"
   ]
  },
  {
   "cell_type": "markdown",
   "metadata": {},
   "source": [
    "### Analyze data "
   ]
  },
  {
   "cell_type": "markdown",
   "metadata": {},
   "source": [
    "#### Try to guess how much time a master student spent at EPFL by at least checking the distance in months between Master semestre 1 and Master semestre 2"
   ]
  },
  {
   "cell_type": "markdown",
   "metadata": {},
   "source": [
    "Join M1 and M2 students (both fields shoud exits) as we did for B1 and B2"
   ]
  },
  {
   "cell_type": "code",
   "execution_count": 35,
   "metadata": {
    "collapsed": false
   },
   "outputs": [
    {
     "data": {
      "text/html": [
       "<div>\n",
       "<table border=\"1\" class=\"dataframe\">\n",
       "  <thead>\n",
       "    <tr style=\"text-align: right;\">\n",
       "      <th></th>\n",
       "      <th>Master semestre 1</th>\n",
       "      <th>Gender</th>\n",
       "      <th>Master semestre 2</th>\n",
       "    </tr>\n",
       "  </thead>\n",
       "  <tbody>\n",
       "    <tr>\n",
       "      <th>260806</th>\n",
       "      <td>2015-09</td>\n",
       "      <td>Monsieur</td>\n",
       "      <td>2016-03</td>\n",
       "    </tr>\n",
       "    <tr>\n",
       "      <th>260811</th>\n",
       "      <td>2015-09</td>\n",
       "      <td>Monsieur</td>\n",
       "      <td>2016-03</td>\n",
       "    </tr>\n",
       "    <tr>\n",
       "      <th>260968</th>\n",
       "      <td>2015-09</td>\n",
       "      <td>Madame</td>\n",
       "      <td>2016-03</td>\n",
       "    </tr>\n",
       "    <tr>\n",
       "      <th>261006</th>\n",
       "      <td>2015-09</td>\n",
       "      <td>Madame</td>\n",
       "      <td>2016-03</td>\n",
       "    </tr>\n",
       "    <tr>\n",
       "      <th>261146</th>\n",
       "      <td>2015-09</td>\n",
       "      <td>Monsieur</td>\n",
       "      <td>2016-03</td>\n",
       "    </tr>\n",
       "  </tbody>\n",
       "</table>\n",
       "</div>"
      ],
      "text/plain": [
       "       Master semestre 1    Gender Master semestre 2\n",
       "260806           2015-09  Monsieur           2016-03\n",
       "260811           2015-09  Monsieur           2016-03\n",
       "260968           2015-09    Madame           2016-03\n",
       "261006           2015-09    Madame           2016-03\n",
       "261146           2015-09  Monsieur           2016-03"
      ]
     },
     "execution_count": 35,
     "metadata": {},
     "output_type": "execute_result"
    }
   ],
   "source": [
    "m1_to_m2 = df_m1[[\"Master semestre 1\",\"Gender\"]].join(df_m2[\"Master semestre 2\"], how='inner')\n",
    "m1_to_m2.tail()"
   ]
  },
  {
   "cell_type": "markdown",
   "metadata": {},
   "source": [
    "Now we compute the duration. We use essentially the same function as for Bachelor, just changing the name of the column."
   ]
  },
  {
   "cell_type": "code",
   "execution_count": 36,
   "metadata": {
    "collapsed": false
   },
   "outputs": [
    {
     "data": {
      "text/html": [
       "<div>\n",
       "<table border=\"1\" class=\"dataframe\">\n",
       "  <thead>\n",
       "    <tr style=\"text-align: right;\">\n",
       "      <th></th>\n",
       "      <th>Master semestre 1</th>\n",
       "      <th>Gender</th>\n",
       "      <th>Master semestre 2</th>\n",
       "      <th>Duration</th>\n",
       "    </tr>\n",
       "  </thead>\n",
       "  <tbody>\n",
       "    <tr>\n",
       "      <th>146330</th>\n",
       "      <td>2007-09</td>\n",
       "      <td>Monsieur</td>\n",
       "      <td>2008-03</td>\n",
       "      <td>12</td>\n",
       "    </tr>\n",
       "    <tr>\n",
       "      <th>146742</th>\n",
       "      <td>2008-09</td>\n",
       "      <td>Monsieur</td>\n",
       "      <td>2010-03</td>\n",
       "      <td>24</td>\n",
       "    </tr>\n",
       "    <tr>\n",
       "      <th>146929</th>\n",
       "      <td>2007-09</td>\n",
       "      <td>Monsieur</td>\n",
       "      <td>2008-03</td>\n",
       "      <td>12</td>\n",
       "    </tr>\n",
       "    <tr>\n",
       "      <th>147008</th>\n",
       "      <td>2011-09</td>\n",
       "      <td>Monsieur</td>\n",
       "      <td>2013-03</td>\n",
       "      <td>24</td>\n",
       "    </tr>\n",
       "    <tr>\n",
       "      <th>152232</th>\n",
       "      <td>2007-09</td>\n",
       "      <td>Monsieur</td>\n",
       "      <td>2008-03</td>\n",
       "      <td>12</td>\n",
       "    </tr>\n",
       "  </tbody>\n",
       "</table>\n",
       "</div>"
      ],
      "text/plain": [
       "       Master semestre 1    Gender Master semestre 2  Duration\n",
       "146330           2007-09  Monsieur           2008-03        12\n",
       "146742           2008-09  Monsieur           2010-03        24\n",
       "146929           2007-09  Monsieur           2008-03        12\n",
       "147008           2011-09  Monsieur           2013-03        24\n",
       "152232           2007-09  Monsieur           2008-03        12"
      ]
     },
     "execution_count": 36,
     "metadata": {},
     "output_type": "execute_result"
    }
   ],
   "source": [
    "# date is in 'year-month' format. e.g. 2015-07\n",
    "def months_between_dates(start_date, end_date):\n",
    "    start_year, start_month = start_date.split('-')\n",
    "    end_year, end_month = end_date.split('-')\n",
    "    return (int(end_year) - int(start_year)) * 12 + int(end_month) - int(start_month) + 6\n",
    "\n",
    "def master_duration_rough(row):\n",
    "    return months_between_dates(row['Master semestre 1'], row['Master semestre 2'])\n",
    "\n",
    "m1_to_m2['Duration'] = m1_to_m2.apply(master_duration_rough, axis=1)\n",
    "m1_to_m2.head()"
   ]
  },
  {
   "cell_type": "markdown",
   "metadata": {},
   "source": [
    "A closer look to the data reveals some students with strange durations (<=0)."
   ]
  },
  {
   "cell_type": "code",
   "execution_count": 37,
   "metadata": {
    "collapsed": false
   },
   "outputs": [
    {
     "name": "stdout",
     "output_type": "stream",
     "text": [
      "15\n"
     ]
    },
    {
     "data": {
      "text/html": [
       "<div>\n",
       "<table border=\"1\" class=\"dataframe\">\n",
       "  <thead>\n",
       "    <tr style=\"text-align: right;\">\n",
       "      <th></th>\n",
       "      <th>Master semestre 1</th>\n",
       "      <th>Gender</th>\n",
       "      <th>Master semestre 2</th>\n",
       "      <th>Duration</th>\n",
       "    </tr>\n",
       "  </thead>\n",
       "  <tbody>\n",
       "    <tr>\n",
       "      <th>171206</th>\n",
       "      <td>2010-09</td>\n",
       "      <td>Monsieur</td>\n",
       "      <td>2010-03</td>\n",
       "      <td>0</td>\n",
       "    </tr>\n",
       "    <tr>\n",
       "      <th>178786</th>\n",
       "      <td>2011-09</td>\n",
       "      <td>Monsieur</td>\n",
       "      <td>2011-03</td>\n",
       "      <td>0</td>\n",
       "    </tr>\n",
       "    <tr>\n",
       "      <th>180816</th>\n",
       "      <td>2013-09</td>\n",
       "      <td>Monsieur</td>\n",
       "      <td>2013-03</td>\n",
       "      <td>0</td>\n",
       "    </tr>\n",
       "    <tr>\n",
       "      <th>192345</th>\n",
       "      <td>2014-09</td>\n",
       "      <td>Monsieur</td>\n",
       "      <td>2014-03</td>\n",
       "      <td>0</td>\n",
       "    </tr>\n",
       "    <tr>\n",
       "      <th>196034</th>\n",
       "      <td>2015-09</td>\n",
       "      <td>Monsieur</td>\n",
       "      <td>2015-03</td>\n",
       "      <td>0</td>\n",
       "    </tr>\n",
       "  </tbody>\n",
       "</table>\n",
       "</div>"
      ],
      "text/plain": [
       "       Master semestre 1    Gender Master semestre 2  Duration\n",
       "171206           2010-09  Monsieur           2010-03         0\n",
       "178786           2011-09  Monsieur           2011-03         0\n",
       "180816           2013-09  Monsieur           2013-03         0\n",
       "192345           2014-09  Monsieur           2014-03         0\n",
       "196034           2015-09  Monsieur           2015-03         0"
      ]
     },
     "execution_count": 37,
     "metadata": {},
     "output_type": "execute_result"
    }
   ],
   "source": [
    "print(len(m1_to_m2.loc[m1_to_m2[\"Duration\"]<=0]))\n",
    "m1_to_m2.loc[m1_to_m2[\"Duration\"]<=0].head()"
   ]
  },
  {
   "cell_type": "markdown",
   "metadata": {},
   "source": [
    "Let's drop these cases before computing the mean."
   ]
  },
  {
   "cell_type": "code",
   "execution_count": 38,
   "metadata": {
    "collapsed": false
   },
   "outputs": [
    {
     "data": {
      "text/plain": [
       "Duration    15.861148\n",
       "dtype: float64"
      ]
     },
     "execution_count": 38,
     "metadata": {},
     "output_type": "execute_result"
    }
   ],
   "source": [
    "m1_to_m2.loc[m1_to_m2[\"Duration\"]>0].mean()"
   ]
  },
  {
   "cell_type": "markdown",
   "metadata": {},
   "source": [
    "#### If the Mineur field is not empty, the student should also appear registered in Master semestre 3"
   ]
  },
  {
   "cell_type": "markdown",
   "metadata": {},
   "source": [
    "We will specialization as well since this also takes an extra semester. According to EPFL regulations a minor or specialization must be chosen by Master semester 2:\n",
    "* http://ic.epfl.ch/page-97562-en.html\n",
    "* http://ic.epfl.ch/specializations\n",
    "\n",
    "So we will take the Specialization or Minor from M2."
   ]
  },
  {
   "cell_type": "code",
   "execution_count": 39,
   "metadata": {
    "collapsed": false
   },
   "outputs": [
    {
     "data": {
      "text/html": [
       "<div>\n",
       "<table border=\"1\" class=\"dataframe\">\n",
       "  <thead>\n",
       "    <tr style=\"text-align: right;\">\n",
       "      <th></th>\n",
       "      <th>Master semestre 1</th>\n",
       "      <th>Gender</th>\n",
       "      <th>Master semestre 2</th>\n",
       "      <th>Minor</th>\n",
       "      <th>Specialisation</th>\n",
       "      <th>Master semestre 3</th>\n",
       "    </tr>\n",
       "  </thead>\n",
       "  <tbody>\n",
       "    <tr>\n",
       "      <th>146330</th>\n",
       "      <td>2007-09</td>\n",
       "      <td>Monsieur</td>\n",
       "      <td>2008-03</td>\n",
       "      <td>None</td>\n",
       "      <td>None</td>\n",
       "      <td>2008-09</td>\n",
       "    </tr>\n",
       "    <tr>\n",
       "      <th>146742</th>\n",
       "      <td>2008-09</td>\n",
       "      <td>Monsieur</td>\n",
       "      <td>2010-03</td>\n",
       "      <td>None</td>\n",
       "      <td>Signals, Images and Interfaces</td>\n",
       "      <td>2012-09</td>\n",
       "    </tr>\n",
       "    <tr>\n",
       "      <th>146929</th>\n",
       "      <td>2007-09</td>\n",
       "      <td>Monsieur</td>\n",
       "      <td>2008-03</td>\n",
       "      <td>None</td>\n",
       "      <td>None</td>\n",
       "      <td>NaN</td>\n",
       "    </tr>\n",
       "    <tr>\n",
       "      <th>147008</th>\n",
       "      <td>2011-09</td>\n",
       "      <td>Monsieur</td>\n",
       "      <td>2013-03</td>\n",
       "      <td>None</td>\n",
       "      <td>None</td>\n",
       "      <td>2012-09</td>\n",
       "    </tr>\n",
       "    <tr>\n",
       "      <th>152232</th>\n",
       "      <td>2007-09</td>\n",
       "      <td>Monsieur</td>\n",
       "      <td>2008-03</td>\n",
       "      <td>Mineur en Management, technologie et entrepren...</td>\n",
       "      <td>None</td>\n",
       "      <td>2008-09</td>\n",
       "    </tr>\n",
       "  </tbody>\n",
       "</table>\n",
       "</div>"
      ],
      "text/plain": [
       "       Master semestre 1    Gender Master semestre 2  \\\n",
       "146330           2007-09  Monsieur           2008-03   \n",
       "146742           2008-09  Monsieur           2010-03   \n",
       "146929           2007-09  Monsieur           2008-03   \n",
       "147008           2011-09  Monsieur           2013-03   \n",
       "152232           2007-09  Monsieur           2008-03   \n",
       "\n",
       "                                                    Minor  \\\n",
       "146330                                               None   \n",
       "146742                                               None   \n",
       "146929                                               None   \n",
       "147008                                               None   \n",
       "152232  Mineur en Management, technologie et entrepren...   \n",
       "\n",
       "                        Specialisation Master semestre 3  \n",
       "146330                            None           2008-09  \n",
       "146742  Signals, Images and Interfaces           2012-09  \n",
       "146929                            None               NaN  \n",
       "147008                            None           2012-09  \n",
       "152232                            None           2008-09  "
      ]
     },
     "execution_count": 39,
     "metadata": {},
     "output_type": "execute_result"
    }
   ],
   "source": [
    "m1_to_m3 = df_m1[[\"Master semestre 1\",\"Gender\"]].join(df_m2[[\"Master semestre 2\",\"Minor\",\"Specialisation\"]], \n",
    "                                                            how='inner').join(df_m3[\"Master semestre 3\"])\n",
    "m1_to_m3.head()"
   ]
  },
  {
   "cell_type": "markdown",
   "metadata": {},
   "source": [
    "We can see cases of students (`146330` and `147008`) that don't have a minor or a specialisation but have an entry for `Master semestre 3`. Therefore, we will simply check if `Master semestre 3` is not `NaN` (rather than checking if minor or specialisation is empty). This will give a more accurate value for the stay at EPFL."
   ]
  },
  {
   "cell_type": "markdown",
   "metadata": {},
   "source": [
    "Again, a similar function as before to compute the duration. This time we check to see if `Master semestre 3` is `NaN` and if not, we use this as the end date."
   ]
  },
  {
   "cell_type": "code",
   "execution_count": 40,
   "metadata": {
    "collapsed": false
   },
   "outputs": [
    {
     "data": {
      "text/html": [
       "<div>\n",
       "<table border=\"1\" class=\"dataframe\">\n",
       "  <thead>\n",
       "    <tr style=\"text-align: right;\">\n",
       "      <th></th>\n",
       "      <th>Master semestre 1</th>\n",
       "      <th>Gender</th>\n",
       "      <th>Master semestre 2</th>\n",
       "      <th>Minor</th>\n",
       "      <th>Specialisation</th>\n",
       "      <th>Master semestre 3</th>\n",
       "      <th>Duration</th>\n",
       "    </tr>\n",
       "  </thead>\n",
       "  <tbody>\n",
       "    <tr>\n",
       "      <th>146330</th>\n",
       "      <td>2007-09</td>\n",
       "      <td>Monsieur</td>\n",
       "      <td>2008-03</td>\n",
       "      <td>None</td>\n",
       "      <td>None</td>\n",
       "      <td>2008-09</td>\n",
       "      <td>18</td>\n",
       "    </tr>\n",
       "    <tr>\n",
       "      <th>146742</th>\n",
       "      <td>2008-09</td>\n",
       "      <td>Monsieur</td>\n",
       "      <td>2010-03</td>\n",
       "      <td>None</td>\n",
       "      <td>Signals, Images and Interfaces</td>\n",
       "      <td>2012-09</td>\n",
       "      <td>54</td>\n",
       "    </tr>\n",
       "    <tr>\n",
       "      <th>146929</th>\n",
       "      <td>2007-09</td>\n",
       "      <td>Monsieur</td>\n",
       "      <td>2008-03</td>\n",
       "      <td>None</td>\n",
       "      <td>None</td>\n",
       "      <td>NaN</td>\n",
       "      <td>12</td>\n",
       "    </tr>\n",
       "    <tr>\n",
       "      <th>147008</th>\n",
       "      <td>2011-09</td>\n",
       "      <td>Monsieur</td>\n",
       "      <td>2013-03</td>\n",
       "      <td>None</td>\n",
       "      <td>None</td>\n",
       "      <td>2012-09</td>\n",
       "      <td>18</td>\n",
       "    </tr>\n",
       "    <tr>\n",
       "      <th>152232</th>\n",
       "      <td>2007-09</td>\n",
       "      <td>Monsieur</td>\n",
       "      <td>2008-03</td>\n",
       "      <td>Mineur en Management, technologie et entrepren...</td>\n",
       "      <td>None</td>\n",
       "      <td>2008-09</td>\n",
       "      <td>18</td>\n",
       "    </tr>\n",
       "  </tbody>\n",
       "</table>\n",
       "</div>"
      ],
      "text/plain": [
       "       Master semestre 1    Gender Master semestre 2  \\\n",
       "146330           2007-09  Monsieur           2008-03   \n",
       "146742           2008-09  Monsieur           2010-03   \n",
       "146929           2007-09  Monsieur           2008-03   \n",
       "147008           2011-09  Monsieur           2013-03   \n",
       "152232           2007-09  Monsieur           2008-03   \n",
       "\n",
       "                                                    Minor  \\\n",
       "146330                                               None   \n",
       "146742                                               None   \n",
       "146929                                               None   \n",
       "147008                                               None   \n",
       "152232  Mineur en Management, technologie et entrepren...   \n",
       "\n",
       "                        Specialisation Master semestre 3  Duration  \n",
       "146330                            None           2008-09        18  \n",
       "146742  Signals, Images and Interfaces           2012-09        54  \n",
       "146929                            None               NaN        12  \n",
       "147008                            None           2012-09        18  \n",
       "152232                            None           2008-09        18  "
      ]
     },
     "execution_count": 40,
     "metadata": {},
     "output_type": "execute_result"
    }
   ],
   "source": [
    "# date is in 'year-month' format. e.g. 2015-07\n",
    "def months_between_dates(start_date, end_date):\n",
    "    start_year, start_month = start_date.split('-')\n",
    "    end_year, end_month = end_date.split('-')\n",
    "    return (int(end_year) - int(start_year)) * 12 + int(end_month) - int(start_month) + 6\n",
    "\n",
    "def master_duration_in_months(row):\n",
    "    start_date = row['Master semestre 1']\n",
    "    end_date = row['Master semestre 2']\n",
    "    if pd.notnull(row['Master semestre 3']):\n",
    "        end_date = row['Master semestre 3']\n",
    "    if pd.isnull(start_date) or pd.isnull(end_date):\n",
    "        return np.nan\n",
    "    return months_between_dates(start_date, end_date)\n",
    "\n",
    "m1_to_m3['Duration'] = m1_to_m3.apply(lambda row: master_duration_in_months(row), axis=1)\n",
    "m1_to_m3.head()"
   ]
  },
  {
   "cell_type": "code",
   "execution_count": 41,
   "metadata": {
    "collapsed": false
   },
   "outputs": [
    {
     "data": {
      "text/plain": [
       "15"
      ]
     },
     "execution_count": 41,
     "metadata": {},
     "output_type": "execute_result"
    }
   ],
   "source": [
    "# some interesting cases of an M2/M3 before their M1...\n",
    "len(m1_to_m3.loc[m1_to_m3[\"Duration\"]<=0])"
   ]
  },
  {
   "cell_type": "markdown",
   "metadata": {},
   "source": [
    "We still drop the cases of students that have a Duration less than or equal to `0` before computing the mean."
   ]
  },
  {
   "cell_type": "code",
   "execution_count": 42,
   "metadata": {
    "collapsed": false
   },
   "outputs": [
    {
     "data": {
      "text/plain": [
       "18.0"
      ]
     },
     "execution_count": 42,
     "metadata": {},
     "output_type": "execute_result"
    }
   ],
   "source": [
    "m1_to_m3 = m1_to_m3.loc[m1_to_m3[\"Duration\"]>0]\n",
    "m1_to_m3[\"Duration\"].mean()"
   ]
  },
  {
   "cell_type": "markdown",
   "metadata": {},
   "source": [
    "#### Now extract all the students with a Spécialisation and compute the \"average stay\" per each category of that attribute -- compared to the general average, can you find any specialization for which the difference in average is statistically significant?"
   ]
  },
  {
   "cell_type": "markdown",
   "metadata": {},
   "source": [
    "We don't drop `NaN` to just see how many don't have a specialization."
   ]
  },
  {
   "cell_type": "code",
   "execution_count": 43,
   "metadata": {
    "collapsed": false
   },
   "outputs": [
    {
     "data": {
      "text/plain": [
       "NaN                               544\n",
       "Internet computing                 77\n",
       "Foundations of Software            56\n",
       "Signals, Images and Interfaces     22\n",
       "Computer Engineering - SP          17\n",
       "Software Systems                   16\n",
       "Information Security - SP           7\n",
       "Data Analytics                      4\n",
       "Service science                     2\n",
       "Biocomputing                        2\n",
       "Computer Science Theory             1\n",
       "Internet Information Systems        1\n",
       "Name: Specialisation, dtype: int64"
      ]
     },
     "execution_count": 43,
     "metadata": {},
     "output_type": "execute_result"
    }
   ],
   "source": [
    "m1_to_m3.Specialisation.value_counts(dropna=False)"
   ]
  },
  {
   "cell_type": "markdown",
   "metadata": {},
   "source": [
    "We will only extract the specialization and duration as this is what we are interested, group by specialization, and then compute the mean for each one."
   ]
  },
  {
   "cell_type": "code",
   "execution_count": 44,
   "metadata": {
    "collapsed": false
   },
   "outputs": [
    {
     "data": {
      "text/plain": [
       "Specialisation\n",
       "Biocomputing                      30.000000\n",
       "Computer Engineering - SP         19.764706\n",
       "Computer Science Theory           18.000000\n",
       "Data Analytics                    16.500000\n",
       "Foundations of Software           21.107143\n",
       "Information Security - SP         18.000000\n",
       "Internet Information Systems      18.000000\n",
       "Internet computing                20.961039\n",
       "Service science                   18.000000\n",
       "Signals, Images and Interfaces    24.000000\n",
       "Software Systems                  18.000000\n",
       "Name: Duration, dtype: float64"
      ]
     },
     "execution_count": 44,
     "metadata": {},
     "output_type": "execute_result"
    }
   ],
   "source": [
    "m1_to_m3_copy = m1_to_m3[[\"Specialisation\",\"Duration\"]]\n",
    "m1_to_m3_copy.dropna().groupby('Specialisation')['Duration'].mean()"
   ]
  },
  {
   "cell_type": "markdown",
   "metadata": {},
   "source": [
    "We now use the Two-Sample T-Test to see if there is a statistical significance between the general average duration and the average duration for each specialization."
   ]
  },
  {
   "cell_type": "code",
   "execution_count": 45,
   "metadata": {
    "collapsed": false
   },
   "outputs": [
    {
     "name": "stderr",
     "output_type": "stream",
     "text": [
      "C:\\Program Files\\Anaconda3\\lib\\site-packages\\numpy\\core\\_methods.py:82: RuntimeWarning: Degrees of freedom <= 0 for slice\n",
      "  warnings.warn(\"Degrees of freedom <= 0 for slice\", RuntimeWarning)\n"
     ]
    },
    {
     "data": {
      "text/plain": [
       "Biocomputing                      3.839277e-296\n",
       "Computer Engineering - SP          1.763631e+01\n",
       "Computer Science Theory                     NaN\n",
       "Data Analytics                     3.922487e+01\n",
       "Foundations of Software            1.601334e-02\n",
       "Information Security - SP          1.000000e+02\n",
       "Internet Information Systems                NaN\n",
       "Internet computing                 5.455292e-03\n",
       "Service science                    1.000000e+02\n",
       "Signals, Images and Interfaces     1.152510e+00\n",
       "Software Systems                   1.000000e+02\n",
       "dtype: float64"
      ]
     },
     "execution_count": 45,
     "metadata": {},
     "output_type": "execute_result"
    }
   ],
   "source": [
    "specs = m1_to_m3_copy.dropna().Specialisation.unique()\n",
    "all_durations = m1_to_m3.Duration.values\n",
    "p_vals = {}\n",
    "for spec in specs:\n",
    "    durations_spec = m1_to_m3_copy[m1_to_m3_copy.Specialisation == spec].Duration.values\n",
    "    result = stats.ttest_ind(a= durations_spec,b= all_durations,equal_var=False)\n",
    "    p_vals[spec] = result[1]*100\n",
    "p_vals = pd.Series(p_vals)\n",
    "p_vals"
   ]
  },
  {
   "cell_type": "markdown",
   "metadata": {},
   "source": [
    "We have to `NaN` since there was only one person who did those specialisations. We use a confidence interval of 95% to check for statistical significance."
   ]
  },
  {
   "cell_type": "code",
   "execution_count": 46,
   "metadata": {
    "collapsed": false
   },
   "outputs": [
    {
     "data": {
      "text/plain": [
       "Biocomputing                      3.839277e-296\n",
       "Foundations of Software            1.601334e-02\n",
       "Internet computing                 5.455292e-03\n",
       "Signals, Images and Interfaces     1.152510e+00\n",
       "dtype: float64"
      ]
     },
     "execution_count": 46,
     "metadata": {},
     "output_type": "execute_result"
    }
   ],
   "source": [
    "p_vals[p_vals<5]"
   ]
  },
  {
   "cell_type": "markdown",
   "metadata": {},
   "source": [
    "Using the Two-Sample T-Test and a confidence interval of 95%, the difference in average for the following specializations is statistically significant:\n",
    "* **Biocomputing**\n",
    "* **Foundations of Software**\n",
    "* **Internet computing**\n",
    "* **Signals, Images and Interfaces**"
   ]
  },
  {
   "cell_type": "markdown",
   "metadata": {},
   "source": [
    "#### Last but not the least, don't forget to check if the student has an entry also in the Projet Master tables. Once you can handle well this data, compute the \"average stay at EPFL\" for master students."
   ]
  },
  {
   "cell_type": "markdown",
   "metadata": {},
   "source": [
    "We note that ISA has a separate form for project registration. We obtain master project dataset from [this form](http://isa.epfl.ch/imoniteur_ISAP/%21gedpublicreports.htm?ww_i_reportmodel=3069459).  \n",
    "We get the filter url by Postman. We extract all available parameters and their codes for querying. Then we use those parameters to scrape data."
   ]
  },
  {
   "cell_type": "code",
   "execution_count": 47,
   "metadata": {
    "collapsed": true
   },
   "outputs": [],
   "source": [
    "from bs4 import BeautifulSoup\n",
    "import requests\n",
    "import pandas as pd\n",
    "import numpy as np\n",
    "import pprint"
   ]
  },
  {
   "cell_type": "code",
   "execution_count": 48,
   "metadata": {
    "collapsed": true
   },
   "outputs": [],
   "source": [
    "PROJECT_FILTER_URL = 'http://isa.epfl.ch/imoniteur_ISAP/!GEDPUBLICREPORTS.filter?ww_i_reportModel=3069459'\n",
    "\n",
    "r = requests.get(PROJECT_FILTER_URL)\n",
    "soup = BeautifulSoup(r.content, 'html.parser')"
   ]
  },
  {
   "cell_type": "code",
   "execution_count": 49,
   "metadata": {
    "collapsed": false,
    "scrolled": true
   },
   "outputs": [
    {
     "data": {
      "text/plain": [
       "{'Période académique': 'ww_x_PERIODE_ACAD',\n",
       " 'Période pédagogique': 'ww_x_PERIODE_PEDAGO',\n",
       " 'Type de semestre': 'ww_x_HIVERETE',\n",
       " 'Unité académique': 'ww_x_UNITE_ACAD'}"
      ]
     },
     "execution_count": 49,
     "metadata": {},
     "output_type": "execute_result"
    }
   ],
   "source": [
    "param_names = [x.text for x in soup.findAll('th')[1:]]\n",
    "codes = [x.attrs['name'] for x in soup.findAll('select')]\n",
    "param_codes = dict(zip(param_names, codes))\n",
    "param_codes"
   ]
  },
  {
   "cell_type": "code",
   "execution_count": 50,
   "metadata": {
    "collapsed": false
   },
   "outputs": [
    {
     "name": "stdout",
     "output_type": "stream",
     "text": [
      "{'Période académique': {'2012-2013': '123456101',\n",
      "                        '2013-2014': '213637754',\n",
      "                        '2014-2015': '213637922',\n",
      "                        '2015-2016': '213638028',\n",
      "                        '2016-2017': '355925344'},\n",
      " 'Période pédagogique': {'Admission EPFL': '2570913',\n",
      "                         'Admission automne': '31163100',\n",
      "                         'Admission printemps': '31164888',\n",
      "                         'Bachelor semestre 1': '249108',\n",
      "                         'Bachelor semestre 2': '249114',\n",
      "                         'Bachelor semestre 3': '942155',\n",
      "                         'Bachelor semestre 4': '942163',\n",
      "                         'Bachelor semestre 5': '942120',\n",
      "                         'Bachelor semestre 5b': '2226768',\n",
      "                         'Bachelor semestre 6': '942175',\n",
      "                         'Bachelor semestre 6b': '2226785',\n",
      "                         'Evaluation': '1628004144',\n",
      "                         'Evaluation automne': '249119',\n",
      "                         'Evaluation avril': '45090341',\n",
      "                         'Evaluation décembre': '45090371',\n",
      "                         'Evaluation janvier': '45090332',\n",
      "                         'Evaluation juillet ': '1061759062',\n",
      "                         'Evaluation juin': '45090353',\n",
      "                         'Evaluation mai': '333303126',\n",
      "                         'Evaluation mars': '280185905',\n",
      "                         'Evaluation novembre': '376949447',\n",
      "                         'Evaluation octobre': '995138600',\n",
      "                         'Evaluation printemps': '36592775',\n",
      "                         'Evaluation septembre': '45090362',\n",
      "                         'FC - 1ère occurrence': '585832509',\n",
      "                         'FC - 1ère partie': '953094',\n",
      "                         'FC - 2ème occurrence': '585833522',\n",
      "                         'FC - 2ème partie': '953102',\n",
      "                         'Factures semestre automne': '67128973',\n",
      "                         'Factures semestre printemps': '67129006',\n",
      "                         'Intersemestre hiver': '136469508',\n",
      "                         'Intersemestre été': '136469661',\n",
      "                         'Master semestre 1': '2230106',\n",
      "                         'Master semestre 2': '942192',\n",
      "                         'Master semestre 3': '2230128',\n",
      "                         'Master semestre 4': '2230140',\n",
      "                         'Mineur semestre 1': '2335667',\n",
      "                         'Mineur semestre 2': '2335676',\n",
      "                         'Mise à niveau': '2063602308',\n",
      "                         'Projet Master automne': '249127',\n",
      "                         'Projet Master printemps': '3781783',\n",
      "                         'Semestre -1': '1015663',\n",
      "                         'Semestre -2': '5412290',\n",
      "                         'Semestre -3': '5412312',\n",
      "                         'Semestre 0': '1015654',\n",
      "                         'Semestre 1': '1015493',\n",
      "                         'Semestre 10': '1015636',\n",
      "                         'Semestre 11': '1015645',\n",
      "                         'Semestre 2': '1015555',\n",
      "                         'Semestre 3': '1015569',\n",
      "                         'Semestre 4': '1015578',\n",
      "                         'Semestre 5': '1015587',\n",
      "                         'Semestre 6': '1015596',\n",
      "                         'Semestre 7': '1015608',\n",
      "                         'Semestre 8': '1015618',\n",
      "                         'Semestre 9': '1015627',\n",
      "                         'Semestre automne': '953159',\n",
      "                         'Semestre printemps': '2754553',\n",
      "                         'Stage automne 3ème année': '953137',\n",
      "                         'Stage automne 4ème année': '2226616',\n",
      "                         'Stage printemps 3ème année': '983606',\n",
      "                         'Stage printemps 4ème année': '2226626',\n",
      "                         'Stage printemps master': '2227132'},\n",
      " 'Type de semestre': {\"Semestre d'automne\": '2936286',\n",
      "                      'Semestre de printemps': '2936295'},\n",
      " 'Unité académique': {'Architecture': '942293',\n",
      "                      'Area and Cultural Studies minor': '856353011',\n",
      "                      'Bioingénierie': '47551840',\n",
      "                      'CMS': '952683',\n",
      "                      'CMS - Polymaths': '93958010',\n",
      "                      'CMS - cours de base': '951670',\n",
      "                      'Chimie et génie chimique': '246696',\n",
      "                      'Chimie moléculaire et biologique': '249519',\n",
      "                      'Computer engineering minor': '244048078',\n",
      "                      'Development Engineering minor': '2018810976',\n",
      "                      'EPFL - Section à déterminer': '86266097',\n",
      "                      'Echange AR': '24063032',\n",
      "                      'Echange CGC': '24063152',\n",
      "                      'Echange EL': '24063228',\n",
      "                      'Echange GC': '24063184',\n",
      "                      'Echange GM': '24063262',\n",
      "                      'Echange IF': '235184716',\n",
      "                      'Echange IN': '24063294',\n",
      "                      'Echange MA': '24063362',\n",
      "                      'Echange MT': '24063394',\n",
      "                      'Echange MTE': '40211714',\n",
      "                      'Echange MX': '24063463',\n",
      "                      'Echange PH': '24063429',\n",
      "                      'Echange SC': '24063576',\n",
      "                      'Echange SIE': '24063499',\n",
      "                      'Echange SV': '24063541',\n",
      "                      'Enseignement chimie': '2938025',\n",
      "                      'Enseignement chimie-biologie': '2938056',\n",
      "                      'Enseignement chimie-physique': '2938041',\n",
      "                      'Enseignement maths - physique': '2938072',\n",
      "                      'Enseignement maths-chimie / biologie / géosciences / environnement': '24623253',\n",
      "                      'Enseignement physique-chimie': '2938103',\n",
      "                      'Enseignement physique-maths': '2938088',\n",
      "                      'Enseignement physique-unil': '2938118',\n",
      "                      \"Gestion de l'énergie et durabilité\": '637843547',\n",
      "                      'Génie chimique et biotechnologie': '247681',\n",
      "                      'Génie civil': '942623',\n",
      "                      'Génie mécanique': '944263',\n",
      "                      'Génie nucléaire': '99177298',\n",
      "                      'Génie électrique et électronique ': '943936',\n",
      "                      'Haute école pédagogique VD': '2806532',\n",
      "                      'Hors plans': '3887376',\n",
      "                      'Humanités digitales': '2054839157',\n",
      "                      'Information security minor': '244047873',\n",
      "                      'Informatique': '249847',\n",
      "                      'Ingénierie financière': '120623110',\n",
      "                      'Ingénierie mathématique': '4591009',\n",
      "                      'Ingénierie physique': '132164155',\n",
      "                      'Instruments de travail': '2806795',\n",
      "                      'Management de la technologie': '946882',\n",
      "                      \"Management de la technologie et de l'ingénierie financière\": '125504775',\n",
      "                      'Management, technologie et entrepreneuriat': '1630858908',\n",
      "                      'Mathématiques': '944590',\n",
      "                      'Mathématiques - master': '4590974',\n",
      "                      \"Mathématiques pour l'enseignement\": '1776379455',\n",
      "                      'Micro and Nanotechnologies for Integrated Systems': '48121016',\n",
      "                      'Microtechnique': '945244',\n",
      "                      'Mineur STAS Chine': '2018810879',\n",
      "                      'Mineur STAS Russie': '2018810931',\n",
      "                      'Mineur en Architecture': '244030463',\n",
      "                      'Mineur en Biocomputing': '250684349',\n",
      "                      'Mineur en Biotechnologie': '925516681',\n",
      "                      'Mineur en Chimie et génie chimique': '244044906',\n",
      "                      'Mineur en Design intégré, architecture et durabilité': '1695538282',\n",
      "                      'Mineur en Développement territorial et urbanisme': '84482889',\n",
      "                      'Mineur en Energie': '84482827',\n",
      "                      'Mineur en Génie civil': '244045116',\n",
      "                      'Mineur en Génie mécanique': '246255317',\n",
      "                      'Mineur en Génie électrique et électronique': '244045185',\n",
      "                      'Mineur en Informatique': '244045482',\n",
      "                      'Mineur en Ingénierie financière': '244045797',\n",
      "                      'Mineur en Management, technologie et entrepreneuriat': '84483036',\n",
      "                      'Mineur en Mathématiques': '289562774',\n",
      "                      'Mineur en Microtechnique': '244046992',\n",
      "                      'Mineur en Neuroprosthétiques': '1582689904',\n",
      "                      'Mineur en Neurosciences computationnelles': '1582689951',\n",
      "                      'Mineur en Physique': '244047118',\n",
      "                      'Mineur en Science et génie des matériaux': '84483240',\n",
      "                      'Mineur en Science et ingénierie computationnelles': '244045855',\n",
      "                      \"Mineur en Sciences et ingénierie de l'environnement\": '244047201',\n",
      "                      'Mineur en Sciences et technologies du vivant': '244047260',\n",
      "                      'Mineur en Systems Engineering': '1897924979',\n",
      "                      'Mineur en Systèmes de communication': '244047593',\n",
      "                      'Mineur en Technologies biomédicales': '84482953',\n",
      "                      'Mineur en Technologies spatiales': '84483323',\n",
      "                      'Mineurs': '84482813',\n",
      "                      'Mise à niveau': '2063600493',\n",
      "                      'Passerelle HES - AR': '947212',\n",
      "                      'Passerelle HES - CGC': '249188',\n",
      "                      'Passerelle HES - EL': '947542',\n",
      "                      'Passerelle HES - GC': '947871',\n",
      "                      'Passerelle HES - GM': '948201',\n",
      "                      'Passerelle HES - IN': '250175',\n",
      "                      'Passerelle HES - MA': '948864',\n",
      "                      'Passerelle HES - MT': '949194',\n",
      "                      'Passerelle HES - PH': '949523',\n",
      "                      'Passerelle HES - SC': '951168',\n",
      "                      'Passerelle HES - SIE': '949853',\n",
      "                      'Passerelle HES - SV': '950183',\n",
      "                      'Physique': '945571',\n",
      "                      'Physique - master': '132164796',\n",
      "                      'Programme Sciences humaines et sociales': '1751774',\n",
      "                      'Projeter ensemble ENAC': '69034007',\n",
      "                      'Science - Technique - Société': '1752191',\n",
      "                      'Science et génie des matériaux': '944917',\n",
      "                      'Science et ingénierie computationnelles': '236572097',\n",
      "                      \"Sciences et ingénierie de l'environnement\": '942953',\n",
      "                      'Sciences et technologies du vivant': '945901',\n",
      "                      'Sciences et technologies du vivant - master': '47551855',\n",
      "                      'Systèmes de communication': '946228',\n",
      "                      'Systèmes de communication - master': '950840',\n",
      "                      'Systèmes de communication - master Eurecom': '950512',\n",
      "                      'UNIL - Biologie': '2355728',\n",
      "                      'UNIL - Géosciences ': '2355809',\n",
      "                      'UNIL - HEC': '2355825',\n",
      "                      'UNIL - Médecine ': '2355778',\n",
      "                      'UNIL - Pharmacie': '2355763',\n",
      "                      'UNIL - Sciences forensiques': '2355793'}}\n"
     ]
    }
   ],
   "source": [
    "param_option_codes = {}\n",
    "\n",
    "selects = soup.findAll('select')\n",
    "\n",
    "for param_name, select in zip(param_names, selects):\n",
    "    option_codes = {}\n",
    "    options = select.findAll('option')\n",
    "\n",
    "    for option in options:\n",
    "        if option.attrs['value'] != 'null':\n",
    "            option_codes[option.text] = option.attrs['value']\n",
    "    \n",
    "    param_option_codes[param_name] = option_codes\n",
    "        \n",
    "pprint.pprint(param_option_codes)"
   ]
  },
  {
   "cell_type": "code",
   "execution_count": 51,
   "metadata": {
    "collapsed": true
   },
   "outputs": [],
   "source": [
    "# We note that the parameter codes are the same as the previous form"
   ]
  },
  {
   "cell_type": "code",
   "execution_count": 52,
   "metadata": {
    "collapsed": true
   },
   "outputs": [],
   "source": [
    "# We try a hard coded link first, using it to see the structure of data page, and extract student names\n",
    "test_url = 'http://isa.epfl.ch/imoniteur_ISAP/!GEDPUBLICREPORTS.html?ww_i_reportmodel=3069459&ww_i_reportModelXsl=3069477&zz_x_UNITE_ACAD=Informatique&ww_x_UNITE_ACAD=249847&zz_x_PERIODE_ACAD=2016-2017&ww_x_PERIODE_ACAD=355925344&ww_x_PERIODE_PEDAGO=249127&ww_x_HIVERETE=2936286&dummy=ok'\n",
    "r = requests.get(test_url)\n",
    "soup = BeautifulSoup(r.content, 'html.parser')"
   ]
  },
  {
   "cell_type": "code",
   "execution_count": 53,
   "metadata": {
    "collapsed": false
   },
   "outputs": [
    {
     "data": {
      "text/plain": [
       "['Taneli Deniz',\n",
       " 'El Khoury Raphael',\n",
       " 'Wang Zisi',\n",
       " 'Zaridze Ketevani',\n",
       " 'Mizraji Thomas',\n",
       " 'Favrod Philémon Orphée',\n",
       " 'Bovet Sidney',\n",
       " 'Szabo Kristof Tamas',\n",
       " 'Rabasco Jérémy',\n",
       " 'Antognini Diego Matteo',\n",
       " 'Manasovska Ana',\n",
       " 'Sbai Hugo',\n",
       " 'Pignat Eliéva Arlette',\n",
       " 'Qureshi Zaid',\n",
       " 'Maitre Grégory Ludovic',\n",
       " 'Oliveira Andrade Patrick Daniel',\n",
       " 'Rousseau Adrien Jean-Louis',\n",
       " 'Schmutz Michaël Steven',\n",
       " 'Loiseleur Thibaut',\n",
       " 'Sbai Marion Fadoi',\n",
       " 'Canale Raffaele',\n",
       " 'Zhang Jin',\n",
       " 'Bouquet Stéphane',\n",
       " 'Robert Arnaud',\n",
       " 'Farcasanu Alexandru-Ciprian',\n",
       " 'Wang Zisi',\n",
       " 'Valette Laurent Michel',\n",
       " 'Junker Florian Christophe',\n",
       " 'Robert Arnaud',\n",
       " 'Guliyev Khayyam Mubariz Oglu',\n",
       " 'Ionescu Vlad Nicolae',\n",
       " 'Antognini Marco',\n",
       " 'Grütter Karl Samuel',\n",
       " 'Gaspoz John',\n",
       " 'Débieux Vincent',\n",
       " 'Sikiaridis Alexandre Jean Denis',\n",
       " 'Gilgien David Yann',\n",
       " 'Duhem Martin Nicolas',\n",
       " 'Amiguet Jérôme',\n",
       " 'Leiva Loris Angel',\n",
       " 'Galissard de Marignac Vincent',\n",
       " 'Schegg Elias',\n",
       " 'Fokeas Sotirios',\n",
       " 'Rudelle Matthieu François Edgard',\n",
       " 'Engilberge Martin Pierre',\n",
       " 'Wickramasinghe Pamuditha Udaranga',\n",
       " 'Ferrier Etienne Pierre Maurice',\n",
       " 'Tallec Corentin Jean Daniel',\n",
       " 'Brechbühler Gil',\n",
       " 'Cao Huu-Ân',\n",
       " 'Majeri Kasmaei Chervine',\n",
       " 'Cardoso Rodrigues Bonifácio Vítor Gonçalo',\n",
       " 'Piskas Georgios',\n",
       " 'Drobnjak Nemanja',\n",
       " 'Tang Tinh Di David',\n",
       " 'El Houti Youssef',\n",
       " 'Vessaz Florian']"
      ]
     },
     "execution_count": 53,
     "metadata": {},
     "output_type": "execute_result"
    }
   ],
   "source": [
    "# We observe that student name <td> entry differientiates the others from not having a 'b' tag\n",
    "students = []\n",
    "entries = soup.findAll('td', width=\"20%\")\n",
    "for entry in entries:\n",
    "    if entry.find('b') == None:\n",
    "        students.append(entry.text)\n",
    "students        "
   ]
  },
  {
   "cell_type": "code",
   "execution_count": 54,
   "metadata": {
    "collapsed": true
   },
   "outputs": [],
   "source": [
    "# to build a dict of (student name, master project date)"
   ]
  },
  {
   "cell_type": "code",
   "execution_count": 55,
   "metadata": {
    "collapsed": true
   },
   "outputs": [],
   "source": [
    "# now we would like to collect the Specialization and Minor as well\n",
    "def create_student_entry(name, yr):\n",
    "    return {name: yr}\n",
    "\n",
    "# combine steps 1-4 from procedure of extracting HTML content of desired students\n",
    "def get_project_html_content(maj, yr, stat, sem):\n",
    "    # obtain gps\n",
    "    payload = {PARAM_MAJ: majors[maj],\n",
    "               PARAM_YR: acad_yrs[yr], \n",
    "               PARAM_STATUS: statuses[stat],\n",
    "               PARAM_SEM: semesters[sem]}\n",
    "    r = requests.get(PROJECT_BASE_URL, params=payload)\n",
    "    return r.content\n",
    "\n",
    "# scrape student data for a particular major and student status\n",
    "def scrape_student_data(maj, stat):\n",
    "    dic = {}\n",
    "    # go through all statuses, years, and semesters\n",
    "    for yr in acad_yrs.keys():\n",
    "        for sem in semesters.keys():\n",
    "            html_content = get_project_html_content(maj, yr, stat, sem)\n",
    "            # parse with beautiful soup\n",
    "            soup_students = BeautifulSoup(html_content, 'html.parser')\n",
    "            rows = soup_students.find_all('tr')\n",
    "            # students are starting after two rows\n",
    "            for row in rows[2:]:\n",
    "                student = row.find_all('td')\n",
    "                sciper = student[10].string\n",
    "                # keep earliest year in case a student repeated first semester\n",
    "                if int(stat.split(' ')[-1]) == 1: # obtaining number of semester\n",
    "                    if sciper not in dic:\n",
    "                        dic[sciper] = create_student_entry(stat, student, yr, sem)\n",
    "                # for other semesters replace with latest\n",
    "                else:\n",
    "                    dic[sciper] = create_student_entry(stat, student, yr, sem)\n",
    "    df = pd.DataFrame.from_dict(dic, orient='index')\n",
    "    return df"
   ]
  },
  {
   "cell_type": "code",
   "execution_count": 57,
   "metadata": {
    "collapsed": false
   },
   "outputs": [
    {
     "data": {
      "text/plain": [
       "b'<html><head><META http-equiv=\"Content-Type\" content=\"text/html; charset=iso-8859-1\"><link rel=\"stylesheet\" type=\"text/css\" href=\"gedpublicreports.css?ww_x_path=Gestac.Moniteur.Style\"></head><body bgcolor=\"#ffffff\" marginheight=\"0\" marginwidth=\"5\" link=\"#666666\" vlink=\"#666666\" alink=\"#666666\"><fieldset style=\"text-align:right; width:40%; position:relative; margin-right: 10px;float:right; border: 0; padding: 0 0 8px 0;\"><a style=\"color:#990033;\" href=\"!GEDREPORTS.html?ww_i_reportmodel=3069459&amp;ww_i_reportModelXsl=3069477&amp;ww_x_UNITE_ACAD=249847&amp;ww_x_PERIODE_ACAD=213638028&amp;ww_x_HIVERETE=2936286&amp;ww_x_PERIODE_PEDAGO=249127\">Identification pour acc\\xe9der aux e-mails<br>Login to access email adresses</a></fieldset><h1>Extraction : Liste des inscriptions aux projets par section et/ou semestre</h1><hr style=\"height:0px;visibility: hidden;display:block;width:0px; float:none; clear:both; color: #ffffff;\"><table border=\"0\" width=\"100%\"><tr><td><img src=\"/images/gestacplus/base/pixel.gif\" alt=\"\" style=\"display:block; border:none\" height=\"10\"></td></tr><tr><th colspan=\"2\"><a href=\"%0A         mailto:\"><font color=\"black\">Aberer Karl</font></a></th></tr><tr><td><br><b><a href=\"%0A           mailto:\"><font color=\"black\">Projet de master en informatique</font></a></b><br>(6 \\xe9t.)\\n      </td><td>Informatique, 2015-2016, Projet Master automne</td></tr><tr><td colspan=\"2\"><table border=\"1\" width=\"100%\"><tr><td width=\"20%\">Vladarean Maria-Luiza</td><td></td><td><table border=\"0\"><tr><td width=\"20%\"><b>Assistant : </b></td><td>Michele Catasta</td></tr><tr><td width=\"20%\"><b>Civilit\\xe9 : </b></td><td>Monsieur</td></tr><tr><td width=\"20%\"><b>Date de d\\xe9but : </b></td><td>14.09.2015</td></tr><tr><td width=\"20%\"><b>Date de fin : </b></td><td>15.01.2016</td></tr><tr><td width=\"20%\"><b>Date examen : </b></td><td>03.02.2016</td></tr><tr><td width=\"20%\"><b>Ecole/entreprise : </b></td><td>School of Computer and Communication Sciences, Distributed Information Systems Laboratory</td></tr><tr><td width=\"20%\"><b>Emplacement PDM : </b></td><td>EPFL</td></tr><tr><td width=\"20%\"><b>Enseignant : </b></td><td>Aberer Karl</td></tr><tr><td width=\"20%\"><b>Envoi 1er rappel : </b></td><td>Oui</td></tr><tr><td width=\"20%\"><b>Expert (id) : </b></td><td>McAuley Julian</td></tr><tr><td width=\"20%\"><b>Heure examen : </b></td><td>18:00</td></tr><tr><td width=\"20%\"><b>Inscription pdm verifi\\xe9e : </b></td><td>Oui</td></tr><tr><td width=\"20%\"><b>Mots-cl\\xe9 : </b></td><td>recommender, system, swapping</td></tr><tr><td width=\"20%\"><b>Nom expert : </b></td><td>McAuley</td></tr><tr><td width=\"20%\"><b>Pr\\xe9nom expert : </b></td><td>Julian</td></tr><tr><td width=\"20%\"><b>Salle : </b></td><td>BC129</td></tr><tr><td width=\"20%\"><b>Statut donn\\xe9es expert : </b></td><td>Valid\\xe9</td></tr></table></td></tr><tr><td width=\"20%\">Henrioux Manon</td><td></td><td><table border=\"0\"><tr><td width=\"20%\"><b>Civilit\\xe9 : </b></td><td>Monsieur</td></tr><tr><td width=\"20%\"><b>Date de d\\xe9but : </b></td><td>14.09.2015</td></tr><tr><td width=\"20%\"><b>Date de fin : </b></td><td>11.03.2016</td></tr><tr><td width=\"20%\"><b>Date examen : </b></td><td>05.04.2016</td></tr><tr><td width=\"20%\"><b>Ecole/entreprise : </b></td><td>Checkout Ltd</td></tr><tr><td width=\"20%\"><b>Emplacement PDM : </b></td><td>Hors  EPFL</td></tr><tr><td width=\"20%\"><b>Enseignant : </b></td><td>Aberer Karl</td></tr><tr><td width=\"20%\"><b>Envoi 1er rappel : </b></td><td>Oui</td></tr><tr><td width=\"20%\"><b>Envoi 2\\xe8me rappel : </b></td><td>Oui</td></tr><tr><td width=\"20%\"><b>Heure examen : </b></td><td>17:00</td></tr><tr><td width=\"20%\"><b>Inscription pdm verifi\\xe9e : </b></td><td>Oui</td></tr><tr><td width=\"20%\"><b>Nom expert : </b></td><td>Bordie</td></tr><tr><td width=\"20%\"><b>Pr\\xe9nom expert : </b></td><td>Riaz</td></tr><tr><td width=\"20%\"><b>R\\xe9sum\\xe9 : </b></td><td>The goal of this project is to build tools that enable Checkout.com merchants/users to optimise their marketing in order to acquire only the most valuable customers. This can be achieved by connecting Merchants\\' Google Analytics accounts to Checkout.com Hub (our Payment Gateway) in order to cross reference customer acquisition via Google Adwords, cookie trails, with customer lifetime value. For now, three fundamental steps have been identified : use Google Analytics to track data (to be defined), identify the more profitable customers for the Merchant and make the information available to the Merchant via a Google web hosted application.</td></tr><tr><td width=\"20%\"><b>Salle : </b></td><td>BC129</td></tr><tr><td width=\"20%\"><b>Statut donn\\xe9es expert : </b></td><td>Valid\\xe9</td></tr></table></td></tr><tr><td width=\"20%\">Kanalas Vidor</td><td></td><td><table border=\"0\"><tr><td width=\"20%\"><b>Civilit\\xe9 : </b></td><td>Monsieur</td></tr><tr><td width=\"20%\"><b>Date de d\\xe9but : </b></td><td>16.09.2015</td></tr><tr><td width=\"20%\"><b>Date de fin : </b></td><td>15.03.2016</td></tr><tr><td width=\"20%\"><b>Date examen : </b></td><td>13.04.2016</td></tr><tr><td width=\"20%\"><b>Ecole/entreprise : </b></td><td>Verisign</td></tr><tr><td width=\"20%\"><b>Emplacement PDM : </b></td><td>Hors  EPFL</td></tr><tr><td width=\"20%\"><b>Enseignant : </b></td><td>Aberer Karl</td></tr><tr><td width=\"20%\"><b>Envoi 1er rappel : </b></td><td>Oui</td></tr><tr><td width=\"20%\"><b>Envoi 2\\xe8me rappel : </b></td><td>Oui</td></tr><tr><td width=\"20%\"><b>Heure examen : </b></td><td>11:00</td></tr><tr><td width=\"20%\"><b>Inscription pdm verifi\\xe9e : </b></td><td>Oui</td></tr><tr><td width=\"20%\"><b>Mots-cl\\xe9 : </b></td><td>hadoop, machine learning</td></tr><tr><td width=\"20%\"><b>Nom expert : </b></td><td>Perroud</td></tr><tr><td width=\"20%\"><b>Pr\\xe9nom expert : </b></td><td>Benoit</td></tr><tr><td width=\"20%\"><b>R\\xe9sum\\xe9 : </b></td><td>The idea behind this master project is to gather runtime statistics of the jobs and\\ndata, classify them and provide recommendations based on the job characteristics.\\nUltimately a job submission hook will be developed which will override the job\\nconfiguration based on historical runs and predictive algorithms.</td></tr><tr><td width=\"20%\"><b>Salle : </b></td><td>BC129</td></tr><tr><td width=\"20%\"><b>Statut donn\\xe9es expert : </b></td><td>Valid\\xe9</td></tr></table></td></tr><tr><td width=\"20%\">Rappaz J\\xe9r\\xe9mie</td><td></td><td><table border=\"0\"><tr><td width=\"20%\"><b>Civilit\\xe9 : </b></td><td>Madame</td></tr><tr><td width=\"20%\"><b>Date de d\\xe9but : </b></td><td>14.09.2015</td></tr><tr><td width=\"20%\"><b>Date de fin : </b></td><td>15.01.2016</td></tr><tr><td width=\"20%\"><b>Date examen : </b></td><td>03.02.2016</td></tr><tr><td width=\"20%\"><b>Ecole/entreprise : </b></td><td>EPFL</td></tr><tr><td width=\"20%\"><b>Emplacement PDM : </b></td><td>EPFL</td></tr><tr><td width=\"20%\"><b>Enseignant : </b></td><td>Aberer Karl</td></tr><tr><td width=\"20%\"><b>Envoi 1er rappel : </b></td><td>Oui</td></tr><tr><td width=\"20%\"><b>Expert (id) : </b></td><td>McAuley Julian</td></tr><tr><td width=\"20%\"><b>Heure examen : </b></td><td>18:00</td></tr><tr><td width=\"20%\"><b>Inscription pdm verifi\\xe9e : </b></td><td>Oui</td></tr><tr><td width=\"20%\"><b>Mots-cl\\xe9 : </b></td><td>Swap, barter, recommender systems</td></tr><tr><td width=\"20%\"><b>Nom expert : </b></td><td>McAuley</td></tr><tr><td width=\"20%\"><b>Pr\\xe9nom expert : </b></td><td>Julian</td></tr><tr><td width=\"20%\"><b>R\\xe9sum\\xe9 : </b></td><td>A novel algorithmic approach to compute swap recommendations.</td></tr><tr><td width=\"20%\"><b>Salle : </b></td><td>BC129</td></tr><tr><td width=\"20%\"><b>Statut donn\\xe9es expert : </b></td><td>Valid\\xe9</td></tr></table></td></tr><tr><td width=\"20%\">Musso Claire C\\xe9cile H\\xe9l\\xe8ne</td><td></td><td><table border=\"0\"><tr><td width=\"20%\"><b>Civilit\\xe9 : </b></td><td>Monsieur</td></tr><tr><td width=\"20%\"><b>Date de d\\xe9but : </b></td><td>14.09.2015</td></tr><tr><td width=\"20%\"><b>Date de fin : </b></td><td>11.03.2016</td></tr><tr><td width=\"20%\"><b>Date examen : </b></td><td>05.04.2016</td></tr><tr><td width=\"20%\"><b>Ecole/entreprise : </b></td><td>Swissquote Bank</td></tr><tr><td width=\"20%\"><b>Emplacement PDM : </b></td><td>Hors  EPFL</td></tr><tr><td width=\"20%\"><b>Enseignant : </b></td><td>Aberer Karl</td></tr><tr><td width=\"20%\"><b>Envoi 1er rappel : </b></td><td>Oui</td></tr><tr><td width=\"20%\"><b>Envoi 2\\xe8me rappel : </b></td><td>Oui</td></tr><tr><td width=\"20%\"><b>Heure examen : </b></td><td>16:00</td></tr><tr><td width=\"20%\"><b>Inscription pdm verifi\\xe9e : </b></td><td>Oui</td></tr><tr><td width=\"20%\"><b>Nom expert : </b></td><td>Ratcliffe </td></tr><tr><td width=\"20%\"><b>Pr\\xe9nom expert : </b></td><td>Olivier</td></tr><tr><td width=\"20%\"><b>R\\xe9sum\\xe9 : </b></td><td>The goal of this project is to design and implement some customer behavioral pattern recognition systems. The purpose of those systems will be to provide information helping to optimize the investment share among the different services offered by Swissquote. In this context, the tasks will be: \\xad \\n- Analyze the financial services available on our platform; \\xad \\n- In collaboration with business teams identify the relevant data to cluster client\\xbfs behavioral patterns; \\xad \\n- Identify the internal and external factors that could influence client\\xbfs behavior; \\xad \\n- Do a SWOT analysis of the Big data technology platforms to propose the most adequate for this need; \\xad \\n- Try different machine learning system able to recognize and predict the patterns that Swissquote want to promote or avoid; \\xad\\n- Propose, design, and industrialize one major metric to take advantage of this study: CRM integration, charts, alerts, custom advertising...</td></tr><tr><td width=\"20%\"><b>Salle : </b></td><td>BC129</td></tr><tr><td width=\"20%\"><b>Statut donn\\xe9es expert : </b></td><td>Valid\\xe9</td></tr><tr><td width=\"20%\"><b>Valable pour stage : </b></td><td>Oui</td></tr></table></td></tr><tr><td width=\"20%\">Chiu Cheng-Hsiang</td><td></td><td><table border=\"0\"><tr><td width=\"20%\"><b>Assistant : </b></td><td>Mr.  Hamza Harkous</td></tr><tr><td width=\"20%\"><b>Civilit\\xe9 : </b></td><td>Monsieur</td></tr><tr><td width=\"20%\"><b>Date de d\\xe9but : </b></td><td>14.09.2015</td></tr><tr><td width=\"20%\"><b>Date de fin : </b></td><td>15.01.2016</td></tr><tr><td width=\"20%\"><b>Date examen : </b></td><td>03.02.2016</td></tr><tr><td width=\"20%\"><b>Ecole/entreprise : </b></td><td>EPFL</td></tr><tr><td width=\"20%\"><b>Emplacement PDM : </b></td><td>EPFL</td></tr><tr><td width=\"20%\"><b>Enseignant : </b></td><td>Aberer Karl</td></tr><tr><td width=\"20%\"><b>Envoi 1er rappel : </b></td><td>Oui</td></tr><tr><td width=\"20%\"><b>Expert (id) : </b></td><td>Fawaz Kassem</td></tr><tr><td width=\"20%\"><b>Heure examen : </b></td><td>17:00</td></tr><tr><td width=\"20%\"><b>Inscription pdm verifi\\xe9e : </b></td><td>Oui</td></tr><tr><td width=\"20%\"><b>Mots-cl\\xe9 : </b></td><td>Privacy, Adversary Machine Learning, Cloud Spaces</td></tr><tr><td width=\"20%\"><b>Nom expert : </b></td><td>Fawaz</td></tr><tr><td width=\"20%\"><b>Pr\\xe9nom expert : </b></td><td>Kassem</td></tr><tr><td width=\"20%\"><b>R\\xe9sum\\xe9 : </b></td><td>Recent events have shown that people\\xe2\\x80\\x99s privacy and liberty to interact with others online freely without any danger of being monitored is in grave danger. This is where technical people such as yourself are required: You can stem the flow of these attacks on privacy. NSA Armed with a combination of your technical knowledge and a desire for shaping the future of the web, you can join our project, CloudSpaces, which aims to do exactly that. CloudSpaces is a joint industry-academia project with partners including NEC, EPFL, URV, eyeOS, Tissat and Eurecom. </td></tr><tr><td width=\"20%\"><b>Salle : </b></td><td>BC129</td></tr><tr><td width=\"20%\"><b>Statut donn\\xe9es expert : </b></td><td>Valid\\xe9</td></tr></table></td></tr></table></td></tr><tr><td><img src=\"/images/gestacplus/base/pixel.gif\" alt=\"\" style=\"display:block; border:none\" height=\"10\"></td></tr><tr><th colspan=\"2\"><a href=\"%0A         mailto:\"><font color=\"black\">Ayer Serge</font></a></th></tr><tr><td><br><b><a href=\"%0A           mailto:\"><font color=\"black\">Projet de master en informatique</font></a></b><br>(1 \\xe9t.)\\n      </td><td>Informatique, 2015-2016, Projet Master automne</td></tr><tr><td colspan=\"2\"><table border=\"1\" width=\"100%\"><tr><td width=\"20%\">Graisse Julien</td><td></td><td><table border=\"0\"><tr><td width=\"20%\"><b>Civilit\\xe9 : </b></td><td>Monsieur</td></tr><tr><td width=\"20%\"><b>Date de d\\xe9but : </b></td><td>01.09.2015</td></tr><tr><td width=\"20%\"><b>Date de fin : </b></td><td>29.02.2016</td></tr><tr><td width=\"20%\"><b>Date examen : </b></td><td>17.03.2016</td></tr><tr><td width=\"20%\"><b>Ecole/entreprise : </b></td><td>Vidinoti SA</td></tr><tr><td width=\"20%\"><b>Emplacement PDM : </b></td><td>Hors  EPFL</td></tr><tr><td width=\"20%\"><b>Enseignant : </b></td><td>Vetterli Martin</td></tr><tr><td width=\"20%\"><b>Expert (id) : </b></td><td>Ayer Serge</td></tr><tr><td width=\"20%\"><b>Heure examen : </b></td><td>13:30</td></tr><tr><td width=\"20%\"><b>Inscription pdm verifi\\xe9e : </b></td><td>Oui</td></tr><tr><td width=\"20%\"><b>Nom expert : </b></td><td>Leuenberger</td></tr><tr><td width=\"20%\"><b>Pr\\xe9nom expert : </b></td><td>Johan</td></tr><tr><td width=\"20%\"><b>R\\xe9sum\\xe9 : </b></td><td>Vidinoti offers to customer the ability to connect multimedia, digital and Internet-based content to real world objects through augmented reality. This web-based beacon management tool will allows customers to manage beacons in a visual way. They will be able to place beacons on a map (indoor or outdoor) depending on their needs and use cases and eventually gather analytics, related to people detected by the beacons, throughout an analytics dashboard.</td></tr><tr><td width=\"20%\"><b>Salle : </b></td><td>BC329</td></tr><tr><td width=\"20%\"><b>Statut donn\\xe9es expert : </b></td><td>Valid\\xe9</td></tr><tr><td width=\"20%\"><b>Valable pour stage : </b></td><td>Oui</td></tr></table></td></tr></table></td></tr><tr><td><img src=\"/images/gestacplus/base/pixel.gif\" alt=\"\" style=\"display:block; border:none\" height=\"10\"></td></tr><tr><th colspan=\"2\"><a href=\"%0A         mailto:\"><font color=\"black\">Bordie Riaz</font></a></th></tr><tr><td><br><b><a href=\"%0A           mailto:\"><font color=\"black\">Stage d\\'ing\\xe9nieur cr\\xe9dit\\xe9 avec le PDM (master en Informatique)</font></a></b><br>(1 \\xe9t.)\\n      </td><td>Informatique, 2015-2016, Projet Master automne</td></tr><tr><td colspan=\"2\"><table border=\"1\" width=\"100%\"><tr><td width=\"20%\">Henrioux Manon</td><td></td><td><table border=\"0\"><tr><td width=\"20%\"><b>Date de d\\xe9but : </b></td><td>06.07.2015</td></tr><tr><td width=\"20%\"><b>Date de fin : </b></td><td>11.09.2015</td></tr></table></td></tr></table></td></tr><tr><td><img src=\"/images/gestacplus/base/pixel.gif\" alt=\"\" style=\"display:block; border:none\" height=\"10\"></td></tr><tr><th colspan=\"2\"><a href=\"%0A         mailto:\"><font color=\"black\">Boulic Ronan</font></a></th></tr><tr><td><br><b><a href=\"%0A           mailto:\"><font color=\"black\">Projet de master en informatique</font></a></b><br>(2 \\xe9t.)\\n      </td><td>Informatique, 2015-2016, Projet Master automne</td></tr><tr><td colspan=\"2\"><table border=\"1\" width=\"100%\"><tr><td width=\"20%\">Giroux Arthur Fran\\xe7ois Raphael Andr\\xe9</td><td></td><td><table border=\"0\"><tr><td width=\"20%\"><b>Civilit\\xe9 : </b></td><td>Monsieur</td></tr><tr><td width=\"20%\"><b>Date de d\\xe9but : </b></td><td>14.09.2015</td></tr><tr><td width=\"20%\"><b>Date de fin : </b></td><td>11.03.2016</td></tr><tr><td width=\"20%\"><b>Date de naissance : </b></td><td>16.12.1981</td></tr><tr><td width=\"20%\"><b>Date examen : </b></td><td>05.04.2016</td></tr><tr><td width=\"20%\"><b>Ecole/entreprise : </b></td><td>MindMaze</td></tr><tr><td width=\"20%\"><b>Emplacement PDM : </b></td><td>Hors  EPFL</td></tr><tr><td width=\"20%\"><b>Enseignant : </b></td><td>Boulic Ronan</td></tr><tr><td width=\"20%\"><b>Expert (id) : </b></td><td>Cardin Sylvain</td></tr><tr><td width=\"20%\"><b>Heure examen : </b></td><td>10:30</td></tr><tr><td width=\"20%\"><b>Inscription pdm verifi\\xe9e : </b></td><td>Oui</td></tr><tr><td width=\"20%\"><b>Nom expert : </b></td><td>Cardin</td></tr><tr><td width=\"20%\"><b>Pr\\xe9nom expert : </b></td><td>Sylvain</td></tr><tr><td width=\"20%\"><b>R\\xe9sum\\xe9 : </b></td><td>The goal is to implement full applications in virtual and/or augmented reality using MindMaze\\'s immersive hardware and platform.</td></tr><tr><td width=\"20%\"><b>Salle : </b></td><td>INJ118</td></tr><tr><td width=\"20%\"><b>Statut donn\\xe9es expert : </b></td><td>Valid\\xe9</td></tr><tr><td width=\"20%\"><b>Valable pour stage : </b></td><td>Oui</td></tr></table></td></tr><tr><td width=\"20%\">Bourban Fabien</td><td></td><td><table border=\"0\"><tr><td width=\"20%\"><b>Civilit\\xe9 : </b></td><td>Monsieur</td></tr><tr><td width=\"20%\"><b>Date de d\\xe9but : </b></td><td>14.09.2015</td></tr><tr><td width=\"20%\"><b>Date de fin : </b></td><td>11.03.2016</td></tr><tr><td width=\"20%\"><b>Date de naissance : </b></td><td>16.12.1981</td></tr><tr><td width=\"20%\"><b>Date examen : </b></td><td>05.04.2016</td></tr><tr><td width=\"20%\"><b>Ecole/entreprise : </b></td><td>MindMaze</td></tr><tr><td width=\"20%\"><b>Emplacement PDM : </b></td><td>Hors  EPFL</td></tr><tr><td width=\"20%\"><b>Enseignant : </b></td><td>Boulic Ronan</td></tr><tr><td width=\"20%\"><b>Expert (id) : </b></td><td>Cardin Sylvain</td></tr><tr><td width=\"20%\"><b>Heure examen : </b></td><td>10:00</td></tr><tr><td width=\"20%\"><b>Inscription pdm verifi\\xe9e : </b></td><td>Oui</td></tr><tr><td width=\"20%\"><b>Nom expert : </b></td><td>Cardin</td></tr><tr><td width=\"20%\"><b>Pr\\xe9nom expert : </b></td><td>Sylvain</td></tr><tr><td width=\"20%\"><b>R\\xe9sum\\xe9 : </b></td><td>The goal is to implement full applications in virtual and/or augmented\\nreality that integrates multimodal feedback for neurorehabilitation and gaming purposes.</td></tr><tr><td width=\"20%\"><b>Salle : </b></td><td>INJ118</td></tr><tr><td width=\"20%\"><b>Statut donn\\xe9es expert : </b></td><td>Valid\\xe9</td></tr></table></td></tr></table></td></tr><tr><td><img src=\"/images/gestacplus/base/pixel.gif\" alt=\"\" style=\"display:block; border:none\" height=\"10\"></td></tr><tr><th colspan=\"2\"><a href=\"%0A         mailto:\"><font color=\"black\">Bourgeois Jean</font></a></th></tr><tr><td><br><b><a href=\"%0A           mailto:\"><font color=\"black\">Stage d\\'ing\\xe9nieur cr\\xe9dit\\xe9 avec le PDM (master en Informatique)</font></a></b><br>(1 \\xe9t.)\\n      </td><td>Informatique, 2015-2016, Projet Master automne</td></tr><tr><td colspan=\"2\"><table border=\"1\" width=\"100%\"><tr><td width=\"20%\">Scarnera Gianni</td><td></td><td><table border=\"0\"><tr><td width=\"20%\"><b>Date de d\\xe9but : </b></td><td>15.02.2015</td></tr><tr><td width=\"20%\"><b>Date de fin : </b></td><td>15.08.2015</td></tr></table></td></tr></table></td></tr><tr><td><img src=\"/images/gestacplus/base/pixel.gif\" alt=\"\" style=\"display:block; border:none\" height=\"10\"></td></tr><tr><th colspan=\"2\"><a href=\"%0A         mailto:\"><font color=\"black\">Bugnion Edouard</font></a></th></tr><tr><td><br><b><a href=\"%0A           mailto:\"><font color=\"black\">Projet de master en informatique</font></a></b><br>(1 \\xe9t.)\\n      </td><td>Informatique, 2015-2016, Projet Master automne</td></tr><tr><td colspan=\"2\"><table border=\"1\" width=\"100%\"><tr><td width=\"20%\">Marguet Alban Michel Louis Joseph</td><td></td><td><table border=\"0\"><tr><td width=\"20%\"><b>Civilit\\xe9 : </b></td><td>Monsieur</td></tr><tr><td width=\"20%\"><b>Date de d\\xe9but : </b></td><td>14.09.2015</td></tr><tr><td width=\"20%\"><b>Date de fin : </b></td><td>11.03.2016</td></tr><tr><td width=\"20%\"><b>Date examen : </b></td><td>07.04.2016</td></tr><tr><td width=\"20%\"><b>Ecole/entreprise : </b></td><td>CERN</td></tr><tr><td width=\"20%\"><b>Emplacement PDM : </b></td><td>Hors  EPFL</td></tr><tr><td width=\"20%\"><b>Enseignant : </b></td><td>Bugnion Edouard</td></tr><tr><td width=\"20%\"><b>Envoi 1er rappel : </b></td><td>Oui</td></tr><tr><td width=\"20%\"><b>Envoi 2\\xe8me rappel : </b></td><td>Oui</td></tr><tr><td width=\"20%\"><b>Heure examen : </b></td><td>14:00</td></tr><tr><td width=\"20%\"><b>Inscription pdm verifi\\xe9e : </b></td><td>Oui</td></tr><tr><td width=\"20%\"><b>Mots-cl\\xe9 : </b></td><td>CERN, Elasticsearch, databases</td></tr><tr><td width=\"20%\"><b>Nom expert : </b></td><td>Braeger</td></tr><tr><td width=\"20%\"><b>Pr\\xe9nom expert : </b></td><td>Matthias</td></tr><tr><td width=\"20%\"><b>R\\xe9sum\\xe9 : </b></td><td>The CERN Control and Monitoring (C2MON) platform is used at CERN as\\nthe core of several SCADA systems including the Technical Infrastructure\\nMonitoring (TIM) service to monitor and store large datasets of predominantly\\ntime-series data. Facing an ever-growing set of inputs, traditional\\nrelational databases seem to hit their limits and begin to exhibit poor performance\\nfor basic queries over large time-series data collections. Users need\\nfast and reliable access to their data, hence a modern approach to storage\\nand searching is needed. We will center this research around time-series\\ndatabases and NoSQL storage engines to index the data in a new way. Indeed,\\nnowadays, the quantity of sensor data is largely increasing especially\\nwith the emergence of the Internet of Things. Consequently, time-series\\ndata is becoming ubiquitous and many products are developed for the purpose\\nof storing this type of data efficiently. These new data storage engines\\nwill be explored and the most suitable one will be selected according to the\\nrequirements of the TIM service. As a result, a historical data persistence\\nmodule based on Elasticsearch will be implemented for C2MON in order\\nto provide its users with a new way to store data in a flexible and query-oriented\\nmanner, opening up new possibilities for data analysis, insight and\\nvisualization.</td></tr><tr><td width=\"20%\"><b>Salle : </b></td><td>INN336</td></tr><tr><td width=\"20%\"><b>Statut donn\\xe9es expert : </b></td><td>Valid\\xe9</td></tr><tr><td width=\"20%\"><b>Valable pour stage : </b></td><td>Oui</td></tr></table></td></tr></table></td></tr><tr><td><img src=\"/images/gestacplus/base/pixel.gif\" alt=\"\" style=\"display:block; border:none\" height=\"10\"></td></tr><tr><th colspan=\"2\"><a href=\"%0A         mailto:\"><font color=\"black\">Cardinaux Fabien</font></a></th></tr><tr><td><br><b><a href=\"%0A           mailto:\"><font color=\"black\">Projet de master en informatique</font></a></b><br>(1 \\xe9t.)\\n      </td><td>Informatique, 2015-2016, Projet Master automne</td></tr><tr><td colspan=\"2\"><table border=\"1\" width=\"100%\"><tr><td width=\"20%\">Jha Ashish Ranjan</td><td></td><td><table border=\"0\"><tr><td width=\"20%\"><b>Civilit\\xe9 : </b></td><td>Monsieur</td></tr><tr><td width=\"20%\"><b>Date de d\\xe9but : </b></td><td>03.08.2015</td></tr><tr><td width=\"20%\"><b>Date de fin : </b></td><td>29.01.2016</td></tr><tr><td width=\"20%\"><b>Date examen : </b></td><td>16.02.2016</td></tr><tr><td width=\"20%\"><b>Ecole/entreprise : </b></td><td>Sony Deutschland GmbH, Stuttgart, Germany</td></tr><tr><td width=\"20%\"><b>Emplacement PDM : </b></td><td>Hors  EPFL</td></tr><tr><td width=\"20%\"><b>Enseignant : </b></td><td>Dillenbourg Pierre</td></tr><tr><td width=\"20%\"><b>Envoi 1er rappel : </b></td><td>Oui</td></tr><tr><td width=\"20%\"><b>Expert (id) : </b></td><td>Cardinaux Fabien</td></tr><tr><td width=\"20%\"><b>Heure examen : </b></td><td>11:00</td></tr><tr><td width=\"20%\"><b>Inscription pdm verifi\\xe9e : </b></td><td>Oui</td></tr><tr><td width=\"20%\"><b>Mots-cl\\xe9 : </b></td><td>Audio event detection, neural networks, audio features, classifier</td></tr><tr><td width=\"20%\"><b>Nom expert : </b></td><td>Cardinaux</td></tr><tr><td width=\"20%\"><b>Nouvelle date d\\xe9but : </b></td><td>03.08.2015</td></tr><tr><td width=\"20%\"><b>Nouvelle date rendu : </b></td><td>29.01.2016</td></tr><tr><td width=\"20%\"><b>Pr\\xe9nom expert : </b></td><td>Fabien</td></tr><tr><td width=\"20%\"><b>R\\xe9sum\\xe9 : </b></td><td>In a real-life audio recording, there are various audio events occurring either simultaneously or one at a time. These events may be anything ranging from traffic sounds to sounds of crying babies, adult female voice, etc. Human beings are highly efficient at detecting and distinguishing the various sounds they hear and till this date, no machine has reached anywhere close to the human accuracy for this task. Although the problem to detect every single audio event from a recording, where the events could potentially overlap, is a non-trivial problem. However, with the increasing size of audio datasets and the powerful machine learning models like the neural networks, it might soon be possible to reach the human accuracy. In this thesis, we have implemented neural networks as audio classifiers to detect single or multiple simultaneously occurring audio events in a given audio recording. We evaluate the performance of the neural networks and compare it with the performance of baseline models like gaussian mixture models or support vector machines. In a majority of experiments that we conducted, we find that the neural networks perform better than these models.</td></tr><tr><td width=\"20%\"><b>Salle : </b></td><td>RLC D661</td></tr><tr><td width=\"20%\"><b>Statut demande modification : </b></td><td>Valid\\xe9</td></tr><tr><td width=\"20%\"><b>Statut donn\\xe9es expert : </b></td><td>Valid\\xe9</td></tr><tr><td width=\"20%\"><b>Valable pour stage : </b></td><td>Oui</td></tr></table></td></tr></table></td></tr><tr><td><img src=\"/images/gestacplus/base/pixel.gif\" alt=\"\" style=\"display:block; border:none\" height=\"10\"></td></tr><tr><th colspan=\"2\"><a href=\"%0A         mailto:\"><font color=\"black\">Cardin Sylvain</font></a></th></tr><tr><td><br><b><a href=\"%0A           mailto:\"><font color=\"black\">Projet de master en informatique</font></a></b><br>(1 \\xe9t.)\\n      </td><td>Informatique, 2015-2016, Projet Master automne</td></tr><tr><td colspan=\"2\"><table border=\"1\" width=\"100%\"><tr><td width=\"20%\">Bourban Fabien</td><td></td><td><table border=\"0\"><tr><td width=\"20%\"><b>Civilit\\xe9 : </b></td><td>Monsieur</td></tr><tr><td width=\"20%\"><b>Date de d\\xe9but : </b></td><td>14.09.2015</td></tr><tr><td width=\"20%\"><b>Date de fin : </b></td><td>11.03.2016</td></tr><tr><td width=\"20%\"><b>Date de naissance : </b></td><td>16.12.1981</td></tr><tr><td width=\"20%\"><b>Date examen : </b></td><td>05.04.2016</td></tr><tr><td width=\"20%\"><b>Ecole/entreprise : </b></td><td>MindMaze</td></tr><tr><td width=\"20%\"><b>Emplacement PDM : </b></td><td>Hors  EPFL</td></tr><tr><td width=\"20%\"><b>Enseignant : </b></td><td>Boulic Ronan</td></tr><tr><td width=\"20%\"><b>Expert (id) : </b></td><td>Cardin Sylvain</td></tr><tr><td width=\"20%\"><b>Heure examen : </b></td><td>10:00</td></tr><tr><td width=\"20%\"><b>Inscription pdm verifi\\xe9e : </b></td><td>Oui</td></tr><tr><td width=\"20%\"><b>Nom expert : </b></td><td>Cardin</td></tr><tr><td width=\"20%\"><b>Pr\\xe9nom expert : </b></td><td>Sylvain</td></tr><tr><td width=\"20%\"><b>R\\xe9sum\\xe9 : </b></td><td>The goal is to implement full applications in virtual and/or augmented\\nreality that integrates multimodal feedback for neurorehabilitation and gaming purposes.</td></tr><tr><td width=\"20%\"><b>Salle : </b></td><td>INJ118</td></tr><tr><td width=\"20%\"><b>Statut donn\\xe9es expert : </b></td><td>Valid\\xe9</td></tr></table></td></tr></table></td></tr><tr><td><img src=\"/images/gestacplus/base/pixel.gif\" alt=\"\" style=\"display:block; border:none\" height=\"10\"></td></tr><tr><th colspan=\"2\"><a href=\"%0A         mailto:\"><font color=\"black\">Cardin Sylvain</font></a></th></tr><tr><td><br><b><a href=\"%0A           mailto:\"><font color=\"black\">Projet de master en informatique</font></a></b><br>(1 \\xe9t.)\\n      </td><td>Informatique, 2015-2016, Projet Master automne</td></tr><tr><td colspan=\"2\"><table border=\"1\" width=\"100%\"><tr><td width=\"20%\">Giroux Arthur Fran\\xe7ois Raphael Andr\\xe9</td><td></td><td><table border=\"0\"><tr><td width=\"20%\"><b>Civilit\\xe9 : </b></td><td>Monsieur</td></tr><tr><td width=\"20%\"><b>Date de d\\xe9but : </b></td><td>14.09.2015</td></tr><tr><td width=\"20%\"><b>Date de fin : </b></td><td>11.03.2016</td></tr><tr><td width=\"20%\"><b>Date de naissance : </b></td><td>16.12.1981</td></tr><tr><td width=\"20%\"><b>Date examen : </b></td><td>05.04.2016</td></tr><tr><td width=\"20%\"><b>Ecole/entreprise : </b></td><td>MindMaze</td></tr><tr><td width=\"20%\"><b>Emplacement PDM : </b></td><td>Hors  EPFL</td></tr><tr><td width=\"20%\"><b>Enseignant : </b></td><td>Boulic Ronan</td></tr><tr><td width=\"20%\"><b>Expert (id) : </b></td><td>Cardin Sylvain</td></tr><tr><td width=\"20%\"><b>Heure examen : </b></td><td>10:30</td></tr><tr><td width=\"20%\"><b>Inscription pdm verifi\\xe9e : </b></td><td>Oui</td></tr><tr><td width=\"20%\"><b>Nom expert : </b></td><td>Cardin</td></tr><tr><td width=\"20%\"><b>Pr\\xe9nom expert : </b></td><td>Sylvain</td></tr><tr><td width=\"20%\"><b>R\\xe9sum\\xe9 : </b></td><td>The goal is to implement full applications in virtual and/or augmented reality using MindMaze\\'s immersive hardware and platform.</td></tr><tr><td width=\"20%\"><b>Salle : </b></td><td>INJ118</td></tr><tr><td width=\"20%\"><b>Statut donn\\xe9es expert : </b></td><td>Valid\\xe9</td></tr><tr><td width=\"20%\"><b>Valable pour stage : </b></td><td>Oui</td></tr></table></td></tr></table></td></tr><tr><td><img src=\"/images/gestacplus/base/pixel.gif\" alt=\"\" style=\"display:block; border:none\" height=\"10\"></td></tr><tr><th colspan=\"2\"><a href=\"%0A         mailto:\"><font color=\"black\">Cucu Lucian</font></a></th></tr><tr><td><br><b><a href=\"%0A           mailto:\"><font color=\"black\">Projet de master en informatique</font></a></b><br>(1 \\xe9t.)\\n      </td><td>Informatique, 2015-2016, Projet Master automne</td></tr><tr><td colspan=\"2\"><table border=\"1\" width=\"100%\"><tr><td width=\"20%\">Jin Jialei</td><td></td><td><table border=\"0\"><tr><td width=\"20%\"><b>Assistant : </b></td><td>Salman Faraji</td></tr><tr><td width=\"20%\"><b>Civilit\\xe9 : </b></td><td>Monsieur</td></tr><tr><td width=\"20%\"><b>Date de d\\xe9but : </b></td><td>14.09.2015</td></tr><tr><td width=\"20%\"><b>Date de fin : </b></td><td>15.01.2016</td></tr><tr><td width=\"20%\"><b>Date examen : </b></td><td>12.02.2016</td></tr><tr><td width=\"20%\"><b>Ecole/entreprise : </b></td><td>EPFL</td></tr><tr><td width=\"20%\"><b>Emplacement PDM : </b></td><td>EPFL</td></tr><tr><td width=\"20%\"><b>Enseignant : </b></td><td>Ijspeert Auke</td></tr><tr><td width=\"20%\"><b>Envoi 1er rappel : </b></td><td>Oui</td></tr><tr><td width=\"20%\"><b>Envoi 2\\xe8me rappel : </b></td><td>Oui</td></tr><tr><td width=\"20%\"><b>Expert (id) : </b></td><td>Cucu Lucian</td></tr><tr><td width=\"20%\"><b>Heure examen : </b></td><td>10:00</td></tr><tr><td width=\"20%\"><b>Inscription pdm verifi\\xe9e : </b></td><td>Oui</td></tr><tr><td width=\"20%\"><b>Mots-cl\\xe9 : </b></td><td>Robotics, Vision, SLAM, Kalman filtering, Xtion</td></tr><tr><td width=\"20%\"><b>Nom expert : </b></td><td>Cucu</td></tr><tr><td width=\"20%\"><b>Pr\\xe9nom expert : </b></td><td>Lucian</td></tr><tr><td width=\"20%\"><b>R\\xe9sum\\xe9 : </b></td><td>The aim of this project is to localize and map the robot in the environment using the the new head we are currently building for the Coman robot. The head is equipped with two very fast and high resolution cameras, a depth sensor like Kinect, an IMU and a fast CPU. We already have proper algorithms provided by Karlsruhe Institute of Technology. The student should integrate all the algorithms, consider the kinematics of the whole body and combine the lower body state estimation with head state estimation to do SLAM. The locomotion algorithm as well as both state estimation algorithms are therefore available. Requirement for this project is indeed C++ and Kalman filtering.</td></tr><tr><td width=\"20%\"><b>Salle : </b></td><td>INN211</td></tr><tr><td width=\"20%\"><b>Statut donn\\xe9es expert : </b></td><td>Valid\\xe9</td></tr></table></td></tr></table></td></tr><tr><td><img src=\"/images/gestacplus/base/pixel.gif\" alt=\"\" style=\"display:block; border:none\" height=\"10\"></td></tr><tr><th colspan=\"2\"><a href=\"%0A         mailto:\"><font color=\"black\">Desmarest Yann</font></a></th></tr><tr><td><br><b><a href=\"%0A           mailto:\"><font color=\"black\">Projet de master en informatique</font></a></b><br>(1 \\xe9t.)\\n      </td><td>Informatique, 2015-2016, Projet Master automne</td></tr><tr><td colspan=\"2\"><table border=\"1\" width=\"100%\"><tr><td width=\"20%\">Gilli\\xe9ron Kevin</td><td></td><td><table border=\"0\"><tr><td width=\"20%\"><b>Civilit\\xe9 : </b></td><td>Monsieur</td></tr><tr><td width=\"20%\"><b>Date de d\\xe9but : </b></td><td>14.09.2015</td></tr><tr><td width=\"20%\"><b>Date de fin : </b></td><td>11.03.2016</td></tr><tr><td width=\"20%\"><b>Date examen : </b></td><td>07.04.2016</td></tr><tr><td width=\"20%\"><b>Ecole/entreprise : </b></td><td>e-Xpert Solutions SA</td></tr><tr><td width=\"20%\"><b>Emplacement PDM : </b></td><td>Hors  EPFL</td></tr><tr><td width=\"20%\"><b>Enseignant : </b></td><td>Larus James Richard</td></tr><tr><td width=\"20%\"><b>Envoi 1er rappel : </b></td><td>Oui</td></tr><tr><td width=\"20%\"><b>Expert (id) : </b></td><td>Desmarest Yann</td></tr><tr><td width=\"20%\"><b>Heure examen : </b></td><td>15:00</td></tr><tr><td width=\"20%\"><b>Inscription pdm verifi\\xe9e : </b></td><td>Oui</td></tr><tr><td width=\"20%\"><b>Mots-cl\\xe9 : </b></td><td>security,development,web,application</td></tr><tr><td width=\"20%\"><b>Nom expert : </b></td><td>Desmarest</td></tr><tr><td width=\"20%\"><b>Pr\\xe9nom expert : </b></td><td>Yann</td></tr><tr><td width=\"20%\"><b>R\\xe9sum\\xe9 : </b></td><td>The project is about developing a unified dashboard for computer security web services as well as writing new services.</td></tr><tr><td width=\"20%\"><b>Salle : </b></td><td>BC 408</td></tr><tr><td width=\"20%\"><b>Statut donn\\xe9es expert : </b></td><td>Valid\\xe9</td></tr><tr><td width=\"20%\"><b>Valable pour stage : </b></td><td>Oui</td></tr></table></td></tr></table></td></tr><tr><td><img src=\"/images/gestacplus/base/pixel.gif\" alt=\"\" style=\"display:block; border:none\" height=\"10\"></td></tr><tr><th colspan=\"2\"><a href=\"%0A         mailto:\"><font color=\"black\">Dillenbourg Pierre</font></a></th></tr><tr><td><br><b><a href=\"%0A           mailto:\"><font color=\"black\">Projet de master en informatique</font></a></b><br>(3 \\xe9t.)\\n      </td><td>Informatique, 2015-2016, Projet Master automne</td></tr><tr><td colspan=\"2\"><table border=\"1\" width=\"100%\"><tr><td width=\"20%\">Faucon Louis Pierre</td><td></td><td><table border=\"0\"><tr><td width=\"20%\"><b>Civilit\\xe9 : </b></td><td>Monsieur</td></tr><tr><td width=\"20%\"><b>Date de d\\xe9but : </b></td><td>14.09.2015</td></tr><tr><td width=\"20%\"><b>Date de fin : </b></td><td>11.03.2016</td></tr><tr><td width=\"20%\"><b>Date examen : </b></td><td>04.04.2016</td></tr><tr><td width=\"20%\"><b>Ecole/entreprise : </b></td><td>Coorpacademy</td></tr><tr><td width=\"20%\"><b>Emplacement PDM : </b></td><td>Hors  EPFL</td></tr><tr><td width=\"20%\"><b>Enseignant : </b></td><td>Dillenbourg Pierre</td></tr><tr><td width=\"20%\"><b>Envoi 1er rappel : </b></td><td>Oui</td></tr><tr><td width=\"20%\"><b>Expert (id) : </b></td><td>Jordane Giuly</td></tr><tr><td width=\"20%\"><b>Heure examen : </b></td><td>16:00</td></tr><tr><td width=\"20%\"><b>Inscription pdm verifi\\xe9e : </b></td><td>Oui</td></tr><tr><td width=\"20%\"><b>Mots-cl\\xe9 : </b></td><td>Machine Learning MOOC data analysis digital education</td></tr><tr><td width=\"20%\"><b>Nom expert : </b></td><td>Jordane</td></tr><tr><td width=\"20%\"><b>Pr\\xe9nom expert : </b></td><td>Giuly</td></tr><tr><td width=\"20%\"><b>R\\xe9sum\\xe9 : </b></td><td>Le projet consistera en l\\'etude des donn\\xe9es issues des MOOCs de Coorpacademy puis au developpement d\\'un outil d\\'analyse ou de prediction en utilisant des methodes d\\'apprentissage ou de statistique.</td></tr><tr><td width=\"20%\"><b>Salle : </b></td><td>RLC D1 661</td></tr><tr><td width=\"20%\"><b>Statut donn\\xe9es expert : </b></td><td>Valid\\xe9</td></tr><tr><td width=\"20%\"><b>Valable pour stage : </b></td><td>Oui</td></tr></table></td></tr><tr><td width=\"20%\">Jha Ashish Ranjan</td><td></td><td><table border=\"0\"><tr><td width=\"20%\"><b>Civilit\\xe9 : </b></td><td>Monsieur</td></tr><tr><td width=\"20%\"><b>Date de d\\xe9but : </b></td><td>03.08.2015</td></tr><tr><td width=\"20%\"><b>Date de fin : </b></td><td>29.01.2016</td></tr><tr><td width=\"20%\"><b>Date examen : </b></td><td>16.02.2016</td></tr><tr><td width=\"20%\"><b>Ecole/entreprise : </b></td><td>Sony Deutschland GmbH, Stuttgart, Germany</td></tr><tr><td width=\"20%\"><b>Emplacement PDM : </b></td><td>Hors  EPFL</td></tr><tr><td width=\"20%\"><b>Enseignant : </b></td><td>Dillenbourg Pierre</td></tr><tr><td width=\"20%\"><b>Envoi 1er rappel : </b></td><td>Oui</td></tr><tr><td width=\"20%\"><b>Expert (id) : </b></td><td>Cardinaux Fabien</td></tr><tr><td width=\"20%\"><b>Heure examen : </b></td><td>11:00</td></tr><tr><td width=\"20%\"><b>Inscription pdm verifi\\xe9e : </b></td><td>Oui</td></tr><tr><td width=\"20%\"><b>Mots-cl\\xe9 : </b></td><td>Audio event detection, neural networks, audio features, classifier</td></tr><tr><td width=\"20%\"><b>Nom expert : </b></td><td>Cardinaux</td></tr><tr><td width=\"20%\"><b>Nouvelle date d\\xe9but : </b></td><td>03.08.2015</td></tr><tr><td width=\"20%\"><b>Nouvelle date rendu : </b></td><td>29.01.2016</td></tr><tr><td width=\"20%\"><b>Pr\\xe9nom expert : </b></td><td>Fabien</td></tr><tr><td width=\"20%\"><b>R\\xe9sum\\xe9 : </b></td><td>In a real-life audio recording, there are various audio events occurring either simultaneously or one at a time. These events may be anything ranging from traffic sounds to sounds of crying babies, adult female voice, etc. Human beings are highly efficient at detecting and distinguishing the various sounds they hear and till this date, no machine has reached anywhere close to the human accuracy for this task. Although the problem to detect every single audio event from a recording, where the events could potentially overlap, is a non-trivial problem. However, with the increasing size of audio datasets and the powerful machine learning models like the neural networks, it might soon be possible to reach the human accuracy. In this thesis, we have implemented neural networks as audio classifiers to detect single or multiple simultaneously occurring audio events in a given audio recording. We evaluate the performance of the neural networks and compare it with the performance of baseline models like gaussian mixture models or support vector machines. In a majority of experiments that we conducted, we find that the neural networks perform better than these models.</td></tr><tr><td width=\"20%\"><b>Salle : </b></td><td>RLC D661</td></tr><tr><td width=\"20%\"><b>Statut demande modification : </b></td><td>Valid\\xe9</td></tr><tr><td width=\"20%\"><b>Statut donn\\xe9es expert : </b></td><td>Valid\\xe9</td></tr><tr><td width=\"20%\"><b>Valable pour stage : </b></td><td>Oui</td></tr></table></td></tr><tr><td width=\"20%\">Aranibar Casas Ivan Wilson</td><td></td><td><table border=\"0\"><tr><td width=\"20%\"><b>Civilit\\xe9 : </b></td><td>Monsieur</td></tr><tr><td width=\"20%\"><b>Date de d\\xe9but : </b></td><td>21.09.2015</td></tr><tr><td width=\"20%\"><b>Date de fin : </b></td><td>18.03.2016</td></tr><tr><td width=\"20%\"><b>Date examen : </b></td><td>05.04.2016</td></tr><tr><td width=\"20%\"><b>Ecole/entreprise : </b></td><td>BestMile</td></tr><tr><td width=\"20%\"><b>Emplacement PDM : </b></td><td>Hors  EPFL</td></tr><tr><td width=\"20%\"><b>Enseignant : </b></td><td>Dillenbourg Pierre</td></tr><tr><td width=\"20%\"><b>Expert (id) : </b></td><td>Vaivre Mikael</td></tr><tr><td width=\"20%\"><b>Heure examen : </b></td><td>16:00</td></tr><tr><td width=\"20%\"><b>Inscription pdm verifi\\xe9e : </b></td><td>Oui</td></tr><tr><td width=\"20%\"><b>Mots-cl\\xe9 : </b></td><td>HCI, Data Visualialization, Transport</td></tr><tr><td width=\"20%\"><b>Nom expert : </b></td><td>Vaivre</td></tr><tr><td width=\"20%\"><b>Pr\\xe9nom expert : </b></td><td>Mikael</td></tr><tr><td width=\"20%\"><b>R\\xe9sum\\xe9 : </b></td><td>DESIGNING THE USER EXPERIENCE OF A COMMAND\\n\\nCENTER/DASHBOARD CONTROL FOR AUTONOMOUS\\n\\nTRANSPORT TRAFFIC A Command Center provides centralized\\n\\ncommand to ensure service and order. It does this by monitoring the\\n\\nenvironment and reacting to events using predefined procedures. 1.\\n\\nPROJECT DESCRIPTION a. Scope Being a critical work\\n\\nenvironment, the experience of people/users is key to achieving the\\n\\npoints above. Its design needs to consider the interaction between\\n\\nusers and systems, set within an environment. b. The Autonomous\\n\\nPublic Transport context presents its own set of challenges \\xad the\\n\\nnature of the operations , and the expectations of the passengers. c.\\n\\nInformation Visualization and System Planning Since the key to\\n\\nrunning a Command Center efficiently is better Information\\n\\nManagement, visualization of this information plays an important role.\\n\\nAn understanding of the principles of human cognition such as\\n\\ncolour, contrast, how many information buckets etc., can greatly\\n\\nimprove the user experience \\xad and effectiveness of Command Center\\n\\noperations. This can apply to aspects such as \\xad Weather, Incident\\n\\nManagement, Shuttle Location and status , Traffic etc. What are the\\n\\nnew kinds of management processes, and tools that are needed as\\n\\nthe users (shuttle routing planner) define routes for the Autonomous\\n\\nshuttle? What are the implications in user experience of\\n\\npeople/actors in manning a Command Center in such a scenario?\\n\\nUsers A list of the key users \\xad Route shuttle planner, shuttle\\n\\npassengers, Support technicians DELIVERABLES EXPECTED An\\n\\nWeb based implementation of the dashboard traffic control that is\\n\\ninformed by the scope outlined above. The following features are\\n\\nexpected: 1.\\xadAnalytic and reporting dashboard.\\xadThe vast amount of\\n\\ndata (Big Data) generated in the operation will be displayed in a\\n\\nmeaningful way, in order to facilitate the route planning and\\n\\nmonitoring. 2.\\xadControl and planning dashboard.\\xad This dashboard\\n\\nwould allow the user to create and edit the route of the shuttles as\\n\\nwell as monitor them.</td></tr><tr><td width=\"20%\"><b>Salle : </b></td><td>RLC D1 661</td></tr><tr><td width=\"20%\"><b>Statut donn\\xe9es expert : </b></td><td>Valid\\xe9</td></tr></table></td></tr></table></td></tr><tr><td><img src=\"/images/gestacplus/base/pixel.gif\" alt=\"\" style=\"display:block; border:none\" height=\"10\"></td></tr><tr><th colspan=\"2\"><a href=\"%0A         mailto:\"><font color=\"black\">Douchant Fabrice</font></a></th></tr><tr><td><br><b><a href=\"%0A           mailto:\"><font color=\"black\">Stage d\\'ing\\xe9nieur cr\\xe9dit\\xe9 avec le PDM (master en Informatique)</font></a></b><br>(1 \\xe9t.)\\n      </td><td>Informatique, 2015-2016, Projet Master automne</td></tr><tr><td colspan=\"2\"><table border=\"1\" width=\"100%\"><tr><td width=\"20%\">La Spada Luca</td><td></td><td><table border=\"0\"><tr><td width=\"20%\"><b>Date de d\\xe9but : </b></td><td>28.01.2015</td></tr><tr><td width=\"20%\"><b>Date de fin : </b></td><td>31.07.2015</td></tr></table></td></tr></table></td></tr><tr><td><img src=\"/images/gestacplus/base/pixel.gif\" alt=\"\" style=\"display:block; border:none\" height=\"10\"></td></tr><tr><th colspan=\"2\"><a href=\"%0A         mailto:\"><font color=\"black\">Estier Thomas</font></a></th></tr><tr><td><br><b><a href=\"%0A           mailto:\"><font color=\"black\">Projet de master en informatique</font></a></b><br>(1 \\xe9t.)\\n      </td><td>Informatique, 2015-2016, Projet Master automne</td></tr><tr><td colspan=\"2\"><table border=\"1\" width=\"100%\"><tr><td width=\"20%\">La Spada Luca</td><td></td><td><table border=\"0\"><tr><td width=\"20%\"><b>Assistant : </b></td><td>Crespi Alessandro</td></tr><tr><td width=\"20%\"><b>Civilit\\xe9 : </b></td><td>Monsieur</td></tr><tr><td width=\"20%\"><b>Date de d\\xe9but : </b></td><td>14.09.2015</td></tr><tr><td width=\"20%\"><b>Date de fin : </b></td><td>15.01.2016</td></tr><tr><td width=\"20%\"><b>Date examen : </b></td><td>03.02.2016</td></tr><tr><td width=\"20%\"><b>Ecole/entreprise : </b></td><td>EPFL</td></tr><tr><td width=\"20%\"><b>Emplacement PDM : </b></td><td>EPFL</td></tr><tr><td width=\"20%\"><b>Enseignant : </b></td><td>Ijspeert Auke</td></tr><tr><td width=\"20%\"><b>Envoi 1er rappel : </b></td><td>Oui</td></tr><tr><td width=\"20%\"><b>Envoi 2\\xe8me rappel : </b></td><td>Oui</td></tr><tr><td width=\"20%\"><b>Expert (id) : </b></td><td>Estier Thomas</td></tr><tr><td width=\"20%\"><b>Heure examen : </b></td><td>10:00</td></tr><tr><td width=\"20%\"><b>Inscription pdm verifi\\xe9e : </b></td><td>Oui</td></tr><tr><td width=\"20%\"><b>Mots-cl\\xe9 : </b></td><td>robotics, UX design, HMI</td></tr><tr><td width=\"20%\"><b>Nom expert : </b></td><td>Estier</td></tr><tr><td width=\"20%\"><b>Pr\\xe9nom expert : </b></td><td>Thomas</td></tr><tr><td width=\"20%\"><b>Salle : </b></td><td>INN211 + videoconference</td></tr><tr><td width=\"20%\"><b>Statut donn\\xe9es expert : </b></td><td>Valid\\xe9</td></tr></table></td></tr></table></td></tr><tr><td><img src=\"/images/gestacplus/base/pixel.gif\" alt=\"\" style=\"display:block; border:none\" height=\"10\"></td></tr><tr><th colspan=\"2\"><a href=\"%0A         mailto:\"><font color=\"black\">Falsafi Babak</font></a></th></tr><tr><td><br><b><a href=\"%0A           mailto:\"><font color=\"black\">Projet de master en informatique</font></a></b><br>(1 \\xe9t.)\\n      </td><td>Informatique, 2015-2016, Projet Master automne</td></tr><tr><td colspan=\"2\"><table border=\"1\" width=\"100%\"><tr><td width=\"20%\">Babst Timo Philip</td><td></td><td><table border=\"0\"><tr><td width=\"20%\"><b>Civilit\\xe9 : </b></td><td>Monsieur</td></tr><tr><td width=\"20%\"><b>Date de d\\xe9but : </b></td><td>14.09.2015</td></tr><tr><td width=\"20%\"><b>Date de fin : </b></td><td>11.03.2016</td></tr><tr><td width=\"20%\"><b>Date examen : </b></td><td>05.04.2016</td></tr><tr><td width=\"20%\"><b>Ecole/entreprise : </b></td><td>ABB Corporate Research Center</td></tr><tr><td width=\"20%\"><b>Emplacement PDM : </b></td><td>Hors  EPFL</td></tr><tr><td width=\"20%\"><b>Enseignant : </b></td><td>Falsafi Babak</td></tr><tr><td width=\"20%\"><b>Envoi 1er rappel : </b></td><td>Oui</td></tr><tr><td width=\"20%\"><b>Expert (id) : </b></td><td>Schneider Johannes</td></tr><tr><td width=\"20%\"><b>Heure examen : </b></td><td>14:00</td></tr><tr><td width=\"20%\"><b>Inscription pdm verifi\\xe9e : </b></td><td>Oui</td></tr><tr><td width=\"20%\"><b>Mots-cl\\xe9 : </b></td><td>Web Analytics Big Data Classification Clustering User</td></tr><tr><td width=\"20%\"><b>Nom expert : </b></td><td>Schneider</td></tr><tr><td width=\"20%\"><b>Pr\\xe9nom expert : </b></td><td>Johannes</td></tr><tr><td width=\"20%\"><b>R\\xe9sum\\xe9 : </b></td><td>Web usage data provides a vast amount of knowledge that is of paramount\\nimportance for a company\\xe2\\x80\\x99s strategic and operational decisions. It is also a\\ncrucial resource for user experience improvement. For these reasons, many\\ncompanies utilize web analytics software. Unfortunately, these tools are un-\\nsatisfactory for ABB in two ways: they are limited to simple analysis tasks,\\nwhich do not leverage the full potential of the data. Additionally, they target\\nsmall companies, and thus do not match the needs for a large enterprise like\\nABB.\\nIn this thesis, we perform a more advanced study on the data that is\\nharvested, which allows us to gain insights that are inaccessible otherwise.\\nWe focus on three subjects. In our first area, we assess whether it is possible\\nto classify users based on interest and based upon the time they spend on a\\npage. 44% of users can be clearly segmented according to interests. For a\\nthird of the most frequently taken browsing paths, we can classify users into\\ntwo groups differing by at least 15 seconds in their viewing time, with at\\nleast 60 % precision and recall of one third. In our second subject, we study\\nwhether it is possible to forecast sales data based upon web activity. We\\nfound that, for the case of ABB, the relationship between the number pur-\\nchases and the number of pageviews is not so evident. Finally, we suggest\\nimprovements for the outlier detection functionality of existing web analytics\\nsoftware by segmenting the search space further as well as combining anoma-\\nlies having the same root cause. We showcased our ideas in a demonstrator\\ntool.</td></tr><tr><td width=\"20%\"><b>Salle : </b></td><td>BC 229</td></tr><tr><td width=\"20%\"><b>Statut donn\\xe9es expert : </b></td><td>Valid\\xe9</td></tr></table></td></tr></table></td></tr><tr><td><img src=\"/images/gestacplus/base/pixel.gif\" alt=\"\" style=\"display:block; border:none\" height=\"10\"></td></tr><tr><th colspan=\"2\"><a href=\"%0A         mailto:\"><font color=\"black\">Faltings Boi</font></a></th></tr><tr><td><br><b><a href=\"%0A           mailto:\"><font color=\"black\">Projet de master en informatique</font></a></b><br>(4 \\xe9t.)\\n      </td><td>Informatique, 2015-2016, Projet Master automne</td></tr><tr><td colspan=\"2\"><table border=\"1\" width=\"100%\"><tr><td width=\"20%\">Hugonot Joachim</td><td></td><td><table border=\"0\"><tr><td width=\"20%\"><b>Civilit\\xe9 : </b></td><td>Monsieur</td></tr><tr><td width=\"20%\"><b>Date de d\\xe9but : </b></td><td>14.09.2015</td></tr><tr><td width=\"20%\"><b>Date de fin : </b></td><td>11.03.2016</td></tr><tr><td width=\"20%\"><b>Date examen : </b></td><td>04.04.2016</td></tr><tr><td width=\"20%\"><b>Ecole/entreprise : </b></td><td>nViso</td></tr><tr><td width=\"20%\"><b>Emplacement PDM : </b></td><td>Hors  EPFL</td></tr><tr><td width=\"20%\"><b>Enseignant : </b></td><td>Faltings Boi</td></tr><tr><td width=\"20%\"><b>Envoi 1er rappel : </b></td><td>Oui</td></tr><tr><td width=\"20%\"><b>Heure examen : </b></td><td>09:00</td></tr><tr><td width=\"20%\"><b>Inscription pdm verifi\\xe9e : </b></td><td>Oui</td></tr><tr><td width=\"20%\"><b>Mots-cl\\xe9 : </b></td><td>Machine learning, dataset, emotion recognition</td></tr><tr><td width=\"20%\"><b>Nom expert : </b></td><td>Llewellynn</td></tr><tr><td width=\"20%\"><b>Pr\\xe9nom expert : </b></td><td>Tim</td></tr><tr><td width=\"20%\"><b>R\\xe9sum\\xe9 : </b></td><td>Develop a labeling tool in Python to create a real-world emotion dataset for validation of methods for emotion recognition from a large database of \"emotions captured in the wild\" using ordinary webcams.\\n- Train and optimize an emotion classifier using CNNs and compare versus existing a rule-based algorithms based on the Facial Action Coding System.\\n- Assess the pro\\'s / con\\'s of each classifier based on speed, accuracy, sensitivity, and size of models.</td></tr><tr><td width=\"20%\"><b>Salle : </b></td><td>INR 212</td></tr><tr><td width=\"20%\"><b>Statut donn\\xe9es expert : </b></td><td>Valid\\xe9</td></tr><tr><td width=\"20%\"><b>Valable pour stage : </b></td><td>Oui</td></tr></table></td></tr><tr><td width=\"20%\">Francois Arthur Alain Albert</td><td></td><td><table border=\"0\"><tr><td width=\"20%\"><b>Civilit\\xe9 : </b></td><td>Madame</td></tr><tr><td width=\"20%\"><b>Date de d\\xe9but : </b></td><td>14.09.2015</td></tr><tr><td width=\"20%\"><b>Date de fin : </b></td><td>11.03.2016</td></tr><tr><td width=\"20%\"><b>Date examen : </b></td><td>04.04.2016</td></tr><tr><td width=\"20%\"><b>Ecole/entreprise : </b></td><td>Elca Informatique</td></tr><tr><td width=\"20%\"><b>Emplacement PDM : </b></td><td>Hors  EPFL</td></tr><tr><td width=\"20%\"><b>Enseignant : </b></td><td>Faltings Boi</td></tr><tr><td width=\"20%\"><b>Envoi 1er rappel : </b></td><td>Oui</td></tr><tr><td width=\"20%\"><b>Heure examen : </b></td><td>10:00</td></tr><tr><td width=\"20%\"><b>Inscription pdm verifi\\xe9e : </b></td><td>Oui</td></tr><tr><td width=\"20%\"><b>Mots-cl\\xe9 : </b></td><td>Machine Learning, Speech Processing, Topic modeling, Topic segmentation</td></tr><tr><td width=\"20%\"><b>Nom expert : </b></td><td>Quarteroni</td></tr><tr><td width=\"20%\"><b>Pr\\xe9nom expert : </b></td><td>Silvia</td></tr><tr><td width=\"20%\"><b>R\\xe9sum\\xe9 : </b></td><td>The aim of this work is to setup a web-based speech processing platform by\\ndeploying and integrating a selection of libraries and frameworks for spoken\\nlanguage understanding. \\n\\nThe main contributions are:\\n- The training and evaluation speech recognition system using the Kaldi framework and open-source speech corpora. The model used the latest techniques in acoustic modeling and offers a satisfying accuracy for good recording conditions.\\n- The training of a few topic models on different corpora using Latent Dirichlet Allocation.\\n- The implementation of a state of the art topic segmentation algorithm TopicTiling and its comparison with the C99 algorithm.\\n- The integration of those products in a web application that takes an audio file and will return its transcription in real-time, along with additional info obtained from using text analysis on the transcription.</td></tr><tr><td width=\"20%\"><b>Salle : </b></td><td>INR 212</td></tr><tr><td width=\"20%\"><b>Statut donn\\xe9es expert : </b></td><td>Valid\\xe9</td></tr><tr><td width=\"20%\"><b>Valable pour stage : </b></td><td>Oui</td></tr></table></td></tr><tr><td width=\"20%\">Wang Ching-Chia</td><td></td><td><table border=\"0\"><tr><td width=\"20%\"><b>Civilit\\xe9 : </b></td><td>Monsieur</td></tr><tr><td width=\"20%\"><b>Date de d\\xe9but : </b></td><td>14.09.2015</td></tr><tr><td width=\"20%\"><b>Date de fin : </b></td><td>11.03.2016</td></tr><tr><td width=\"20%\"><b>Date examen : </b></td><td>05.04.2016</td></tr><tr><td width=\"20%\"><b>Ecole/entreprise : </b></td><td>Barclays Bank (Suisse) SA</td></tr><tr><td width=\"20%\"><b>Emplacement PDM : </b></td><td>Hors  EPFL</td></tr><tr><td width=\"20%\"><b>Enseignant : </b></td><td>Faltings Boi</td></tr><tr><td width=\"20%\"><b>Envoi 1er rappel : </b></td><td>Oui</td></tr><tr><td width=\"20%\"><b>Heure examen : </b></td><td>10:00</td></tr><tr><td width=\"20%\"><b>Inscription pdm verifi\\xe9e : </b></td><td>Oui</td></tr><tr><td width=\"20%\"><b>Mots-cl\\xe9 : </b></td><td>Supervised Learning, Classification, Anomaly Detection, Validation Framework, Visualization</td></tr><tr><td width=\"20%\"><b>Nom expert : </b></td><td>Christopher</td></tr><tr><td width=\"20%\"><b>Pr\\xe9nom expert : </b></td><td>Muffat</td></tr><tr><td width=\"20%\"><b>R\\xe9sum\\xe9 : </b></td><td>Leverage Supervised Machine Learning methods to improve classification performance of the Data Risk Management System.</td></tr><tr><td width=\"20%\"><b>Salle : </b></td><td>INR 212</td></tr><tr><td width=\"20%\"><b>Statut donn\\xe9es expert : </b></td><td>Valid\\xe9</td></tr></table></td></tr><tr><td width=\"20%\">Drissi El Kamili Souleimane</td><td></td><td><table border=\"0\"><tr><td width=\"20%\"><b>Civilit\\xe9 : </b></td><td>Monsieur</td></tr><tr><td width=\"20%\"><b>Date de d\\xe9but : </b></td><td>31.08.2015</td></tr><tr><td width=\"20%\"><b>Date de fin : </b></td><td>26.02.2016</td></tr><tr><td width=\"20%\"><b>Date examen : </b></td><td>18.03.2016</td></tr><tr><td width=\"20%\"><b>Ecole/entreprise : </b></td><td>Swissquote</td></tr><tr><td width=\"20%\"><b>Emplacement PDM : </b></td><td>Hors  EPFL</td></tr><tr><td width=\"20%\"><b>Enseignant : </b></td><td>Faltings Boi</td></tr><tr><td width=\"20%\"><b>Envoi 1er rappel : </b></td><td>Oui</td></tr><tr><td width=\"20%\"><b>Heure examen : </b></td><td>10:00</td></tr><tr><td width=\"20%\"><b>Inscription pdm verifi\\xe9e : </b></td><td>Oui</td></tr><tr><td width=\"20%\"><b>Nom expert : </b></td><td>Lafaille</td></tr><tr><td width=\"20%\"><b>Pr\\xe9nom expert : </b></td><td>Joel</td></tr><tr><td width=\"20%\"><b>Salle : </b></td><td>INR 212</td></tr><tr><td width=\"20%\"><b>Statut donn\\xe9es expert : </b></td><td>Valid\\xe9</td></tr><tr><td width=\"20%\"><b>Valable pour stage : </b></td><td>Oui</td></tr></table></td></tr></table></td></tr><tr><td><img src=\"/images/gestacplus/base/pixel.gif\" alt=\"\" style=\"display:block; border:none\" height=\"10\"></td></tr><tr><th colspan=\"2\"><a href=\"%0A         mailto:\"><font color=\"black\">Fawaz Kassem</font></a></th></tr><tr><td><br><b><a href=\"%0A           mailto:\"><font color=\"black\">Projet de master en informatique</font></a></b><br>(1 \\xe9t.)\\n      </td><td>Informatique, 2015-2016, Projet Master automne</td></tr><tr><td colspan=\"2\"><table border=\"1\" width=\"100%\"><tr><td width=\"20%\">Chiu Cheng-Hsiang</td><td></td><td><table border=\"0\"><tr><td width=\"20%\"><b>Assistant : </b></td><td>Mr.  Hamza Harkous</td></tr><tr><td width=\"20%\"><b>Civilit\\xe9 : </b></td><td>Monsieur</td></tr><tr><td width=\"20%\"><b>Date de d\\xe9but : </b></td><td>14.09.2015</td></tr><tr><td width=\"20%\"><b>Date de fin : </b></td><td>15.01.2016</td></tr><tr><td width=\"20%\"><b>Date examen : </b></td><td>03.02.2016</td></tr><tr><td width=\"20%\"><b>Ecole/entreprise : </b></td><td>EPFL</td></tr><tr><td width=\"20%\"><b>Emplacement PDM : </b></td><td>EPFL</td></tr><tr><td width=\"20%\"><b>Enseignant : </b></td><td>Aberer Karl</td></tr><tr><td width=\"20%\"><b>Envoi 1er rappel : </b></td><td>Oui</td></tr><tr><td width=\"20%\"><b>Expert (id) : </b></td><td>Fawaz Kassem</td></tr><tr><td width=\"20%\"><b>Heure examen : </b></td><td>17:00</td></tr><tr><td width=\"20%\"><b>Inscription pdm verifi\\xe9e : </b></td><td>Oui</td></tr><tr><td width=\"20%\"><b>Mots-cl\\xe9 : </b></td><td>Privacy, Adversary Machine Learning, Cloud Spaces</td></tr><tr><td width=\"20%\"><b>Nom expert : </b></td><td>Fawaz</td></tr><tr><td width=\"20%\"><b>Pr\\xe9nom expert : </b></td><td>Kassem</td></tr><tr><td width=\"20%\"><b>R\\xe9sum\\xe9 : </b></td><td>Recent events have shown that people\\xe2\\x80\\x99s privacy and liberty to interact with others online freely without any danger of being monitored is in grave danger. This is where technical people such as yourself are required: You can stem the flow of these attacks on privacy. NSA Armed with a combination of your technical knowledge and a desire for shaping the future of the web, you can join our project, CloudSpaces, which aims to do exactly that. CloudSpaces is a joint industry-academia project with partners including NEC, EPFL, URV, eyeOS, Tissat and Eurecom. </td></tr><tr><td width=\"20%\"><b>Salle : </b></td><td>BC129</td></tr><tr><td width=\"20%\"><b>Statut donn\\xe9es expert : </b></td><td>Valid\\xe9</td></tr></table></td></tr></table></td></tr><tr><td><img src=\"/images/gestacplus/base/pixel.gif\" alt=\"\" style=\"display:block; border:none\" height=\"10\"></td></tr><tr><th colspan=\"2\"><a href=\"%0A         mailto:\"><font color=\"black\">Fua Pascal</font></a></th></tr><tr><td><br><b><a href=\"%0A           mailto:\"><font color=\"black\">Projet de master en informatique</font></a></b><br>(4 \\xe9t.)\\n      </td><td>Informatique, 2015-2016, Projet Master automne</td></tr><tr><td colspan=\"2\"><table border=\"1\" width=\"100%\"><tr><td width=\"20%\">Katircioglu Isinsu</td><td></td><td><table border=\"0\"><tr><td width=\"20%\"><b>Civilit\\xe9 : </b></td><td>Monsieur</td></tr><tr><td width=\"20%\"><b>Date de d\\xe9but : </b></td><td>14.09.2015</td></tr><tr><td width=\"20%\"><b>Date de fin : </b></td><td>15.01.2016</td></tr><tr><td width=\"20%\"><b>Date examen : </b></td><td>05.02.2016</td></tr><tr><td width=\"20%\"><b>Ecole/entreprise : </b></td><td>EPFL</td></tr><tr><td width=\"20%\"><b>Emplacement PDM : </b></td><td>EPFL</td></tr><tr><td width=\"20%\"><b>Enseignant : </b></td><td>Fua Pascal</td></tr><tr><td width=\"20%\"><b>Envoi 1er rappel : </b></td><td>Oui</td></tr><tr><td width=\"20%\"><b>Envoi 2\\xe8me rappel : </b></td><td>Oui</td></tr><tr><td width=\"20%\"><b>Expert (id) : </b></td><td>Lengagne Richard</td></tr><tr><td width=\"20%\"><b>Heure examen : </b></td><td>17:00</td></tr><tr><td width=\"20%\"><b>Inscription pdm verifi\\xe9e : </b></td><td>Oui</td></tr><tr><td width=\"20%\"><b>Mots-cl\\xe9 : </b></td><td>3D Human Pose Estimation, Convolutional Neural Networks, Autoencoders, Pose Encoding</td></tr><tr><td width=\"20%\"><b>Nom expert : </b></td><td>Lengagne</td></tr><tr><td width=\"20%\"><b>Pr\\xe9nom expert : </b></td><td>Richard</td></tr><tr><td width=\"20%\"><b>R\\xe9sum\\xe9 : </b></td><td>The objective of this thesis is to introduce and evaluate several deep neural network architectures to predict the 3D human pose from a monocular RGB image. In this work, we propose a model that consists of a pose embedding network for structured learning of human body and a deep convolutional neural network for image feature extraction. The aim of the pose embedding scheme is to find a more representative space for 3D human pose and uncover certain kinematic dependencies that are not explicit in the original pose vector. We use different methods including autoencoders and PCA to acquire high and low dimensional pose projections respectively. We further extend our main CNN architecture to a multi-scale version which accepts various resolutions of the image as its input and processes them in parallel to attain coarse and fine contextual body information together. We evaluate our results on a large scale dataset and discuss the effect of each submodel to our final network. It is shown that an effective pose encoding and a multi-scale adaptation of CNN provide competitive results with the state-of-the-art. </td></tr><tr><td width=\"20%\"><b>Salle : </b></td><td>TBD</td></tr><tr><td width=\"20%\"><b>Statut donn\\xe9es expert : </b></td><td>Valid\\xe9</td></tr></table></td></tr><tr><td width=\"20%\">Ehrl Jakob Alexander Dominik</td><td></td><td><table border=\"0\"><tr><td width=\"20%\"><b>Assistant : </b></td><td>Verdie Yannick</td></tr><tr><td width=\"20%\"><b>Civilit\\xe9 : </b></td><td>Monsieur</td></tr><tr><td width=\"20%\"><b>Commentaire (\\xe9tu) : </b></td><td>This work presents an algorithm for the automated detection of doors in 3D point clouds of indoor environments. Other than prior solutions, this algorithm does not rely on wall detection. Instead, it builds up on a 2D room segmentation. This segmentation is often easier to obtain than a complete wall segmentation. In our work, we segment the rooms by identifying and clustering the ceiling points using a region growing approach. It exploits the fact that ceilings are partially planar surfaces with no occlusions. Given a 2D room segmentation, we simulate radial range scans at different viewpoints at multiple layers searching for the limits of an opening. We take scans from different view points such that the entire room is covered by the rays. Thus, there may be several scans needed to cover one room. To find the scan position, we separate each room into convex parts, each of which can be covered from one viewpoint. The main assumption is the following: Whenever the simulated scan goes beyond the current room\\xe2\\x80\\x99s outline, the ray must have passed through an opening. During the radial scan, we store the first and last locations where the scan ray leaves the current room and where it returns back into the room as a pair of door candidates. A set of filters enforces geometric assumptions on the found candidates and removes false positives. From the remaining candidates, we construct a connectivity graph and finally compute a list of doors. The doors are represented by a line segment in 2D.\\nExtensive evaluation proofed the algorithm to perform robustly in clouds with varying amounts of clutter.</td></tr><tr><td width=\"20%\"><b>Date de d\\xe9but : </b></td><td>17.08.2015</td></tr><tr><td width=\"20%\"><b>Date de fin : </b></td><td>12.02.2016</td></tr><tr><td width=\"20%\"><b>Date examen : </b></td><td>04.03.2016</td></tr><tr><td width=\"20%\"><b>Ecole/entreprise : </b></td><td>Robert Bosch LLC</td></tr><tr><td width=\"20%\"><b>Emplacement PDM : </b></td><td>Hors  EPFL</td></tr><tr><td width=\"20%\"><b>Enseignant : </b></td><td>Fua Pascal</td></tr><tr><td width=\"20%\"><b>Envoi 1er rappel : </b></td><td>Oui</td></tr><tr><td width=\"20%\"><b>Heure examen : </b></td><td>15:15</td></tr><tr><td width=\"20%\"><b>Inscription pdm verifi\\xe9e : </b></td><td>Oui</td></tr><tr><td width=\"20%\"><b>Mots-cl\\xe9 : </b></td><td>Semantic Modelling, 3D Point Clouds</td></tr><tr><td width=\"20%\"><b>Nom expert : </b></td><td>Miodrag</td></tr><tr><td width=\"20%\"><b>Pr\\xe9nom expert : </b></td><td>Dimitrijevic</td></tr><tr><td width=\"20%\"><b>R\\xe9sum\\xe9 : </b></td><td>This project is about developing algorithms for semantic interpretation of 3D point clouds in indoor environments. More specifically, innovative solutions for the following topics are to be developed:\\n1. Analysis of 3D point clouds and camera images\\n2. Automatic identification of entities in indoor environments including doors, walls, smoke detectors, furniture, windows 3. Automatic generation of accurate 3D models from the perceived entities</td></tr><tr><td width=\"20%\"><b>Salle : </b></td><td>TBD</td></tr><tr><td width=\"20%\"><b>Statut donn\\xe9es expert : </b></td><td>Valid\\xe9</td></tr><tr><td width=\"20%\"><b>Valable pour stage : </b></td><td>Oui</td></tr></table></td></tr><tr><td width=\"20%\">Constantin Victor</td><td></td><td><table border=\"0\"><tr><td width=\"20%\"><b>Civilit\\xe9 : </b></td><td>Monsieur</td></tr><tr><td width=\"20%\"><b>Date de d\\xe9but : </b></td><td>14.09.2015</td></tr><tr><td width=\"20%\"><b>Date de fin : </b></td><td>11.03.2016</td></tr><tr><td width=\"20%\"><b>Date examen : </b></td><td>15.04.2016</td></tr><tr><td width=\"20%\"><b>Ecole/entreprise : </b></td><td>nViso SA</td></tr><tr><td width=\"20%\"><b>Emplacement PDM : </b></td><td>Hors  EPFL</td></tr><tr><td width=\"20%\"><b>Enseignant : </b></td><td>Fua Pascal</td></tr><tr><td width=\"20%\"><b>Envoi 1er rappel : </b></td><td>Oui</td></tr><tr><td width=\"20%\"><b>Expert (id) : </b></td><td>Lengagne Richard</td></tr><tr><td width=\"20%\"><b>Heure examen : </b></td><td>17:45</td></tr><tr><td width=\"20%\"><b>Inscription pdm verifi\\xe9e : </b></td><td>Oui</td></tr><tr><td width=\"20%\"><b>Nom expert : </b></td><td>Richard</td></tr><tr><td width=\"20%\"><b>Pr\\xe9nom expert : </b></td><td>Lengagne</td></tr><tr><td width=\"20%\"><b>R\\xe9sum\\xe9 : </b></td><td>In machine learning, convolutional neural networks (CNN) are widely used models for image and video recognition tasks. With the rise of efficient GPU computing, it has become possible to train larger networks outperforming most state-of-the-art approaches. However such models, although highly accurate often require many computational resources to run in real-time and restrict their use to architectures requiring data to be sent to a server. The goal of this project is to explore the use of CNNs to solve common problems in facial analysis such as landmark and pose estimation that are optimized for high accuracy while being suitable for low power, real-time embedded systems. Specifically the project involves:\\n\\n- Using RGB-D sensor data from a depth camera module to train a CNN Multi-task model for accurate facial landmark detection and pose estimation in natural environments. \\n- Find optimal training parameters to make a good tradeoff between accuary and run-time cost for an embedded DSP processor.\\n- Build a real-time demonstrator of the CNN model on an embedded DSP processor to measure performance on an embedded system.</td></tr><tr><td width=\"20%\"><b>Salle : </b></td><td>TBD</td></tr><tr><td width=\"20%\"><b>Statut donn\\xe9es expert : </b></td><td>Valid\\xe9</td></tr><tr><td width=\"20%\"><b>Valable pour stage : </b></td><td>Oui</td></tr></table></td></tr><tr><td width=\"20%\">Anadon Laurent Marie Patrick</td><td></td><td><table border=\"0\"><tr><td width=\"20%\"><b>Civilit\\xe9 : </b></td><td>Monsieur</td></tr><tr><td width=\"20%\"><b>Date de d\\xe9but : </b></td><td>14.09.2015</td></tr><tr><td width=\"20%\"><b>Date de fin : </b></td><td>11.03.2016</td></tr><tr><td width=\"20%\"><b>Date examen : </b></td><td>15.04.2016</td></tr><tr><td width=\"20%\"><b>Ecole/entreprise : </b></td><td>nViso</td></tr><tr><td width=\"20%\"><b>Emplacement PDM : </b></td><td>Hors  EPFL</td></tr><tr><td width=\"20%\"><b>Enseignant : </b></td><td>Fua Pascal</td></tr><tr><td width=\"20%\"><b>Envoi 1er rappel : </b></td><td>Oui</td></tr><tr><td width=\"20%\"><b>Expert (id) : </b></td><td>Lengagne Richard</td></tr><tr><td width=\"20%\"><b>Heure examen : </b></td><td>17:00</td></tr><tr><td width=\"20%\"><b>Inscription pdm verifi\\xe9e : </b></td><td>Oui</td></tr><tr><td width=\"20%\"><b>Nom expert : </b></td><td>Richard</td></tr><tr><td width=\"20%\"><b>Pr\\xe9nom expert : </b></td><td>Lengagne</td></tr><tr><td width=\"20%\"><b>R\\xe9sum\\xe9 : </b></td><td>Overview:\\nFace normalization is the process of synthesizing frontal facing views of faces appearing in single unconstrained photos or single frames of videos. The process can substantially boost the performance of face recognition systems and deep learning algorithms based on CNNs in challenging natural environments \"in the wild\". This project will explore using a single, unmodified, 3D surface as an approximation to the shape of all input faces for the task for face normalization. nViso will provide access to both a generic 3D model and advanced face tracking software to provide 170 points that map to the underlying face structure for unseen faces in photos and videos.\\n\\nObjectives:\\n- Develop a straightforward, efficient and easy to implement method for face normalization that can produce aesthetic new frontal views to improve face recognition and demographic estimation in C++.\\n- Develop a benchmark procedure to estimate accuracy of face normalization. Evaluate deep learning accuracy for common tasks with / without face normalization.</td></tr><tr><td width=\"20%\"><b>Salle : </b></td><td>TBD</td></tr><tr><td width=\"20%\"><b>Statut donn\\xe9es expert : </b></td><td>Valid\\xe9</td></tr><tr><td width=\"20%\"><b>Valable pour stage : </b></td><td>Oui</td></tr></table></td></tr></table></td></tr><tr><td><img src=\"/images/gestacplus/base/pixel.gif\" alt=\"\" style=\"display:block; border:none\" height=\"10\"></td></tr><tr><th colspan=\"2\"><a href=\"%0A         mailto:\"><font color=\"black\">Gillet Denis</font></a></th></tr><tr><td><br><b><a href=\"%0A           mailto:\"><font color=\"black\">Projet de master en informatique</font></a></b><br>(1 \\xe9t.)\\n      </td><td>Informatique, 2015-2016, Projet Master automne</td></tr><tr><td colspan=\"2\"><table border=\"1\" width=\"100%\"><tr><td width=\"20%\">Sandoz David</td><td></td><td><table border=\"0\"><tr><td width=\"20%\"><b>Civilit\\xe9 : </b></td><td>Monsieur</td></tr><tr><td width=\"20%\"><b>Date de d\\xe9but : </b></td><td>14.09.2015</td></tr><tr><td width=\"20%\"><b>Date de fin : </b></td><td>11.03.2016</td></tr><tr><td width=\"20%\"><b>Date examen : </b></td><td>07.04.2016</td></tr><tr><td width=\"20%\"><b>Ecole/entreprise : </b></td><td>Nothing GmbH</td></tr><tr><td width=\"20%\"><b>Emplacement PDM : </b></td><td>Hors  EPFL</td></tr><tr><td width=\"20%\"><b>Enseignant : </b></td><td>Gillet Denis</td></tr><tr><td width=\"20%\"><b>Expert (id) : </b></td><td>van Rooden Bastiaan</td></tr><tr><td width=\"20%\"><b>Heure examen : </b></td><td>11:00</td></tr><tr><td width=\"20%\"><b>Inscription pdm verifi\\xe9e : </b></td><td>Oui</td></tr><tr><td width=\"20%\"><b>Nom expert : </b></td><td>van Rooden</td></tr><tr><td width=\"20%\"><b>Pr\\xe9nom expert : </b></td><td>Bastiaan</td></tr><tr><td width=\"20%\"><b>R\\xe9sum\\xe9 : </b></td><td>Humans have ideas and they are generally improved when those are shared and dis- cussed among several people. However, it can quickly get quite messy so our goal is to design and develop a platform \\xe2\\x80\\x93 Flok \\xe2\\x80\\x93 that significantly improves collaboration around ideas, while providing an experience as human as possible. To do so, we took a user- centered approach by using processes such as the creation of personas, user story map- ping, wireframing and prototyping. Based on those processes and a well defined informa- tion architecture, we built a front-end application. The back-end also has an important role in order to have a fully working final product. However, we let the experience drive the product, not vice versa. Therefore, to make a good experience, we prioritized user testing over implementing the back-end as the given time frame was not allowing us to do both. We were able to improve the front-end and verify some of our assumptions by doing three test sessions. The feedback we got is promising and tells us we are going in the right direction. Building the back-end is one of the important next steps that will allow us to have a fully working application. Combining that with more user testing will allow us to validate or invalidate further assumptions.</td></tr><tr><td width=\"20%\"><b>Salle : </b></td><td>ME B10</td></tr><tr><td width=\"20%\"><b>Statut donn\\xe9es expert : </b></td><td>Valid\\xe9</td></tr><tr><td width=\"20%\"><b>Valable pour stage : </b></td><td>Oui</td></tr></table></td></tr></table></td></tr><tr><td><img src=\"/images/gestacplus/base/pixel.gif\" alt=\"\" style=\"display:block; border:none\" height=\"10\"></td></tr><tr><th colspan=\"2\"><a href=\"%0A         mailto:\"><font color=\"black\">Goosen Henk</font></a></th></tr><tr><td><br><b><a href=\"%0A           mailto:\"><font color=\"black\">Stage d\\'ing\\xe9nieur cr\\xe9dit\\xe9 avec le PDM (master en Informatique)</font></a></b><br>(1 \\xe9t.)\\n      </td><td>Informatique, 2015-2016, Projet Master automne</td></tr><tr><td colspan=\"2\"><table border=\"1\" width=\"100%\"><tr><td width=\"20%\">Beguet Eric</td><td></td><td><table border=\"0\"><tr><td width=\"20%\"><b>Date de d\\xe9but : </b></td><td>15.02.2015</td></tr><tr><td width=\"20%\"><b>Date de fin : </b></td><td>15.08.2015</td></tr></table></td></tr></table></td></tr><tr><td><img src=\"/images/gestacplus/base/pixel.gif\" alt=\"\" style=\"display:block; border:none\" height=\"10\"></td></tr><tr><th colspan=\"2\"><a href=\"%0A         mailto:\"><font color=\"black\">Guerraoui Rachid</font></a></th></tr><tr><td><br><b><a href=\"%0A           mailto:\"><font color=\"black\">Projet de master en informatique</font></a></b><br>(1 \\xe9t.)\\n      </td><td>Informatique, 2015-2016, Projet Master automne</td></tr><tr><td colspan=\"2\"><table border=\"1\" width=\"100%\"><tr><td width=\"20%\">Drissi El Kamili Nassim</td><td></td><td><table border=\"0\"><tr><td width=\"20%\"><b>Civilit\\xe9 : </b></td><td>Monsieur</td></tr><tr><td width=\"20%\"><b>Date de d\\xe9but : </b></td><td>31.08.2015</td></tr><tr><td width=\"20%\"><b>Date de fin : </b></td><td>26.02.2016</td></tr><tr><td width=\"20%\"><b>Date examen : </b></td><td>16.03.2016</td></tr><tr><td width=\"20%\"><b>Ecole/entreprise : </b></td><td>Event Knowledge Services (EKS)</td></tr><tr><td width=\"20%\"><b>Emplacement PDM : </b></td><td>Hors  EPFL</td></tr><tr><td width=\"20%\"><b>Enseignant : </b></td><td>Guerraoui Rachid</td></tr><tr><td width=\"20%\"><b>Envoi 1er rappel : </b></td><td>Oui</td></tr><tr><td width=\"20%\"><b>Heure examen : </b></td><td>11:00</td></tr><tr><td width=\"20%\"><b>Inscription pdm verifi\\xe9e : </b></td><td>Oui</td></tr><tr><td width=\"20%\"><b>Mots-cl\\xe9 : </b></td><td>data, storage, query, visualization, sport</td></tr><tr><td width=\"20%\"><b>Nom expert : </b></td><td>Piguet</td></tr><tr><td width=\"20%\"><b>Pr\\xe9nom expert : </b></td><td>Laurent</td></tr><tr><td width=\"20%\"><b>R\\xe9sum\\xe9 : </b></td><td>All major sport events such as Olympic Games, Commonwealth Games, World Championships, and more, require excellence in planning and organisation in order to reduce risk and cost. To this end, knowledge transfer plays an important role in helping future organisers have access to, and learn from, the experiences of previous event editions. EKS helps event owners and organisers bid for, plan and deliver successful major sport events. As part of our mandate, for the last 10 years, we have been managing knowledge transfer programs for several organisations, and have assembled a repository of major event data spanning multiple editions across multiple events. We are delivering access to this information via dedicated extranet web applications. Following the 2014 Commonwealth Games in Glasgow, beyond documents about planning and processes, an increased effort has been focused on collecting key stats and metrics, as they apply to all functions of the event. This data is essential when planning the scope and scale of a future edition of an event. It is therefore necessary to provide an efficient way to store, query and present this data to users, during the varying phases of planning. Objectives 1. Based on the data collected so far, define the most suitable architecture for storage and querying of the data sets. Because of varying degrees of data quality, an evolving environment and changes in the requirements, it is no always possible to collect data that is standardised. Therefore, the tool will have to be able to handle these differences. 2. Define and design a web application interface that enables users to efficiently query and visualize results, in tabular and graphical fashion. 3. Architect and build the designed solution. This will preferably be by integrating existing open-source systems, probably with custom modifications or extensions, as well as integration parts. It will also need to be integrated into EKS\\' existing IT environment. 4. Demonstrate proof of concept via several examples of analysis, as provided by future organizers of events.</td></tr><tr><td width=\"20%\"><b>Salle : </b></td><td>BC229</td></tr><tr><td width=\"20%\"><b>Statut donn\\xe9es expert : </b></td><td>Valid\\xe9</td></tr><tr><td width=\"20%\"><b>Valable pour stage : </b></td><td>Oui</td></tr></table></td></tr></table></td></tr><tr><td><img src=\"/images/gestacplus/base/pixel.gif\" alt=\"\" style=\"display:block; border:none\" height=\"10\"></td></tr><tr><th colspan=\"2\"><a href=\"%0A         mailto:\"><font color=\"black\">Hubaux Jean-Pierre</font></a></th></tr><tr><td><br><b><a href=\"%0A           mailto:\"><font color=\"black\">Projet de master en informatique</font></a></b><br>(1 \\xe9t.)\\n      </td><td>Informatique, 2015-2016, Projet Master automne</td></tr><tr><td colspan=\"2\"><table border=\"1\" width=\"100%\"><tr><td width=\"20%\">Jacot-Guillarmod Bastien</td><td></td><td><table border=\"0\"><tr><td width=\"20%\"><b>Assistant : </b></td><td>Anh Pham</td></tr><tr><td width=\"20%\"><b>Civilit\\xe9 : </b></td><td>Monsieur</td></tr><tr><td width=\"20%\"><b>Date de d\\xe9but : </b></td><td>14.09.2015</td></tr><tr><td width=\"20%\"><b>Date de fin : </b></td><td>15.01.2016</td></tr><tr><td width=\"20%\"><b>Date examen : </b></td><td>28.01.2016</td></tr><tr><td width=\"20%\"><b>Ecole/entreprise : </b></td><td>EPFL</td></tr><tr><td width=\"20%\"><b>Emplacement PDM : </b></td><td>EPFL</td></tr><tr><td width=\"20%\"><b>Enseignant : </b></td><td>Hubaux Jean-Pierre</td></tr><tr><td width=\"20%\"><b>Envoi 1er rappel : </b></td><td>Oui</td></tr><tr><td width=\"20%\"><b>Envoi 2\\xe8me rappel : </b></td><td>Oui</td></tr><tr><td width=\"20%\"><b>Expert (id) : </b></td><td>Huguenin K\\xe9vin</td></tr><tr><td width=\"20%\"><b>Heure examen : </b></td><td>10:00</td></tr><tr><td width=\"20%\"><b>Inscription pdm verifi\\xe9e : </b></td><td>Oui</td></tr><tr><td width=\"20%\"><b>Nom expert : </b></td><td>Huguenin</td></tr><tr><td width=\"20%\"><b>Pr\\xe9nom expert : </b></td><td>K\\xe9vin</td></tr><tr><td width=\"20%\"><b>R\\xe9sum\\xe9 : </b></td><td>Ride-hailing services are, in a way, taxi platforms 2.0. Using GPS tracking and credit\\ncard payments, these services, for instance Uber or Lyft, have become increasingly\\npopular for their convenience and their cheaper price in comparison to their major\\ncompetitor, the conventional taxi. However, these services are able to track every user\\nin their system as soon as they step inside their car. E.g., Uber data analysts studied\\nthe probability of one-night stand in different US cities, based only on the rides taken\\nby their users. Even though these analysis were performed from the statistical point of\\nview, ride-hailing services are also able to track individual drivers or riders, as it was\\nstated by an Uber executive planning to \"dig up dirt\" on its critics in media. These\\nconcerns led to the PrivateRide project, a secure, privacy-preserving ride-hailing\\nservice.\\nPrivateRide provides rides anonymity and unlinkability for the riders with the use\\nof anonymous credentials, automatic and anonymous payment with e- cash and\\nasynchronous anonymous reputation rating. The main goal of this thesis is the\\nevaluation of the properties of PrivateRide in regard of the privacy of the riders and\\ndrivers. To assess these properties, we analyze the threat of a honest-but-curious\\nservice provider using PrivateRide protocol, interested in breaking the anonymity and\\nunlinkability of the rides and estimate the inference capabilities of such an adversary.\\nTo simulate these kinds of attack, we use the New York City 2013 Yellow Taxi dataset, a\\ndatabase containing all the rides performed by yellow taxis in New York City. For each\\nride, the dataset describes the pick up and drop off location and time, the anonymized\\nbut linkable identity of the driver, as well as numerous less important information,\\nsuch as the number of passengers. The goal is to provide a deeper analysis of the\\nprivacy guarantees of PrivateRide.\\nThis thesis also discuss the design choices an implementation of PrivateRide should\\nconsider in order to avoid breaking its privacy and security properties through side-\\nchannels attack, mainly time correlation.</td></tr><tr><td width=\"20%\"><b>Salle : </b></td><td>BC04</td></tr><tr><td width=\"20%\"><b>Statut donn\\xe9es expert : </b></td><td>Valid\\xe9</td></tr></table></td></tr></table></td></tr><tr><td><img src=\"/images/gestacplus/base/pixel.gif\" alt=\"\" style=\"display:block; border:none\" height=\"10\"></td></tr><tr><th colspan=\"2\"><a href=\"%0A         mailto:\"><font color=\"black\">Huguenin K\\xe9vin</font></a></th></tr><tr><td><br><b><a href=\"%0A           mailto:\"><font color=\"black\">Projet de master en informatique</font></a></b><br>(1 \\xe9t.)\\n      </td><td>Informatique, 2015-2016, Projet Master automne</td></tr><tr><td colspan=\"2\"><table border=\"1\" width=\"100%\"><tr><td width=\"20%\">Jacot-Guillarmod Bastien</td><td></td><td><table border=\"0\"><tr><td width=\"20%\"><b>Assistant : </b></td><td>Anh Pham</td></tr><tr><td width=\"20%\"><b>Civilit\\xe9 : </b></td><td>Monsieur</td></tr><tr><td width=\"20%\"><b>Date de d\\xe9but : </b></td><td>14.09.2015</td></tr><tr><td width=\"20%\"><b>Date de fin : </b></td><td>15.01.2016</td></tr><tr><td width=\"20%\"><b>Date examen : </b></td><td>28.01.2016</td></tr><tr><td width=\"20%\"><b>Ecole/entreprise : </b></td><td>EPFL</td></tr><tr><td width=\"20%\"><b>Emplacement PDM : </b></td><td>EPFL</td></tr><tr><td width=\"20%\"><b>Enseignant : </b></td><td>Hubaux Jean-Pierre</td></tr><tr><td width=\"20%\"><b>Envoi 1er rappel : </b></td><td>Oui</td></tr><tr><td width=\"20%\"><b>Envoi 2\\xe8me rappel : </b></td><td>Oui</td></tr><tr><td width=\"20%\"><b>Expert (id) : </b></td><td>Huguenin K\\xe9vin</td></tr><tr><td width=\"20%\"><b>Heure examen : </b></td><td>10:00</td></tr><tr><td width=\"20%\"><b>Inscription pdm verifi\\xe9e : </b></td><td>Oui</td></tr><tr><td width=\"20%\"><b>Nom expert : </b></td><td>Huguenin</td></tr><tr><td width=\"20%\"><b>Pr\\xe9nom expert : </b></td><td>K\\xe9vin</td></tr><tr><td width=\"20%\"><b>R\\xe9sum\\xe9 : </b></td><td>Ride-hailing services are, in a way, taxi platforms 2.0. Using GPS tracking and credit\\ncard payments, these services, for instance Uber or Lyft, have become increasingly\\npopular for their convenience and their cheaper price in comparison to their major\\ncompetitor, the conventional taxi. However, these services are able to track every user\\nin their system as soon as they step inside their car. E.g., Uber data analysts studied\\nthe probability of one-night stand in different US cities, based only on the rides taken\\nby their users. Even though these analysis were performed from the statistical point of\\nview, ride-hailing services are also able to track individual drivers or riders, as it was\\nstated by an Uber executive planning to \"dig up dirt\" on its critics in media. These\\nconcerns led to the PrivateRide project, a secure, privacy-preserving ride-hailing\\nservice.\\nPrivateRide provides rides anonymity and unlinkability for the riders with the use\\nof anonymous credentials, automatic and anonymous payment with e- cash and\\nasynchronous anonymous reputation rating. The main goal of this thesis is the\\nevaluation of the properties of PrivateRide in regard of the privacy of the riders and\\ndrivers. To assess these properties, we analyze the threat of a honest-but-curious\\nservice provider using PrivateRide protocol, interested in breaking the anonymity and\\nunlinkability of the rides and estimate the inference capabilities of such an adversary.\\nTo simulate these kinds of attack, we use the New York City 2013 Yellow Taxi dataset, a\\ndatabase containing all the rides performed by yellow taxis in New York City. For each\\nride, the dataset describes the pick up and drop off location and time, the anonymized\\nbut linkable identity of the driver, as well as numerous less important information,\\nsuch as the number of passengers. The goal is to provide a deeper analysis of the\\nprivacy guarantees of PrivateRide.\\nThis thesis also discuss the design choices an implementation of PrivateRide should\\nconsider in order to avoid breaking its privacy and security properties through side-\\nchannels attack, mainly time correlation.</td></tr><tr><td width=\"20%\"><b>Salle : </b></td><td>BC04</td></tr><tr><td width=\"20%\"><b>Statut donn\\xe9es expert : </b></td><td>Valid\\xe9</td></tr></table></td></tr></table></td></tr><tr><td><img src=\"/images/gestacplus/base/pixel.gif\" alt=\"\" style=\"display:block; border:none\" height=\"10\"></td></tr><tr><th colspan=\"2\"><a href=\"%0A         mailto:\"><font color=\"black\">Ijspeert Auke</font></a></th></tr><tr><td><br><b><a href=\"%0A           mailto:\"><font color=\"black\">Projet de master en informatique</font></a></b><br>(2 \\xe9t.)\\n      </td><td>Informatique, 2015-2016, Projet Master automne</td></tr><tr><td colspan=\"2\"><table border=\"1\" width=\"100%\"><tr><td width=\"20%\">La Spada Luca</td><td></td><td><table border=\"0\"><tr><td width=\"20%\"><b>Assistant : </b></td><td>Crespi Alessandro</td></tr><tr><td width=\"20%\"><b>Civilit\\xe9 : </b></td><td>Monsieur</td></tr><tr><td width=\"20%\"><b>Date de d\\xe9but : </b></td><td>14.09.2015</td></tr><tr><td width=\"20%\"><b>Date de fin : </b></td><td>15.01.2016</td></tr><tr><td width=\"20%\"><b>Date examen : </b></td><td>03.02.2016</td></tr><tr><td width=\"20%\"><b>Ecole/entreprise : </b></td><td>EPFL</td></tr><tr><td width=\"20%\"><b>Emplacement PDM : </b></td><td>EPFL</td></tr><tr><td width=\"20%\"><b>Enseignant : </b></td><td>Ijspeert Auke</td></tr><tr><td width=\"20%\"><b>Envoi 1er rappel : </b></td><td>Oui</td></tr><tr><td width=\"20%\"><b>Envoi 2\\xe8me rappel : </b></td><td>Oui</td></tr><tr><td width=\"20%\"><b>Expert (id) : </b></td><td>Estier Thomas</td></tr><tr><td width=\"20%\"><b>Heure examen : </b></td><td>10:00</td></tr><tr><td width=\"20%\"><b>Inscription pdm verifi\\xe9e : </b></td><td>Oui</td></tr><tr><td width=\"20%\"><b>Mots-cl\\xe9 : </b></td><td>robotics, UX design, HMI</td></tr><tr><td width=\"20%\"><b>Nom expert : </b></td><td>Estier</td></tr><tr><td width=\"20%\"><b>Pr\\xe9nom expert : </b></td><td>Thomas</td></tr><tr><td width=\"20%\"><b>Salle : </b></td><td>INN211 + videoconference</td></tr><tr><td width=\"20%\"><b>Statut donn\\xe9es expert : </b></td><td>Valid\\xe9</td></tr></table></td></tr><tr><td width=\"20%\">Jin Jialei</td><td></td><td><table border=\"0\"><tr><td width=\"20%\"><b>Assistant : </b></td><td>Salman Faraji</td></tr><tr><td width=\"20%\"><b>Civilit\\xe9 : </b></td><td>Monsieur</td></tr><tr><td width=\"20%\"><b>Date de d\\xe9but : </b></td><td>14.09.2015</td></tr><tr><td width=\"20%\"><b>Date de fin : </b></td><td>15.01.2016</td></tr><tr><td width=\"20%\"><b>Date examen : </b></td><td>12.02.2016</td></tr><tr><td width=\"20%\"><b>Ecole/entreprise : </b></td><td>EPFL</td></tr><tr><td width=\"20%\"><b>Emplacement PDM : </b></td><td>EPFL</td></tr><tr><td width=\"20%\"><b>Enseignant : </b></td><td>Ijspeert Auke</td></tr><tr><td width=\"20%\"><b>Envoi 1er rappel : </b></td><td>Oui</td></tr><tr><td width=\"20%\"><b>Envoi 2\\xe8me rappel : </b></td><td>Oui</td></tr><tr><td width=\"20%\"><b>Expert (id) : </b></td><td>Cucu Lucian</td></tr><tr><td width=\"20%\"><b>Heure examen : </b></td><td>10:00</td></tr><tr><td width=\"20%\"><b>Inscription pdm verifi\\xe9e : </b></td><td>Oui</td></tr><tr><td width=\"20%\"><b>Mots-cl\\xe9 : </b></td><td>Robotics, Vision, SLAM, Kalman filtering, Xtion</td></tr><tr><td width=\"20%\"><b>Nom expert : </b></td><td>Cucu</td></tr><tr><td width=\"20%\"><b>Pr\\xe9nom expert : </b></td><td>Lucian</td></tr><tr><td width=\"20%\"><b>R\\xe9sum\\xe9 : </b></td><td>The aim of this project is to localize and map the robot in the environment using the the new head we are currently building for the Coman robot. The head is equipped with two very fast and high resolution cameras, a depth sensor like Kinect, an IMU and a fast CPU. We already have proper algorithms provided by Karlsruhe Institute of Technology. The student should integrate all the algorithms, consider the kinematics of the whole body and combine the lower body state estimation with head state estimation to do SLAM. The locomotion algorithm as well as both state estimation algorithms are therefore available. Requirement for this project is indeed C++ and Kalman filtering.</td></tr><tr><td width=\"20%\"><b>Salle : </b></td><td>INN211</td></tr><tr><td width=\"20%\"><b>Statut donn\\xe9es expert : </b></td><td>Valid\\xe9</td></tr></table></td></tr></table></td></tr><tr><td><img src=\"/images/gestacplus/base/pixel.gif\" alt=\"\" style=\"display:block; border:none\" height=\"10\"></td></tr><tr><th colspan=\"2\"><a href=\"%0A         mailto:\"><font color=\"black\">Jordane Giuly</font></a></th></tr><tr><td><br><b><a href=\"%0A           mailto:\"><font color=\"black\">Projet de master en informatique</font></a></b><br>(1 \\xe9t.)\\n      </td><td>Informatique, 2015-2016, Projet Master automne</td></tr><tr><td colspan=\"2\"><table border=\"1\" width=\"100%\"><tr><td width=\"20%\">Faucon Louis Pierre</td><td></td><td><table border=\"0\"><tr><td width=\"20%\"><b>Civilit\\xe9 : </b></td><td>Monsieur</td></tr><tr><td width=\"20%\"><b>Date de d\\xe9but : </b></td><td>14.09.2015</td></tr><tr><td width=\"20%\"><b>Date de fin : </b></td><td>11.03.2016</td></tr><tr><td width=\"20%\"><b>Date examen : </b></td><td>04.04.2016</td></tr><tr><td width=\"20%\"><b>Ecole/entreprise : </b></td><td>Coorpacademy</td></tr><tr><td width=\"20%\"><b>Emplacement PDM : </b></td><td>Hors  EPFL</td></tr><tr><td width=\"20%\"><b>Enseignant : </b></td><td>Dillenbourg Pierre</td></tr><tr><td width=\"20%\"><b>Envoi 1er rappel : </b></td><td>Oui</td></tr><tr><td width=\"20%\"><b>Expert (id) : </b></td><td>Jordane Giuly</td></tr><tr><td width=\"20%\"><b>Heure examen : </b></td><td>16:00</td></tr><tr><td width=\"20%\"><b>Inscription pdm verifi\\xe9e : </b></td><td>Oui</td></tr><tr><td width=\"20%\"><b>Mots-cl\\xe9 : </b></td><td>Machine Learning MOOC data analysis digital education</td></tr><tr><td width=\"20%\"><b>Nom expert : </b></td><td>Jordane</td></tr><tr><td width=\"20%\"><b>Pr\\xe9nom expert : </b></td><td>Giuly</td></tr><tr><td width=\"20%\"><b>R\\xe9sum\\xe9 : </b></td><td>Le projet consistera en l\\'etude des donn\\xe9es issues des MOOCs de Coorpacademy puis au developpement d\\'un outil d\\'analyse ou de prediction en utilisant des methodes d\\'apprentissage ou de statistique.</td></tr><tr><td width=\"20%\"><b>Salle : </b></td><td>RLC D1 661</td></tr><tr><td width=\"20%\"><b>Statut donn\\xe9es expert : </b></td><td>Valid\\xe9</td></tr><tr><td width=\"20%\"><b>Valable pour stage : </b></td><td>Oui</td></tr></table></td></tr></table></td></tr><tr><td><img src=\"/images/gestacplus/base/pixel.gif\" alt=\"\" style=\"display:block; border:none\" height=\"10\"></td></tr><tr><th colspan=\"2\"><a href=\"%0A         mailto:\"><font color=\"black\">Jovanovic Vojin</font></a></th></tr><tr><td><br><b><a href=\"%0A           mailto:\"><font color=\"black\">Projet de master en informatique</font></a></b><br>(1 \\xe9t.)\\n      </td><td>Informatique, 2015-2016, Projet Master automne</td></tr><tr><td colspan=\"2\"><table border=\"1\" width=\"100%\"><tr><td width=\"20%\">Liu Fengyun</td><td></td><td><table border=\"0\"><tr><td width=\"20%\"><b>Assistant : </b></td><td>Stucki Sandro, Nada Amin</td></tr><tr><td width=\"20%\"><b>Civilit\\xe9 : </b></td><td>Monsieur</td></tr><tr><td width=\"20%\"><b>Date de d\\xe9but : </b></td><td>14.09.2015</td></tr><tr><td width=\"20%\"><b>Date de fin : </b></td><td>15.01.2016</td></tr><tr><td width=\"20%\"><b>Date de naissance : </b></td><td>14.01.1985</td></tr><tr><td width=\"20%\"><b>Date examen : </b></td><td>05.02.2016</td></tr><tr><td width=\"20%\"><b>Ecole/entreprise : </b></td><td>EPFL</td></tr><tr><td width=\"20%\"><b>Emplacement PDM : </b></td><td>EPFL</td></tr><tr><td width=\"20%\"><b>Enseignant : </b></td><td>Odersky Martin</td></tr><tr><td width=\"20%\"><b>Envoi 1er rappel : </b></td><td>Oui</td></tr><tr><td width=\"20%\"><b>Expert (id) : </b></td><td>Jovanovic Vojin</td></tr><tr><td width=\"20%\"><b>Heure examen : </b></td><td>14:00</td></tr><tr><td width=\"20%\"><b>Inscription pdm verifi\\xe9e : </b></td><td>Oui</td></tr><tr><td width=\"20%\"><b>Mots-cl\\xe9 : </b></td><td>type system</td></tr><tr><td width=\"20%\"><b>Nom expert : </b></td><td>Jovanovic</td></tr><tr><td width=\"20%\"><b>Pr\\xe9nom expert : </b></td><td>Vojin</td></tr><tr><td width=\"20%\"><b>R\\xe9sum\\xe9 : </b></td><td>A type system for controlling variable capture</td></tr><tr><td width=\"20%\"><b>Salle : </b></td><td>INR 331</td></tr><tr><td width=\"20%\"><b>Statut donn\\xe9es expert : </b></td><td>Valid\\xe9</td></tr></table></td></tr></table></td></tr><tr><td><img src=\"/images/gestacplus/base/pixel.gif\" alt=\"\" style=\"display:block; border:none\" height=\"10\"></td></tr><tr><th colspan=\"2\"><a href=\"%0A         mailto:\"><font color=\"black\">Junod Antoine</font></a></th></tr><tr><td><br><b><a href=\"%0A           mailto:\"><font color=\"black\">Projet de master en informatique</font></a></b><br>(1 \\xe9t.)\\n      </td><td>Informatique, 2015-2016, Projet Master automne</td></tr><tr><td colspan=\"2\"><table border=\"1\" width=\"100%\"><tr><td width=\"20%\">Hahling Robin Philippe</td><td></td><td><table border=\"0\"><tr><td width=\"20%\"><b>Assistant : </b></td><td>Antoine Junod</td></tr><tr><td width=\"20%\"><b>Civilit\\xe9 : </b></td><td>Monsieur</td></tr><tr><td width=\"20%\"><b>Date de d\\xe9but : </b></td><td>14.09.2015</td></tr><tr><td width=\"20%\"><b>Date de fin : </b></td><td>11.03.2016</td></tr><tr><td width=\"20%\"><b>Date de naissance : </b></td><td>01.06.1982</td></tr><tr><td width=\"20%\"><b>Date examen : </b></td><td>08.04.2016</td></tr><tr><td width=\"20%\"><b>Ecole/entreprise : </b></td><td>Nagravision SA, Kudelski Security</td></tr><tr><td width=\"20%\"><b>Emplacement PDM : </b></td><td>Hors  EPFL</td></tr><tr><td width=\"20%\"><b>Enseignant : </b></td><td>Koch Christoph</td></tr><tr><td width=\"20%\"><b>Expert (id) : </b></td><td>Junod Antoine</td></tr><tr><td width=\"20%\"><b>Heure examen : </b></td><td>10:30</td></tr><tr><td width=\"20%\"><b>Inscription pdm verifi\\xe9e : </b></td><td>Oui</td></tr><tr><td width=\"20%\"><b>Mots-cl\\xe9 : </b></td><td>big data, Internet, security</td></tr><tr><td width=\"20%\"><b>Nom expert : </b></td><td>Junod</td></tr><tr><td width=\"20%\"><b>Pr\\xe9nom expert : </b></td><td>Antoine</td></tr><tr><td width=\"20%\"><b>R\\xe9sum\\xe9 : </b></td><td>It is a well-known fact that today\\'s Internet is insecure. The goal of that project is twofold. First, develop metrics on the Internet insecurity. Then, relying on the in-house, big data-based wire-speed port scanning infrastructure, collect data in a continuous way to feed the metrics and build an Internet insecurity index per country and industry. - Take over the big data infrastructure used for the wire-speed port scanning. - Develop metrics. - Collect data in a continuous way to compute metrics. - Build and populate the index.</td></tr><tr><td width=\"20%\"><b>Salle : </b></td><td>BC229</td></tr><tr><td width=\"20%\"><b>Statut donn\\xe9es expert : </b></td><td>Valid\\xe9</td></tr></table></td></tr></table></td></tr><tr><td><img src=\"/images/gestacplus/base/pixel.gif\" alt=\"\" style=\"display:block; border:none\" height=\"10\"></td></tr><tr><th colspan=\"2\"><a href=\"%0A         mailto:\"><font color=\"black\">Koch Christoph</font></a></th></tr><tr><td><br><b><a href=\"%0A           mailto:\"><font color=\"black\">Projet de master en informatique</font></a></b><br>(2 \\xe9t.)\\n      </td><td>Informatique, 2015-2016, Projet Master automne</td></tr><tr><td colspan=\"2\"><table border=\"1\" width=\"100%\"><tr><td width=\"20%\">Hahling Robin Philippe</td><td></td><td><table border=\"0\"><tr><td width=\"20%\"><b>Assistant : </b></td><td>Antoine Junod</td></tr><tr><td width=\"20%\"><b>Civilit\\xe9 : </b></td><td>Monsieur</td></tr><tr><td width=\"20%\"><b>Date de d\\xe9but : </b></td><td>14.09.2015</td></tr><tr><td width=\"20%\"><b>Date de fin : </b></td><td>11.03.2016</td></tr><tr><td width=\"20%\"><b>Date de naissance : </b></td><td>01.06.1982</td></tr><tr><td width=\"20%\"><b>Date examen : </b></td><td>08.04.2016</td></tr><tr><td width=\"20%\"><b>Ecole/entreprise : </b></td><td>Nagravision SA, Kudelski Security</td></tr><tr><td width=\"20%\"><b>Emplacement PDM : </b></td><td>Hors  EPFL</td></tr><tr><td width=\"20%\"><b>Enseignant : </b></td><td>Koch Christoph</td></tr><tr><td width=\"20%\"><b>Expert (id) : </b></td><td>Junod Antoine</td></tr><tr><td width=\"20%\"><b>Heure examen : </b></td><td>10:30</td></tr><tr><td width=\"20%\"><b>Inscription pdm verifi\\xe9e : </b></td><td>Oui</td></tr><tr><td width=\"20%\"><b>Mots-cl\\xe9 : </b></td><td>big data, Internet, security</td></tr><tr><td width=\"20%\"><b>Nom expert : </b></td><td>Junod</td></tr><tr><td width=\"20%\"><b>Pr\\xe9nom expert : </b></td><td>Antoine</td></tr><tr><td width=\"20%\"><b>R\\xe9sum\\xe9 : </b></td><td>It is a well-known fact that today\\'s Internet is insecure. The goal of that project is twofold. First, develop metrics on the Internet insecurity. Then, relying on the in-house, big data-based wire-speed port scanning infrastructure, collect data in a continuous way to feed the metrics and build an Internet insecurity index per country and industry. - Take over the big data infrastructure used for the wire-speed port scanning. - Develop metrics. - Collect data in a continuous way to compute metrics. - Build and populate the index.</td></tr><tr><td width=\"20%\"><b>Salle : </b></td><td>BC229</td></tr><tr><td width=\"20%\"><b>Statut donn\\xe9es expert : </b></td><td>Valid\\xe9</td></tr></table></td></tr><tr><td width=\"20%\">Brix Fabian</td><td></td><td><table border=\"0\"><tr><td width=\"20%\"><b>Civilit\\xe9 : </b></td><td>Monsieur</td></tr><tr><td width=\"20%\"><b>Date de d\\xe9but : </b></td><td>14.09.2015</td></tr><tr><td width=\"20%\"><b>Date de fin : </b></td><td>15.01.2016</td></tr><tr><td width=\"20%\"><b>Date de naissance : </b></td><td>25.08.1983</td></tr><tr><td width=\"20%\"><b>Date examen : </b></td><td>09.02.2016</td></tr><tr><td width=\"20%\"><b>Ecole/entreprise : </b></td><td>EPFL, IC</td></tr><tr><td width=\"20%\"><b>Emplacement PDM : </b></td><td>EPFL</td></tr><tr><td width=\"20%\"><b>Enseignant : </b></td><td>Koch Christoph</td></tr><tr><td width=\"20%\"><b>Envoi 1er rappel : </b></td><td>Oui</td></tr><tr><td width=\"20%\"><b>Envoi 2\\xe8me rappel : </b></td><td>Oui</td></tr><tr><td width=\"20%\"><b>Expert (id) : </b></td><td>Santani Darshan</td></tr><tr><td width=\"20%\"><b>Heure examen : </b></td><td>14:00</td></tr><tr><td width=\"20%\"><b>Inscription pdm verifi\\xe9e : </b></td><td>Oui</td></tr><tr><td width=\"20%\"><b>Mots-cl\\xe9 : </b></td><td>open data, time series, visualization, international development, predictive analytics</td></tr><tr><td width=\"20%\"><b>Nom expert : </b></td><td>Santani</td></tr><tr><td width=\"20%\"><b>Pr\\xe9nom expert : </b></td><td>Darshan</td></tr><tr><td width=\"20%\"><b>R\\xe9sum\\xe9 : </b></td><td>Meticulous data collection and its timely dissemination are paramount to informed decision- making by stakeholders in any sector, especially in agricultural marketing which deals in perishable goods. In this context the government of India launched the Agricultural Marketing Information Network (AgMarkNet), an initiative to collect price and arrival tonnage information for crops from around 2500 wholesale markets throughout the country. The effort has resulted in a dataset of unique detail - spanning over a decade - that is still updated daily. However, the fact that the data series recorded for over 300 commodities are sparse, makes it hard to gain any insights. We succeed in overcoming the sparsity by using geospatial aggregation. Thus, we create data series with high coverage over the time period of data collection that allow for macro-level analysis at state and district level. We then create Agrigater, an interactive visualization interface built with web technologies for the geospatial exploration of different facets of the dataset as well as dynamical plotting of the generated time series. Once published online, it will enable stakeholders and academics to discover previously hidden patterns. In consequence, we unlock the potential of the AgMarkNet dataset for development.</td></tr><tr><td width=\"20%\"><b>Salle : </b></td><td>BC 229</td></tr><tr><td width=\"20%\"><b>Statut donn\\xe9es expert : </b></td><td>Valid\\xe9</td></tr></table></td></tr></table></td></tr><tr><td><img src=\"/images/gestacplus/base/pixel.gif\" alt=\"\" style=\"display:block; border:none\" height=\"10\"></td></tr><tr><th colspan=\"2\"><a href=\"%0A         mailto:\"><font color=\"black\">Kuncak Viktor</font></a></th></tr><tr><td><br><b><a href=\"%0A           mailto:\"><font color=\"black\">Projet de master en informatique</font></a></b><br>(1 \\xe9t.)\\n      </td><td>Informatique, 2015-2016, Projet Master automne</td></tr><tr><td colspan=\"2\"><table border=\"1\" width=\"100%\"><tr><td width=\"20%\">Ghosn Adrien</td><td></td><td><table border=\"0\"><tr><td width=\"20%\"><b>Civilit\\xe9 : </b></td><td>Monsieur</td></tr><tr><td width=\"20%\"><b>Date de d\\xe9but : </b></td><td>14.09.2015</td></tr><tr><td width=\"20%\"><b>Date de fin : </b></td><td>11.03.2016</td></tr><tr><td width=\"20%\"><b>Date examen : </b></td><td>08.04.2016</td></tr><tr><td width=\"20%\"><b>Ecole/entreprise : </b></td><td>Northeastern University, Boston USA</td></tr><tr><td width=\"20%\"><b>Emplacement PDM : </b></td><td>Hors  EPFL</td></tr><tr><td width=\"20%\"><b>Enseignant : </b></td><td>Kuncak Viktor</td></tr><tr><td width=\"20%\"><b>Envoi 1er rappel : </b></td><td>Oui</td></tr><tr><td width=\"20%\"><b>Envoi 2\\xe8me rappel : </b></td><td>Oui</td></tr><tr><td width=\"20%\"><b>Heure examen : </b></td><td>14:00</td></tr><tr><td width=\"20%\"><b>Inscription pdm verifi\\xe9e : </b></td><td>Oui</td></tr><tr><td width=\"20%\"><b>Mots-cl\\xe9 : </b></td><td>compiler, R, deoptimization, just-in-time compilation</td></tr><tr><td width=\"20%\"><b>Nom expert : </b></td><td>Vitek</td></tr><tr><td width=\"20%\"><b>Pr\\xe9nom expert : </b></td><td>Jan</td></tr><tr><td width=\"20%\"><b>R\\xe9sum\\xe9 : </b></td><td>This project will investigate techniques for deoptimizing program code compiled by an optimizing just-in-time compiler. The challenge is to ensure full deoptimization at any point in the code without significant performance loss.  The context of the this project is a new virtual machine for the data analytics language called R.</td></tr><tr><td width=\"20%\"><b>Salle : </b></td><td>INR 331</td></tr><tr><td width=\"20%\"><b>Statut donn\\xe9es expert : </b></td><td>Valid\\xe9</td></tr></table></td></tr></table></td></tr><tr><td><img src=\"/images/gestacplus/base/pixel.gif\" alt=\"\" style=\"display:block; border:none\" height=\"10\"></td></tr><tr><th colspan=\"2\"><a href=\"%0A         mailto:\"><font color=\"black\">Larus James Richard</font></a></th></tr><tr><td><br><b><a href=\"%0A           mailto:\"><font color=\"black\">Projet de master en informatique</font></a></b><br>(2 \\xe9t.)\\n      </td><td>Informatique, 2015-2016, Projet Master automne</td></tr><tr><td colspan=\"2\"><table border=\"1\" width=\"100%\"><tr><td width=\"20%\">Gilli\\xe9ron Kevin</td><td></td><td><table border=\"0\"><tr><td width=\"20%\"><b>Civilit\\xe9 : </b></td><td>Monsieur</td></tr><tr><td width=\"20%\"><b>Date de d\\xe9but : </b></td><td>14.09.2015</td></tr><tr><td width=\"20%\"><b>Date de fin : </b></td><td>11.03.2016</td></tr><tr><td width=\"20%\"><b>Date examen : </b></td><td>07.04.2016</td></tr><tr><td width=\"20%\"><b>Ecole/entreprise : </b></td><td>e-Xpert Solutions SA</td></tr><tr><td width=\"20%\"><b>Emplacement PDM : </b></td><td>Hors  EPFL</td></tr><tr><td width=\"20%\"><b>Enseignant : </b></td><td>Larus James Richard</td></tr><tr><td width=\"20%\"><b>Envoi 1er rappel : </b></td><td>Oui</td></tr><tr><td width=\"20%\"><b>Expert (id) : </b></td><td>Desmarest Yann</td></tr><tr><td width=\"20%\"><b>Heure examen : </b></td><td>15:00</td></tr><tr><td width=\"20%\"><b>Inscription pdm verifi\\xe9e : </b></td><td>Oui</td></tr><tr><td width=\"20%\"><b>Mots-cl\\xe9 : </b></td><td>security,development,web,application</td></tr><tr><td width=\"20%\"><b>Nom expert : </b></td><td>Desmarest</td></tr><tr><td width=\"20%\"><b>Pr\\xe9nom expert : </b></td><td>Yann</td></tr><tr><td width=\"20%\"><b>R\\xe9sum\\xe9 : </b></td><td>The project is about developing a unified dashboard for computer security web services as well as writing new services.</td></tr><tr><td width=\"20%\"><b>Salle : </b></td><td>BC 408</td></tr><tr><td width=\"20%\"><b>Statut donn\\xe9es expert : </b></td><td>Valid\\xe9</td></tr><tr><td width=\"20%\"><b>Valable pour stage : </b></td><td>Oui</td></tr></table></td></tr><tr><td width=\"20%\">Weingart Laurent</td><td></td><td><table border=\"0\"><tr><td width=\"20%\"><b>Civilit\\xe9 : </b></td><td>Monsieur</td></tr><tr><td width=\"20%\"><b>Date de d\\xe9but : </b></td><td>14.09.2015</td></tr><tr><td width=\"20%\"><b>Date de fin : </b></td><td>11.03.2016</td></tr><tr><td width=\"20%\"><b>Date examen : </b></td><td>08.04.2016</td></tr><tr><td width=\"20%\"><b>Ecole/entreprise : </b></td><td>SITA</td></tr><tr><td width=\"20%\"><b>Emplacement PDM : </b></td><td>Hors  EPFL</td></tr><tr><td width=\"20%\"><b>Enseignant : </b></td><td>Larus James Richard</td></tr><tr><td width=\"20%\"><b>Envoi 1er rappel : </b></td><td>Oui</td></tr><tr><td width=\"20%\"><b>Heure examen : </b></td><td>16:30</td></tr><tr><td width=\"20%\"><b>Inscription pdm verifi\\xe9e : </b></td><td>Oui</td></tr><tr><td width=\"20%\"><b>Mots-cl\\xe9 : </b></td><td>facial recognition, NFC, biometrics, smartphone</td></tr><tr><td width=\"20%\"><b>Nom expert : </b></td><td>Irminger</td></tr><tr><td width=\"20%\"><b>Pr\\xe9nom expert : </b></td><td>Renaud</td></tr><tr><td width=\"20%\"><b>R\\xe9sum\\xe9 : </b></td><td>Develop a demonstration app on iOS or/and Android to show the (im)possibility to use the technology existing in a smartphone to pass the checks done at immigration in an airport. Biometric passports contain data in an RFID chip and checks are done with high cost equipment to compare a person biometrics with data in the passports\\'s RFID chip (fingerprints, iris picture, face picture). Today\\'s smartphones contain technology allowing to take high resolution pictures and fingerprints. The goal of the project is to demonstrate the potential possibility to use the smartphone technology to do these checks.</td></tr><tr><td width=\"20%\"><b>Salle : </b></td><td>BC 408</td></tr><tr><td width=\"20%\"><b>Statut donn\\xe9es expert : </b></td><td>Valid\\xe9</td></tr><tr><td width=\"20%\"><b>Valable pour stage : </b></td><td>Oui</td></tr></table></td></tr></table></td></tr><tr><td><img src=\"/images/gestacplus/base/pixel.gif\" alt=\"\" style=\"display:block; border:none\" height=\"10\"></td></tr><tr><th colspan=\"2\"><a href=\"%0A         mailto:\"><font color=\"black\">Lehmann Miotto Giovanna</font></a></th></tr><tr><td><br><b><a href=\"%0A           mailto:\"><font color=\"black\">Stage d\\'ing\\xe9nieur cr\\xe9dit\\xe9 avec le PDM (master en Informatique)</font></a></b><br>(1 \\xe9t.)\\n      </td><td>Informatique, 2015-2016, Projet Master automne</td></tr><tr><td colspan=\"2\"><table border=\"1\" width=\"100%\"><tr><td width=\"20%\">Chiu Cheng-Hsiang</td><td></td><td><table border=\"0\"><tr><td width=\"20%\"><b>Date de d\\xe9but : </b></td><td>01.03.2015</td></tr><tr><td width=\"20%\"><b>Date de fin : </b></td><td>31.08.2015</td></tr></table></td></tr></table></td></tr><tr><td><img src=\"/images/gestacplus/base/pixel.gif\" alt=\"\" style=\"display:block; border:none\" height=\"10\"></td></tr><tr><th colspan=\"2\"><a href=\"%0A         mailto:\"><font color=\"black\">Lengagne Richard</font></a></th></tr><tr><td><br><b><a href=\"%0A           mailto:\"><font color=\"black\">Projet de master en informatique</font></a></b><br>(3 \\xe9t.)\\n      </td><td>Informatique, 2015-2016, Projet Master automne</td></tr><tr><td colspan=\"2\"><table border=\"1\" width=\"100%\"><tr><td width=\"20%\">Anadon Laurent Marie Patrick</td><td></td><td><table border=\"0\"><tr><td width=\"20%\"><b>Civilit\\xe9 : </b></td><td>Monsieur</td></tr><tr><td width=\"20%\"><b>Date de d\\xe9but : </b></td><td>14.09.2015</td></tr><tr><td width=\"20%\"><b>Date de fin : </b></td><td>11.03.2016</td></tr><tr><td width=\"20%\"><b>Date examen : </b></td><td>15.04.2016</td></tr><tr><td width=\"20%\"><b>Ecole/entreprise : </b></td><td>nViso</td></tr><tr><td width=\"20%\"><b>Emplacement PDM : </b></td><td>Hors  EPFL</td></tr><tr><td width=\"20%\"><b>Enseignant : </b></td><td>Fua Pascal</td></tr><tr><td width=\"20%\"><b>Envoi 1er rappel : </b></td><td>Oui</td></tr><tr><td width=\"20%\"><b>Expert (id) : </b></td><td>Lengagne Richard</td></tr><tr><td width=\"20%\"><b>Heure examen : </b></td><td>17:00</td></tr><tr><td width=\"20%\"><b>Inscription pdm verifi\\xe9e : </b></td><td>Oui</td></tr><tr><td width=\"20%\"><b>Nom expert : </b></td><td>Richard</td></tr><tr><td width=\"20%\"><b>Pr\\xe9nom expert : </b></td><td>Lengagne</td></tr><tr><td width=\"20%\"><b>R\\xe9sum\\xe9 : </b></td><td>Overview:\\nFace normalization is the process of synthesizing frontal facing views of faces appearing in single unconstrained photos or single frames of videos. The process can substantially boost the performance of face recognition systems and deep learning algorithms based on CNNs in challenging natural environments \"in the wild\". This project will explore using a single, unmodified, 3D surface as an approximation to the shape of all input faces for the task for face normalization. nViso will provide access to both a generic 3D model and advanced face tracking software to provide 170 points that map to the underlying face structure for unseen faces in photos and videos.\\n\\nObjectives:\\n- Develop a straightforward, efficient and easy to implement method for face normalization that can produce aesthetic new frontal views to improve face recognition and demographic estimation in C++.\\n- Develop a benchmark procedure to estimate accuracy of face normalization. Evaluate deep learning accuracy for common tasks with / without face normalization.</td></tr><tr><td width=\"20%\"><b>Salle : </b></td><td>TBD</td></tr><tr><td width=\"20%\"><b>Statut donn\\xe9es expert : </b></td><td>Valid\\xe9</td></tr><tr><td width=\"20%\"><b>Valable pour stage : </b></td><td>Oui</td></tr></table></td></tr><tr><td width=\"20%\">Katircioglu Isinsu</td><td></td><td><table border=\"0\"><tr><td width=\"20%\"><b>Civilit\\xe9 : </b></td><td>Monsieur</td></tr><tr><td width=\"20%\"><b>Date de d\\xe9but : </b></td><td>14.09.2015</td></tr><tr><td width=\"20%\"><b>Date de fin : </b></td><td>15.01.2016</td></tr><tr><td width=\"20%\"><b>Date examen : </b></td><td>05.02.2016</td></tr><tr><td width=\"20%\"><b>Ecole/entreprise : </b></td><td>EPFL</td></tr><tr><td width=\"20%\"><b>Emplacement PDM : </b></td><td>EPFL</td></tr><tr><td width=\"20%\"><b>Enseignant : </b></td><td>Fua Pascal</td></tr><tr><td width=\"20%\"><b>Envoi 1er rappel : </b></td><td>Oui</td></tr><tr><td width=\"20%\"><b>Envoi 2\\xe8me rappel : </b></td><td>Oui</td></tr><tr><td width=\"20%\"><b>Expert (id) : </b></td><td>Lengagne Richard</td></tr><tr><td width=\"20%\"><b>Heure examen : </b></td><td>17:00</td></tr><tr><td width=\"20%\"><b>Inscription pdm verifi\\xe9e : </b></td><td>Oui</td></tr><tr><td width=\"20%\"><b>Mots-cl\\xe9 : </b></td><td>3D Human Pose Estimation, Convolutional Neural Networks, Autoencoders, Pose Encoding</td></tr><tr><td width=\"20%\"><b>Nom expert : </b></td><td>Lengagne</td></tr><tr><td width=\"20%\"><b>Pr\\xe9nom expert : </b></td><td>Richard</td></tr><tr><td width=\"20%\"><b>R\\xe9sum\\xe9 : </b></td><td>The objective of this thesis is to introduce and evaluate several deep neural network architectures to predict the 3D human pose from a monocular RGB image. In this work, we propose a model that consists of a pose embedding network for structured learning of human body and a deep convolutional neural network for image feature extraction. The aim of the pose embedding scheme is to find a more representative space for 3D human pose and uncover certain kinematic dependencies that are not explicit in the original pose vector. We use different methods including autoencoders and PCA to acquire high and low dimensional pose projections respectively. We further extend our main CNN architecture to a multi-scale version which accepts various resolutions of the image as its input and processes them in parallel to attain coarse and fine contextual body information together. We evaluate our results on a large scale dataset and discuss the effect of each submodel to our final network. It is shown that an effective pose encoding and a multi-scale adaptation of CNN provide competitive results with the state-of-the-art. </td></tr><tr><td width=\"20%\"><b>Salle : </b></td><td>TBD</td></tr><tr><td width=\"20%\"><b>Statut donn\\xe9es expert : </b></td><td>Valid\\xe9</td></tr></table></td></tr><tr><td width=\"20%\">Constantin Victor</td><td></td><td><table border=\"0\"><tr><td width=\"20%\"><b>Civilit\\xe9 : </b></td><td>Monsieur</td></tr><tr><td width=\"20%\"><b>Date de d\\xe9but : </b></td><td>14.09.2015</td></tr><tr><td width=\"20%\"><b>Date de fin : </b></td><td>11.03.2016</td></tr><tr><td width=\"20%\"><b>Date examen : </b></td><td>15.04.2016</td></tr><tr><td width=\"20%\"><b>Ecole/entreprise : </b></td><td>nViso SA</td></tr><tr><td width=\"20%\"><b>Emplacement PDM : </b></td><td>Hors  EPFL</td></tr><tr><td width=\"20%\"><b>Enseignant : </b></td><td>Fua Pascal</td></tr><tr><td width=\"20%\"><b>Envoi 1er rappel : </b></td><td>Oui</td></tr><tr><td width=\"20%\"><b>Expert (id) : </b></td><td>Lengagne Richard</td></tr><tr><td width=\"20%\"><b>Heure examen : </b></td><td>17:45</td></tr><tr><td width=\"20%\"><b>Inscription pdm verifi\\xe9e : </b></td><td>Oui</td></tr><tr><td width=\"20%\"><b>Nom expert : </b></td><td>Richard</td></tr><tr><td width=\"20%\"><b>Pr\\xe9nom expert : </b></td><td>Lengagne</td></tr><tr><td width=\"20%\"><b>R\\xe9sum\\xe9 : </b></td><td>In machine learning, convolutional neural networks (CNN) are widely used models for image and video recognition tasks. With the rise of efficient GPU computing, it has become possible to train larger networks outperforming most state-of-the-art approaches. However such models, although highly accurate often require many computational resources to run in real-time and restrict their use to architectures requiring data to be sent to a server. The goal of this project is to explore the use of CNNs to solve common problems in facial analysis such as landmark and pose estimation that are optimized for high accuracy while being suitable for low power, real-time embedded systems. Specifically the project involves:\\n\\n- Using RGB-D sensor data from a depth camera module to train a CNN Multi-task model for accurate facial landmark detection and pose estimation in natural environments. \\n- Find optimal training parameters to make a good tradeoff between accuary and run-time cost for an embedded DSP processor.\\n- Build a real-time demonstrator of the CNN model on an embedded DSP processor to measure performance on an embedded system.</td></tr><tr><td width=\"20%\"><b>Salle : </b></td><td>TBD</td></tr><tr><td width=\"20%\"><b>Statut donn\\xe9es expert : </b></td><td>Valid\\xe9</td></tr><tr><td width=\"20%\"><b>Valable pour stage : </b></td><td>Oui</td></tr></table></td></tr></table></td></tr><tr><td><img src=\"/images/gestacplus/base/pixel.gif\" alt=\"\" style=\"display:block; border:none\" height=\"10\"></td></tr><tr><th colspan=\"2\"><a href=\"%0A         mailto:\"><font color=\"black\">Le Boudec Jean-Yves</font></a></th></tr><tr><td><br><b><a href=\"%0A           mailto:\"><font color=\"black\">Projet de master en informatique</font></a></b><br>(1 \\xe9t.)\\n      </td><td>Informatique, 2015-2016, Projet Master automne</td></tr><tr><td colspan=\"2\"><table border=\"1\" width=\"100%\"><tr><td width=\"20%\">Demarne Mathieu Baptiste</td><td></td><td><table border=\"0\"><tr><td width=\"20%\"><b>Civilit\\xe9 : </b></td><td>Monsieur</td></tr><tr><td width=\"20%\"><b>Date de d\\xe9but : </b></td><td>14.09.2015</td></tr><tr><td width=\"20%\"><b>Date de fin : </b></td><td>11.03.2016</td></tr><tr><td width=\"20%\"><b>Date examen : </b></td><td>06.04.2016</td></tr><tr><td width=\"20%\"><b>Ecole/entreprise : </b></td><td>IBM Zurich Research Center</td></tr><tr><td width=\"20%\"><b>Emplacement PDM : </b></td><td>Hors  EPFL</td></tr><tr><td width=\"20%\"><b>Enseignant : </b></td><td>Le Boudec Jean-Yves</td></tr><tr><td width=\"20%\"><b>Envoi 1er rappel : </b></td><td>Oui</td></tr><tr><td width=\"20%\"><b>Envoi 2\\xe8me rappel : </b></td><td>Oui</td></tr><tr><td width=\"20%\"><b>Heure examen : </b></td><td>15:00</td></tr><tr><td width=\"20%\"><b>Inscription pdm verifi\\xe9e : </b></td><td>Oui</td></tr><tr><td width=\"20%\"><b>Mots-cl\\xe9 : </b></td><td>Industrial Control System, SCADA, Anomaly Detection, Neural Gas</td></tr><tr><td width=\"20%\"><b>Nom expert : </b></td><td>Wespi</td></tr><tr><td width=\"20%\"><b>Pr\\xe9nom expert : </b></td><td>Andreas</td></tr><tr><td width=\"20%\"><b>R\\xe9sum\\xe9 : </b></td><td>Industrial Control Systems (ICS) are crucial for many infrastructures. They cover a broad set of tasks such as monitoring sensors and controlling actuators. The application of such systems spans many sectors such as the gas, oil and electricity industries. From a historical standpoint, very few security measures were applied to such systems. They were in use before the age of Internet. Therefore, they were believed to be protected by air gaps, i.e., no remote accesses, and security through obscurity, i.e., no freely available specifications on the proprietary protocols used throughout the systems. \\n\\nNowadays, operators tend to ease the collection of data and the control of such systems by connecting them to the IT networks of their companies. Moreover, standardized protocols have emerged, allowing a better interoperability between components from different manufacturers. Those two factors result in an increasing need for security on this type of systems, as their operations are often mission-critical to the complex in which they operate.\\n\\nThis Master thesis proposes a new Anomaly Detection System (ADS) based on the Growing Neural Gas (GNG) algorithm to analyze the content of messages sent to and from sensors and actuators in Industrial Control Systems in real-time. The technique tackles the problems inherent to such environments - like many underlying protocols, various data types, nonuniform sampling rates, many physical processes, no available signature of real anomalies - in such a way that it can be applied to a broad set of applications. It also determines the correlation among field devices and analyzes the evolution of such correlation over time. The approach is novel as no one else has tried to achieve this degree of flexibility before. Moreover, value-based Anomaly Detection Systems in Industrial Control Networks have not been given much attention in the literature despite the increasing demand for more security as various recent attacks, for instance Stuxnet and Havex, demonstrate.\\n\\nWe cannot provide performance comparisons with other approaches as no comparable solution exists with the same set of requirements as ours. However, experiments on real-world data sets from SCADA environments with artificially injected anomalies show a detection rate of 84% at a precision of 98%.</td></tr><tr><td width=\"20%\"><b>Salle : </b></td><td>BC 205</td></tr><tr><td width=\"20%\"><b>Statut donn\\xe9es expert : </b></td><td>Valid\\xe9</td></tr></table></td></tr></table></td></tr><tr><td><img src=\"/images/gestacplus/base/pixel.gif\" alt=\"\" style=\"display:block; border:none\" height=\"10\"></td></tr><tr><th colspan=\"2\"><a href=\"%0A         mailto:\"><font color=\"black\">Llewellynn Timothy</font></a></th></tr><tr><td><br><b><a href=\"%0A           mailto:\"><font color=\"black\">Stage d\\'ing\\xe9nieur cr\\xe9dit\\xe9 avec le PDM (master en Informatique)</font></a></b><br>(1 \\xe9t.)\\n      </td><td>Informatique, 2015-2016, Projet Master automne</td></tr><tr><td colspan=\"2\"><table border=\"1\" width=\"100%\"><tr><td width=\"20%\">Katircioglu Isinsu</td><td></td><td><table border=\"0\"><tr><td width=\"20%\"><b>Date de d\\xe9but : </b></td><td>29.06.2015</td></tr><tr><td width=\"20%\"><b>Date de fin : </b></td><td>11.09.2015</td></tr></table></td></tr></table></td></tr><tr><td><img src=\"/images/gestacplus/base/pixel.gif\" alt=\"\" style=\"display:block; border:none\" height=\"10\"></td></tr><tr><th colspan=\"2\"><a href=\"%0A         mailto:\"><font color=\"black\">Lloyd Mica</font></a></th></tr><tr><td><br><b><a href=\"%0A           mailto:\"><font color=\"black\">Stage d\\'ing\\xe9nieur cr\\xe9dit\\xe9 avec le PDM (master en Informatique)</font></a></b><br>(1 \\xe9t.)\\n      </td><td>Informatique, 2015-2016, Projet Master automne</td></tr><tr><td colspan=\"2\"><table border=\"1\" width=\"100%\"><tr><td width=\"20%\">Vladarean Maria-Luiza</td><td></td><td><table border=\"0\"><tr><td width=\"20%\"><b>Date de d\\xe9but : </b></td><td>09.02.2015</td></tr><tr><td width=\"20%\"><b>Date de fin : </b></td><td>04.09.2015</td></tr></table></td></tr></table></td></tr><tr><td><img src=\"/images/gestacplus/base/pixel.gif\" alt=\"\" style=\"display:block; border:none\" height=\"10\"></td></tr><tr><th colspan=\"2\"><a href=\"%0A         mailto:\"><font color=\"black\">Manjunath Geetha</font></a></th></tr><tr><td><br><b><a href=\"%0A           mailto:\"><font color=\"black\">Stage d\\'ing\\xe9nieur cr\\xe9dit\\xe9 avec le PDM (master en Informatique)</font></a></b><br>(1 \\xe9t.)\\n      </td><td>Informatique, 2015-2016, Projet Master automne</td></tr><tr><td colspan=\"2\"><table border=\"1\" width=\"100%\"><tr><td width=\"20%\">Brix Fabian</td><td></td><td><table border=\"0\"><tr><td width=\"20%\"><b>Date de d\\xe9but : </b></td><td>09.02.2015</td></tr><tr><td width=\"20%\"><b>Date de fin : </b></td><td>07.08.2015</td></tr></table></td></tr></table></td></tr><tr><td><img src=\"/images/gestacplus/base/pixel.gif\" alt=\"\" style=\"display:block; border:none\" height=\"10\"></td></tr><tr><th colspan=\"2\"><a href=\"%0A         mailto:\"><font color=\"black\">Mariani Benoit</font></a></th></tr><tr><td><br><b><a href=\"%0A           mailto:\"><font color=\"black\">Stage d\\'ing\\xe9nieur cr\\xe9dit\\xe9 avec le PDM (master en Informatique)</font></a></b><br>(1 \\xe9t.)\\n      </td><td>Informatique, 2015-2016, Projet Master automne</td></tr><tr><td colspan=\"2\"><table border=\"1\" width=\"100%\"><tr><td width=\"20%\">Rappaz J\\xe9r\\xe9mie</td><td></td><td><table border=\"0\"><tr><td width=\"20%\"><b>Date de d\\xe9but : </b></td><td>01.02.2015</td></tr><tr><td width=\"20%\"><b>Date de fin : </b></td><td>01.08.2015</td></tr></table></td></tr></table></td></tr><tr><td><img src=\"/images/gestacplus/base/pixel.gif\" alt=\"\" style=\"display:block; border:none\" height=\"10\"></td></tr><tr><th colspan=\"2\"><a href=\"%0A         mailto:\"><font color=\"black\">Marti Ga\\xebtan</font></a></th></tr><tr><td><br><b><a href=\"%0A           mailto:\"><font color=\"black\">Stage d\\'ing\\xe9nieur cr\\xe9dit\\xe9 avec le PDM (master en Informatique)</font></a></b><br>(1 \\xe9t.)\\n      </td><td>Informatique, 2015-2016, Projet Master automne</td></tr><tr><td colspan=\"2\"><table border=\"1\" width=\"100%\"><tr><td width=\"20%\">Bourban Fabien</td><td></td><td><table border=\"0\"><tr><td width=\"20%\"><b>Date de d\\xe9but : </b></td><td>16.02.2015</td></tr><tr><td width=\"20%\"><b>Date de fin : </b></td><td>16.08.2015</td></tr></table></td></tr></table></td></tr><tr><td><img src=\"/images/gestacplus/base/pixel.gif\" alt=\"\" style=\"display:block; border:none\" height=\"10\"></td></tr><tr><th colspan=\"2\"><a href=\"%0A         mailto:\"><font color=\"black\">McAuley Julian</font></a></th></tr><tr><td><br><b><a href=\"%0A           mailto:\"><font color=\"black\">Projet de master en informatique</font></a></b><br>(2 \\xe9t.)\\n      </td><td>Informatique, 2015-2016, Projet Master automne</td></tr><tr><td colspan=\"2\"><table border=\"1\" width=\"100%\"><tr><td width=\"20%\">Vladarean Maria-Luiza</td><td></td><td><table border=\"0\"><tr><td width=\"20%\"><b>Assistant : </b></td><td>Michele Catasta</td></tr><tr><td width=\"20%\"><b>Civilit\\xe9 : </b></td><td>Monsieur</td></tr><tr><td width=\"20%\"><b>Date de d\\xe9but : </b></td><td>14.09.2015</td></tr><tr><td width=\"20%\"><b>Date de fin : </b></td><td>15.01.2016</td></tr><tr><td width=\"20%\"><b>Date examen : </b></td><td>03.02.2016</td></tr><tr><td width=\"20%\"><b>Ecole/entreprise : </b></td><td>School of Computer and Communication Sciences, Distributed Information Systems Laboratory</td></tr><tr><td width=\"20%\"><b>Emplacement PDM : </b></td><td>EPFL</td></tr><tr><td width=\"20%\"><b>Enseignant : </b></td><td>Aberer Karl</td></tr><tr><td width=\"20%\"><b>Envoi 1er rappel : </b></td><td>Oui</td></tr><tr><td width=\"20%\"><b>Expert (id) : </b></td><td>McAuley Julian</td></tr><tr><td width=\"20%\"><b>Heure examen : </b></td><td>18:00</td></tr><tr><td width=\"20%\"><b>Inscription pdm verifi\\xe9e : </b></td><td>Oui</td></tr><tr><td width=\"20%\"><b>Mots-cl\\xe9 : </b></td><td>recommender, system, swapping</td></tr><tr><td width=\"20%\"><b>Nom expert : </b></td><td>McAuley</td></tr><tr><td width=\"20%\"><b>Pr\\xe9nom expert : </b></td><td>Julian</td></tr><tr><td width=\"20%\"><b>Salle : </b></td><td>BC129</td></tr><tr><td width=\"20%\"><b>Statut donn\\xe9es expert : </b></td><td>Valid\\xe9</td></tr></table></td></tr><tr><td width=\"20%\">Rappaz J\\xe9r\\xe9mie</td><td></td><td><table border=\"0\"><tr><td width=\"20%\"><b>Civilit\\xe9 : </b></td><td>Madame</td></tr><tr><td width=\"20%\"><b>Date de d\\xe9but : </b></td><td>14.09.2015</td></tr><tr><td width=\"20%\"><b>Date de fin : </b></td><td>15.01.2016</td></tr><tr><td width=\"20%\"><b>Date examen : </b></td><td>03.02.2016</td></tr><tr><td width=\"20%\"><b>Ecole/entreprise : </b></td><td>EPFL</td></tr><tr><td width=\"20%\"><b>Emplacement PDM : </b></td><td>EPFL</td></tr><tr><td width=\"20%\"><b>Enseignant : </b></td><td>Aberer Karl</td></tr><tr><td width=\"20%\"><b>Envoi 1er rappel : </b></td><td>Oui</td></tr><tr><td width=\"20%\"><b>Expert (id) : </b></td><td>McAuley Julian</td></tr><tr><td width=\"20%\"><b>Heure examen : </b></td><td>18:00</td></tr><tr><td width=\"20%\"><b>Inscription pdm verifi\\xe9e : </b></td><td>Oui</td></tr><tr><td width=\"20%\"><b>Mots-cl\\xe9 : </b></td><td>Swap, barter, recommender systems</td></tr><tr><td width=\"20%\"><b>Nom expert : </b></td><td>McAuley</td></tr><tr><td width=\"20%\"><b>Pr\\xe9nom expert : </b></td><td>Julian</td></tr><tr><td width=\"20%\"><b>R\\xe9sum\\xe9 : </b></td><td>A novel algorithmic approach to compute swap recommendations.</td></tr><tr><td width=\"20%\"><b>Salle : </b></td><td>BC129</td></tr><tr><td width=\"20%\"><b>Statut donn\\xe9es expert : </b></td><td>Valid\\xe9</td></tr></table></td></tr></table></td></tr><tr><td><img src=\"/images/gestacplus/base/pixel.gif\" alt=\"\" style=\"display:block; border:none\" height=\"10\"></td></tr><tr><th colspan=\"2\"><a href=\"%0A         mailto:\"><font color=\"black\">Odersky Martin</font></a></th></tr><tr><td><br><b><a href=\"%0A           mailto:\"><font color=\"black\">Projet de master en informatique</font></a></b><br>(4 \\xe9t.)\\n      </td><td>Informatique, 2015-2016, Projet Master automne</td></tr><tr><td colspan=\"2\"><table border=\"1\" width=\"100%\"><tr><td width=\"20%\">Beguet Eric</td><td></td><td><table border=\"0\"><tr><td width=\"20%\"><b>Civilit\\xe9 : </b></td><td>Monsieur</td></tr><tr><td width=\"20%\"><b>Date de d\\xe9but : </b></td><td>14.09.2015</td></tr><tr><td width=\"20%\"><b>Date de fin : </b></td><td>11.03.2016</td></tr><tr><td width=\"20%\"><b>Date examen : </b></td><td>04.04.2016</td></tr><tr><td width=\"20%\"><b>Ecole/entreprise : </b></td><td>Oracle Corporation Australia Pty Ltd</td></tr><tr><td width=\"20%\"><b>Emplacement PDM : </b></td><td>Hors  EPFL</td></tr><tr><td width=\"20%\"><b>Enseignant : </b></td><td>Odersky Martin</td></tr><tr><td width=\"20%\"><b>Envoi 1er rappel : </b></td><td>Oui</td></tr><tr><td width=\"20%\"><b>Envoi 2\\xe8me rappel : </b></td><td>Oui</td></tr><tr><td width=\"20%\"><b>Heure examen : </b></td><td>13:00</td></tr><tr><td width=\"20%\"><b>Inscription pdm verifi\\xe9e : </b></td><td>Oui</td></tr><tr><td width=\"20%\"><b>Nom expert : </b></td><td>Keynes</td></tr><tr><td width=\"20%\"><b>Pr\\xe9nom expert : </b></td><td>Nathan</td></tr><tr><td width=\"20%\"><b>R\\xe9sum\\xe9 : </b></td><td>The use of Datalog as a specification language for program analysis has been proposed by a number of research groups, however existing implementations have suffered from poor performance and high memory requirements. The Parfait project at Oracle is a bug-checking and security vulnerability detection tool, widely used in-house at Oracle. Parfait is built on top of the LLVM infrastructure, and includes a variety of analyses written in C++. A prototype Datalog compiler has recently been developed, to translate Datalog specifications into C++ analyses compatible with Parfait, and is hoped to provide more acceptable performance.\\nThe aim of this project is to evaluate the Datalog compiler in terms of both performance and ease of specification, by implementing a series of program analyses in Datalog specifications and integrating them into Parfait. The project is also expected to involve proposing and implementing changes to the Datalog compiler and/or infrastructure in order to improve the usability of the tool.</td></tr><tr><td width=\"20%\"><b>Salle : </b></td><td>Videoconferencing</td></tr><tr><td width=\"20%\"><b>Statut donn\\xe9es expert : </b></td><td>Valid\\xe9</td></tr></table></td></tr><tr><td width=\"20%\">Liu Fengyun</td><td></td><td><table border=\"0\"><tr><td width=\"20%\"><b>Assistant : </b></td><td>Stucki Sandro, Nada Amin</td></tr><tr><td width=\"20%\"><b>Civilit\\xe9 : </b></td><td>Monsieur</td></tr><tr><td width=\"20%\"><b>Date de d\\xe9but : </b></td><td>14.09.2015</td></tr><tr><td width=\"20%\"><b>Date de fin : </b></td><td>15.01.2016</td></tr><tr><td width=\"20%\"><b>Date de naissance : </b></td><td>14.01.1985</td></tr><tr><td width=\"20%\"><b>Date examen : </b></td><td>05.02.2016</td></tr><tr><td width=\"20%\"><b>Ecole/entreprise : </b></td><td>EPFL</td></tr><tr><td width=\"20%\"><b>Emplacement PDM : </b></td><td>EPFL</td></tr><tr><td width=\"20%\"><b>Enseignant : </b></td><td>Odersky Martin</td></tr><tr><td width=\"20%\"><b>Envoi 1er rappel : </b></td><td>Oui</td></tr><tr><td width=\"20%\"><b>Expert (id) : </b></td><td>Jovanovic Vojin</td></tr><tr><td width=\"20%\"><b>Heure examen : </b></td><td>14:00</td></tr><tr><td width=\"20%\"><b>Inscription pdm verifi\\xe9e : </b></td><td>Oui</td></tr><tr><td width=\"20%\"><b>Mots-cl\\xe9 : </b></td><td>type system</td></tr><tr><td width=\"20%\"><b>Nom expert : </b></td><td>Jovanovic</td></tr><tr><td width=\"20%\"><b>Pr\\xe9nom expert : </b></td><td>Vojin</td></tr><tr><td width=\"20%\"><b>R\\xe9sum\\xe9 : </b></td><td>A type system for controlling variable capture</td></tr><tr><td width=\"20%\"><b>Salle : </b></td><td>INR 331</td></tr><tr><td width=\"20%\"><b>Statut donn\\xe9es expert : </b></td><td>Valid\\xe9</td></tr></table></td></tr><tr><td width=\"20%\">Perovic Boris</td><td></td><td><table border=\"0\"><tr><td width=\"20%\"><b>Assistant : </b></td><td>Vojin Jovanovic</td></tr><tr><td width=\"20%\"><b>Civilit\\xe9 : </b></td><td>Monsieur</td></tr><tr><td width=\"20%\"><b>Date de d\\xe9but : </b></td><td>01.10.2015</td></tr><tr><td width=\"20%\"><b>Date de fin : </b></td><td>30.03.2016</td></tr><tr><td width=\"20%\"><b>Date examen : </b></td><td>22.04.2016</td></tr><tr><td width=\"20%\"><b>Ecole/entreprise : </b></td><td>Stanford University, USA</td></tr><tr><td width=\"20%\"><b>Emplacement PDM : </b></td><td>Hors  EPFL</td></tr><tr><td width=\"20%\"><b>Enseignant : </b></td><td>Odersky Martin</td></tr><tr><td width=\"20%\"><b>Envoi 1er rappel : </b></td><td>Oui</td></tr><tr><td width=\"20%\"><b>Envoi 2\\xe8me rappel : </b></td><td>Oui</td></tr><tr><td width=\"20%\"><b>Heure examen : </b></td><td>15:00</td></tr><tr><td width=\"20%\"><b>Inscription pdm verifi\\xe9e : </b></td><td>Oui</td></tr><tr><td width=\"20%\"><b>Mots-cl\\xe9 : </b></td><td>Embedded Domain-Specific Languages, Deep Embedding, Shallow Embedding, Reflection, Macros, Parallel Programming, Heterogeneous Architectures</td></tr><tr><td width=\"20%\"><b>Nom expert : </b></td><td>Jovanovic</td></tr><tr><td width=\"20%\"><b>Pr\\xe9nom expert : </b></td><td>Vojin </td></tr><tr><td width=\"20%\"><b>R\\xe9sum\\xe9 : </b></td><td>Currently, rapid application development using Delite DSLs is challenging due to very long compile times and cryptic error messages provided by the Scala compiler. The primary source of these two issues is the introduction of Rep[T] types by LMS, which are visible to the user. To overcome this issue, Yin-Yang framework can be used to compile a standard DSL implementation into a deep and a shallow embedding. This way the shallow embedding can be used for quick testing and debugging, hiding away Rep[T] types from the user and allowing for more meaningful type error messages. The deep embedding could be used to generate highly efficient code which could potentially be compiled and executed on a different machine. Using Yin-Yang, the shallow EDSL programs can be translated to the corresponding deep EDSL programs, completely concealing the deep embedding from the user. A first step of the project is to apply Yin-Yang to the existing Delite DSLs to assess their integrability.\\n\\nAdditionally, users should be able to combine normal Scala code with compiled DSL code directly within the REPL. For example, a user may wish to interactively perform fast queries on large datasets using one or more Delite DSLs and then use another Scala library to visualize the results. In order to make this work we need control over which code is compiled by Delite and which is executed directly within the Scala REPL. This could be done using explicit Rep[T] types as exists today or by the macro based approach taken by Yin-Yang. The second required piece is to make the Delite runtime act as a background service. We need to be able to submit compiled code snippets to the runtime and return results back to the interactive environment. We should also be able to connect to the runtime service on remote machines so that users can develop applications locally, while performing most of the computation on large servers.</td></tr><tr><td width=\"20%\"><b>Salle : </b></td><td>INR 331</td></tr><tr><td width=\"20%\"><b>Statut donn\\xe9es expert : </b></td><td>Valid\\xe9</td></tr></table></td></tr><tr><td width=\"20%\">Bastin C\\xe9dric</td><td></td><td><table border=\"0\"><tr><td width=\"20%\"><b>Civilit\\xe9 : </b></td><td>Monsieur</td></tr><tr><td width=\"20%\"><b>Date de d\\xe9but : </b></td><td>14.09.2015</td></tr><tr><td width=\"20%\"><b>Date de fin : </b></td><td>11.03.2016</td></tr><tr><td width=\"20%\"><b>Date examen : </b></td><td>22.04.2016</td></tr><tr><td width=\"20%\"><b>Ecole/entreprise : </b></td><td>Pervasive Parallelism Lab (PPL) Stanford University</td></tr><tr><td width=\"20%\"><b>Emplacement PDM : </b></td><td>Hors  EPFL</td></tr><tr><td width=\"20%\"><b>Enseignant : </b></td><td>Odersky Martin</td></tr><tr><td width=\"20%\"><b>Envoi 1er rappel : </b></td><td>Oui</td></tr><tr><td width=\"20%\"><b>Envoi 2\\xe8me rappel : </b></td><td>Oui</td></tr><tr><td width=\"20%\"><b>Heure examen : </b></td><td>16:00</td></tr><tr><td width=\"20%\"><b>Inscription pdm verifi\\xe9e : </b></td><td>Oui</td></tr><tr><td width=\"20%\"><b>Mots-cl\\xe9 : </b></td><td>Scala, DSL, LMS, Delite, repl, performance</td></tr><tr><td width=\"20%\"><b>Nom expert : </b></td><td>Jovanovic</td></tr><tr><td width=\"20%\"><b>Pr\\xe9nom expert : </b></td><td>Vojin</td></tr><tr><td width=\"20%\"><b>R\\xe9sum\\xe9 : </b></td><td>Currently developing applications quickly is challenging due to very long compile times and confusing error messages provided by the Scala compiler. The primary source of these two issues is the introduction of Rep[T] types by LMS. To overcome this issue Yin\\xad Yang can be used to compile a standard DSL implementation into a deep and a shallow embedding. This way the shallow embedding can be used for quick testing and debugging and the deep embedding could be use to generate highly efficient code which could potentially be compiled and executed on a different machine. A first step of the project is to apply Yin\\xadYang to the existing Delite DSLs to asses their integratability. Users should also be able to combine normal Scala code with compiled DSL code directly within the REPL. For example, a user may wish to perform fast queries on large datasets using one or more Delite DSLs and then use another Scala library to visualize the result. In order to make this work we need control over which code is compiled by Delite and which is executed directly within the Scala REPL. This could be done using explicit Rep types as exists today or by the macro based approach taken by Yin\\xadYang. The second required piece is to make the Delite runtime act as a background service. We need to be able to submit compiled code snippets to the runtime and return results back to the REPL environment. We should also be able to connect to the runtime service on remote machines so that users can develop locally and still perform most of the computation on large servers.</td></tr><tr><td width=\"20%\"><b>Salle : </b></td><td>INR 331</td></tr><tr><td width=\"20%\"><b>Statut donn\\xe9es expert : </b></td><td>Valid\\xe9</td></tr></table></td></tr></table></td></tr><tr><td><img src=\"/images/gestacplus/base/pixel.gif\" alt=\"\" style=\"display:block; border:none\" height=\"10\"></td></tr><tr><th colspan=\"2\"><a href=\"%0A         mailto:\"><font color=\"black\">Oriol Manuel</font></a></th></tr><tr><td><br><b><a href=\"%0A           mailto:\"><font color=\"black\">Stage d\\'ing\\xe9nieur cr\\xe9dit\\xe9 avec le PDM (master en Informatique)</font></a></b><br>(1 \\xe9t.)\\n      </td><td>Informatique, 2015-2016, Projet Master automne</td></tr><tr><td colspan=\"2\"><table border=\"1\" width=\"100%\"><tr><td width=\"20%\">Ghosn Adrien</td><td></td><td><table border=\"0\"><tr><td width=\"20%\"><b>Date de d\\xe9but : </b></td><td>15.02.2015</td></tr><tr><td width=\"20%\"><b>Date de fin : </b></td><td>15.08.2015</td></tr></table></td></tr></table></td></tr><tr><td><img src=\"/images/gestacplus/base/pixel.gif\" alt=\"\" style=\"display:block; border:none\" height=\"10\"></td></tr><tr><th colspan=\"2\"><a href=\"%0A         mailto:\"><font color=\"black\">Postnikov Anton</font></a></th></tr><tr><td><br><b><a href=\"%0A           mailto:\"><font color=\"black\">Stage d\\'ing\\xe9nieur cr\\xe9dit\\xe9 avec le PDM (master en Informatique)</font></a></b><br>(1 \\xe9t.)\\n      </td><td>Informatique, 2015-2016, Projet Master automne</td></tr><tr><td colspan=\"2\"><table border=\"1\" width=\"100%\"><tr><td width=\"20%\">Kanalas Vidor</td><td></td><td><table border=\"0\"><tr><td width=\"20%\"><b>Date de d\\xe9but : </b></td><td>28.02.2015</td></tr><tr><td width=\"20%\"><b>Date de fin : </b></td><td>28.08.2015</td></tr></table></td></tr></table></td></tr><tr><td><img src=\"/images/gestacplus/base/pixel.gif\" alt=\"\" style=\"display:block; border:none\" height=\"10\"></td></tr><tr><th colspan=\"2\"><a href=\"%0A         mailto:\"><font color=\"black\">Rajman Martin</font></a></th></tr><tr><td><br><b><a href=\"%0A           mailto:\"><font color=\"black\">Projet de master en informatique</font></a></b><br>(1 \\xe9t.)\\n      </td><td>Informatique, 2015-2016, Projet Master automne</td></tr><tr><td colspan=\"2\"><table border=\"1\" width=\"100%\"><tr><td width=\"20%\">Ashton Jean Scott Elie Marie</td><td></td><td><table border=\"0\"><tr><td width=\"20%\"><b>Civilit\\xe9 : </b></td><td>Monsieur</td></tr><tr><td width=\"20%\"><b>Date de d\\xe9but : </b></td><td>14.09.2015</td></tr><tr><td width=\"20%\"><b>Date de fin : </b></td><td>11.03.2016</td></tr><tr><td width=\"20%\"><b>Date examen : </b></td><td>15.04.2016</td></tr><tr><td width=\"20%\"><b>Ecole/entreprise : </b></td><td>Bricks</td></tr><tr><td width=\"20%\"><b>Emplacement PDM : </b></td><td>Hors  EPFL</td></tr><tr><td width=\"20%\"><b>Enseignant : </b></td><td>Rajman Martin</td></tr><tr><td width=\"20%\"><b>Envoi 1er rappel : </b></td><td>Oui</td></tr><tr><td width=\"20%\"><b>Heure examen : </b></td><td>10:00</td></tr><tr><td width=\"20%\"><b>Inscription pdm verifi\\xe9e : </b></td><td>Oui</td></tr><tr><td width=\"20%\"><b>Nom expert : </b></td><td>Lucas</td></tr><tr><td width=\"20%\"><b>Pr\\xe9nom expert : </b></td><td>S\\xe9bastien</td></tr><tr><td width=\"20%\"><b>Salle : </b></td><td>Impulse Labs, 130 rue de Lourmel, 75015 Paris</td></tr><tr><td width=\"20%\"><b>Statut donn\\xe9es expert : </b></td><td>Valid\\xe9</td></tr><tr><td width=\"20%\"><b>Valable pour stage : </b></td><td>Oui</td></tr></table></td></tr></table></td></tr><tr><td><img src=\"/images/gestacplus/base/pixel.gif\" alt=\"\" style=\"display:block; border:none\" height=\"10\"></td></tr><tr><th colspan=\"2\"><a href=\"%0A         mailto:\"><font color=\"black\">Rimoldi Bixio</font></a></th></tr><tr><td><br><b><a href=\"%0A           mailto:\"><font color=\"black\">Projet de master en informatique</font></a></b><br>(1 \\xe9t.)\\n      </td><td>Informatique, 2015-2016, Projet Master automne</td></tr><tr><td colspan=\"2\"><table border=\"1\" width=\"100%\"><tr><td width=\"20%\">Signo\\' Tiziano</td><td></td><td><table border=\"0\"><tr><td width=\"20%\"><b>Civilit\\xe9 : </b></td><td>Monsieur</td></tr><tr><td width=\"20%\"><b>Date de d\\xe9but : </b></td><td>01.09.2015</td></tr><tr><td width=\"20%\"><b>Date de fin : </b></td><td>29.02.2016</td></tr><tr><td width=\"20%\"><b>Date examen : </b></td><td>07.04.2016</td></tr><tr><td width=\"20%\"><b>Ecole/entreprise : </b></td><td>Airbus Defense and Space</td></tr><tr><td width=\"20%\"><b>Emplacement PDM : </b></td><td>Hors  EPFL</td></tr><tr><td width=\"20%\"><b>Enseignant : </b></td><td>Rimoldi Bixio</td></tr><tr><td width=\"20%\"><b>Envoi 1er rappel : </b></td><td>Oui</td></tr><tr><td width=\"20%\"><b>Envoi 2\\xe8me rappel : </b></td><td>Oui</td></tr><tr><td width=\"20%\"><b>Heure examen : </b></td><td>15:00</td></tr><tr><td width=\"20%\"><b>Inscription pdm verifi\\xe9e : </b></td><td>Oui</td></tr><tr><td width=\"20%\"><b>Nom expert : </b></td><td>Barrios-Montalvo</td></tr><tr><td width=\"20%\"><b>Pr\\xe9nom expert : </b></td><td>Andres</td></tr><tr><td width=\"20%\"><b>Salle : </b></td><td>BC 010 video conference</td></tr><tr><td width=\"20%\"><b>Statut donn\\xe9es expert : </b></td><td>Valid\\xe9</td></tr></table></td></tr></table></td></tr><tr><td><img src=\"/images/gestacplus/base/pixel.gif\" alt=\"\" style=\"display:block; border:none\" height=\"10\"></td></tr><tr><th colspan=\"2\"><a href=\"%0A         mailto:\"><font color=\"black\">Sangi Daryoush</font></a></th></tr><tr><td><br><b><a href=\"%0A           mailto:\"><font color=\"black\">Stage d\\'ing\\xe9nieur cr\\xe9dit\\xe9 avec le PDM (master en Informatique)</font></a></b><br>(1 \\xe9t.)\\n      </td><td>Informatique, 2015-2016, Projet Master automne</td></tr><tr><td colspan=\"2\"><table border=\"1\" width=\"100%\"><tr><td width=\"20%\">Liu Fengyun</td><td></td><td><table border=\"0\"><tr><td width=\"20%\"><b>Date de d\\xe9but : </b></td><td>20.07.2015</td></tr><tr><td width=\"20%\"><b>Date de fin : </b></td><td>11.09.2015</td></tr></table></td></tr></table></td></tr><tr><td><img src=\"/images/gestacplus/base/pixel.gif\" alt=\"\" style=\"display:block; border:none\" height=\"10\"></td></tr><tr><th colspan=\"2\"><a href=\"%0A         mailto:\"><font color=\"black\">Santani Darshan</font></a></th></tr><tr><td><br><b><a href=\"%0A           mailto:\"><font color=\"black\">Projet de master en informatique</font></a></b><br>(1 \\xe9t.)\\n      </td><td>Informatique, 2015-2016, Projet Master automne</td></tr><tr><td colspan=\"2\"><table border=\"1\" width=\"100%\"><tr><td width=\"20%\">Brix Fabian</td><td></td><td><table border=\"0\"><tr><td width=\"20%\"><b>Civilit\\xe9 : </b></td><td>Monsieur</td></tr><tr><td width=\"20%\"><b>Date de d\\xe9but : </b></td><td>14.09.2015</td></tr><tr><td width=\"20%\"><b>Date de fin : </b></td><td>15.01.2016</td></tr><tr><td width=\"20%\"><b>Date de naissance : </b></td><td>25.08.1983</td></tr><tr><td width=\"20%\"><b>Date examen : </b></td><td>09.02.2016</td></tr><tr><td width=\"20%\"><b>Ecole/entreprise : </b></td><td>EPFL, IC</td></tr><tr><td width=\"20%\"><b>Emplacement PDM : </b></td><td>EPFL</td></tr><tr><td width=\"20%\"><b>Enseignant : </b></td><td>Koch Christoph</td></tr><tr><td width=\"20%\"><b>Envoi 1er rappel : </b></td><td>Oui</td></tr><tr><td width=\"20%\"><b>Envoi 2\\xe8me rappel : </b></td><td>Oui</td></tr><tr><td width=\"20%\"><b>Expert (id) : </b></td><td>Santani Darshan</td></tr><tr><td width=\"20%\"><b>Heure examen : </b></td><td>14:00</td></tr><tr><td width=\"20%\"><b>Inscription pdm verifi\\xe9e : </b></td><td>Oui</td></tr><tr><td width=\"20%\"><b>Mots-cl\\xe9 : </b></td><td>open data, time series, visualization, international development, predictive analytics</td></tr><tr><td width=\"20%\"><b>Nom expert : </b></td><td>Santani</td></tr><tr><td width=\"20%\"><b>Pr\\xe9nom expert : </b></td><td>Darshan</td></tr><tr><td width=\"20%\"><b>R\\xe9sum\\xe9 : </b></td><td>Meticulous data collection and its timely dissemination are paramount to informed decision- making by stakeholders in any sector, especially in agricultural marketing which deals in perishable goods. In this context the government of India launched the Agricultural Marketing Information Network (AgMarkNet), an initiative to collect price and arrival tonnage information for crops from around 2500 wholesale markets throughout the country. The effort has resulted in a dataset of unique detail - spanning over a decade - that is still updated daily. However, the fact that the data series recorded for over 300 commodities are sparse, makes it hard to gain any insights. We succeed in overcoming the sparsity by using geospatial aggregation. Thus, we create data series with high coverage over the time period of data collection that allow for macro-level analysis at state and district level. We then create Agrigater, an interactive visualization interface built with web technologies for the geospatial exploration of different facets of the dataset as well as dynamical plotting of the generated time series. Once published online, it will enable stakeholders and academics to discover previously hidden patterns. In consequence, we unlock the potential of the AgMarkNet dataset for development.</td></tr><tr><td width=\"20%\"><b>Salle : </b></td><td>BC 229</td></tr><tr><td width=\"20%\"><b>Statut donn\\xe9es expert : </b></td><td>Valid\\xe9</td></tr></table></td></tr></table></td></tr><tr><td><img src=\"/images/gestacplus/base/pixel.gif\" alt=\"\" style=\"display:block; border:none\" height=\"10\"></td></tr><tr><th colspan=\"2\"><a href=\"%0A         mailto:\"><font color=\"black\">Schneider Johannes</font></a></th></tr><tr><td><br><b><a href=\"%0A           mailto:\"><font color=\"black\">Stage d\\'ing\\xe9nieur cr\\xe9dit\\xe9 avec le PDM (master en Informatique)</font></a></b><br>(1 \\xe9t.)\\n      </td><td>Informatique, 2015-2016, Projet Master automne</td></tr><tr><td colspan=\"2\"><table border=\"1\" width=\"100%\"><tr><td width=\"20%\">Lu Bin</td><td></td><td><table border=\"0\"><tr><td width=\"20%\"><b>Date de d\\xe9but : </b></td><td>01.03.2015</td></tr><tr><td width=\"20%\"><b>Date de fin : </b></td><td>31.08.2015</td></tr></table></td></tr></table></td></tr><tr><td><img src=\"/images/gestacplus/base/pixel.gif\" alt=\"\" style=\"display:block; border:none\" height=\"10\"></td></tr><tr><th colspan=\"2\"><a href=\"%0A         mailto:\"><font color=\"black\">Schneider Johannes</font></a></th></tr><tr><td><br><b><a href=\"%0A           mailto:\"><font color=\"black\">Projet de master en informatique</font></a></b><br>(2 \\xe9t.)\\n      </td><td>Informatique, 2015-2016, Projet Master automne</td></tr><tr><td colspan=\"2\"><table border=\"1\" width=\"100%\"><tr><td width=\"20%\">Babst Timo Philip</td><td></td><td><table border=\"0\"><tr><td width=\"20%\"><b>Civilit\\xe9 : </b></td><td>Monsieur</td></tr><tr><td width=\"20%\"><b>Date de d\\xe9but : </b></td><td>14.09.2015</td></tr><tr><td width=\"20%\"><b>Date de fin : </b></td><td>11.03.2016</td></tr><tr><td width=\"20%\"><b>Date examen : </b></td><td>05.04.2016</td></tr><tr><td width=\"20%\"><b>Ecole/entreprise : </b></td><td>ABB Corporate Research Center</td></tr><tr><td width=\"20%\"><b>Emplacement PDM : </b></td><td>Hors  EPFL</td></tr><tr><td width=\"20%\"><b>Enseignant : </b></td><td>Falsafi Babak</td></tr><tr><td width=\"20%\"><b>Envoi 1er rappel : </b></td><td>Oui</td></tr><tr><td width=\"20%\"><b>Expert (id) : </b></td><td>Schneider Johannes</td></tr><tr><td width=\"20%\"><b>Heure examen : </b></td><td>14:00</td></tr><tr><td width=\"20%\"><b>Inscription pdm verifi\\xe9e : </b></td><td>Oui</td></tr><tr><td width=\"20%\"><b>Mots-cl\\xe9 : </b></td><td>Web Analytics Big Data Classification Clustering User</td></tr><tr><td width=\"20%\"><b>Nom expert : </b></td><td>Schneider</td></tr><tr><td width=\"20%\"><b>Pr\\xe9nom expert : </b></td><td>Johannes</td></tr><tr><td width=\"20%\"><b>R\\xe9sum\\xe9 : </b></td><td>Web usage data provides a vast amount of knowledge that is of paramount\\nimportance for a company\\xe2\\x80\\x99s strategic and operational decisions. It is also a\\ncrucial resource for user experience improvement. For these reasons, many\\ncompanies utilize web analytics software. Unfortunately, these tools are un-\\nsatisfactory for ABB in two ways: they are limited to simple analysis tasks,\\nwhich do not leverage the full potential of the data. Additionally, they target\\nsmall companies, and thus do not match the needs for a large enterprise like\\nABB.\\nIn this thesis, we perform a more advanced study on the data that is\\nharvested, which allows us to gain insights that are inaccessible otherwise.\\nWe focus on three subjects. In our first area, we assess whether it is possible\\nto classify users based on interest and based upon the time they spend on a\\npage. 44% of users can be clearly segmented according to interests. For a\\nthird of the most frequently taken browsing paths, we can classify users into\\ntwo groups differing by at least 15 seconds in their viewing time, with at\\nleast 60 % precision and recall of one third. In our second subject, we study\\nwhether it is possible to forecast sales data based upon web activity. We\\nfound that, for the case of ABB, the relationship between the number pur-\\nchases and the number of pageviews is not so evident. Finally, we suggest\\nimprovements for the outlier detection functionality of existing web analytics\\nsoftware by segmenting the search space further as well as combining anoma-\\nlies having the same root cause. We showcased our ideas in a demonstrator\\ntool.</td></tr><tr><td width=\"20%\"><b>Salle : </b></td><td>BC 229</td></tr><tr><td width=\"20%\"><b>Statut donn\\xe9es expert : </b></td><td>Valid\\xe9</td></tr></table></td></tr><tr><td width=\"20%\">Lu Bin</td><td></td><td><table border=\"0\"><tr><td width=\"20%\"><b>Civilit\\xe9 : </b></td><td>Monsieur</td></tr><tr><td width=\"20%\"><b>Date de d\\xe9but : </b></td><td>14.09.2015</td></tr><tr><td width=\"20%\"><b>Date de fin : </b></td><td>11.03.2016</td></tr><tr><td width=\"20%\"><b>Date examen : </b></td><td>12.04.2016</td></tr><tr><td width=\"20%\"><b>Ecole/entreprise : </b></td><td>ABB</td></tr><tr><td width=\"20%\"><b>Emplacement PDM : </b></td><td>Hors  EPFL</td></tr><tr><td width=\"20%\"><b>Enseignant : </b></td><td>Vaudenay Serge</td></tr><tr><td width=\"20%\"><b>Envoi 1er rappel : </b></td><td>Oui</td></tr><tr><td width=\"20%\"><b>Expert (id) : </b></td><td>Schneider Johannes</td></tr><tr><td width=\"20%\"><b>Heure examen : </b></td><td>14:00</td></tr><tr><td width=\"20%\"><b>Inscription pdm verifi\\xe9e : </b></td><td>Oui</td></tr><tr><td width=\"20%\"><b>Nom expert : </b></td><td>Schneider</td></tr><tr><td width=\"20%\"><b>Pr\\xe9nom expert : </b></td><td>Johannes</td></tr><tr><td width=\"20%\"><b>Salle : </b></td><td>INF 226</td></tr><tr><td width=\"20%\"><b>Statut donn\\xe9es expert : </b></td><td>Valid\\xe9</td></tr></table></td></tr></table></td></tr><tr><td><img src=\"/images/gestacplus/base/pixel.gif\" alt=\"\" style=\"display:block; border:none\" height=\"10\"></td></tr><tr><th colspan=\"2\"><a href=\"%0A         mailto:\"><font color=\"black\">Vaivre Mikael</font></a></th></tr><tr><td><br><b><a href=\"%0A           mailto:\"><font color=\"black\">Projet de master en informatique</font></a></b><br>(1 \\xe9t.)\\n      </td><td>Informatique, 2015-2016, Projet Master automne</td></tr><tr><td colspan=\"2\"><table border=\"1\" width=\"100%\"><tr><td width=\"20%\">Aranibar Casas Ivan Wilson</td><td></td><td><table border=\"0\"><tr><td width=\"20%\"><b>Civilit\\xe9 : </b></td><td>Monsieur</td></tr><tr><td width=\"20%\"><b>Date de d\\xe9but : </b></td><td>21.09.2015</td></tr><tr><td width=\"20%\"><b>Date de fin : </b></td><td>18.03.2016</td></tr><tr><td width=\"20%\"><b>Date examen : </b></td><td>05.04.2016</td></tr><tr><td width=\"20%\"><b>Ecole/entreprise : </b></td><td>BestMile</td></tr><tr><td width=\"20%\"><b>Emplacement PDM : </b></td><td>Hors  EPFL</td></tr><tr><td width=\"20%\"><b>Enseignant : </b></td><td>Dillenbourg Pierre</td></tr><tr><td width=\"20%\"><b>Expert (id) : </b></td><td>Vaivre Mikael</td></tr><tr><td width=\"20%\"><b>Heure examen : </b></td><td>16:00</td></tr><tr><td width=\"20%\"><b>Inscription pdm verifi\\xe9e : </b></td><td>Oui</td></tr><tr><td width=\"20%\"><b>Mots-cl\\xe9 : </b></td><td>HCI, Data Visualialization, Transport</td></tr><tr><td width=\"20%\"><b>Nom expert : </b></td><td>Vaivre</td></tr><tr><td width=\"20%\"><b>Pr\\xe9nom expert : </b></td><td>Mikael</td></tr><tr><td width=\"20%\"><b>R\\xe9sum\\xe9 : </b></td><td>DESIGNING THE USER EXPERIENCE OF A COMMAND\\n\\nCENTER/DASHBOARD CONTROL FOR AUTONOMOUS\\n\\nTRANSPORT TRAFFIC A Command Center provides centralized\\n\\ncommand to ensure service and order. It does this by monitoring the\\n\\nenvironment and reacting to events using predefined procedures. 1.\\n\\nPROJECT DESCRIPTION a. Scope Being a critical work\\n\\nenvironment, the experience of people/users is key to achieving the\\n\\npoints above. Its design needs to consider the interaction between\\n\\nusers and systems, set within an environment. b. The Autonomous\\n\\nPublic Transport context presents its own set of challenges \\xad the\\n\\nnature of the operations , and the expectations of the passengers. c.\\n\\nInformation Visualization and System Planning Since the key to\\n\\nrunning a Command Center efficiently is better Information\\n\\nManagement, visualization of this information plays an important role.\\n\\nAn understanding of the principles of human cognition such as\\n\\ncolour, contrast, how many information buckets etc., can greatly\\n\\nimprove the user experience \\xad and effectiveness of Command Center\\n\\noperations. This can apply to aspects such as \\xad Weather, Incident\\n\\nManagement, Shuttle Location and status , Traffic etc. What are the\\n\\nnew kinds of management processes, and tools that are needed as\\n\\nthe users (shuttle routing planner) define routes for the Autonomous\\n\\nshuttle? What are the implications in user experience of\\n\\npeople/actors in manning a Command Center in such a scenario?\\n\\nUsers A list of the key users \\xad Route shuttle planner, shuttle\\n\\npassengers, Support technicians DELIVERABLES EXPECTED An\\n\\nWeb based implementation of the dashboard traffic control that is\\n\\ninformed by the scope outlined above. The following features are\\n\\nexpected: 1.\\xadAnalytic and reporting dashboard.\\xadThe vast amount of\\n\\ndata (Big Data) generated in the operation will be displayed in a\\n\\nmeaningful way, in order to facilitate the route planning and\\n\\nmonitoring. 2.\\xadControl and planning dashboard.\\xad This dashboard\\n\\nwould allow the user to create and edit the route of the shuttles as\\n\\nwell as monitor them.</td></tr><tr><td width=\"20%\"><b>Salle : </b></td><td>RLC D1 661</td></tr><tr><td width=\"20%\"><b>Statut donn\\xe9es expert : </b></td><td>Valid\\xe9</td></tr></table></td></tr></table></td></tr><tr><td><img src=\"/images/gestacplus/base/pixel.gif\" alt=\"\" style=\"display:block; border:none\" height=\"10\"></td></tr><tr><th colspan=\"2\"><a href=\"%0A         mailto:\"><font color=\"black\">Vaudenay Serge</font></a></th></tr><tr><td><br><b><a href=\"%0A           mailto:\"><font color=\"black\">Projet de master en informatique</font></a></b><br>(1 \\xe9t.)\\n      </td><td>Informatique, 2015-2016, Projet Master automne</td></tr><tr><td colspan=\"2\"><table border=\"1\" width=\"100%\"><tr><td width=\"20%\">Lu Bin</td><td></td><td><table border=\"0\"><tr><td width=\"20%\"><b>Civilit\\xe9 : </b></td><td>Monsieur</td></tr><tr><td width=\"20%\"><b>Date de d\\xe9but : </b></td><td>14.09.2015</td></tr><tr><td width=\"20%\"><b>Date de fin : </b></td><td>11.03.2016</td></tr><tr><td width=\"20%\"><b>Date examen : </b></td><td>12.04.2016</td></tr><tr><td width=\"20%\"><b>Ecole/entreprise : </b></td><td>ABB</td></tr><tr><td width=\"20%\"><b>Emplacement PDM : </b></td><td>Hors  EPFL</td></tr><tr><td width=\"20%\"><b>Enseignant : </b></td><td>Vaudenay Serge</td></tr><tr><td width=\"20%\"><b>Envoi 1er rappel : </b></td><td>Oui</td></tr><tr><td width=\"20%\"><b>Expert (id) : </b></td><td>Schneider Johannes</td></tr><tr><td width=\"20%\"><b>Heure examen : </b></td><td>14:00</td></tr><tr><td width=\"20%\"><b>Inscription pdm verifi\\xe9e : </b></td><td>Oui</td></tr><tr><td width=\"20%\"><b>Nom expert : </b></td><td>Schneider</td></tr><tr><td width=\"20%\"><b>Pr\\xe9nom expert : </b></td><td>Johannes</td></tr><tr><td width=\"20%\"><b>Salle : </b></td><td>INF 226</td></tr><tr><td width=\"20%\"><b>Statut donn\\xe9es expert : </b></td><td>Valid\\xe9</td></tr></table></td></tr></table></td></tr><tr><td><img src=\"/images/gestacplus/base/pixel.gif\" alt=\"\" style=\"display:block; border:none\" height=\"10\"></td></tr><tr><th colspan=\"2\"><a href=\"%0A         mailto:\"><font color=\"black\">Vetterli Martin</font></a></th></tr><tr><td><br><b><a href=\"%0A           mailto:\"><font color=\"black\">Projet de master en informatique</font></a></b><br>(1 \\xe9t.)\\n      </td><td>Informatique, 2015-2016, Projet Master automne</td></tr><tr><td colspan=\"2\"><table border=\"1\" width=\"100%\"><tr><td width=\"20%\">Graisse Julien</td><td></td><td><table border=\"0\"><tr><td width=\"20%\"><b>Civilit\\xe9 : </b></td><td>Monsieur</td></tr><tr><td width=\"20%\"><b>Date de d\\xe9but : </b></td><td>01.09.2015</td></tr><tr><td width=\"20%\"><b>Date de fin : </b></td><td>29.02.2016</td></tr><tr><td width=\"20%\"><b>Date examen : </b></td><td>17.03.2016</td></tr><tr><td width=\"20%\"><b>Ecole/entreprise : </b></td><td>Vidinoti SA</td></tr><tr><td width=\"20%\"><b>Emplacement PDM : </b></td><td>Hors  EPFL</td></tr><tr><td width=\"20%\"><b>Enseignant : </b></td><td>Vetterli Martin</td></tr><tr><td width=\"20%\"><b>Expert (id) : </b></td><td>Ayer Serge</td></tr><tr><td width=\"20%\"><b>Heure examen : </b></td><td>13:30</td></tr><tr><td width=\"20%\"><b>Inscription pdm verifi\\xe9e : </b></td><td>Oui</td></tr><tr><td width=\"20%\"><b>Nom expert : </b></td><td>Leuenberger</td></tr><tr><td width=\"20%\"><b>Pr\\xe9nom expert : </b></td><td>Johan</td></tr><tr><td width=\"20%\"><b>R\\xe9sum\\xe9 : </b></td><td>Vidinoti offers to customer the ability to connect multimedia, digital and Internet-based content to real world objects through augmented reality. This web-based beacon management tool will allows customers to manage beacons in a visual way. They will be able to place beacons on a map (indoor or outdoor) depending on their needs and use cases and eventually gather analytics, related to people detected by the beacons, throughout an analytics dashboard.</td></tr><tr><td width=\"20%\"><b>Salle : </b></td><td>BC329</td></tr><tr><td width=\"20%\"><b>Statut donn\\xe9es expert : </b></td><td>Valid\\xe9</td></tr><tr><td width=\"20%\"><b>Valable pour stage : </b></td><td>Oui</td></tr></table></td></tr></table></td></tr><tr><td><img src=\"/images/gestacplus/base/pixel.gif\" alt=\"\" style=\"display:block; border:none\" height=\"10\"></td></tr><tr><th colspan=\"2\"><a href=\"%0A         mailto:\"><font color=\"black\">Wegmann Alain</font></a></th></tr><tr><td><br><b><a href=\"%0A           mailto:\"><font color=\"black\">Projet de master en informatique</font></a></b><br>(1 \\xe9t.)\\n      </td><td>Informatique, 2015-2016, Projet Master automne</td></tr><tr><td colspan=\"2\"><table border=\"1\" width=\"100%\"><tr><td width=\"20%\">Scarnera Gianni</td><td></td><td><table border=\"0\"><tr><td width=\"20%\"><b>Civilit\\xe9 : </b></td><td>Monsieur</td></tr><tr><td width=\"20%\"><b>Date de d\\xe9but : </b></td><td>14.09.2015</td></tr><tr><td width=\"20%\"><b>Date de fin : </b></td><td>11.03.2016</td></tr><tr><td width=\"20%\"><b>Date examen : </b></td><td>12.04.2016</td></tr><tr><td width=\"20%\"><b>Ecole/entreprise : </b></td><td>AUBEP SA</td></tr><tr><td width=\"20%\"><b>Emplacement PDM : </b></td><td>Hors  EPFL</td></tr><tr><td width=\"20%\"><b>Enseignant : </b></td><td>Wegmann Alain</td></tr><tr><td width=\"20%\"><b>Envoi 1er rappel : </b></td><td>Oui</td></tr><tr><td width=\"20%\"><b>Envoi 2\\xe8me rappel : </b></td><td>Oui</td></tr><tr><td width=\"20%\"><b>Heure examen : </b></td><td>10:30</td></tr><tr><td width=\"20%\"><b>Inscription pdm verifi\\xe9e : </b></td><td>Oui</td></tr><tr><td width=\"20%\"><b>Nom expert : </b></td><td>Bourgeois</td></tr><tr><td width=\"20%\"><b>Pr\\xe9nom expert : </b></td><td>Jean</td></tr><tr><td width=\"20%\"><b>R\\xe9sum\\xe9 : </b></td><td>D\\xe9veloppement d\\'un format d\\'\\xe9change de donn\\xe9es ERP permettant l\\'interaction de clients-fournisseurs ou entres partenaire de mani\\xe8re automatis\\xe9e. \\n - Analyse et d\\xe9finition du format d\\'\\xe9change \\n - mise en place d\\'un processus \\n - interactions entre logiciels AUBEP ou avec logiciels tiers \\n - s\\xe9curisation des donn\\xe9es \\xe9chang\\xe9es \\n - mise en place d\\'un r\\xe9partiteur \\n - tests et validation grandeur nature</td></tr><tr><td width=\"20%\"><b>Salle : </b></td><td>BC129</td></tr><tr><td width=\"20%\"><b>Statut donn\\xe9es expert : </b></td><td>Valid\\xe9</td></tr></table></td></tr></table></td></tr><tr><td><img src=\"/images/gestacplus/base/pixel.gif\" alt=\"\" style=\"display:block; border:none\" height=\"10\"></td></tr><tr><th colspan=\"2\"><a href=\"%0A         mailto:\"><font color=\"black\">van Rooden Bastiaan</font></a></th></tr><tr><td><br><b><a href=\"%0A           mailto:\"><font color=\"black\">Projet de master en informatique</font></a></b><br>(1 \\xe9t.)\\n      </td><td>Informatique, 2015-2016, Projet Master automne</td></tr><tr><td colspan=\"2\"><table border=\"1\" width=\"100%\"><tr><td width=\"20%\">Sandoz David</td><td></td><td><table border=\"0\"><tr><td width=\"20%\"><b>Civilit\\xe9 : </b></td><td>Monsieur</td></tr><tr><td width=\"20%\"><b>Date de d\\xe9but : </b></td><td>14.09.2015</td></tr><tr><td width=\"20%\"><b>Date de fin : </b></td><td>11.03.2016</td></tr><tr><td width=\"20%\"><b>Date examen : </b></td><td>07.04.2016</td></tr><tr><td width=\"20%\"><b>Ecole/entreprise : </b></td><td>Nothing GmbH</td></tr><tr><td width=\"20%\"><b>Emplacement PDM : </b></td><td>Hors  EPFL</td></tr><tr><td width=\"20%\"><b>Enseignant : </b></td><td>Gillet Denis</td></tr><tr><td width=\"20%\"><b>Expert (id) : </b></td><td>van Rooden Bastiaan</td></tr><tr><td width=\"20%\"><b>Heure examen : </b></td><td>11:00</td></tr><tr><td width=\"20%\"><b>Inscription pdm verifi\\xe9e : </b></td><td>Oui</td></tr><tr><td width=\"20%\"><b>Nom expert : </b></td><td>van Rooden</td></tr><tr><td width=\"20%\"><b>Pr\\xe9nom expert : </b></td><td>Bastiaan</td></tr><tr><td width=\"20%\"><b>R\\xe9sum\\xe9 : </b></td><td>Humans have ideas and they are generally improved when those are shared and dis- cussed among several people. However, it can quickly get quite messy so our goal is to design and develop a platform \\xe2\\x80\\x93 Flok \\xe2\\x80\\x93 that significantly improves collaboration around ideas, while providing an experience as human as possible. To do so, we took a user- centered approach by using processes such as the creation of personas, user story map- ping, wireframing and prototyping. Based on those processes and a well defined informa- tion architecture, we built a front-end application. The back-end also has an important role in order to have a fully working final product. However, we let the experience drive the product, not vice versa. Therefore, to make a good experience, we prioritized user testing over implementing the back-end as the given time frame was not allowing us to do both. We were able to improve the front-end and verify some of our assumptions by doing three test sessions. The feedback we got is promising and tells us we are going in the right direction. Building the back-end is one of the important next steps that will allow us to have a fully working application. Combining that with more user testing will allow us to validate or invalidate further assumptions.</td></tr><tr><td width=\"20%\"><b>Salle : </b></td><td>ME B10</td></tr><tr><td width=\"20%\"><b>Statut donn\\xe9es expert : </b></td><td>Valid\\xe9</td></tr><tr><td width=\"20%\"><b>Valable pour stage : </b></td><td>Oui</td></tr></table></td></tr></table></td></tr></table></body></html>\\n<!-- OpenXml:0.01s  agent ctrl:0.01s  xml:1.19s  xsl extr&stylesheet:0.00s  xsl after parsing:0.00s  xsl ctrl data:0.01s  transform 2:0.29s  xsl process:0.00s  -->'"
      ]
     },
     "execution_count": 57,
     "metadata": {},
     "output_type": "execute_result"
    }
   ],
   "source": [
    "PROJECT_BASE_URL = 'http://isa.epfl.ch/imoniteur_ISAP/!GEDPUBLICREPORTS.html?ww_i_reportmodel=3069459&ww_i_reportModelXsl=3069477'\n",
    "\n",
    "def get_project_html_content(maj, yr, stat, sem):\n",
    "    # obtain gps\n",
    "    payload = {PARAM_MAJ: majors[maj],\n",
    "               PARAM_YR: acad_yrs[yr], \n",
    "               PARAM_STATUS: statuses[stat],\n",
    "               PARAM_SEM: semesters[sem]}\n",
    "    r = requests.get(PROJECT_BASE_URL, params=payload)\n",
    "    return r.content\n",
    "\n",
    "r = get_project_html_content('Informatique', '2015-2016', 'Projet Master automne', \"Semestre d'automne\")"
   ]
  },
  {
   "cell_type": "code",
   "execution_count": 63,
   "metadata": {
    "collapsed": false
   },
   "outputs": [],
   "source": [
    "def students_from_project_html(content):\n",
    "    # We observe that student name <td> entry differientiates the others from not having a 'b' tag\n",
    "    students = []\n",
    "    soup = BeautifulSoup(content, 'html.parser')\n",
    "    entries = soup.findAll('td', width=\"20%\")\n",
    "    for entry in entries:\n",
    "        if entry.find('b') == None:\n",
    "            students.append(entry.text)\n",
    "    return students"
   ]
  },
  {
   "cell_type": "code",
   "execution_count": 64,
   "metadata": {
    "collapsed": false,
    "scrolled": true
   },
   "outputs": [
    {
     "data": {
      "text/plain": [
       "['Taneli Deniz',\n",
       " 'El Khoury Raphael',\n",
       " 'Wang Zisi',\n",
       " 'Zaridze Ketevani',\n",
       " 'Mizraji Thomas',\n",
       " 'Favrod Philémon Orphée',\n",
       " 'Bovet Sidney',\n",
       " 'Szabo Kristof Tamas',\n",
       " 'Rabasco Jérémy',\n",
       " 'Antognini Diego Matteo',\n",
       " 'Manasovska Ana',\n",
       " 'Sbai Hugo',\n",
       " 'Pignat Eliéva Arlette',\n",
       " 'Qureshi Zaid',\n",
       " 'Maitre Grégory Ludovic',\n",
       " 'Oliveira Andrade Patrick Daniel',\n",
       " 'Rousseau Adrien Jean-Louis',\n",
       " 'Schmutz Michaël Steven',\n",
       " 'Loiseleur Thibaut',\n",
       " 'Sbai Marion Fadoi',\n",
       " 'Canale Raffaele',\n",
       " 'Zhang Jin',\n",
       " 'Bouquet Stéphane',\n",
       " 'Robert Arnaud',\n",
       " 'Farcasanu Alexandru-Ciprian',\n",
       " 'Wang Zisi',\n",
       " 'Valette Laurent Michel',\n",
       " 'Junker Florian Christophe',\n",
       " 'Robert Arnaud',\n",
       " 'Guliyev Khayyam Mubariz Oglu',\n",
       " 'Ionescu Vlad Nicolae',\n",
       " 'Antognini Marco',\n",
       " 'Grütter Karl Samuel',\n",
       " 'Gaspoz John',\n",
       " 'Débieux Vincent',\n",
       " 'Sikiaridis Alexandre Jean Denis',\n",
       " 'Gilgien David Yann',\n",
       " 'Duhem Martin Nicolas',\n",
       " 'Amiguet Jérôme',\n",
       " 'Leiva Loris Angel',\n",
       " 'Galissard de Marignac Vincent',\n",
       " 'Schegg Elias',\n",
       " 'Fokeas Sotirios',\n",
       " 'Rudelle Matthieu François Edgard',\n",
       " 'Engilberge Martin Pierre',\n",
       " 'Wickramasinghe Pamuditha Udaranga',\n",
       " 'Ferrier Etienne Pierre Maurice',\n",
       " 'Tallec Corentin Jean Daniel',\n",
       " 'Brechbühler Gil',\n",
       " 'Cao Huu-Ân',\n",
       " 'Majeri Kasmaei Chervine',\n",
       " 'Cardoso Rodrigues Bonifácio Vítor Gonçalo',\n",
       " 'Piskas Georgios',\n",
       " 'Drobnjak Nemanja',\n",
       " 'Tang Tinh Di David',\n",
       " 'El Houti Youssef',\n",
       " 'Vessaz Florian']"
      ]
     },
     "execution_count": 64,
     "metadata": {},
     "output_type": "execute_result"
    }
   ],
   "source": [
    "students_from_project_html(r.content)"
   ]
  },
  {
   "cell_type": "code",
   "execution_count": 69,
   "metadata": {
    "collapsed": false
   },
   "outputs": [
    {
     "data": {
      "text/html": [
       "<div>\n",
       "<table border=\"1\" class=\"dataframe\">\n",
       "  <thead>\n",
       "    <tr style=\"text-align: right;\">\n",
       "      <th></th>\n",
       "      <th>0</th>\n",
       "    </tr>\n",
       "  </thead>\n",
       "  <tbody>\n",
       "    <tr>\n",
       "      <th>Manasovska Ana</th>\n",
       "      <td>2016-2017</td>\n",
       "    </tr>\n",
       "    <tr>\n",
       "      <th>Graisse Julien</th>\n",
       "      <td>2015-2016</td>\n",
       "    </tr>\n",
       "    <tr>\n",
       "      <th>Tang Tinh Di David</th>\n",
       "      <td>2016-2017</td>\n",
       "    </tr>\n",
       "    <tr>\n",
       "      <th>Mazloumian Seyyed Amin</th>\n",
       "      <td>2007-2008</td>\n",
       "    </tr>\n",
       "    <tr>\n",
       "      <th>Perrenoud Basile Samuel</th>\n",
       "      <td>2012-2013</td>\n",
       "    </tr>\n",
       "    <tr>\n",
       "      <th>Pollet Christophe</th>\n",
       "      <td>2009-2010</td>\n",
       "    </tr>\n",
       "    <tr>\n",
       "      <th>Aranibar Casas Ivan Wilson</th>\n",
       "      <td>2015-2016</td>\n",
       "    </tr>\n",
       "    <tr>\n",
       "      <th>Eilemann Stefan</th>\n",
       "      <td>2014-2015</td>\n",
       "    </tr>\n",
       "    <tr>\n",
       "      <th>Popovic Miroslav</th>\n",
       "      <td>2009-2010</td>\n",
       "    </tr>\n",
       "    <tr>\n",
       "      <th>Balmau Oana Maria</th>\n",
       "      <td>2014-2015</td>\n",
       "    </tr>\n",
       "    <tr>\n",
       "      <th>Zablotchi Mihail Igor</th>\n",
       "      <td>2014-2015</td>\n",
       "    </tr>\n",
       "    <tr>\n",
       "      <th>Gaba Foli Kodjo</th>\n",
       "      <td>2011-2012</td>\n",
       "    </tr>\n",
       "    <tr>\n",
       "      <th>Miraglia Franco de Carvalho Pedro</th>\n",
       "      <td>2012-2013</td>\n",
       "    </tr>\n",
       "    <tr>\n",
       "      <th>Pellegrini Paul</th>\n",
       "      <td>2013-2014</td>\n",
       "    </tr>\n",
       "    <tr>\n",
       "      <th>Dotta Mirco</th>\n",
       "      <td>2008-2009</td>\n",
       "    </tr>\n",
       "    <tr>\n",
       "      <th>Kuraj Ivan</th>\n",
       "      <td>2012-2013</td>\n",
       "    </tr>\n",
       "    <tr>\n",
       "      <th>Pirillos Stefanos</th>\n",
       "      <td>2007-2008</td>\n",
       "    </tr>\n",
       "    <tr>\n",
       "      <th>Rodriguez Oriane</th>\n",
       "      <td>2013-2014</td>\n",
       "    </tr>\n",
       "    <tr>\n",
       "      <th>Muñoz Iván</th>\n",
       "      <td>2008-2009</td>\n",
       "    </tr>\n",
       "    <tr>\n",
       "      <th>Drissi El Kamili Nassim</th>\n",
       "      <td>2015-2016</td>\n",
       "    </tr>\n",
       "    <tr>\n",
       "      <th>Stucki Nicolas Alexander</th>\n",
       "      <td>2014-2015</td>\n",
       "    </tr>\n",
       "    <tr>\n",
       "      <th>Vo Quoc Viet</th>\n",
       "      <td>2007-2008</td>\n",
       "    </tr>\n",
       "    <tr>\n",
       "      <th>Kim Yongsung</th>\n",
       "      <td>2012-2013</td>\n",
       "    </tr>\n",
       "    <tr>\n",
       "      <th>Cassata Alexandre</th>\n",
       "      <td>2009-2010</td>\n",
       "    </tr>\n",
       "    <tr>\n",
       "      <th>Seiculescu Ciprian</th>\n",
       "      <td>2007-2008</td>\n",
       "    </tr>\n",
       "    <tr>\n",
       "      <th>Peter Naoki Laurent</th>\n",
       "      <td>2013-2014</td>\n",
       "    </tr>\n",
       "    <tr>\n",
       "      <th>Jing Lifu</th>\n",
       "      <td>2012-2013</td>\n",
       "    </tr>\n",
       "    <tr>\n",
       "      <th>Pamingle Michael Maurice Roger</th>\n",
       "      <td>2011-2012</td>\n",
       "    </tr>\n",
       "    <tr>\n",
       "      <th>Good Xavier</th>\n",
       "      <td>2013-2014</td>\n",
       "    </tr>\n",
       "    <tr>\n",
       "      <th>Vessaz Florian</th>\n",
       "      <td>2016-2017</td>\n",
       "    </tr>\n",
       "    <tr>\n",
       "      <th>...</th>\n",
       "      <td>...</td>\n",
       "    </tr>\n",
       "    <tr>\n",
       "      <th>Marx Clément</th>\n",
       "      <td>2010-2011</td>\n",
       "    </tr>\n",
       "    <tr>\n",
       "      <th>Barazzutti Raphaël Pierre</th>\n",
       "      <td>2008-2009</td>\n",
       "    </tr>\n",
       "    <tr>\n",
       "      <th>Babst Timo Philip</th>\n",
       "      <td>2015-2016</td>\n",
       "    </tr>\n",
       "    <tr>\n",
       "      <th>Rajan Vaibhav</th>\n",
       "      <td>2007-2008</td>\n",
       "    </tr>\n",
       "    <tr>\n",
       "      <th>Heiniger Nicolas</th>\n",
       "      <td>2008-2009</td>\n",
       "    </tr>\n",
       "    <tr>\n",
       "      <th>Buchschacher Nicolas</th>\n",
       "      <td>2011-2012</td>\n",
       "    </tr>\n",
       "    <tr>\n",
       "      <th>Podlaski William Francis</th>\n",
       "      <td>2013-2014</td>\n",
       "    </tr>\n",
       "    <tr>\n",
       "      <th>Cino Emanuel</th>\n",
       "      <td>2012-2013</td>\n",
       "    </tr>\n",
       "    <tr>\n",
       "      <th>Schild Stéphane</th>\n",
       "      <td>2007-2008</td>\n",
       "    </tr>\n",
       "    <tr>\n",
       "      <th>Jeanneret Cédric</th>\n",
       "      <td>2007-2008</td>\n",
       "    </tr>\n",
       "    <tr>\n",
       "      <th>Ruf Boris</th>\n",
       "      <td>2007-2008</td>\n",
       "    </tr>\n",
       "    <tr>\n",
       "      <th>La Spada Luca</th>\n",
       "      <td>2015-2016</td>\n",
       "    </tr>\n",
       "    <tr>\n",
       "      <th>Maznikar Adela</th>\n",
       "      <td>2011-2012</td>\n",
       "    </tr>\n",
       "    <tr>\n",
       "      <th>Forster Beatrice</th>\n",
       "      <td>2007-2008</td>\n",
       "    </tr>\n",
       "    <tr>\n",
       "      <th>Meinen Jennifer</th>\n",
       "      <td>2008-2009</td>\n",
       "    </tr>\n",
       "    <tr>\n",
       "      <th>Lorch Daniel</th>\n",
       "      <td>2009-2010</td>\n",
       "    </tr>\n",
       "    <tr>\n",
       "      <th>Do Son Thanh</th>\n",
       "      <td>2014-2015</td>\n",
       "    </tr>\n",
       "    <tr>\n",
       "      <th>Loiseleur Thibaut</th>\n",
       "      <td>2016-2017</td>\n",
       "    </tr>\n",
       "    <tr>\n",
       "      <th>Marfurt Nicolas</th>\n",
       "      <td>2009-2010</td>\n",
       "    </tr>\n",
       "    <tr>\n",
       "      <th>Chiu Cheng-Hsiang</th>\n",
       "      <td>2015-2016</td>\n",
       "    </tr>\n",
       "    <tr>\n",
       "      <th>Ganguin Michel</th>\n",
       "      <td>2007-2008</td>\n",
       "    </tr>\n",
       "    <tr>\n",
       "      <th>Duhem Martin Nicolas</th>\n",
       "      <td>2016-2017</td>\n",
       "    </tr>\n",
       "    <tr>\n",
       "      <th>Burger Christopher</th>\n",
       "      <td>2007-2008</td>\n",
       "    </tr>\n",
       "    <tr>\n",
       "      <th>Blanchoud Simon</th>\n",
       "      <td>2007-2008</td>\n",
       "    </tr>\n",
       "    <tr>\n",
       "      <th>Bouquet Stéphane</th>\n",
       "      <td>2016-2017</td>\n",
       "    </tr>\n",
       "    <tr>\n",
       "      <th>Cervini David</th>\n",
       "      <td>2014-2015</td>\n",
       "    </tr>\n",
       "    <tr>\n",
       "      <th>Oliveira Andrade Patrick Daniel</th>\n",
       "      <td>2016-2017</td>\n",
       "    </tr>\n",
       "    <tr>\n",
       "      <th>Velimirovic Mihajlo</th>\n",
       "      <td>2011-2012</td>\n",
       "    </tr>\n",
       "    <tr>\n",
       "      <th>Genet Henry</th>\n",
       "      <td>2009-2010</td>\n",
       "    </tr>\n",
       "    <tr>\n",
       "      <th>Benabdeljalil Amine</th>\n",
       "      <td>2014-2015</td>\n",
       "    </tr>\n",
       "  </tbody>\n",
       "</table>\n",
       "<p>374 rows × 1 columns</p>\n",
       "</div>"
      ],
      "text/plain": [
       "                                           0\n",
       "Manasovska Ana                     2016-2017\n",
       "Graisse Julien                     2015-2016\n",
       "Tang Tinh Di David                 2016-2017\n",
       "Mazloumian Seyyed Amin             2007-2008\n",
       "Perrenoud Basile Samuel            2012-2013\n",
       "Pollet Christophe                  2009-2010\n",
       "Aranibar Casas Ivan Wilson         2015-2016\n",
       "Eilemann Stefan                    2014-2015\n",
       "Popovic Miroslav                   2009-2010\n",
       "Balmau Oana Maria                  2014-2015\n",
       "Zablotchi Mihail Igor              2014-2015\n",
       "Gaba Foli Kodjo                    2011-2012\n",
       "Miraglia Franco de Carvalho Pedro  2012-2013\n",
       "Pellegrini Paul                    2013-2014\n",
       "Dotta Mirco                        2008-2009\n",
       "Kuraj Ivan                         2012-2013\n",
       "Pirillos Stefanos                  2007-2008\n",
       "Rodriguez Oriane                   2013-2014\n",
       "Muñoz Iván                         2008-2009\n",
       "Drissi El Kamili Nassim            2015-2016\n",
       "Stucki Nicolas Alexander           2014-2015\n",
       "Vo Quoc Viet                       2007-2008\n",
       "Kim Yongsung                       2012-2013\n",
       "Cassata Alexandre                  2009-2010\n",
       "Seiculescu Ciprian                 2007-2008\n",
       "Peter Naoki Laurent                2013-2014\n",
       "Jing Lifu                          2012-2013\n",
       "Pamingle Michael Maurice Roger     2011-2012\n",
       "Good Xavier                        2013-2014\n",
       "Vessaz Florian                     2016-2017\n",
       "...                                      ...\n",
       "Marx Clément                       2010-2011\n",
       "Barazzutti Raphaël Pierre          2008-2009\n",
       "Babst Timo Philip                  2015-2016\n",
       "Rajan Vaibhav                      2007-2008\n",
       "Heiniger Nicolas                   2008-2009\n",
       "Buchschacher Nicolas               2011-2012\n",
       "Podlaski William Francis           2013-2014\n",
       "Cino Emanuel                       2012-2013\n",
       "Schild Stéphane                    2007-2008\n",
       "Jeanneret Cédric                   2007-2008\n",
       "Ruf Boris                          2007-2008\n",
       "La Spada Luca                      2015-2016\n",
       "Maznikar Adela                     2011-2012\n",
       "Forster Beatrice                   2007-2008\n",
       "Meinen Jennifer                    2008-2009\n",
       "Lorch Daniel                       2009-2010\n",
       "Do Son Thanh                       2014-2015\n",
       "Loiseleur Thibaut                  2016-2017\n",
       "Marfurt Nicolas                    2009-2010\n",
       "Chiu Cheng-Hsiang                  2015-2016\n",
       "Ganguin Michel                     2007-2008\n",
       "Duhem Martin Nicolas               2016-2017\n",
       "Burger Christopher                 2007-2008\n",
       "Blanchoud Simon                    2007-2008\n",
       "Bouquet Stéphane                   2016-2017\n",
       "Cervini David                      2014-2015\n",
       "Oliveira Andrade Patrick Daniel    2016-2017\n",
       "Velimirovic Mihajlo                2011-2012\n",
       "Genet Henry                        2009-2010\n",
       "Benabdeljalil Amine                2014-2015\n",
       "\n",
       "[374 rows x 1 columns]"
      ]
     },
     "execution_count": 69,
     "metadata": {},
     "output_type": "execute_result"
    }
   ],
   "source": [
    "PROJECT_BASE_URL = 'http://isa.epfl.ch/imoniteur_ISAP/!GEDPUBLICREPORTS.html?ww_i_reportmodel=3069459&ww_i_reportModelXsl=3069477'\n",
    "\n",
    "def get_project_html_content(maj, yr, stat, sem):\n",
    "    # obtain gps\n",
    "    payload = {PARAM_MAJ: majors[maj],\n",
    "               PARAM_YR: acad_yrs[yr], \n",
    "               PARAM_STATUS: statuses[stat],\n",
    "               PARAM_SEM: semesters[sem]}\n",
    "    r = requests.get(PROJECT_BASE_URL, params=payload)\n",
    "    return r.content\n",
    "\n",
    "# combine steps 1-4 from procedure of extracting HTML content of desired students\n",
    "def get_project_html_content(maj, yr, stat, sem):\n",
    "    # obtain gps\n",
    "    payload = {PARAM_MAJ: majors[maj],\n",
    "               PARAM_YR: acad_yrs[yr], \n",
    "               PARAM_STATUS: statuses[stat],\n",
    "               PARAM_SEM: semesters[sem]}\n",
    "    r = requests.get(PROJECT_BASE_URL, params=payload)\n",
    "    return r.content\n",
    "\n",
    "# scrape student data for a particular major and student status\n",
    "def scrape_project_data(maj, stat):\n",
    "    dic = {}\n",
    "    # go through all statuses, years, and semesters\n",
    "    for yr in acad_yrs.keys():\n",
    "        for sem in semesters.keys():\n",
    "            html_content = get_project_html_content(maj, yr, stat, sem)\n",
    "            students = students_from_project_html(html_content)\n",
    "            for student in students:\n",
    "                dic[student] = yr\n",
    "    df = pd.DataFrame.from_dict(dic, orient='index')\n",
    "    return df\n",
    "\n",
    "df_automne = scrape_project_data('Informatique', 'Projet Master automne')\n",
    "#df_spring = scrape_project_data('Informatique', 'Projet de printemps')\n",
    "df"
   ]
  },
  {
   "cell_type": "code",
   "execution_count": null,
   "metadata": {
    "collapsed": true
   },
   "outputs": [],
   "source": []
  }
 ],
 "metadata": {
  "anaconda-cloud": {},
  "kernelspec": {
   "display_name": "Python [default]",
   "language": "python",
   "name": "python3"
  },
  "language_info": {
   "codemirror_mode": {
    "name": "ipython",
    "version": 3
   },
   "file_extension": ".py",
   "mimetype": "text/x-python",
   "name": "python",
   "nbconvert_exporter": "python",
   "pygments_lexer": "ipython3",
   "version": "3.5.2"
  }
 },
 "nbformat": 4,
 "nbformat_minor": 0
}
