{
 "cells": [
  {
   "cell_type": "code",
   "execution_count": 1,
   "metadata": {
    "collapsed": true
   },
   "outputs": [],
   "source": [
    "import requests\n",
    "from bs4 import BeautifulSoup"
   ]
  },
  {
   "cell_type": "code",
   "execution_count": 2,
   "metadata": {
    "collapsed": true
   },
   "outputs": [],
   "source": [
    "# parameter keys\n",
    "PARAM_YEAR = 'ww_x_PERIODE_ACAD'\n",
    "PARAM_STATUS = 'ww_x_PERIODE_PEDAGO'\n",
    "PARAM_SEMESTER = 'ww_x_HIVERETE'\n",
    "PARAM_GPS = 'ww_x_GPS'"
   ]
  },
  {
   "cell_type": "code",
   "execution_count": 3,
   "metadata": {
    "collapsed": false
   },
   "outputs": [],
   "source": [
    "FILTER_BASE_URL = 'http://isa.epfl.ch/imoniteur_ISAP/!GEDPUBLICREPORTS.filter?ww_b_list=1&ww_i_reportmodel=133685247&ww_i_reportModelXsl=133685270&ww_x_UNITE_ACAD=249847'\n",
    "GPS_BASE_URL = 'http://isa.epfl.ch/imoniteur_ISAP/!GEDPUBLICREPORTS.html?ww_i_reportModel=133685247&ww_i_reportModelXsl=133685270&ww_b_list=1&ww_x_UNITE_ACAD=249847'"
   ]
  },
  {
   "cell_type": "code",
   "execution_count": 4,
   "metadata": {
    "collapsed": true
   },
   "outputs": [],
   "source": [
    "STATUS_B1 = \"Bachelor semestre 1\"\n",
    "STATUS_B6 = \"Bachelor semestre 6\""
   ]
  },
  {
   "cell_type": "code",
   "execution_count": 5,
   "metadata": {
    "collapsed": false
   },
   "outputs": [],
   "source": [
    "# create dict from dropdown menus\n",
    "def create_dict(field_list):\n",
    "    field_dict = {}\n",
    "    for i in range(len(field_list)):\n",
    "        if field_list[i].string != None:\n",
    "            field_dict[field_list[i].string] = field_list[i][\"value\"]\n",
    "    return field_dict\n",
    "\n",
    "r = requests.get(FILTER_BASE_URL)\n",
    "soup = BeautifulSoup(r.content, 'html.parser')\n",
    "\n",
    "year_dict = create_dict(soup.body.find(id=\"filtre\").find_all('tr')[1].find_all('option'))\n",
    "status_dict = create_dict(soup.body.find(id=\"filtre\").find_all('tr')[2].find_all('option'))\n",
    "sem_dict = create_dict(soup.body.find(id=\"filtre\").find_all('tr')[3].find_all('option'))"
   ]
  },
  {
   "cell_type": "code",
   "execution_count": 7,
   "metadata": {
    "collapsed": true
   },
   "outputs": [],
   "source": [
    "def is_valid_gps(gps):\n",
    "    return gps != \"-1\"\n",
    "\n",
    "def extract_gps(content):\n",
    "    soup = BeautifulSoup(content, 'html.parser')\n",
    "    elements = soup.find_all('a', class_='ww_x_GPS')\n",
    "    for element in elements:\n",
    "        raw_info = element.attrs['onclick']\n",
    "        gps = raw_info.split(\"'\")[1].split('=')[1]\n",
    "        if is_valid_gps(gps):\n",
    "            return gps"
   ]
  },
  {
   "cell_type": "code",
   "execution_count": 8,
   "metadata": {
    "collapsed": false
   },
   "outputs": [],
   "source": [
    "# TODO: query records by gps & store data to the global dict\n",
    "def handle_gps(gps, year, status, semester):\n",
    "    url = GPS_BASE_URL + param_in_url(PARAM_GPS, gps)\n",
    "    # r = requests.get(url)\n",
    "    # print(r.content)  "
   ]
  },
  {
   "cell_type": "code",
   "execution_count": 12,
   "metadata": {
    "collapsed": false,
    "scrolled": false
   },
   "outputs": [
    {
     "name": "stdout",
     "output_type": "stream",
     "text": [
      "2015-2016, Bachelor semestre 6, Semestre de printemps, 1650772010\n",
      "2015-2016, Bachelor semestre 1, Semestre d'automne, 1897032870\n",
      "2011-2012, Bachelor semestre 6, Semestre de printemps, 213618020\n",
      "2011-2012, Bachelor semestre 1, Semestre d'automne, 736308968\n",
      "2010-2011, Bachelor semestre 6, Semestre de printemps, 109577031\n",
      "2010-2011, Bachelor semestre 1, Semestre d'automne, 357704486\n",
      "2012-2013, Bachelor semestre 6, Semestre de printemps, 357704613\n",
      "2012-2013, Bachelor semestre 1, Semestre d'automne, 1378362092\n",
      "2014-2015, Bachelor semestre 6, Semestre de printemps, 1378362238\n",
      "2014-2015, Bachelor semestre 1, Semestre d'automne, 1744377893\n",
      "2007-2008, Bachelor semestre 6, Semestre de printemps, 19561998\n",
      "2007-2008, Bachelor semestre 1, Semestre d'automne, 71297531\n",
      "2016-2017, Bachelor semestre 6, Semestre de printemps, 1744378039\n",
      "2016-2017, Bachelor semestre 1, Semestre d'automne, 2021043255\n",
      "2013-2014, Bachelor semestre 6, Semestre de printemps, 736309090\n",
      "2013-2014, Bachelor semestre 1, Semestre d'automne, 1650771864\n",
      "2009-2010, Bachelor semestre 6, Semestre de printemps, 71297626\n",
      "2009-2010, Bachelor semestre 1, Semestre d'automne, 213617925\n",
      "2008-2009, Bachelor semestre 6, Semestre de printemps, 39494897\n",
      "2008-2009, Bachelor semestre 1, Semestre d'automne, 109576936\n"
     ]
    }
   ],
   "source": [
    "# bachelors\n",
    "for year, year_val in year_dict.items():\n",
    "    for status, status_val in status_dict.items():\n",
    "        if status == STATUS_B1 or status == STATUS_B6:\n",
    "            for semester, sem_val in sem_dict.items():\n",
    "                # construct urls for query\n",
    "                payload_filter = {PARAM_YEAR: year_val, \n",
    "                                  PARAM_STATUS: status_val, \n",
    "                                  PARAM_SEMESTER: sem_val}\n",
    "                r = requests.get(FILTER_BASE_URL, params=payload_filter)\n",
    "                gps = extract_gps(r.content)\n",
    "                if gps != None:\n",
    "                    print(year, status, semester, gps, sep=\", \")            \n",
    "                    # query by gps & extract data to the global dict\n",
    "                    handle_gps(gps, year, status, semester)"
   ]
  },
  {
   "cell_type": "code",
   "execution_count": null,
   "metadata": {
    "collapsed": true
   },
   "outputs": [],
   "source": []
  }
 ],
 "metadata": {
  "anaconda-cloud": {},
  "kernelspec": {
   "display_name": "Python [Root]",
   "language": "python",
   "name": "Python [Root]"
  },
  "language_info": {
   "codemirror_mode": {
    "name": "ipython",
    "version": 3
   },
   "file_extension": ".py",
   "mimetype": "text/x-python",
   "name": "python",
   "nbconvert_exporter": "python",
   "pygments_lexer": "ipython3",
   "version": "3.5.2"
  }
 },
 "nbformat": 4,
 "nbformat_minor": 0
}
