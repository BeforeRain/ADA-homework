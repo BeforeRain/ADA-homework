{
 "cells": [
  {
   "cell_type": "code",
   "execution_count": 3,
   "metadata": {
    "collapsed": true
   },
   "outputs": [],
   "source": [
    "from bs4 import BeautifulSoup\n",
    "import requests\n",
    "import pandas as pd"
   ]
  },
  {
   "cell_type": "markdown",
   "metadata": {},
   "source": [
    "# Familiarizing with the tools and data"
   ]
  },
  {
   "cell_type": "markdown",
   "metadata": {},
   "source": [
    "Let's first analyze the HTML content of the IS-Academia Portal. We will this by using the `requests` library to `GET` the HTML content given a URL."
   ]
  },
  {
   "cell_type": "code",
   "execution_count": 5,
   "metadata": {
    "collapsed": false
   },
   "outputs": [],
   "source": [
    "r = requests.get(\"http://isa.epfl.ch/imoniteur_ISAP/!GEDPUBLICREPORTS.filter?ww_i_reportModel=133685247\")"
   ]
  },
  {
   "cell_type": "markdown",
   "metadata": {},
   "source": [
    "Now we will use `BeautifulSoup` to parse through the data and visualize it nicely with the `pretiffy()` method."
   ]
  },
  {
   "cell_type": "code",
   "execution_count": 7,
   "metadata": {
    "collapsed": false
   },
   "outputs": [
    {
     "name": "stdout",
     "output_type": "stream",
     "text": [
      "<html>\n",
      " <head>\n",
      "  <meta content=\"text/html; charset=utf-8\" http-equiv=\"Content-Type\">\n",
      "   <div>\n",
      "   </div>\n",
      "   <title>\n",
      "   </title>\n",
      "   <script src=\"GEDPUBLICREPORTS.txt?ww_x_path=Gestac.Base.Palette_js&amp;ww_c_langue=fr\" type=\"text/javascript\">\n",
      "   </script>\n",
      "   <link href=\"GEDPUBLICREPORTS.css?ww_x_path=Gestac.Moniteur.Style\" rel=\"stylesheet\" type=\"text/css\">\n",
      "    <link href=\"GEDPUBLICREPORTS.css?ww_x_path=Gestac.Moniteur.StyleNavigator\" rel=\"stylesheet\" type=\"text/css\"/>\n",
      "   </link>\n",
      "  </meta>\n",
      " </head>\n",
      " <body alink=\"#666666\" bgcolor=\"#ffffff\" link=\"#666666\" marginheight=\"0\" marginwidth=\"5\" vlink=\"#666666\">\n",
      "  <div class=\"filtres\">\n",
      "   <form action=\"!GEDPUBLICREPORTS.filter\" method=\"GET\" name=\"f\">\n",
      "    <input name=\"ww_b_list\" type=\"hidden\" value=\"1\">\n",
      "     <input name=\"ww_i_reportmodel\" type=\"hidden\" value=\"133685247\">\n",
      "      <input name=\"ww_c_langue\" type=\"hidden\" value=\"\">\n",
      "       <h1 id=\"titre\">\n",
      "        Liste des étudiants inscrits par semestre\n",
      "       </h1>\n",
      "       <table border=\"0\" id=\"format\">\n",
      "        <tr>\n",
      "         <th>\n",
      "          Format:\n",
      "         </th>\n",
      "        </tr>\n",
      "        <tr>\n",
      "         <td>\n",
      "          <input checked=\"\" name=\"ww_i_reportModelXsl\" type=\"radio\" value=\"133685270\">\n",
      "           html\n",
      "          </input>\n",
      "         </td>\n",
      "        </tr>\n",
      "        <tr>\n",
      "         <td>\n",
      "          <input name=\"ww_i_reportModelXsl\" type=\"radio\" value=\"133685271\">\n",
      "           xls\n",
      "          </input>\n",
      "         </td>\n",
      "        </tr>\n",
      "       </table>\n",
      "       <h1>\n",
      "       </h1>\n",
      "       <table border=\"0\" id=\"filtre\">\n",
      "        <tr>\n",
      "         <th>\n",
      "          Unité académique\n",
      "         </th>\n",
      "         <td>\n",
      "          <input name=\"zz_x_UNITE_ACAD\" type=\"hidden\" value=\"\">\n",
      "           <select name=\"ww_x_UNITE_ACAD\" onchange=\"document.f.zz_x_UNITE_ACAD.value=document.f.ww_x_UNITE_ACAD.options[document.f.ww_x_UNITE_ACAD.selectedIndex].text\">\n",
      "            <option value=\"null\">\n",
      "            </option>\n",
      "            <option value=\"942293\">\n",
      "             Architecture\n",
      "            </option>\n",
      "            <option value=\"246696\">\n",
      "             Chimie et génie chimique\n",
      "            </option>\n",
      "            <option value=\"943282\">\n",
      "             Cours de mathématiques spéciales\n",
      "            </option>\n",
      "            <option value=\"637841336\">\n",
      "             EME (EPFL Middle East)\n",
      "            </option>\n",
      "            <option value=\"942623\">\n",
      "             Génie civil\n",
      "            </option>\n",
      "            <option value=\"944263\">\n",
      "             Génie mécanique\n",
      "            </option>\n",
      "            <option value=\"943936\">\n",
      "             Génie électrique et électronique\n",
      "            </option>\n",
      "            <option value=\"2054839157\">\n",
      "             Humanités digitales\n",
      "            </option>\n",
      "            <option value=\"249847\">\n",
      "             Informatique\n",
      "            </option>\n",
      "            <option value=\"120623110\">\n",
      "             Ingénierie financière\n",
      "            </option>\n",
      "            <option value=\"946882\">\n",
      "             Management de la technologie\n",
      "            </option>\n",
      "            <option value=\"944590\">\n",
      "             Mathématiques\n",
      "            </option>\n",
      "            <option value=\"945244\">\n",
      "             Microtechnique\n",
      "            </option>\n",
      "            <option value=\"945571\">\n",
      "             Physique\n",
      "            </option>\n",
      "            <option value=\"944917\">\n",
      "             Science et génie des matériaux\n",
      "            </option>\n",
      "            <option value=\"942953\">\n",
      "             Sciences et ingénierie de l'environnement\n",
      "            </option>\n",
      "            <option value=\"945901\">\n",
      "             Sciences et technologies du vivant\n",
      "            </option>\n",
      "            <option value=\"1574548993\">\n",
      "             Section FCUE\n",
      "            </option>\n",
      "            <option value=\"946228\">\n",
      "             Systèmes de communication\n",
      "            </option>\n",
      "           </select>\n",
      "          </input>\n",
      "         </td>\n",
      "        </tr>\n",
      "        <tr>\n",
      "         <th>\n",
      "          Période académique\n",
      "         </th>\n",
      "         <td>\n",
      "          <input name=\"zz_x_PERIODE_ACAD\" type=\"hidden\" value=\"\">\n",
      "           <select name=\"ww_x_PERIODE_ACAD\" onchange=\"document.f.zz_x_PERIODE_ACAD.value=document.f.ww_x_PERIODE_ACAD.options[document.f.ww_x_PERIODE_ACAD.selectedIndex].text\">\n",
      "            <option value=\"null\">\n",
      "            </option>\n",
      "            <option value=\"355925344\">\n",
      "             2016-2017\n",
      "            </option>\n",
      "            <option value=\"213638028\">\n",
      "             2015-2016\n",
      "            </option>\n",
      "            <option value=\"213637922\">\n",
      "             2014-2015\n",
      "            </option>\n",
      "            <option value=\"213637754\">\n",
      "             2013-2014\n",
      "            </option>\n",
      "            <option value=\"123456101\">\n",
      "             2012-2013\n",
      "            </option>\n",
      "            <option value=\"123455150\">\n",
      "             2011-2012\n",
      "            </option>\n",
      "            <option value=\"39486325\">\n",
      "             2010-2011\n",
      "            </option>\n",
      "            <option value=\"978195\">\n",
      "             2009-2010\n",
      "            </option>\n",
      "            <option value=\"978187\">\n",
      "             2008-2009\n",
      "            </option>\n",
      "            <option value=\"978181\">\n",
      "             2007-2008\n",
      "            </option>\n",
      "           </select>\n",
      "          </input>\n",
      "         </td>\n",
      "        </tr>\n",
      "        <tr>\n",
      "         <th>\n",
      "          Période pédagogique\n",
      "         </th>\n",
      "         <td>\n",
      "          <input name=\"zz_x_PERIODE_PEDAGO\" type=\"hidden\" value=\"\">\n",
      "           <select name=\"ww_x_PERIODE_PEDAGO\" onchange=\"document.f.zz_x_PERIODE_PEDAGO.value=document.f.ww_x_PERIODE_PEDAGO.options[document.f.ww_x_PERIODE_PEDAGO.selectedIndex].text\">\n",
      "            <option value=\"null\">\n",
      "            </option>\n",
      "            <option value=\"249108\">\n",
      "             Bachelor semestre 1\n",
      "            </option>\n",
      "            <option value=\"249114\">\n",
      "             Bachelor semestre 2\n",
      "            </option>\n",
      "            <option value=\"942155\">\n",
      "             Bachelor semestre 3\n",
      "            </option>\n",
      "            <option value=\"942163\">\n",
      "             Bachelor semestre 4\n",
      "            </option>\n",
      "            <option value=\"942120\">\n",
      "             Bachelor semestre 5\n",
      "            </option>\n",
      "            <option value=\"2226768\">\n",
      "             Bachelor semestre 5b\n",
      "            </option>\n",
      "            <option value=\"942175\">\n",
      "             Bachelor semestre 6\n",
      "            </option>\n",
      "            <option value=\"2226785\">\n",
      "             Bachelor semestre 6b\n",
      "            </option>\n",
      "            <option value=\"2230106\">\n",
      "             Master semestre 1\n",
      "            </option>\n",
      "            <option value=\"942192\">\n",
      "             Master semestre 2\n",
      "            </option>\n",
      "            <option value=\"2230128\">\n",
      "             Master semestre 3\n",
      "            </option>\n",
      "            <option value=\"2230140\">\n",
      "             Master semestre 4\n",
      "            </option>\n",
      "            <option value=\"2335667\">\n",
      "             Mineur semestre 1\n",
      "            </option>\n",
      "            <option value=\"2335676\">\n",
      "             Mineur semestre 2\n",
      "            </option>\n",
      "            <option value=\"2063602308\">\n",
      "             Mise à niveau\n",
      "            </option>\n",
      "            <option value=\"249127\">\n",
      "             Projet Master automne\n",
      "            </option>\n",
      "            <option value=\"3781783\">\n",
      "             Projet Master printemps\n",
      "            </option>\n",
      "            <option value=\"953159\">\n",
      "             Semestre automne\n",
      "            </option>\n",
      "            <option value=\"2754553\">\n",
      "             Semestre printemps\n",
      "            </option>\n",
      "            <option value=\"953137\">\n",
      "             Stage automne 3ème année\n",
      "            </option>\n",
      "            <option value=\"2226616\">\n",
      "             Stage automne 4ème année\n",
      "            </option>\n",
      "            <option value=\"983606\">\n",
      "             Stage printemps 3ème année\n",
      "            </option>\n",
      "            <option value=\"2226626\">\n",
      "             Stage printemps 4ème année\n",
      "            </option>\n",
      "            <option value=\"2227132\">\n",
      "             Stage printemps master\n",
      "            </option>\n",
      "           </select>\n",
      "          </input>\n",
      "         </td>\n",
      "        </tr>\n",
      "        <tr>\n",
      "         <th>\n",
      "          Type de semestre\n",
      "         </th>\n",
      "         <td>\n",
      "          <input name=\"zz_x_HIVERETE\" type=\"hidden\" value=\"\">\n",
      "           <select name=\"ww_x_HIVERETE\" onchange=\"document.f.zz_x_HIVERETE.value=document.f.ww_x_HIVERETE.options[document.f.ww_x_HIVERETE.selectedIndex].text\">\n",
      "            <option value=\"null\">\n",
      "            </option>\n",
      "            <option value=\"2936286\">\n",
      "             Semestre d'automne\n",
      "            </option>\n",
      "            <option value=\"2936295\">\n",
      "             Semestre de printemps\n",
      "            </option>\n",
      "           </select>\n",
      "          </input>\n",
      "         </td>\n",
      "        </tr>\n",
      "       </table>\n",
      "       <input name=\"dummy\" type=\"submit\" value=\"ok\"/>\n",
      "      </input>\n",
      "     </input>\n",
      "    </input>\n",
      "   </form>\n",
      "   <script type=\"text/javascript\">\n",
      "    function loadReport(x) {\n",
      "    var querysup='';\n",
      "    writeRunning(top.principal);\n",
      "    for (i=0; document.f.elements.length > i; i++){\n",
      "     if (document.f.elements[i].checked){\n",
      "      querysup=querysup+'&'+document.f.elements[i].name+'='+document.f.elements[i].value;\n",
      "     }\n",
      "     if (document.f.elements[i].type=='select-one') {\n",
      "      querysup=querysup+'&'+document.f.elements[i].name+'='+document.f.elements[i].options[document.f.elements[i].selectedIndex].value;\n",
      "     }\n",
      "     if (document.f.elements[i].type=='text'){\n",
      "      querysup=querysup+'&'+document.f.elements[i].name+'='+document.f.elements[i].value;\n",
      "     }\n",
      "    }\n",
      "    parent.principal.location = \"!GEDPUBLICREPORTS.bhtml?\"+x+\"&ww_i_reportModel=133685247\"+querysup;\n",
      "    if (navigator.userAgent.toUpperCase().indexOf('SAFARI') != -1) {\n",
      "     document.location.reload();\n",
      "    }\n",
      "   }\n",
      "   </script>\n",
      "   <h1>\n",
      "   </h1>\n",
      "   <table border=\"0\">\n",
      "   </table>\n",
      "  </div>\n",
      " </body>\n",
      "</html>\n",
      "<!-- OpenXml:0.01s  agent ctrl:0.00s  xml:0.49s  xsl clob before parse:0.00s  xsl extr&stylesheet:0.00s  xsl clob before parse:0.00s  xsl after parsing:0.00s  xsl ctrl data:0.00s  transform 2:0.04s  xsl process:0.00s  -->\n",
      "\n"
     ]
    }
   ],
   "source": [
    "soup = BeautifulSoup(r.content, 'html.parser')\n",
    "print(soup.prettify())"
   ]
  },
  {
   "cell_type": "markdown",
   "metadata": {},
   "source": [
    "With `BeautifulSoup`, we can convinient dig deeper into the HTML content as described in this tutorial: https://www.crummy.com/software/BeautifulSoup/bs4/doc/. We will isolate the filters used to distinguish students by Major (Unité académique), Academic Year (Période académique), Student Status (Période pédagogique), and Semester Type (Type de semestre). We have identified from the output above that the filters are in the `body`, between `<table>` tags with `id=\"filtre\"`. Finally, we can use `find_all('tr')` to get each filter as an entry in a list."
   ]
  },
  {
   "cell_type": "code",
   "execution_count": 21,
   "metadata": {
    "collapsed": false
   },
   "outputs": [
    {
     "name": "stdout",
     "output_type": "stream",
     "text": [
      "[<tr><th>Unit\\xe9 acad\\xe9mique</th><td><input name=\"zz_x_UNITE_ACAD\" type=\"hidden\" value=\"\"><select name=\"ww_x_UNITE_ACAD\" onchange=\"document.f.zz_x_UNITE_ACAD.value=document.f.ww_x_UNITE_ACAD.options[document.f.ww_x_UNITE_ACAD.selectedIndex].text\"><option value=\"null\"></option><option value=\"942293\">Architecture</option><option value=\"246696\">Chimie et g\\xe9nie chimique</option><option value=\"943282\">Cours de math\\xe9matiques sp\\xe9ciales</option><option value=\"637841336\">EME (EPFL Middle East)</option><option value=\"942623\">G\\xe9nie civil</option><option value=\"944263\">G\\xe9nie m\\xe9canique</option><option value=\"943936\">G\\xe9nie \\xe9lectrique et \\xe9lectronique </option><option value=\"2054839157\">Humanit\\xe9s digitales</option><option value=\"249847\">Informatique</option><option value=\"120623110\">Ing\\xe9nierie financi\\xe8re</option><option value=\"946882\">Management de la technologie</option><option value=\"944590\">Math\\xe9matiques</option><option value=\"945244\">Microtechnique</option><option value=\"945571\">Physique</option><option value=\"944917\">Science et g\\xe9nie des mat\\xe9riaux</option><option value=\"942953\">Sciences et ing\\xe9nierie de l'environnement</option><option value=\"945901\">Sciences et technologies du vivant</option><option value=\"1574548993\">Section FCUE</option><option value=\"946228\">Syst\\xe8mes de communication</option></select></input></td></tr>, <tr><th>P\\xe9riode acad\\xe9mique</th><td><input name=\"zz_x_PERIODE_ACAD\" type=\"hidden\" value=\"\"><select name=\"ww_x_PERIODE_ACAD\" onchange=\"document.f.zz_x_PERIODE_ACAD.value=document.f.ww_x_PERIODE_ACAD.options[document.f.ww_x_PERIODE_ACAD.selectedIndex].text\"><option value=\"null\"></option><option value=\"355925344\">2016-2017</option><option value=\"213638028\">2015-2016</option><option value=\"213637922\">2014-2015</option><option value=\"213637754\">2013-2014</option><option value=\"123456101\">2012-2013</option><option value=\"123455150\">2011-2012</option><option value=\"39486325\">2010-2011</option><option value=\"978195\">2009-2010</option><option value=\"978187\">2008-2009</option><option value=\"978181\">2007-2008</option></select></input></td></tr>, <tr><th>P\\xe9riode p\\xe9dagogique</th><td><input name=\"zz_x_PERIODE_PEDAGO\" type=\"hidden\" value=\"\"><select name=\"ww_x_PERIODE_PEDAGO\" onchange=\"document.f.zz_x_PERIODE_PEDAGO.value=document.f.ww_x_PERIODE_PEDAGO.options[document.f.ww_x_PERIODE_PEDAGO.selectedIndex].text\"><option value=\"null\"></option><option value=\"249108\">Bachelor semestre 1</option><option value=\"249114\">Bachelor semestre 2</option><option value=\"942155\">Bachelor semestre 3</option><option value=\"942163\">Bachelor semestre 4</option><option value=\"942120\">Bachelor semestre 5</option><option value=\"2226768\">Bachelor semestre 5b</option><option value=\"942175\">Bachelor semestre 6</option><option value=\"2226785\">Bachelor semestre 6b</option><option value=\"2230106\">Master semestre 1</option><option value=\"942192\">Master semestre 2</option><option value=\"2230128\">Master semestre 3</option><option value=\"2230140\">Master semestre 4</option><option value=\"2335667\">Mineur semestre 1</option><option value=\"2335676\">Mineur semestre 2</option><option value=\"2063602308\">Mise \\xe0 niveau</option><option value=\"249127\">Projet Master automne</option><option value=\"3781783\">Projet Master printemps</option><option value=\"953159\">Semestre automne</option><option value=\"2754553\">Semestre printemps</option><option value=\"953137\">Stage automne 3\\xe8me ann\\xe9e</option><option value=\"2226616\">Stage automne 4\\xe8me ann\\xe9e</option><option value=\"983606\">Stage printemps 3\\xe8me ann\\xe9e</option><option value=\"2226626\">Stage printemps 4\\xe8me ann\\xe9e</option><option value=\"2227132\">Stage printemps master</option></select></input></td></tr>, <tr><th>Type de semestre</th><td><input name=\"zz_x_HIVERETE\" type=\"hidden\" value=\"\"><select name=\"ww_x_HIVERETE\" onchange=\"document.f.zz_x_HIVERETE.value=document.f.ww_x_HIVERETE.options[document.f.ww_x_HIVERETE.selectedIndex].text\"><option value=\"null\"></option><option value=\"2936286\">Semestre d'automne</option><option value=\"2936295\">Semestre de printemps</option></select></input></td></tr>]\n"
     ]
    }
   ],
   "source": [
    "filters = soup.body.find(id=\"filtre\").find_all('tr')\n",
    "print(filters)"
   ]
  },
  {
   "cell_type": "markdown",
   "metadata": {},
   "source": [
    "Admittedly, not the nicest output. And besides the fact that there are square brackets, it's hard to even say that it's a list! Let's try to output this more cleanly. From the `prettify()` output, we saw that each filter, e.g. `Architecture` for Unité académique or `2010-2011` for Période académique has an `option` tag surrounding it. Let's use `find_all(option)` with each item in the above list to cleanly output the filter options."
   ]
  },
  {
   "cell_type": "code",
   "execution_count": 24,
   "metadata": {
    "collapsed": false
   },
   "outputs": [
    {
     "name": "stdout",
     "output_type": "stream",
     "text": [
      "[<option value=\"null\"></option>, <option value=\"942293\">Architecture</option>, <option value=\"246696\">Chimie et g\\xe9nie chimique</option>, <option value=\"943282\">Cours de math\\xe9matiques sp\\xe9ciales</option>, <option value=\"637841336\">EME (EPFL Middle East)</option>, <option value=\"942623\">G\\xe9nie civil</option>, <option value=\"944263\">G\\xe9nie m\\xe9canique</option>, <option value=\"943936\">G\\xe9nie \\xe9lectrique et \\xe9lectronique </option>, <option value=\"2054839157\">Humanit\\xe9s digitales</option>, <option value=\"249847\">Informatique</option>, <option value=\"120623110\">Ing\\xe9nierie financi\\xe8re</option>, <option value=\"946882\">Management de la technologie</option>, <option value=\"944590\">Math\\xe9matiques</option>, <option value=\"945244\">Microtechnique</option>, <option value=\"945571\">Physique</option>, <option value=\"944917\">Science et g\\xe9nie des mat\\xe9riaux</option>, <option value=\"942953\">Sciences et ing\\xe9nierie de l'environnement</option>, <option value=\"945901\">Sciences et technologies du vivant</option>, <option value=\"1574548993\">Section FCUE</option>, <option value=\"946228\">Syst\\xe8mes de communication</option>]\n",
      "[<option value=\"null\"></option>, <option value=\"355925344\">2016-2017</option>, <option value=\"213638028\">2015-2016</option>, <option value=\"213637922\">2014-2015</option>, <option value=\"213637754\">2013-2014</option>, <option value=\"123456101\">2012-2013</option>, <option value=\"123455150\">2011-2012</option>, <option value=\"39486325\">2010-2011</option>, <option value=\"978195\">2009-2010</option>, <option value=\"978187\">2008-2009</option>, <option value=\"978181\">2007-2008</option>]\n",
      "[<option value=\"null\"></option>, <option value=\"249108\">Bachelor semestre 1</option>, <option value=\"249114\">Bachelor semestre 2</option>, <option value=\"942155\">Bachelor semestre 3</option>, <option value=\"942163\">Bachelor semestre 4</option>, <option value=\"942120\">Bachelor semestre 5</option>, <option value=\"2226768\">Bachelor semestre 5b</option>, <option value=\"942175\">Bachelor semestre 6</option>, <option value=\"2226785\">Bachelor semestre 6b</option>, <option value=\"2230106\">Master semestre 1</option>, <option value=\"942192\">Master semestre 2</option>, <option value=\"2230128\">Master semestre 3</option>, <option value=\"2230140\">Master semestre 4</option>, <option value=\"2335667\">Mineur semestre 1</option>, <option value=\"2335676\">Mineur semestre 2</option>, <option value=\"2063602308\">Mise \\xe0 niveau</option>, <option value=\"249127\">Projet Master automne</option>, <option value=\"3781783\">Projet Master printemps</option>, <option value=\"953159\">Semestre automne</option>, <option value=\"2754553\">Semestre printemps</option>, <option value=\"953137\">Stage automne 3\\xe8me ann\\xe9e</option>, <option value=\"2226616\">Stage automne 4\\xe8me ann\\xe9e</option>, <option value=\"983606\">Stage printemps 3\\xe8me ann\\xe9e</option>, <option value=\"2226626\">Stage printemps 4\\xe8me ann\\xe9e</option>, <option value=\"2227132\">Stage printemps master</option>]\n",
      "[<option value=\"null\"></option>, <option value=\"2936286\">Semestre d'automne</option>, <option value=\"2936295\">Semestre de printemps</option>]\n"
     ]
    }
   ],
   "source": [
    "for field in filters:\n",
    "    print(field.find_all('option'))"
   ]
  },
  {
   "cell_type": "markdown",
   "metadata": {},
   "source": [
    "That's a bit better. We can see a `value` associated with each field option, e.g. `249847` for `Informatique`. Let's actually use some of these filters on the website itself and intercept the requests using Postman + Postman Interceptor. Postman helps us track which URL's are requested and to analyze the corresponding HTML. Let's check out the URL and HTML content (with `BeautifulSoup`) when we select the following field options: `Informatique`, `2009-2010`, `Bachelor semestre 1`, and `Semestre d'automne`.\n",
    "\n",
    "http://isa.epfl.ch/imoniteur_ISAP/!GEDPUBLICREPORTS.filter?ww_b_list=1&ww_i_reportmodel=133685247&ww_c_langue=&ww_i_reportModelXsl=133685270&zz_x_UNITE_ACAD=Informatique&ww_x_UNITE_ACAD=249847&zz_x_PERIODE_ACAD=2009-2010&ww_x_PERIODE_ACAD=978195&zz_x_PERIODE_PEDAGO=Bachelor+semestre+1&ww_x_PERIODE_PEDAGO=249108&zz_x_HIVERETE=Semestre+d%27automne&ww_x_HIVERETE=2936286&dummy=ok\n",
    "\n",
    "In the URL we can see the options we selected! Moreover, they have been used as parameters for the URL. Thes parameter names could be identified by navigating through our `filters` list (by going into the `td` tag and then selecting the `name` for the `input` tag)."
   ]
  },
  {
   "cell_type": "code",
   "execution_count": 31,
   "metadata": {
    "collapsed": false
   },
   "outputs": [
    {
     "name": "stdout",
     "output_type": "stream",
     "text": [
      "zz_x_UNITE_ACAD\n",
      "zz_x_PERIODE_ACAD\n",
      "zz_x_PERIODE_PEDAGO\n",
      "zz_x_HIVERETE\n"
     ]
    }
   ],
   "source": [
    "for field in filters:\n",
    "    print(field.td.input[\"name\"])"
   ]
  },
  {
   "cell_type": "markdown",
   "metadata": {},
   "source": [
    "When checking out the HTML content, we see a new table at the bottom (corresponding to the options we see on the IS-Academia portal). Let's check it out with `BeautifulSoup`."
   ]
  },
  {
   "cell_type": "code",
   "execution_count": null,
   "metadata": {
    "collapsed": true
   },
   "outputs": [],
   "source": [
    "r = requests.get(\"http://isa.epfl.ch/imoniteur_ISAP/!GEDPUBLICREPORTS.filter?ww_i_reportModel=133685247\")\n",
    "soup = BeautifulSoup(r.content, 'html.parser')"
   ]
  }
 ],
 "metadata": {
  "kernelspec": {
   "display_name": "Python [Root]",
   "language": "python",
   "name": "Python [Root]"
  },
  "language_info": {
   "codemirror_mode": {
    "name": "ipython",
    "version": 2
   },
   "file_extension": ".py",
   "mimetype": "text/x-python",
   "name": "python",
   "nbconvert_exporter": "python",
   "pygments_lexer": "ipython2",
   "version": "2.7.12"
  }
 },
 "nbformat": 4,
 "nbformat_minor": 0
}
