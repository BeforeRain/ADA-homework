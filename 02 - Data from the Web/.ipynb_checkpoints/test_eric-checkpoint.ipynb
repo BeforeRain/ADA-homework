{
 "cells": [
  {
   "cell_type": "code",
   "execution_count": 1,
   "metadata": {
    "collapsed": true
   },
   "outputs": [],
   "source": [
    "from bs4 import BeautifulSoup\n",
    "import requests"
   ]
  },
  {
   "cell_type": "markdown",
   "metadata": {},
   "source": [
    "Assuming no one starts B1 or M1 in spring --> find EPFL doc for this"
   ]
  },
  {
   "cell_type": "code",
   "execution_count": 2,
   "metadata": {
    "collapsed": true
   },
   "outputs": [],
   "source": [
    "# parameter keys\n",
    "PARAM_GPS = 'ww_x_GPS'\n",
    "PARAM_MAJ = 'ww_x_UNITE_ACAD'\n",
    "PARAM_YEAR = 'ww_x_PERIODE_ACAD'\n",
    "PARAM_STATUS = 'ww_x_PERIODE_PEDAGO'\n",
    "PARAM_SEMESTER = 'ww_x_HIVERETE'"
   ]
  },
  {
   "cell_type": "code",
   "execution_count": 3,
   "metadata": {
    "collapsed": true
   },
   "outputs": [],
   "source": [
    "# base URLs\n",
    "FILTER_BASE_URL = 'http://isa.epfl.ch/imoniteur_ISAP/!GEDPUBLICREPORTS.filter?ww_b_list=1&ww_i_reportmodel=133685247&ww_i_reportModelXsl=133685270'\n",
    "GPS_BASE_URL = 'http://isa.epfl.ch/imoniteur_ISAP/!GEDPUBLICREPORTS.html?ww_i_reportModel=133685247&ww_i_reportModelXsl=133685270&ww_b_list=1'"
   ]
  },
  {
   "cell_type": "code",
   "execution_count": 4,
   "metadata": {
    "collapsed": false
   },
   "outputs": [],
   "source": [
    "r = requests.get(\"http://isa.epfl.ch/imoniteur_ISAP/!GEDPUBLICREPORTS.filter?ww_i_reportModel=133685247\")\n",
    "c = r.content\n",
    "soup = BeautifulSoup(c, 'html.parser')"
   ]
  },
  {
   "cell_type": "code",
   "execution_count": 5,
   "metadata": {
    "collapsed": false
   },
   "outputs": [],
   "source": [
    "# create dict from dropdown menus\n",
    "def create_dict(field_list):\n",
    "    field_dict = {}\n",
    "    for i in range(1, len(field_list)):\n",
    "        field_dict[field_list[i].string] = field_list[i][\"value\"]\n",
    "    return field_dict\n",
    "\n",
    "# Unité académique, Période académique, Période pédagogique, Type de semestre\n",
    "major_dict = create_dict(soup.body.find(id=\"filtre\").find_all('tr')[0].find_all('option'))\n",
    "acad_yr_dict = create_dict(soup.body.find(id=\"filtre\").find_all('tr')[1].find_all('option'))\n",
    "status_dict = create_dict(soup.body.find(id=\"filtre\").find_all('tr')[2].find_all('option'))\n",
    "sem_dict = create_dict(soup.body.find(id=\"filtre\").find_all('tr')[3].find_all('option'))"
   ]
  },
  {
   "cell_type": "code",
   "execution_count": 6,
   "metadata": {
    "collapsed": false
   },
   "outputs": [],
   "source": [
    "# assuming we only get two results with the first being \"Tous\"\n",
    "def is_valid_gps(gps):\n",
    "    return gps != \"-1\"\n",
    "\n",
    "def extract_gps(content):\n",
    "    soup = BeautifulSoup(content, 'html.parser')\n",
    "    elements = soup.find_all('a', class_='ww_x_GPS')\n",
    "    for element in elements:\n",
    "        raw_info = element.attrs['onclick']\n",
    "        gps = raw_info.split(\"'\")[1].split('=')[1]\n",
    "        if is_valid_gps(gps):\n",
    "            return gps"
   ]
  },
  {
   "cell_type": "code",
   "execution_count": 7,
   "metadata": {
    "collapsed": false
   },
   "outputs": [],
   "source": [
    "# create dict of B1 students, assuming only start in Autumn\n",
    "b1_students = {}\n",
    "for year in sorted(acad_yr_dict.keys()):\n",
    "    # obtain gps\n",
    "    payload_filter = {PARAM_MAJ: major_dict['Informatique'], PARAM_YEAR: acad_yr_dict[year], \n",
    "                  PARAM_STATUS: status_dict['Bachelor semestre 1'], PARAM_SEMESTER: sem_dict[\"Semestre d'automne\"]}\n",
    "    r_filt = requests.get(FILTER_BASE_URL, params=payload_filter)\n",
    "    gps = extract_gps(r_filt.content)\n",
    "    # get list of students\n",
    "    payload_students = {PARAM_GPS: gps,\n",
    "                  PARAM_MAJ: major_dict['Informatique'], \n",
    "                  PARAM_YEAR: acad_yr_dict[year], \n",
    "                  PARAM_STATUS: status_dict['Bachelor semestre 1'], \n",
    "                  PARAM_SEMESTER: sem_dict[\"Semestre d'automne\"]}\n",
    "    r_list = requests.get(GPS_BASE_URL, params=payload_students)\n",
    "    # parse with beautiful soup\n",
    "    soup_students = BeautifulSoup(r_list.content, 'html.parser')\n",
    "    # students are starting after two rows\n",
    "    rows = soup_students.find_all('tr')\n",
    "    for k in range(2,len(rows)):\n",
    "        test_student = rows[k].find_all('td')\n",
    "        sciper = test_student[10].string\n",
    "        # keep earliest year in case a student repeated first semester of Bachelor year\n",
    "        if sciper not in b1_students:\n",
    "            b1_students[sciper] = [test_student[0].string, test_student[7].string, year]"
   ]
  },
  {
   "cell_type": "code",
   "execution_count": 8,
   "metadata": {
    "collapsed": false
   },
   "outputs": [
    {
     "data": {
      "text/plain": [
       "1323"
      ]
     },
     "execution_count": 8,
     "metadata": {},
     "output_type": "execute_result"
    }
   ],
   "source": [
    "len(b1_students)"
   ]
  },
  {
   "cell_type": "code",
   "execution_count": 9,
   "metadata": {
    "collapsed": true
   },
   "outputs": [],
   "source": [
    "# create dict of B6 students\n",
    "b6_students = {}\n",
    "for year in sorted(acad_yr_dict.keys()):\n",
    "    for sem in sem_dict.keys():\n",
    "        # obtain gps\n",
    "        payload_filter = {PARAM_MAJ: major_dict['Informatique'],\n",
    "                          PARAM_YEAR: acad_yr_dict[year],\n",
    "                          PARAM_STATUS: status_dict['Bachelor semestre 6'],\n",
    "                          PARAM_SEMESTER: sem_dict[sem]}\n",
    "        r_filt = requests.get(FILTER_BASE_URL, params=payload_filter)\n",
    "        gps = extract_gps(r_filt.content)\n",
    "        # get list of students\n",
    "        payload_students = {PARAM_GPS: gps,\n",
    "                      PARAM_MAJ: major_dict['Informatique'], \n",
    "                      PARAM_YEAR: acad_yr_dict[year], \n",
    "                      PARAM_STATUS: status_dict['Bachelor semestre 6'], \n",
    "                      PARAM_SEMESTER: sem_dict[sem]}\n",
    "        r_list = requests.get(GPS_BASE_URL, params=payload_students)\n",
    "        # parse with beautiful soup\n",
    "        soup_students = BeautifulSoup(r_list.content, 'html.parser')\n",
    "        # students are starting after two rows\n",
    "        rows = soup_students.find_all('tr')\n",
    "        for k in range(2,len(rows)):\n",
    "            test_student = rows[k].find_all('td')\n",
    "            sciper = test_student[10].string\n",
    "            # replace with latest year in case 6th semester was repeated\n",
    "            b6_students[sciper] = [test_student[0].string, test_student[7].string, year, sem]"
   ]
  },
  {
   "cell_type": "code",
   "execution_count": 10,
   "metadata": {
    "collapsed": false
   },
   "outputs": [
    {
     "data": {
      "text/plain": [
       "516"
      ]
     },
     "execution_count": 10,
     "metadata": {},
     "output_type": "execute_result"
    }
   ],
   "source": [
    "len(b6_students)"
   ]
  },
  {
   "cell_type": "code",
   "execution_count": 11,
   "metadata": {
    "collapsed": true
   },
   "outputs": [],
   "source": [
    "import pandas as pd"
   ]
  },
  {
   "cell_type": "code",
   "execution_count": 12,
   "metadata": {
    "collapsed": false
   },
   "outputs": [
    {
     "name": "stdout",
     "output_type": "stream",
     "text": [
      "(1322, 2)\n"
     ]
    },
    {
     "data": {
      "text/html": [
       "<div>\n",
       "<table border=\"1\" class=\"dataframe\">\n",
       "  <thead>\n",
       "    <tr style=\"text-align: right;\">\n",
       "      <th></th>\n",
       "      <th>Gender</th>\n",
       "      <th>Start_Year</th>\n",
       "    </tr>\n",
       "    <tr>\n",
       "      <th>SCIPER</th>\n",
       "      <th></th>\n",
       "      <th></th>\n",
       "    </tr>\n",
       "  </thead>\n",
       "  <tbody>\n",
       "    <tr>\n",
       "      <th>237686</th>\n",
       "      <td>Monsieur</td>\n",
       "      <td>2013-2014</td>\n",
       "    </tr>\n",
       "    <tr>\n",
       "      <th>181298</th>\n",
       "      <td>Monsieur</td>\n",
       "      <td>2007-2008</td>\n",
       "    </tr>\n",
       "    <tr>\n",
       "      <th>202946</th>\n",
       "      <td>Monsieur</td>\n",
       "      <td>2010-2011</td>\n",
       "    </tr>\n",
       "    <tr>\n",
       "      <th>253656</th>\n",
       "      <td>Monsieur</td>\n",
       "      <td>2015-2016</td>\n",
       "    </tr>\n",
       "    <tr>\n",
       "      <th>259268</th>\n",
       "      <td>Monsieur</td>\n",
       "      <td>2016-2017</td>\n",
       "    </tr>\n",
       "  </tbody>\n",
       "</table>\n",
       "</div>"
      ],
      "text/plain": [
       "          Gender Start_Year\n",
       "SCIPER                     \n",
       "237686  Monsieur  2013-2014\n",
       "181298  Monsieur  2007-2008\n",
       "202946  Monsieur  2010-2011\n",
       "253656  Monsieur  2015-2016\n",
       "259268  Monsieur  2016-2017"
      ]
     },
     "execution_count": 12,
     "metadata": {},
     "output_type": "execute_result"
    }
   ],
   "source": [
    "df_b1 = pd.DataFrame.from_dict(b1_students, orient='index')\n",
    "df_b1.columns = ['Gender', 'Status', 'Start_Year']\n",
    "df_b1 = df_b1[df_b1.Status=='Présent'] # remove student on leave/holiday\n",
    "df_b1.index.rename('SCIPER', inplace=True)\n",
    "df_b1.drop('Status', axis=1, inplace=True)\n",
    "print(df_b1.shape)\n",
    "df_b1.head()"
   ]
  },
  {
   "cell_type": "code",
   "execution_count": 13,
   "metadata": {
    "collapsed": false
   },
   "outputs": [
    {
     "name": "stdout",
     "output_type": "stream",
     "text": [
      "(390, 1)\n"
     ]
    },
    {
     "data": {
      "text/html": [
       "<div>\n",
       "<table border=\"1\" class=\"dataframe\">\n",
       "  <thead>\n",
       "    <tr style=\"text-align: right;\">\n",
       "      <th></th>\n",
       "      <th>End_Year</th>\n",
       "    </tr>\n",
       "    <tr>\n",
       "      <th>SCIPER</th>\n",
       "      <th></th>\n",
       "    </tr>\n",
       "  </thead>\n",
       "  <tbody>\n",
       "    <tr>\n",
       "      <th>228408</th>\n",
       "      <td>2015-2016</td>\n",
       "    </tr>\n",
       "    <tr>\n",
       "      <th>217500</th>\n",
       "      <td>2013-2014</td>\n",
       "    </tr>\n",
       "    <tr>\n",
       "      <th>203712</th>\n",
       "      <td>2012-2013</td>\n",
       "    </tr>\n",
       "    <tr>\n",
       "      <th>169795</th>\n",
       "      <td>2010-2011</td>\n",
       "    </tr>\n",
       "    <tr>\n",
       "      <th>217439</th>\n",
       "      <td>2013-2014</td>\n",
       "    </tr>\n",
       "  </tbody>\n",
       "</table>\n",
       "</div>"
      ],
      "text/plain": [
       "         End_Year\n",
       "SCIPER           \n",
       "228408  2015-2016\n",
       "217500  2013-2014\n",
       "203712  2012-2013\n",
       "169795  2010-2011\n",
       "217439  2013-2014"
      ]
     },
     "execution_count": 13,
     "metadata": {},
     "output_type": "execute_result"
    }
   ],
   "source": [
    "df_b6 = pd.DataFrame.from_dict(b6_students, orient='index')\n",
    "df_b6.columns = ['Gender', 'Status', 'End_Year', 'End_Sem']\n",
    "df_b6 = df_b6[df_b6.Status=='Présent'] # remove student on leave/holiday\n",
    "df_b6.index.rename('SCIPER', inplace=True)\n",
    "df_b6.drop('Status', axis=1, inplace=True)\n",
    "df_b6.drop('Gender', axis=1, inplace=True) # can be removed BEFORE\n",
    "df_b6.drop('End_Sem', axis=1, inplace=True) # no student had 6th semester in autumn\n",
    "print(df_b6.shape)\n",
    "df_b6.head()"
   ]
  },
  {
   "cell_type": "code",
   "execution_count": 14,
   "metadata": {
    "collapsed": false,
    "scrolled": true
   },
   "outputs": [
    {
     "data": {
      "text/plain": [
       "40.857142857142854"
      ]
     },
     "execution_count": 14,
     "metadata": {},
     "output_type": "execute_result"
    }
   ],
   "source": [
    "len(df_b1.index.intersection(df_b6.index))/7 # around 40 students per year"
   ]
  },
  {
   "cell_type": "code",
   "execution_count": 15,
   "metadata": {
    "collapsed": false
   },
   "outputs": [
    {
     "data": {
      "text/html": [
       "<div>\n",
       "<table border=\"1\" class=\"dataframe\">\n",
       "  <thead>\n",
       "    <tr style=\"text-align: right;\">\n",
       "      <th></th>\n",
       "      <th>Gender</th>\n",
       "      <th>Start_Year</th>\n",
       "      <th>End_Year</th>\n",
       "    </tr>\n",
       "    <tr>\n",
       "      <th>SCIPER</th>\n",
       "      <th></th>\n",
       "      <th></th>\n",
       "      <th></th>\n",
       "    </tr>\n",
       "  </thead>\n",
       "  <tbody>\n",
       "    <tr>\n",
       "      <th>228408</th>\n",
       "      <td>Monsieur</td>\n",
       "      <td>2012-2013</td>\n",
       "      <td>2015-2016</td>\n",
       "    </tr>\n",
       "    <tr>\n",
       "      <th>217500</th>\n",
       "      <td>Monsieur</td>\n",
       "      <td>2011-2012</td>\n",
       "      <td>2013-2014</td>\n",
       "    </tr>\n",
       "    <tr>\n",
       "      <th>203712</th>\n",
       "      <td>Monsieur</td>\n",
       "      <td>2010-2011</td>\n",
       "      <td>2012-2013</td>\n",
       "    </tr>\n",
       "    <tr>\n",
       "      <th>169795</th>\n",
       "      <td>Monsieur</td>\n",
       "      <td>2007-2008</td>\n",
       "      <td>2010-2011</td>\n",
       "    </tr>\n",
       "    <tr>\n",
       "      <th>217439</th>\n",
       "      <td>Monsieur</td>\n",
       "      <td>2011-2012</td>\n",
       "      <td>2013-2014</td>\n",
       "    </tr>\n",
       "  </tbody>\n",
       "</table>\n",
       "</div>"
      ],
      "text/plain": [
       "          Gender Start_Year   End_Year\n",
       "SCIPER                                \n",
       "228408  Monsieur  2012-2013  2015-2016\n",
       "217500  Monsieur  2011-2012  2013-2014\n",
       "203712  Monsieur  2010-2011  2012-2013\n",
       "169795  Monsieur  2007-2008  2010-2011\n",
       "217439  Monsieur  2011-2012  2013-2014"
      ]
     },
     "execution_count": 15,
     "metadata": {},
     "output_type": "execute_result"
    }
   ],
   "source": [
    "grads = df_b1.join(df_b6, how='inner')\n",
    "grads.head()"
   ]
  },
  {
   "cell_type": "raw",
   "metadata": {},
   "source": []
  }
 ],
 "metadata": {
  "anaconda-cloud": {},
  "kernelspec": {
   "display_name": "Python [Root]",
   "language": "python",
   "name": "Python [Root]"
  },
  "language_info": {
   "codemirror_mode": {
    "name": "ipython",
    "version": 3
   },
   "file_extension": ".py",
   "mimetype": "text/x-python",
   "name": "python",
   "nbconvert_exporter": "python",
   "pygments_lexer": "ipython3",
   "version": "3.5.2"
  }
 },
 "nbformat": 4,
 "nbformat_minor": 0
}
