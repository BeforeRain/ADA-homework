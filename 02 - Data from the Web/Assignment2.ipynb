{
 "cells": [
  {
   "cell_type": "code",
   "execution_count": 1,
   "metadata": {
    "collapsed": true
   },
   "outputs": [],
   "source": [
    "from bs4 import BeautifulSoup\n",
    "import requests\n",
    "import pandas as pd\n",
    "import dateutil"
   ]
  },
  {
   "cell_type": "markdown",
   "metadata": {},
   "source": [
    "Assuming no one starts B1 or M1 in spring --> find EPFL doc for this"
   ]
  },
  {
   "cell_type": "code",
   "execution_count": 2,
   "metadata": {
    "collapsed": true
   },
   "outputs": [],
   "source": [
    "# parameter keys\n",
    "PARAM_GPS = 'ww_x_GPS'\n",
    "PARAM_MAJ = 'ww_x_UNITE_ACAD'\n",
    "PARAM_YEAR = 'ww_x_PERIODE_ACAD'\n",
    "PARAM_STATUS = 'ww_x_PERIODE_PEDAGO'\n",
    "PARAM_SEMESTER = 'ww_x_HIVERETE'"
   ]
  },
  {
   "cell_type": "code",
   "execution_count": 3,
   "metadata": {
    "collapsed": true
   },
   "outputs": [],
   "source": [
    "# base URLs\n",
    "FILTER_BASE_URL = 'http://isa.epfl.ch/imoniteur_ISAP/!GEDPUBLICREPORTS.filter?ww_b_list=1&ww_i_reportmodel=133685247&ww_i_reportModelXsl=133685270'\n",
    "GPS_BASE_URL = 'http://isa.epfl.ch/imoniteur_ISAP/!GEDPUBLICREPORTS.html?ww_i_reportModel=133685247&ww_i_reportModelXsl=133685270&ww_b_list=1'"
   ]
  },
  {
   "cell_type": "markdown",
   "metadata": {},
   "source": [
    "# Create one DataFrame for all master records"
   ]
  },
  {
   "cell_type": "code",
   "execution_count": 4,
   "metadata": {
    "collapsed": false
   },
   "outputs": [],
   "source": [
    "r = requests.get(\"http://isa.epfl.ch/imoniteur_ISAP/!GEDPUBLICREPORTS.filter?ww_i_reportModel=133685247\")\n",
    "c = r.content\n",
    "soup = BeautifulSoup(c, 'html.parser')"
   ]
  },
  {
   "cell_type": "code",
   "execution_count": 5,
   "metadata": {
    "collapsed": false
   },
   "outputs": [],
   "source": [
    "# create dict from dropdown menus\n",
    "def create_dict(field_list):\n",
    "    field_dict = {}\n",
    "    for i in range(1, len(field_list)):\n",
    "        field_dict[field_list[i].string] = field_list[i][\"value\"]\n",
    "    return field_dict\n",
    "\n",
    "# Unité académique, Période académique, Période pédagogique, Type de semestre\n",
    "major_dict = create_dict(soup.body.find(id=\"filtre\").find_all('tr')[0].find_all('option'))\n",
    "acad_yr_dict = create_dict(soup.body.find(id=\"filtre\").find_all('tr')[1].find_all('option'))\n",
    "status_dict = create_dict(soup.body.find(id=\"filtre\").find_all('tr')[2].find_all('option'))\n",
    "sem_dict = create_dict(soup.body.find(id=\"filtre\").find_all('tr')[3].find_all('option'))"
   ]
  },
  {
   "cell_type": "code",
   "execution_count": 6,
   "metadata": {
    "collapsed": false
   },
   "outputs": [],
   "source": [
    "# assuming we only get two results with the first being \"Tous\"\n",
    "def is_valid_gps(gps):\n",
    "    return gps != \"-1\"\n",
    "\n",
    "def extract_gps(content):\n",
    "    soup = BeautifulSoup(content, 'html.parser')\n",
    "    elements = soup.find_all('a', class_='ww_x_GPS')\n",
    "    for element in elements:\n",
    "        raw_info = element.attrs['onclick']\n",
    "        gps = raw_info.split(\"'\")[1].split('=')[1]\n",
    "        if is_valid_gps(gps):\n",
    "            return gps"
   ]
  },
  {
   "cell_type": "code",
   "execution_count": 7,
   "metadata": {
    "collapsed": false
   },
   "outputs": [
    {
     "data": {
      "text/plain": [
       "'2015-09'"
      ]
     },
     "execution_count": 7,
     "metadata": {},
     "output_type": "execute_result"
    }
   ],
   "source": [
    "# calculate the start date of a given academic year and semester type\n",
    "def sem_start_date(academic_year, semester):\n",
    "    start_year, next_year = academic_year.split('-')\n",
    "    if semester == \"Semestre d'automne\":\n",
    "        return start_year + '-09'\n",
    "    else:\n",
    "        return next_year + '-03'\n",
    "    \n",
    "sem_start_date(\"2015-2016\", \"Semestre d'automne\")"
   ]
  },
  {
   "cell_type": "code",
   "execution_count": 8,
   "metadata": {
    "collapsed": false
   },
   "outputs": [],
   "source": [
    "# create a table for masters\n",
    "master_statuses = ['Master semestre 1', 'Master semestre 2', 'Master semestre 3']\n",
    "\n",
    "df_dict = {}\n",
    "\n",
    "for status in master_statuses:\n",
    "    for year in sorted(acad_yr_dict.keys()):\n",
    "        for sem in sem_dict.keys():\n",
    "            # obtain gps\n",
    "            payload_filter = {PARAM_MAJ: major_dict['Informatique'],\n",
    "                              PARAM_YEAR: acad_yr_dict[year],\n",
    "                              PARAM_STATUS: status_dict[status],\n",
    "                              PARAM_SEMESTER: sem_dict[sem]}\n",
    "            r_filt = requests.get(FILTER_BASE_URL, params=payload_filter)\n",
    "            gps = extract_gps(r_filt.content)\n",
    "            if gps == None:\n",
    "                continue\n",
    "\n",
    "            # get list of students\n",
    "            payload_students = {PARAM_GPS: gps,\n",
    "                                PARAM_MAJ: major_dict['Informatique'], \n",
    "                                PARAM_YEAR: acad_yr_dict[year], \n",
    "                                PARAM_STATUS: status_dict[status],\n",
    "                                PARAM_SEMESTER: sem_dict[sem]}\n",
    "            r_list = requests.get(GPS_BASE_URL, params=payload_students)\n",
    "\n",
    "            table = pd.read_html(r_list.text, flavor='lxml', skiprows=1, header=0)[0]\n",
    "            table = table.ix[:, [0,1,10]]\n",
    "            table[status] = sem_start_date(year, sem)\n",
    "            if status in df_dict.keys():\n",
    "                df_dict[status] = pd.merge(df_dict[status], table, how=\"outer\")\n",
    "            else:\n",
    "                df_dict[status] = table             \n"
   ]
  },
  {
   "cell_type": "code",
   "execution_count": 9,
   "metadata": {
    "collapsed": false
   },
   "outputs": [
    {
     "data": {
      "text/html": [
       "<div>\n",
       "<table border=\"1\" class=\"dataframe\">\n",
       "  <thead>\n",
       "    <tr style=\"text-align: right;\">\n",
       "      <th></th>\n",
       "      <th>SCIPER</th>\n",
       "      <th>Gender</th>\n",
       "      <th>Name</th>\n",
       "      <th>Master semestre 1</th>\n",
       "      <th>Master semestre 2</th>\n",
       "    </tr>\n",
       "  </thead>\n",
       "  <tbody>\n",
       "    <tr>\n",
       "      <th>0</th>\n",
       "      <td>153066.0</td>\n",
       "      <td>Monsieur</td>\n",
       "      <td>Aeberhard François-Xavier</td>\n",
       "      <td>2007-09</td>\n",
       "      <td>2008-03</td>\n",
       "    </tr>\n",
       "    <tr>\n",
       "      <th>1</th>\n",
       "      <td>153066.0</td>\n",
       "      <td>Monsieur</td>\n",
       "      <td>Aeberhard François-Xavier</td>\n",
       "      <td>2007-09</td>\n",
       "      <td>2009-03</td>\n",
       "    </tr>\n",
       "    <tr>\n",
       "      <th>2</th>\n",
       "      <td>153066.0</td>\n",
       "      <td>Monsieur</td>\n",
       "      <td>Aeberhard François-Xavier</td>\n",
       "      <td>2007-09</td>\n",
       "      <td>2010-03</td>\n",
       "    </tr>\n",
       "    <tr>\n",
       "      <th>3</th>\n",
       "      <td>180027.0</td>\n",
       "      <td>Madame</td>\n",
       "      <td>Agarwal Megha</td>\n",
       "      <td>2007-09</td>\n",
       "      <td>2008-03</td>\n",
       "    </tr>\n",
       "    <tr>\n",
       "      <th>4</th>\n",
       "      <td>152232.0</td>\n",
       "      <td>Monsieur</td>\n",
       "      <td>Anagnostaras David</td>\n",
       "      <td>2007-09</td>\n",
       "      <td>2008-03</td>\n",
       "    </tr>\n",
       "  </tbody>\n",
       "</table>\n",
       "</div>"
      ],
      "text/plain": [
       "     SCIPER    Gender                       Name Master semestre 1  \\\n",
       "0  153066.0  Monsieur  Aeberhard François-Xavier           2007-09   \n",
       "1  153066.0  Monsieur  Aeberhard François-Xavier           2007-09   \n",
       "2  153066.0  Monsieur  Aeberhard François-Xavier           2007-09   \n",
       "3  180027.0    Madame              Agarwal Megha           2007-09   \n",
       "4  152232.0  Monsieur         Anagnostaras David           2007-09   \n",
       "\n",
       "  Master semestre 2  \n",
       "0           2008-03  \n",
       "1           2009-03  \n",
       "2           2010-03  \n",
       "3           2008-03  \n",
       "4           2008-03  "
      ]
     },
     "execution_count": 9,
     "metadata": {},
     "output_type": "execute_result"
    }
   ],
   "source": [
    "# Merge master semester 1 and 2 into one DataFrame\n",
    "ans = pd.merge(df_dict[master_statuses[0]], df_dict[master_statuses[1]], how=\"inner\")\n",
    "ans.columns = ['Gender', 'Name', \"SCIPER\", \"Master semestre 1\", \"Master semestre 2\" ]\n",
    "ans = ans[['SCIPER', \"Gender\", \"Name\", \"Master semestre 1\", \"Master semestre 2\"]]\n",
    "ans.head()"
   ]
  },
  {
   "cell_type": "code",
   "execution_count": null,
   "metadata": {
    "collapsed": true
   },
   "outputs": [],
   "source": []
  }
 ],
 "metadata": {
  "anaconda-cloud": {},
  "kernelspec": {
   "display_name": "Python [Root]",
   "language": "python",
   "name": "Python [Root]"
  },
  "language_info": {
   "codemirror_mode": {
    "name": "ipython",
    "version": 3
   },
   "file_extension": ".py",
   "mimetype": "text/x-python",
   "name": "python",
   "nbconvert_exporter": "python",
   "pygments_lexer": "ipython3",
   "version": "3.5.2"
  }
 },
 "nbformat": 4,
 "nbformat_minor": 0
}
