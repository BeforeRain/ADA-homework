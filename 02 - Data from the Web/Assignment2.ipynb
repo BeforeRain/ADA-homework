{
 "cells": [
  {
   "cell_type": "code",
   "execution_count": 1,
   "metadata": {
    "collapsed": true
   },
   "outputs": [],
   "source": [
    "import numpy as np\n",
    "import pandas as pd\n",
    "import pickle  # persist data into disk, to avoid redundant network requests\n",
    "import requests\n",
    "import sys\n",
    "import matplotlib.pyplot as plt\n",
    "%matplotlib inline\n",
    "from bs4 import BeautifulSoup"
   ]
  },
  {
   "cell_type": "markdown",
   "metadata": {},
   "source": [
    "Assuming no one starts B1 or M1 in spring --> find EPFL doc for this\n",
    "\n",
    "# Get Data"
   ]
  },
  {
   "cell_type": "code",
   "execution_count": 2,
   "metadata": {
    "collapsed": true
   },
   "outputs": [],
   "source": [
    "# parameter keys\n",
    "PARAM_GPS = 'ww_x_GPS'\n",
    "PARAM_MAJ = 'ww_x_UNITE_ACAD'\n",
    "PARAM_YEAR = 'ww_x_PERIODE_ACAD'\n",
    "PARAM_STATUS = 'ww_x_PERIODE_PEDAGO'\n",
    "PARAM_SEMESTER = 'ww_x_HIVERETE'"
   ]
  },
  {
   "cell_type": "code",
   "execution_count": 3,
   "metadata": {
    "collapsed": true
   },
   "outputs": [],
   "source": [
    "# base URLs\n",
    "FILTER_BASE_URL = 'http://isa.epfl.ch/imoniteur_ISAP/!GEDPUBLICREPORTS.filter?ww_b_list=1&ww_i_reportmodel=133685247&ww_i_reportModelXsl=133685270'\n",
    "GPS_BASE_URL = 'http://isa.epfl.ch/imoniteur_ISAP/!GEDPUBLICREPORTS.html?ww_i_reportModel=133685247&ww_i_reportModelXsl=133685270&ww_b_list=1'"
   ]
  },
  {
   "cell_type": "code",
   "execution_count": 4,
   "metadata": {
    "collapsed": false
   },
   "outputs": [],
   "source": [
    "r = requests.get(\"http://isa.epfl.ch/imoniteur_ISAP/!GEDPUBLICREPORTS.filter?ww_i_reportModel=133685247\")\n",
    "c = r.content\n",
    "soup = BeautifulSoup(c, 'html.parser')"
   ]
  },
  {
   "cell_type": "code",
   "execution_count": 5,
   "metadata": {
    "collapsed": false
   },
   "outputs": [],
   "source": [
    "# create dict from dropdown menus\n",
    "def create_dict(field_list):\n",
    "    field_dict = {}\n",
    "    for i in range(1, len(field_list)):\n",
    "        field_dict[field_list[i].string] = field_list[i][\"value\"]\n",
    "    return field_dict\n",
    "\n",
    "# Unité académique, Période académique, Période pédagogique, Type de semestre\n",
    "major_dict = create_dict(soup.body.find(id=\"filtre\").find_all('tr')[0].find_all('option'))\n",
    "acad_yr_dict = create_dict(soup.body.find(id=\"filtre\").find_all('tr')[1].find_all('option'))\n",
    "status_dict = create_dict(soup.body.find(id=\"filtre\").find_all('tr')[2].find_all('option'))\n",
    "sem_dict = create_dict(soup.body.find(id=\"filtre\").find_all('tr')[3].find_all('option'))"
   ]
  },
  {
   "cell_type": "code",
   "execution_count": 6,
   "metadata": {
    "collapsed": false
   },
   "outputs": [],
   "source": [
    "# assuming we only get two results with the first being \"Tous\"\n",
    "def is_valid_gps(gps):\n",
    "    return gps != \"-1\"\n",
    "\n",
    "def extract_gps(content):\n",
    "    soup = BeautifulSoup(content, 'html.parser')\n",
    "    elements = soup.find_all('a', class_='ww_x_GPS')\n",
    "    for element in elements:\n",
    "        raw_info = element.attrs['onclick']\n",
    "        gps = raw_info.split(\"'\")[1].split('=')[1]\n",
    "        if is_valid_gps(gps):\n",
    "            return gps"
   ]
  },
  {
   "cell_type": "code",
   "execution_count": 7,
   "metadata": {
    "collapsed": false
   },
   "outputs": [
    {
     "data": {
      "text/plain": [
       "'2015-09'"
      ]
     },
     "execution_count": 7,
     "metadata": {},
     "output_type": "execute_result"
    }
   ],
   "source": [
    "# calculate the start date of a given academic year and semester type\n",
    "def sem_start_date(academic_year, semester):\n",
    "    start_year, next_year = academic_year.split('-')\n",
    "    if semester == \"Semestre d'automne\":\n",
    "        return start_year + '-09'\n",
    "    else:\n",
    "        return next_year + '-03'\n",
    "    \n",
    "sem_start_date(\"2015-2016\", \"Semestre d'automne\")"
   ]
  },
  {
   "cell_type": "code",
   "execution_count": 8,
   "metadata": {
    "collapsed": false
   },
   "outputs": [],
   "source": [
    "# TODO: split code into multiple modules\n",
    "# statuses can be bachelor statuses, master statues, etc.\n",
    "def build_student_dict(statuses):\n",
    "    d = {}\n",
    "    for status in statuses:\n",
    "        for year in sorted(acad_yr_dict.keys()):\n",
    "            for sem in sem_dict.keys():\n",
    "                # obtain gps\n",
    "                payload_filter = {PARAM_MAJ: major_dict['Informatique'],\n",
    "                                  PARAM_YEAR: acad_yr_dict[year],\n",
    "                                  PARAM_STATUS: status_dict[status],\n",
    "                                  PARAM_SEMESTER: sem_dict[sem]}\n",
    "                r_filt = requests.get(FILTER_BASE_URL, params=payload_filter)\n",
    "                gps = extract_gps(r_filt.content)\n",
    "                if gps == None:\n",
    "                    continue\n",
    "\n",
    "                # get list of students\n",
    "                payload_students = {PARAM_GPS: gps,\n",
    "                                    PARAM_MAJ: major_dict['Informatique'], \n",
    "                                    PARAM_YEAR: acad_yr_dict[year], \n",
    "                                    PARAM_STATUS: status_dict[status],\n",
    "                                    PARAM_SEMESTER: sem_dict[sem]}\n",
    "                r_list = requests.get(GPS_BASE_URL, params=payload_students)\n",
    "    \n",
    "                # parse with beautiful soup\n",
    "                soup_students = BeautifulSoup(r_list.content, 'html.parser')\n",
    "                # students are starting after two rows\n",
    "                rows = soup_students.find_all('tr')\n",
    "                for k in range(2,len(rows)):\n",
    "                    student = rows[k].find_all('td')\n",
    "                    sciper = student[10].string\n",
    "                    if student[7].string == 'Présent':\n",
    "                        if not sciper in d.keys():\n",
    "                            d[sciper] = {}\n",
    "                        d[sciper]['Gender'] = student[0].string\n",
    "                        d[sciper]['Name'] = student[1].string\n",
    "                        d[sciper]['Specialisation'] = student[4].string\n",
    "                        d[sciper]['Minor'] = student[6].string\n",
    "                        d[sciper][status] = sem_start_date(year, sem)\n",
    "    return d"
   ]
  },
  {
   "cell_type": "code",
   "execution_count": 9,
   "metadata": {
    "collapsed": false
   },
   "outputs": [],
   "source": [
    "# TODO: persist master_dict using pickle\n",
    "master_statuses = ['Master semestre 1', 'Master semestre 2', 'Master semestre 3']    \n",
    "\n",
    "try:\n",
    "    master_dict = pickle.load(open(\"masters.pickle\", \"rb\"))\n",
    "except (FileNotFoundError, OSError, IOError) as e:\n",
    "    sys.setrecursionlimit(10000)\n",
    "    pickle.dump(master_dict, open(\"masters.pickle\", \"wb\"))"
   ]
  },
  {
   "cell_type": "code",
   "execution_count": 10,
   "metadata": {
    "collapsed": false,
    "scrolled": true
   },
   "outputs": [
    {
     "data": {
      "text/html": [
       "<div>\n",
       "<table border=\"1\" class=\"dataframe\">\n",
       "  <thead>\n",
       "    <tr style=\"text-align: right;\">\n",
       "      <th></th>\n",
       "      <th>Name</th>\n",
       "      <th>Gender</th>\n",
       "      <th>Specialisation</th>\n",
       "      <th>Master semestre 1</th>\n",
       "      <th>Master semestre 2</th>\n",
       "      <th>Master semestre 3</th>\n",
       "    </tr>\n",
       "    <tr>\n",
       "      <th>SCIPER</th>\n",
       "      <th></th>\n",
       "      <th></th>\n",
       "      <th></th>\n",
       "      <th></th>\n",
       "      <th></th>\n",
       "      <th></th>\n",
       "    </tr>\n",
       "  </thead>\n",
       "  <tbody>\n",
       "    <tr>\n",
       "      <th>128911</th>\n",
       "      <td>Gulati Asheesh</td>\n",
       "      <td>Monsieur</td>\n",
       "      <td>Internet computing</td>\n",
       "      <td>NaN</td>\n",
       "      <td>2008-03</td>\n",
       "      <td>2007-09</td>\n",
       "    </tr>\n",
       "    <tr>\n",
       "      <th>129093</th>\n",
       "      <td>Zhou Maoan</td>\n",
       "      <td>Monsieur</td>\n",
       "      <td>None</td>\n",
       "      <td>NaN</td>\n",
       "      <td>2008-03</td>\n",
       "      <td>NaN</td>\n",
       "    </tr>\n",
       "    <tr>\n",
       "      <th>129326</th>\n",
       "      <td>Ni Zhong Zhong</td>\n",
       "      <td>Monsieur</td>\n",
       "      <td>None</td>\n",
       "      <td>NaN</td>\n",
       "      <td>2008-03</td>\n",
       "      <td>2007-09</td>\n",
       "    </tr>\n",
       "    <tr>\n",
       "      <th>138088</th>\n",
       "      <td>Droz-dit-Busset Arnault</td>\n",
       "      <td>Monsieur</td>\n",
       "      <td>None</td>\n",
       "      <td>2007-09</td>\n",
       "      <td>NaN</td>\n",
       "      <td>NaN</td>\n",
       "    </tr>\n",
       "    <tr>\n",
       "      <th>145546</th>\n",
       "      <td>Clivaz Jean-Philippe</td>\n",
       "      <td>Monsieur</td>\n",
       "      <td>None</td>\n",
       "      <td>NaN</td>\n",
       "      <td>NaN</td>\n",
       "      <td>2007-09</td>\n",
       "    </tr>\n",
       "  </tbody>\n",
       "</table>\n",
       "</div>"
      ],
      "text/plain": [
       "                           Name    Gender      Specialisation  \\\n",
       "SCIPER                                                          \n",
       "128911           Gulati Asheesh  Monsieur  Internet computing   \n",
       "129093               Zhou Maoan  Monsieur                None   \n",
       "129326           Ni Zhong Zhong  Monsieur                None   \n",
       "138088  Droz-dit-Busset Arnault  Monsieur                None   \n",
       "145546     Clivaz Jean-Philippe  Monsieur                None   \n",
       "\n",
       "       Master semestre 1 Master semestre 2 Master semestre 3  \n",
       "SCIPER                                                        \n",
       "128911               NaN           2008-03           2007-09  \n",
       "129093               NaN           2008-03               NaN  \n",
       "129326               NaN           2008-03           2007-09  \n",
       "138088           2007-09               NaN               NaN  \n",
       "145546               NaN               NaN           2007-09  "
      ]
     },
     "execution_count": 10,
     "metadata": {},
     "output_type": "execute_result"
    }
   ],
   "source": [
    "df = pd.DataFrame.from_dict(master_dict, orient='index')\n",
    "df.index.name = \"SCIPER\"\n",
    "df = df[['Name', 'Gender', 'Specialisation', 'Master semestre 1', 'Master semestre 2', 'Master semestre 3']]\n",
    "df.head()"
   ]
  },
  {
   "cell_type": "markdown",
   "metadata": {},
   "source": [
    "# Prepare Data(TODO)"
   ]
  },
  {
   "cell_type": "markdown",
   "metadata": {},
   "source": [
    "# Analyze Data"
   ]
  },
  {
   "cell_type": "code",
   "execution_count": 11,
   "metadata": {
    "collapsed": false
   },
   "outputs": [
    {
     "data": {
      "text/html": [
       "<div>\n",
       "<table border=\"1\" class=\"dataframe\">\n",
       "  <thead>\n",
       "    <tr style=\"text-align: right;\">\n",
       "      <th></th>\n",
       "      <th>Name</th>\n",
       "      <th>Gender</th>\n",
       "      <th>Specialisation</th>\n",
       "      <th>Master semestre 1</th>\n",
       "      <th>Master semestre 2</th>\n",
       "      <th>Master semestre 3</th>\n",
       "      <th>Duration</th>\n",
       "    </tr>\n",
       "    <tr>\n",
       "      <th>SCIPER</th>\n",
       "      <th></th>\n",
       "      <th></th>\n",
       "      <th></th>\n",
       "      <th></th>\n",
       "      <th></th>\n",
       "      <th></th>\n",
       "      <th></th>\n",
       "    </tr>\n",
       "  </thead>\n",
       "  <tbody>\n",
       "    <tr>\n",
       "      <th>146330</th>\n",
       "      <td>Cardinaux Damien</td>\n",
       "      <td>Monsieur</td>\n",
       "      <td>None</td>\n",
       "      <td>2007-09</td>\n",
       "      <td>2008-03</td>\n",
       "      <td>2008-09</td>\n",
       "      <td>18.0</td>\n",
       "    </tr>\n",
       "    <tr>\n",
       "      <th>146742</th>\n",
       "      <td>Marx Clément</td>\n",
       "      <td>Monsieur</td>\n",
       "      <td>Signals, Images and Interfaces</td>\n",
       "      <td>2008-09</td>\n",
       "      <td>2010-03</td>\n",
       "      <td>2012-09</td>\n",
       "      <td>54.0</td>\n",
       "    </tr>\n",
       "    <tr>\n",
       "      <th>146929</th>\n",
       "      <td>Junod Antoine</td>\n",
       "      <td>Monsieur</td>\n",
       "      <td>None</td>\n",
       "      <td>2007-09</td>\n",
       "      <td>2008-03</td>\n",
       "      <td>NaN</td>\n",
       "      <td>12.0</td>\n",
       "    </tr>\n",
       "    <tr>\n",
       "      <th>147008</th>\n",
       "      <td>Good Xavier</td>\n",
       "      <td>Monsieur</td>\n",
       "      <td>None</td>\n",
       "      <td>2011-09</td>\n",
       "      <td>2012-03</td>\n",
       "      <td>2012-09</td>\n",
       "      <td>18.0</td>\n",
       "    </tr>\n",
       "    <tr>\n",
       "      <th>152232</th>\n",
       "      <td>Anagnostaras David</td>\n",
       "      <td>Monsieur</td>\n",
       "      <td>None</td>\n",
       "      <td>2007-09</td>\n",
       "      <td>2008-03</td>\n",
       "      <td>2008-09</td>\n",
       "      <td>18.0</td>\n",
       "    </tr>\n",
       "    <tr>\n",
       "      <th>153066</th>\n",
       "      <td>Aeberhard François-Xavier</td>\n",
       "      <td>Monsieur</td>\n",
       "      <td>Internet computing</td>\n",
       "      <td>2007-09</td>\n",
       "      <td>2010-03</td>\n",
       "      <td>2009-09</td>\n",
       "      <td>30.0</td>\n",
       "    </tr>\n",
       "    <tr>\n",
       "      <th>153746</th>\n",
       "      <td>Cassina Ilya</td>\n",
       "      <td>Monsieur</td>\n",
       "      <td>None</td>\n",
       "      <td>2008-09</td>\n",
       "      <td>2008-03</td>\n",
       "      <td>NaN</td>\n",
       "      <td>0.0</td>\n",
       "    </tr>\n",
       "    <tr>\n",
       "      <th>153762</th>\n",
       "      <td>Conus Johann</td>\n",
       "      <td>Monsieur</td>\n",
       "      <td>None</td>\n",
       "      <td>2008-09</td>\n",
       "      <td>2010-03</td>\n",
       "      <td>2009-09</td>\n",
       "      <td>18.0</td>\n",
       "    </tr>\n",
       "    <tr>\n",
       "      <th>154573</th>\n",
       "      <td>Benabdallah Zeineb</td>\n",
       "      <td>Madame</td>\n",
       "      <td>Biocomputing</td>\n",
       "      <td>2007-09</td>\n",
       "      <td>2009-03</td>\n",
       "      <td>2009-09</td>\n",
       "      <td>30.0</td>\n",
       "    </tr>\n",
       "    <tr>\n",
       "      <th>154643</th>\n",
       "      <td>Dumont Loïc</td>\n",
       "      <td>Monsieur</td>\n",
       "      <td>None</td>\n",
       "      <td>2007-09</td>\n",
       "      <td>2008-03</td>\n",
       "      <td>NaN</td>\n",
       "      <td>12.0</td>\n",
       "    </tr>\n",
       "    <tr>\n",
       "      <th>154706</th>\n",
       "      <td>Suter François</td>\n",
       "      <td>Monsieur</td>\n",
       "      <td>None</td>\n",
       "      <td>2007-09</td>\n",
       "      <td>2008-03</td>\n",
       "      <td>NaN</td>\n",
       "      <td>12.0</td>\n",
       "    </tr>\n",
       "    <tr>\n",
       "      <th>155018</th>\n",
       "      <td>Signori Jean</td>\n",
       "      <td>Monsieur</td>\n",
       "      <td>None</td>\n",
       "      <td>2007-09</td>\n",
       "      <td>2008-03</td>\n",
       "      <td>NaN</td>\n",
       "      <td>12.0</td>\n",
       "    </tr>\n",
       "    <tr>\n",
       "      <th>155097</th>\n",
       "      <td>Wei Zhe</td>\n",
       "      <td>Monsieur</td>\n",
       "      <td>None</td>\n",
       "      <td>2007-09</td>\n",
       "      <td>2008-03</td>\n",
       "      <td>2008-09</td>\n",
       "      <td>18.0</td>\n",
       "    </tr>\n",
       "    <tr>\n",
       "      <th>159516</th>\n",
       "      <td>Raja Yanick</td>\n",
       "      <td>Monsieur</td>\n",
       "      <td>None</td>\n",
       "      <td>2008-09</td>\n",
       "      <td>2009-03</td>\n",
       "      <td>2009-09</td>\n",
       "      <td>18.0</td>\n",
       "    </tr>\n",
       "    <tr>\n",
       "      <th>159998</th>\n",
       "      <td>Jesse Julia</td>\n",
       "      <td>Madame</td>\n",
       "      <td>Signals, Images and Interfaces</td>\n",
       "      <td>2008-09</td>\n",
       "      <td>2009-03</td>\n",
       "      <td>2009-09</td>\n",
       "      <td>18.0</td>\n",
       "    </tr>\n",
       "    <tr>\n",
       "      <th>160148</th>\n",
       "      <td>Casati Nathalie</td>\n",
       "      <td>Madame</td>\n",
       "      <td>None</td>\n",
       "      <td>2007-09</td>\n",
       "      <td>2008-03</td>\n",
       "      <td>2008-09</td>\n",
       "      <td>18.0</td>\n",
       "    </tr>\n",
       "    <tr>\n",
       "      <th>160213</th>\n",
       "      <td>Bécholey Alexandre</td>\n",
       "      <td>Monsieur</td>\n",
       "      <td>None</td>\n",
       "      <td>2008-09</td>\n",
       "      <td>2009-03</td>\n",
       "      <td>NaN</td>\n",
       "      <td>12.0</td>\n",
       "    </tr>\n",
       "    <tr>\n",
       "      <th>160225</th>\n",
       "      <td>Cassata Alexandre</td>\n",
       "      <td>Monsieur</td>\n",
       "      <td>None</td>\n",
       "      <td>2007-09</td>\n",
       "      <td>2008-03</td>\n",
       "      <td>2008-09</td>\n",
       "      <td>18.0</td>\n",
       "    </tr>\n",
       "    <tr>\n",
       "      <th>160254</th>\n",
       "      <td>Kohler Johann</td>\n",
       "      <td>Monsieur</td>\n",
       "      <td>Internet computing</td>\n",
       "      <td>2007-09</td>\n",
       "      <td>2008-03</td>\n",
       "      <td>2008-09</td>\n",
       "      <td>18.0</td>\n",
       "    </tr>\n",
       "    <tr>\n",
       "      <th>160492</th>\n",
       "      <td>Bettex Marc</td>\n",
       "      <td>Monsieur</td>\n",
       "      <td>None</td>\n",
       "      <td>2007-09</td>\n",
       "      <td>2008-03</td>\n",
       "      <td>NaN</td>\n",
       "      <td>12.0</td>\n",
       "    </tr>\n",
       "  </tbody>\n",
       "</table>\n",
       "</div>"
      ],
      "text/plain": [
       "                             Name    Gender                  Specialisation  \\\n",
       "SCIPER                                                                        \n",
       "146330           Cardinaux Damien  Monsieur                            None   \n",
       "146742               Marx Clément  Monsieur  Signals, Images and Interfaces   \n",
       "146929              Junod Antoine  Monsieur                            None   \n",
       "147008                Good Xavier  Monsieur                            None   \n",
       "152232         Anagnostaras David  Monsieur                            None   \n",
       "153066  Aeberhard François-Xavier  Monsieur              Internet computing   \n",
       "153746               Cassina Ilya  Monsieur                            None   \n",
       "153762               Conus Johann  Monsieur                            None   \n",
       "154573         Benabdallah Zeineb    Madame                    Biocomputing   \n",
       "154643                Dumont Loïc  Monsieur                            None   \n",
       "154706             Suter François  Monsieur                            None   \n",
       "155018               Signori Jean  Monsieur                            None   \n",
       "155097                    Wei Zhe  Monsieur                            None   \n",
       "159516                Raja Yanick  Monsieur                            None   \n",
       "159998                Jesse Julia    Madame  Signals, Images and Interfaces   \n",
       "160148            Casati Nathalie    Madame                            None   \n",
       "160213         Bécholey Alexandre  Monsieur                            None   \n",
       "160225          Cassata Alexandre  Monsieur                            None   \n",
       "160254              Kohler Johann  Monsieur              Internet computing   \n",
       "160492                Bettex Marc  Monsieur                            None   \n",
       "\n",
       "       Master semestre 1 Master semestre 2 Master semestre 3  Duration  \n",
       "SCIPER                                                                  \n",
       "146330           2007-09           2008-03           2008-09      18.0  \n",
       "146742           2008-09           2010-03           2012-09      54.0  \n",
       "146929           2007-09           2008-03               NaN      12.0  \n",
       "147008           2011-09           2012-03           2012-09      18.0  \n",
       "152232           2007-09           2008-03           2008-09      18.0  \n",
       "153066           2007-09           2010-03           2009-09      30.0  \n",
       "153746           2008-09           2008-03               NaN       0.0  \n",
       "153762           2008-09           2010-03           2009-09      18.0  \n",
       "154573           2007-09           2009-03           2009-09      30.0  \n",
       "154643           2007-09           2008-03               NaN      12.0  \n",
       "154706           2007-09           2008-03               NaN      12.0  \n",
       "155018           2007-09           2008-03               NaN      12.0  \n",
       "155097           2007-09           2008-03           2008-09      18.0  \n",
       "159516           2008-09           2009-03           2009-09      18.0  \n",
       "159998           2008-09           2009-03           2009-09      18.0  \n",
       "160148           2007-09           2008-03           2008-09      18.0  \n",
       "160213           2008-09           2009-03               NaN      12.0  \n",
       "160225           2007-09           2008-03           2008-09      18.0  \n",
       "160254           2007-09           2008-03           2008-09      18.0  \n",
       "160492           2007-09           2008-03               NaN      12.0  "
      ]
     },
     "execution_count": 11,
     "metadata": {},
     "output_type": "execute_result"
    }
   ],
   "source": [
    "# date is in 'year-month' format. e.g. 2015-07\n",
    "def months_between_dates(start_date, end_date):\n",
    "    start_year, start_month = start_date.split('-')\n",
    "    end_year, end_month = end_date.split('-')\n",
    "    # TODO judge if start < end\n",
    "    return (int(end_year) - int(start_year)) * 12 + int(end_month) - int(start_month) + 6\n",
    "\n",
    "def compute_duration_in_months(row):\n",
    "    start_date = row['Master semestre 1']\n",
    "    end_date = row['Master semestre 2']\n",
    "    if not pd.isnull(row['Master semestre 3']):\n",
    "        end_date = row['Master semestre 3']\n",
    "    if pd.isnull(start_date) or pd.isnull(end_date):\n",
    "        return np.nan\n",
    "    return months_between_dates(start_date, end_date)\n",
    "\n",
    "df['Duration'] = df.apply(lambda row: compute_duration_in_months(row), axis=1)\n",
    "df = df[pd.notnull(df['Duration'])]\n",
    "df.head(20)\n"
   ]
  },
  {
   "cell_type": "code",
   "execution_count": 12,
   "metadata": {
    "collapsed": false
   },
   "outputs": [
    {
     "data": {
      "text/plain": [
       "16.053835800807537"
      ]
     },
     "execution_count": 12,
     "metadata": {},
     "output_type": "execute_result"
    }
   ],
   "source": [
    "# average stay at EPFL (from master semester 1 -> semester 2/3)\n",
    "# TODO: take master project into account\n",
    "df['Duration'].mean()"
   ]
  },
  {
   "cell_type": "code",
   "execution_count": 13,
   "metadata": {
    "collapsed": false
   },
   "outputs": [
    {
     "data": {
      "text/plain": [
       "Specialisation\n",
       "Biocomputing                      26.000000\n",
       "Computer Engineering - SP         19.578947\n",
       "Computer Science Theory           18.000000\n",
       "Data Analytics                    12.000000\n",
       "Foundations of Software           20.105263\n",
       "Information Security - SP         18.000000\n",
       "Internet Information Systems      18.000000\n",
       "Internet computing                18.658537\n",
       "Service science                   18.000000\n",
       "Signals, Images and Interfaces    20.400000\n",
       "Software Systems                  17.600000\n",
       "Name: Duration, dtype: float64"
      ]
     },
     "execution_count": 13,
     "metadata": {},
     "output_type": "execute_result"
    }
   ],
   "source": [
    "df.groupby('Specialisation')['Duration'].mean()"
   ]
  },
  {
   "cell_type": "code",
   "execution_count": 14,
   "metadata": {
    "collapsed": false
   },
   "outputs": [
    {
     "data": {
      "text/plain": [
       "Master semestre 1\n",
       "2007-09    16.454545\n",
       "2008-09    16.434783\n",
       "2009-09    18.000000\n",
       "2010-09    16.604651\n",
       "2011-09    16.369565\n",
       "2012-09    16.444444\n",
       "2013-09    16.000000\n",
       "2014-09    17.755102\n",
       "2015-09    15.317073\n",
       "2016-09    -1.000000\n",
       "Name: Duration, dtype: float64"
      ]
     },
     "execution_count": 14,
     "metadata": {},
     "output_type": "execute_result"
    }
   ],
   "source": [
    "df.groupby('Master semestre 1')['Duration'].mean()"
   ]
  },
  {
   "cell_type": "code",
   "execution_count": 15,
   "metadata": {
    "collapsed": false
   },
   "outputs": [
    {
     "data": {
      "text/plain": [
       "Gender    Master semestre 1\n",
       "Madame    2007-09              15.000000\n",
       "          2008-09              16.000000\n",
       "          2009-09              18.000000\n",
       "          2010-09              18.545455\n",
       "          2011-09              17.625000\n",
       "          2012-09              16.714286\n",
       "          2013-09              15.857143\n",
       "          2014-09              18.545455\n",
       "          2015-09              16.153846\n",
       "          2016-09               0.000000\n",
       "Monsieur  2007-09              16.714286\n",
       "          2008-09              16.500000\n",
       "          2009-09              18.000000\n",
       "          2010-09              16.320000\n",
       "          2011-09              16.105263\n",
       "          2012-09              16.388060\n",
       "          2013-09              16.026316\n",
       "          2014-09              17.655172\n",
       "          2015-09              15.218182\n",
       "          2016-09              -1.200000\n",
       "Name: Duration, dtype: float64"
      ]
     },
     "execution_count": 15,
     "metadata": {},
     "output_type": "execute_result"
    }
   ],
   "source": [
    "df.groupby(['Gender', 'Master semestre 1'])['Duration'].mean()"
   ]
  },
  {
   "cell_type": "markdown",
   "metadata": {},
   "source": [
    "# Bonus assignment"
   ]
  },
  {
   "cell_type": "code",
   "execution_count": 16,
   "metadata": {
    "collapsed": false,
    "scrolled": true
   },
   "outputs": [
    {
     "name": "stderr",
     "output_type": "stream",
     "text": [
      "/home/zwy/anaconda3/lib/python3.5/site-packages/ipykernel/__main__.py:2: SettingWithCopyWarning: \n",
      "A value is trying to be set on a copy of a slice from a DataFrame.\n",
      "Try using .loc[row_indexer,col_indexer] = value instead\n",
      "\n",
      "See the caveats in the documentation: http://pandas.pydata.org/pandas-docs/stable/indexing.html#indexing-view-versus-copy\n",
      "  from ipykernel import kernelapp as app\n"
     ]
    },
    {
     "data": {
      "text/html": [
       "<div>\n",
       "<table border=\"1\" class=\"dataframe\">\n",
       "  <thead>\n",
       "    <tr style=\"text-align: right;\">\n",
       "      <th>Gender</th>\n",
       "      <th>Madame</th>\n",
       "      <th>Monsieur</th>\n",
       "    </tr>\n",
       "    <tr>\n",
       "      <th>Start Year</th>\n",
       "      <th></th>\n",
       "      <th></th>\n",
       "    </tr>\n",
       "  </thead>\n",
       "  <tbody>\n",
       "    <tr>\n",
       "      <th>2007</th>\n",
       "      <td>15.000000</td>\n",
       "      <td>16.714286</td>\n",
       "    </tr>\n",
       "    <tr>\n",
       "      <th>2008</th>\n",
       "      <td>16.000000</td>\n",
       "      <td>16.500000</td>\n",
       "    </tr>\n",
       "    <tr>\n",
       "      <th>2009</th>\n",
       "      <td>18.000000</td>\n",
       "      <td>18.000000</td>\n",
       "    </tr>\n",
       "    <tr>\n",
       "      <th>2010</th>\n",
       "      <td>18.545455</td>\n",
       "      <td>16.320000</td>\n",
       "    </tr>\n",
       "    <tr>\n",
       "      <th>2011</th>\n",
       "      <td>17.625000</td>\n",
       "      <td>16.105263</td>\n",
       "    </tr>\n",
       "  </tbody>\n",
       "</table>\n",
       "</div>"
      ],
      "text/plain": [
       "Gender         Madame   Monsieur\n",
       "Start Year                      \n",
       "2007        15.000000  16.714286\n",
       "2008        16.000000  16.500000\n",
       "2009        18.000000  18.000000\n",
       "2010        18.545455  16.320000\n",
       "2011        17.625000  16.105263"
      ]
     },
     "execution_count": 16,
     "metadata": {},
     "output_type": "execute_result"
    }
   ],
   "source": [
    "stats_df = df[['Gender', 'Duration']]\n",
    "stats_df['Start Year'] = df['Master semestre 1'].apply(lambda x: x.split('-')[0])\n",
    "stats_df = stats_df[['Start Year', 'Gender', 'Duration']].groupby(['Start Year', 'Gender']).mean()\n",
    "stats_df = stats_df['Duration'].unstack('Gender')\n",
    "stats_df.head()"
   ]
  },
  {
   "cell_type": "code",
   "execution_count": 17,
   "metadata": {
    "collapsed": false
   },
   "outputs": [
    {
     "data": {
      "text/plain": [
       "<matplotlib.axes._subplots.AxesSubplot at 0x7f539431b630>"
      ]
     },
     "execution_count": 17,
     "metadata": {},
     "output_type": "execute_result"
    },
    {
     "data": {
      "image/png": "[encoded data removed]",
      "text/plain": [
       "<matplotlib.figure.Figure at 0x7f5394309fd0>"
      ]
     },
     "metadata": {},
     "output_type": "display_data"
    }
   ],
   "source": [
    "stats_df.plot()"
   ]
  },
  {
   "cell_type": "code",
   "execution_count": null,
   "metadata": {
    "collapsed": true
   },
   "outputs": [],
   "source": []
  }
 ],
 "metadata": {
  "anaconda-cloud": {},
  "kernelspec": {
   "display_name": "Python [Root]",
   "language": "python",
   "name": "Python [Root]"
  },
  "language_info": {
   "codemirror_mode": {
    "name": "ipython",
    "version": 3
   },
   "file_extension": ".py",
   "mimetype": "text/x-python",
   "name": "python",
   "nbconvert_exporter": "python",
   "pygments_lexer": "ipython3",
   "version": "3.5.2"
  }
 },
 "nbformat": 4,
 "nbformat_minor": 0
}
