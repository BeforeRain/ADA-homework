{
 "cells": [
  {
   "cell_type": "code",
   "execution_count": 1,
   "metadata": {
    "collapsed": false
   },
   "outputs": [
    {
     "name": "stderr",
     "output_type": "stream",
     "text": [
      "/home/weizhang/.local/lib/python3.5/site-packages/gensim/utils.py:1015: UserWarning: Pattern library is not installed, lemmatization won't be available.\n",
      "  warnings.warn(\"Pattern library is not installed, lemmatization won't be available.\")\n"
     ]
    }
   ],
   "source": [
    "import pandas as pd\n",
    "import nltk\n",
    "import pickle\n",
    "from gensim.models.ldamodel import LdaModel\n",
    "from gensim import corpora"
   ]
  },
  {
   "cell_type": "markdown",
   "metadata": {},
   "source": [
    "# Text pre-processing\n",
    "\n",
    "We perform a similar text pre-processing pipeline (e.g., tokenization, stopword removal, stemming, etc.) as in task 1. The difference here is that we need to handle every row of data one by one, generating a nested list of a list of words."
   ]
  },
  {
   "cell_type": "code",
   "execution_count": 2,
   "metadata": {
    "collapsed": true
   },
   "outputs": [],
   "source": [
    "emails = pd.read_csv('hillary-clinton-emails/Emails.csv')"
   ]
  },
  {
   "cell_type": "markdown",
   "metadata": {},
   "source": [
    "We merge the ExtractBodyText column and MetadataSubject column into a new column named MergedText."
   ]
  },
  {
   "cell_type": "code",
   "execution_count": 3,
   "metadata": {
    "collapsed": false
   },
   "outputs": [],
   "source": [
    "emails['MergedText'] = emails.apply(lambda x: str(x.ExtractedBodyText) + str(x.MetadataSubject), axis=1)"
   ]
  },
  {
   "cell_type": "markdown",
   "metadata": {},
   "source": [
    "We define stop words and stemmer as in task 1."
   ]
  },
  {
   "cell_type": "code",
   "execution_count": 4,
   "metadata": {
    "collapsed": true
   },
   "outputs": [],
   "source": [
    "from nltk.corpus import stopwords\n",
    "stop_words = set(stopwords.words('english'))\n",
    "local_stop = {\"Re\", \"RE\", \"Fw\", \"FW\", \"Cc\", \"also\", \"PM\", \"AM\", \"pm\", \"am\", \"btw\", \"fyi\", \"FYI\", \"to\", \"from\", \"To\", \"From\"}\n",
    "stop_words = stop_words | local_stop"
   ]
  },
  {
   "cell_type": "code",
   "execution_count": 5,
   "metadata": {
    "collapsed": true
   },
   "outputs": [],
   "source": [
    "from nltk.stem import PorterStemmer\n",
    "ps = PorterStemmer()"
   ]
  },
  {
   "cell_type": "code",
   "execution_count": 8,
   "metadata": {
    "collapsed": true
   },
   "outputs": [],
   "source": [
    "def preprocess(text):\n",
    "    tokens = nltk.word_tokenize(text)\n",
    "    tokens = [token for token in tokens if token.isalpha()]  # remove punctuations\n",
    "    filtered_content = [w for w in tokens if w not in stop_words]\n",
    "    stemmed_content = [ps.stem(word) for word in filtered_content]\n",
    "    return stemmed_content"
   ]
  },
  {
   "cell_type": "code",
   "execution_count": 9,
   "metadata": {
    "collapsed": false
   },
   "outputs": [],
   "source": [
    "texts = [ preprocess(text) for text in emails.MergedText]"
   ]
  },
  {
   "cell_type": "markdown",
   "metadata": {},
   "source": [
    "# Topic modeling"
   ]
  },
  {
   "cell_type": "code",
   "execution_count": 10,
   "metadata": {
    "collapsed": false
   },
   "outputs": [],
   "source": [
    "dictionary = corpora.Dictionary(texts)"
   ]
  },
  {
   "cell_type": "code",
   "execution_count": 11,
   "metadata": {
    "collapsed": false
   },
   "outputs": [],
   "source": [
    "corpus = [dictionary.doc2bow(text) for text in texts]"
   ]
  },
  {
   "cell_type": "code",
   "execution_count": 13,
   "metadata": {
    "collapsed": true
   },
   "outputs": [],
   "source": [
    "def print_topics(topics):\n",
    "    for topic in topics:\n",
    "        print(\"Topic \", topic[0], end=\"    \")\n",
    "        for word_tuple in topic[1]:\n",
    "            print(word_tuple[0], end=\"     \")\n",
    "        print()"
   ]
  },
  {
   "cell_type": "markdown",
   "metadata": {},
   "source": [
    "Now, let's train the LDA model with different number of topics.\n",
    "TODO: try different number of topics, number of words, number of passes and find a good fit."
   ]
  },
  {
   "cell_type": "code",
   "execution_count": 14,
   "metadata": {
    "collapsed": false
   },
   "outputs": [],
   "source": [
    "model = LdaModel(corpus, num_topics=5, id2word=dictionary, passes=5)\n",
    "topics = model.show_topics(num_topics=5, num_words=10, formatted=False)"
   ]
  },
  {
   "cell_type": "code",
   "execution_count": 15,
   "metadata": {
    "collapsed": false
   },
   "outputs": [
    {
     "data": {
      "text/plain": [
       "(1,\n",
       " [('I', 0.019280088026253587),\n",
       "  ('call', 0.015950882385789081),\n",
       "  ('H', 0.015017886536467769),\n",
       "  ('D', 0.008837346584936465),\n",
       "  ('Cheryl', 0.0074708472886379756),\n",
       "  ('Huma', 0.0072314524025088138),\n",
       "  ('CALL', 0.0069496356249629529),\n",
       "  ('IN', 0.0062789655466385305),\n",
       "  ('Will', 0.006235758404736216),\n",
       "  ('OF', 0.0061655219045239525)])"
      ]
     },
     "execution_count": 15,
     "metadata": {},
     "output_type": "execute_result"
    }
   ],
   "source": [
    "topics[1]"
   ]
  },
  {
   "cell_type": "code",
   "execution_count": 16,
   "metadata": {
    "collapsed": false
   },
   "outputs": [
    {
     "name": "stdout",
     "output_type": "stream",
     "text": [
      "Topic  0    I     work     would     get     want     We     think     know     go     call     \n",
      "Topic  1    I     call     H     D     Cheryl     Huma     CALL     IN     Will     OF     \n",
      "Topic  2    The     Obama     American     said     would     In     govern     polit     State     one     \n",
      "Topic  3    Secretari     TO     Offic     MEET     FOR     THE     Room     AND     ON     nan     \n",
      "Topic  4    TO     No     ON     NO     Depart     INFORM     BENGHAZI     AGREEMENT     SUBJECT     HOUS     \n"
     ]
    }
   ],
   "source": [
    "print_topics(topics)"
   ]
  },
  {
   "cell_type": "code",
   "execution_count": null,
   "metadata": {
    "collapsed": true
   },
   "outputs": [],
   "source": []
  }
 ],
 "metadata": {
  "kernelspec": {
   "display_name": "Python 3",
   "language": "python",
   "name": "python3"
  },
  "language_info": {
   "codemirror_mode": {
    "name": "ipython",
    "version": 3
   },
   "file_extension": ".py",
   "mimetype": "text/x-python",
   "name": "python",
   "nbconvert_exporter": "python",
   "pygments_lexer": "ipython3",
   "version": "3.5.1"
  }
 },
 "nbformat": 4,
 "nbformat_minor": 0
}
