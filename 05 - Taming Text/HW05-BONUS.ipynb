{
 "cells": [
  {
   "cell_type": "markdown",
   "metadata": {},
   "source": [
    "# HW 05 - Taming Text\n",
    "\n",
    "## BONUS\n",
    "\n",
    "### Build the communication graph (unweighted and undirected) among the different email senders and recipients using the `NetworkX` library. Find communities in this graph with `community.best_partition(G)` method from the community detection module. Print the most frequent 20 words used by the email authors of each community. Do these word lists look similar to what you've produced at step 3 with LDA? Can you identify clear discussion topics for each community? Discuss briefly the obtained results."
   ]
  },
  {
   "cell_type": "markdown",
   "metadata": {},
   "source": [
    "First we import the necessary modules."
   ]
  },
  {
   "cell_type": "code",
   "execution_count": 1,
   "metadata": {
    "collapsed": false
   },
   "outputs": [
    {
     "name": "stderr",
     "output_type": "stream",
     "text": [
      "/home/weizhang/.local/lib/python3.5/site-packages/gensim/utils.py:1015: UserWarning: Pattern library is not installed, lemmatization won't be available.\n",
      "  warnings.warn(\"Pattern library is not installed, lemmatization won't be available.\")\n"
     ]
    }
   ],
   "source": [
    "import pandas as pd\n",
    "import nltk\n",
    "import pickle\n",
    "from gensim.models.ldamodel import LdaModel\n",
    "from gensim import corpora\n",
    "from nltk.stem import WordNetLemmatizer\n",
    "\n",
    "%matplotlib inline\n",
    "import matplotlib.pyplot as plt\n",
    "import community\n",
    "import networkx as nx"
   ]
  },
  {
   "cell_type": "markdown",
   "metadata": {},
   "source": [
    "### Simple example"
   ]
  },
  {
   "cell_type": "markdown",
   "metadata": {},
   "source": [
    "Let's try the example from http://perso.crans.org/aynaud/communities/index.html:"
   ]
  },
  {
   "cell_type": "code",
   "execution_count": 2,
   "metadata": {
    "collapsed": false
   },
   "outputs": [
    {
     "data": {
      "image/png": "[encoded data removed]",
      "text/plain": [
       "<matplotlib.figure.Figure at 0x7fc83f119a90>"
      ]
     },
     "metadata": {},
     "output_type": "display_data"
    }
   ],
   "source": [
    "import matplotlib.pyplot as plt\n",
    "\n",
    "#better with karate_graph() as defined in networkx example.\n",
    "#erdos renyi don't have true community structure\n",
    "G = nx.erdos_renyi_graph(30, 0.05)\n",
    "\n",
    "#first compute the best partition\n",
    "partition = community.best_partition(G)\n",
    "\n",
    "#drawing\n",
    "size = float(len(set(partition.values())))\n",
    "pos = nx.spring_layout(G)\n",
    "count = 0.\n",
    "for com in set(partition.values()) :\n",
    "    count = count + 1.\n",
    "    list_nodes = [nodes for nodes in partition.keys()\n",
    "                                if partition[nodes] == com]\n",
    "    nx.draw_networkx_nodes(G, pos, list_nodes, node_size = 20,\n",
    "                                node_color = str(count / size))\n",
    "\n",
    "\n",
    "nx.draw_networkx_edges(G,pos, alpha=0.5)\n",
    "plt.show()"
   ]
  },
  {
   "cell_type": "markdown",
   "metadata": {},
   "source": [
    "### Scouting useful info from the emails corpus"
   ]
  },
  {
   "cell_type": "code",
   "execution_count": 3,
   "metadata": {
    "collapsed": false
   },
   "outputs": [
    {
     "name": "stdout",
     "output_type": "stream",
     "text": [
      "(7945, 21)\n"
     ]
    },
    {
     "data": {
      "text/html": [
       "<div>\n",
       "<table border=\"1\" class=\"dataframe\">\n",
       "  <thead>\n",
       "    <tr style=\"text-align: right;\">\n",
       "      <th></th>\n",
       "      <th>DocNumber</th>\n",
       "      <th>MetadataSubject</th>\n",
       "      <th>MetadataTo</th>\n",
       "      <th>MetadataFrom</th>\n",
       "      <th>SenderPersonId</th>\n",
       "      <th>MetadataDateSent</th>\n",
       "      <th>MetadataDateReleased</th>\n",
       "      <th>MetadataPdfLink</th>\n",
       "      <th>MetadataCaseNumber</th>\n",
       "      <th>MetadataDocumentClass</th>\n",
       "      <th>ExtractedSubject</th>\n",
       "    </tr>\n",
       "    <tr>\n",
       "      <th>Id</th>\n",
       "      <th></th>\n",
       "      <th></th>\n",
       "      <th></th>\n",
       "      <th></th>\n",
       "      <th></th>\n",
       "      <th></th>\n",
       "      <th></th>\n",
       "      <th></th>\n",
       "      <th></th>\n",
       "      <th></th>\n",
       "      <th></th>\n",
       "    </tr>\n",
       "  </thead>\n",
       "  <tbody>\n",
       "    <tr>\n",
       "      <th>1</th>\n",
       "      <td>C05739545</td>\n",
       "      <td>WOW</td>\n",
       "      <td>H</td>\n",
       "      <td>Sullivan, Jacob J</td>\n",
       "      <td>87.0</td>\n",
       "      <td>2012-09-12T04:00:00+00:00</td>\n",
       "      <td>2015-05-22T04:00:00+00:00</td>\n",
       "      <td>DOCUMENTS/HRC_Email_1_296/HRCH2/DOC_0C05739545...</td>\n",
       "      <td>F-2015-04841</td>\n",
       "      <td>HRC_Email_296</td>\n",
       "      <td>FW: Wow</td>\n",
       "    </tr>\n",
       "    <tr>\n",
       "      <th>2</th>\n",
       "      <td>C05739546</td>\n",
       "      <td>H: LATEST: HOW SYRIA IS AIDING QADDAFI AND MOR...</td>\n",
       "      <td>H</td>\n",
       "      <td>NaN</td>\n",
       "      <td>NaN</td>\n",
       "      <td>2011-03-03T05:00:00+00:00</td>\n",
       "      <td>2015-05-22T04:00:00+00:00</td>\n",
       "      <td>DOCUMENTS/HRC_Email_1_296/HRCH1/DOC_0C05739546...</td>\n",
       "      <td>F-2015-04841</td>\n",
       "      <td>HRC_Email_296</td>\n",
       "      <td>NaN</td>\n",
       "    </tr>\n",
       "    <tr>\n",
       "      <th>3</th>\n",
       "      <td>C05739547</td>\n",
       "      <td>CHRIS STEVENS</td>\n",
       "      <td>;H</td>\n",
       "      <td>Mills, Cheryl D</td>\n",
       "      <td>32.0</td>\n",
       "      <td>2012-09-12T04:00:00+00:00</td>\n",
       "      <td>2015-05-22T04:00:00+00:00</td>\n",
       "      <td>DOCUMENTS/HRC_Email_1_296/HRCH2/DOC_0C05739547...</td>\n",
       "      <td>F-2015-04841</td>\n",
       "      <td>HRC_Email_296</td>\n",
       "      <td>Re: Chris Stevens</td>\n",
       "    </tr>\n",
       "    <tr>\n",
       "      <th>4</th>\n",
       "      <td>C05739550</td>\n",
       "      <td>CAIRO CONDEMNATION - FINAL</td>\n",
       "      <td>H</td>\n",
       "      <td>Mills, Cheryl D</td>\n",
       "      <td>32.0</td>\n",
       "      <td>2012-09-12T04:00:00+00:00</td>\n",
       "      <td>2015-05-22T04:00:00+00:00</td>\n",
       "      <td>DOCUMENTS/HRC_Email_1_296/HRCH2/DOC_0C05739550...</td>\n",
       "      <td>F-2015-04841</td>\n",
       "      <td>HRC_Email_296</td>\n",
       "      <td>FVV: Cairo Condemnation - Final</td>\n",
       "    </tr>\n",
       "    <tr>\n",
       "      <th>5</th>\n",
       "      <td>C05739554</td>\n",
       "      <td>H: LATEST: HOW SYRIA IS AIDING QADDAFI AND MOR...</td>\n",
       "      <td>Abedin, Huma</td>\n",
       "      <td>H</td>\n",
       "      <td>80.0</td>\n",
       "      <td>2011-03-11T05:00:00+00:00</td>\n",
       "      <td>2015-05-22T04:00:00+00:00</td>\n",
       "      <td>DOCUMENTS/HRC_Email_1_296/HRCH1/DOC_0C05739554...</td>\n",
       "      <td>F-2015-04841</td>\n",
       "      <td>HRC_Email_296</td>\n",
       "      <td>NaN</td>\n",
       "    </tr>\n",
       "  </tbody>\n",
       "</table>\n",
       "</div>"
      ],
      "text/plain": [
       "    DocNumber                                    MetadataSubject  \\\n",
       "Id                                                                 \n",
       "1   C05739545                                                WOW   \n",
       "2   C05739546  H: LATEST: HOW SYRIA IS AIDING QADDAFI AND MOR...   \n",
       "3   C05739547                                      CHRIS STEVENS   \n",
       "4   C05739550                         CAIRO CONDEMNATION - FINAL   \n",
       "5   C05739554  H: LATEST: HOW SYRIA IS AIDING QADDAFI AND MOR...   \n",
       "\n",
       "      MetadataTo       MetadataFrom  SenderPersonId  \\\n",
       "Id                                                    \n",
       "1              H  Sullivan, Jacob J            87.0   \n",
       "2              H                NaN             NaN   \n",
       "3             ;H    Mills, Cheryl D            32.0   \n",
       "4              H    Mills, Cheryl D            32.0   \n",
       "5   Abedin, Huma                  H            80.0   \n",
       "\n",
       "             MetadataDateSent       MetadataDateReleased  \\\n",
       "Id                                                         \n",
       "1   2012-09-12T04:00:00+00:00  2015-05-22T04:00:00+00:00   \n",
       "2   2011-03-03T05:00:00+00:00  2015-05-22T04:00:00+00:00   \n",
       "3   2012-09-12T04:00:00+00:00  2015-05-22T04:00:00+00:00   \n",
       "4   2012-09-12T04:00:00+00:00  2015-05-22T04:00:00+00:00   \n",
       "5   2011-03-11T05:00:00+00:00  2015-05-22T04:00:00+00:00   \n",
       "\n",
       "                                      MetadataPdfLink MetadataCaseNumber  \\\n",
       "Id                                                                         \n",
       "1   DOCUMENTS/HRC_Email_1_296/HRCH2/DOC_0C05739545...       F-2015-04841   \n",
       "2   DOCUMENTS/HRC_Email_1_296/HRCH1/DOC_0C05739546...       F-2015-04841   \n",
       "3   DOCUMENTS/HRC_Email_1_296/HRCH2/DOC_0C05739547...       F-2015-04841   \n",
       "4   DOCUMENTS/HRC_Email_1_296/HRCH2/DOC_0C05739550...       F-2015-04841   \n",
       "5   DOCUMENTS/HRC_Email_1_296/HRCH1/DOC_0C05739554...       F-2015-04841   \n",
       "\n",
       "   MetadataDocumentClass                 ExtractedSubject  \n",
       "Id                                                         \n",
       "1          HRC_Email_296                          FW: Wow  \n",
       "2          HRC_Email_296                              NaN  \n",
       "3          HRC_Email_296                Re: Chris Stevens  \n",
       "4          HRC_Email_296  FVV: Cairo Condemnation - Final  \n",
       "5          HRC_Email_296                              NaN  "
      ]
     },
     "execution_count": 3,
     "metadata": {},
     "output_type": "execute_result"
    }
   ],
   "source": [
    "import pandas as pd\n",
    "\n",
    "emails = pd.read_csv('hillary-clinton-emails/Emails.csv')\n",
    "emails.set_index([\"Id\"], drop=True, inplace=True)\n",
    "print(emails.shape)\n",
    "emails.ix[:5,:11]"
   ]
  },
  {
   "cell_type": "code",
   "execution_count": 4,
   "metadata": {
    "collapsed": false
   },
   "outputs": [
    {
     "data": {
      "text/html": [
       "<div>\n",
       "<table border=\"1\" class=\"dataframe\">\n",
       "  <thead>\n",
       "    <tr style=\"text-align: right;\">\n",
       "      <th></th>\n",
       "      <th>ExtractedTo</th>\n",
       "      <th>ExtractedFrom</th>\n",
       "      <th>ExtractedCc</th>\n",
       "      <th>ExtractedDateSent</th>\n",
       "      <th>ExtractedCaseNumber</th>\n",
       "      <th>ExtractedDocNumber</th>\n",
       "      <th>ExtractedDateReleased</th>\n",
       "      <th>ExtractedReleaseInPartOrFull</th>\n",
       "      <th>ExtractedBodyText</th>\n",
       "      <th>RawText</th>\n",
       "    </tr>\n",
       "    <tr>\n",
       "      <th>Id</th>\n",
       "      <th></th>\n",
       "      <th></th>\n",
       "      <th></th>\n",
       "      <th></th>\n",
       "      <th></th>\n",
       "      <th></th>\n",
       "      <th></th>\n",
       "      <th></th>\n",
       "      <th></th>\n",
       "      <th></th>\n",
       "    </tr>\n",
       "  </thead>\n",
       "  <tbody>\n",
       "    <tr>\n",
       "      <th>1</th>\n",
       "      <td>NaN</td>\n",
       "      <td>Sullivan, Jacob J &lt;Sullivan11@state.gov&gt;</td>\n",
       "      <td>NaN</td>\n",
       "      <td>Wednesday, September 12, 2012 10:16 AM</td>\n",
       "      <td>F-2015-04841</td>\n",
       "      <td>C05739545</td>\n",
       "      <td>05/13/2015</td>\n",
       "      <td>RELEASE IN FULL</td>\n",
       "      <td>NaN</td>\n",
       "      <td>UNCLASSIFIED\\nU.S. Department of State\\nCase N...</td>\n",
       "    </tr>\n",
       "    <tr>\n",
       "      <th>2</th>\n",
       "      <td>NaN</td>\n",
       "      <td>NaN</td>\n",
       "      <td>NaN</td>\n",
       "      <td>NaN</td>\n",
       "      <td>F-2015-04841</td>\n",
       "      <td>C05739546</td>\n",
       "      <td>05/13/2015</td>\n",
       "      <td>RELEASE IN PART</td>\n",
       "      <td>B6\\nThursday, March 3, 2011 9:45 PM\\nH: Latest...</td>\n",
       "      <td>UNCLASSIFIED\\nU.S. Department of State\\nCase N...</td>\n",
       "    </tr>\n",
       "    <tr>\n",
       "      <th>3</th>\n",
       "      <td>B6</td>\n",
       "      <td>Mills, Cheryl D &lt;MillsCD@state.gov&gt;</td>\n",
       "      <td>Abedin, Huma</td>\n",
       "      <td>Wednesday, September 12, 2012 11:52 AM</td>\n",
       "      <td>F-2015-04841</td>\n",
       "      <td>C05739547</td>\n",
       "      <td>05/14/2015</td>\n",
       "      <td>RELEASE IN PART</td>\n",
       "      <td>Thx</td>\n",
       "      <td>UNCLASSIFIED\\nU.S. Department of State\\nCase N...</td>\n",
       "    </tr>\n",
       "    <tr>\n",
       "      <th>4</th>\n",
       "      <td>NaN</td>\n",
       "      <td>Mills, Cheryl D &lt;MillsCD@state.gov&gt;</td>\n",
       "      <td>Mitchell, Andrew B</td>\n",
       "      <td>Wednesday, September 12,2012 12:44 PM</td>\n",
       "      <td>F-2015-04841</td>\n",
       "      <td>C05739550</td>\n",
       "      <td>05/13/2015</td>\n",
       "      <td>RELEASE IN PART</td>\n",
       "      <td>NaN</td>\n",
       "      <td>UNCLASSIFIED\\nU.S. Department of State\\nCase N...</td>\n",
       "    </tr>\n",
       "    <tr>\n",
       "      <th>5</th>\n",
       "      <td>NaN</td>\n",
       "      <td>NaN</td>\n",
       "      <td>NaN</td>\n",
       "      <td>NaN</td>\n",
       "      <td>F-2015-04841</td>\n",
       "      <td>C05739554</td>\n",
       "      <td>05/13/2015</td>\n",
       "      <td>RELEASE IN PART</td>\n",
       "      <td>H &lt;hrod17@clintonemail.com&gt;\\nFriday, March 11,...</td>\n",
       "      <td>B6\\nUNCLASSIFIED\\nU.S. Department of State\\nCa...</td>\n",
       "    </tr>\n",
       "  </tbody>\n",
       "</table>\n",
       "</div>"
      ],
      "text/plain": [
       "   ExtractedTo                             ExtractedFrom         ExtractedCc  \\\n",
       "Id                                                                             \n",
       "1          NaN  Sullivan, Jacob J <Sullivan11@state.gov>                 NaN   \n",
       "2          NaN                                       NaN                 NaN   \n",
       "3           B6       Mills, Cheryl D <MillsCD@state.gov>        Abedin, Huma   \n",
       "4          NaN       Mills, Cheryl D <MillsCD@state.gov>  Mitchell, Andrew B   \n",
       "5          NaN                                       NaN                 NaN   \n",
       "\n",
       "                         ExtractedDateSent ExtractedCaseNumber  \\\n",
       "Id                                                               \n",
       "1   Wednesday, September 12, 2012 10:16 AM        F-2015-04841   \n",
       "2                                      NaN        F-2015-04841   \n",
       "3   Wednesday, September 12, 2012 11:52 AM        F-2015-04841   \n",
       "4    Wednesday, September 12,2012 12:44 PM        F-2015-04841   \n",
       "5                                      NaN        F-2015-04841   \n",
       "\n",
       "   ExtractedDocNumber ExtractedDateReleased ExtractedReleaseInPartOrFull  \\\n",
       "Id                                                                         \n",
       "1           C05739545            05/13/2015              RELEASE IN FULL   \n",
       "2           C05739546            05/13/2015              RELEASE IN PART   \n",
       "3           C05739547            05/14/2015              RELEASE IN PART   \n",
       "4           C05739550            05/13/2015              RELEASE IN PART   \n",
       "5           C05739554            05/13/2015              RELEASE IN PART   \n",
       "\n",
       "                                    ExtractedBodyText  \\\n",
       "Id                                                      \n",
       "1                                                 NaN   \n",
       "2   B6\\nThursday, March 3, 2011 9:45 PM\\nH: Latest...   \n",
       "3                                                 Thx   \n",
       "4                                                 NaN   \n",
       "5   H <hrod17@clintonemail.com>\\nFriday, March 11,...   \n",
       "\n",
       "                                              RawText  \n",
       "Id                                                     \n",
       "1   UNCLASSIFIED\\nU.S. Department of State\\nCase N...  \n",
       "2   UNCLASSIFIED\\nU.S. Department of State\\nCase N...  \n",
       "3   UNCLASSIFIED\\nU.S. Department of State\\nCase N...  \n",
       "4   UNCLASSIFIED\\nU.S. Department of State\\nCase N...  \n",
       "5   B6\\nUNCLASSIFIED\\nU.S. Department of State\\nCa...  "
      ]
     },
     "execution_count": 4,
     "metadata": {},
     "output_type": "execute_result"
    }
   ],
   "source": [
    "emails.ix[:5,11:]"
   ]
  },
  {
   "cell_type": "markdown",
   "metadata": {},
   "source": [
    "In addition to the `Emails.csv` that we have seen in the three exercises, we have three other files containing information about the senders and receivers."
   ]
  },
  {
   "cell_type": "code",
   "execution_count": 5,
   "metadata": {
    "collapsed": false
   },
   "outputs": [
    {
     "name": "stdout",
     "output_type": "stream",
     "text": [
      "513\n"
     ]
    },
    {
     "data": {
      "text/html": [
       "<div>\n",
       "<table border=\"1\" class=\"dataframe\">\n",
       "  <thead>\n",
       "    <tr style=\"text-align: right;\">\n",
       "      <th></th>\n",
       "      <th>Name</th>\n",
       "    </tr>\n",
       "    <tr>\n",
       "      <th>Id</th>\n",
       "      <th></th>\n",
       "    </tr>\n",
       "  </thead>\n",
       "  <tbody>\n",
       "    <tr>\n",
       "      <th>1</th>\n",
       "      <td>111th Congress</td>\n",
       "    </tr>\n",
       "    <tr>\n",
       "      <th>2</th>\n",
       "      <td>AGNA USEMB Kabul Afghanistan</td>\n",
       "    </tr>\n",
       "    <tr>\n",
       "      <th>3</th>\n",
       "      <td>AP</td>\n",
       "    </tr>\n",
       "    <tr>\n",
       "      <th>4</th>\n",
       "      <td>ASUNCION</td>\n",
       "    </tr>\n",
       "    <tr>\n",
       "      <th>5</th>\n",
       "      <td>Alec</td>\n",
       "    </tr>\n",
       "    <tr>\n",
       "      <th>6</th>\n",
       "      <td>Alex Dupuy</td>\n",
       "    </tr>\n",
       "    <tr>\n",
       "      <th>7</th>\n",
       "      <td>American Beverage Association</td>\n",
       "    </tr>\n",
       "    <tr>\n",
       "      <th>8</th>\n",
       "      <td>Andrew Mayock</td>\n",
       "    </tr>\n",
       "    <tr>\n",
       "      <th>9</th>\n",
       "      <td>Andrew Shapiro</td>\n",
       "    </tr>\n",
       "    <tr>\n",
       "      <th>10</th>\n",
       "      <td>Anne-Marie Slaughter</td>\n",
       "    </tr>\n",
       "  </tbody>\n",
       "</table>\n",
       "</div>"
      ],
      "text/plain": [
       "                             Name\n",
       "Id                               \n",
       "1                  111th Congress\n",
       "2    AGNA USEMB Kabul Afghanistan\n",
       "3                              AP\n",
       "4                        ASUNCION\n",
       "5                            Alec\n",
       "6                      Alex Dupuy\n",
       "7   American Beverage Association\n",
       "8                   Andrew Mayock\n",
       "9                  Andrew Shapiro\n",
       "10           Anne-Marie Slaughter"
      ]
     },
     "execution_count": 5,
     "metadata": {},
     "output_type": "execute_result"
    }
   ],
   "source": [
    "persons = pd.read_csv('hillary-clinton-emails/Persons.csv')\n",
    "persons.set_index([\"Id\"], drop=True, inplace=True)\n",
    "print(len(persons))\n",
    "persons.head(10)"
   ]
  },
  {
   "cell_type": "markdown",
   "metadata": {},
   "source": [
    "`Persons.csv` contains the names of all the people and organizations that are part of the email exchanges within this corpus. A unique `Id` is assigned for each person / organization. We will use these entries as the nodes in our graph."
   ]
  },
  {
   "cell_type": "code",
   "execution_count": 6,
   "metadata": {
    "collapsed": false
   },
   "outputs": [
    {
     "name": "stdout",
     "output_type": "stream",
     "text": [
      "850\n",
      "513\n"
     ]
    },
    {
     "data": {
      "text/html": [
       "<div>\n",
       "<table border=\"1\" class=\"dataframe\">\n",
       "  <thead>\n",
       "    <tr style=\"text-align: right;\">\n",
       "      <th></th>\n",
       "      <th>Alias</th>\n",
       "      <th>PersonId</th>\n",
       "    </tr>\n",
       "    <tr>\n",
       "      <th>Id</th>\n",
       "      <th></th>\n",
       "      <th></th>\n",
       "    </tr>\n",
       "  </thead>\n",
       "  <tbody>\n",
       "    <tr>\n",
       "      <th>1</th>\n",
       "      <td>111th congress</td>\n",
       "      <td>1</td>\n",
       "    </tr>\n",
       "    <tr>\n",
       "      <th>2</th>\n",
       "      <td>agna usemb kabul afghanistan</td>\n",
       "      <td>2</td>\n",
       "    </tr>\n",
       "    <tr>\n",
       "      <th>3</th>\n",
       "      <td>ap</td>\n",
       "      <td>3</td>\n",
       "    </tr>\n",
       "    <tr>\n",
       "      <th>4</th>\n",
       "      <td>asuncion</td>\n",
       "      <td>4</td>\n",
       "    </tr>\n",
       "    <tr>\n",
       "      <th>5</th>\n",
       "      <td>alec</td>\n",
       "      <td>5</td>\n",
       "    </tr>\n",
       "    <tr>\n",
       "      <th>6</th>\n",
       "      <td>dupuy alex</td>\n",
       "      <td>6</td>\n",
       "    </tr>\n",
       "    <tr>\n",
       "      <th>7</th>\n",
       "      <td>american beverage association</td>\n",
       "      <td>7</td>\n",
       "    </tr>\n",
       "    <tr>\n",
       "      <th>8</th>\n",
       "      <td>mayock andrew</td>\n",
       "      <td>8</td>\n",
       "    </tr>\n",
       "    <tr>\n",
       "      <th>9</th>\n",
       "      <td>shapiro andrew j</td>\n",
       "      <td>9</td>\n",
       "    </tr>\n",
       "    <tr>\n",
       "      <th>10</th>\n",
       "      <td>shapiroa@state.gov</td>\n",
       "      <td>9</td>\n",
       "    </tr>\n",
       "  </tbody>\n",
       "</table>\n",
       "</div>"
      ],
      "text/plain": [
       "                            Alias  PersonId\n",
       "Id                                         \n",
       "1                  111th congress         1\n",
       "2    agna usemb kabul afghanistan         2\n",
       "3                              ap         3\n",
       "4                        asuncion         4\n",
       "5                            alec         5\n",
       "6                      dupuy alex         6\n",
       "7   american beverage association         7\n",
       "8                   mayock andrew         8\n",
       "9                shapiro andrew j         9\n",
       "10             shapiroa@state.gov         9"
      ]
     },
     "execution_count": 6,
     "metadata": {},
     "output_type": "execute_result"
    }
   ],
   "source": [
    "aliases = pd.read_csv('hillary-clinton-emails/Aliases.csv')\n",
    "aliases.set_index([\"Id\"], drop=True, inplace=True)\n",
    "print(len(aliases))\n",
    "print(len(aliases.PersonId.unique()))\n",
    "aliases.head(10)"
   ]
  },
  {
   "cell_type": "markdown",
   "metadata": {},
   "source": [
    "`Aliases.csv` contains the different ways in which a person or organization from `Persons.csv` might appear in the email corpus. Using `unique()` we can validate that their are 513 unique `PersonId`s corresponding to the number of `Id`'s in `Persons.csv`."
   ]
  },
  {
   "cell_type": "code",
   "execution_count": 7,
   "metadata": {
    "collapsed": false
   },
   "outputs": [
    {
     "name": "stdout",
     "output_type": "stream",
     "text": [
      "9306\n",
      "7676\n",
      "418\n"
     ]
    },
    {
     "data": {
      "text/html": [
       "<div>\n",
       "<table border=\"1\" class=\"dataframe\">\n",
       "  <thead>\n",
       "    <tr style=\"text-align: right;\">\n",
       "      <th></th>\n",
       "      <th>EmailId</th>\n",
       "      <th>PersonId</th>\n",
       "    </tr>\n",
       "    <tr>\n",
       "      <th>Id</th>\n",
       "      <th></th>\n",
       "      <th></th>\n",
       "    </tr>\n",
       "  </thead>\n",
       "  <tbody>\n",
       "    <tr>\n",
       "      <th>1</th>\n",
       "      <td>1</td>\n",
       "      <td>80</td>\n",
       "    </tr>\n",
       "    <tr>\n",
       "      <th>2</th>\n",
       "      <td>2</td>\n",
       "      <td>80</td>\n",
       "    </tr>\n",
       "    <tr>\n",
       "      <th>3</th>\n",
       "      <td>3</td>\n",
       "      <td>228</td>\n",
       "    </tr>\n",
       "    <tr>\n",
       "      <th>4</th>\n",
       "      <td>3</td>\n",
       "      <td>80</td>\n",
       "    </tr>\n",
       "    <tr>\n",
       "      <th>5</th>\n",
       "      <td>4</td>\n",
       "      <td>80</td>\n",
       "    </tr>\n",
       "    <tr>\n",
       "      <th>6</th>\n",
       "      <td>5</td>\n",
       "      <td>81</td>\n",
       "    </tr>\n",
       "    <tr>\n",
       "      <th>7</th>\n",
       "      <td>6</td>\n",
       "      <td>185</td>\n",
       "    </tr>\n",
       "    <tr>\n",
       "      <th>8</th>\n",
       "      <td>7</td>\n",
       "      <td>80</td>\n",
       "    </tr>\n",
       "    <tr>\n",
       "      <th>9</th>\n",
       "      <td>8</td>\n",
       "      <td>81</td>\n",
       "    </tr>\n",
       "    <tr>\n",
       "      <th>10</th>\n",
       "      <td>9</td>\n",
       "      <td>80</td>\n",
       "    </tr>\n",
       "  </tbody>\n",
       "</table>\n",
       "</div>"
      ],
      "text/plain": [
       "    EmailId  PersonId\n",
       "Id                   \n",
       "1         1        80\n",
       "2         2        80\n",
       "3         3       228\n",
       "4         3        80\n",
       "5         4        80\n",
       "6         5        81\n",
       "7         6       185\n",
       "8         7        80\n",
       "9         8        81\n",
       "10        9        80"
      ]
     },
     "execution_count": 7,
     "metadata": {},
     "output_type": "execute_result"
    }
   ],
   "source": [
    "receivers = pd.read_csv('hillary-clinton-emails/EmailReceivers.csv')\n",
    "receivers.set_index([\"Id\"], drop=True, inplace=True)\n",
    "print(len(receivers))\n",
    "print(len(receivers.EmailId.unique()))\n",
    "print(len(receivers.PersonId.unique()))\n",
    "receivers.head(10)"
   ]
  },
  {
   "cell_type": "markdown",
   "metadata": {},
   "source": [
    "Out of the 7945 emails, `EmailReceivers.csv` has identified the receivers for 7676. \n",
    "\n",
    "Moreover, from `Emails.csv`, we can obtain the ID of the user with the column `SenderPersonId`. We can also use the column `ExtractedCc` to obtain additional users. However, mapping these entries to a person / organization in `Persons.csv` will require some extra works as we do not have the corresponding ID."
   ]
  },
  {
   "cell_type": "markdown",
   "metadata": {},
   "source": [
    "### Dictionary to map to nodes\n",
    "\n",
    "When given an ID or Alias, we want to be able to map it to a person / organization in `Persons.csv`. For this, we will create a dictionary."
   ]
  },
  {
   "cell_type": "code",
   "execution_count": 8,
   "metadata": {
    "collapsed": false
   },
   "outputs": [
    {
     "data": {
      "text/plain": [
       "513"
      ]
     },
     "execution_count": 8,
     "metadata": {},
     "output_type": "execute_result"
    }
   ],
   "source": [
    "to_node = {}\n",
    "for index, row in aliases.iterrows():\n",
    "    node_id = row.PersonId\n",
    "    node = persons.loc[node_id][0]\n",
    "    to_node[node_id] = node\n",
    "    to_node[row.Alias] = node\n",
    "    \n",
    "    # use \"Last Name, First Name\"\n",
    "    names = node.split()\n",
    "    if len(names) == 2:\n",
    "        to_node[names[1]+\", \"+names[0]] = node\n",
    "len(set(to_node.values()))"
   ]
  },
  {
   "cell_type": "markdown",
   "metadata": {},
   "source": [
    "A couple manual entries for aliases that were not included in `Aliases.csv`."
   ]
  },
  {
   "cell_type": "code",
   "execution_count": 9,
   "metadata": {
    "collapsed": false
   },
   "outputs": [],
   "source": [
    "# manual entries\n",
    "to_node[\"H\"] = 'Hillary Clinton'\n",
    "to_node[\"Sullivan, Jacob\"] = \"Jake Sullivan\""
   ]
  },
  {
   "cell_type": "markdown",
   "metadata": {},
   "source": [
    "### Extracting the nodes and edges\n",
    "\n",
    "By going through each email, we will extract the author and recipients and create a DataFrame with three columns. The columns will be:\n",
    "\n",
    "1. EmailId : corresponding to the `Id` in `Emails.csv` which is then mapped to a person with our `to_nodes` dictionary\n",
    "2. Author : corresponding to the `SenderPersonId` in `Emails.csv` which is then mapped to a person with our `to_nodes` dictionary\n",
    "3. Receiver(s) : obtained from `EmailReceivers.csv` and `ExtractedCc` of `Emails.csv`\n",
    "\n",
    "The `Author` and `Receiver` will be nodes in the graph and each row will be an edge."
   ]
  },
  {
   "cell_type": "code",
   "execution_count": 10,
   "metadata": {
    "collapsed": false
   },
   "outputs": [],
   "source": [
    "columns = ['EmailId','Author', 'Receiver']\n",
    "df_graph = pd.DataFrame(columns=columns)\n",
    "num_entries = 0\n",
    "\n",
    "# go through email and extract author and recipient(s)\n",
    "for email_id, row in emails.iterrows():\n",
    "\n",
    "    # extract author\n",
    "    sender_id = row.SenderPersonId\n",
    "    if not pd.isnull(sender_id):\n",
    "        author = to_node[sender_id]\n",
    "        if author == \"b6\": # classified author so no use\n",
    "            continue\n",
    "    else:\n",
    "        continue # won't be able to use it to build the graph\n",
    "    \n",
    "    # obtain receiver(s) for this particular ID\n",
    "    recp_ids = list(receivers[receivers.EmailId==email_id].PersonId)\n",
    "    recp = [to_node[p] for p in recp_ids]\n",
    "    \n",
    "    # extract those in CC\n",
    "    cced = row.ExtractedCc\n",
    "    try: # if multiple, recipients are separated by \";\"\n",
    "        cced = cced.split(\";\")\n",
    "        cced = [p.lstrip(' ') for p in cced]\n",
    "    except:\n",
    "        cced = list([cced])\n",
    "    \n",
    "    # try converting those in CC to node name\n",
    "    for idx in range(len(cced)):\n",
    "        try:\n",
    "            cced[idx] = to_node[cced[idx]]\n",
    "        except:\n",
    "            # perhaps of the form \"<Last Name>, <First Name> <Middle Initial>\" which is not in our dict\n",
    "            try: # extracting just last name and first name\n",
    "                full_name = cced[idx]\n",
    "                last_first = \" \".join(full_name.split()[:2])\n",
    "                cced[idx] = to_node[last_first]\n",
    "            except: pass\n",
    "    \n",
    "    # remove duplicates in Receiver(s) and CC\n",
    "    recp_cced = list(set(recp + cced))\n",
    "    \n",
    "    # add entry to our new dataframe\n",
    "    for receiver in recp_cced:\n",
    "        if receiver == \"b6\": # classified receiver so no use\n",
    "            continue\n",
    "        df_graph.loc[num_entries] = [int(email_id), author, receiver]\n",
    "        num_entries += 1"
   ]
  },
  {
   "cell_type": "code",
   "execution_count": 11,
   "metadata": {
    "collapsed": false
   },
   "outputs": [
    {
     "data": {
      "text/html": [
       "<div>\n",
       "<table border=\"1\" class=\"dataframe\">\n",
       "  <thead>\n",
       "    <tr style=\"text-align: right;\">\n",
       "      <th></th>\n",
       "      <th>EmailId</th>\n",
       "      <th>Author</th>\n",
       "      <th>Receiver</th>\n",
       "    </tr>\n",
       "  </thead>\n",
       "  <tbody>\n",
       "    <tr>\n",
       "      <th>0</th>\n",
       "      <td>1.0</td>\n",
       "      <td>Jake Sullivan</td>\n",
       "      <td>Hillary Clinton</td>\n",
       "    </tr>\n",
       "    <tr>\n",
       "      <th>2</th>\n",
       "      <td>3.0</td>\n",
       "      <td>Cheryl Mills</td>\n",
       "      <td>Hillary Clinton</td>\n",
       "    </tr>\n",
       "    <tr>\n",
       "      <th>3</th>\n",
       "      <td>3.0</td>\n",
       "      <td>Cheryl Mills</td>\n",
       "      <td>Huma Abedin</td>\n",
       "    </tr>\n",
       "    <tr>\n",
       "      <th>4</th>\n",
       "      <td>4.0</td>\n",
       "      <td>Cheryl Mills</td>\n",
       "      <td>Hillary Clinton</td>\n",
       "    </tr>\n",
       "    <tr>\n",
       "      <th>5</th>\n",
       "      <td>4.0</td>\n",
       "      <td>Cheryl Mills</td>\n",
       "      <td>Mitchell, Andrew B</td>\n",
       "    </tr>\n",
       "    <tr>\n",
       "      <th>7</th>\n",
       "      <td>5.0</td>\n",
       "      <td>Hillary Clinton</td>\n",
       "      <td>Huma Abedin</td>\n",
       "    </tr>\n",
       "    <tr>\n",
       "      <th>9</th>\n",
       "      <td>6.0</td>\n",
       "      <td>Hillary Clinton</td>\n",
       "      <td>Robert Russo</td>\n",
       "    </tr>\n",
       "    <tr>\n",
       "      <th>10</th>\n",
       "      <td>7.0</td>\n",
       "      <td>Cheryl Mills</td>\n",
       "      <td>Hillary Clinton</td>\n",
       "    </tr>\n",
       "    <tr>\n",
       "      <th>13</th>\n",
       "      <td>8.0</td>\n",
       "      <td>Hillary Clinton</td>\n",
       "      <td>Huma Abedin</td>\n",
       "    </tr>\n",
       "    <tr>\n",
       "      <th>14</th>\n",
       "      <td>9.0</td>\n",
       "      <td>Jake Sullivan</td>\n",
       "      <td>Hillary Clinton</td>\n",
       "    </tr>\n",
       "  </tbody>\n",
       "</table>\n",
       "</div>"
      ],
      "text/plain": [
       "    EmailId           Author            Receiver\n",
       "0       1.0    Jake Sullivan     Hillary Clinton\n",
       "2       3.0     Cheryl Mills     Hillary Clinton\n",
       "3       3.0     Cheryl Mills         Huma Abedin\n",
       "4       4.0     Cheryl Mills     Hillary Clinton\n",
       "5       4.0     Cheryl Mills  Mitchell, Andrew B\n",
       "7       5.0  Hillary Clinton         Huma Abedin\n",
       "9       6.0  Hillary Clinton        Robert Russo\n",
       "10      7.0     Cheryl Mills     Hillary Clinton\n",
       "13      8.0  Hillary Clinton         Huma Abedin\n",
       "14      9.0    Jake Sullivan     Hillary Clinton"
      ]
     },
     "execution_count": 11,
     "metadata": {},
     "output_type": "execute_result"
    }
   ],
   "source": [
    "df_graph.dropna(inplace=True)\n",
    "df_graph.head(10)"
   ]
  },
  {
   "cell_type": "markdown",
   "metadata": {},
   "source": [
    "The `Author` entries seem fine (output suppressed below) but when we look at the `Receiver` entries, they seem to need to processing."
   ]
  },
  {
   "cell_type": "code",
   "execution_count": 12,
   "metadata": {
    "collapsed": false
   },
   "outputs": [
    {
     "name": "stdout",
     "output_type": "stream",
     "text": [
      "125\n"
     ]
    }
   ],
   "source": [
    "print(len(df_graph.Author.value_counts()))\n",
    "# df_graph.Author.value_counts()"
   ]
  },
  {
   "cell_type": "markdown",
   "metadata": {},
   "source": [
    "However, the `Receiver` entries need a bit of cleaning due to our decision of including `ExtractedCc`. (Output suppressed below)."
   ]
  },
  {
   "cell_type": "code",
   "execution_count": 13,
   "metadata": {
    "collapsed": false
   },
   "outputs": [
    {
     "name": "stdout",
     "output_type": "stream",
     "text": [
      "1235\n"
     ]
    }
   ],
   "source": [
    "print(len(df_graph.Receiver.value_counts()))\n",
    "#df_graph.Receiver.value_counts()"
   ]
  },
  {
   "cell_type": "markdown",
   "metadata": {},
   "source": [
    "We see a variety of forms of \"Jiloty\", \"Sullivan\", \"Mills\", \"Valmoro\" and \"Huma\" which definitely seem to be the common recipients in this email corpus. Let's go ahead and fix such entries."
   ]
  },
  {
   "cell_type": "code",
   "execution_count": 14,
   "metadata": {
    "collapsed": false
   },
   "outputs": [],
   "source": [
    "# manual edits\n",
    "df_graph_clean = df_graph.copy()\n",
    "count = 0\n",
    "for index, row in df_graph_clean.iterrows():\n",
    "    if \"jiloty\" in row.Receiver:\n",
    "        row.Receiver = \"Lauren Jiloty\"\n",
    "        df_graph_clean.loc[index] = row\n",
    "    if \"valmor\" in row.Receiver:\n",
    "        row.Receiver = \"Lona Valmoro\"\n",
    "        df_graph_clean.loc[index] = row\n",
    "    if \"mills\" in row.Receiver:\n",
    "        row.Receiver = \"Cheryl Mills\"\n",
    "        df_graph_clean.loc[index] = row\n",
    "    if \"sullivan\" in row.Receiver:\n",
    "        count += 1\n",
    "        row.Receiver = \"Jake Sullivan\"\n",
    "        df_graph_clean.loc[index] = row\n",
    "    if \"huma\" in row.Receiver:\n",
    "        count += 1\n",
    "        row.Receiver = \"Huma Abedin\"\n",
    "        df_graph_clean.loc[index] = row"
   ]
  },
  {
   "cell_type": "code",
   "execution_count": 15,
   "metadata": {
    "collapsed": false
   },
   "outputs": [
    {
     "name": "stdout",
     "output_type": "stream",
     "text": [
      "1120\n"
     ]
    }
   ],
   "source": [
    "print(len(df_graph_clean.Receiver.value_counts()))\n",
    "#df_graph_clean.Receiver.value_counts()"
   ]
  },
  {
   "cell_type": "markdown",
   "metadata": {},
   "source": [
    "That's better but there are still some problems. Howevoer, fixing everything would be much too tedious. Let's simply remove those rows whose `Receiver` entry is not in `Persons.csv` (as these will be our nodes)."
   ]
  },
  {
   "cell_type": "code",
   "execution_count": 17,
   "metadata": {
    "collapsed": true
   },
   "outputs": [],
   "source": [
    "import numpy as np"
   ]
  },
  {
   "cell_type": "code",
   "execution_count": 18,
   "metadata": {
    "collapsed": false
   },
   "outputs": [],
   "source": [
    "df_graph_clean_nodes = df_graph_clean.copy()\n",
    "nodes = set(to_node.values())\n",
    "count = 0\n",
    "for index, row in df_graph_clean_nodes.iterrows():\n",
    "    if row.Author not in nodes:\n",
    "        row.Author = np.nan\n",
    "    if row.Receiver not in nodes:\n",
    "        row.Receiver = np.nan\n",
    "    df_graph_clean_nodes.loc[index] = row"
   ]
  },
  {
   "cell_type": "code",
   "execution_count": 19,
   "metadata": {
    "collapsed": false
   },
   "outputs": [
    {
     "name": "stdout",
     "output_type": "stream",
     "text": [
      "2162 were dropped out of 13481\n"
     ]
    }
   ],
   "source": [
    "df_graph_clean_nodes.dropna(inplace=True)\n",
    "print(\"%d were dropped out of %d\" % (df_graph_clean.shape[0]-df_graph_clean_nodes.shape[0], df_graph_clean.shape[0]))"
   ]
  },
  {
   "cell_type": "markdown",
   "metadata": {},
   "source": [
    "Let's save this with pickle."
   ]
  },
  {
   "cell_type": "code",
   "execution_count": 20,
   "metadata": {
    "collapsed": true
   },
   "outputs": [],
   "source": [
    "import pickle\n",
    "#pickle.dump( df_graph_clean_nodes, open( \"df_graph_clean_nodes.p\", \"wb\" ) )"
   ]
  },
  {
   "cell_type": "code",
   "execution_count": 21,
   "metadata": {
    "collapsed": false
   },
   "outputs": [
    {
     "name": "stdout",
     "output_type": "stream",
     "text": [
      "11319\n"
     ]
    },
    {
     "data": {
      "text/html": [
       "<div>\n",
       "<table border=\"1\" class=\"dataframe\">\n",
       "  <thead>\n",
       "    <tr style=\"text-align: right;\">\n",
       "      <th></th>\n",
       "      <th>EmailId</th>\n",
       "      <th>Author</th>\n",
       "      <th>Receiver</th>\n",
       "    </tr>\n",
       "  </thead>\n",
       "  <tbody>\n",
       "    <tr>\n",
       "      <th>1</th>\n",
       "      <td>1.0</td>\n",
       "      <td>Jake Sullivan</td>\n",
       "      <td>Hillary Clinton</td>\n",
       "    </tr>\n",
       "    <tr>\n",
       "      <th>2</th>\n",
       "      <td>3.0</td>\n",
       "      <td>Cheryl Mills</td>\n",
       "      <td>Hillary Clinton</td>\n",
       "    </tr>\n",
       "    <tr>\n",
       "      <th>3</th>\n",
       "      <td>3.0</td>\n",
       "      <td>Cheryl Mills</td>\n",
       "      <td>Huma Abedin</td>\n",
       "    </tr>\n",
       "    <tr>\n",
       "      <th>4</th>\n",
       "      <td>4.0</td>\n",
       "      <td>Cheryl Mills</td>\n",
       "      <td>Hillary Clinton</td>\n",
       "    </tr>\n",
       "    <tr>\n",
       "      <th>7</th>\n",
       "      <td>5.0</td>\n",
       "      <td>Hillary Clinton</td>\n",
       "      <td>Huma Abedin</td>\n",
       "    </tr>\n",
       "    <tr>\n",
       "      <th>9</th>\n",
       "      <td>6.0</td>\n",
       "      <td>Hillary Clinton</td>\n",
       "      <td>Robert Russo</td>\n",
       "    </tr>\n",
       "    <tr>\n",
       "      <th>11</th>\n",
       "      <td>7.0</td>\n",
       "      <td>Cheryl Mills</td>\n",
       "      <td>Hillary Clinton</td>\n",
       "    </tr>\n",
       "    <tr>\n",
       "      <th>13</th>\n",
       "      <td>8.0</td>\n",
       "      <td>Hillary Clinton</td>\n",
       "      <td>Huma Abedin</td>\n",
       "    </tr>\n",
       "    <tr>\n",
       "      <th>15</th>\n",
       "      <td>9.0</td>\n",
       "      <td>Jake Sullivan</td>\n",
       "      <td>Hillary Clinton</td>\n",
       "    </tr>\n",
       "    <tr>\n",
       "      <th>17</th>\n",
       "      <td>11.0</td>\n",
       "      <td>Jake Sullivan</td>\n",
       "      <td>Hillary Clinton</td>\n",
       "    </tr>\n",
       "    <tr>\n",
       "      <th>19</th>\n",
       "      <td>13.0</td>\n",
       "      <td>Jake Sullivan</td>\n",
       "      <td>Hillary Clinton</td>\n",
       "    </tr>\n",
       "    <tr>\n",
       "      <th>21</th>\n",
       "      <td>14.0</td>\n",
       "      <td>Anne-Marie Slaughter</td>\n",
       "      <td>Hillary Clinton</td>\n",
       "    </tr>\n",
       "    <tr>\n",
       "      <th>23</th>\n",
       "      <td>15.0</td>\n",
       "      <td>Cheryl Mills</td>\n",
       "      <td>Hillary Clinton</td>\n",
       "    </tr>\n",
       "    <tr>\n",
       "      <th>25</th>\n",
       "      <td>16.0</td>\n",
       "      <td>Harold Hongju Koh</td>\n",
       "      <td>Hillary Clinton</td>\n",
       "    </tr>\n",
       "    <tr>\n",
       "      <th>26</th>\n",
       "      <td>17.0</td>\n",
       "      <td>Wendy Sherman</td>\n",
       "      <td>Jake Sullivan</td>\n",
       "    </tr>\n",
       "  </tbody>\n",
       "</table>\n",
       "</div>"
      ],
      "text/plain": [
       "    EmailId                Author         Receiver\n",
       "1       1.0         Jake Sullivan  Hillary Clinton\n",
       "2       3.0          Cheryl Mills  Hillary Clinton\n",
       "3       3.0          Cheryl Mills      Huma Abedin\n",
       "4       4.0          Cheryl Mills  Hillary Clinton\n",
       "7       5.0       Hillary Clinton      Huma Abedin\n",
       "9       6.0       Hillary Clinton     Robert Russo\n",
       "11      7.0          Cheryl Mills  Hillary Clinton\n",
       "13      8.0       Hillary Clinton      Huma Abedin\n",
       "15      9.0         Jake Sullivan  Hillary Clinton\n",
       "17     11.0         Jake Sullivan  Hillary Clinton\n",
       "19     13.0         Jake Sullivan  Hillary Clinton\n",
       "21     14.0  Anne-Marie Slaughter  Hillary Clinton\n",
       "23     15.0          Cheryl Mills  Hillary Clinton\n",
       "25     16.0     Harold Hongju Koh  Hillary Clinton\n",
       "26     17.0         Wendy Sherman    Jake Sullivan"
      ]
     },
     "execution_count": 21,
     "metadata": {},
     "output_type": "execute_result"
    }
   ],
   "source": [
    "df_graph_clean_nodes = pickle.load( open( \"df_graph_clean_nodes.p\", \"rb\" ) )\n",
    "print(len(df_graph_clean_nodes))\n",
    "df_graph_clean_nodes.head(15)"
   ]
  },
  {
   "cell_type": "markdown",
   "metadata": {},
   "source": [
    "### Build communication graph"
   ]
  },
  {
   "cell_type": "code",
   "execution_count": 22,
   "metadata": {
    "collapsed": true
   },
   "outputs": [],
   "source": [
    "persons = set()\n",
    "for email_id, row in df_graph.iterrows():\n",
    "    persons.add(row.Author)\n",
    "    persons.add(row.Receiver)"
   ]
  },
  {
   "cell_type": "code",
   "execution_count": 24,
   "metadata": {
    "collapsed": false
   },
   "outputs": [],
   "source": [
    "G = nx.Graph()\n",
    "G.add_nodes_from(persons)"
   ]
  },
  {
   "cell_type": "code",
   "execution_count": 25,
   "metadata": {
    "collapsed": true
   },
   "outputs": [],
   "source": [
    "for email_id, row in df_graph.iterrows():\n",
    "    G.add_edge(row.Author, row.Receiver)"
   ]
  },
  {
   "cell_type": "markdown",
   "metadata": {},
   "source": [
    "### Partition the graph into communities"
   ]
  },
  {
   "cell_type": "code",
   "execution_count": 26,
   "metadata": {
    "collapsed": false
   },
   "outputs": [
    {
     "data": {
      "image/png": "[encoded data removed]",
      "text/plain": [
       "<matplotlib.figure.Figure at 0x7fc8238ae080>"
      ]
     },
     "metadata": {},
     "output_type": "display_data"
    }
   ],
   "source": [
    "#first compute the best partition\n",
    "partition = community.best_partition(G)\n",
    "\n",
    "#drawing\n",
    "size = float(len(set(partition.values())))\n",
    "pos = nx.spring_layout(G)\n",
    "count = 0.\n",
    "for com in set(partition.values()) :\n",
    "    count = count + 1.\n",
    "    list_nodes = [nodes for nodes in partition.keys()\n",
    "                                if partition[nodes] == com]\n",
    "    nx.draw_networkx_nodes(G, pos, list_nodes, node_size = 20,\n",
    "                                node_color = str(count / size))\n",
    "\n",
    "\n",
    "nx.draw_networkx_edges(G,pos, alpha=0.5)\n",
    "plt.show()"
   ]
  },
  {
   "cell_type": "code",
   "execution_count": 27,
   "metadata": {
    "collapsed": true
   },
   "outputs": [],
   "source": [
    "# given partition: name -> community\n",
    "# build community_id -> names\n",
    "community_to_persons = {}\n",
    "for person, community_id in partition.items():\n",
    "    if community_id not in community_to_persons:\n",
    "        community_to_persons[community_id] = set()\n",
    "    else:\n",
    "        community_to_persons[community_id].add(person)"
   ]
  },
  {
   "cell_type": "code",
   "execution_count": 34,
   "metadata": {
    "collapsed": false
   },
   "outputs": [
    {
     "name": "stdout",
     "output_type": "stream",
     "text": [
      "community 0, number of people: 37\n",
      "community 1, number of people: 297\n",
      "community 2, number of people: 40\n",
      "community 3, number of people: 190\n",
      "community 4, number of people: 57\n",
      "community 5, number of people: 292\n",
      "community 6, number of people: 184\n",
      "community 7, number of people: 2\n",
      "community 8, number of people: 18\n",
      "community 9, number of people: 69\n",
      "community 10, number of people: 48\n",
      "community 11, number of people: 4\n",
      "community 12, number of people: 2\n",
      "community 13, number of people: 1\n",
      "community 14, number of people: 3\n",
      "community 15, number of people: 1\n",
      "community 16, number of people: 1\n",
      "community 17, number of people: 6\n",
      "community 18, number of people: 2\n",
      "community 19, number of people: 1\n",
      "community 20, number of people: 1\n"
     ]
    }
   ],
   "source": [
    "for community_id, persons in community_to_persons.items():\n",
    "    print('community ' + str(community_id) + ', number of people: ' + str(len(persons)))"
   ]
  },
  {
   "cell_type": "markdown",
   "metadata": {},
   "source": [
    "Print the most frequent 20 words used by the email authors of each community."
   ]
  },
  {
   "cell_type": "markdown",
   "metadata": {},
   "source": [
    "### Preprocess data"
   ]
  },
  {
   "cell_type": "code",
   "execution_count": 29,
   "metadata": {
    "collapsed": true
   },
   "outputs": [],
   "source": [
    "emails_with_receivers = pd.merge(emails, receivers, how=\"inner\", left_index=True, right_on='EmailId')"
   ]
  },
  {
   "cell_type": "code",
   "execution_count": 30,
   "metadata": {
    "collapsed": true
   },
   "outputs": [],
   "source": [
    "from nltk.corpus import stopwords\n",
    "stop_words = set(stopwords.words('english'))\n",
    "local_stop = {\"re\", \"fw\", \"cc\", \"also\", \"pm\", \"am\", \"btw\", \"fyi\", \"to\", \"from\", \"nan\"}\n",
    "stop_words = stop_words | local_stop"
   ]
  },
  {
   "cell_type": "code",
   "execution_count": 31,
   "metadata": {
    "collapsed": true
   },
   "outputs": [],
   "source": [
    "def preprocess(text):\n",
    "    # 1. tokenlization\n",
    "    tokens = nltk.word_tokenize(text)\n",
    "    \n",
    "    # 2. remove tokens whose length <= 2\n",
    "    tokens_not_short = [t for t in tokens if len(t) > 2]\n",
    "\n",
    "    # 3. lowercase tokens\n",
    "    tokens_lowercased = [t.lower() for t in tokens_not_short]\n",
    "    \n",
    "    # 4. remove tokens without a leading letter\n",
    "    tokens_started_with_letter = [t for t in tokens_lowercased if t[0].isalpha()] \n",
    "\n",
    "    # 5. remove stop words \n",
    "    tokens_without_stop_words = [t for t in tokens_started_with_letter if t not in stop_words]\n",
    "    \n",
    "    # 6. stemming\n",
    "    lemmatizer = WordNetLemmatizer()\n",
    "    lemmatized_tokens = [lemmatizer.lemmatize(t) for t in tokens_without_stop_words]\n",
    "    \n",
    "    return lemmatized_tokens"
   ]
  },
  {
   "cell_type": "markdown",
   "metadata": {},
   "source": [
    "### Count frequent words"
   ]
  },
  {
   "cell_type": "code",
   "execution_count": 33,
   "metadata": {
    "collapsed": false
   },
   "outputs": [
    {
     "name": "stdout",
     "output_type": "stream",
     "text": [
      "community 0, number of people: 37\n",
      "[('option', 12), ('told', 11), ('cheryl', 10), ('outlining', 10), ('amcits', 10), ('memo', 10), ('asked', 10), ('tomw', 10), ('question', 10), ('susan', 10), (\"s's\", 10), ('feltman', 3), ('harold', 3), ('jeffrey', 3), ('legal', 2), ('happy', 2), ('release', 2), ('please', 2), ('french', 2), ('melanne', 2)]\n",
      "\n",
      "community 1, number of people: 297\n",
      "[('state', 142), ('would', 120), ('official', 86), ('need', 78), ('time', 78), ('know', 74), ('see', 72), ('department', 71), ('u.s.', 68), (\"n't\", 67), ('could', 63), ('let', 63), ('call', 62), ('get', 62), ('intergovernmental', 60), ('china', 59), ('work', 59), ('national', 55), ('talk', 55), ('local', 52)]\n",
      "\n",
      "community 2, number of people: 40\n",
      "[('draft', 7), ('see', 5), ('time', 5), ('lissa', 5), ('jake', 5), ('could', 4), ('call', 4), ('good', 4), ('work', 4), ('get', 4), ('public', 3), ('day', 3), ('tomorrow', 3), ('problem', 3), ('dan', 3), ('end', 2), ('world', 2), ('anne-marie', 2), ('richard', 2), ('change', 2)]\n",
      "\n",
      "community 3, number of people: 190\n",
      "[('release', 6), ('part', 5), ('would', 4), ('need', 3), ('statement', 3), ('state', 3), ('morning', 3), ('second', 3), ('sent', 3), ('philippe', 3), ('thank', 3), ('huma', 3), ('b1,1.4', 3), ('date', 2), ('honduras', 2), ('kamala', 2), ('hope', 2), ('america', 2), ('photo', 2), ('picture', 2)]\n",
      "\n",
      "community 4, number of people: 57\n",
      "[('jamal', 30), ('place', 30), ('deuel', 26), ('say', 20), ('kid', 20), ('state', 18), ('year', 18), (\"n't\", 17), ('home', 14), ('staff', 13), ('good', 13), ('dcfs', 12), ('day', 11), ('child', 10), ('back', 10), ('measure', 10), ('time', 9), ('lona', 9), ('got', 9), ('yes', 9)]\n",
      "\n",
      "community 5, number of people: 292\n",
      "[('cdm', 12), ('thanks', 6), ('release', 6), ('part', 6), ('need', 5), ('next', 5), ('done', 4), (\"n't\", 4), ('policy', 4), ('congrats', 4), ('think', 4), ('good', 4), ('one', 4), ('work', 4), ('effort', 4), ('narrative', 3), ('get', 3), ('many', 3), ('hour', 3), ('coming', 3)]\n",
      "\n",
      "community 6, number of people: 184\n",
      "[(\"n't\", 18), ('know', 14), ('hrc', 14), ('yes', 11), ('call', 11), ('good', 9), ('yet', 9), ('meeting', 8), ('would', 8), ('oscar', 8), ('tomorrow', 7), ('print', 7), ('make', 6), ('sure', 6), ('sent', 6), ('heard', 6), ('work', 6), ('lexmarkaioscan9jpg', 6), ('today', 5), ('thanks', 5)]\n",
      "\n",
      "community 7, number of people: 2\n",
      "[]\n",
      "\n",
      "community 8, number of people: 18\n",
      "[('afghanistan', 8), ('government', 7), ('corruption', 6), ('afghan', 5), ('lowey', 5), ('senate', 4), ('subcommittee', 4), ('aid', 3), ('assistance', 3), ('house', 3), ('taxpayer', 3), ('foreign', 3), ('billion', 3), ('said', 3), ('appropriation', 3), ('chairwoman', 2), ('today', 2), ('money', 2), ('economy', 2), ('fund', 2)]\n",
      "\n",
      "community 9, number of people: 69\n",
      "[('effort', 8), ('information', 8), ('mexico', 7), ('need', 6), ('work', 6), ('week', 6), ('help', 5), ('initiative', 5), ('communication', 5), ('wide', 5), ('date', 4), ('day', 4), ('develop', 4), ('thank', 4), ('prepared', 4), ('believe', 4), ('jim', 4), ('last', 4), ('best', 4), ('increase', 4)]\n",
      "\n",
      "community 10, number of people: 48\n",
      "[('government', 13), ('president', 13), ('blair', 13), ('european', 12), ('conference', 9), ('secretary', 9), ('would', 9), (\"n't\", 8), ('could', 8), ('europe', 8), ('climate', 7), ('get', 7), ('state', 7), ('first', 7), ('invited', 6), ('change', 6), ('minister', 6), ('summit', 6), ('said', 6), ('economic', 6)]\n",
      "\n",
      "community 11, number of people: 4\n",
      "[('settlement', 70), ('people', 48), ('haitian', 46), ('work', 34), ('plan', 28), ('could', 28), ('latrine', 28), ('e.g.', 28), ('government', 26), ('would', 24), ('need', 24), ('though', 23), ('committee', 22), ('one', 22), ('prince', 22), ('least', 21), ('security', 20), ('port', 20), ('including', 20), ('ingo', 20)]\n",
      "\n",
      "community 12, number of people: 2\n",
      "[]\n",
      "\n",
      "community 13, number of people: 1\n",
      "[]\n",
      "\n",
      "community 14, number of people: 3\n",
      "[('palau', 3), ('think', 2), ('jeff', 2), ('work', 2), ('succeed', 2), ('rciviw', 1), ('new', 1), ('farrow', 1), ('aid', 1), ('could', 1), ('today', 1), ('jake', 1), ('understand', 1), ('pres', 1), ('criticai', 1), ('foi-', 1), ('proposai', 1), ('real', 1), ('two', 1), ('complete', 1)]\n",
      "\n",
      "community 15, number of people: 1\n",
      "[]\n",
      "\n",
      "community 16, number of people: 1\n",
      "[]\n",
      "\n",
      "community 17, number of people: 6\n",
      "[]\n",
      "\n",
      "community 18, number of people: 2\n",
      "[]\n",
      "\n",
      "community 19, number of people: 1\n",
      "[]\n",
      "\n",
      "community 20, number of people: 1\n",
      "[]\n",
      "\n"
     ]
    }
   ],
   "source": [
    "from collections import Counter\n",
    "\n",
    "commutity_to_freq_words = {}\n",
    "for community_id, persons in community_to_persons.items():\n",
    "    counter = Counter()\n",
    "    for id, row in emails_with_receivers.iterrows():\n",
    "        if pd.notnull(row.SenderPersonId):\n",
    "            author = to_node[int(row.SenderPersonId)]\n",
    "            receiver = to_node[row.PersonId]\n",
    "            if (author in persons) and (receiver in persons):\n",
    "                tokens = preprocess(str(row.ExtractedBodyText))\n",
    "                for token in tokens:\n",
    "                    counter[token] = counter[token] + 1\n",
    "\n",
    "    print(\"community \" + str(community_id) + \", number of people: \" + str(len(people)))                \n",
    "    print(counter.most_common(20))\n",
    "    print()"
   ]
  },
  {
   "cell_type": "code",
   "execution_count": null,
   "metadata": {
    "collapsed": true
   },
   "outputs": [],
   "source": []
  }
 ],
 "metadata": {
  "kernelspec": {
   "display_name": "Python 3",
   "language": "python",
   "name": "python3"
  },
  "language_info": {
   "codemirror_mode": {
    "name": "ipython",
    "version": 3
   },
   "file_extension": ".py",
   "mimetype": "text/x-python",
   "name": "python",
   "nbconvert_exporter": "python",
   "pygments_lexer": "ipython3",
   "version": "3.5.1"
  }
 },
 "nbformat": 4,
 "nbformat_minor": 0
}
