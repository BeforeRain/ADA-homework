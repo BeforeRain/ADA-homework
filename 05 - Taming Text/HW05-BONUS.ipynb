{
 "cells": [
  {
   "cell_type": "markdown",
   "metadata": {},
   "source": [
    "# HW 05 - Taming Text\n",
    "\n",
    "# BONUS\n",
    "\n",
    "> Build the communication graph (unweighted and undirected) among the different email senders and recipients using the `NetworkX` library. Find communities in this graph with `community.best_partition(G)` method from the community detection module. Print the most frequent 20 words used by the email authors of each community. Do these word lists look similar to what you've produced at step 3 with LDA? Can you identify clear discussion topics for each community? Discuss briefly the obtained results."
   ]
  },
  {
   "cell_type": "markdown",
   "metadata": {},
   "source": [
    "First we import the necessary modules."
   ]
  },
  {
   "cell_type": "code",
   "execution_count": 1,
   "metadata": {
    "collapsed": false
   },
   "outputs": [
    {
     "name": "stderr",
     "output_type": "stream",
     "text": [
      "/home/weizhang/.local/lib/python3.5/site-packages/gensim/utils.py:1015: UserWarning: Pattern library is not installed, lemmatization won't be available.\n",
      "  warnings.warn(\"Pattern library is not installed, lemmatization won't be available.\")\n"
     ]
    }
   ],
   "source": [
    "import pandas as pd\n",
    "import nltk\n",
    "import pickle\n",
    "from gensim.models.ldamodel import LdaModel\n",
    "from gensim import corpora\n",
    "from nltk.stem import WordNetLemmatizer\n",
    "\n",
    "%matplotlib inline\n",
    "import matplotlib.pyplot as plt\n",
    "import community\n",
    "import networkx as nx"
   ]
  },
  {
   "cell_type": "markdown",
   "metadata": {},
   "source": [
    "### Simple example"
   ]
  },
  {
   "cell_type": "markdown",
   "metadata": {},
   "source": [
    "Let's try the example from http://perso.crans.org/aynaud/communities/index.html:"
   ]
  },
  {
   "cell_type": "code",
   "execution_count": 2,
   "metadata": {
    "collapsed": false
   },
   "outputs": [
    {
     "data": {
      "image/png": "[encoded data removed]",
      "text/plain": [
       "<matplotlib.figure.Figure at 0x7ff2e4a3d828>"
      ]
     },
     "metadata": {},
     "output_type": "display_data"
    }
   ],
   "source": [
    "import matplotlib.pyplot as plt\n",
    "\n",
    "#better with karate_graph() as defined in networkx example.\n",
    "#erdos renyi don't have true community structure\n",
    "G = nx.erdos_renyi_graph(30, 0.05)\n",
    "\n",
    "#first compute the best partition\n",
    "partition = community.best_partition(G)\n",
    "\n",
    "#drawing\n",
    "size = float(len(set(partition.values())))\n",
    "pos = nx.spring_layout(G)\n",
    "count = 0.\n",
    "for com in set(partition.values()) :\n",
    "    count = count + 1.\n",
    "    list_nodes = [nodes for nodes in partition.keys()\n",
    "                                if partition[nodes] == com]\n",
    "    nx.draw_networkx_nodes(G, pos, list_nodes, node_size = 20,\n",
    "                                node_color = str(count / size))\n",
    "\n",
    "\n",
    "nx.draw_networkx_edges(G,pos, alpha=0.5)\n",
    "plt.show()"
   ]
  },
  {
   "cell_type": "markdown",
   "metadata": {},
   "source": [
    "### Scouting useful info from the emails corpus"
   ]
  },
  {
   "cell_type": "code",
   "execution_count": 3,
   "metadata": {
    "collapsed": false
   },
   "outputs": [
    {
     "name": "stdout",
     "output_type": "stream",
     "text": [
      "(7945, 21)\n"
     ]
    },
    {
     "data": {
      "text/html": [
       "<div>\n",
       "<table border=\"1\" class=\"dataframe\">\n",
       "  <thead>\n",
       "    <tr style=\"text-align: right;\">\n",
       "      <th></th>\n",
       "      <th>DocNumber</th>\n",
       "      <th>MetadataSubject</th>\n",
       "      <th>MetadataTo</th>\n",
       "      <th>MetadataFrom</th>\n",
       "      <th>SenderPersonId</th>\n",
       "      <th>MetadataDateSent</th>\n",
       "      <th>MetadataDateReleased</th>\n",
       "      <th>MetadataPdfLink</th>\n",
       "      <th>MetadataCaseNumber</th>\n",
       "      <th>MetadataDocumentClass</th>\n",
       "      <th>ExtractedSubject</th>\n",
       "    </tr>\n",
       "    <tr>\n",
       "      <th>Id</th>\n",
       "      <th></th>\n",
       "      <th></th>\n",
       "      <th></th>\n",
       "      <th></th>\n",
       "      <th></th>\n",
       "      <th></th>\n",
       "      <th></th>\n",
       "      <th></th>\n",
       "      <th></th>\n",
       "      <th></th>\n",
       "      <th></th>\n",
       "    </tr>\n",
       "  </thead>\n",
       "  <tbody>\n",
       "    <tr>\n",
       "      <th>1</th>\n",
       "      <td>C05739545</td>\n",
       "      <td>WOW</td>\n",
       "      <td>H</td>\n",
       "      <td>Sullivan, Jacob J</td>\n",
       "      <td>87.0</td>\n",
       "      <td>2012-09-12T04:00:00+00:00</td>\n",
       "      <td>2015-05-22T04:00:00+00:00</td>\n",
       "      <td>DOCUMENTS/HRC_Email_1_296/HRCH2/DOC_0C05739545...</td>\n",
       "      <td>F-2015-04841</td>\n",
       "      <td>HRC_Email_296</td>\n",
       "      <td>FW: Wow</td>\n",
       "    </tr>\n",
       "    <tr>\n",
       "      <th>2</th>\n",
       "      <td>C05739546</td>\n",
       "      <td>H: LATEST: HOW SYRIA IS AIDING QADDAFI AND MOR...</td>\n",
       "      <td>H</td>\n",
       "      <td>NaN</td>\n",
       "      <td>NaN</td>\n",
       "      <td>2011-03-03T05:00:00+00:00</td>\n",
       "      <td>2015-05-22T04:00:00+00:00</td>\n",
       "      <td>DOCUMENTS/HRC_Email_1_296/HRCH1/DOC_0C05739546...</td>\n",
       "      <td>F-2015-04841</td>\n",
       "      <td>HRC_Email_296</td>\n",
       "      <td>NaN</td>\n",
       "    </tr>\n",
       "    <tr>\n",
       "      <th>3</th>\n",
       "      <td>C05739547</td>\n",
       "      <td>CHRIS STEVENS</td>\n",
       "      <td>;H</td>\n",
       "      <td>Mills, Cheryl D</td>\n",
       "      <td>32.0</td>\n",
       "      <td>2012-09-12T04:00:00+00:00</td>\n",
       "      <td>2015-05-22T04:00:00+00:00</td>\n",
       "      <td>DOCUMENTS/HRC_Email_1_296/HRCH2/DOC_0C05739547...</td>\n",
       "      <td>F-2015-04841</td>\n",
       "      <td>HRC_Email_296</td>\n",
       "      <td>Re: Chris Stevens</td>\n",
       "    </tr>\n",
       "    <tr>\n",
       "      <th>4</th>\n",
       "      <td>C05739550</td>\n",
       "      <td>CAIRO CONDEMNATION - FINAL</td>\n",
       "      <td>H</td>\n",
       "      <td>Mills, Cheryl D</td>\n",
       "      <td>32.0</td>\n",
       "      <td>2012-09-12T04:00:00+00:00</td>\n",
       "      <td>2015-05-22T04:00:00+00:00</td>\n",
       "      <td>DOCUMENTS/HRC_Email_1_296/HRCH2/DOC_0C05739550...</td>\n",
       "      <td>F-2015-04841</td>\n",
       "      <td>HRC_Email_296</td>\n",
       "      <td>FVV: Cairo Condemnation - Final</td>\n",
       "    </tr>\n",
       "    <tr>\n",
       "      <th>5</th>\n",
       "      <td>C05739554</td>\n",
       "      <td>H: LATEST: HOW SYRIA IS AIDING QADDAFI AND MOR...</td>\n",
       "      <td>Abedin, Huma</td>\n",
       "      <td>H</td>\n",
       "      <td>80.0</td>\n",
       "      <td>2011-03-11T05:00:00+00:00</td>\n",
       "      <td>2015-05-22T04:00:00+00:00</td>\n",
       "      <td>DOCUMENTS/HRC_Email_1_296/HRCH1/DOC_0C05739554...</td>\n",
       "      <td>F-2015-04841</td>\n",
       "      <td>HRC_Email_296</td>\n",
       "      <td>NaN</td>\n",
       "    </tr>\n",
       "  </tbody>\n",
       "</table>\n",
       "</div>"
      ],
      "text/plain": [
       "    DocNumber                                    MetadataSubject  \\\n",
       "Id                                                                 \n",
       "1   C05739545                                                WOW   \n",
       "2   C05739546  H: LATEST: HOW SYRIA IS AIDING QADDAFI AND MOR...   \n",
       "3   C05739547                                      CHRIS STEVENS   \n",
       "4   C05739550                         CAIRO CONDEMNATION - FINAL   \n",
       "5   C05739554  H: LATEST: HOW SYRIA IS AIDING QADDAFI AND MOR...   \n",
       "\n",
       "      MetadataTo       MetadataFrom  SenderPersonId  \\\n",
       "Id                                                    \n",
       "1              H  Sullivan, Jacob J            87.0   \n",
       "2              H                NaN             NaN   \n",
       "3             ;H    Mills, Cheryl D            32.0   \n",
       "4              H    Mills, Cheryl D            32.0   \n",
       "5   Abedin, Huma                  H            80.0   \n",
       "\n",
       "             MetadataDateSent       MetadataDateReleased  \\\n",
       "Id                                                         \n",
       "1   2012-09-12T04:00:00+00:00  2015-05-22T04:00:00+00:00   \n",
       "2   2011-03-03T05:00:00+00:00  2015-05-22T04:00:00+00:00   \n",
       "3   2012-09-12T04:00:00+00:00  2015-05-22T04:00:00+00:00   \n",
       "4   2012-09-12T04:00:00+00:00  2015-05-22T04:00:00+00:00   \n",
       "5   2011-03-11T05:00:00+00:00  2015-05-22T04:00:00+00:00   \n",
       "\n",
       "                                      MetadataPdfLink MetadataCaseNumber  \\\n",
       "Id                                                                         \n",
       "1   DOCUMENTS/HRC_Email_1_296/HRCH2/DOC_0C05739545...       F-2015-04841   \n",
       "2   DOCUMENTS/HRC_Email_1_296/HRCH1/DOC_0C05739546...       F-2015-04841   \n",
       "3   DOCUMENTS/HRC_Email_1_296/HRCH2/DOC_0C05739547...       F-2015-04841   \n",
       "4   DOCUMENTS/HRC_Email_1_296/HRCH2/DOC_0C05739550...       F-2015-04841   \n",
       "5   DOCUMENTS/HRC_Email_1_296/HRCH1/DOC_0C05739554...       F-2015-04841   \n",
       "\n",
       "   MetadataDocumentClass                 ExtractedSubject  \n",
       "Id                                                         \n",
       "1          HRC_Email_296                          FW: Wow  \n",
       "2          HRC_Email_296                              NaN  \n",
       "3          HRC_Email_296                Re: Chris Stevens  \n",
       "4          HRC_Email_296  FVV: Cairo Condemnation - Final  \n",
       "5          HRC_Email_296                              NaN  "
      ]
     },
     "execution_count": 3,
     "metadata": {},
     "output_type": "execute_result"
    }
   ],
   "source": [
    "import pandas as pd\n",
    "\n",
    "emails = pd.read_csv('hillary-clinton-emails/Emails.csv')\n",
    "emails.set_index([\"Id\"], drop=True, inplace=True)\n",
    "print(emails.shape)\n",
    "emails.ix[:5,:11]"
   ]
  },
  {
   "cell_type": "code",
   "execution_count": 4,
   "metadata": {
    "collapsed": false
   },
   "outputs": [
    {
     "data": {
      "text/html": [
       "<div>\n",
       "<table border=\"1\" class=\"dataframe\">\n",
       "  <thead>\n",
       "    <tr style=\"text-align: right;\">\n",
       "      <th></th>\n",
       "      <th>ExtractedTo</th>\n",
       "      <th>ExtractedFrom</th>\n",
       "      <th>ExtractedCc</th>\n",
       "      <th>ExtractedDateSent</th>\n",
       "      <th>ExtractedCaseNumber</th>\n",
       "      <th>ExtractedDocNumber</th>\n",
       "      <th>ExtractedDateReleased</th>\n",
       "      <th>ExtractedReleaseInPartOrFull</th>\n",
       "      <th>ExtractedBodyText</th>\n",
       "      <th>RawText</th>\n",
       "    </tr>\n",
       "    <tr>\n",
       "      <th>Id</th>\n",
       "      <th></th>\n",
       "      <th></th>\n",
       "      <th></th>\n",
       "      <th></th>\n",
       "      <th></th>\n",
       "      <th></th>\n",
       "      <th></th>\n",
       "      <th></th>\n",
       "      <th></th>\n",
       "      <th></th>\n",
       "    </tr>\n",
       "  </thead>\n",
       "  <tbody>\n",
       "    <tr>\n",
       "      <th>1</th>\n",
       "      <td>NaN</td>\n",
       "      <td>Sullivan, Jacob J &lt;Sullivan11@state.gov&gt;</td>\n",
       "      <td>NaN</td>\n",
       "      <td>Wednesday, September 12, 2012 10:16 AM</td>\n",
       "      <td>F-2015-04841</td>\n",
       "      <td>C05739545</td>\n",
       "      <td>05/13/2015</td>\n",
       "      <td>RELEASE IN FULL</td>\n",
       "      <td>NaN</td>\n",
       "      <td>UNCLASSIFIED\\nU.S. Department of State\\nCase N...</td>\n",
       "    </tr>\n",
       "    <tr>\n",
       "      <th>2</th>\n",
       "      <td>NaN</td>\n",
       "      <td>NaN</td>\n",
       "      <td>NaN</td>\n",
       "      <td>NaN</td>\n",
       "      <td>F-2015-04841</td>\n",
       "      <td>C05739546</td>\n",
       "      <td>05/13/2015</td>\n",
       "      <td>RELEASE IN PART</td>\n",
       "      <td>B6\\nThursday, March 3, 2011 9:45 PM\\nH: Latest...</td>\n",
       "      <td>UNCLASSIFIED\\nU.S. Department of State\\nCase N...</td>\n",
       "    </tr>\n",
       "    <tr>\n",
       "      <th>3</th>\n",
       "      <td>B6</td>\n",
       "      <td>Mills, Cheryl D &lt;MillsCD@state.gov&gt;</td>\n",
       "      <td>Abedin, Huma</td>\n",
       "      <td>Wednesday, September 12, 2012 11:52 AM</td>\n",
       "      <td>F-2015-04841</td>\n",
       "      <td>C05739547</td>\n",
       "      <td>05/14/2015</td>\n",
       "      <td>RELEASE IN PART</td>\n",
       "      <td>Thx</td>\n",
       "      <td>UNCLASSIFIED\\nU.S. Department of State\\nCase N...</td>\n",
       "    </tr>\n",
       "    <tr>\n",
       "      <th>4</th>\n",
       "      <td>NaN</td>\n",
       "      <td>Mills, Cheryl D &lt;MillsCD@state.gov&gt;</td>\n",
       "      <td>Mitchell, Andrew B</td>\n",
       "      <td>Wednesday, September 12,2012 12:44 PM</td>\n",
       "      <td>F-2015-04841</td>\n",
       "      <td>C05739550</td>\n",
       "      <td>05/13/2015</td>\n",
       "      <td>RELEASE IN PART</td>\n",
       "      <td>NaN</td>\n",
       "      <td>UNCLASSIFIED\\nU.S. Department of State\\nCase N...</td>\n",
       "    </tr>\n",
       "    <tr>\n",
       "      <th>5</th>\n",
       "      <td>NaN</td>\n",
       "      <td>NaN</td>\n",
       "      <td>NaN</td>\n",
       "      <td>NaN</td>\n",
       "      <td>F-2015-04841</td>\n",
       "      <td>C05739554</td>\n",
       "      <td>05/13/2015</td>\n",
       "      <td>RELEASE IN PART</td>\n",
       "      <td>H &lt;hrod17@clintonemail.com&gt;\\nFriday, March 11,...</td>\n",
       "      <td>B6\\nUNCLASSIFIED\\nU.S. Department of State\\nCa...</td>\n",
       "    </tr>\n",
       "  </tbody>\n",
       "</table>\n",
       "</div>"
      ],
      "text/plain": [
       "   ExtractedTo                             ExtractedFrom         ExtractedCc  \\\n",
       "Id                                                                             \n",
       "1          NaN  Sullivan, Jacob J <Sullivan11@state.gov>                 NaN   \n",
       "2          NaN                                       NaN                 NaN   \n",
       "3           B6       Mills, Cheryl D <MillsCD@state.gov>        Abedin, Huma   \n",
       "4          NaN       Mills, Cheryl D <MillsCD@state.gov>  Mitchell, Andrew B   \n",
       "5          NaN                                       NaN                 NaN   \n",
       "\n",
       "                         ExtractedDateSent ExtractedCaseNumber  \\\n",
       "Id                                                               \n",
       "1   Wednesday, September 12, 2012 10:16 AM        F-2015-04841   \n",
       "2                                      NaN        F-2015-04841   \n",
       "3   Wednesday, September 12, 2012 11:52 AM        F-2015-04841   \n",
       "4    Wednesday, September 12,2012 12:44 PM        F-2015-04841   \n",
       "5                                      NaN        F-2015-04841   \n",
       "\n",
       "   ExtractedDocNumber ExtractedDateReleased ExtractedReleaseInPartOrFull  \\\n",
       "Id                                                                         \n",
       "1           C05739545            05/13/2015              RELEASE IN FULL   \n",
       "2           C05739546            05/13/2015              RELEASE IN PART   \n",
       "3           C05739547            05/14/2015              RELEASE IN PART   \n",
       "4           C05739550            05/13/2015              RELEASE IN PART   \n",
       "5           C05739554            05/13/2015              RELEASE IN PART   \n",
       "\n",
       "                                    ExtractedBodyText  \\\n",
       "Id                                                      \n",
       "1                                                 NaN   \n",
       "2   B6\\nThursday, March 3, 2011 9:45 PM\\nH: Latest...   \n",
       "3                                                 Thx   \n",
       "4                                                 NaN   \n",
       "5   H <hrod17@clintonemail.com>\\nFriday, March 11,...   \n",
       "\n",
       "                                              RawText  \n",
       "Id                                                     \n",
       "1   UNCLASSIFIED\\nU.S. Department of State\\nCase N...  \n",
       "2   UNCLASSIFIED\\nU.S. Department of State\\nCase N...  \n",
       "3   UNCLASSIFIED\\nU.S. Department of State\\nCase N...  \n",
       "4   UNCLASSIFIED\\nU.S. Department of State\\nCase N...  \n",
       "5   B6\\nUNCLASSIFIED\\nU.S. Department of State\\nCa...  "
      ]
     },
     "execution_count": 4,
     "metadata": {},
     "output_type": "execute_result"
    }
   ],
   "source": [
    "emails.ix[:5,11:]"
   ]
  },
  {
   "cell_type": "markdown",
   "metadata": {},
   "source": [
    "In addition to the `Emails.csv` that we have seen in the three exercises, we have three other files containing information about the senders and receivers."
   ]
  },
  {
   "cell_type": "code",
   "execution_count": 5,
   "metadata": {
    "collapsed": false
   },
   "outputs": [
    {
     "name": "stdout",
     "output_type": "stream",
     "text": [
      "513\n"
     ]
    },
    {
     "data": {
      "text/html": [
       "<div>\n",
       "<table border=\"1\" class=\"dataframe\">\n",
       "  <thead>\n",
       "    <tr style=\"text-align: right;\">\n",
       "      <th></th>\n",
       "      <th>Name</th>\n",
       "    </tr>\n",
       "    <tr>\n",
       "      <th>Id</th>\n",
       "      <th></th>\n",
       "    </tr>\n",
       "  </thead>\n",
       "  <tbody>\n",
       "    <tr>\n",
       "      <th>1</th>\n",
       "      <td>111th Congress</td>\n",
       "    </tr>\n",
       "    <tr>\n",
       "      <th>2</th>\n",
       "      <td>AGNA USEMB Kabul Afghanistan</td>\n",
       "    </tr>\n",
       "    <tr>\n",
       "      <th>3</th>\n",
       "      <td>AP</td>\n",
       "    </tr>\n",
       "    <tr>\n",
       "      <th>4</th>\n",
       "      <td>ASUNCION</td>\n",
       "    </tr>\n",
       "    <tr>\n",
       "      <th>5</th>\n",
       "      <td>Alec</td>\n",
       "    </tr>\n",
       "    <tr>\n",
       "      <th>6</th>\n",
       "      <td>Alex Dupuy</td>\n",
       "    </tr>\n",
       "    <tr>\n",
       "      <th>7</th>\n",
       "      <td>American Beverage Association</td>\n",
       "    </tr>\n",
       "    <tr>\n",
       "      <th>8</th>\n",
       "      <td>Andrew Mayock</td>\n",
       "    </tr>\n",
       "    <tr>\n",
       "      <th>9</th>\n",
       "      <td>Andrew Shapiro</td>\n",
       "    </tr>\n",
       "    <tr>\n",
       "      <th>10</th>\n",
       "      <td>Anne-Marie Slaughter</td>\n",
       "    </tr>\n",
       "  </tbody>\n",
       "</table>\n",
       "</div>"
      ],
      "text/plain": [
       "                             Name\n",
       "Id                               \n",
       "1                  111th Congress\n",
       "2    AGNA USEMB Kabul Afghanistan\n",
       "3                              AP\n",
       "4                        ASUNCION\n",
       "5                            Alec\n",
       "6                      Alex Dupuy\n",
       "7   American Beverage Association\n",
       "8                   Andrew Mayock\n",
       "9                  Andrew Shapiro\n",
       "10           Anne-Marie Slaughter"
      ]
     },
     "execution_count": 5,
     "metadata": {},
     "output_type": "execute_result"
    }
   ],
   "source": [
    "persons = pd.read_csv('hillary-clinton-emails/Persons.csv')\n",
    "persons.set_index([\"Id\"], drop=True, inplace=True)\n",
    "print(len(persons))\n",
    "persons.head(10)"
   ]
  },
  {
   "cell_type": "markdown",
   "metadata": {},
   "source": [
    "`Persons.csv` contains the names of all the people and organizations that are part of the email exchanges within this corpus. A unique `Id` is assigned for each person / organization. We will use these entries as the nodes in our graph."
   ]
  },
  {
   "cell_type": "code",
   "execution_count": 6,
   "metadata": {
    "collapsed": false
   },
   "outputs": [
    {
     "name": "stdout",
     "output_type": "stream",
     "text": [
      "850\n",
      "513\n"
     ]
    },
    {
     "data": {
      "text/html": [
       "<div>\n",
       "<table border=\"1\" class=\"dataframe\">\n",
       "  <thead>\n",
       "    <tr style=\"text-align: right;\">\n",
       "      <th></th>\n",
       "      <th>Alias</th>\n",
       "      <th>PersonId</th>\n",
       "    </tr>\n",
       "    <tr>\n",
       "      <th>Id</th>\n",
       "      <th></th>\n",
       "      <th></th>\n",
       "    </tr>\n",
       "  </thead>\n",
       "  <tbody>\n",
       "    <tr>\n",
       "      <th>1</th>\n",
       "      <td>111th congress</td>\n",
       "      <td>1</td>\n",
       "    </tr>\n",
       "    <tr>\n",
       "      <th>2</th>\n",
       "      <td>agna usemb kabul afghanistan</td>\n",
       "      <td>2</td>\n",
       "    </tr>\n",
       "    <tr>\n",
       "      <th>3</th>\n",
       "      <td>ap</td>\n",
       "      <td>3</td>\n",
       "    </tr>\n",
       "    <tr>\n",
       "      <th>4</th>\n",
       "      <td>asuncion</td>\n",
       "      <td>4</td>\n",
       "    </tr>\n",
       "    <tr>\n",
       "      <th>5</th>\n",
       "      <td>alec</td>\n",
       "      <td>5</td>\n",
       "    </tr>\n",
       "    <tr>\n",
       "      <th>6</th>\n",
       "      <td>dupuy alex</td>\n",
       "      <td>6</td>\n",
       "    </tr>\n",
       "    <tr>\n",
       "      <th>7</th>\n",
       "      <td>american beverage association</td>\n",
       "      <td>7</td>\n",
       "    </tr>\n",
       "    <tr>\n",
       "      <th>8</th>\n",
       "      <td>mayock andrew</td>\n",
       "      <td>8</td>\n",
       "    </tr>\n",
       "    <tr>\n",
       "      <th>9</th>\n",
       "      <td>shapiro andrew j</td>\n",
       "      <td>9</td>\n",
       "    </tr>\n",
       "    <tr>\n",
       "      <th>10</th>\n",
       "      <td>shapiroa@state.gov</td>\n",
       "      <td>9</td>\n",
       "    </tr>\n",
       "  </tbody>\n",
       "</table>\n",
       "</div>"
      ],
      "text/plain": [
       "                            Alias  PersonId\n",
       "Id                                         \n",
       "1                  111th congress         1\n",
       "2    agna usemb kabul afghanistan         2\n",
       "3                              ap         3\n",
       "4                        asuncion         4\n",
       "5                            alec         5\n",
       "6                      dupuy alex         6\n",
       "7   american beverage association         7\n",
       "8                   mayock andrew         8\n",
       "9                shapiro andrew j         9\n",
       "10             shapiroa@state.gov         9"
      ]
     },
     "execution_count": 6,
     "metadata": {},
     "output_type": "execute_result"
    }
   ],
   "source": [
    "aliases = pd.read_csv('hillary-clinton-emails/Aliases.csv')\n",
    "aliases.set_index([\"Id\"], drop=True, inplace=True)\n",
    "print(len(aliases))\n",
    "print(len(aliases.PersonId.unique()))\n",
    "aliases.head(10)"
   ]
  },
  {
   "cell_type": "markdown",
   "metadata": {},
   "source": [
    "`Aliases.csv` contains the different ways in which a person or organization from `Persons.csv` might appear in the email corpus. Using `unique()` we can validate that their are 513 unique `PersonId`s corresponding to the number of `Id`'s in `Persons.csv`."
   ]
  },
  {
   "cell_type": "code",
   "execution_count": 7,
   "metadata": {
    "collapsed": false
   },
   "outputs": [
    {
     "name": "stdout",
     "output_type": "stream",
     "text": [
      "9306\n",
      "7676\n",
      "418\n"
     ]
    },
    {
     "data": {
      "text/html": [
       "<div>\n",
       "<table border=\"1\" class=\"dataframe\">\n",
       "  <thead>\n",
       "    <tr style=\"text-align: right;\">\n",
       "      <th></th>\n",
       "      <th>EmailId</th>\n",
       "      <th>PersonId</th>\n",
       "    </tr>\n",
       "    <tr>\n",
       "      <th>Id</th>\n",
       "      <th></th>\n",
       "      <th></th>\n",
       "    </tr>\n",
       "  </thead>\n",
       "  <tbody>\n",
       "    <tr>\n",
       "      <th>1</th>\n",
       "      <td>1</td>\n",
       "      <td>80</td>\n",
       "    </tr>\n",
       "    <tr>\n",
       "      <th>2</th>\n",
       "      <td>2</td>\n",
       "      <td>80</td>\n",
       "    </tr>\n",
       "    <tr>\n",
       "      <th>3</th>\n",
       "      <td>3</td>\n",
       "      <td>228</td>\n",
       "    </tr>\n",
       "    <tr>\n",
       "      <th>4</th>\n",
       "      <td>3</td>\n",
       "      <td>80</td>\n",
       "    </tr>\n",
       "    <tr>\n",
       "      <th>5</th>\n",
       "      <td>4</td>\n",
       "      <td>80</td>\n",
       "    </tr>\n",
       "    <tr>\n",
       "      <th>6</th>\n",
       "      <td>5</td>\n",
       "      <td>81</td>\n",
       "    </tr>\n",
       "    <tr>\n",
       "      <th>7</th>\n",
       "      <td>6</td>\n",
       "      <td>185</td>\n",
       "    </tr>\n",
       "    <tr>\n",
       "      <th>8</th>\n",
       "      <td>7</td>\n",
       "      <td>80</td>\n",
       "    </tr>\n",
       "    <tr>\n",
       "      <th>9</th>\n",
       "      <td>8</td>\n",
       "      <td>81</td>\n",
       "    </tr>\n",
       "    <tr>\n",
       "      <th>10</th>\n",
       "      <td>9</td>\n",
       "      <td>80</td>\n",
       "    </tr>\n",
       "  </tbody>\n",
       "</table>\n",
       "</div>"
      ],
      "text/plain": [
       "    EmailId  PersonId\n",
       "Id                   \n",
       "1         1        80\n",
       "2         2        80\n",
       "3         3       228\n",
       "4         3        80\n",
       "5         4        80\n",
       "6         5        81\n",
       "7         6       185\n",
       "8         7        80\n",
       "9         8        81\n",
       "10        9        80"
      ]
     },
     "execution_count": 7,
     "metadata": {},
     "output_type": "execute_result"
    }
   ],
   "source": [
    "receivers = pd.read_csv('hillary-clinton-emails/EmailReceivers.csv')\n",
    "receivers.set_index([\"Id\"], drop=True, inplace=True)\n",
    "print(len(receivers))\n",
    "print(len(receivers.EmailId.unique()))\n",
    "print(len(receivers.PersonId.unique()))\n",
    "receivers.head(10)"
   ]
  },
  {
   "cell_type": "markdown",
   "metadata": {},
   "source": [
    "Out of the 7945 emails, `EmailReceivers.csv` has identified the receivers for 7676. \n",
    "\n",
    "Moreover, from `Emails.csv`, we can obtain the ID of the user with the column `SenderPersonId`. We can also use the column `ExtractedCc` to obtain additional users. However, mapping these entries to a person / organization in `Persons.csv` will require some extra works as we do not have the corresponding ID."
   ]
  },
  {
   "cell_type": "markdown",
   "metadata": {},
   "source": [
    "### Dictionary to map to nodes\n",
    "\n",
    "When given an ID or Alias, we want to be able to map it to a person / organization in `Persons.csv`. For this, we will create a dictionary."
   ]
  },
  {
   "cell_type": "code",
   "execution_count": 8,
   "metadata": {
    "collapsed": false
   },
   "outputs": [
    {
     "data": {
      "text/plain": [
       "513"
      ]
     },
     "execution_count": 8,
     "metadata": {},
     "output_type": "execute_result"
    }
   ],
   "source": [
    "to_node = {}\n",
    "for index, row in aliases.iterrows():\n",
    "    node_id = row.PersonId\n",
    "    node = persons.loc[node_id][0]\n",
    "    to_node[node_id] = node\n",
    "    to_node[row.Alias] = node\n",
    "    \n",
    "    # use \"Last Name, First Name\"\n",
    "    names = node.split()\n",
    "    if len(names) == 2:\n",
    "        to_node[names[1]+\", \"+names[0]] = node\n",
    "len(set(to_node.values()))"
   ]
  },
  {
   "cell_type": "markdown",
   "metadata": {},
   "source": [
    "A couple manual entries for aliases that were not included in `Aliases.csv`."
   ]
  },
  {
   "cell_type": "code",
   "execution_count": 9,
   "metadata": {
    "collapsed": false
   },
   "outputs": [],
   "source": [
    "# manual entries\n",
    "to_node[\"H\"] = 'Hillary Clinton'\n",
    "to_node[\"Sullivan, Jacob\"] = \"Jake Sullivan\""
   ]
  },
  {
   "cell_type": "markdown",
   "metadata": {},
   "source": [
    "### Extracting the nodes and edges\n",
    "\n",
    "By going through each email, we will extract the author and recipients and create a DataFrame with three columns. The columns will be:\n",
    "\n",
    "1. EmailId : corresponding to the `Id` in `Emails.csv` which is then mapped to a person with our `to_nodes` dictionary\n",
    "2. Author : corresponding to the `SenderPersonId` in `Emails.csv` which is then mapped to a person with our `to_nodes` dictionary\n",
    "3. Receiver(s) : obtained from `EmailReceivers.csv` and `ExtractedCc` of `Emails.csv`\n",
    "\n",
    "The `Author` and `Receiver` will be nodes in the graph and each row will be an edge."
   ]
  },
  {
   "cell_type": "code",
   "execution_count": 10,
   "metadata": {
    "collapsed": false
   },
   "outputs": [],
   "source": [
    "columns = ['EmailId','Author', 'Receiver']\n",
    "df_graph = pd.DataFrame(columns=columns)\n",
    "num_entries = 0\n",
    "\n",
    "# go through email and extract author and recipient(s)\n",
    "for email_id, row in emails.iterrows():\n",
    "\n",
    "    # extract author\n",
    "    sender_id = row.SenderPersonId\n",
    "    if not pd.isnull(sender_id):\n",
    "        author = to_node[sender_id]\n",
    "        if author == \"b6\": # classified author so no use\n",
    "            continue\n",
    "    else:\n",
    "        continue # won't be able to use it to build the graph\n",
    "    \n",
    "    # obtain receiver(s) for this particular ID\n",
    "    recp_ids = list(receivers[receivers.EmailId==email_id].PersonId)\n",
    "    recp = [to_node[p] for p in recp_ids]\n",
    "    \n",
    "    # extract those in CC\n",
    "    cced = row.ExtractedCc\n",
    "    try: # if multiple, recipients are separated by \";\"\n",
    "        cced = cced.split(\";\")\n",
    "        cced = [p.lstrip(' ') for p in cced]\n",
    "    except:\n",
    "        cced = list([cced])\n",
    "    \n",
    "    # try converting those in CC to node name\n",
    "    for idx in range(len(cced)):\n",
    "        try:\n",
    "            cced[idx] = to_node[cced[idx]]\n",
    "        except:\n",
    "            # perhaps of the form \"<Last Name>, <First Name> <Middle Initial>\" which is not in our dict\n",
    "            try: # extracting just last name and first name\n",
    "                full_name = cced[idx]\n",
    "                last_first = \" \".join(full_name.split()[:2])\n",
    "                cced[idx] = to_node[last_first]\n",
    "            except: pass\n",
    "    \n",
    "    # remove duplicates in Receiver(s) and CC\n",
    "    recp_cced = list(set(recp + cced))\n",
    "    \n",
    "    # add entry to our new dataframe\n",
    "    for receiver in recp_cced:\n",
    "        if receiver == \"b6\": # classified receiver so no use\n",
    "            continue\n",
    "        df_graph.loc[num_entries] = [int(email_id), author, receiver]\n",
    "        num_entries += 1"
   ]
  },
  {
   "cell_type": "code",
   "execution_count": 11,
   "metadata": {
    "collapsed": false
   },
   "outputs": [
    {
     "data": {
      "text/html": [
       "<div>\n",
       "<table border=\"1\" class=\"dataframe\">\n",
       "  <thead>\n",
       "    <tr style=\"text-align: right;\">\n",
       "      <th></th>\n",
       "      <th>EmailId</th>\n",
       "      <th>Author</th>\n",
       "      <th>Receiver</th>\n",
       "    </tr>\n",
       "  </thead>\n",
       "  <tbody>\n",
       "    <tr>\n",
       "      <th>1</th>\n",
       "      <td>1.0</td>\n",
       "      <td>Jake Sullivan</td>\n",
       "      <td>Hillary Clinton</td>\n",
       "    </tr>\n",
       "    <tr>\n",
       "      <th>2</th>\n",
       "      <td>3.0</td>\n",
       "      <td>Cheryl Mills</td>\n",
       "      <td>Hillary Clinton</td>\n",
       "    </tr>\n",
       "    <tr>\n",
       "      <th>3</th>\n",
       "      <td>3.0</td>\n",
       "      <td>Cheryl Mills</td>\n",
       "      <td>Huma Abedin</td>\n",
       "    </tr>\n",
       "    <tr>\n",
       "      <th>4</th>\n",
       "      <td>4.0</td>\n",
       "      <td>Cheryl Mills</td>\n",
       "      <td>Hillary Clinton</td>\n",
       "    </tr>\n",
       "    <tr>\n",
       "      <th>5</th>\n",
       "      <td>4.0</td>\n",
       "      <td>Cheryl Mills</td>\n",
       "      <td>Mitchell, Andrew B</td>\n",
       "    </tr>\n",
       "    <tr>\n",
       "      <th>7</th>\n",
       "      <td>5.0</td>\n",
       "      <td>Hillary Clinton</td>\n",
       "      <td>Huma Abedin</td>\n",
       "    </tr>\n",
       "    <tr>\n",
       "      <th>9</th>\n",
       "      <td>6.0</td>\n",
       "      <td>Hillary Clinton</td>\n",
       "      <td>Robert Russo</td>\n",
       "    </tr>\n",
       "    <tr>\n",
       "      <th>11</th>\n",
       "      <td>7.0</td>\n",
       "      <td>Cheryl Mills</td>\n",
       "      <td>Hillary Clinton</td>\n",
       "    </tr>\n",
       "    <tr>\n",
       "      <th>13</th>\n",
       "      <td>8.0</td>\n",
       "      <td>Hillary Clinton</td>\n",
       "      <td>Huma Abedin</td>\n",
       "    </tr>\n",
       "    <tr>\n",
       "      <th>15</th>\n",
       "      <td>9.0</td>\n",
       "      <td>Jake Sullivan</td>\n",
       "      <td>Hillary Clinton</td>\n",
       "    </tr>\n",
       "  </tbody>\n",
       "</table>\n",
       "</div>"
      ],
      "text/plain": [
       "    EmailId           Author            Receiver\n",
       "1       1.0    Jake Sullivan     Hillary Clinton\n",
       "2       3.0     Cheryl Mills     Hillary Clinton\n",
       "3       3.0     Cheryl Mills         Huma Abedin\n",
       "4       4.0     Cheryl Mills     Hillary Clinton\n",
       "5       4.0     Cheryl Mills  Mitchell, Andrew B\n",
       "7       5.0  Hillary Clinton         Huma Abedin\n",
       "9       6.0  Hillary Clinton        Robert Russo\n",
       "11      7.0     Cheryl Mills     Hillary Clinton\n",
       "13      8.0  Hillary Clinton         Huma Abedin\n",
       "15      9.0    Jake Sullivan     Hillary Clinton"
      ]
     },
     "execution_count": 11,
     "metadata": {},
     "output_type": "execute_result"
    }
   ],
   "source": [
    "df_graph.dropna(inplace=True)\n",
    "df_graph.head(10)"
   ]
  },
  {
   "cell_type": "markdown",
   "metadata": {},
   "source": [
    "The `Author` entries seem fine (output suppressed below) but when we look at the `Receiver` entries, they seem to need to processing."
   ]
  },
  {
   "cell_type": "code",
   "execution_count": 12,
   "metadata": {
    "collapsed": false
   },
   "outputs": [
    {
     "name": "stdout",
     "output_type": "stream",
     "text": [
      "125\n"
     ]
    }
   ],
   "source": [
    "print(len(df_graph.Author.value_counts()))\n",
    "# df_graph.Author.value_counts()"
   ]
  },
  {
   "cell_type": "markdown",
   "metadata": {},
   "source": [
    "However, the `Receiver` entries need a bit of cleaning due to our decision of including `ExtractedCc`. (Output suppressed below)."
   ]
  },
  {
   "cell_type": "code",
   "execution_count": 13,
   "metadata": {
    "collapsed": false
   },
   "outputs": [
    {
     "name": "stdout",
     "output_type": "stream",
     "text": [
      "1235\n"
     ]
    }
   ],
   "source": [
    "print(len(df_graph.Receiver.value_counts()))\n",
    "#df_graph.Receiver.value_counts()"
   ]
  },
  {
   "cell_type": "markdown",
   "metadata": {},
   "source": [
    "We see a variety of forms of \"Jiloty\", \"Sullivan\", \"Mills\", \"Valmoro\" and \"Huma\" which definitely seem to be the common recipients in this email corpus. Let's go ahead and fix such entries."
   ]
  },
  {
   "cell_type": "code",
   "execution_count": 14,
   "metadata": {
    "collapsed": false
   },
   "outputs": [],
   "source": [
    "# manual edits\n",
    "df_graph_clean = df_graph.copy()\n",
    "count = 0\n",
    "for index, row in df_graph_clean.iterrows():\n",
    "    if \"jiloty\" in row.Receiver:\n",
    "        row.Receiver = \"Lauren Jiloty\"\n",
    "        df_graph_clean.loc[index] = row\n",
    "    if \"valmor\" in row.Receiver:\n",
    "        row.Receiver = \"Lona Valmoro\"\n",
    "        df_graph_clean.loc[index] = row\n",
    "    if \"mills\" in row.Receiver:\n",
    "        row.Receiver = \"Cheryl Mills\"\n",
    "        df_graph_clean.loc[index] = row\n",
    "    if \"sullivan\" in row.Receiver:\n",
    "        count += 1\n",
    "        row.Receiver = \"Jake Sullivan\"\n",
    "        df_graph_clean.loc[index] = row\n",
    "    if \"huma\" in row.Receiver:\n",
    "        count += 1\n",
    "        row.Receiver = \"Huma Abedin\"\n",
    "        df_graph_clean.loc[index] = row"
   ]
  },
  {
   "cell_type": "code",
   "execution_count": 15,
   "metadata": {
    "collapsed": false
   },
   "outputs": [
    {
     "name": "stdout",
     "output_type": "stream",
     "text": [
      "1120\n"
     ]
    }
   ],
   "source": [
    "print(len(df_graph_clean.Receiver.value_counts()))\n",
    "#df_graph_clean.Receiver.value_counts()"
   ]
  },
  {
   "cell_type": "markdown",
   "metadata": {},
   "source": [
    "That's better but there are still some problems. Howevoer, fixing everything would be much too tedious. Let's simply remove those rows whose `Receiver` entry is not in `Persons.csv` (as these will be our nodes)."
   ]
  },
  {
   "cell_type": "code",
   "execution_count": 16,
   "metadata": {
    "collapsed": true
   },
   "outputs": [],
   "source": [
    "import numpy as np"
   ]
  },
  {
   "cell_type": "code",
   "execution_count": 17,
   "metadata": {
    "collapsed": false
   },
   "outputs": [],
   "source": [
    "df_graph_clean_nodes = df_graph_clean.copy()\n",
    "nodes = set(to_node.values())\n",
    "count = 0\n",
    "for index, row in df_graph_clean_nodes.iterrows():\n",
    "    if row.Author not in nodes:\n",
    "        row.Author = np.nan\n",
    "    if row.Receiver not in nodes:\n",
    "        row.Receiver = np.nan\n",
    "    df_graph_clean_nodes.loc[index] = row"
   ]
  },
  {
   "cell_type": "code",
   "execution_count": 18,
   "metadata": {
    "collapsed": false
   },
   "outputs": [
    {
     "name": "stdout",
     "output_type": "stream",
     "text": [
      "2162 were dropped out of 13481\n"
     ]
    }
   ],
   "source": [
    "df_graph_clean_nodes.dropna(inplace=True)\n",
    "print(\"%d were dropped out of %d\" % (df_graph_clean.shape[0]-df_graph_clean_nodes.shape[0], df_graph_clean.shape[0]))"
   ]
  },
  {
   "cell_type": "markdown",
   "metadata": {},
   "source": [
    "Let's save this with pickle."
   ]
  },
  {
   "cell_type": "code",
   "execution_count": 19,
   "metadata": {
    "collapsed": true
   },
   "outputs": [],
   "source": [
    "import pickle\n",
    "#pickle.dump( df_graph_clean_nodes, open( \"df_graph_clean_nodes.p\", \"wb\" ) )"
   ]
  },
  {
   "cell_type": "code",
   "execution_count": 20,
   "metadata": {
    "collapsed": false
   },
   "outputs": [
    {
     "name": "stdout",
     "output_type": "stream",
     "text": [
      "11319\n"
     ]
    },
    {
     "data": {
      "text/html": [
       "<div>\n",
       "<table border=\"1\" class=\"dataframe\">\n",
       "  <thead>\n",
       "    <tr style=\"text-align: right;\">\n",
       "      <th></th>\n",
       "      <th>EmailId</th>\n",
       "      <th>Author</th>\n",
       "      <th>Receiver</th>\n",
       "    </tr>\n",
       "  </thead>\n",
       "  <tbody>\n",
       "    <tr>\n",
       "      <th>1</th>\n",
       "      <td>1.0</td>\n",
       "      <td>Jake Sullivan</td>\n",
       "      <td>Hillary Clinton</td>\n",
       "    </tr>\n",
       "    <tr>\n",
       "      <th>2</th>\n",
       "      <td>3.0</td>\n",
       "      <td>Cheryl Mills</td>\n",
       "      <td>Hillary Clinton</td>\n",
       "    </tr>\n",
       "    <tr>\n",
       "      <th>3</th>\n",
       "      <td>3.0</td>\n",
       "      <td>Cheryl Mills</td>\n",
       "      <td>Huma Abedin</td>\n",
       "    </tr>\n",
       "    <tr>\n",
       "      <th>4</th>\n",
       "      <td>4.0</td>\n",
       "      <td>Cheryl Mills</td>\n",
       "      <td>Hillary Clinton</td>\n",
       "    </tr>\n",
       "    <tr>\n",
       "      <th>7</th>\n",
       "      <td>5.0</td>\n",
       "      <td>Hillary Clinton</td>\n",
       "      <td>Huma Abedin</td>\n",
       "    </tr>\n",
       "    <tr>\n",
       "      <th>9</th>\n",
       "      <td>6.0</td>\n",
       "      <td>Hillary Clinton</td>\n",
       "      <td>Robert Russo</td>\n",
       "    </tr>\n",
       "    <tr>\n",
       "      <th>11</th>\n",
       "      <td>7.0</td>\n",
       "      <td>Cheryl Mills</td>\n",
       "      <td>Hillary Clinton</td>\n",
       "    </tr>\n",
       "    <tr>\n",
       "      <th>13</th>\n",
       "      <td>8.0</td>\n",
       "      <td>Hillary Clinton</td>\n",
       "      <td>Huma Abedin</td>\n",
       "    </tr>\n",
       "    <tr>\n",
       "      <th>15</th>\n",
       "      <td>9.0</td>\n",
       "      <td>Jake Sullivan</td>\n",
       "      <td>Hillary Clinton</td>\n",
       "    </tr>\n",
       "    <tr>\n",
       "      <th>17</th>\n",
       "      <td>11.0</td>\n",
       "      <td>Jake Sullivan</td>\n",
       "      <td>Hillary Clinton</td>\n",
       "    </tr>\n",
       "    <tr>\n",
       "      <th>19</th>\n",
       "      <td>13.0</td>\n",
       "      <td>Jake Sullivan</td>\n",
       "      <td>Hillary Clinton</td>\n",
       "    </tr>\n",
       "    <tr>\n",
       "      <th>21</th>\n",
       "      <td>14.0</td>\n",
       "      <td>Anne-Marie Slaughter</td>\n",
       "      <td>Hillary Clinton</td>\n",
       "    </tr>\n",
       "    <tr>\n",
       "      <th>23</th>\n",
       "      <td>15.0</td>\n",
       "      <td>Cheryl Mills</td>\n",
       "      <td>Hillary Clinton</td>\n",
       "    </tr>\n",
       "    <tr>\n",
       "      <th>25</th>\n",
       "      <td>16.0</td>\n",
       "      <td>Harold Hongju Koh</td>\n",
       "      <td>Hillary Clinton</td>\n",
       "    </tr>\n",
       "    <tr>\n",
       "      <th>26</th>\n",
       "      <td>17.0</td>\n",
       "      <td>Wendy Sherman</td>\n",
       "      <td>Jake Sullivan</td>\n",
       "    </tr>\n",
       "  </tbody>\n",
       "</table>\n",
       "</div>"
      ],
      "text/plain": [
       "    EmailId                Author         Receiver\n",
       "1       1.0         Jake Sullivan  Hillary Clinton\n",
       "2       3.0          Cheryl Mills  Hillary Clinton\n",
       "3       3.0          Cheryl Mills      Huma Abedin\n",
       "4       4.0          Cheryl Mills  Hillary Clinton\n",
       "7       5.0       Hillary Clinton      Huma Abedin\n",
       "9       6.0       Hillary Clinton     Robert Russo\n",
       "11      7.0          Cheryl Mills  Hillary Clinton\n",
       "13      8.0       Hillary Clinton      Huma Abedin\n",
       "15      9.0         Jake Sullivan  Hillary Clinton\n",
       "17     11.0         Jake Sullivan  Hillary Clinton\n",
       "19     13.0         Jake Sullivan  Hillary Clinton\n",
       "21     14.0  Anne-Marie Slaughter  Hillary Clinton\n",
       "23     15.0          Cheryl Mills  Hillary Clinton\n",
       "25     16.0     Harold Hongju Koh  Hillary Clinton\n",
       "26     17.0         Wendy Sherman    Jake Sullivan"
      ]
     },
     "execution_count": 20,
     "metadata": {},
     "output_type": "execute_result"
    }
   ],
   "source": [
    "df_graph_clean_nodes = pickle.load( open( \"df_graph_clean_nodes.p\", \"rb\" ) )\n",
    "print(len(df_graph_clean_nodes))\n",
    "df_graph_clean_nodes.head(15)"
   ]
  },
  {
   "cell_type": "markdown",
   "metadata": {},
   "source": [
    "# Build communication graph"
   ]
  },
  {
   "cell_type": "markdown",
   "metadata": {},
   "source": [
    "We build a communication graph by adding nodes and edges. Every node represents a person, with its name as the ID of the name. Every edge connects two people who have sent emails to each other."
   ]
  },
  {
   "cell_type": "markdown",
   "metadata": {},
   "source": [
    "We build a set of persons from email authors and receivers."
   ]
  },
  {
   "cell_type": "code",
   "execution_count": 21,
   "metadata": {
    "collapsed": true
   },
   "outputs": [],
   "source": [
    "persons = set()\n",
    "for email_id, row in df_graph.iterrows():\n",
    "    persons.add(row.Author)\n",
    "    persons.add(row.Receiver)"
   ]
  },
  {
   "cell_type": "markdown",
   "metadata": {},
   "source": [
    "We create a graph and add nodes from persons."
   ]
  },
  {
   "cell_type": "code",
   "execution_count": 22,
   "metadata": {
    "collapsed": false
   },
   "outputs": [],
   "source": [
    "G = nx.Graph()\n",
    "G.add_nodes_from(persons)"
   ]
  },
  {
   "cell_type": "markdown",
   "metadata": {},
   "source": [
    "We add edge for the author and receiver of every email."
   ]
  },
  {
   "cell_type": "code",
   "execution_count": 23,
   "metadata": {
    "collapsed": true
   },
   "outputs": [],
   "source": [
    "for email_id, row in df_graph.iterrows():\n",
    "    G.add_edge(row.Author, row.Receiver)"
   ]
  },
  {
   "cell_type": "markdown",
   "metadata": {},
   "source": [
    "# Partition graph into communities"
   ]
  },
  {
   "cell_type": "markdown",
   "metadata": {},
   "source": [
    "We adopted the standard code for getting a best partion of a graph. The partition is represented as a map, mapping person to its community ID. We draw the communication graph to see communities clearly."
   ]
  },
  {
   "cell_type": "code",
   "execution_count": 24,
   "metadata": {
    "collapsed": false
   },
   "outputs": [
    {
     "data": {
      "image/png": "[encoded data removed]",
      "text/plain": [
       "<matplotlib.figure.Figure at 0x7ff250228f98>"
      ]
     },
     "metadata": {},
     "output_type": "display_data"
    }
   ],
   "source": [
    "#first compute the best partition\n",
    "partition = community.best_partition(G)\n",
    "\n",
    "#drawing\n",
    "size = float(len(set(partition.values())))\n",
    "pos = nx.spring_layout(G)\n",
    "count = 0.\n",
    "for com in set(partition.values()) :\n",
    "    count = count + 1.\n",
    "    list_nodes = [nodes for nodes in partition.keys()\n",
    "                                if partition[nodes] == com]\n",
    "    nx.draw_networkx_nodes(G, pos, list_nodes, node_size = 20,\n",
    "                                node_color = str(count / size))\n",
    "\n",
    "\n",
    "nx.draw_networkx_edges(G,pos, alpha=0.5)\n",
    "plt.show()"
   ]
  },
  {
   "cell_type": "markdown",
   "metadata": {},
   "source": [
    "The partition is represented as a map, mapping person to its community ID. We derive a reverse dictionary to store persons of each community. The dictionary community_to_persons maps community ID to a set of persons. We choose to use set instead of list, because it is unordered and has faster performance for operations like lookup."
   ]
  },
  {
   "cell_type": "code",
   "execution_count": 25,
   "metadata": {
    "collapsed": true
   },
   "outputs": [],
   "source": [
    "# given partition: name -> community\n",
    "# build community_to_persons: community_id -> names\n",
    "community_to_persons = {}\n",
    "for person, community_id in partition.items():\n",
    "    if community_id not in community_to_persons:\n",
    "        community_to_persons[community_id] = set()\n",
    "    else:\n",
    "        community_to_persons[community_id].add(person)"
   ]
  },
  {
   "cell_type": "markdown",
   "metadata": {},
   "source": [
    "We see the graph is partitioned into 20 communities."
   ]
  },
  {
   "cell_type": "code",
   "execution_count": 26,
   "metadata": {
    "collapsed": false,
    "scrolled": false
   },
   "outputs": [
    {
     "name": "stdout",
     "output_type": "stream",
     "text": [
      "community 0, number of people: 50\n",
      "community 1, number of people: 186\n",
      "community 2, number of people: 2\n",
      "community 3, number of people: 48\n",
      "community 4, number of people: 292\n",
      "community 5, number of people: 31\n",
      "community 6, number of people: 297\n",
      "community 7, number of people: 190\n",
      "community 8, number of people: 44\n",
      "community 9, number of people: 69\n",
      "community 10, number of people: 25\n",
      "community 11, number of people: 1\n",
      "community 12, number of people: 6\n",
      "community 13, number of people: 3\n",
      "community 14, number of people: 1\n",
      "community 15, number of people: 2\n",
      "community 16, number of people: 4\n",
      "community 17, number of people: 2\n",
      "community 18, number of people: 1\n",
      "community 19, number of people: 1\n",
      "community 20, number of people: 1\n"
     ]
    }
   ],
   "source": [
    "for community_id, persons in community_to_persons.items():\n",
    "    print('community ' + str(community_id) + ', number of people: ' + str(len(persons)))"
   ]
  },
  {
   "cell_type": "markdown",
   "metadata": {},
   "source": [
    "Let's print the full set of persons for each community."
   ]
  },
  {
   "cell_type": "code",
   "execution_count": 27,
   "metadata": {
    "collapsed": false
   },
   "outputs": [
    {
     "name": "stdout",
     "output_type": "stream",
     "text": [
      "community 0, number of people: 50\n",
      "{'christinefalvo', 'cheryl.mill abedin huma', 'Melanne Verveer', 'Goshko, Matt E', 'Betsy Ebeling', 'habedin', 'Hum Abedin', 'Joanne Laszczych', 'psolisdoylE', 'Maggie Williams', 'H2 <hr15@att.blackberry.net>', 'Blayne Allard, Alice A', 'Kaiser, Sandra L', 'hume abedin', \"'cheryl.mill cheryl.mills 'pvervee\", \"'sbwhoeop <sbwhoeor\", 'Claire Coleman', 'Abediri, Huma', 'Luzzatto', 'ValmoroU@state.gov <ValmoroU@state.gov>', 'Faithdav6', 'huma abed in', 'Heg, James T.', 'Lona Valmoro', 'abedinh@state.gov <abedinh@state.gov>', 'cheryl.mill.', 'jpier4', 'crowleyp  state ov. preines', \"'Russorv@state.gov'\", \"'ValmoroU@state.gov' <ValmoroU@state.gov>\", 'H <HDR22@clintonemail.com>', 'Robert Russo', 'HAbedin', 'Bonnie Klehr', \"'Dan Delaney Jr.'\", 'Palmer, Christopher G', 'Maria McFarland', 'vanbuskirk michael .3', 'Monica Hanley', 'Doug Hattaway', 'Robert Blake', 'abdinh@state.gov', 'bonnie klehr', 'Dean, Nicholas J', 'Abet:lin, Huma', 'PVervee', 'Hume Abedin', 'Mayhew, Sarah-Jane', 'LEIVE, CINDI', \"'Fr Alex Karloutsos'\"}\n",
      "\n",
      "community 1, number of people: 186\n",
      "{'valmorou©state.gov.', 'H <hdr22@clintonemail.com>', 'SES-O_Shift-11', 'B6', 'Huma Abedin', 'Leach, Kirk A', 'Mattern, Daniel S', 'Ortiz, Katherine I', 'Abedin, Hunna', 'NEWS-SCA', '5ES-0_05', 'Ensor, David B', 'SES_PutyDeputies', 'Arola, Heidi R', 'Crosby, Colin T', 'woodardew@state.gov', 'sullivanii@state.gov', 'Tsou, Leslie M', 'ValmoroU@state.gov', 'Gina Glantz', 'betsyebeling105C', 'Dressel, Abigail L.', 'SES-Line_UNGA', 'Tomlinson, Christina', 'Burns Strider', 'filotylc@state.gov', 'Shampaine, Nicole D', 'Maria Le', 'Turner,', 'valmorol1@state.gov', 'NEWS-NEA', 'ian1evqr@state.gov', 'Morales Jr, Hector E', 'SES-O_Shlft-III', 'Kubiske, Lisa', 'Bitter, Rena', 'Karl Eikenberry', 'Culver, Chris D', 'Welk, Alice G', 'PA FO Group', 'Owen, Michael S', 'Seiden, Maya D', 'Anne Lyons', 'NEWS-Afghanistan', 'hanieymr@state.gov', 'Perla, Laura', 'DeBaere, Judes E', 'SES-0_08', 'SES-0 SWO', 'valmoroll@state.gov', 'Robinson, David M', 'Eric Woodard', 'Cook, Nerissa', 'SES-0_Shift-11', 'luzzatt', 'valmorou©state.gov', 'Loh, Anthony X', 'SES-0_OS', 'Rosemarie Howe', 'SES-O_ShIft-H', 'S_SpecialAssistants <S_SpecialAssistants@state.gov>', 'Jones, Stuart', 'Cheryl D', 'Pershing, Jonathan', 'Fitzpatrick, Kathleen M', 'Kozlowski, Thomas G', 'Kidwell, Michael R', 'Shaker, Joan P', 'Aguilera, Patricia', 'Webster, Christopher W', 'M_SpecialAssistants', 'irussorv@state.gov', 'Bennett, Virginia L', 'SES-O_Shift-Ill', 'Lourdes Cue', 'Bagley, Elizabeth F', 'SES-O_Shift-I1', 'Bando, Jun', 'valmorou@state.gov', 'Susan Rice', 'SES-0 OS', 'Task Force Honduras', 'Lakhdhir, Kamala S (Belfast)', 'rosemarie howe', 'laurenjiloty jilotylc@state.gov', 'Pease, Leah M', 'Sullivan, Stephanie S', 'SWO', 'Henshaw, Simon', 'Oscar Flores', 'Gatz, Karen L', 'valmoroll@state.gov.', 'mh.interiors', 'Kaidanow, Tina S', 'Jonathan Prince', 'Lan, Melissa', 'NEWS-CA', 'NEWS-Russia', 'Smith, Daniel B', 'Martin, Elizabeth K', 'SES-O_Shift-111', '5ES-0_5111ft-III', 'Mark Hyman', 'Begley, Valerie', 'Moy, Kin W', 'SES-OShift-11', 'sullivanjj@state.gov.', 'Moon, Patrick S', 'preines pverveer', 'Bitner, Steven R', 'Fitzgerald, William E', 'Restrepo Dan', 'Turk, David M', 'Connelly, Maura 1.4(B)', 'jon davidson', 'SES-0_Shift-111', 'Abedln, Huma', \"'MillsCD@state.gov.\", 'Lukens, Lewis A', 'valmorou@state.goy', 'S_SpecialAssistants', 'Gonzalez, Juan 5', 'Adler, Michael 3', 'Pasi, Geeta', 'sullivanii@state.gov.', 'White, Terry J', 'DS Command Center', 'SES-0 Shift-II', 'McGovern, Bridget (Helen-Mary)', 'Justin Cooper', 'Kaidanow, Tina 5', 'SES-O_SWO-Only', 'Lowe, Matthew D', 'NEWS-SCT', 'valmorou@state.gov.', 'SES-QShift-I', 'hannah richert', 'EAP-FO-Office-DL', 'SES-O_ShIft-111', 'Sommers, Scott E', 'NEWS-Sudan', 'justin cooper', 'Courtney Beale', 'NEWS-Iran', 'Rana, Gautam A', 'Killion, David T', 'Tueller, Matthew H', 'NEWS-Mahogany', 'Oscar Lores', 'Donald', 'sullivanii@state.govr', 'valmorou state. ov', 'SES-O_Shift-H', 'Adler, Clay K', 'NEA-Staff-Assistants-DL', 'cheryl.mills Mills, Cheryl D', 'campbelikm@state.gov', \"'declan.kelly\", 'SES-O_Shift-11I', 'hai', 'NEWS-SC', 'SES-O_ShIft-III', 'preines verveerms@state.gov', 'NEWS-Pakistan', 'Maria Calivis', 'kritenbrink daniel j', 'Hadda, Katherine B', 'Lee Brown', 'Morgan, Jack A', \"'Shah, Shivam Ma!lick' <\", 'Feeley, John D (Mexico City)', \"'ValmoroU@state.gov'\", 'S_SpeclalAssigants', \"'SullivanJJ@state.gov'\", 'S ES-0_5h ift-II', 'Narain, Paul F', 'rosemarie.howe h', 'valmdrou@state.gov', \"'sbwhoeop\", 'NEWS-WHA', 'rrh.interiors', 'Sanchez, Mauricio X', 'SES-O_Shift-1', 'Carpenter, Margaret V.W.', 'Meier, Edward F', 'Bernier-Toth, Michelle'}\n",
      "\n",
      "community 2, number of people: 2\n",
      "{'United States of America', 'Govenman Etazini'}\n",
      "\n",
      "community 3, number of people: 48\n",
      "{'cdm', 'Doug Band', 'MillsCD@state.gov', 'millscd©state.gov', 'Laurie Rubiner', 'lake.sullivan', 'M. Albright', 'CEA <AdlerCE@state.gov>', 'doug band', 'Adler Caroline E', 'megrooney(', 'Caroline Adler', 'sid blumenthal', 'PJ', 'cheryl.mill', 'SullivanJJ@state.gov <SullivanJJ@state.gov>', 'CDM', 'SullivanJJ@state.gov <Sullivanil@state.gov>', 'doua band', 'MillsCD@state.gov <MillsCD@state.gov>', \"'gordonph@state.gov' <gordonph@state.gov>\", \"'sullivanjj@state.gov' <sullivanjj@state.gov>\", \"'sullivanjj@state.gov'\", 'lona valmoro', 'COM', 'pj', 'Cheryl.mills(', 'Phillip Crowley', 'SES-O_OS', \"'pvervee\", 'Sidney Blumenthal', 'Diane Reynolds', 'Sullivanil@state.gov', 'Philippe Reines', 'sullivanjj@state.gov <sullivanjj@state.gov>', 'Thomas Nides', 'Reines Philippe', 'declan kelly', \"'DaalderlH@state.gov' <DaalderIH@state.gov>\", 'cheryl.mills pverveer', 'MilIsCD@state.gov', 'cheryl.mills _', 'HanleyMR@state.gov', 'Lona Valmoro <ValmoroU@state.gov>', 'reinesp@state.gov <reinesp@state.gov>', \"'hanleymr@state.gov'\", 'Sullivann@state.gov <SullivanJJ@state.gov>', 'Jake Sullivan <'}\n",
      "\n",
      "community 4, number of people: 292\n",
      "{'Lu, Christopher P. _ Smith, Elizabeth S.', 'Foote, Daniel L', 'McPartland, Suzanne', \"'Chang, Benjamin'\", 'Simons, Paul E (Santiago)', 'Nelson, David D', 'Donovan, Patrick D', 'Benton, Cheryl A (Special Use Only)', 'WikiLeaks WG', 'williamsbarrett Minyon Moore', 'Kahn, Carol R', 'Cassidy, Joseph P', 'Peria, Laura', 'Polt, Michael C', 'Mills,', 'Warnholz, Jean-Louis', 'Graze, Deborah E', 'McGlynn,', 'Torres, Susan', 'Colby Cooper', 'Rayburn, Dorothy J', \"'oterom3\", 'Lew,', 'McMullen, Christopher 1', 'jonrdavidson', 'Chitre, Nanda S', 'Dowd, Katie W', 'LGraham', 'Goosby, Eric', 'Deeks, Ashley S', 'ToivNF@state.gov', 'Cheng, Dennis W', 'Pressfield, Justin C', \"'Abedin, Huma' <AbedinH@state.gov>\", 'Mathias, Stephen', 'cmarshal', 'Marline Alexis', 'williamsbarre0', '\"Marshall, Capricia P\" <MarshalICP@state.gov>', 'Steinberg,', 'Laila Kesya Tavares De Lima', \"'Carpenter, Margaret V.W.\", 'Goldberg, Philip S', 'Korycki, Leonard 3', 'laszczychj@state.gov', 'Laszczych, Joanne<Laszczych.l@state.gov>', 'Gabriel Verret', ': Toiv, Nora F', 'Davisson, Brandon', 'Cheryl Millsl ', 'SES-0 Shift-I', 'Smith, Jeannemarie E', 'Ratney, Michael A', 'Pena, Laura', 'Jake.Sullivan', 'Nelson, Drew S (OES)', 'Masonis, Melinda J', 'Coley, Theodore R', 'Jackson, Marjorie W', 'Macmanus, Joseph E (S)', 'Samuelson, Heather F', 'Labowitz, Sarah', 'Kim, Yuri 3', 'Cheryl Mills <millscd@state.gov>', 'Tesoner Mark', 'Benda, Susan', 'Brigety, Reuben', 'Cheryl Mills]', \"'Joyce, Sean M.'\", 'jim kennedy', 'Ian Kelly', 'Laszczych, Joanne<LaszczychJ@state.gov>', 'Haines, Avril', 'Hyland, Jason P', 'Fedoroff, Nina V (STAS)', 'Pella, Laura', 'Philbin, Christo her', 'edwards christopher (jakarta/pro)', 'Warren, Wade', 'Trivelli, Paul A AMB USSOUTHCOM/SC-CC (L)', \"'Nora Toiv'\", 'Ohtagaki,', 'Powers, Roberto', 'Nose, Frank A', 'Donoghue, Joan E', 'Breese, Terry A', 'Jim Kennedy', '<jIlichtmar ', 'McLean, Lori A', 'berniertoth michelle', 'Abechn, Huma', 'S_SpecialAssistarits', 'Driano, Susan 3', 'Browning, Steve A', 'Lomellin, Carmen', 'Thomas, Harry K (Director General)', 'Rodriguez, Karen M', '.', 'Sullivan, Jacob)', 'Kim, Sung Y', 'Brennan, John B', \"'Sobel, Charlie'\", 'millscd@state.gov <millscd@state.gov>', 'Smith,', 'Parker, Emily', 'Shortley, Timothy R', 'Tueller, Matthew Fl', 'Anderson, Roger W', 'MacInnes, Duncan H', 'Buhl, Cindy', 'CA Taskforce', 'alec.ross', 'Paradiso,', 'Mitchell, Andrew B', 'Loraine Mangones', 'Dowd, Katie', 'Shah, Khushali P', \"'Gray, Eugene'\", 'Kagan, Edgard D', 'Thessin, James H', 'Holmstrom, Todd C', 'cheryl.mills B6', 'G. Lou de Bac', 'Rose, Frank A', 'ToivNF@state.gov <ToivNF@state.gov>', 'Boswell, Eric 3', 'Bobo, Jack A', 'Bellegarde, Daniel P', \"'Dana Hyde'\", 'ECA_PE_C_PY', \"'Michael Guest'\", 'Greene, Richard L', 'Juliana Paes De Castro', 'Zeya, Uzra S', \"'Abedin, Huma'\", 'Benning, Douglass R', 'Koh, Harold Hong,ju', 'steinberg james', 'Spector, Phillip M', 'il', 'TaskForce-1', 'maggie williams', 'Lurie, Mike D', 'To iv, Nora F', 'Kennedy, J Christian', 'Caroline.Adler Mills, Cheryl D', 'Harris, Jennifer D', 'Lavy, Brendan L', 'Lalisa Froeder Dittrich', 'DeMarcellus, Roland F', 'Robinson, Stephanie L', 'Siemer, Marguerite E', 'Prosser, Sarah E', 'Mehlenbacher, Kelly J', 'Simon, Jessica L', 'Dinger, John R', 'SES_4', 'Lanier, Jerry P (Kampala)', 'pcharron', 'Stella Freitas Chamarelli', 'Sierawski, Clare X', 'Curtis, Meghann A', \"'bnolan\", 'cmills', 'Bass, Warren', 'Canegallo Kristie A.', 'Bommer,', \"O'Connell, Andrew M\", 'Davidow, Jeffrey S', 'SES-03WO', 'Fleming, John T', 'Richardson, Eric N', 'Ross, Alec 1', 'Thompson, Hillary C', 'Cheryl Mills1', 'Sullivan, John C (INL/PC)', 'Brown, Paul A (E)', \"'Verma, Richard'\", 'Arzt, JoAnne', 'Rooney, Matthew M', 'Ryan, Ann M', \"'Susan Merten'\", 'Haslach, Patricia M', 'Wayne, E Anthony', 'Maura Pally', 'heather.samuelson', 'Russell, Daniel A', 'Johnson, Brock A', 'Hume, Cameron', 'Mary Podesta', 'John Sachs', 'Rene Preval', 'Brennan, John 0.', 'williamsbarret', 'Urban, Carol (Santiago)', 'reines philippe t', 'lgraham doug band', 'Wood, Robert A (PACE)', \",'\", 'Rademacher, Paul R', 'Singh, Vikram 3', 'Conklin, Maegan L', 'capricia penavic marshall', 'Pierce, Thomas 3N', 'Caitlin Klevorick <KlevorickCB@state.gov>', \"Sullivan, Jacob.'\", \"'Alexandre, Carl'\", \"'Mills, Cheryl D' <MillsCD@state.gov>\", 'Christopher Edwards', 'Lorenz, Andrew R', 'Carpenter, Margaret V.W', 'Byrnes, Robert S', 'Merten, Kenneth H', \"'Johnson, Dann', Starke, Petra\", 'Adams, David S', 'Jones-Johnson, Carolyn D', 'Blakeman, Chat (01G)', 'Lindwall, David E', 'Boyer, Spencer P', 'Plowden, Marisa L', 'cheryl.mill1', 'Rudman,', 'PA RRU', 'Sincavage, Justine M', 'Patel, Shraddha', 'Patel, Mira D', 'Ross, Alec 3', 'Stremlau, Matthew H', 'Jacobs, Susan S', 'Alford, Edward M (Ned)', 'Boland, Matthew H', 'Abbaszadeh, Nima', 'McKean, Margaret B', 'Ogden, Peter R', 'Sprague, Brenda S', 'Traci Carpenter', 'Macmanus, Joseph E (S[)ialAssistants', 'Amselem, W Lewis', 'sawsanhassan1', 'Smitham, Thomas D', 'Ross, Alec J', 'Eichensehr, Kristen E', 'Helfet<', 'Duguid, Gordon K (PACE)', 'Kastenberg, Rachel L (OES)', 'Misko, Sean A', 'Hammer, Michael A', 'Davies, Glyn T', 'Bakshi, Amar', 'Arvizu, Alex A', 'Alba, Joann G', 'Stanton, Katie', 'Diminuco, Steven L', 'Barton, Rick (USUN)', 'Cheryl Mills', 'NEWS-H', 'Friedrich, Mary K', 'Pittman, Susan R (INL)', 'Echard, John E Jr', \"'Jake Sullivan'\", 'Keays, Michael C', 'Bordley, Donna', 'Wharton, David B', 'Buhl, Cindy <Cindy.BuhlOmail.house.gov>', \"Mark D'Sa\", 'Nossel, Suzanne F', 'otero mildred (clinton)', 'EEB-A-MTAA-MTA-DL', 'coley theodore r', 'Toner, Mark C', 'Dick Gephardt', 'Brownfield, William R', 'Beverley.Tempest', 'De Pirro, Velia M', 'LaurenjilotY', 'Suzanne Grantham', 'John Olver', 'Hoyle, Peggy A', 'stanton katie', 'Ensher, Henry S', 'Marciel, Scot A', 'Desaultes, Eric E', 'Kirby, Michael D', 'Lindsey, Bruce', \"'Cheryl Mills'\", 'Malin, Mary Catherine', 'Macray, Rosemary R', 'Moore, Joanne C (PA/PRS) (PACE)', 'jcooper', 'Michele Bond', 'Johnson, Clifton M', 'Cohen, Jared A'}\n",
      "\n",
      "community 5, number of people: 31\n",
      "{'townley stephen g', 'H2', 'Sullivan, Jacobi', 'Ross, ommy eid) <Tommy_Ross@reid.senate.gov>', 'lew jacobi', 'Richard Verma', 'Moncrief, Benjamin (LeMieux) <Benjamin_Moncrief@LeMieux.senate.gov>', 'Jennifer Robinson', 'lew jacob i', 'Laurenjilot', 'Jeffrey Feltman', 'johnson clifton m', 'tones susan', 'Janice Jacobs', 'torres susan', 'Ohad Cohen', 'Fogarty, Daniel 3', 'Ostermeier, Amy A', 'Gonzalez, Juan S', 'Arturo Valenzuela', 'Townley, Stephen G', 'Enav, Cari R', 'Lewis, Jessica (Reid)', 'adams david s', 'William Burns', 'Sullivan, Jacobi ,', 'Robert Hormats', 'jake.sullivan h', 'eichensehr kristen e', 'Macmanus, Joseph E', 'hooke kathleen h'}\n",
      "\n",
      "community 6, number of people: 297\n",
      "{'cheryl.mills millscd@state.gov', 'sta i bott', 'russoiv@state.gov', 'val moro u@state.gov', 'Cherie Blair', 'millscd@state ov', \"'sullivanjj@state.gov.\", '. vermarr@state.gov', \"Maria Lee< Judy Owen' Denise\", 'Barbara Mikulski', 'Buhl, Cindy <Cindy.Buhl@mail.house.gov>', \"'preines(\", 'hanleymrgastategov', 'Hardy, Sharon L', 'sulliyanij@state.goy', 'Singh, Vikram I', 'suilivanij@state.gok', 'valmorol1@state.gov.', 'iewij@state.gov', 'Gelber, Ethan M', 'rossdb@state.gov', 'todd stern', 'Sullivan, Jacobi <SullivartIJ@state.gov>', 'daniel.baer@', 'millscd@state.00v.', 'lewjj@state.gov.', 'Hurna Abedin', 'aliilscd@state.gov', 'cheryl.mills( sullivanjj@state.gov', 'baer.danie', 'axelrod_', 'James Smith', 'balderstonkm@state.gov.', 'bowens', \"'SchwerinDB@state.gov.\", 'Pierce, Thomas JN', 'nidesth@stategoy', 'capriciamarshall huma abedin', 's sullivanjj@state.gov', 'Luis CdeBaca', 'abedinh  state ov', 'Scott Gration', 'sullivanjj@siate.gov', 'a bed inh@state.gov', 'leltmanjd@state.gov', 'jonespw2@state.gov', 'Lisa Caputo', 'vanbuskirk michael 1', 'crowley @state.  ov', 'cheryl.miils@ millscd@state.gov', 'abedinh@state.gov.', 'CDM <cheryl.mill5', 'sullivanjj@state.govr', \"Reines, Philippe'\", \"'shapiroa@state.gov'\", 'iewjj@state.gov', 'hanleymr@stategov', \"'muscatinel@state.gov'\", 'sullivanjj@state.gov b6', 'Danielle Brian', 'Thomas Donilon', '\"vermarr@state.gov\" <vermarr@state.gov>, \"sullivanjj@state.gov\" <sullivanjj@state.gov>, lewj@state.gov', 'John Podesta', 'abedinh@state.gove', \"'slaughtera@state.gov'\", 'russorv@stategov', 'preines sullivanij@state.gov.', 'David Garten', 'cheryl.mills <cheryl.mills', 'Samuel Berger', 'ValmoroU@state.govi <ValmoroU@state.gov>', \"'cheryl.mills 'pvervee\", 'Christopher Butzgy', 'Laszczych Joanne<Laszczychi@state.gov>', \"'ValmoroLJ@state.gov'\", 'sullivanij@state.gov', \"'pverveer\", 'jake.sulliva', 'cheryl.mills jake.sullivan', 'abedinh©state.gov', 'illotylc@state.gov', 'Rick Sloan', \"'SteinbergJB@state.gov'\", 'preines@', 'Pefia, Laura', 'Terry Duffy', 'Golden, Jennifer R <GoldenJR@state.gov>', 'Council on Foreign Relations', 'iilotylc@state.gov', 'PoIt, Michael C', 'Anthony Lake', 'ullivanjj@state.gov', \"'ValmoroLJ state.gov'\", '.1ilotylc@state.gov.', 'Nancy Parrish', 'rnillscd@state.govs', \"'abedinh@state.gov'\", 'williamsbarrett millscd@state.gov.', 'sulliva njj@state.g ov', 'Cheryl Mills Maggie Williams', 'cheryl.mills@ millscd@state.gov.', 'Tina Flournoy', 'sullivanjj©state ov', '..lilotylc@state.gov.', 'preines b6', 'eabedinh@state.gov', 'sbwhoeo', \"'gordonph@state.gov'\", 'jilotylc©state.gov', 'sta ibott', 'vaimorou@state.gov', 'jacobjlew vermarr@state.gov', 'Michele Flournoy', 'cheryl.millsi', '.1ilotylc@state.gov', 'sullivahu@state.gov', 'mot lc@state.gov', 'su ii iva gll@state.gov.', 'Henriette Kolb', \"'Russorv@state.govi\", 'Brian Greenspun', 'Russell, baniel A', 'mtorrey1', 'cheryl.mill sullivanjj@state.gov', \"O'Brien, John\", 'valmorol.1@state.gov', 'Hillary Clinton', 'sulliyanjj@state.goy', 'Reta Jo Lewis', 'valmorolj@state.gov.', 'Kent Conrad', 'Jackie Newmyer', 'abedinh@stategovl', \"lewjj@state.gov'\", 'Paul Jones', 'ImuscatinE', 'marshallcp@state.goy', 'iilotylc@state.gov.', 'a bedinh@state.gov', 'p rei n es', \"'ValmoroU@state.govi <ValmoroU@state.gov>\", 'David Miliband', 'jacobjlev', \"'balderstonkm@state.gov'\", 'Lois Quam', 'Han Duk-soo', 'cheryimills millscd@state.gov', 'imillscd@state.govl<millscd@state.gov>', 'esullivanjj@state.gov', \"'cheryl.mills@ 'SteinbergJB@state.gov'\", 'Sullivan, Jacobi <Sullivan.1.1@state.gov>', 'Sullivan, Jacobi <Sullivann@state.gov>', 'Sullivan, Jacobi <Sullivamil@state.gov>', \"'newmyer\", 'Madeleine Albright', 'Zachary Iscol', 'hanleyrnr@state.gov', 'psolisdoyle', 'cheryl.mills huma abedin', 'cheryl.mills sullivanjj@state.gov b6', 'iynn', 'Sullivarth@state.gov <SullivanJJ@state.gov>', 'abedinh@state.goy', 'valmorou@state.gove', \"'sullivanij@state.gov.\", \"'cheryl.mills 'sullivanjj@state.gov' B6\", \"Valmorol_j@stategov'\", 'rshal', 'cheryl.mills millscd@state.gov.', 'Huma (Clinton) (Clinton) Abedin', 'De Pirro, Velia M 1.4(D)', 'bstrider mmoore', 'habedin(', \"'mchaleja@state.gov'\", '. huma abedin', 'sbwhoeopi', 'nulandyj@state.goy', 'jacobjle iewjj@state.gov b6', \"'mhcaleja@state.gov'\", 'nancy millscd@state.gov b6', 'rnillscd@state.gov', 'sbwhoeop b6', \"'sullivanij@state.gov'\", 'sulliyanfostate.gott', 'abed inh@state.gov.', 'abedinh@stategov', 'millscd@state.gov.', 'American Beverage Association', 'Recos', 'Mike', 'millscd@state.aov', 'briar', 'suilivanii@stategov', 'Paul Farmer Jennie Block', 'dband', 'millscd@state. ov', 'Sullivan, Jacobi <SullivanJJ@state.gov>', 'sullivanij@state.gov.', 'CDM <cheryl.mills', 's abedinh@state.gov', 'rooneym@state.gov', \"'cheryl.mills 'pverveet\", 'pverveel', 'chetyl.mills sullivanij@state.gov', 'preines  sullivanjj@state.gov', 'yeryeerms@state.goy', 'muscatinel@state.goy', 'sullivanj@state.gov', \"Balenger, De'Ara N\", 'abedinh@state.govr', \"'toivnf@state.gov'\", 'preines sullivanjj@state.gov b6', 'jilotylc©state.gov.', 'sullivanu@state.gov.', 'SSRAP_StaffAssistants', 'Abedin, Hume <AbedinH©state.gov›', 'jilotylc@state.gov.', 'ieltmanjd@state.gov.', 'steinberg1b@state.gov.', 'campbelikm©state.gov', 'Jan Piercy', 'filotylc@state.gov.', 'Case Button', 'Max Baucus', 'hanleymr@state.gov.', 'SES-O_Shift-l', 'Linda Dewan', 'michele.fl', 'markjpenr', 'habedin b6', 'postmaster@state.gov', 'sullivanjj@state.goy', 'Christopher Hill', 'mhcaleja@state.gov', 'jilot lc@state. ov', \"'preines 'sullivanjj@state.gov'\", 'reinesp@state.goy', 'tillemannts@state.gov.', 'a bed in h@state.gov', 'sullivanij@state.gove', 'imuscatine huma abedin b6', 'jake.sulliyan', 'George Mitchell', '.gordonph@state.gov.', \"'HAbedir\", 'steinbergib@state.gov', 'Bisdee, Sharon C', 'jake.sullivar preines', 'jilotylc@state.goy', 'preines sullivanjj@state.gov', \"'jonespw2@state.gov'\", 'Angela Goodchild', 'Dejban, Donna D', \"'FuchsMH@state.gov'\", 'cheryl.mills sullivanjj@state.gov', 'ogordonph@state.gov.', 'Neera Tanden', 'millscd@tate.gov', 'l', 'ha nleym r@state.gov', 'steinberg1b@state.gov', 'Daniel', 'wburns6', 'tanleyrnr@state.gov', 'mhcaleja@state.gove', 'glantz.gina', 'lewij@state.gov', 'Sullivan, Jacobi <Sullivan.11@state.gov>', 'Macmanus, Joseph E <MacthanusJE@state.gov>', 'Rodriguez Miguel', 'reiriesp@state.gov', 'David Axelrod', 'cheryl.millf.', 'cheryl.mills abedinh@state.gov', 'millscd@state.goy', 'lmuscatine Sullivan, Jacob', 'KellyC@state.gov', 'emillscd@state.gov', 'sullivanjj@state.golt', 'Samuel (\"Sandy\") Berger', \"'millscd@state.gov'\", 'Ban Ki-moon', 'rnillscd@state.gov.', 'hanle mr@state.gov', 'sullivanji@state.gov', 'jonespw2@state.gov.', 'Lee Feinstein', 'miliscd@stategov', 'caputo', '.filotylc@state.gov.', 'Robert Danford', 'prein6', 'rnillscd@stategov.', 'Lynn Forester de Rothschild', 'huma abedin b6', 'Lona J Valmoro <ValmoroU@state.gov>', 'millscd@state.ov'}\n",
      "\n",
      "community 7, number of people: 190\n",
      "{'Sachar, Alon (NEWIPA)', 'SES-0 Shift-III', 'Escrogirna, Ana A', 'Parris, Mark', 'sullivan jacob j nuland victoria 1', 'Blanc, Jarrett N', 'Sullivanii@state.gov <Sullivanii@state.gov>', 'SES-O_Shift-III', 'Pyatt, Geoffrey R', 'Nasr, S Vali R', 'Scott, Robert K', 'Amend, Kurt E', 'Roland, Kevin S (Belfast)', 'Bums, William 3', 'Keegan, David 3', 'Irwin, Matthew T', 'Maxwell, Raymond D', 'Harris, Robert K', 'Victoria Nuland', 'Anderson, Gerald C', 'Wailes, Jacob', 'Waser, Tamir G', 'nuiand victoria j', 'Polaschik, Joan A', 'Schwartz, Jonathan B', 'Spence, Matthew 3.', 'Sanderson, Janet A', 'Littlejohn, J.R.', 'Hushek, Thomas', 'feldman daniel f', 'SES-O_SWO', 'Blair, Oni K', 'Lakhdhir, Kamala S', \"'Poneman, Dania\", 'MacDonald, Andrew T', 'Cook, Akunna E', 'Roebuck, William V', 'Craig Kelly', 'jiloty, Lauren C', 'Goldberger, Thomas H', 'McCarthy, Deborah A', 'Igeorge Walles, Jacob', 'Nawab, Ahmed E', 'Syed, Zia S', 'Heffern, John A', 'Escrogima, Ana A', 'Park, Pamela P', 'SF-S-0', 'McNicholas, Daniel F', 'Waters, John R', 'Gardner, Rebecca V B6', 'Miller, James N', 'SSRAP StaffAssistants', 'Sachar, Alon (NEA/IPA)', 'Schrepel, Dawn M', 'aclb', 'Jake Sullivan', \"'jake.sullivan <jake.sullivan\", 'Baxter, Shawn', \"'HAbedin\", 'Talwar, Puneet', 'Schlicher, Ronald L', 'Imuscatine _ Sullivan, Jacob J', 'Blake, Stephen J (EAP/MLS)', 'Dibble, Elizabeth 1', 'McMullen, Christopher J', 'SES-O', 'SES-O_Shift-I', 'Pollack, Margaret 3', 'Leonard, Mary Beth', 'jake.sullivar', 'Dibble, Elizabeth L', 'Yamamoto,', 'SES-O_CMS', \"O'Brien, Vincent 3\", 'P-NEA Duty', 'SteinbergJB@state.gov', 'Bitter,', 'Hale, David M', 'Lohman, Lee', 'Le Mon, Christopher J', 'SES-O_Shift-II', 'Scanlon, Amy B', 'SES-0', 'Sullivanil@state.gov <SullivanJJ@state.gov>', 'Reed, Julia G', 'SES-O_Shlft-II', 'ruggiero frank 3', 'SES-0_Shift-III', \"'Poneman, Daniel'\", 'SullivanJJ@state.gov <Sullivann@state.gov>', 'Lang, Alan', 'SCA-INDIA-ONLY-DL', 'Sullivan,', 'SullivanJJ@state.gov <Sullivan.1.1@state.gov>', 'CDM<cheryl.mill', 'SES-O_ShIft-I', 'Wendy Sherman', 'jake.sullivan B6', 'Marchese, Gregory M', 'Beecroft, Robert S (Amman)', 'Austin-Ferguson, Kathleen T', 'Catalano, Elisa', 'Derek Chollet', 'Boswell, Eric J', 'Sidereas, Evyenia', 'Goldwyn, David L', '5ES-0.', 'preines huma abedin', 'Reynoso, Julissa', 'preine h', 'lake.sullivan <jake.sullivan', 'Feldman, Daniel F', 'Butte-Dahl, Jennifer X', 'Macnnanus, Joseph E', 'Kelley, John C', 'West, Thomas', 'Pilz, Amanda C', 'Stevens, John C', 'Riva-Geoghegan, Margarita M', 'Ashraf, Madeeha S', 'Montgomery, Molly C', 'Keene, Matt E', 'Burns, William)', 'Cleveland, Sarah H', 'Mull, Stephen D', 'alcb', 'Harrell, Peter E', 'Thomas Shannon', 'Walles, Jacob', 'Johnnie Carson', 'Ruggiero, Frank J', 'Banks, Dana', 'Pappas,', 'Esther Brimmer', 'Feitman, Jeffrey D', 'Cheryl Millsl', \"Jake Sullivan'\", 'SES-0_0S', 'McEldowney, Nancy E', 'Stein, Daniel D', 'Grantham, Chris W', 'LaVine, Christopher M', 'Desrocher, John P', 'Hoh, Christopher I', 'hume abed in', 'Imuscatine Sullivan, Jacob J', 'Ford, Robert S', 'Sullivan, Jacob.]', 'Kalmbach, Heather E', 'Jones, Beth E', 'Rudman, Mara', 'Hall, Andrea G', 'singh vikram', 'lake.sullivar <jake.sullivar', 'reines philippe f', 'SES-0_05', 'Cretz, Gene A', 'Feltrnan, Jeffrey 0', 'Meale, David', 'Rosenberger, Laura M', 'Fernandez, Jose W', \"'jake.sullivan <jake.sullivar\", 'Krol, George A', 'Cooper, Kurtis A', 'Hof, Frederic C', 'Patel, Nirav S', 'Crocker, Bathsheba N', 'preines h', 'Verville, Elizabeth G', 'evergreen', 'Paradiso, Dante X', 'Pelofsky, Eric J', 'Tesone, Mark', 'Nardi, Margaret H', 'Waller, Robert P', 'preine5', 'Jacobson, Roberta S', 'S_SpecialAsslstants', 'Cook, Nerissa J', 'S_Specia lAssistants', 'S_SpecialAssIstants', 'Wilson, Kathleen A', 'LoGerfo, Gregory D', 'Schwartz, Eric P', 'Lew, JacobJ', 'Le Mon, Christopher.]', 'SES_DutyDeputies', 's_specialassistants', 'Sullivan, Jacobi <Sullivanil@state.gov>'}\n",
      "\n",
      "community 8, number of people: 44\n",
      "{'Sullivan, Jacob.', 'Sullivan, Jacob.)', 'h i', 'Kris Balderston', 'Valmoroll@state.gov', 'VaImoroU@state.gov', 'Sullivan, Jacobi <Sullivanii@state.gov>', 'Huma Abedin <abedinh@state.gov>', 'ChoIlet, Derek H <CholletDH@state.gov>', 'Daniel Baer', 'Dana Hyde', 'Lissa Muscatine <muscatinel@state.gov>', 'Lissa Muscatine', 'Huma A edin', 'Huma Abedin <', 'Marty Torrey', 'Mark Penn', 'cheryl.mill Sullivan, Jacob i', 'Anne-Marie Slaughter', 'preine', 'Piper Campbell', 'David Johnson', 'Joshua Daniel', 'Tomicah Tillemann', '\"MillsCD@state.gov\\'', 'Maria Otero', 'ChoIlet, Derek H', 'Jon Davidson <', 'Jacob Lew', 'oscar flores', 'Abed in, Huma', \"Sullivan, Jacob.' <SullivanJJ@state.gov>, Reines, Philippe I <reinesp@state.gov>\", 'Jacob J Sullivan', 'fl', 'Sullivan, JacobJ', 'Todd Stern', 'Megan Rooney', 'Anne Marie Slaughter', 'Jon Davidson', 'daniel.bae', 'Abedin, Hurna', 'Michael Fuchs', 'Huma Abedin <AbedinH@state.gov>', \"'Abedinhi@state.goV\"}\n",
      "\n",
      "community 9, number of people: 69\n",
      "{'Moore, James R', 'Pauli, Rosemarie', 'Breeden, Philip X', 'Golden, Jennifer R', 'Richard Holbrooke', 'Smith, Dana S', 'Rajiv Shah', 'Capricia Marshall', 'Schwartz, Larry', 'holbrooke richard c', 'smith daniel b', 'Guimond, Gabrielle', 'DiMartino, Kitty', 'Sreebny, Daniel', 'Philip Gordon', 'Singh, Vikram J', 'James Steinberg', 'Maughan, Chelsea V', 'Ranneberger, Michael E', 'Brudvig, Lee A', 'Nairobi POL-CORE', 'Lott, Catie (KENYA/GJD)', 'Yamamoto, Donald Y', 'Bommer, Ashley F', 'Judith McHale', 'Ellen Tauscher', 'LeBaron,', 'Hensman, Chris D', 'Dickmeyer, James C', 'Mellott, Joseph', 'Stock, Ann', 'Michael Posner', 'Haynes, John D', 'Douglas, Walter T', 'Zil!igen, Joseph H', 'waxman sharon l', 'Maclnnes, Duncan H', 'Patrick Kennedy', 'icheryl.mills', 'Kurt Campbell', 'Kenna, Corley', 'Thomas, Katya', 'Diallo, Robin D', 'Brown, Jessica A', 'Limage, Simon G', 'Namba, Nicholas', 'doug hattaway', 'lake.sullivar b Huma Abedin <Huma@clintonemail.com>', 'Schwartz, Larry R/PPR', 'Korman, Samuel I. (Shai)', 'Klevorick, Caitlin B', 'Andrew Shapiro', 'Gill, Muazzam', 'dimartino kitty', 'Perez, Lea', 'Cormack, Maureen E', 'Koh, Harold Hongju', 'Somerset, Ann D', 'preines Schwerin, Daniel B', 'Carlos Pascual', 'Koh, Harold Hongju <KohHH@state.gov>', 'Bosshardt, Marcia P', 'Cedar, Andrew N', 'lake.sullivan >', 'preines Sullivan, Jacob J', 'Kerst, Erna (KENYA/OD)', 'Philip Crowley', 'ramamurthy', 'Wade, Joseph W (Peshawar)'}\n",
      "\n",
      "community 10, number of people: 25\n",
      "{'Huma Abedin <Huma@clintonemail.com>', \"'cheryl.mills\", '\"Mark J. Penn\"', 'Macmanus, Joseph E <MacmanusJE@state.gov>', 'Jake Sullivan (DOS) <Sullivann@state.gov>', 'h b6', 'Voda Ebeling', 'KPK', '- Abedin, Huma', \"'Laurenjilot\", 'Nora Toiv', 'Gonzalez, Juan S <GonzalezJS©state.gov>:', 'laurenjiloty', 'monica.hanle', 'kevin m. okeefe', 'd.chend', 'Phil Goldberg (State) <GoldbergPS@State.Gov>', 'Miguel Rodriguez', 'Abedin, Hume', 'elaine weiss', 'Nora Tov', 'Lauren Jiloty', 'icheryl.mills1', 'Huma Abed in', 'michael m. conway'}\n",
      "\n",
      "community 11, number of people: 1\n",
      "{'Werner Ilic'}\n",
      "\n",
      "community 12, number of people: 6\n",
      "{'Jake Sullivan (State)', \"'Cheryl Mills' <\", 'Cheryl Mills (State)', 'Phil Goldberg (State)', 'Strobe Talbott', \"'JilotyLC@state.gov'\"}\n",
      "\n",
      "community 13, number of people: 3\n",
      "{'Jake Suliivan', 'jacob j sullivan', 'jai:e sullivan'}\n",
      "\n",
      "community 14, number of people: 1\n",
      "{'Long Term Strategy Group'}\n",
      "\n",
      "community 15, number of people: 2\n",
      "{'STATE', 'ASUNCION'}\n",
      "\n",
      "community 16, number of people: 4\n",
      "{'Bill Clinton', 'Chelsea Clinton', 'dad mom', 'Cheryl, Doug, Justin'}\n",
      "\n",
      "community 17, number of people: 2\n",
      "{'James McGovern', 'Daniel Inonye'}\n",
      "\n",
      "community 18, number of people: 1\n",
      "{'Peter Robinson'}\n",
      "\n",
      "community 19, number of people: 1\n",
      "{'Alec'}\n",
      "\n",
      "community 20, number of people: 1\n",
      "{'New York Times'}\n",
      "\n"
     ]
    }
   ],
   "source": [
    "for community_id, persons in community_to_persons.items():\n",
    "    print('community ' + str(community_id) + ', number of people: ' + str(len(persons)))\n",
    "    print(persons)\n",
    "    print()"
   ]
  },
  {
   "cell_type": "markdown",
   "metadata": {},
   "source": [
    "Hillary Clinton is in community 5, the largest community with 292 people."
   ]
  },
  {
   "cell_type": "markdown",
   "metadata": {},
   "source": [
    "# Analyze frequent words"
   ]
  },
  {
   "cell_type": "markdown",
   "metadata": {},
   "source": [
    "<em> Print the most frequent 20 words used by the email authors of each community.</em>"
   ]
  },
  {
   "cell_type": "markdown",
   "metadata": {},
   "source": [
    "### Preprocess data"
   ]
  },
  {
   "cell_type": "markdown",
   "metadata": {},
   "source": [
    "We define text preprocessing functions as in previous tasks."
   ]
  },
  {
   "cell_type": "code",
   "execution_count": 28,
   "metadata": {
    "collapsed": true
   },
   "outputs": [],
   "source": [
    "from nltk.corpus import stopwords\n",
    "stop_words = set(stopwords.words('english'))\n",
    "local_stop = {\"re\", \"fw\", \"cc\", \"also\", \"pm\", \"am\", \"btw\", \"fyi\", \"to\", \"from\", \"nan\"}\n",
    "stop_words = stop_words | local_stop"
   ]
  },
  {
   "cell_type": "code",
   "execution_count": 29,
   "metadata": {
    "collapsed": true
   },
   "outputs": [],
   "source": [
    "def preprocess(text):\n",
    "    # 1. tokenlization\n",
    "    tokens = nltk.word_tokenize(text)\n",
    "    \n",
    "    # 2. remove tokens whose length <= 2\n",
    "    tokens_not_short = [t for t in tokens if len(t) > 2]\n",
    "\n",
    "    # 3. lowercase tokens\n",
    "    tokens_lowercased = [t.lower() for t in tokens_not_short]\n",
    "    \n",
    "    # 4. remove tokens without a leading letter\n",
    "    tokens_started_with_letter = [t for t in tokens_lowercased if t[0].isalpha()] \n",
    "\n",
    "    # 5. remove stop words \n",
    "    tokens_without_stop_words = [t for t in tokens_started_with_letter if t not in stop_words]\n",
    "    \n",
    "    # 6. stemming\n",
    "    lemmatizer = WordNetLemmatizer()\n",
    "    lemmatized_tokens = [lemmatizer.lemmatize(t) for t in tokens_without_stop_words]\n",
    "    \n",
    "    return lemmatized_tokens"
   ]
  },
  {
   "cell_type": "markdown",
   "metadata": {},
   "source": [
    "We merge the emails.csv and receivers.csv to make a big DataFrame containing both senders and receivers in one row."
   ]
  },
  {
   "cell_type": "code",
   "execution_count": 30,
   "metadata": {
    "collapsed": true
   },
   "outputs": [],
   "source": [
    "emails_with_receivers = pd.merge(emails, receivers, how=\"inner\", left_index=True, right_on='EmailId')"
   ]
  },
  {
   "cell_type": "markdown",
   "metadata": {},
   "source": [
    "### Count frequent words"
   ]
  },
  {
   "cell_type": "code",
   "execution_count": 32,
   "metadata": {
    "collapsed": false
   },
   "outputs": [
    {
     "name": "stdout",
     "output_type": "stream",
     "text": [
      "community 0, number of people: 50\n",
      "[('jamal', 30), ('place', 30), ('deuel', 26), ('kid', 20), ('say', 20), ('state', 17), ('year', 16), (\"n't\", 14), ('home', 14), ('dcfs', 12), ('staff', 12), ('day', 11), ('good', 10), ('child', 10), ('measure', 10), ('got', 9), ('boy', 8), ('facility', 8), ('time', 8), ('group', 8)]\n",
      "\n",
      "community 1, number of people: 186\n",
      "[(\"n't\", 19), ('hrc', 15), ('know', 14), ('call', 14), ('yes', 11), ('yet', 9), ('good', 9), ('oscar', 8), ('meeting', 8), ('would', 8), ('tomorrow', 7), ('confirmed', 7), ('print', 7), ('today', 6), ('sure', 6), ('make', 6), ('heard', 6), ('work', 6), ('sent', 6), ('lexmarkaioscan9jpg', 6)]\n",
      "\n",
      "community 2, number of people: 2\n",
      "[]\n",
      "\n",
      "community 3, number of people: 48\n",
      "[('blair', 13), ('government', 13), ('president', 13), ('european', 12), ('conference', 9), ('secretary', 9), ('would', 9), (\"n't\", 8), ('could', 8), ('europe', 8), ('first', 7), ('climate', 7), ('get', 7), ('state', 7), ('economic', 6), ('invited', 6), ('change', 6), ('minister', 6), ('summit', 6), ('said', 6)]\n",
      "\n",
      "community 4, number of people: 292\n",
      "[('cdm', 12), ('part', 6), ('thanks', 6), ('release', 6), ('next', 5), ('need', 5), ('one', 4), ('done', 4), ('good', 4), ('effort', 4), ('congrats', 4), (\"n't\", 4), ('work', 4), ('policy', 4), ('think', 4), ('whomever', 3), ('many', 3), ('national', 3), ('see', 3), ('along', 3)]\n",
      "\n",
      "community 5, number of people: 31\n",
      "[('treaty', 17), ('u.s.', 15), ('nuclear', 14), ('defense', 12), ('start', 9), ('missile', 9), ('new', 9), ('government', 8), ('afghanistan', 8), ('weapon', 8), ('moscow', 8), ('senate', 7), ('security', 7), ('state', 7), ('russia', 6), ('offensive', 6), ('corruption', 6), ('lowey', 5), ('force', 5), ('must', 5)]\n",
      "\n",
      "community 6, number of people: 297\n",
      "[('state', 142), ('would', 120), ('official', 86), ('time', 78), ('need', 77), ('know', 74), ('see', 72), ('department', 71), ('u.s.', 68), (\"n't\", 67), ('let', 63), ('could', 63), ('call', 63), ('get', 61), ('intergovernmental', 60), ('work', 59), ('china', 59), ('talk', 55), ('national', 55), ('local', 52)]\n",
      "\n",
      "community 7, number of people: 190\n",
      "[('release', 6), ('part', 5), ('would', 4), ('sent', 3), ('philippe', 3), ('second', 3), ('morning', 3), ('statement', 3), ('state', 3), ('thank', 3), ('b1,1.4', 3), ('need', 3), ('huma', 3), ('kamala', 2), ('date', 2), ('picture', 2), ('crisis', 2), ('photo', 2), ('honduras', 2), ('u.s.', 2)]\n",
      "\n",
      "community 8, number of people: 44\n",
      "[('draft', 7), ('call', 6), ('get', 5), ('see', 5), ('time', 5), ('lissa', 5), ('work', 4), ('company', 4), ('could', 4), ('jake', 4), ('tomorrow', 4), ('yet', 3), ('problem', 3), ('public', 3), ('thnx', 3), ('good', 3), ('yes', 2), ('year', 2), ('plan', 2), ('home', 2)]\n",
      "\n",
      "community 9, number of people: 69\n",
      "[('mexico', 7), ('work', 6), ('information', 6), ('week', 6), ('initiative', 5), ('effort', 5), ('communication', 5), ('help', 5), ('develop', 4), ('increase', 4), ('need', 4), ('jim', 4), ('next', 4), ('awareness', 4), ('last', 4), ('believe', 4), ('pakistan', 3), ('know', 3), ('wide', 3), ('let', 3)]\n",
      "\n",
      "community 10, number of people: 25\n",
      "[('email', 6), ('posted', 6), ('alumnus', 6), ('chicago-kent', 4), ('haley', 3), ('today', 3), ('another', 3), ('minute', 3), ('visit', 3), ('ago', 3), ('opt', 3), ('website', 3), ('please', 3), ('good', 3), ('year', 2), ('luncheon', 2), ('college', 2), ('back', 2), ('availability', 2), ('alexander', 2)]\n",
      "\n",
      "community 11, number of people: 1\n",
      "[]\n",
      "\n",
      "community 12, number of people: 6\n",
      "[]\n",
      "\n",
      "community 13, number of people: 3\n",
      "[]\n",
      "\n",
      "community 14, number of people: 1\n",
      "[]\n",
      "\n",
      "community 15, number of people: 2\n",
      "[]\n",
      "\n",
      "community 16, number of people: 4\n",
      "[('settlement', 140), ('people', 96), ('haitian', 92), ('work', 68), ('e.g.', 56), ('could', 56), ('latrine', 56), ('plan', 56), ('government', 52), ('would', 48), ('need', 48), ('though', 46), ('one', 44), ('committee', 44), ('prince', 44), ('least', 42), ('including', 40), ('ingo', 40), ('security', 40), ('port', 40)]\n",
      "\n",
      "community 17, number of people: 2\n",
      "[]\n",
      "\n",
      "community 18, number of people: 1\n",
      "[]\n",
      "\n",
      "community 19, number of people: 1\n",
      "[]\n",
      "\n",
      "community 20, number of people: 1\n",
      "[]\n",
      "\n"
     ]
    }
   ],
   "source": [
    "from collections import Counter\n",
    "\n",
    "commutity_to_freq_words = {}\n",
    "for community_id, persons in community_to_persons.items():\n",
    "    counter = Counter()\n",
    "    for id, row in emails_with_receivers.iterrows():\n",
    "        if pd.notnull(row.SenderPersonId):\n",
    "            author = to_node[int(row.SenderPersonId)]\n",
    "            receiver = to_node[row.PersonId]\n",
    "            if (author in persons) and (receiver in persons):\n",
    "                tokens = preprocess(str(row.ExtractedBodyText))\n",
    "                for token in tokens:\n",
    "                    counter[token] = counter[token] + 1\n",
    "\n",
    "    print(\"community \" + str(community_id) + \", number of people: \" + str(len(persons)))                \n",
    "    print(counter.most_common(20))\n",
    "    print()"
   ]
  },
  {
   "cell_type": "markdown",
   "metadata": {},
   "source": [
    "### Analysis and conclusions"
   ]
  },
  {
   "cell_type": "markdown",
   "metadata": {},
   "source": [
    "Unlike the topic modeling in task 3, where the topics generated are more relevant to some events and countries, frequent words in communities contain more names. For example, \"Jamal\" is the most frequent word in community 0. In other communities, names like \"Oscar\", \"Blair\", \"Philippe\" are also high-frequent words. \n",
    "\n",
    "Thus in the communities, we are more likely to see names. "
   ]
  }
 ],
 "metadata": {
  "kernelspec": {
   "display_name": "Python 3",
   "language": "python",
   "name": "python3"
  },
  "language_info": {
   "codemirror_mode": {
    "name": "ipython",
    "version": 3
   },
   "file_extension": ".py",
   "mimetype": "text/x-python",
   "name": "python",
   "nbconvert_exporter": "python",
   "pygments_lexer": "ipython3",
   "version": "3.5.1"
  }
 },
 "nbformat": 4,
 "nbformat_minor": 0
}
