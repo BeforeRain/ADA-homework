{
 "cells": [
  {
   "cell_type": "markdown",
   "metadata": {},
   "source": [
    "# Homework 04 - Applied ML\n",
    "\n",
    "## Data Description\n",
    "\n",
    "Soccer players (N = 2053) and all referees (N = 3147) that these players played under in their professional career. The data contains:\n",
    "\n",
    "* the number of matches, players and referees encountered each other\n",
    "* the number of red cards(dependent variable), given to a player by a particular referee (throughout all matches the two encountered each other)\n",
    "* Player photos were available from the source for 1586 out of 2053 players\n",
    "* Players’ skin tone was coded by two independent raters, 5-point scale ranging from “very light skin” to “very dark skin” with “neither dark nor light skin” as the center value\n",
    "* implicit bias scores for each referee country, race implicit association test (IAT), with higher values corresponding to faster white | good, black | bad associations\n",
    "* Explicit bias scores for each referee country, racial thermometer task, with higher values corresponding to greater feelings of warmth toward whites versus blacks.\n",
    "\n",
    "Let's first import the necessary libraries so that we can read the dataset."
   ]
  },
  {
   "cell_type": "code",
   "execution_count": 59,
   "metadata": {
    "collapsed": true
   },
   "outputs": [],
   "source": [
    "import pandas as pd\n",
    "import numpy as np\n",
    "import matplotlib.pyplot as plt"
   ]
  },
  {
   "cell_type": "markdown",
   "metadata": {},
   "source": [
    "Now let's get ahold of the data we will be working with!"
   ]
  },
  {
   "cell_type": "code",
   "execution_count": 60,
   "metadata": {
    "collapsed": false
   },
   "outputs": [
    {
     "data": {
      "text/plain": [
       "(146028, 28)"
      ]
     },
     "execution_count": 60,
     "metadata": {},
     "output_type": "execute_result"
    }
   ],
   "source": [
    "soccer_data = pd.read_csv('CrowdstormingDataJuly1st.csv')\n",
    "soccer_data.shape"
   ]
  },
  {
   "cell_type": "markdown",
   "metadata": {},
   "source": [
    "That's a lot of data ;) Instead of using `head()`, let's print the first 14 columns and the next 14 seperately."
   ]
  },
  {
   "cell_type": "code",
   "execution_count": 61,
   "metadata": {
    "collapsed": false
   },
   "outputs": [
    {
     "data": {
      "text/html": [
       "<div>\n",
       "<table border=\"1\" class=\"dataframe\">\n",
       "  <thead>\n",
       "    <tr style=\"text-align: right;\">\n",
       "      <th></th>\n",
       "      <th>playerShort</th>\n",
       "      <th>player</th>\n",
       "      <th>club</th>\n",
       "      <th>leagueCountry</th>\n",
       "      <th>birthday</th>\n",
       "      <th>height</th>\n",
       "      <th>weight</th>\n",
       "      <th>position</th>\n",
       "      <th>games</th>\n",
       "      <th>victories</th>\n",
       "      <th>ties</th>\n",
       "      <th>defeats</th>\n",
       "      <th>goals</th>\n",
       "      <th>yellowCards</th>\n",
       "    </tr>\n",
       "  </thead>\n",
       "  <tbody>\n",
       "    <tr>\n",
       "      <th>0</th>\n",
       "      <td>lucas-wilchez</td>\n",
       "      <td>Lucas Wilchez</td>\n",
       "      <td>Real Zaragoza</td>\n",
       "      <td>Spain</td>\n",
       "      <td>31.08.1983</td>\n",
       "      <td>177.0</td>\n",
       "      <td>72.0</td>\n",
       "      <td>Attacking Midfielder</td>\n",
       "      <td>1</td>\n",
       "      <td>0</td>\n",
       "      <td>0</td>\n",
       "      <td>1</td>\n",
       "      <td>0</td>\n",
       "      <td>0</td>\n",
       "    </tr>\n",
       "    <tr>\n",
       "      <th>1</th>\n",
       "      <td>john-utaka</td>\n",
       "      <td>John Utaka</td>\n",
       "      <td>Montpellier HSC</td>\n",
       "      <td>France</td>\n",
       "      <td>08.01.1982</td>\n",
       "      <td>179.0</td>\n",
       "      <td>82.0</td>\n",
       "      <td>Right Winger</td>\n",
       "      <td>1</td>\n",
       "      <td>0</td>\n",
       "      <td>0</td>\n",
       "      <td>1</td>\n",
       "      <td>0</td>\n",
       "      <td>1</td>\n",
       "    </tr>\n",
       "    <tr>\n",
       "      <th>2</th>\n",
       "      <td>abdon-prats</td>\n",
       "      <td>Abdón Prats</td>\n",
       "      <td>RCD Mallorca</td>\n",
       "      <td>Spain</td>\n",
       "      <td>17.12.1992</td>\n",
       "      <td>181.0</td>\n",
       "      <td>79.0</td>\n",
       "      <td>NaN</td>\n",
       "      <td>1</td>\n",
       "      <td>0</td>\n",
       "      <td>1</td>\n",
       "      <td>0</td>\n",
       "      <td>0</td>\n",
       "      <td>1</td>\n",
       "    </tr>\n",
       "    <tr>\n",
       "      <th>3</th>\n",
       "      <td>pablo-mari</td>\n",
       "      <td>Pablo Marí</td>\n",
       "      <td>RCD Mallorca</td>\n",
       "      <td>Spain</td>\n",
       "      <td>31.08.1993</td>\n",
       "      <td>191.0</td>\n",
       "      <td>87.0</td>\n",
       "      <td>Center Back</td>\n",
       "      <td>1</td>\n",
       "      <td>1</td>\n",
       "      <td>0</td>\n",
       "      <td>0</td>\n",
       "      <td>0</td>\n",
       "      <td>0</td>\n",
       "    </tr>\n",
       "    <tr>\n",
       "      <th>4</th>\n",
       "      <td>ruben-pena</td>\n",
       "      <td>Rubén Peña</td>\n",
       "      <td>Real Valladolid</td>\n",
       "      <td>Spain</td>\n",
       "      <td>18.07.1991</td>\n",
       "      <td>172.0</td>\n",
       "      <td>70.0</td>\n",
       "      <td>Right Midfielder</td>\n",
       "      <td>1</td>\n",
       "      <td>1</td>\n",
       "      <td>0</td>\n",
       "      <td>0</td>\n",
       "      <td>0</td>\n",
       "      <td>0</td>\n",
       "    </tr>\n",
       "    <tr>\n",
       "      <th>5</th>\n",
       "      <td>aaron-hughes</td>\n",
       "      <td>Aaron Hughes</td>\n",
       "      <td>Fulham FC</td>\n",
       "      <td>England</td>\n",
       "      <td>08.11.1979</td>\n",
       "      <td>182.0</td>\n",
       "      <td>71.0</td>\n",
       "      <td>Center Back</td>\n",
       "      <td>1</td>\n",
       "      <td>0</td>\n",
       "      <td>0</td>\n",
       "      <td>1</td>\n",
       "      <td>0</td>\n",
       "      <td>0</td>\n",
       "    </tr>\n",
       "  </tbody>\n",
       "</table>\n",
       "</div>"
      ],
      "text/plain": [
       "     playerShort         player             club leagueCountry    birthday  \\\n",
       "0  lucas-wilchez  Lucas Wilchez    Real Zaragoza         Spain  31.08.1983   \n",
       "1     john-utaka     John Utaka  Montpellier HSC        France  08.01.1982   \n",
       "2    abdon-prats    Abdón Prats     RCD Mallorca         Spain  17.12.1992   \n",
       "3     pablo-mari     Pablo Marí     RCD Mallorca         Spain  31.08.1993   \n",
       "4     ruben-pena     Rubén Peña  Real Valladolid         Spain  18.07.1991   \n",
       "5   aaron-hughes   Aaron Hughes        Fulham FC       England  08.11.1979   \n",
       "\n",
       "   height  weight              position  games  victories  ties  defeats  \\\n",
       "0   177.0    72.0  Attacking Midfielder      1          0     0        1   \n",
       "1   179.0    82.0          Right Winger      1          0     0        1   \n",
       "2   181.0    79.0                   NaN      1          0     1        0   \n",
       "3   191.0    87.0           Center Back      1          1     0        0   \n",
       "4   172.0    70.0      Right Midfielder      1          1     0        0   \n",
       "5   182.0    71.0           Center Back      1          0     0        1   \n",
       "\n",
       "   goals  yellowCards  \n",
       "0      0            0  \n",
       "1      0            1  \n",
       "2      0            1  \n",
       "3      0            0  \n",
       "4      0            0  \n",
       "5      0            0  "
      ]
     },
     "execution_count": 61,
     "metadata": {},
     "output_type": "execute_result"
    }
   ],
   "source": [
    "soccer_data.ix[:5,:14]"
   ]
  },
  {
   "cell_type": "code",
   "execution_count": 62,
   "metadata": {
    "collapsed": false
   },
   "outputs": [
    {
     "data": {
      "text/html": [
       "<div>\n",
       "<table border=\"1\" class=\"dataframe\">\n",
       "  <thead>\n",
       "    <tr style=\"text-align: right;\">\n",
       "      <th></th>\n",
       "      <th>yellowReds</th>\n",
       "      <th>redCards</th>\n",
       "      <th>photoID</th>\n",
       "      <th>rater1</th>\n",
       "      <th>rater2</th>\n",
       "      <th>refNum</th>\n",
       "      <th>refCountry</th>\n",
       "      <th>Alpha_3</th>\n",
       "      <th>meanIAT</th>\n",
       "      <th>nIAT</th>\n",
       "      <th>seIAT</th>\n",
       "      <th>meanExp</th>\n",
       "      <th>nExp</th>\n",
       "      <th>seExp</th>\n",
       "    </tr>\n",
       "  </thead>\n",
       "  <tbody>\n",
       "    <tr>\n",
       "      <th>0</th>\n",
       "      <td>0</td>\n",
       "      <td>0</td>\n",
       "      <td>95212.jpg</td>\n",
       "      <td>0.25</td>\n",
       "      <td>0.50</td>\n",
       "      <td>1</td>\n",
       "      <td>1</td>\n",
       "      <td>GRC</td>\n",
       "      <td>0.326391</td>\n",
       "      <td>712.0</td>\n",
       "      <td>0.000564</td>\n",
       "      <td>0.396000</td>\n",
       "      <td>750.0</td>\n",
       "      <td>0.002696</td>\n",
       "    </tr>\n",
       "    <tr>\n",
       "      <th>1</th>\n",
       "      <td>0</td>\n",
       "      <td>0</td>\n",
       "      <td>1663.jpg</td>\n",
       "      <td>0.75</td>\n",
       "      <td>0.75</td>\n",
       "      <td>2</td>\n",
       "      <td>2</td>\n",
       "      <td>ZMB</td>\n",
       "      <td>0.203375</td>\n",
       "      <td>40.0</td>\n",
       "      <td>0.010875</td>\n",
       "      <td>-0.204082</td>\n",
       "      <td>49.0</td>\n",
       "      <td>0.061504</td>\n",
       "    </tr>\n",
       "    <tr>\n",
       "      <th>2</th>\n",
       "      <td>0</td>\n",
       "      <td>0</td>\n",
       "      <td>NaN</td>\n",
       "      <td>NaN</td>\n",
       "      <td>NaN</td>\n",
       "      <td>3</td>\n",
       "      <td>3</td>\n",
       "      <td>ESP</td>\n",
       "      <td>0.369894</td>\n",
       "      <td>1785.0</td>\n",
       "      <td>0.000229</td>\n",
       "      <td>0.588297</td>\n",
       "      <td>1897.0</td>\n",
       "      <td>0.001002</td>\n",
       "    </tr>\n",
       "    <tr>\n",
       "      <th>3</th>\n",
       "      <td>0</td>\n",
       "      <td>0</td>\n",
       "      <td>NaN</td>\n",
       "      <td>NaN</td>\n",
       "      <td>NaN</td>\n",
       "      <td>3</td>\n",
       "      <td>3</td>\n",
       "      <td>ESP</td>\n",
       "      <td>0.369894</td>\n",
       "      <td>1785.0</td>\n",
       "      <td>0.000229</td>\n",
       "      <td>0.588297</td>\n",
       "      <td>1897.0</td>\n",
       "      <td>0.001002</td>\n",
       "    </tr>\n",
       "    <tr>\n",
       "      <th>4</th>\n",
       "      <td>0</td>\n",
       "      <td>0</td>\n",
       "      <td>NaN</td>\n",
       "      <td>NaN</td>\n",
       "      <td>NaN</td>\n",
       "      <td>3</td>\n",
       "      <td>3</td>\n",
       "      <td>ESP</td>\n",
       "      <td>0.369894</td>\n",
       "      <td>1785.0</td>\n",
       "      <td>0.000229</td>\n",
       "      <td>0.588297</td>\n",
       "      <td>1897.0</td>\n",
       "      <td>0.001002</td>\n",
       "    </tr>\n",
       "    <tr>\n",
       "      <th>5</th>\n",
       "      <td>0</td>\n",
       "      <td>0</td>\n",
       "      <td>3868.jpg</td>\n",
       "      <td>0.25</td>\n",
       "      <td>0.00</td>\n",
       "      <td>4</td>\n",
       "      <td>4</td>\n",
       "      <td>LUX</td>\n",
       "      <td>0.325185</td>\n",
       "      <td>127.0</td>\n",
       "      <td>0.003297</td>\n",
       "      <td>0.538462</td>\n",
       "      <td>130.0</td>\n",
       "      <td>0.013752</td>\n",
       "    </tr>\n",
       "  </tbody>\n",
       "</table>\n",
       "</div>"
      ],
      "text/plain": [
       "   yellowReds  redCards    photoID  rater1  rater2  refNum  refCountry  \\\n",
       "0           0         0  95212.jpg    0.25    0.50       1           1   \n",
       "1           0         0   1663.jpg    0.75    0.75       2           2   \n",
       "2           0         0        NaN     NaN     NaN       3           3   \n",
       "3           0         0        NaN     NaN     NaN       3           3   \n",
       "4           0         0        NaN     NaN     NaN       3           3   \n",
       "5           0         0   3868.jpg    0.25    0.00       4           4   \n",
       "\n",
       "  Alpha_3   meanIAT    nIAT     seIAT   meanExp    nExp     seExp  \n",
       "0     GRC  0.326391   712.0  0.000564  0.396000   750.0  0.002696  \n",
       "1     ZMB  0.203375    40.0  0.010875 -0.204082    49.0  0.061504  \n",
       "2     ESP  0.369894  1785.0  0.000229  0.588297  1897.0  0.001002  \n",
       "3     ESP  0.369894  1785.0  0.000229  0.588297  1897.0  0.001002  \n",
       "4     ESP  0.369894  1785.0  0.000229  0.588297  1897.0  0.001002  \n",
       "5     LUX  0.325185   127.0  0.003297  0.538462   130.0  0.013752  "
      ]
     },
     "execution_count": 62,
     "metadata": {},
     "output_type": "execute_result"
    }
   ],
   "source": [
    "soccer_data.ix[:5,14:]"
   ]
  },
  {
   "cell_type": "markdown",
   "metadata": {},
   "source": [
    "For a description of each feature check out the file `DATA.md`."
   ]
  },
  {
   "cell_type": "markdown",
   "metadata": {},
   "source": [
    "# Data Cleaning"
   ]
  },
  {
   "cell_type": "markdown",
   "metadata": {},
   "source": [
    "Let's first clean the data a bit. The first thing we can do is drop those entries which have no rating for the skin color as we will not be able to do any training with this data or even evaluate our classifier with such entries."
   ]
  },
  {
   "cell_type": "code",
   "execution_count": 63,
   "metadata": {
    "collapsed": false
   },
   "outputs": [
    {
     "data": {
      "text/plain": [
       "21407"
      ]
     },
     "execution_count": 63,
     "metadata": {},
     "output_type": "execute_result"
    }
   ],
   "source": [
    "soccer_data_clean = soccer_data[~soccer_data.photoID.isnull()]\n",
    "soccer_data.shape[0] - soccer_data_clean.shape[0] # number of dropped players"
   ]
  },
  {
   "cell_type": "markdown",
   "metadata": {},
   "source": [
    "21407 entries have been dropped! The given data has an inconvenient structure for our analysis: each row is a _dyad_, which has a single player-referee interaction. This means that if a player has played games with more than 1 referee, that player will have several rows in this dataset. For example, let's look at everyone's favorite googly-eyed German: Mesut Ozil."
   ]
  },
  {
   "cell_type": "code",
   "execution_count": 64,
   "metadata": {
    "collapsed": false
   },
   "outputs": [
    {
     "data": {
      "text/html": [
       "<div>\n",
       "<table border=\"1\" class=\"dataframe\">\n",
       "  <thead>\n",
       "    <tr style=\"text-align: right;\">\n",
       "      <th></th>\n",
       "      <th>playerShort</th>\n",
       "      <th>player</th>\n",
       "      <th>club</th>\n",
       "      <th>leagueCountry</th>\n",
       "      <th>birthday</th>\n",
       "      <th>height</th>\n",
       "      <th>weight</th>\n",
       "      <th>position</th>\n",
       "      <th>games</th>\n",
       "      <th>victories</th>\n",
       "      <th>...</th>\n",
       "      <th>rater2</th>\n",
       "      <th>refNum</th>\n",
       "      <th>refCountry</th>\n",
       "      <th>Alpha_3</th>\n",
       "      <th>meanIAT</th>\n",
       "      <th>nIAT</th>\n",
       "      <th>seIAT</th>\n",
       "      <th>meanExp</th>\n",
       "      <th>nExp</th>\n",
       "      <th>seExp</th>\n",
       "    </tr>\n",
       "  </thead>\n",
       "  <tbody>\n",
       "    <tr>\n",
       "      <th>26</th>\n",
       "      <td>mesut-oezil</td>\n",
       "      <td>Mesut Özil</td>\n",
       "      <td>Real Madrid</td>\n",
       "      <td>Spain</td>\n",
       "      <td>15.10.1988</td>\n",
       "      <td>183.0</td>\n",
       "      <td>76.0</td>\n",
       "      <td>Attacking Midfielder</td>\n",
       "      <td>1</td>\n",
       "      <td>1</td>\n",
       "      <td>...</td>\n",
       "      <td>0.25</td>\n",
       "      <td>4</td>\n",
       "      <td>4</td>\n",
       "      <td>LUX</td>\n",
       "      <td>0.325185</td>\n",
       "      <td>127.0</td>\n",
       "      <td>0.003297</td>\n",
       "      <td>0.538462</td>\n",
       "      <td>130.0</td>\n",
       "      <td>0.013752</td>\n",
       "    </tr>\n",
       "    <tr>\n",
       "      <th>1051</th>\n",
       "      <td>mesut-oezil</td>\n",
       "      <td>Mesut Özil</td>\n",
       "      <td>Real Madrid</td>\n",
       "      <td>Spain</td>\n",
       "      <td>15.10.1988</td>\n",
       "      <td>183.0</td>\n",
       "      <td>76.0</td>\n",
       "      <td>Attacking Midfielder</td>\n",
       "      <td>1</td>\n",
       "      <td>1</td>\n",
       "      <td>...</td>\n",
       "      <td>0.25</td>\n",
       "      <td>66</td>\n",
       "      <td>4</td>\n",
       "      <td>LUX</td>\n",
       "      <td>0.325185</td>\n",
       "      <td>127.0</td>\n",
       "      <td>0.003297</td>\n",
       "      <td>0.538462</td>\n",
       "      <td>130.0</td>\n",
       "      <td>0.013752</td>\n",
       "    </tr>\n",
       "    <tr>\n",
       "      <th>1773</th>\n",
       "      <td>mesut-oezil</td>\n",
       "      <td>Mesut Özil</td>\n",
       "      <td>Real Madrid</td>\n",
       "      <td>Spain</td>\n",
       "      <td>15.10.1988</td>\n",
       "      <td>183.0</td>\n",
       "      <td>76.0</td>\n",
       "      <td>Attacking Midfielder</td>\n",
       "      <td>2</td>\n",
       "      <td>2</td>\n",
       "      <td>...</td>\n",
       "      <td>0.25</td>\n",
       "      <td>72</td>\n",
       "      <td>28</td>\n",
       "      <td>IRL</td>\n",
       "      <td>0.355498</td>\n",
       "      <td>4078.0</td>\n",
       "      <td>0.000098</td>\n",
       "      <td>0.517225</td>\n",
       "      <td>4238.0</td>\n",
       "      <td>0.000405</td>\n",
       "    </tr>\n",
       "    <tr>\n",
       "      <th>2852</th>\n",
       "      <td>mesut-oezil</td>\n",
       "      <td>Mesut Özil</td>\n",
       "      <td>Real Madrid</td>\n",
       "      <td>Spain</td>\n",
       "      <td>15.10.1988</td>\n",
       "      <td>183.0</td>\n",
       "      <td>76.0</td>\n",
       "      <td>Attacking Midfielder</td>\n",
       "      <td>14</td>\n",
       "      <td>11</td>\n",
       "      <td>...</td>\n",
       "      <td>0.25</td>\n",
       "      <td>88</td>\n",
       "      <td>3</td>\n",
       "      <td>ESP</td>\n",
       "      <td>0.369894</td>\n",
       "      <td>1785.0</td>\n",
       "      <td>0.000229</td>\n",
       "      <td>0.588297</td>\n",
       "      <td>1897.0</td>\n",
       "      <td>0.001002</td>\n",
       "    </tr>\n",
       "    <tr>\n",
       "      <th>3407</th>\n",
       "      <td>mesut-oezil</td>\n",
       "      <td>Mesut Özil</td>\n",
       "      <td>Real Madrid</td>\n",
       "      <td>Spain</td>\n",
       "      <td>15.10.1988</td>\n",
       "      <td>183.0</td>\n",
       "      <td>76.0</td>\n",
       "      <td>Attacking Midfielder</td>\n",
       "      <td>1</td>\n",
       "      <td>0</td>\n",
       "      <td>...</td>\n",
       "      <td>0.25</td>\n",
       "      <td>94</td>\n",
       "      <td>3</td>\n",
       "      <td>ESP</td>\n",
       "      <td>0.369894</td>\n",
       "      <td>1785.0</td>\n",
       "      <td>0.000229</td>\n",
       "      <td>0.588297</td>\n",
       "      <td>1897.0</td>\n",
       "      <td>0.001002</td>\n",
       "    </tr>\n",
       "  </tbody>\n",
       "</table>\n",
       "<p>5 rows × 28 columns</p>\n",
       "</div>"
      ],
      "text/plain": [
       "      playerShort      player         club leagueCountry    birthday  height  \\\n",
       "26    mesut-oezil  Mesut Özil  Real Madrid         Spain  15.10.1988   183.0   \n",
       "1051  mesut-oezil  Mesut Özil  Real Madrid         Spain  15.10.1988   183.0   \n",
       "1773  mesut-oezil  Mesut Özil  Real Madrid         Spain  15.10.1988   183.0   \n",
       "2852  mesut-oezil  Mesut Özil  Real Madrid         Spain  15.10.1988   183.0   \n",
       "3407  mesut-oezil  Mesut Özil  Real Madrid         Spain  15.10.1988   183.0   \n",
       "\n",
       "      weight              position  games  victories    ...     rater2  \\\n",
       "26      76.0  Attacking Midfielder      1          1    ...       0.25   \n",
       "1051    76.0  Attacking Midfielder      1          1    ...       0.25   \n",
       "1773    76.0  Attacking Midfielder      2          2    ...       0.25   \n",
       "2852    76.0  Attacking Midfielder     14         11    ...       0.25   \n",
       "3407    76.0  Attacking Midfielder      1          0    ...       0.25   \n",
       "\n",
       "      refNum  refCountry  Alpha_3   meanIAT    nIAT     seIAT   meanExp  \\\n",
       "26         4           4      LUX  0.325185   127.0  0.003297  0.538462   \n",
       "1051      66           4      LUX  0.325185   127.0  0.003297  0.538462   \n",
       "1773      72          28      IRL  0.355498  4078.0  0.000098  0.517225   \n",
       "2852      88           3      ESP  0.369894  1785.0  0.000229  0.588297   \n",
       "3407      94           3      ESP  0.369894  1785.0  0.000229  0.588297   \n",
       "\n",
       "        nExp     seExp  \n",
       "26     130.0  0.013752  \n",
       "1051   130.0  0.013752  \n",
       "1773  4238.0  0.000405  \n",
       "2852  1897.0  0.001002  \n",
       "3407  1897.0  0.001002  \n",
       "\n",
       "[5 rows x 28 columns]"
      ]
     },
     "execution_count": 64,
     "metadata": {},
     "output_type": "execute_result"
    }
   ],
   "source": [
    "soccer_data_clean[(soccer_data_clean.playerShort == \"mesut-oezil\")][:5]"
   ]
  },
  {
   "cell_type": "markdown",
   "metadata": {},
   "source": [
    "As we can see certain _features_ of a player stay the same, e.g. his name, his height, and his weight. We will also assume that `club` and `leagueCountry` also stay the same during the player's career as is done in this dataset (I check with Zlatan Ibrahimovic who has gone between multiple clubs but the only one listed for him was PSG). Some other variables depend on the referee (see table below).\n",
    "\n",
    "In the first exercise, we would like to predict the skin color of a player given his description and the second exercise asks to \"aggregate the referee information grouping by soccer player\". Therefore, we will have to perform some careful aggregation with those variables that depend on the referee. The table below describes how we will deal with each feature when performing aggregation.\n",
    "\n",
    "| Feature  | Process  | Reason/Assumption  |\n",
    "|---|---|---|\n",
    "| _playerShort_  | Keep first  | Unique for player  |\n",
    "| _player_  | Keep first  | Unique for player  |\n",
    "| _club_  | Keep first  | Assuming player stays in same team  |\n",
    "| _leagueCountry_  | Keep first  | Assumping player stays in same team  |\n",
    "| _birthday_  | Keep first  | Unique for player  |\n",
    "| _height_  | Keep first  | Assuming player does not grow or have a significant height increase during a single season.  |\n",
    "| _weight_  | Keep first  | Assuming player does gain a significant amount of weight during a single season.  |\n",
    "| _position_  | Keep first  | Assuming players has the same position during a single season.  |\n",
    "| _games_  | Sum over rows  | Yields total number of games during the 2012/2013 season.  |\n",
    "| _victories_  | Sum over rows  | Yields total number of victories.   |\n",
    "| _ties_  | Sum over rows  | Yields total number of ties.  |\n",
    "| _defeats_  | Sum over rows  | Yields total number of defeats.  |\n",
    "| _goals_  | Sum over rows  | Yields total number of goals.  |\n",
    "| _yellowCards_  | Sum over rows  | Yields total number of yellow cards.  |\n",
    "| _yellowReds_  | Sum over rows  | Yields total number of red cards obtained by two yellow cards.  |\n",
    "| _redCards_  | Sum over rows  | Yields total number of straight red cards.  |\n",
    "| _photoID_  | Disregard  | Not needed the photo ID for our analysis.  |\n",
    "| _rater1_  | Keep first  | Unique for player  |\n",
    "| _rater2_  | Keep first  | Unique for player  |\n",
    "| _refNum_  | Disregard  | Purpose of aggregation is to remove \"relationship\" with a particular referee.   |\n",
    "| _refCountry_  | Disregard  | Purpose of aggregation is to remove \"relationship\" with a particular referee.  |\n",
    "| <em>Alpha\\_3</em>  | Disregard  | As it is another representation of the referee's country, we will also disregard this.  |\n",
    "| _meanIAT_  | Disregard  | Computing weighted average.  |\n",
    "| _nIAT_  | Disregard  | We do not believe this will help with the classification.  |\n",
    "| _seIAT_  | Disregard  | We do not believe this will help with the classification.  |\n",
    "| _meanExp_  | Disregard  | Computing weighted average.  |\n",
    "| _nExp_  |  Disregard | We do not believe this will help with the classification.  |\n",
    "| _seExp_  | Disregard  | We do not believe this will help with the classification.  |"
   ]
  },
  {
   "cell_type": "markdown",
   "metadata": {},
   "source": [
    "First we will create a new DataFrame with `playerShort` as the index and we will sum over the necesary features/columns."
   ]
  },
  {
   "cell_type": "code",
   "execution_count": 65,
   "metadata": {
    "collapsed": false
   },
   "outputs": [
    {
     "data": {
      "text/html": [
       "<div>\n",
       "<table border=\"1\" class=\"dataframe\">\n",
       "  <thead>\n",
       "    <tr style=\"text-align: right;\">\n",
       "      <th></th>\n",
       "      <th>games</th>\n",
       "      <th>victories</th>\n",
       "      <th>ties</th>\n",
       "      <th>defeats</th>\n",
       "      <th>goals</th>\n",
       "      <th>yellowCards</th>\n",
       "      <th>yellowReds</th>\n",
       "      <th>redCards</th>\n",
       "    </tr>\n",
       "    <tr>\n",
       "      <th>playerShort</th>\n",
       "      <th></th>\n",
       "      <th></th>\n",
       "      <th></th>\n",
       "      <th></th>\n",
       "      <th></th>\n",
       "      <th></th>\n",
       "      <th></th>\n",
       "      <th></th>\n",
       "    </tr>\n",
       "  </thead>\n",
       "  <tbody>\n",
       "    <tr>\n",
       "      <th>aaron-hughes</th>\n",
       "      <td>654</td>\n",
       "      <td>247</td>\n",
       "      <td>179</td>\n",
       "      <td>228</td>\n",
       "      <td>9</td>\n",
       "      <td>19</td>\n",
       "      <td>0</td>\n",
       "      <td>0</td>\n",
       "    </tr>\n",
       "    <tr>\n",
       "      <th>aaron-hunt</th>\n",
       "      <td>336</td>\n",
       "      <td>141</td>\n",
       "      <td>73</td>\n",
       "      <td>122</td>\n",
       "      <td>62</td>\n",
       "      <td>42</td>\n",
       "      <td>0</td>\n",
       "      <td>1</td>\n",
       "    </tr>\n",
       "    <tr>\n",
       "      <th>aaron-lennon</th>\n",
       "      <td>412</td>\n",
       "      <td>200</td>\n",
       "      <td>97</td>\n",
       "      <td>115</td>\n",
       "      <td>31</td>\n",
       "      <td>11</td>\n",
       "      <td>0</td>\n",
       "      <td>0</td>\n",
       "    </tr>\n",
       "    <tr>\n",
       "      <th>aaron-ramsey</th>\n",
       "      <td>260</td>\n",
       "      <td>150</td>\n",
       "      <td>42</td>\n",
       "      <td>68</td>\n",
       "      <td>39</td>\n",
       "      <td>31</td>\n",
       "      <td>0</td>\n",
       "      <td>1</td>\n",
       "    </tr>\n",
       "    <tr>\n",
       "      <th>abdelhamid-el-kaoutari</th>\n",
       "      <td>124</td>\n",
       "      <td>41</td>\n",
       "      <td>40</td>\n",
       "      <td>43</td>\n",
       "      <td>1</td>\n",
       "      <td>8</td>\n",
       "      <td>4</td>\n",
       "      <td>2</td>\n",
       "    </tr>\n",
       "  </tbody>\n",
       "</table>\n",
       "</div>"
      ],
      "text/plain": [
       "                        games  victories  ties  defeats  goals  yellowCards  \\\n",
       "playerShort                                                                   \n",
       "aaron-hughes              654        247   179      228      9           19   \n",
       "aaron-hunt                336        141    73      122     62           42   \n",
       "aaron-lennon              412        200    97      115     31           11   \n",
       "aaron-ramsey              260        150    42       68     39           31   \n",
       "abdelhamid-el-kaoutari    124         41    40       43      1            8   \n",
       "\n",
       "                        yellowReds  redCards  \n",
       "playerShort                                   \n",
       "aaron-hughes                     0         0  \n",
       "aaron-hunt                       0         1  \n",
       "aaron-lennon                     0         0  \n",
       "aaron-ramsey                     0         1  \n",
       "abdelhamid-el-kaoutari           4         2  "
      ]
     },
     "execution_count": 65,
     "metadata": {},
     "output_type": "execute_result"
    }
   ],
   "source": [
    "player_groups = soccer_data_clean.groupby(\"playerShort\")\n",
    "data_agg = player_groups[[\"games\", \"victories\",\"ties\",\"defeats\",\"goals\",\"yellowCards\",\"yellowReds\",\"redCards\"]].aggregate(np.sum)\n",
    "data_agg.head()"
   ]
  },
  {
   "cell_type": "markdown",
   "metadata": {},
   "source": [
    "Now we will create a weighted sum of the mean implicit (IAT) and explicit (Exp) bias scores. Although such data is describing the referee and not the players, when we also take into account the number of cards a certain player received it could give some information on how a player might have been discriminated against."
   ]
  },
  {
   "cell_type": "code",
   "execution_count": 66,
   "metadata": {
    "collapsed": false
   },
   "outputs": [
    {
     "data": {
      "text/html": [
       "<div>\n",
       "<table border=\"1\" class=\"dataframe\">\n",
       "  <thead>\n",
       "    <tr style=\"text-align: right;\">\n",
       "      <th></th>\n",
       "      <th>games</th>\n",
       "      <th>victories</th>\n",
       "      <th>ties</th>\n",
       "      <th>defeats</th>\n",
       "      <th>goals</th>\n",
       "      <th>yellowCards</th>\n",
       "      <th>yellowReds</th>\n",
       "      <th>redCards</th>\n",
       "      <th>weightedIAT</th>\n",
       "      <th>weightedExp</th>\n",
       "    </tr>\n",
       "    <tr>\n",
       "      <th>playerShort</th>\n",
       "      <th></th>\n",
       "      <th></th>\n",
       "      <th></th>\n",
       "      <th></th>\n",
       "      <th></th>\n",
       "      <th></th>\n",
       "      <th></th>\n",
       "      <th></th>\n",
       "      <th></th>\n",
       "      <th></th>\n",
       "    </tr>\n",
       "  </thead>\n",
       "  <tbody>\n",
       "    <tr>\n",
       "      <th>aaron-hughes</th>\n",
       "      <td>654</td>\n",
       "      <td>247</td>\n",
       "      <td>179</td>\n",
       "      <td>228</td>\n",
       "      <td>9</td>\n",
       "      <td>19</td>\n",
       "      <td>0</td>\n",
       "      <td>0</td>\n",
       "      <td>0.333195</td>\n",
       "      <td>0.400637</td>\n",
       "    </tr>\n",
       "    <tr>\n",
       "      <th>aaron-hunt</th>\n",
       "      <td>336</td>\n",
       "      <td>141</td>\n",
       "      <td>73</td>\n",
       "      <td>122</td>\n",
       "      <td>62</td>\n",
       "      <td>42</td>\n",
       "      <td>0</td>\n",
       "      <td>1</td>\n",
       "      <td>0.341438</td>\n",
       "      <td>0.380811</td>\n",
       "    </tr>\n",
       "    <tr>\n",
       "      <th>aaron-lennon</th>\n",
       "      <td>412</td>\n",
       "      <td>200</td>\n",
       "      <td>97</td>\n",
       "      <td>115</td>\n",
       "      <td>31</td>\n",
       "      <td>11</td>\n",
       "      <td>0</td>\n",
       "      <td>0</td>\n",
       "      <td>0.332389</td>\n",
       "      <td>0.399459</td>\n",
       "    </tr>\n",
       "    <tr>\n",
       "      <th>aaron-ramsey</th>\n",
       "      <td>260</td>\n",
       "      <td>150</td>\n",
       "      <td>42</td>\n",
       "      <td>68</td>\n",
       "      <td>39</td>\n",
       "      <td>31</td>\n",
       "      <td>0</td>\n",
       "      <td>1</td>\n",
       "      <td>0.336638</td>\n",
       "      <td>0.433294</td>\n",
       "    </tr>\n",
       "    <tr>\n",
       "      <th>abdelhamid-el-kaoutari</th>\n",
       "      <td>124</td>\n",
       "      <td>41</td>\n",
       "      <td>40</td>\n",
       "      <td>43</td>\n",
       "      <td>1</td>\n",
       "      <td>8</td>\n",
       "      <td>4</td>\n",
       "      <td>2</td>\n",
       "      <td>0.331882</td>\n",
       "      <td>0.328895</td>\n",
       "    </tr>\n",
       "  </tbody>\n",
       "</table>\n",
       "</div>"
      ],
      "text/plain": [
       "                        games  victories  ties  defeats  goals  yellowCards  \\\n",
       "playerShort                                                                   \n",
       "aaron-hughes              654        247   179      228      9           19   \n",
       "aaron-hunt                336        141    73      122     62           42   \n",
       "aaron-lennon              412        200    97      115     31           11   \n",
       "aaron-ramsey              260        150    42       68     39           31   \n",
       "abdelhamid-el-kaoutari    124         41    40       43      1            8   \n",
       "\n",
       "                        yellowReds  redCards  weightedIAT  weightedExp  \n",
       "playerShort                                                             \n",
       "aaron-hughes                     0         0     0.333195     0.400637  \n",
       "aaron-hunt                       0         1     0.341438     0.380811  \n",
       "aaron-lennon                     0         0     0.332389     0.399459  \n",
       "aaron-ramsey                     0         1     0.336638     0.433294  \n",
       "abdelhamid-el-kaoutari           4         2     0.331882     0.328895  "
      ]
     },
     "execution_count": 66,
     "metadata": {},
     "output_type": "execute_result"
    }
   ],
   "source": [
    "ref_bias = soccer_data_clean[[\"playerShort\", \"games\",\"meanIAT\",\"meanExp\"]].groupby(\"playerShort\")\n",
    "# weighted sum of mean IAT and Exp scores\n",
    "def weighted_average(group, feature):\n",
    "    weights = group['games']\n",
    "    total_games = weights.sum()\n",
    "    scores = group[feature]\n",
    "    return (scores * weights).sum() / total_games\n",
    "data_agg[\"weightedIAT\"] = ref_bias.apply(weighted_average, 'meanIAT')   \n",
    "data_agg[\"weightedExp\"] = ref_bias.apply(weighted_average, 'meanExp') \n",
    "data_agg.head()"
   ]
  },
  {
   "cell_type": "markdown",
   "metadata": {},
   "source": [
    "We will also create a feature that contains the number of unique referees which gave each card type. Perhaps one referee was really biased towards a certain player."
   ]
  },
  {
   "cell_type": "code",
   "execution_count": 67,
   "metadata": {
    "collapsed": false
   },
   "outputs": [
    {
     "data": {
      "text/html": [
       "<div>\n",
       "<table border=\"1\" class=\"dataframe\">\n",
       "  <thead>\n",
       "    <tr style=\"text-align: right;\">\n",
       "      <th></th>\n",
       "      <th>games</th>\n",
       "      <th>victories</th>\n",
       "      <th>ties</th>\n",
       "      <th>defeats</th>\n",
       "      <th>goals</th>\n",
       "      <th>yellowCards</th>\n",
       "      <th>yellowReds</th>\n",
       "      <th>redCards</th>\n",
       "      <th>weightedIAT</th>\n",
       "      <th>weightedExp</th>\n",
       "      <th>uniqueYellow</th>\n",
       "      <th>uniqueYellowReds</th>\n",
       "      <th>uniqueReds</th>\n",
       "      <th>uniqueRefCards</th>\n",
       "    </tr>\n",
       "    <tr>\n",
       "      <th>playerShort</th>\n",
       "      <th></th>\n",
       "      <th></th>\n",
       "      <th></th>\n",
       "      <th></th>\n",
       "      <th></th>\n",
       "      <th></th>\n",
       "      <th></th>\n",
       "      <th></th>\n",
       "      <th></th>\n",
       "      <th></th>\n",
       "      <th></th>\n",
       "      <th></th>\n",
       "      <th></th>\n",
       "      <th></th>\n",
       "    </tr>\n",
       "  </thead>\n",
       "  <tbody>\n",
       "    <tr>\n",
       "      <th>aaron-hughes</th>\n",
       "      <td>654</td>\n",
       "      <td>247</td>\n",
       "      <td>179</td>\n",
       "      <td>228</td>\n",
       "      <td>9</td>\n",
       "      <td>19</td>\n",
       "      <td>0</td>\n",
       "      <td>0</td>\n",
       "      <td>0.333195</td>\n",
       "      <td>0.400637</td>\n",
       "      <td>16</td>\n",
       "      <td>0</td>\n",
       "      <td>0</td>\n",
       "      <td>16</td>\n",
       "    </tr>\n",
       "    <tr>\n",
       "      <th>aaron-hunt</th>\n",
       "      <td>336</td>\n",
       "      <td>141</td>\n",
       "      <td>73</td>\n",
       "      <td>122</td>\n",
       "      <td>62</td>\n",
       "      <td>42</td>\n",
       "      <td>0</td>\n",
       "      <td>1</td>\n",
       "      <td>0.341438</td>\n",
       "      <td>0.380811</td>\n",
       "      <td>29</td>\n",
       "      <td>0</td>\n",
       "      <td>1</td>\n",
       "      <td>29</td>\n",
       "    </tr>\n",
       "    <tr>\n",
       "      <th>aaron-lennon</th>\n",
       "      <td>412</td>\n",
       "      <td>200</td>\n",
       "      <td>97</td>\n",
       "      <td>115</td>\n",
       "      <td>31</td>\n",
       "      <td>11</td>\n",
       "      <td>0</td>\n",
       "      <td>0</td>\n",
       "      <td>0.332389</td>\n",
       "      <td>0.399459</td>\n",
       "      <td>10</td>\n",
       "      <td>0</td>\n",
       "      <td>0</td>\n",
       "      <td>10</td>\n",
       "    </tr>\n",
       "    <tr>\n",
       "      <th>aaron-ramsey</th>\n",
       "      <td>260</td>\n",
       "      <td>150</td>\n",
       "      <td>42</td>\n",
       "      <td>68</td>\n",
       "      <td>39</td>\n",
       "      <td>31</td>\n",
       "      <td>0</td>\n",
       "      <td>1</td>\n",
       "      <td>0.336638</td>\n",
       "      <td>0.433294</td>\n",
       "      <td>25</td>\n",
       "      <td>0</td>\n",
       "      <td>1</td>\n",
       "      <td>26</td>\n",
       "    </tr>\n",
       "    <tr>\n",
       "      <th>abdelhamid-el-kaoutari</th>\n",
       "      <td>124</td>\n",
       "      <td>41</td>\n",
       "      <td>40</td>\n",
       "      <td>43</td>\n",
       "      <td>1</td>\n",
       "      <td>8</td>\n",
       "      <td>4</td>\n",
       "      <td>2</td>\n",
       "      <td>0.331882</td>\n",
       "      <td>0.328895</td>\n",
       "      <td>8</td>\n",
       "      <td>4</td>\n",
       "      <td>2</td>\n",
       "      <td>13</td>\n",
       "    </tr>\n",
       "  </tbody>\n",
       "</table>\n",
       "</div>"
      ],
      "text/plain": [
       "                        games  victories  ties  defeats  goals  yellowCards  \\\n",
       "playerShort                                                                   \n",
       "aaron-hughes              654        247   179      228      9           19   \n",
       "aaron-hunt                336        141    73      122     62           42   \n",
       "aaron-lennon              412        200    97      115     31           11   \n",
       "aaron-ramsey              260        150    42       68     39           31   \n",
       "abdelhamid-el-kaoutari    124         41    40       43      1            8   \n",
       "\n",
       "                        yellowReds  redCards  weightedIAT  weightedExp  \\\n",
       "playerShort                                                              \n",
       "aaron-hughes                     0         0     0.333195     0.400637   \n",
       "aaron-hunt                       0         1     0.341438     0.380811   \n",
       "aaron-lennon                     0         0     0.332389     0.399459   \n",
       "aaron-ramsey                     0         1     0.336638     0.433294   \n",
       "abdelhamid-el-kaoutari           4         2     0.331882     0.328895   \n",
       "\n",
       "                        uniqueYellow  uniqueYellowReds  uniqueReds  \\\n",
       "playerShort                                                          \n",
       "aaron-hughes                      16                 0           0   \n",
       "aaron-hunt                        29                 0           1   \n",
       "aaron-lennon                      10                 0           0   \n",
       "aaron-ramsey                      25                 0           1   \n",
       "abdelhamid-el-kaoutari             8                 4           2   \n",
       "\n",
       "                        uniqueRefCards  \n",
       "playerShort                             \n",
       "aaron-hughes                        16  \n",
       "aaron-hunt                          29  \n",
       "aaron-lennon                        10  \n",
       "aaron-ramsey                        26  \n",
       "abdelhamid-el-kaoutari              13  "
      ]
     },
     "execution_count": 67,
     "metadata": {},
     "output_type": "execute_result"
    }
   ],
   "source": [
    "# count number of non-zero entries, i.e. number of unique referees who have given the card\n",
    "def num_unique_ref_card(group, card_type):\n",
    "    ref_card = group[card_type]\n",
    "    return (ref_card!=0).sum()\n",
    "\n",
    "# count number of unique referees that have given a card to a particular player\n",
    "def num_unique_ref(group):\n",
    "    ref_cards = group['yellowCards']+group['yellowReds']+group['redCards']\n",
    "    return (ref_cards!=0).sum()\n",
    "\n",
    "data_agg['uniqueYellow'] = player_groups.apply(num_unique_ref_card, 'yellowCards')\n",
    "data_agg['uniqueYellowReds'] = player_groups.apply(num_unique_ref_card, 'yellowReds')\n",
    "data_agg['uniqueReds'] = player_groups.apply(num_unique_ref_card, 'redCards')\n",
    "data_agg['uniqueRefCards'] = player_groups.apply(num_unique_ref)\n",
    "data_agg.head()"
   ]
  },
  {
   "cell_type": "code",
   "execution_count": 68,
   "metadata": {
    "collapsed": false
   },
   "outputs": [
    {
     "data": {
      "text/html": [
       "<div>\n",
       "<table border=\"1\" class=\"dataframe\">\n",
       "  <thead>\n",
       "    <tr style=\"text-align: right;\">\n",
       "      <th></th>\n",
       "      <th>games</th>\n",
       "      <th>victories</th>\n",
       "      <th>ties</th>\n",
       "      <th>defeats</th>\n",
       "      <th>goals</th>\n",
       "      <th>yellowCards</th>\n",
       "      <th>yellowReds</th>\n",
       "      <th>redCards</th>\n",
       "      <th>weightedIAT</th>\n",
       "      <th>weightedExp</th>\n",
       "      <th>uniqueYellow</th>\n",
       "      <th>uniqueYellowReds</th>\n",
       "      <th>uniqueReds</th>\n",
       "      <th>uniqueRefCards</th>\n",
       "    </tr>\n",
       "    <tr>\n",
       "      <th>playerShort</th>\n",
       "      <th></th>\n",
       "      <th></th>\n",
       "      <th></th>\n",
       "      <th></th>\n",
       "      <th></th>\n",
       "      <th></th>\n",
       "      <th></th>\n",
       "      <th></th>\n",
       "      <th></th>\n",
       "      <th></th>\n",
       "      <th></th>\n",
       "      <th></th>\n",
       "      <th></th>\n",
       "      <th></th>\n",
       "    </tr>\n",
       "  </thead>\n",
       "  <tbody>\n",
       "    <tr>\n",
       "      <th>zoltan-gera</th>\n",
       "      <td>392</td>\n",
       "      <td>150</td>\n",
       "      <td>96</td>\n",
       "      <td>146</td>\n",
       "      <td>71</td>\n",
       "      <td>44</td>\n",
       "      <td>1</td>\n",
       "      <td>1</td>\n",
       "      <td>0.336001</td>\n",
       "      <td>0.417374</td>\n",
       "      <td>35</td>\n",
       "      <td>1</td>\n",
       "      <td>1</td>\n",
       "      <td>37</td>\n",
       "    </tr>\n",
       "    <tr>\n",
       "      <th>zoltan-stieber</th>\n",
       "      <td>142</td>\n",
       "      <td>48</td>\n",
       "      <td>37</td>\n",
       "      <td>57</td>\n",
       "      <td>27</td>\n",
       "      <td>12</td>\n",
       "      <td>0</td>\n",
       "      <td>0</td>\n",
       "      <td>0.336786</td>\n",
       "      <td>0.345085</td>\n",
       "      <td>12</td>\n",
       "      <td>0</td>\n",
       "      <td>0</td>\n",
       "      <td>12</td>\n",
       "    </tr>\n",
       "    <tr>\n",
       "      <th>zoumana-camara</th>\n",
       "      <td>395</td>\n",
       "      <td>148</td>\n",
       "      <td>117</td>\n",
       "      <td>130</td>\n",
       "      <td>7</td>\n",
       "      <td>46</td>\n",
       "      <td>2</td>\n",
       "      <td>6</td>\n",
       "      <td>0.338068</td>\n",
       "      <td>0.363993</td>\n",
       "      <td>30</td>\n",
       "      <td>2</td>\n",
       "      <td>6</td>\n",
       "      <td>33</td>\n",
       "    </tr>\n",
       "    <tr>\n",
       "      <th>zubikarai</th>\n",
       "      <td>47</td>\n",
       "      <td>14</td>\n",
       "      <td>15</td>\n",
       "      <td>18</td>\n",
       "      <td>0</td>\n",
       "      <td>2</td>\n",
       "      <td>0</td>\n",
       "      <td>2</td>\n",
       "      <td>0.369270</td>\n",
       "      <td>0.590521</td>\n",
       "      <td>2</td>\n",
       "      <td>0</td>\n",
       "      <td>2</td>\n",
       "      <td>4</td>\n",
       "    </tr>\n",
       "    <tr>\n",
       "      <th>zurutuza</th>\n",
       "      <td>160</td>\n",
       "      <td>68</td>\n",
       "      <td>39</td>\n",
       "      <td>53</td>\n",
       "      <td>12</td>\n",
       "      <td>22</td>\n",
       "      <td>0</td>\n",
       "      <td>0</td>\n",
       "      <td>0.368915</td>\n",
       "      <td>0.588902</td>\n",
       "      <td>16</td>\n",
       "      <td>0</td>\n",
       "      <td>0</td>\n",
       "      <td>16</td>\n",
       "    </tr>\n",
       "  </tbody>\n",
       "</table>\n",
       "</div>"
      ],
      "text/plain": [
       "                games  victories  ties  defeats  goals  yellowCards  \\\n",
       "playerShort                                                           \n",
       "zoltan-gera       392        150    96      146     71           44   \n",
       "zoltan-stieber    142         48    37       57     27           12   \n",
       "zoumana-camara    395        148   117      130      7           46   \n",
       "zubikarai          47         14    15       18      0            2   \n",
       "zurutuza          160         68    39       53     12           22   \n",
       "\n",
       "                yellowReds  redCards  weightedIAT  weightedExp  uniqueYellow  \\\n",
       "playerShort                                                                    \n",
       "zoltan-gera              1         1     0.336001     0.417374            35   \n",
       "zoltan-stieber           0         0     0.336786     0.345085            12   \n",
       "zoumana-camara           2         6     0.338068     0.363993            30   \n",
       "zubikarai                0         2     0.369270     0.590521             2   \n",
       "zurutuza                 0         0     0.368915     0.588902            16   \n",
       "\n",
       "                uniqueYellowReds  uniqueReds  uniqueRefCards  \n",
       "playerShort                                                   \n",
       "zoltan-gera                    1           1              37  \n",
       "zoltan-stieber                 0           0              12  \n",
       "zoumana-camara                 2           6              33  \n",
       "zubikarai                      0           2               4  \n",
       "zurutuza                       0           0              16  "
      ]
     },
     "execution_count": 68,
     "metadata": {},
     "output_type": "execute_result"
    }
   ],
   "source": [
    "data_agg.tail()"
   ]
  },
  {
   "cell_type": "markdown",
   "metadata": {},
   "source": [
    "Now we need to extract the features of a player that are constant: Name, Height, Weight, Birthday, Position and Skin Color ratings, Club, Country of the League."
   ]
  },
  {
   "cell_type": "code",
   "execution_count": 69,
   "metadata": {
    "collapsed": false
   },
   "outputs": [
    {
     "data": {
      "text/html": [
       "<div>\n",
       "<table border=\"1\" class=\"dataframe\">\n",
       "  <thead>\n",
       "    <tr style=\"text-align: right;\">\n",
       "      <th></th>\n",
       "      <th>games</th>\n",
       "      <th>victories</th>\n",
       "      <th>ties</th>\n",
       "      <th>defeats</th>\n",
       "      <th>goals</th>\n",
       "      <th>yellowCards</th>\n",
       "      <th>yellowReds</th>\n",
       "      <th>redCards</th>\n",
       "      <th>weightedIAT</th>\n",
       "      <th>weightedExp</th>\n",
       "      <th>uniqueYellow</th>\n",
       "      <th>uniqueYellowReds</th>\n",
       "      <th>uniqueReds</th>\n",
       "      <th>uniqueRefCards</th>\n",
       "    </tr>\n",
       "    <tr>\n",
       "      <th>playerShort</th>\n",
       "      <th></th>\n",
       "      <th></th>\n",
       "      <th></th>\n",
       "      <th></th>\n",
       "      <th></th>\n",
       "      <th></th>\n",
       "      <th></th>\n",
       "      <th></th>\n",
       "      <th></th>\n",
       "      <th></th>\n",
       "      <th></th>\n",
       "      <th></th>\n",
       "      <th></th>\n",
       "      <th></th>\n",
       "    </tr>\n",
       "  </thead>\n",
       "  <tbody>\n",
       "    <tr>\n",
       "      <th>aaron-hughes</th>\n",
       "      <td>654</td>\n",
       "      <td>247</td>\n",
       "      <td>179</td>\n",
       "      <td>228</td>\n",
       "      <td>9</td>\n",
       "      <td>19</td>\n",
       "      <td>0</td>\n",
       "      <td>0</td>\n",
       "      <td>0.333195</td>\n",
       "      <td>0.400637</td>\n",
       "      <td>16</td>\n",
       "      <td>0</td>\n",
       "      <td>0</td>\n",
       "      <td>16</td>\n",
       "    </tr>\n",
       "    <tr>\n",
       "      <th>aaron-hunt</th>\n",
       "      <td>336</td>\n",
       "      <td>141</td>\n",
       "      <td>73</td>\n",
       "      <td>122</td>\n",
       "      <td>62</td>\n",
       "      <td>42</td>\n",
       "      <td>0</td>\n",
       "      <td>1</td>\n",
       "      <td>0.341438</td>\n",
       "      <td>0.380811</td>\n",
       "      <td>29</td>\n",
       "      <td>0</td>\n",
       "      <td>1</td>\n",
       "      <td>29</td>\n",
       "    </tr>\n",
       "    <tr>\n",
       "      <th>aaron-lennon</th>\n",
       "      <td>412</td>\n",
       "      <td>200</td>\n",
       "      <td>97</td>\n",
       "      <td>115</td>\n",
       "      <td>31</td>\n",
       "      <td>11</td>\n",
       "      <td>0</td>\n",
       "      <td>0</td>\n",
       "      <td>0.332389</td>\n",
       "      <td>0.399459</td>\n",
       "      <td>10</td>\n",
       "      <td>0</td>\n",
       "      <td>0</td>\n",
       "      <td>10</td>\n",
       "    </tr>\n",
       "    <tr>\n",
       "      <th>aaron-ramsey</th>\n",
       "      <td>260</td>\n",
       "      <td>150</td>\n",
       "      <td>42</td>\n",
       "      <td>68</td>\n",
       "      <td>39</td>\n",
       "      <td>31</td>\n",
       "      <td>0</td>\n",
       "      <td>1</td>\n",
       "      <td>0.336638</td>\n",
       "      <td>0.433294</td>\n",
       "      <td>25</td>\n",
       "      <td>0</td>\n",
       "      <td>1</td>\n",
       "      <td>26</td>\n",
       "    </tr>\n",
       "    <tr>\n",
       "      <th>abdelhamid-el-kaoutari</th>\n",
       "      <td>124</td>\n",
       "      <td>41</td>\n",
       "      <td>40</td>\n",
       "      <td>43</td>\n",
       "      <td>1</td>\n",
       "      <td>8</td>\n",
       "      <td>4</td>\n",
       "      <td>2</td>\n",
       "      <td>0.331882</td>\n",
       "      <td>0.328895</td>\n",
       "      <td>8</td>\n",
       "      <td>4</td>\n",
       "      <td>2</td>\n",
       "      <td>13</td>\n",
       "    </tr>\n",
       "  </tbody>\n",
       "</table>\n",
       "</div>"
      ],
      "text/plain": [
       "                        games  victories  ties  defeats  goals  yellowCards  \\\n",
       "playerShort                                                                   \n",
       "aaron-hughes              654        247   179      228      9           19   \n",
       "aaron-hunt                336        141    73      122     62           42   \n",
       "aaron-lennon              412        200    97      115     31           11   \n",
       "aaron-ramsey              260        150    42       68     39           31   \n",
       "abdelhamid-el-kaoutari    124         41    40       43      1            8   \n",
       "\n",
       "                        yellowReds  redCards  weightedIAT  weightedExp  \\\n",
       "playerShort                                                              \n",
       "aaron-hughes                     0         0     0.333195     0.400637   \n",
       "aaron-hunt                       0         1     0.341438     0.380811   \n",
       "aaron-lennon                     0         0     0.332389     0.399459   \n",
       "aaron-ramsey                     0         1     0.336638     0.433294   \n",
       "abdelhamid-el-kaoutari           4         2     0.331882     0.328895   \n",
       "\n",
       "                        uniqueYellow  uniqueYellowReds  uniqueReds  \\\n",
       "playerShort                                                          \n",
       "aaron-hughes                      16                 0           0   \n",
       "aaron-hunt                        29                 0           1   \n",
       "aaron-lennon                      10                 0           0   \n",
       "aaron-ramsey                      25                 0           1   \n",
       "abdelhamid-el-kaoutari             8                 4           2   \n",
       "\n",
       "                        uniqueRefCards  \n",
       "playerShort                             \n",
       "aaron-hughes                        16  \n",
       "aaron-hunt                          29  \n",
       "aaron-lennon                        10  \n",
       "aaron-ramsey                        26  \n",
       "abdelhamid-el-kaoutari              13  "
      ]
     },
     "execution_count": 69,
     "metadata": {},
     "output_type": "execute_result"
    }
   ],
   "source": [
    "# use \"first\" field of agg instead!\n",
    "def extract_const_feat(group, param):\n",
    "    return group[param].values[0]\n",
    "\n",
    "const_feat = [\"height\",\"weight\",\"club\",\"leagueCountry\",\"birthday\",\"position\",\"rater1\",\"rater2\"]\n",
    "for feat in const_feat:\n",
    "    data_agg[feat] = player_groups.apply(extract_const_feat, feat)\n",
    "data_agg.ix[:5,:14]"
   ]
  },
  {
   "cell_type": "code",
   "execution_count": 70,
   "metadata": {
    "collapsed": false
   },
   "outputs": [
    {
     "data": {
      "text/html": [
       "<div>\n",
       "<table border=\"1\" class=\"dataframe\">\n",
       "  <thead>\n",
       "    <tr style=\"text-align: right;\">\n",
       "      <th></th>\n",
       "      <th>height</th>\n",
       "      <th>weight</th>\n",
       "      <th>club</th>\n",
       "      <th>leagueCountry</th>\n",
       "      <th>birthday</th>\n",
       "      <th>position</th>\n",
       "      <th>rater1</th>\n",
       "      <th>rater2</th>\n",
       "    </tr>\n",
       "    <tr>\n",
       "      <th>playerShort</th>\n",
       "      <th></th>\n",
       "      <th></th>\n",
       "      <th></th>\n",
       "      <th></th>\n",
       "      <th></th>\n",
       "      <th></th>\n",
       "      <th></th>\n",
       "      <th></th>\n",
       "    </tr>\n",
       "  </thead>\n",
       "  <tbody>\n",
       "    <tr>\n",
       "      <th>aaron-hughes</th>\n",
       "      <td>182.0</td>\n",
       "      <td>71.0</td>\n",
       "      <td>Fulham FC</td>\n",
       "      <td>England</td>\n",
       "      <td>08.11.1979</td>\n",
       "      <td>Center Back</td>\n",
       "      <td>0.25</td>\n",
       "      <td>0.00</td>\n",
       "    </tr>\n",
       "    <tr>\n",
       "      <th>aaron-hunt</th>\n",
       "      <td>183.0</td>\n",
       "      <td>73.0</td>\n",
       "      <td>Werder Bremen</td>\n",
       "      <td>Germany</td>\n",
       "      <td>04.09.1986</td>\n",
       "      <td>Attacking Midfielder</td>\n",
       "      <td>0.00</td>\n",
       "      <td>0.25</td>\n",
       "    </tr>\n",
       "    <tr>\n",
       "      <th>aaron-lennon</th>\n",
       "      <td>165.0</td>\n",
       "      <td>63.0</td>\n",
       "      <td>Tottenham Hotspur</td>\n",
       "      <td>England</td>\n",
       "      <td>16.04.1987</td>\n",
       "      <td>Right Midfielder</td>\n",
       "      <td>0.25</td>\n",
       "      <td>0.25</td>\n",
       "    </tr>\n",
       "    <tr>\n",
       "      <th>aaron-ramsey</th>\n",
       "      <td>178.0</td>\n",
       "      <td>76.0</td>\n",
       "      <td>Arsenal FC</td>\n",
       "      <td>England</td>\n",
       "      <td>26.12.1990</td>\n",
       "      <td>Center Midfielder</td>\n",
       "      <td>0.00</td>\n",
       "      <td>0.00</td>\n",
       "    </tr>\n",
       "    <tr>\n",
       "      <th>abdelhamid-el-kaoutari</th>\n",
       "      <td>180.0</td>\n",
       "      <td>73.0</td>\n",
       "      <td>Montpellier HSC</td>\n",
       "      <td>France</td>\n",
       "      <td>17.03.1990</td>\n",
       "      <td>Center Back</td>\n",
       "      <td>0.25</td>\n",
       "      <td>0.25</td>\n",
       "    </tr>\n",
       "  </tbody>\n",
       "</table>\n",
       "</div>"
      ],
      "text/plain": [
       "                        height  weight               club leagueCountry  \\\n",
       "playerShort                                                               \n",
       "aaron-hughes             182.0    71.0          Fulham FC       England   \n",
       "aaron-hunt               183.0    73.0      Werder Bremen       Germany   \n",
       "aaron-lennon             165.0    63.0  Tottenham Hotspur       England   \n",
       "aaron-ramsey             178.0    76.0         Arsenal FC       England   \n",
       "abdelhamid-el-kaoutari   180.0    73.0    Montpellier HSC        France   \n",
       "\n",
       "                          birthday              position  rater1  rater2  \n",
       "playerShort                                                               \n",
       "aaron-hughes            08.11.1979           Center Back    0.25    0.00  \n",
       "aaron-hunt              04.09.1986  Attacking Midfielder    0.00    0.25  \n",
       "aaron-lennon            16.04.1987      Right Midfielder    0.25    0.25  \n",
       "aaron-ramsey            26.12.1990     Center Midfielder    0.00    0.00  \n",
       "abdelhamid-el-kaoutari  17.03.1990           Center Back    0.25    0.25  "
      ]
     },
     "execution_count": 70,
     "metadata": {},
     "output_type": "execute_result"
    }
   ],
   "source": [
    "data_agg.ix[:5,14:]"
   ]
  },
  {
   "cell_type": "markdown",
   "metadata": {},
   "source": [
    "We will use the `birthday` and today's date to compute the age of a player."
   ]
  },
  {
   "cell_type": "code",
   "execution_count": 71,
   "metadata": {
    "collapsed": false
   },
   "outputs": [],
   "source": [
    "from datetime import datetime\n",
    "def compute_age(player):\n",
    "    return (datetime.now() - pd.to_datetime(player['birthday'])).days/365\n",
    "data_agg['age'] = data_agg.apply(compute_age, axis=1)\n",
    "data_agg.drop('birthday', axis=1, inplace=True)"
   ]
  },
  {
   "cell_type": "markdown",
   "metadata": {},
   "source": [
    "Finally, we will need to use [_dummy encoding_](https://en.wikiversity.org/wiki/Dummy_variable_(statistics) for those features that are not numeric: `club`, `leagueCountry`, and `position`."
   ]
  },
  {
   "cell_type": "code",
   "execution_count": 72,
   "metadata": {
    "collapsed": false
   },
   "outputs": [
    {
     "data": {
      "text/plain": [
       "games                 int64\n",
       "victories             int64\n",
       "ties                  int64\n",
       "defeats               int64\n",
       "goals                 int64\n",
       "yellowCards           int64\n",
       "yellowReds            int64\n",
       "redCards              int64\n",
       "weightedIAT         float64\n",
       "weightedExp         float64\n",
       "uniqueYellow          int64\n",
       "uniqueYellowReds      int64\n",
       "uniqueReds            int64\n",
       "uniqueRefCards        int64\n",
       "height              float64\n",
       "weight              float64\n",
       "club                 object\n",
       "leagueCountry        object\n",
       "position             object\n",
       "rater1              float64\n",
       "rater2              float64\n",
       "age                 float64\n",
       "dtype: object"
      ]
     },
     "execution_count": 72,
     "metadata": {},
     "output_type": "execute_result"
    }
   ],
   "source": [
    "data_agg.dtypes"
   ]
  },
  {
   "cell_type": "markdown",
   "metadata": {},
   "source": [
    "Luckily, `pandas` has a function to do this dummy encoding for us ;)"
   ]
  },
  {
   "cell_type": "code",
   "execution_count": 73,
   "metadata": {
    "collapsed": false
   },
   "outputs": [
    {
     "data": {
      "text/html": [
       "<div>\n",
       "<table border=\"1\" class=\"dataframe\">\n",
       "  <thead>\n",
       "    <tr style=\"text-align: right;\">\n",
       "      <th></th>\n",
       "      <th>games</th>\n",
       "      <th>victories</th>\n",
       "      <th>ties</th>\n",
       "      <th>defeats</th>\n",
       "      <th>goals</th>\n",
       "      <th>yellowCards</th>\n",
       "      <th>yellowReds</th>\n",
       "      <th>redCards</th>\n",
       "      <th>weightedIAT</th>\n",
       "      <th>weightedExp</th>\n",
       "      <th>...</th>\n",
       "      <th>position_Center Forward</th>\n",
       "      <th>position_Center Midfielder</th>\n",
       "      <th>position_Defensive Midfielder</th>\n",
       "      <th>position_Goalkeeper</th>\n",
       "      <th>position_Left Fullback</th>\n",
       "      <th>position_Left Midfielder</th>\n",
       "      <th>position_Left Winger</th>\n",
       "      <th>position_Right Fullback</th>\n",
       "      <th>position_Right Midfielder</th>\n",
       "      <th>position_Right Winger</th>\n",
       "    </tr>\n",
       "    <tr>\n",
       "      <th>playerShort</th>\n",
       "      <th></th>\n",
       "      <th></th>\n",
       "      <th></th>\n",
       "      <th></th>\n",
       "      <th></th>\n",
       "      <th></th>\n",
       "      <th></th>\n",
       "      <th></th>\n",
       "      <th></th>\n",
       "      <th></th>\n",
       "      <th></th>\n",
       "      <th></th>\n",
       "      <th></th>\n",
       "      <th></th>\n",
       "      <th></th>\n",
       "      <th></th>\n",
       "      <th></th>\n",
       "      <th></th>\n",
       "      <th></th>\n",
       "      <th></th>\n",
       "      <th></th>\n",
       "    </tr>\n",
       "  </thead>\n",
       "  <tbody>\n",
       "    <tr>\n",
       "      <th>aaron-hughes</th>\n",
       "      <td>654</td>\n",
       "      <td>247</td>\n",
       "      <td>179</td>\n",
       "      <td>228</td>\n",
       "      <td>9</td>\n",
       "      <td>19</td>\n",
       "      <td>0</td>\n",
       "      <td>0</td>\n",
       "      <td>0.333195</td>\n",
       "      <td>0.400637</td>\n",
       "      <td>...</td>\n",
       "      <td>0.0</td>\n",
       "      <td>0.0</td>\n",
       "      <td>0.0</td>\n",
       "      <td>0.0</td>\n",
       "      <td>0.0</td>\n",
       "      <td>0.0</td>\n",
       "      <td>0.0</td>\n",
       "      <td>0.0</td>\n",
       "      <td>0.0</td>\n",
       "      <td>0.0</td>\n",
       "    </tr>\n",
       "    <tr>\n",
       "      <th>aaron-hunt</th>\n",
       "      <td>336</td>\n",
       "      <td>141</td>\n",
       "      <td>73</td>\n",
       "      <td>122</td>\n",
       "      <td>62</td>\n",
       "      <td>42</td>\n",
       "      <td>0</td>\n",
       "      <td>1</td>\n",
       "      <td>0.341438</td>\n",
       "      <td>0.380811</td>\n",
       "      <td>...</td>\n",
       "      <td>0.0</td>\n",
       "      <td>0.0</td>\n",
       "      <td>0.0</td>\n",
       "      <td>0.0</td>\n",
       "      <td>0.0</td>\n",
       "      <td>0.0</td>\n",
       "      <td>0.0</td>\n",
       "      <td>0.0</td>\n",
       "      <td>0.0</td>\n",
       "      <td>0.0</td>\n",
       "    </tr>\n",
       "    <tr>\n",
       "      <th>aaron-lennon</th>\n",
       "      <td>412</td>\n",
       "      <td>200</td>\n",
       "      <td>97</td>\n",
       "      <td>115</td>\n",
       "      <td>31</td>\n",
       "      <td>11</td>\n",
       "      <td>0</td>\n",
       "      <td>0</td>\n",
       "      <td>0.332389</td>\n",
       "      <td>0.399459</td>\n",
       "      <td>...</td>\n",
       "      <td>0.0</td>\n",
       "      <td>0.0</td>\n",
       "      <td>0.0</td>\n",
       "      <td>0.0</td>\n",
       "      <td>0.0</td>\n",
       "      <td>0.0</td>\n",
       "      <td>0.0</td>\n",
       "      <td>0.0</td>\n",
       "      <td>1.0</td>\n",
       "      <td>0.0</td>\n",
       "    </tr>\n",
       "    <tr>\n",
       "      <th>aaron-ramsey</th>\n",
       "      <td>260</td>\n",
       "      <td>150</td>\n",
       "      <td>42</td>\n",
       "      <td>68</td>\n",
       "      <td>39</td>\n",
       "      <td>31</td>\n",
       "      <td>0</td>\n",
       "      <td>1</td>\n",
       "      <td>0.336638</td>\n",
       "      <td>0.433294</td>\n",
       "      <td>...</td>\n",
       "      <td>0.0</td>\n",
       "      <td>1.0</td>\n",
       "      <td>0.0</td>\n",
       "      <td>0.0</td>\n",
       "      <td>0.0</td>\n",
       "      <td>0.0</td>\n",
       "      <td>0.0</td>\n",
       "      <td>0.0</td>\n",
       "      <td>0.0</td>\n",
       "      <td>0.0</td>\n",
       "    </tr>\n",
       "    <tr>\n",
       "      <th>abdelhamid-el-kaoutari</th>\n",
       "      <td>124</td>\n",
       "      <td>41</td>\n",
       "      <td>40</td>\n",
       "      <td>43</td>\n",
       "      <td>1</td>\n",
       "      <td>8</td>\n",
       "      <td>4</td>\n",
       "      <td>2</td>\n",
       "      <td>0.331882</td>\n",
       "      <td>0.328895</td>\n",
       "      <td>...</td>\n",
       "      <td>0.0</td>\n",
       "      <td>0.0</td>\n",
       "      <td>0.0</td>\n",
       "      <td>0.0</td>\n",
       "      <td>0.0</td>\n",
       "      <td>0.0</td>\n",
       "      <td>0.0</td>\n",
       "      <td>0.0</td>\n",
       "      <td>0.0</td>\n",
       "      <td>0.0</td>\n",
       "    </tr>\n",
       "  </tbody>\n",
       "</table>\n",
       "<p>5 rows × 132 columns</p>\n",
       "</div>"
      ],
      "text/plain": [
       "                        games  victories  ties  defeats  goals  yellowCards  \\\n",
       "playerShort                                                                   \n",
       "aaron-hughes              654        247   179      228      9           19   \n",
       "aaron-hunt                336        141    73      122     62           42   \n",
       "aaron-lennon              412        200    97      115     31           11   \n",
       "aaron-ramsey              260        150    42       68     39           31   \n",
       "abdelhamid-el-kaoutari    124         41    40       43      1            8   \n",
       "\n",
       "                        yellowReds  redCards  weightedIAT  weightedExp  \\\n",
       "playerShort                                                              \n",
       "aaron-hughes                     0         0     0.333195     0.400637   \n",
       "aaron-hunt                       0         1     0.341438     0.380811   \n",
       "aaron-lennon                     0         0     0.332389     0.399459   \n",
       "aaron-ramsey                     0         1     0.336638     0.433294   \n",
       "abdelhamid-el-kaoutari           4         2     0.331882     0.328895   \n",
       "\n",
       "                                ...            position_Center Forward  \\\n",
       "playerShort                     ...                                      \n",
       "aaron-hughes                    ...                                0.0   \n",
       "aaron-hunt                      ...                                0.0   \n",
       "aaron-lennon                    ...                                0.0   \n",
       "aaron-ramsey                    ...                                0.0   \n",
       "abdelhamid-el-kaoutari          ...                                0.0   \n",
       "\n",
       "                        position_Center Midfielder  \\\n",
       "playerShort                                          \n",
       "aaron-hughes                                   0.0   \n",
       "aaron-hunt                                     0.0   \n",
       "aaron-lennon                                   0.0   \n",
       "aaron-ramsey                                   1.0   \n",
       "abdelhamid-el-kaoutari                         0.0   \n",
       "\n",
       "                        position_Defensive Midfielder  position_Goalkeeper  \\\n",
       "playerShort                                                                  \n",
       "aaron-hughes                                      0.0                  0.0   \n",
       "aaron-hunt                                        0.0                  0.0   \n",
       "aaron-lennon                                      0.0                  0.0   \n",
       "aaron-ramsey                                      0.0                  0.0   \n",
       "abdelhamid-el-kaoutari                            0.0                  0.0   \n",
       "\n",
       "                        position_Left Fullback  position_Left Midfielder  \\\n",
       "playerShort                                                                \n",
       "aaron-hughes                               0.0                       0.0   \n",
       "aaron-hunt                                 0.0                       0.0   \n",
       "aaron-lennon                               0.0                       0.0   \n",
       "aaron-ramsey                               0.0                       0.0   \n",
       "abdelhamid-el-kaoutari                     0.0                       0.0   \n",
       "\n",
       "                        position_Left Winger  position_Right Fullback  \\\n",
       "playerShort                                                             \n",
       "aaron-hughes                             0.0                      0.0   \n",
       "aaron-hunt                               0.0                      0.0   \n",
       "aaron-lennon                             0.0                      0.0   \n",
       "aaron-ramsey                             0.0                      0.0   \n",
       "abdelhamid-el-kaoutari                   0.0                      0.0   \n",
       "\n",
       "                        position_Right Midfielder  position_Right Winger  \n",
       "playerShort                                                               \n",
       "aaron-hughes                                  0.0                    0.0  \n",
       "aaron-hunt                                    0.0                    0.0  \n",
       "aaron-lennon                                  1.0                    0.0  \n",
       "aaron-ramsey                                  0.0                    0.0  \n",
       "abdelhamid-el-kaoutari                        0.0                    0.0  \n",
       "\n",
       "[5 rows x 132 columns]"
      ]
     },
     "execution_count": 73,
     "metadata": {},
     "output_type": "execute_result"
    }
   ],
   "source": [
    "pd.get_dummies(data_agg).head()"
   ]
  },
  {
   "cell_type": "markdown",
   "metadata": {},
   "source": [
    "Finally, we need to combine the two skin rating values into a single value corresponding to the skin color of the player; this combination will be done by taking the average of the two."
   ]
  },
  {
   "cell_type": "code",
   "execution_count": 74,
   "metadata": {
    "collapsed": false
   },
   "outputs": [
    {
     "data": {
      "text/html": [
       "<div>\n",
       "<table border=\"1\" class=\"dataframe\">\n",
       "  <thead>\n",
       "    <tr style=\"text-align: right;\">\n",
       "      <th></th>\n",
       "      <th>games</th>\n",
       "      <th>victories</th>\n",
       "      <th>ties</th>\n",
       "      <th>defeats</th>\n",
       "      <th>goals</th>\n",
       "      <th>yellowCards</th>\n",
       "      <th>yellowReds</th>\n",
       "      <th>redCards</th>\n",
       "      <th>weightedIAT</th>\n",
       "      <th>weightedExp</th>\n",
       "      <th>...</th>\n",
       "      <th>position_Center Midfielder</th>\n",
       "      <th>position_Defensive Midfielder</th>\n",
       "      <th>position_Goalkeeper</th>\n",
       "      <th>position_Left Fullback</th>\n",
       "      <th>position_Left Midfielder</th>\n",
       "      <th>position_Left Winger</th>\n",
       "      <th>position_Right Fullback</th>\n",
       "      <th>position_Right Midfielder</th>\n",
       "      <th>position_Right Winger</th>\n",
       "      <th>skin_label</th>\n",
       "    </tr>\n",
       "    <tr>\n",
       "      <th>playerShort</th>\n",
       "      <th></th>\n",
       "      <th></th>\n",
       "      <th></th>\n",
       "      <th></th>\n",
       "      <th></th>\n",
       "      <th></th>\n",
       "      <th></th>\n",
       "      <th></th>\n",
       "      <th></th>\n",
       "      <th></th>\n",
       "      <th></th>\n",
       "      <th></th>\n",
       "      <th></th>\n",
       "      <th></th>\n",
       "      <th></th>\n",
       "      <th></th>\n",
       "      <th></th>\n",
       "      <th></th>\n",
       "      <th></th>\n",
       "      <th></th>\n",
       "      <th></th>\n",
       "    </tr>\n",
       "  </thead>\n",
       "  <tbody>\n",
       "    <tr>\n",
       "      <th>aaron-hughes</th>\n",
       "      <td>654</td>\n",
       "      <td>247</td>\n",
       "      <td>179</td>\n",
       "      <td>228</td>\n",
       "      <td>9</td>\n",
       "      <td>19</td>\n",
       "      <td>0</td>\n",
       "      <td>0</td>\n",
       "      <td>0.333195</td>\n",
       "      <td>0.400637</td>\n",
       "      <td>...</td>\n",
       "      <td>0.0</td>\n",
       "      <td>0.0</td>\n",
       "      <td>0.0</td>\n",
       "      <td>0.0</td>\n",
       "      <td>0.0</td>\n",
       "      <td>0.0</td>\n",
       "      <td>0.0</td>\n",
       "      <td>0.0</td>\n",
       "      <td>0.0</td>\n",
       "      <td>0.125</td>\n",
       "    </tr>\n",
       "    <tr>\n",
       "      <th>aaron-hunt</th>\n",
       "      <td>336</td>\n",
       "      <td>141</td>\n",
       "      <td>73</td>\n",
       "      <td>122</td>\n",
       "      <td>62</td>\n",
       "      <td>42</td>\n",
       "      <td>0</td>\n",
       "      <td>1</td>\n",
       "      <td>0.341438</td>\n",
       "      <td>0.380811</td>\n",
       "      <td>...</td>\n",
       "      <td>0.0</td>\n",
       "      <td>0.0</td>\n",
       "      <td>0.0</td>\n",
       "      <td>0.0</td>\n",
       "      <td>0.0</td>\n",
       "      <td>0.0</td>\n",
       "      <td>0.0</td>\n",
       "      <td>0.0</td>\n",
       "      <td>0.0</td>\n",
       "      <td>0.125</td>\n",
       "    </tr>\n",
       "    <tr>\n",
       "      <th>aaron-lennon</th>\n",
       "      <td>412</td>\n",
       "      <td>200</td>\n",
       "      <td>97</td>\n",
       "      <td>115</td>\n",
       "      <td>31</td>\n",
       "      <td>11</td>\n",
       "      <td>0</td>\n",
       "      <td>0</td>\n",
       "      <td>0.332389</td>\n",
       "      <td>0.399459</td>\n",
       "      <td>...</td>\n",
       "      <td>0.0</td>\n",
       "      <td>0.0</td>\n",
       "      <td>0.0</td>\n",
       "      <td>0.0</td>\n",
       "      <td>0.0</td>\n",
       "      <td>0.0</td>\n",
       "      <td>0.0</td>\n",
       "      <td>1.0</td>\n",
       "      <td>0.0</td>\n",
       "      <td>0.250</td>\n",
       "    </tr>\n",
       "    <tr>\n",
       "      <th>aaron-ramsey</th>\n",
       "      <td>260</td>\n",
       "      <td>150</td>\n",
       "      <td>42</td>\n",
       "      <td>68</td>\n",
       "      <td>39</td>\n",
       "      <td>31</td>\n",
       "      <td>0</td>\n",
       "      <td>1</td>\n",
       "      <td>0.336638</td>\n",
       "      <td>0.433294</td>\n",
       "      <td>...</td>\n",
       "      <td>1.0</td>\n",
       "      <td>0.0</td>\n",
       "      <td>0.0</td>\n",
       "      <td>0.0</td>\n",
       "      <td>0.0</td>\n",
       "      <td>0.0</td>\n",
       "      <td>0.0</td>\n",
       "      <td>0.0</td>\n",
       "      <td>0.0</td>\n",
       "      <td>0.000</td>\n",
       "    </tr>\n",
       "    <tr>\n",
       "      <th>abdelhamid-el-kaoutari</th>\n",
       "      <td>124</td>\n",
       "      <td>41</td>\n",
       "      <td>40</td>\n",
       "      <td>43</td>\n",
       "      <td>1</td>\n",
       "      <td>8</td>\n",
       "      <td>4</td>\n",
       "      <td>2</td>\n",
       "      <td>0.331882</td>\n",
       "      <td>0.328895</td>\n",
       "      <td>...</td>\n",
       "      <td>0.0</td>\n",
       "      <td>0.0</td>\n",
       "      <td>0.0</td>\n",
       "      <td>0.0</td>\n",
       "      <td>0.0</td>\n",
       "      <td>0.0</td>\n",
       "      <td>0.0</td>\n",
       "      <td>0.0</td>\n",
       "      <td>0.0</td>\n",
       "      <td>0.250</td>\n",
       "    </tr>\n",
       "  </tbody>\n",
       "</table>\n",
       "<p>5 rows × 131 columns</p>\n",
       "</div>"
      ],
      "text/plain": [
       "                        games  victories  ties  defeats  goals  yellowCards  \\\n",
       "playerShort                                                                   \n",
       "aaron-hughes              654        247   179      228      9           19   \n",
       "aaron-hunt                336        141    73      122     62           42   \n",
       "aaron-lennon              412        200    97      115     31           11   \n",
       "aaron-ramsey              260        150    42       68     39           31   \n",
       "abdelhamid-el-kaoutari    124         41    40       43      1            8   \n",
       "\n",
       "                        yellowReds  redCards  weightedIAT  weightedExp  \\\n",
       "playerShort                                                              \n",
       "aaron-hughes                     0         0     0.333195     0.400637   \n",
       "aaron-hunt                       0         1     0.341438     0.380811   \n",
       "aaron-lennon                     0         0     0.332389     0.399459   \n",
       "aaron-ramsey                     0         1     0.336638     0.433294   \n",
       "abdelhamid-el-kaoutari           4         2     0.331882     0.328895   \n",
       "\n",
       "                           ...      position_Center Midfielder  \\\n",
       "playerShort                ...                                   \n",
       "aaron-hughes               ...                             0.0   \n",
       "aaron-hunt                 ...                             0.0   \n",
       "aaron-lennon               ...                             0.0   \n",
       "aaron-ramsey               ...                             1.0   \n",
       "abdelhamid-el-kaoutari     ...                             0.0   \n",
       "\n",
       "                        position_Defensive Midfielder  position_Goalkeeper  \\\n",
       "playerShort                                                                  \n",
       "aaron-hughes                                      0.0                  0.0   \n",
       "aaron-hunt                                        0.0                  0.0   \n",
       "aaron-lennon                                      0.0                  0.0   \n",
       "aaron-ramsey                                      0.0                  0.0   \n",
       "abdelhamid-el-kaoutari                            0.0                  0.0   \n",
       "\n",
       "                        position_Left Fullback  position_Left Midfielder  \\\n",
       "playerShort                                                                \n",
       "aaron-hughes                               0.0                       0.0   \n",
       "aaron-hunt                                 0.0                       0.0   \n",
       "aaron-lennon                               0.0                       0.0   \n",
       "aaron-ramsey                               0.0                       0.0   \n",
       "abdelhamid-el-kaoutari                     0.0                       0.0   \n",
       "\n",
       "                        position_Left Winger  position_Right Fullback  \\\n",
       "playerShort                                                             \n",
       "aaron-hughes                             0.0                      0.0   \n",
       "aaron-hunt                               0.0                      0.0   \n",
       "aaron-lennon                             0.0                      0.0   \n",
       "aaron-ramsey                             0.0                      0.0   \n",
       "abdelhamid-el-kaoutari                   0.0                      0.0   \n",
       "\n",
       "                        position_Right Midfielder  position_Right Winger  \\\n",
       "playerShort                                                                \n",
       "aaron-hughes                                  0.0                    0.0   \n",
       "aaron-hunt                                    0.0                    0.0   \n",
       "aaron-lennon                                  1.0                    0.0   \n",
       "aaron-ramsey                                  0.0                    0.0   \n",
       "abdelhamid-el-kaoutari                        0.0                    0.0   \n",
       "\n",
       "                        skin_label  \n",
       "playerShort                         \n",
       "aaron-hughes                 0.125  \n",
       "aaron-hunt                   0.125  \n",
       "aaron-lennon                 0.250  \n",
       "aaron-ramsey                 0.000  \n",
       "abdelhamid-el-kaoutari       0.250  \n",
       "\n",
       "[5 rows x 131 columns]"
      ]
     },
     "execution_count": 74,
     "metadata": {},
     "output_type": "execute_result"
    }
   ],
   "source": [
    "# Label two different skin colors according to rate average: 0-white, 1-black.\n",
    "def rate_average_label(group):\n",
    "    return (group['rater1'].values[0]+ group['rater2'].values[0])/2\n",
    "#     rate_average = (group['rater1'].values[0]+ group['rater2'].values[0])/2\n",
    "#     if rate_average >= 0.5:\n",
    "#         return 1\n",
    "#     else:\n",
    "#         return 0\n",
    "\n",
    "player_data = pd.get_dummies(data_agg)\n",
    "player_data[\"skin_label\"] = player_groups.apply(rate_average_label) \n",
    "player_data.drop(['rater1','rater2'], axis=1, inplace=True)\n",
    "player_data.head()"
   ]
  },
  {
   "cell_type": "code",
   "execution_count": 75,
   "metadata": {
    "collapsed": false
   },
   "outputs": [
    {
     "data": {
      "text/plain": [
       "(1585, 131)"
      ]
     },
     "execution_count": 75,
     "metadata": {},
     "output_type": "execute_result"
    }
   ],
   "source": [
    "player_data.shape"
   ]
  },
  {
   "cell_type": "markdown",
   "metadata": {},
   "source": [
    "Below we observe that the DataFrame has `NaN` values for the height and weight of some players."
   ]
  },
  {
   "cell_type": "code",
   "execution_count": 76,
   "metadata": {
    "collapsed": false
   },
   "outputs": [
    {
     "name": "stdout",
     "output_type": "stream",
     "text": [
      "2\n"
     ]
    },
    {
     "data": {
      "text/plain": [
       "games               False\n",
       "victories           False\n",
       "ties                False\n",
       "defeats             False\n",
       "goals               False\n",
       "yellowCards         False\n",
       "yellowReds          False\n",
       "redCards            False\n",
       "weightedIAT         False\n",
       "weightedExp         False\n",
       "uniqueYellow        False\n",
       "uniqueYellowReds    False\n",
       "uniqueReds          False\n",
       "uniqueRefCards      False\n",
       "height               True\n",
       "weight               True\n",
       "age                 False\n",
       "dtype: bool"
      ]
     },
     "execution_count": 76,
     "metadata": {},
     "output_type": "execute_result"
    }
   ],
   "source": [
    "print(player_data.isnull().any(axis=0).sum()) # two columns have NaN values - height and weight\n",
    "player_data.isnull().any(axis=0)[:17]"
   ]
  },
  {
   "cell_type": "code",
   "execution_count": 77,
   "metadata": {
    "collapsed": false
   },
   "outputs": [
    {
     "data": {
      "text/plain": [
       "21"
      ]
     },
     "execution_count": 77,
     "metadata": {},
     "output_type": "execute_result"
    }
   ],
   "source": [
    "player_data[player_data.isnull().any(axis=1)].shape[0]"
   ]
  },
  {
   "cell_type": "markdown",
   "metadata": {},
   "source": [
    "We will remove these 21 players before beginning classification."
   ]
  },
  {
   "cell_type": "code",
   "execution_count": 78,
   "metadata": {
    "collapsed": false
   },
   "outputs": [],
   "source": [
    "player_data_clean = player_data.dropna()"
   ]
  },
  {
   "cell_type": "markdown",
   "metadata": {},
   "source": [
    "Just to check `NaN` we dropped successfully:"
   ]
  },
  {
   "cell_type": "code",
   "execution_count": 79,
   "metadata": {
    "collapsed": false
   },
   "outputs": [
    {
     "name": "stdout",
     "output_type": "stream",
     "text": [
      "21\n",
      "0\n"
     ]
    }
   ],
   "source": [
    "print(player_data.shape[0] - player_data_clean.shape[0])  # check number of dropped players is 21\n",
    "print(player_data_clean.isnull().any(axis=1).sum())       # check 0 players with NaN data"
   ]
  },
  {
   "cell_type": "markdown",
   "metadata": {},
   "source": [
    "## Threshold for classification"
   ]
  },
  {
   "cell_type": "markdown",
   "metadata": {},
   "source": [
    "In the exercises that follow, we will stick to binary classification (light or dark skin) rather than multiclass (there are 9 possible values for rating the skin color after averaging). With only two ratings, the uncertainty margin may be too large to allow for precise classification into multiple classes.\n",
    "\n",
    "We could not find official statistics on the number of black players but this is what we have found online:\n",
    "* 183/568 = 32.22% black players in the English Premier League in 2012/2013 (http://www.sportingintelligence.com/2012/08/20/premier-league-diversity-at-heart-of-global-appeal-200801/)\n",
    "* ~38% in the French league (https://answers.yahoo.com/question/index?qid=20100109151925AAsWDT9)\n",
    "* ~11% in the Spanish league (https://answers.yahoo.com/question/index?qid=20100109151925AAsWDT9)\n",
    "\n",
    "If we assume ~11% for the German league as well (the English league is known to be very diverse and the French league has a lot of players of African origin due to much of African being [francophone](http://spiritofmirko.com/2013/03/06/african-footballers-in-the-premier-league-la-liga-ligue-1-serie-a-and-the-bundesliga/) so this is a \"safe\" estimate), we can compute the rough percentage of black players in our dataset as follows."
   ]
  },
  {
   "cell_type": "code",
   "execution_count": null,
   "metadata": {
    "collapsed": false
   },
   "outputs": [],
   "source": [
    "# compute weighted average\n",
    "country_perc = np.array([32.22,38,11,11])\n",
    "country_perc = {'England': 32.88, 'France': 38, 'Spain':11, 'Germany':11}\n",
    "players_per_country = {}\n",
    "players_per_country['England'] = sum(player_data_clean.leagueCountry_England)\n",
    "players_per_country['France'] = sum(player_data_clean.leagueCountry_France)\n",
    "players_per_country['Spain'] = sum(player_data_clean.leagueCountry_Spain)\n",
    "players_per_country['Germany'] = sum(player_data_clean.leagueCountry_Germany)\n",
    "    \n",
    "tot_players = player_data_clean.shape[0]\n",
    "print(players_per_country)\n",
    "sum([players_per_country[key]*country_perc[key] for key in players_per_country])/tot_players"
   ]
  },
  {
   "cell_type": "markdown",
   "metadata": {},
   "source": [
    "As we have less players from leagues with a large number of black players (England and France), our expected percentage of black players in the dataset is lower - 20.98%.\n",
    "\n",
    "Let's have a quick look at the distribution of skin color ratings in our dataset."
   ]
  },
  {
   "cell_type": "code",
   "execution_count": null,
   "metadata": {
    "collapsed": false
   },
   "outputs": [],
   "source": [
    "player_data_clean.skin_label.value_counts()"
   ]
  },
  {
   "cell_type": "code",
   "execution_count": null,
   "metadata": {
    "collapsed": false
   },
   "outputs": [],
   "source": [
    "player_data_clean.skin_label.hist(bins=20)"
   ]
  },
  {
   "cell_type": "markdown",
   "metadata": {},
   "source": [
    "The `quantile` function will give us a threshold such that ~20.98 percentage of scores are above and the rest below."
   ]
  },
  {
   "cell_type": "code",
   "execution_count": null,
   "metadata": {
    "collapsed": false
   },
   "outputs": [],
   "source": [
    "THRESH = player_data_clean.skin_label.quantile(1-0.2098)\n",
    "THRESH"
   ]
  },
  {
   "cell_type": "code",
   "execution_count": null,
   "metadata": {
    "collapsed": false
   },
   "outputs": [],
   "source": [
    "def apply_threshold(player):\n",
    "    if player.skin_label > THRESH:\n",
    "        return 1\n",
    "    else: return 0\n",
    "\n",
    "player_data_bin = player_data_clean.copy()\n",
    "player_data_bin[\"skin_label\"] = player_data_bin.apply(apply_threshold,axis=1)\n",
    "player_data_bin.skin_label.value_counts()"
   ]
  },
  {
   "cell_type": "markdown",
   "metadata": {},
   "source": [
    "This gives about 24.17% black players in our dateset (using `> THRESH` rather than `>=THRESH` yields 16.81% which is further from 20.98)."
   ]
  },
  {
   "cell_type": "markdown",
   "metadata": {},
   "source": [
    "# Exercise 1 - Classification\n",
    "\n",
    "<em>Train a `sklearn.ensemble.RandomForestClassifier` that given a soccer player description outputs his skin color. Show how different parameters passed to the Classifier affect the overfitting issue. Perform cross-validation to mitigate the overfitting of your model. Once you assessed your model, inspect the `feature_importances_` attribute and discuss the obtained results. With different assumptions on the data (e.g., dropping certain features even before feeding them to the classifier), can you obtain a substantially different `feature_importances_` attribute?</em>"
   ]
  },
  {
   "cell_type": "markdown",
   "metadata": {},
   "source": [
    "### Import libraries and split data"
   ]
  },
  {
   "cell_type": "code",
   "execution_count": null,
   "metadata": {
    "collapsed": false
   },
   "outputs": [],
   "source": [
    "from sklearn import ensemble\n",
    "from sklearn.model_selection import train_test_split\n",
    "from sklearn import metrics\n",
    "\n",
    "RANDOM_SEED = 0"
   ]
  },
  {
   "cell_type": "markdown",
   "metadata": {},
   "source": [
    "First we need to split the data into training and testing sets."
   ]
  },
  {
   "cell_type": "code",
   "execution_count": null,
   "metadata": {
    "collapsed": false
   },
   "outputs": [],
   "source": [
    "# split input (features) and output (skin label)\n",
    "n_sample = player_data_bin.shape[0] #1564\n",
    "n_feature = player_data_bin.shape[1]-1 #130\n",
    "X = player_data_bin.ix[:,:n_feature]\n",
    "Y = player_data_bin.ix[:,n_feature]\n",
    "# split\n",
    "X_train, X_test, Y_train, Y_test = train_test_split(X, Y, test_size=0.3, random_state=RANDOM_SEED)"
   ]
  },
  {
   "cell_type": "markdown",
   "metadata": {},
   "source": [
    "### How different parameters passed to Classifier affect the overfitting issue\n",
    "\n",
    "**NOTE** Normally, we would not touch the test set till the very end. However, to emphasize \"how different parameters passed to Classifier affect the overfitting issue\" we will use it now.\n",
    "\n",
    "Let's keep the number of trees (`n_estimators`) fixed at 30 and vary the maximum depth of the tress (`max_depth`) as so:"
   ]
  },
  {
   "cell_type": "code",
   "execution_count": null,
   "metadata": {
    "collapsed": true
   },
   "outputs": [],
   "source": [
    "depth_vals = range(1,30)"
   ]
  },
  {
   "cell_type": "markdown",
   "metadata": {},
   "source": [
    "Now we will compute the training and testing error when training a model for each of these values of the maximum depth of the tree."
   ]
  },
  {
   "cell_type": "code",
   "execution_count": null,
   "metadata": {
    "collapsed": false
   },
   "outputs": [],
   "source": [
    "n_estimators = 30\n",
    "random_seed = 0\n",
    "train_acc = np.zeros(len(depth_vals)) \n",
    "test_acc = np.zeros(len(depth_vals)) \n",
    "for max_depth in depth_vals:\n",
    "    forest = ensemble.RandomForestClassifier(n_estimators=n_estimators, max_depth=max_depth, random_state=random_seed)\n",
    "    forest = forest.fit(X_train, Y_train)\n",
    "    # compute predictions\n",
    "    Y_train_pred = forest.predict(X_train)\n",
    "    Y_test_pred = forest.predict(X_test)\n",
    "    # calculate accuracy\n",
    "    train_acc[max_depth-1] = 1-metrics.accuracy_score(Y_train, Y_train_pred)\n",
    "    test_acc[max_depth-1] = 1-metrics.accuracy_score(Y_test, Y_test_pred)"
   ]
  },
  {
   "cell_type": "markdown",
   "metadata": {},
   "source": [
    "Let's plot the \"learning curve\" for this overfitting demonstration."
   ]
  },
  {
   "cell_type": "code",
   "execution_count": null,
   "metadata": {
    "collapsed": false
   },
   "outputs": [],
   "source": [
    "plt.figure()\n",
    "plt.plot(depth_vals, train_acc*100, label='Testing error')\n",
    "plt.plot(depth_vals, test_acc*100, label='Training error')\n",
    "plt.xlabel('Depth of tree')\n",
    "plt.ylabel('Error percentage')\n",
    "# plt.legend('Training Error', 'Testing Error')\n",
    "plt.legend(loc='center right')\n",
    "plt.title('Illustrating overfitting')\n",
    "plt.show()"
   ]
  },
  {
   "cell_type": "markdown",
   "metadata": {},
   "source": [
    "As we can see in the plot above, increasing the depth of the tree leads to overfitting as the training error rapidly approaches zero but the testing error does not budge. This gap between the training error and testing error for the larger values of the maximum tree depth is characteristic of overfitting - even though the model works very well on the training data, it does not perform as well on unseen data.\n",
    "\n",
    "Now why do we get overfitting for larger values of the maximum tree depth? We can explain this with the following intuitive approach. If we think of going deeper in the tree as being able to \"ask more questions\" with a larger maximum depth our classifier can \"ask more questions\" and will fit to our training data very well. Therefore, ncreasing the depth does not help with generalizing on unseen data."
   ]
  },
  {
   "cell_type": "markdown",
   "metadata": {},
   "source": [
    "### Perform cross-validation to mitigate the overfitting of your model\n",
    "\n",
    "`scikit-learn` has some really powerful function to perform cross-validation. We will be using the `GridSearchCV` class."
   ]
  },
  {
   "cell_type": "code",
   "execution_count": null,
   "metadata": {
    "collapsed": true
   },
   "outputs": [],
   "source": [
    "# import class for stratified k-fold cross validation\n",
    "from sklearn.model_selection import GridSearchCV"
   ]
  },
  {
   "cell_type": "markdown",
   "metadata": {},
   "source": [
    "With this class, we can perform a grid search over the desired set of model parameters to tune. For our Random Forest classifier, we are interested in selecting the ideal number of trees (`n_estimators`) and maximum tree depth (`max_depth`). We will search over the following values for these parameters:\n",
    "\n",
    "* `n_estimators`: 5 to 50 in steps of 5\n",
    "* `max_depth`: 1 to 21 in steps of 1"
   ]
  },
  {
   "cell_type": "code",
   "execution_count": null,
   "metadata": {
    "collapsed": true
   },
   "outputs": [],
   "source": [
    "param_grid = [{'max_depth': list(range(1,21,1)), 'n_estimators': list(range(5,50,5)), 'random_state':[RANDOM_SEED]}]"
   ]
  },
  {
   "cell_type": "markdown",
   "metadata": {},
   "source": [
    "Now we will initialize the estimator (`RandomForestClassifier`) and grid search (`GridSearchCV`) objects. The parameters of the estimator will be changed by the values in `param_grid`. The parameter `cv` for `GridSearchCV` allows us to set the number of folds in a Stratified K-fold cross-validation. Stratified means there is roughly the same percentage of samples of each target class as the complete set."
   ]
  },
  {
   "cell_type": "code",
   "execution_count": null,
   "metadata": {
    "collapsed": false
   },
   "outputs": [],
   "source": [
    "forest = ensemble.RandomForestClassifier(n_estimators=..., max_depth=..., random_state=RANDOM_SEED)\n",
    "gs = GridSearchCV(estimator=forest, param_grid=param_grid, cv=5)"
   ]
  },
  {
   "cell_type": "markdown",
   "metadata": {},
   "source": [
    "When we call `fit` of the grid search object, it will apply the `fit` of our Random Forest estimator on 5 folds for each pair of parameter values."
   ]
  },
  {
   "cell_type": "code",
   "execution_count": null,
   "metadata": {
    "collapsed": false
   },
   "outputs": [],
   "source": [
    "gs = gs.fit(X_train, Y_train)"
   ]
  },
  {
   "cell_type": "markdown",
   "metadata": {},
   "source": [
    "Let's see what values were selected for our parameters by this grid search and cross-validation."
   ]
  },
  {
   "cell_type": "code",
   "execution_count": null,
   "metadata": {
    "collapsed": false
   },
   "outputs": [],
   "source": [
    "print(gs.best_params_)\n",
    "print(gs.best_score_) # corresponding score, gives an estimate of the error on unseen data"
   ]
  },
  {
   "cell_type": "markdown",
   "metadata": {},
   "source": [
    "Let's predict on the test set."
   ]
  },
  {
   "cell_type": "code",
   "execution_count": null,
   "metadata": {
    "collapsed": false
   },
   "outputs": [],
   "source": [
    "print(gs.score(X_test,Y_test))"
   ]
  },
  {
   "cell_type": "markdown",
   "metadata": {},
   "source": [
    "Quite close to the estimated test error we obtained by cross validation."
   ]
  },
  {
   "cell_type": "markdown",
   "metadata": {},
   "source": [
    "### Once you assessed your model, inspect the ` feature_importances_` attribute and discuss the results."
   ]
  },
  {
   "cell_type": "markdown",
   "metadata": {},
   "source": [
    "Let's inspect the \"important features\" to get an idea of how the Random Forest is classifiying a player as black or white. We have created our own function `print_important_features` to nicely print the top features."
   ]
  },
  {
   "cell_type": "code",
   "execution_count": null,
   "metadata": {
    "collapsed": false
   },
   "outputs": [],
   "source": [
    "from hw4_utils import print_important_features\n",
    "feature_name = player_data_bin.columns.values.tolist()\n",
    "print_important_features(feature_name, gs.best_estimator_.feature_importances_, top_k=25)"
   ]
  },
  {
   "cell_type": "markdown",
   "metadata": {},
   "source": [
    "We can also check the least important features with another custom function."
   ]
  },
  {
   "cell_type": "code",
   "execution_count": null,
   "metadata": {
    "collapsed": false
   },
   "outputs": [],
   "source": [
    "from hw4_utils import print_unimportant_features\n",
    "print_unimportant_features(feature_name, gs.best_estimator_.feature_importances_, bottom_k=25)"
   ]
  },
  {
   "cell_type": "markdown",
   "metadata": {},
   "source": [
    "It seems as though the team/club of the player is not generally important in determining the skin color of a player. There are a few notable exceptions: Marseille, Lyon, and Stade Brest. Their importance and the importance of the player being in the French league are in line with the observations from [this article](http://spiritofmirko.com/2013/03/06/african-footballers-in-the-premier-league-la-liga-ligue-1-serie-a-and-the-bundesliga/).\n",
    "\n",
    "Furthermore, the weighted IAT and Exp racial bias scores of the referees faced by a player seem to be the most important features. Perhaps these features combined with the unique number of referees who have given yellow cards (`uniqueYellow`) and the unique number of referees (`uniqueRefCards`) who have given yellow and red cards are able to help the classifier distinguish between black and white players."
   ]
  },
  {
   "cell_type": "markdown",
   "metadata": {},
   "source": [
    "### With different assumptions on the data (e.g., dropping certain features even before feeding them to the classifier), can you obtain a substantially different `feature_importances_` attribute?\n",
    "\n",
    "We will make the following assumptions (NOT conclusions/observations) to see if we can obtain a substantially difference result for the feature importances:\n",
    "\n",
    "* Position and club are not important as seen in the importance values before, so we won't feed them to the classifier\n",
    "* The country may play an important role (as France has a higher percentage of black players)\n",
    "* We will keep age as it had high importance: perhaps more younger players are black as the top flight leagues have become more and more diverse\n",
    "* We will keep games: perhaps some coaches have some bias towards race as well\n",
    "* We will keep height and weight as these could be physical characteristics that differ by race for soccer players\n",
    "* And we will keep yellow card information in case there is bias among referees\n",
    "* Finally we will drop the weighted IAT and Exp scores to see if the classifier can still perform well and to see how other features might become more important\n",
    "\n",
    "So let's trim the data we give to the classifier."
   ]
  },
  {
   "cell_type": "code",
   "execution_count": null,
   "metadata": {
    "collapsed": false
   },
   "outputs": [],
   "source": [
    "des_feat = [\"games\", \"age\", \"leagueCountry_France\", \"height\", \"weight\", \"uniqueYellow\", \"yellowCards\"]\n",
    "player_data_trim = player_data_bin[des_feat]\n",
    "player_data_trim.head()"
   ]
  },
  {
   "cell_type": "markdown",
   "metadata": {},
   "source": [
    "Let's split the data similar to before. We can keep the same output labels (`Y`) as this will not change."
   ]
  },
  {
   "cell_type": "code",
   "execution_count": null,
   "metadata": {
    "collapsed": true
   },
   "outputs": [],
   "source": [
    "# split input (features) and output (skin label)\n",
    "n_sample = player_data_trim.shape[0] #1564\n",
    "n_feature = player_data_trim.shape[1]\n",
    "X_trim = player_data_trim\n",
    "# split\n",
    "X_train, X_test, Y_train, Y_test = train_test_split(X_trim, Y, test_size=0.3, random_state=RANDOM_SEED)"
   ]
  },
  {
   "cell_type": "markdown",
   "metadata": {},
   "source": [
    "We will create a less fine grid search:"
   ]
  },
  {
   "cell_type": "code",
   "execution_count": null,
   "metadata": {
    "collapsed": true
   },
   "outputs": [],
   "source": [
    "param_grid_trim = [{'max_depth': list(range(1,21,2)), 'n_estimators': list(range(5,50,5)), 'random_state':[RANDOM_SEED]}]\n",
    "gs_trim = GridSearchCV(estimator=forest, param_grid=param_grid, cv=5)"
   ]
  },
  {
   "cell_type": "markdown",
   "metadata": {},
   "source": [
    "Now let's train the Random Forest by performing the corresponding grid search with 20 folds."
   ]
  },
  {
   "cell_type": "code",
   "execution_count": null,
   "metadata": {
    "collapsed": true
   },
   "outputs": [],
   "source": [
    "gs_trim = gs_trim.fit(X_train, Y_train)"
   ]
  },
  {
   "cell_type": "markdown",
   "metadata": {},
   "source": [
    "Let's take a look at the optimal values (from this grid search) for the number of trees and maximum depth as well as the estimated accuracy on unseen data."
   ]
  },
  {
   "cell_type": "code",
   "execution_count": null,
   "metadata": {
    "collapsed": false
   },
   "outputs": [],
   "source": [
    "print(gs_trim.best_params_)\n",
    "print(gs_trim.best_score_) # corresponding score, gives an estimate of the error on unseen data"
   ]
  },
  {
   "cell_type": "markdown",
   "metadata": {},
   "source": [
    "Let's see how this compares to \"actual\" unseen data."
   ]
  },
  {
   "cell_type": "code",
   "execution_count": null,
   "metadata": {
    "collapsed": false
   },
   "outputs": [],
   "source": [
    "print(gs_trim.score(X_test,Y_test))"
   ]
  },
  {
   "cell_type": "markdown",
   "metadata": {},
   "source": [
    "Now let's check how the importances may have changed."
   ]
  },
  {
   "cell_type": "code",
   "execution_count": null,
   "metadata": {
    "collapsed": false
   },
   "outputs": [],
   "source": [
    "feature_name = player_data_trim.columns.values.tolist()\n",
    "print_important_features(feature_name, gs_trim.best_estimator_.feature_importances_, top_k=len(des_feat))"
   ]
  },
  {
   "cell_type": "markdown",
   "metadata": {},
   "source": [
    "Dropping a lot of the features has increased the importance of each of the (remaining) features as is expected since the feature importances must sum to one. But this gives us a better idea of the relative importances since the scores are really spread out among a lot features in the previous case.\n",
    "\n",
    "Most \"importantly\", the importance of playing in the French league and the number of yellow cards have shot up! The accuracy of the classifier has still stayed relatively the same while the maximum depth has decreased from 10 to 2; maybe we have a more general classifier.\n",
    "\n",
    "Let's try one more thing: removing the weighted IAT and Exp scores but keeping everything else to see how feature importances change. \n",
    "\n",
    "(As a note/reminder, this is a feature that we previously assumed to be important when combined with the number of cards and unique referees that have given cards.)"
   ]
  },
  {
   "cell_type": "code",
   "execution_count": null,
   "metadata": {
    "collapsed": false
   },
   "outputs": [],
   "source": [
    "player_data_trim = player_data_bin.drop(['weightedIAT','weightedExp','skin_label'], axis=1)\n",
    "# split input (features) and output (skin label)\n",
    "n_sample = player_data_trim.shape[0] #1564\n",
    "n_feature = player_data_trim.shape[1]\n",
    "X_trim = player_data_trim\n",
    "# split\n",
    "X_train, X_test, Y_train, Y_test = train_test_split(X_trim, Y, test_size=0.3, random_state=RANDOM_SEED)"
   ]
  },
  {
   "cell_type": "markdown",
   "metadata": {},
   "source": [
    "We will use the same grid search object with 5 folds as before. Now let's do some training."
   ]
  },
  {
   "cell_type": "code",
   "execution_count": null,
   "metadata": {
    "collapsed": true
   },
   "outputs": [],
   "source": [
    "gs_trim = gs_trim.fit(X_train, Y_train)"
   ]
  },
  {
   "cell_type": "markdown",
   "metadata": {},
   "source": [
    "Let's make sure the accuracy hasn't been severly compromised."
   ]
  },
  {
   "cell_type": "code",
   "execution_count": null,
   "metadata": {
    "collapsed": false
   },
   "outputs": [],
   "source": [
    "print(gs_trim.best_params_)\n",
    "print(gs_trim.best_score_) # corresponding score, gives an estimate of the error on unseen data\n",
    "print(gs_trim.score(X_test,Y_test)) # actual test score"
   ]
  },
  {
   "cell_type": "markdown",
   "metadata": {},
   "source": [
    "It hasn't :) Now let's check how the feature importances may have changed."
   ]
  },
  {
   "cell_type": "code",
   "execution_count": null,
   "metadata": {
    "collapsed": false
   },
   "outputs": [],
   "source": [
    "feature_name = player_data_trim.columns.values.tolist()\n",
    "print_important_features(feature_name, gs_trim.best_estimator_.feature_importances_, top_k=25)"
   ]
  },
  {
   "cell_type": "markdown",
   "metadata": {},
   "source": [
    "The most significant change is: whether or not a player is in the French league has gone up in the feature importance rankings to 1st (up by ~5%). The other features seem have changed by a couple percentage points at most. Therefore, it seems more the case that the weighted IAT and Exp scores are reflective of the league of the country. This is just a hunch and would require more in depth statistical analysis."
   ]
  },
  {
   "cell_type": "markdown",
   "metadata": {},
   "source": [
    "## Bonus - Plot the learning curves against at least 2 different sets of parameters passed to your Random Forest. To obtain smooth curves, partition your data in at least 20 folds. Can you find a set of parameters that leads to high bias, and one which does not?"
   ]
  },
  {
   "cell_type": "markdown",
   "metadata": {},
   "source": [
    "# Task 2\n",
    "\n",
    "<em>Aggregate the referee information grouping by soccer player, and use an unsupervised learning technique to cluster the soccer players in 2 disjoint clusters. Remove features iteratively, and at each step perform again the clustering and compute the silhouette score -- can you find a configuration of features with high silhouette score where players with dark and light skin colors belong to different clusters? Discuss the obtained results.</em>"
   ]
  },
  {
   "cell_type": "markdown",
   "metadata": {},
   "source": [
    "## K-Means Clustering"
   ]
  },
  {
   "cell_type": "markdown",
   "metadata": {},
   "source": [
    "We want to cluster players into two groups. We have aggregated player records and binary classified the skin color in Task 1.  In DataFrame player_data_bin, every row of a record corresponds to a player.\n",
    "We use KMeans as the clustering algorithm. We iteratively remove features according to feature importance computed in task 1. "
   ]
  },
  {
   "cell_type": "code",
   "execution_count": 172,
   "metadata": {
    "collapsed": true
   },
   "outputs": [],
   "source": [
    "from sklearn.cluster import KMeans\n",
    "from sklearn.metrics import silhouette_score\n",
    "from sklearn.preprocessing import scale"
   ]
  },
  {
   "cell_type": "code",
   "execution_count": 173,
   "metadata": {
    "collapsed": true
   },
   "outputs": [],
   "source": [
    "players = player_data_bin.dropna()"
   ]
  },
  {
   "cell_type": "code",
   "execution_count": 174,
   "metadata": {
    "collapsed": false
   },
   "outputs": [],
   "source": [
    "Y = players['skin_label']\n",
    "X = players.drop('skin_label', axis=1)"
   ]
  },
  {
   "cell_type": "markdown",
   "metadata": {},
   "source": [
    "To start with, let's try to train the model with all features."
   ]
  },
  {
   "cell_type": "markdown",
   "metadata": {},
   "source": [
    "We iteratively remove features and train models with different number of features. We also record the different silhouette obtained. "
   ]
  },
  {
   "cell_type": "code",
   "execution_count": 175,
   "metadata": {
    "collapsed": true
   },
   "outputs": [],
   "source": [
    "# given the training data X, return its silhoutte score and prediction accuracy\n",
    "def cluster(X):\n",
    "    kmeans = KMeans(n_clusters=2, init='k-means++')\n",
    "    kmeans.fit(X)\n",
    "    sil_score = silhouette_score(X, kmeans.labels_, metric='euclidean')\n",
    "    accuracy = ((kmeans.labels_ == Y).sum() / len(Y))\n",
    "    return sil_score, accuracy"
   ]
  },
  {
   "cell_type": "code",
   "execution_count": 176,
   "metadata": {
    "collapsed": false
   },
   "outputs": [
    {
     "name": "stdout",
     "output_type": "stream",
     "text": [
      "silhouette score with all features: 0.0543935566753\n",
      "prediction accuracy with all features: 0.600383631714\n"
     ]
    }
   ],
   "source": [
    "data = scale(X.as_matrix())#scale(X.as_matrix(), axis=1)\n",
    "sil_score, accuracy = cluster(data)\n",
    "best_sil_score = sil_score\n",
    "print('silhouette score with all features: ' + str(sil_score))\n",
    "print('prediction accuracy with all features: ' + str(accuracy))"
   ]
  },
  {
   "cell_type": "code",
   "execution_count": 177,
   "metadata": {
    "collapsed": true
   },
   "outputs": [],
   "source": [
    "accuracies = []\n",
    "silhouette_scores = []\n",
    "accuracies.append(accuracy)\n",
    "silhouette_scores.append(sil_score)"
   ]
  },
  {
   "cell_type": "code",
   "execution_count": 178,
   "metadata": {
    "collapsed": false
   },
   "outputs": [
    {
     "name": "stdout",
     "output_type": "stream",
     "text": [
      "0.400255754476 0.0550613068737 weightedExp\n",
      "0.398976982097 0.0557876742663 weightedIAT\n",
      "0.401534526854 0.0561198014813 height\n",
      "0.401534526854 0.0567772482493 weight\n",
      "0.401534526854 0.058140365201 club_1. FC Nürnberg\n",
      "0.401534526854 0.0593697122211 club_1. FSV Mainz 05\n",
      "0.399616368286 0.0610987783641 club_1899 Hoffenheim\n",
      "0.59462915601 0.0611430049986 club_AS Saint-Étienne\n",
      "0.400255754476 0.0620621693129 club_AC Ajaccio\n",
      "0.597826086957 0.0630989328885 club_Arsenal FC (R)\n",
      "0.400255754476 0.0636547823716 club_Aston Villa\n",
      "0.599744245524 0.0638090229391 club_AS Nancy\n",
      "0.595268542199 0.0648388659031 club_Bayer Leverkusen\n",
      "0.402173913043 0.0655522355006 club_Arsenal FC\n",
      "0.599744245524 0.0671312131497 club_Athletic Bilbao\n",
      "0.599744245524 0.0680007973114 club_Blackburn Rovers\n",
      "0.596547314578 0.0691070391162 club_Bor. Mönchengladbach\n",
      "0.599744245524 0.0696566565435 club_Atlético Madrid\n",
      "0.599744245524 0.0719716157938 club_Borussia Dortmund\n",
      "0.599744245524 0.0719716157938 club_Bristol City\n",
      "0.404092071611 0.072333477716 club_CA Osasuna\n",
      "0.595268542199 0.0726032041603 club_Bayern München\n",
      "0.400895140665 0.07389668534 club_CF Badalona\n",
      "0.404731457801 0.0745219781908 club_Deportivo La Coruña\n",
      "0.595268542199 0.0757683798769 club_Celta Vigo\n",
      "0.595907928389 0.0759177874322 club_Chelsea FC\n",
      "0.404092071611 0.0768374768431 club_Crewe Alexandra\n",
      "0.595268542199 0.079078914671 club_Eintracht Frankfurt\n",
      "0.595268542199 0.080190428377 club_Espanyol Barcelona\n",
      "0.404731457801 0.0819823614735 club_FC Augsburg\n",
      "0.595268542199 0.082915928445 club_FC Lorient\n",
      "0.596547314578 0.0832191117305 club_FC Barcelona\n",
      "0.596547314578 0.0847592185548 club_FC Schalke 04\n",
      "0.406010230179 0.0858250753688 club_FC Sochaux\n",
      "0.596547314578 0.0881852846179 club_Fortuna Düsseldorf\n",
      "0.404731457801 0.0904904973019 club_Getafe CF\n",
      "0.403452685422 0.0924251869013 club_Girondins Bordeaux\n",
      "0.596547314578 0.0944026305077 club_Granada CF\n",
      "0.599744245524 0.0982518951152 club_Hamburger SV\n",
      "0.601023017903 0.0983741510172 club_ESTAC Troyes\n",
      "0.398976982097 0.100490244746 club_Hannover 96\n",
      "0.398337595908 0.101300328846 club_Levante UD\n",
      "0.601662404092 0.102404498434 club_Leicester City\n",
      "0.398976982097 0.10315499357 club_Leyton Orient\n",
      "0.601662404092 0.10337249463 club_Leeds United\n",
      "0.601662404092 0.104647216107 club_Lille OSC\n",
      "0.601662404092 0.106256116172 club_Liverpool FC\n",
      "0.398337595908 0.107369861966 club_Liverpool FC (R)\n",
      "0.598465473146 0.107524677084 club_MSV Duisburg\n",
      "0.601662404092 0.110054486559 club_Manchester United\n",
      "0.601662404092 0.112944845305 club_Montpellier HSC\n",
      "0.401534526854 0.113090119119 club_Millwall FC\n",
      "0.403452685422 0.115466915607 club_Newcastle United\n",
      "0.598465473146 0.115746914573 club_Málaga CF\n",
      "0.596547314578 0.116301077446 club_Norwich City\n",
      "0.596547314578 0.116495720354 club_Manchester City\n",
      "0.402813299233 0.118052034831 club_OGC Nice\n",
      "0.597826086957 0.120389577107 club_Olympique Lyon\n",
      "0.402173913043 0.122876558411 club_Real Betis\n",
      "0.599104859335 0.122983176094 age\n",
      "0.599104859335 0.126183420217 club_Olympique Marseille\n",
      "0.399616368286 0.127290868325 club_Paris Saint-Germain\n",
      "0.399616368286 0.127632344903 club_Queens Park Rangers\n",
      "0.600383631714 0.130672237363 club_RCD Mallorca\n",
      "0.600383631714 0.133992686273 club_Rayo Vallecano\n",
      "0.600383631714 0.135330958788 club_Real Jaén\n",
      "0.599744245524 0.136863427494 club_Real Madrid Castilla\n",
      "0.600383631714 0.140170164362 club_Real Sociedad\n",
      "0.398976982097 0.140512698877 club_Real Madrid\n",
      "0.398337595908 0.142984490384 club_Real Valladolid\n",
      "0.601662404092 0.145716059903 club_Real Zaragoza\n",
      "0.601023017903 0.151247433555 club_SC Freiburg\n",
      "0.398976982097 0.153055258609 club_SD Compostela\n",
      "0.398337595908 0.15389141069 club_SV Sandhausen\n",
      "0.602301790281 0.155325768791 club_Sevilla FC\n",
      "0.602941176471 0.156131146762 club_Southampton FC\n",
      "0.601023017903 0.160010678135 club_SpVgg Greuther Fürth\n",
      "0.397698209719 0.163275633396 club_Stade Brest\n",
      "0.397698209719 0.166208805086 club_Stade Reims\n",
      "0.602301790281 0.170573827957 club_Stade Rennes\n",
      "0.602301790281 0.171575293136 club_Tottenham Hotspur\n",
      "0.398337595908 0.174124353988 club_Tottenham Hotspur (R)\n",
      "0.398976982097 0.175111457551 club_Toulouse FC\n",
      "0.397698209719 0.176383784066 club_US Boulogne\n",
      "0.397698209719 0.17788366545 club_Valencia CF\n",
      "0.398976982097 0.180974775502 club_Valenciennes FC\n",
      "0.602301790281 0.181120965207 club_Reading FC\n",
      "0.601662404092 0.184104448958 club_VfB Stuttgart\n",
      "0.601662404092 0.18932980744 club_VfL Wolfsburg\n",
      "0.398337595908 0.1945631779 club_Werder Bremen\n",
      "0.400255754476 0.195002056844 club_Wigan Athletic\n",
      "0.610613810742 0.195416791072 defeats\n",
      "0.610613810742 0.196618952143 club_Évian Thonon Gaillard\n",
      "0.608056265985 0.196765657664 leagueCountry_England\n",
      "0.390664961637 0.197041230382 club_West Bromwich Albion\n",
      "0.390025575448 0.201060172841 leagueCountry_France\n",
      "0.388746803069 0.203638804317 club_Everton FC\n",
      "0.388746803069 0.208494640623 leagueCountry_Germany\n",
      "0.611253196931 0.208530754365 club_Fulham FC\n",
      "0.367007672634 0.211347694466 ties\n",
      "0.615089514066 0.212338508081 leagueCountry_Spain\n",
      "0.624040920716 0.21256539115 goals\n",
      "0.626598465473 0.213146135203 club_West Ham United\n",
      "0.615089514066 0.21408553521 club_Stoke City\n",
      "0.616368286445 0.214268323215 club_Sunderland AFC\n",
      "0.627237851662 0.216084079486 club_Wolverhampton Wanderers\n",
      "0.386189258312 0.222286770818 position_Attacking Midfielder\n",
      "0.358695652174 0.22551116088 uniqueRefCards\n",
      "0.629795396419 0.227469732456 position_Center Back\n",
      "0.625959079284 0.242804322026 position_Center Forward\n",
      "0.355498721228 0.24589919427 games\n",
      "0.354859335038 0.25197515303 position_Center Midfielder\n",
      "0.648337595908 0.253596052053 victories\n",
      "0.352301790281 0.256341185814 club_Nottingham Forest\n",
      "0.649616368286 0.262395150686 position_Defensive Midfielder\n",
      "0.339514066496 0.269034168672 yellowReds\n",
      "0.657289002558 0.304973143854 position_Goalkeeper\n",
      "0.676470588235 0.306583832809 uniqueYellow\n",
      "0.676470588235 0.340144025122 position_Left Fullback\n",
      "0.677109974425 0.34373710034 uniqueYellowReds\n",
      "0.32800511509 0.388608594975 yellowCards\n",
      "0.786445012788 0.524716743539 redCards\n",
      "0.786445012788 0.684711401439 uniqueReds\n",
      "0.786445012788 0.691070965949 club_Bolton Wanderers\n",
      "0.786445012788 0.705469559315 club_SC Bastia\n",
      "0.786445012788 0.78414260749 position_Left Midfielder\n",
      "0.786445012788 0.850730005671 position_Left Winger\n",
      "0.801150895141 0.93954829475 position_Right Fullback\n",
      "0.816496163683 1.0 position_Right Midfielder\n"
     ]
    }
   ],
   "source": [
    "n_iterations = X.shape[1] - 1\n",
    "\n",
    "for i in range(n_iterations):\n",
    "    best_accuracy = -1\n",
    "    best_feature_to_remove = ''\n",
    "    #best_sil_score = -1\n",
    "    for feature in X.columns:\n",
    "        data = scale(X.drop(feature, axis=1).as_matrix())#scale(X.drop(feature, axis=1).as_matrix())\n",
    "        sil_score, accuracy = cluster(data)#\n",
    "        #print(sil_score)\n",
    "        if sil_score >= best_sil_score:#accuracy > best_accuracy:\n",
    "            best_accuracy = accuracy\n",
    "            best_sil_score = sil_score\n",
    "            best_feature_to_remove = feature\n",
    "            break\n",
    "    \n",
    "    # stop if no more improvement\n",
    "    if best_feature_to_remove == '':\n",
    "        break\n",
    "    \n",
    "    accuracies.append(best_accuracy)\n",
    "    silhouette_scores.append(best_sil_score)\n",
    "    X.drop(best_feature_to_remove, axis=1, inplace=True)\n",
    "    print('silhouette score ' + str(best_sil_score) + 'feature'\" \" + best_feature_to_remove)\n",
    "    #continue\n",
    "\n",
    "  "
   ]
  },
  {
   "cell_type": "markdown",
   "metadata": {},
   "source": [
    "We plot the graph of silhouette score and accuracy of different number of removed features."
   ]
  },
  {
   "cell_type": "code",
   "execution_count": 179,
   "metadata": {
    "collapsed": false
   },
   "outputs": [
    {
     "data": {
      "text/plain": [
       "(0, 1)"
      ]
     },
     "execution_count": 179,
     "metadata": {},
     "output_type": "execute_result"
    },
    {
     "data": {
      "image/png": "[encoded data removed]",
      "text/plain": [
       "<matplotlib.figure.Figure at 0x29b27ce1ac8>"
      ]
     },
     "metadata": {},
     "output_type": "display_data"
    }
   ],
   "source": [
    "import matplotlib.pyplot as plt\n",
    "%matplotlib inline\n",
    "\n",
    "plt.figure()\n",
    "plt.plot(silhouette_scores, label='Silhouette score')\n",
    "plt.plot(accuracies, label='Accuracy')\n",
    "plt.xlabel('Number of features removed')\n",
    "plt.ylabel('Silhouette score')\n",
    "plt.legend(loc='lower right')\n",
    "plt.ylim([0,1])"
   ]
  },
  {
   "cell_type": "markdown",
   "metadata": {
    "collapsed": true
   },
   "source": [
    "# Conclusion"
   ]
  },
  {
   "cell_type": "code",
   "execution_count": null,
   "metadata": {
    "collapsed": true
   },
   "outputs": [],
   "source": []
  }
 ],
 "metadata": {
  "anaconda-cloud": {},
  "kernelspec": {
   "display_name": "Python [conda root]",
   "language": "python",
   "name": "conda-root-py"
  },
  "toc": {
   "nav_menu": {
    "height": "86px",
    "width": "252px"
   },
   "navigate_menu": true,
   "number_sections": true,
   "sideBar": true,
   "threshold": 4,
   "toc_cell": false,
   "toc_section_display": "block",
   "toc_window_display": false
  }
 },
 "nbformat": 4,
 "nbformat_minor": 0
}
