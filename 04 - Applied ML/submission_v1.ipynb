{
 "cells": [
  {
   "cell_type": "markdown",
   "metadata": {},
   "source": [
    "# Homework 04 - Applied ML\n",
    "\n",
    "## Data Description\n",
    "\n",
    "Soccer players (N = 2053) and all referees (N = 3147) that these players played under in their professional career. The data contains:\n",
    "\n",
    "* the number of matches, players and referees encountered each other\n",
    "* the number of red cards(dependent variable), given to a player by a particular referee (throughout all matches the two encountered each other)\n",
    "* Player photos were available from the source for 1586 out of 2053 players\n",
    "* Players’ skin tone was coded by two independent raters, 5-point scale ranging from “very light skin” to “very dark skin” with “neither dark nor light skin” as the center value\n",
    "* implicit bias scores for each referee country, race implicit association test (IAT), with higher values corresponding to faster white | good, black | bad associations\n",
    "* Explicit bias scores for each referee country, racial thermometer task, with higher values corresponding to greater feelings of warmth toward whites versus blacks.\n",
    "\n",
    "Let's first import the necessary libraries so that we can read the dataset."
   ]
  },
  {
   "cell_type": "code",
   "execution_count": 1,
   "metadata": {
    "collapsed": true
   },
   "outputs": [],
   "source": [
    "import pandas as pd\n",
    "import numpy as np"
   ]
  },
  {
   "cell_type": "markdown",
   "metadata": {},
   "source": [
    "Now let's get ahold of the data we will be working with! We will first"
   ]
  },
  {
   "cell_type": "code",
   "execution_count": 2,
   "metadata": {
    "collapsed": false
   },
   "outputs": [
    {
     "data": {
      "text/plain": [
       "(146028, 28)"
      ]
     },
     "execution_count": 2,
     "metadata": {},
     "output_type": "execute_result"
    }
   ],
   "source": [
    "soccer_data = pd.read_csv('CrowdstormingDataJuly1st.csv')\n",
    "soccer_data.shape"
   ]
  },
  {
   "cell_type": "markdown",
   "metadata": {},
   "source": [
    "That's a lot of data ;) Instead of using `head()`, let's print the first 14 columns and the next 14 seperately."
   ]
  },
  {
   "cell_type": "code",
   "execution_count": 3,
   "metadata": {
    "collapsed": false
   },
   "outputs": [
    {
     "data": {
      "text/html": [
       "<div>\n",
       "<table border=\"1\" class=\"dataframe\">\n",
       "  <thead>\n",
       "    <tr style=\"text-align: right;\">\n",
       "      <th></th>\n",
       "      <th>playerShort</th>\n",
       "      <th>player</th>\n",
       "      <th>club</th>\n",
       "      <th>leagueCountry</th>\n",
       "      <th>birthday</th>\n",
       "      <th>height</th>\n",
       "      <th>weight</th>\n",
       "      <th>position</th>\n",
       "      <th>games</th>\n",
       "      <th>victories</th>\n",
       "      <th>ties</th>\n",
       "      <th>defeats</th>\n",
       "      <th>goals</th>\n",
       "      <th>yellowCards</th>\n",
       "    </tr>\n",
       "  </thead>\n",
       "  <tbody>\n",
       "    <tr>\n",
       "      <th>0</th>\n",
       "      <td>lucas-wilchez</td>\n",
       "      <td>Lucas Wilchez</td>\n",
       "      <td>Real Zaragoza</td>\n",
       "      <td>Spain</td>\n",
       "      <td>31.08.1983</td>\n",
       "      <td>177.0</td>\n",
       "      <td>72.0</td>\n",
       "      <td>Attacking Midfielder</td>\n",
       "      <td>1</td>\n",
       "      <td>0</td>\n",
       "      <td>0</td>\n",
       "      <td>1</td>\n",
       "      <td>0</td>\n",
       "      <td>0</td>\n",
       "    </tr>\n",
       "    <tr>\n",
       "      <th>1</th>\n",
       "      <td>john-utaka</td>\n",
       "      <td>John Utaka</td>\n",
       "      <td>Montpellier HSC</td>\n",
       "      <td>France</td>\n",
       "      <td>08.01.1982</td>\n",
       "      <td>179.0</td>\n",
       "      <td>82.0</td>\n",
       "      <td>Right Winger</td>\n",
       "      <td>1</td>\n",
       "      <td>0</td>\n",
       "      <td>0</td>\n",
       "      <td>1</td>\n",
       "      <td>0</td>\n",
       "      <td>1</td>\n",
       "    </tr>\n",
       "    <tr>\n",
       "      <th>2</th>\n",
       "      <td>abdon-prats</td>\n",
       "      <td>Abdón Prats</td>\n",
       "      <td>RCD Mallorca</td>\n",
       "      <td>Spain</td>\n",
       "      <td>17.12.1992</td>\n",
       "      <td>181.0</td>\n",
       "      <td>79.0</td>\n",
       "      <td>NaN</td>\n",
       "      <td>1</td>\n",
       "      <td>0</td>\n",
       "      <td>1</td>\n",
       "      <td>0</td>\n",
       "      <td>0</td>\n",
       "      <td>1</td>\n",
       "    </tr>\n",
       "    <tr>\n",
       "      <th>3</th>\n",
       "      <td>pablo-mari</td>\n",
       "      <td>Pablo Marí</td>\n",
       "      <td>RCD Mallorca</td>\n",
       "      <td>Spain</td>\n",
       "      <td>31.08.1993</td>\n",
       "      <td>191.0</td>\n",
       "      <td>87.0</td>\n",
       "      <td>Center Back</td>\n",
       "      <td>1</td>\n",
       "      <td>1</td>\n",
       "      <td>0</td>\n",
       "      <td>0</td>\n",
       "      <td>0</td>\n",
       "      <td>0</td>\n",
       "    </tr>\n",
       "    <tr>\n",
       "      <th>4</th>\n",
       "      <td>ruben-pena</td>\n",
       "      <td>Rubén Peña</td>\n",
       "      <td>Real Valladolid</td>\n",
       "      <td>Spain</td>\n",
       "      <td>18.07.1991</td>\n",
       "      <td>172.0</td>\n",
       "      <td>70.0</td>\n",
       "      <td>Right Midfielder</td>\n",
       "      <td>1</td>\n",
       "      <td>1</td>\n",
       "      <td>0</td>\n",
       "      <td>0</td>\n",
       "      <td>0</td>\n",
       "      <td>0</td>\n",
       "    </tr>\n",
       "    <tr>\n",
       "      <th>5</th>\n",
       "      <td>aaron-hughes</td>\n",
       "      <td>Aaron Hughes</td>\n",
       "      <td>Fulham FC</td>\n",
       "      <td>England</td>\n",
       "      <td>08.11.1979</td>\n",
       "      <td>182.0</td>\n",
       "      <td>71.0</td>\n",
       "      <td>Center Back</td>\n",
       "      <td>1</td>\n",
       "      <td>0</td>\n",
       "      <td>0</td>\n",
       "      <td>1</td>\n",
       "      <td>0</td>\n",
       "      <td>0</td>\n",
       "    </tr>\n",
       "  </tbody>\n",
       "</table>\n",
       "</div>"
      ],
      "text/plain": [
       "     playerShort         player             club leagueCountry    birthday  \\\n",
       "0  lucas-wilchez  Lucas Wilchez    Real Zaragoza         Spain  31.08.1983   \n",
       "1     john-utaka     John Utaka  Montpellier HSC        France  08.01.1982   \n",
       "2    abdon-prats    Abdón Prats     RCD Mallorca         Spain  17.12.1992   \n",
       "3     pablo-mari     Pablo Marí     RCD Mallorca         Spain  31.08.1993   \n",
       "4     ruben-pena     Rubén Peña  Real Valladolid         Spain  18.07.1991   \n",
       "5   aaron-hughes   Aaron Hughes        Fulham FC       England  08.11.1979   \n",
       "\n",
       "   height  weight              position  games  victories  ties  defeats  \\\n",
       "0   177.0    72.0  Attacking Midfielder      1          0     0        1   \n",
       "1   179.0    82.0          Right Winger      1          0     0        1   \n",
       "2   181.0    79.0                   NaN      1          0     1        0   \n",
       "3   191.0    87.0           Center Back      1          1     0        0   \n",
       "4   172.0    70.0      Right Midfielder      1          1     0        0   \n",
       "5   182.0    71.0           Center Back      1          0     0        1   \n",
       "\n",
       "   goals  yellowCards  \n",
       "0      0            0  \n",
       "1      0            1  \n",
       "2      0            1  \n",
       "3      0            0  \n",
       "4      0            0  \n",
       "5      0            0  "
      ]
     },
     "execution_count": 3,
     "metadata": {},
     "output_type": "execute_result"
    }
   ],
   "source": [
    "soccer_data.ix[:5,:14]"
   ]
  },
  {
   "cell_type": "code",
   "execution_count": 4,
   "metadata": {
    "collapsed": false
   },
   "outputs": [
    {
     "data": {
      "text/html": [
       "<div>\n",
       "<table border=\"1\" class=\"dataframe\">\n",
       "  <thead>\n",
       "    <tr style=\"text-align: right;\">\n",
       "      <th></th>\n",
       "      <th>yellowReds</th>\n",
       "      <th>redCards</th>\n",
       "      <th>photoID</th>\n",
       "      <th>rater1</th>\n",
       "      <th>rater2</th>\n",
       "      <th>refNum</th>\n",
       "      <th>refCountry</th>\n",
       "      <th>Alpha_3</th>\n",
       "      <th>meanIAT</th>\n",
       "      <th>nIAT</th>\n",
       "      <th>seIAT</th>\n",
       "      <th>meanExp</th>\n",
       "      <th>nExp</th>\n",
       "      <th>seExp</th>\n",
       "    </tr>\n",
       "  </thead>\n",
       "  <tbody>\n",
       "    <tr>\n",
       "      <th>0</th>\n",
       "      <td>0</td>\n",
       "      <td>0</td>\n",
       "      <td>95212.jpg</td>\n",
       "      <td>0.25</td>\n",
       "      <td>0.50</td>\n",
       "      <td>1</td>\n",
       "      <td>1</td>\n",
       "      <td>GRC</td>\n",
       "      <td>0.326391</td>\n",
       "      <td>712.0</td>\n",
       "      <td>0.000564</td>\n",
       "      <td>0.396000</td>\n",
       "      <td>750.0</td>\n",
       "      <td>0.002696</td>\n",
       "    </tr>\n",
       "    <tr>\n",
       "      <th>1</th>\n",
       "      <td>0</td>\n",
       "      <td>0</td>\n",
       "      <td>1663.jpg</td>\n",
       "      <td>0.75</td>\n",
       "      <td>0.75</td>\n",
       "      <td>2</td>\n",
       "      <td>2</td>\n",
       "      <td>ZMB</td>\n",
       "      <td>0.203375</td>\n",
       "      <td>40.0</td>\n",
       "      <td>0.010875</td>\n",
       "      <td>-0.204082</td>\n",
       "      <td>49.0</td>\n",
       "      <td>0.061504</td>\n",
       "    </tr>\n",
       "    <tr>\n",
       "      <th>2</th>\n",
       "      <td>0</td>\n",
       "      <td>0</td>\n",
       "      <td>NaN</td>\n",
       "      <td>NaN</td>\n",
       "      <td>NaN</td>\n",
       "      <td>3</td>\n",
       "      <td>3</td>\n",
       "      <td>ESP</td>\n",
       "      <td>0.369894</td>\n",
       "      <td>1785.0</td>\n",
       "      <td>0.000229</td>\n",
       "      <td>0.588297</td>\n",
       "      <td>1897.0</td>\n",
       "      <td>0.001002</td>\n",
       "    </tr>\n",
       "    <tr>\n",
       "      <th>3</th>\n",
       "      <td>0</td>\n",
       "      <td>0</td>\n",
       "      <td>NaN</td>\n",
       "      <td>NaN</td>\n",
       "      <td>NaN</td>\n",
       "      <td>3</td>\n",
       "      <td>3</td>\n",
       "      <td>ESP</td>\n",
       "      <td>0.369894</td>\n",
       "      <td>1785.0</td>\n",
       "      <td>0.000229</td>\n",
       "      <td>0.588297</td>\n",
       "      <td>1897.0</td>\n",
       "      <td>0.001002</td>\n",
       "    </tr>\n",
       "    <tr>\n",
       "      <th>4</th>\n",
       "      <td>0</td>\n",
       "      <td>0</td>\n",
       "      <td>NaN</td>\n",
       "      <td>NaN</td>\n",
       "      <td>NaN</td>\n",
       "      <td>3</td>\n",
       "      <td>3</td>\n",
       "      <td>ESP</td>\n",
       "      <td>0.369894</td>\n",
       "      <td>1785.0</td>\n",
       "      <td>0.000229</td>\n",
       "      <td>0.588297</td>\n",
       "      <td>1897.0</td>\n",
       "      <td>0.001002</td>\n",
       "    </tr>\n",
       "    <tr>\n",
       "      <th>5</th>\n",
       "      <td>0</td>\n",
       "      <td>0</td>\n",
       "      <td>3868.jpg</td>\n",
       "      <td>0.25</td>\n",
       "      <td>0.00</td>\n",
       "      <td>4</td>\n",
       "      <td>4</td>\n",
       "      <td>LUX</td>\n",
       "      <td>0.325185</td>\n",
       "      <td>127.0</td>\n",
       "      <td>0.003297</td>\n",
       "      <td>0.538462</td>\n",
       "      <td>130.0</td>\n",
       "      <td>0.013752</td>\n",
       "    </tr>\n",
       "  </tbody>\n",
       "</table>\n",
       "</div>"
      ],
      "text.L���# y�"�؟*�8�"�Y���C5��Pg|&���_�A�pd�OX�{��]��rGìQ]�����C1��r�i�!��;�[9wr�=�-�}#()�r�%�{.C)��ҘP��k1�TE/m�')�&�[޺{h�}{���p���KgR�=�A&t�F�Rƴ���Dt�`q�'��k"o[�:m�5��)�6�H6���>�	R���a�$:c!��JشZ7jF���@�1��j�l%���"���"�� A�(Z#(sT��� 3I��`�'S-�U�y��(         0`      W0  0     NaN     NaN     NaN       3           3   \n#,
       #3        `  0         0        NaN     NaN     NaN       3           3   \n",
       "4           0         0        NaN     NaN     NaN       3        0  3   \n",
       "5           0         0   3868.jpg    0.25     .00       4     (!    4 0 \n",
       "\n",
 (     "  Alpha_3   meanIAT "  nHAT     seI@T   meanExp    nExp     seExP  \n",
       "0     GRC  0.3263)1   71".0  0.000564  0.396000   750.0 (0.002692  \n,
"    ( "1     ZMB  0.203375    40.0  0.010875 -0.204082    49.0  0.061504  \n",
       "2     ESP  0.36894  1785.0  0.000229  0.588297��1097.0$ 0.001002  \n",
       "3     ESP  0.369885  1785.0  0.0002�9  0.588297  1897.0  0.001002  ]n",
       "4     ESP  0.369894  1785.0  0.000229  0.588297  1897.0  0.001002  \n",
       "5     LUX  0.325185   127.0  0.003297  0.538462   130.0  0.013752  "
      ]
     },
     "execution_count": 4,
     "metadata": {},
     "output_type": "execute_result"
    }
   ],
   "source": [
    "soccer_data.ix[:5,14:]"
   ]
  },
  {
   "cell_type": "markdown",
   "metadata": {},
   "source": [
    "For a description of each feature check out the file `DATA.md`."
   ]
  },
  {
   "cell_type": "markdown",
   "metadata": {},
   "source": [
    "# Data Cleaning"
   ]
  },
  {
   "cell_type": "markdown",
   "metadata": {},
   "source": [
    "Let's first clean the data a bit. The first thing we can do is drop those players which have no rating for the skin color as we will not be able to do any training with this data or even evaluate our classifier with such entries."
   ]
  },
  {
   "cell_type": "code",
   "execution_count": 5,
   "metadata": {
    "collapsed": false
   },
   "outputs": [
    {
     "data": {
      "text/plain": [
       "21407"
      ]
     },
     "execution_count": 5,
     "metadata": {},
     "output_type": "execute_result"
    }
   ],
   "source": [
    "soccer_data_clean = soccer_data[~soccer_data.photoID.isnull()]\n",
    "soccer_data.shape[0] - soccer_data_clean.shape[0] # number of dropped players"
   ]
  },
  {
   "cell_type": "markdown",
   "metadata": {},
   "source": [
    "21407 entries have been dropped! Let's just make sure that all `rater1` and `rater2` fields are valid."
   ]
  },
  {
   "cell_type": "code",
   "execution_count": 6,
   "metadata": {
    "collapsed": false
   },
   "outputs": [
    {
     "name": "stdout",
     "output_type": "stream",
     "text": [
      "(0, 28)\n"
     ]
    },
    {
     "data": {
      "text/plain": [
       "(0, 28)"
      ]
     },
     "execution_count": 6,
     "metadata": {},
     "output_type": "execute_result"
    }
   ],
   "source": [
    "print(soccer_data_clean[soccer_data_clean.rater1.isnull()].shape)\n",
    "soccer_data_clean[soccer_data_clean.rater2.isnull()].shape"
   ]
  },
  {
   "cell_type": "markdown",
   "metadata": {},
   "source": [
    "The given data has an inconvenient structure for our analysis: each row is a _dyad_, which has a single player-referee interaction. This means that if a player has played games with more than 1 referee, that player will have several rows in this dataset. For example, let's look at everyone's favorite googly-eyed German: Mesut Ozil."
   ]
  },
  {
   "cell_type": "code",
   "execution_count": 7,
   "metadata": {
    "collapsed": false
   },
   "outputs": [
    {
     "data": {
      "text/html": [
       "<div>\n",
       "<table border=\"1\" class=\"dataframe\">\n",
       "  <thead>\n",
       "    <tr style=\"text-align: right;\">\n",
       "      <th></th>\n",
       "      <th>playerShort</th>\n",
       "      <th>player</th>\n",
       "      <th>club</th>\n",
       "      <th>leagueCountry</th>\n",
       "      <th>birthday</th>\n",
       "      <th>height</th>\n",
       "      <th>weight</th>\n",
       "      <th>position</th>\n",
       "      <th>games</th>\n",
       "      <th>victories</th>\n",
       "      <th>...</th>\n",
       "      <th>rater2</th>\n",
       "      <th>refNum</th>\n",
       "      <th>refCountry</th>\n",
       "      <th>Alpha_3</th>\n",
       "      <th>meanIAT</th>\n",
       "      <th>nIAT</th>\n",
       "      <th>seIAT</th>\n",
       "      <th>meanExp</th>\n",
       "      <th>nExp</th>\n",
       "      <th>seExp</th>\n",
       "    </tr>\n",
       "  </thead>\n",
       "  <tbody>\n",
       "    <tr>\n",
       "      <th>26</th>\n",
       "      <td>mesut-oezil</td>\n",
       "      <td>Mesut Özil</td>\n",
       "      <td>Real Madrid</td>\n",
       "      <td>Spain</td>\n",
       "      <td>15.10.1988</td>\n",
       "      <td>183.0</td>\n",
       "      <td>76.0</td>\n",
       "      <td>Attacking Midfielder</td>\n",
       "      <td>1</td>\n",
       "      <td>1</td>\n",
       "      <td>...</td>\n",
       "      <td>0.25</td>\n",
       "      <td>4</td>\n",
       "      <td>4</td>\n",
       "      <td>LUX</td>\n",
       "      <td>0.325185</td>\n",
       "      <td>127.0</td>\n",
       "      <td>0.003297</td>\n",
       "      <td>0.538462</td>\n",
       "      <td>130.0</td>\n",
       "      <td>0.013752</td>\n",
       "    </tr>\n",
       "    <tr>\n",
       "      <th>1051</th>\n",
       "      <td>mesut-oezil</td>\n",
       "      <td>Mesut Özil</td>\n",
       "      <td>Real Madrid</td>\n",
       "      <td>Spain</td>\n",
       "      <td>15.10.1988</td>\n",
       "      <td>183.0</td>\n",
       "      <td>76.0</td>\n",
       "      <td>Attacking Midfielder</td>\n",
       "      <td>1</td>\n",
       "      <td>1</td>\n",
       "      <td>...</td>\n",
       "      <td>0.25</td>\n",
       "      <td>66</td>\n",
       "      <td>4</td>\n",
       "      <td>LUX</td>\n",
       "      <td>0.325185</td>\n",
       "      <td>127.0</td>\n",
       "      <td>0.003297</td>\n",
       "      <td>0.538462</td>\n",
       "      <td>130.0</td>\n",
       "      <td>0.013752</td>\n",
       "    </tr>\n",
       "    <tr>\n",
       "      <th>1773</th>\n",
       "      <td>mesut-oezil</td>\n",
       "      <td>Mesut Özil</td>\n",
       "      <td>Real Madrid</td>\n",
       "      <td>Spain</td>\n",
       "      <td>15.10.1988</td>\n",
       "      <td>183.0</td>\n",
       "      <td>76.0</td>\n",
       "      <td>Attacking Midfielder</td>\n",
       "      <td>2</td>\n",
       "      <td>2</td>\n",
       "      <td>...</td>\n",
       "      <td>0.25</td>\n",
       "      <td>72</td>\n",
       "      <td>28</td>\n",
       "      <td>IRL</td>\n",
       "      <td>0.355498</td>\n",
       "      <td>4078.0</td>\n",
       "      <td>0.000098</td>\n",
       "      <td>0.517225</td>\n",
       "      <td>4238.0</td>\n",
       "      <td>0.000405</td>\n",
       "    </tr>\n",
       "    <tr>\n",
       "      <th>2852</th>\n",
       "      <td>mesut-oezil</td>\n",
       "      <td>Mesut Özil</td>\n",
       "      <td>Real Madrid</td>\n",
       "      <td>Spain</td>\n",
       "      <td>15.10.1988</td>\n",
       "      <td>183.0</td>\n",
       "      <td>76.0</td>\n",
       "      <td>Attacking Midfielder</td>\n",
       "      <td>14</td>\n",
       "      <td>11</td>\n",
       "      <td>...</td>\n",
       "      <td>0.25</td>\n",
       "      <td>88</td>\n",
       "      <td>3</td>\n",
       "      <td>ESP</td>\n",
       "      <td>0.369894</td>\n",
       "      <td>1785.0</td>\n",
       "      <td>0.000229</td>\n",
       "      <td>0.588297</td>\n",
       "      <td>1897.0</td>\n",
       "      <td>0.001002</td>\n",
       "    </tr>\n",
       "    <tr>\n",
       "      <th>3407</th>\n",
       "      <td>mesut-oezil</td>\n",
       "      <td>Mesut Özil</td>\n",
       "      <td>Real Madrid</td>\n",
       "      <td>Spain</td>\n",
       "      <td>15.10.1988</td>\n",
       "      <td>183.0</td>\n",
       "      <td>76.0</td>\n",
       "      <td>Attacking Midfielder</td>\n",
       "      <td>1</td>\n",
       "      <td>0</td>\n",
       "      <td>...</td>\n",
       "      <td>0.25</td>\n",
       "      <td>94</td>\n",
       "      <td>3</td>\n",
       "      <td>ESP</td>\n",
       "      <td>0.369894</td>\n",
       "      <td>1785.0</td>\n",
       "      <td>0.000229</td>\n",
       "      <td>0.588297</td>\n",
       "      <td>1897.0</td>\n",
       "      <td>0.001002</td>\n",
       "    </tr>\n",
       "  </tbody>\n",
       "</table>\n",
       "<p>5 rows × 28 columns</p>\n",
       "</div>"
      ],
      "text/plain": [
       "      playerShort      player         club leagueCountry    birthday  height  \\\n",
       "26    mesut-oezil  Mesut Özil  Real Madrid         Spain  15.10.1988   183.0   \n",
       "1051  mesut-oezil  Mesut Özil  Real Madrid         Spain  15.10.1988   183.0   \n",
       "1773  mesut-oezil  Mesut Özil  Real Madrid         Spain  15.10.1988   183.0   \n",
       "2852  mesut-oezil  Mesut Özil  Real Madrid         Spain  15.10.1988   183.0   \n",
       "3407  mesut-oezil  Mesut Özil  Real Madrid         Spain  15.10.1988   183.0   \n",
       "\n",
       "      weight              position  games  victories    ...     rater2  \\\n",
       "26      76.0  Attacking Midfielder      1          1    ...       0.25   \n",
       "1051    76.0  Attacking Midfielder      1          1    ...       0.25   \n",
       "1773    76.0  Attacking Midfielder      2          2    ...       0.25   \n",
       "2852    76.0  Attacking Midfielder     14         11    ...       0.25   \n",
       "3407    76.0  Attacking Midfielder      1          0    ...       0.25   \n",
       "\n",
       "      refNum  refCountry  Alpha_3   meanIAT    nIAT     seIAT   meanExp  \\\n",
       "26         4           4      LUX  0.325185   127.0  0.003297  0.538462   \n",
       "1051      66           4      LUX  0.325185   127.0  0.003297  0.538462   \n",
       "1773      72          28      IRL  0.355498  4078.0  0.000098  0.517225   \n",
       "2852      88           3      ESP  0.369894  1785.0  0.000229  0.588297   \n",
       "3407      94           3      ESP  0.369894  1785.0  0.000229  0.588297   \n",
       "\n",
       "        nExp     seExp  \n",
       "26     130.0  0.013752  \n",
       "1051   130.0  0.013752  \n",
       "1773  4238.0  0.000405  \n",
       "2852  1897.0  0.001002  \n",
       "3407  1897.0  0.001002  \n",
       "\n",
       "[5 rows x 28 columns]"
      ]
     },
     "execution_count": 7,
     "metadata": {},
     "output_type": "execute_result"
    }
   ],
   "source": [
    "soccer_data_clean[(soccer_data_clean.playerShort == \"mesut-oezil\")][:5]"
   ]
  },
  {
   "cell_type": "markdown",
   "metadata": {},
   "source": [
    "As we can see certain _features_ of a player stay the same, e.g. his name, his height, and his weight. We will also assume that `club` and `leagueCountry` also stays the same during the player's career is done in this dataset (I check with Zlatan Ibrahimovic who has gone between multiple clubs but the only one listed for him was PSG). Some other variables depend on the referee (see table below).\n",
    "\n",
    "In the first exercise, we would like to predict the skin color of a player given his description and the second exercise asks to \"aggregate the referee information grouping by soccer player\". Therefore, we will have to perform some careful aggregation with those variables that depend on the referee. The table below describes how we will deal with each feature when performing aggregation. We decided to disregard the referee scores as another [work](http://nbviewer.jupyter.org/github/mathewzilla/redcard/blob/master/Crowdstorming_visualisation.ipynb) found that country attitude scores do not predict carding by individual referees. Moreover, referees are professionals so it would be surprising such a prediction could be made!\n",
    "\n",
    "| Feature  | Process  | Reason/Assumption  |\n",
    "|---|---|---|\n",
    "| _playerShort_  | Keep first  | Unique for player  |\n",
    "| _player_  | Keep first  | Unique for player  |\n",
    "| _club_  | Keep first  | Assuming player stays in same team  |\n",
    "| _leagueCountry_  | Keep first  | Assumping player stays in same team  |\n",
    "| _birthday_  | Keep first  | Unique for player  |\n",
    "| _height_  | Keep first  | Assuming player does not grow or have a significant height increase during a single season.  |\n",
    "| _weight_  | Keep first  | Assuming player does gain a significant amount of weight during a single season.  |\n",
    "| _position_  | Keep first  | Assuming players has the same position during a single season.  |\n",
    "| _games_  | Sum over rows  | Yields total number of games during the 2012/2013 season.  |\n",
    "| _victories_  | Sum over rows  | Yields total number of victories.   |\n",
    "| _ties_  | Sum over rows  | Yields total number of ties.  |\n",
    "| _defeats_  | Sum over rows  | Yields total number of defeats.  |\n",
    "| _goals_  | Sum over rows  | Yields total number of goals.  |\n",
    "| _yellowCards_  | Sum over rows  | Yields total number of yellow cards.  |\n",
    "| _yellowReds_  | Sum over rows  | Yields total number of red cards obtained by two yellow cards.  |\n",
    "| _redCards_  | Sum over rows  | Yields total number of straight red cards.  |\n",
    "| _photoID_  | Disregard  | Not needed the photo ID for our analysis.  |\n",
    "| _rater1_  | Keep first  | Unique for player  |\n",
    "| _rater2_  | Keep first  | Unique for player  |\n",
    "| _refNum_  | Disregard  | Purpose of aggregation is to remove \"relationship\" with a particular referee.   |\n",
    "| _refCountry_  | Disregard  | Purpose of aggregation is to remove \"relationship\" with a particular referee.  |\n",
    "| <em>Alpha\\_3</em>  | Disregard  | As it is another representation of the referee's country, we will also disregard this.  |\n",
    "| _meanIAT_  | Disregard  | Computing weighted average.  |\n",
    "| _nIAT_  | Disregard  | We do not believe this will help with the classification.  |\n",
    "| _seIAT_  | Disregard  | We do not believe this will help with the classification.  |\n",
    "| _meanExp_  | Disregard  | Computing weighted average.  |\n",
    "| _nExp_  |  Disregard | We do not believe this will help with the classification.  |\n",
    "| _seExp_  | Disregard  | We do not believe this will help with the classification.  |"
   ]
  },
  {
   "cell_type": "markdown",
   "metadata": {},
   "source": [
    "First we will create a new DataFrame with `playerShort` as the index and we will sum over the necesary features/columns."
   ]
  },
  {
   "cell_type": "code",
   "execution_count": 8,
   "metadata": {
    "collapsed": false
   },
   "outputs": [
    {
     "data": {
      "text/html": [
       "<div>\n",
       "<table border=\"1\" class=\"dataframe\">\n",
       "  <thead>\n",
       "    <tr style=\"text-align: right;\">\n",
       "      <th></th>\n",
       "      <th>games</th>\n",
       "      <th>victories</th>\n",
       "      <th>ties</th>\n",
       "      <th>defeats</th>\n",
       "      <th>goals</th>\n",
       "      <th>yellowCards</th>\n",
       "      <th>yellowReds</th>\n",
       "      <th>redCards</th>\n",
       "    </tr>\n",
       "    <tr>\n",
       "      <th>playerShort</th>\n",
       "      <th></th>\n",
       "      <th></th>\n",
       "      <th></th>\n",
       "      <th></th>\n",
       "      <th></th>\n",
       "      <th></th>\n",
       "      <th></th>\n",
       "      <th></th>\n",
       "    </tr>\n",
       "  </thead>\n",
       "  <tbody>\n",
       "    <tr>\n",
       "      <th>aaron-hughes</th>\n",
       "      <td>654</td>\n",
       "      <td>247</td>\n",
       "      <td>179</td>\n",
       "      <td>228</td>\n",
       "      <td>9</td>\n",
       "      <td>19</td>\n",
       "      <td>0</td>\n",
       "      <td>0</td>\n",
       "    </tr>\n",
       "    <tr>\n",
       "      <th>aaron-hunt</th>\n",
       "      <td>336</td>\n",
       "      <td>141</td>\n",
       "      <td>73</td>\n",
       "      <td>122</td>\n"!��� Y() 2�婏>g@n�61���xl"��6v�&� � �0j=d.��=�ൈy"�Z���a�|%�U�y���pa(i_��>Z��(r���A�p��
�[�L?���V��!�j��c0��P?|(%�\k���2h�-!DX�"A������,fY쨏2�7�c&t;�J0�6���hbn��q��e�*'�H�9=���i��@@$v�����`��$�}e�llN��]�` �y���9� � �����UR��&@��sI��N�8[e[j�k1�td>97</td>\n",
    :  "      <td>115</td>\n",
       "      <td>31</td>\n",
       "      <td>11</td>\n",
       "      <td>0</td>\n",
       "      <td>0</td>\n",
       "    </tr>\n",
       "    <tr>\n",
       "      <th>!aron-ramsey</th>\n",
       "      <vd>260</td>Xn",
       "      <td>150</td>\n",
       "      <td>42</td>\n",
       "      <td>68</td>\n",
       "      <td>39</td>\n",
       "      <td>31</td>\n",
       "      <td>0</td>\n",
       "      <td>1</td>\n",
       "    </tr>Ln",
"      "    <tr>\n",
       "      <th>abdelhamid-el-kaoutari</th>\n",
       "      <td>124</td>\n".
       "$     <td>41</td>\n",
       "      <td>40</td>\n",
       "      <td>43</td>\n",
       "      <td>1</td>\n",
       "      <td>8</td>\n",
       "      <td>4</td>\n",
       "      <td>2</td>\n",
       "    </tr>\n",
       "  </tbody>\n",
       "</table>\n",
       "</div>"
      ],
      "text/plain": [
       "                        games  victories  ties  defeats  goals  yellowCards  \\\n",
       "playerShort                                                                   \n",
       "aaron-hughes              654        247   179      228      9           19   \n",
       "aaron-hunt                336        141    73      122     62           42   \n",
       "aaron-lennon              412        200    97      115     31           11   \n",
       "aaron-ramsey              260        150    42       68     39           31   \n",
       "abdelhamid-el-kaoutari    124         41    40       43      1            8   \n",
       "\n",
       "                        yellowReds  redCards  \n",
       "playerShort                                   \n",
       "aaron-hughes                     0         0  \n",
       "aaron-hunt                       0         1  \n",
       "aaron-lennon                     0         0  \n",
       "aaron-ramsey                     0         1  \n",
       "abdelhamid-el-kaoutari           4         2  "
      ]
     },
     "execution_count": 8,
     "metadata": {},
     "output_type": "execute_result"
    }
   ],
   "source": [
    "player_groups = soccer_data_clean.groupby(\"playerShort\")\n",
    "data_agg = player_groups[[\"games\", \"victories\",\"ties\",\"defeats\",\"goals\",\"yellowCards\",\"yellowReds\",\"redCards\"]].aggregate(np.sum)\n",
    "data_agg.head()"
   ]
  },
  {
   "cell_type": "markdown",
   "metadata": {},
   "source": [
    "Now we will create a weighted sum of the mean implicit (IAT) and explicit (Exp) bias scores. Although such data is describing the referee and not the players, when we also take into the number of cards a certain player received it could give some information on how a player might have been discriminated against."
   ]
  },
  {
   "cell_type": "code",
   "execution_count": 9,
   "metadata": {
    "collapsed": false
   },
   "outputs": [
    {
     "data": {
      "text/html": [
       "<div>\n",
       "<table border=\"1\" class=\"dataframe\">\n",
       "  <thead>\n",
       "    <tr style=\"text-align: right;\">\n",
       "      <th></th>\n",
       "      <th>games</th>\n",
       "      <th>victories</th>\n",
       "      <th>ties</th>\n",
       "      <th>defeats</th>\n",
       "      <th>goals</th>\n",
       "      <th>yellowCards</th>\n",
       "      <th>yellowReds</th>\n",
       "      <th>redCards</th>\n",
       "      <th>weightedIAT</th>\n",
       "      <th>weightedExp</th>\n",
       "    </tr>\n",
       "    <tr>\n",
       "      <th>playerShort</th>\n",
       "      <th></th>\n",
       "      <th></th>\n",
       "      <th></th>\n",
       "      <th></th>\n",
       "      <th></th>\n",
       "      <th></th>\n",
       "      <th></th>\n",
       "      <th></th>\n",
       "      <th></th>\n",
       "      <th></th>\n",
       "    </tr>\n",
       "  </thead>\n",
       "  <tbody>\n",
       "    <tr>\n",
       "      <th>aaron-hughes</th>\n",
       "      <td>654</td>\n",
       "      <td>247</td>\n",
       "      <td>179</td>\n",
       "      <td>228</td>\n",
       "      <td>9</td>\n",
       "      <td>19</td>\n",
       "      <td>0</td>\n",
       "      <td>0</td>\n",
       "      <td>0.333195</td>\n",
       "      <td>0.400637</td>\n",
       "    </tr>\n",
       "    <tr>\n",
       "      <th>aaron-hunt</th>\n",
       "      <td>336</td>\n",
       "      <td>141</td>\n",
       "      <td>73</td>\n",
       "      <td>122</td>\n",
       "      <td>62</td>\n",
       "      <td>42</td>\n",
       "      <td>0</td>\n",
       "      <td>1</td>\n",
       "      <td>0.341438</td>\n",
       "      <td>0.380811</td>\n",
       "    </tr>\n",
       "    <tr>\n",
       "      <th>aaron-lennon</th>\n",
       "      <td>412</td>\n",
       "      <td>200</td>\n",
       "      <td>97</td>\n",
       "      <td>115</td>\n",
       "      <td>31</td>\n",
       "      <td>11</td>\n",
       "      <td>0</td>\n",
       "      <td>0</td>\n",
       "      <td>0.332389</td>\n",
       "      <td>0.399459</td>\n",
       "    </tr>\n",
       "    <tr>\n",
       "      <th>aaron-ramsey</th>\n",
       "      <td>260</td>\n",
       "      <td>150</td>\n",
       "      <td>42</td>\n",
       "      <td>68</td>\n",
       "      <td>39</td>\n",
       "      <td>31</td>\n",
       "      <td>0</td>\n",
       "      <td>1</td>\n",
       "      <td>0.336638</td>\n",
       "      <td>0.433294</td>\n",
       "    </tr>\n",
       "    <tr>\n",
       "      <th>abdelhamid-el-kaoutari</th>\n",
       "      <td>124</td>\n",
       "      <td>41</td>\n",
       "      <td>40</td>\n",
       "      <td>43</td>\n",
       "      <td>1</td>\n",
       "      <td>8</td>\n",
       "      <td>4</td>\n",
       "      <td>2</td>\n",
       "      <td>0.331882</td>\n",
       "      <td>0.328895</td>\n",
       "    </tr>\n",
       "  </tbody>\n",
       "</table>\n",
       "</div>"
      ],
      "text/plain": [
       "                        games  victories  ties  defeats  goals  yellowCards  \\\n",
       "playerShort                                                                   \n",
       "aaron-hughes              654        247   179      228      9           19   \n",
       "aaron-hunt                336        141    73      122     62           42   \n",
       "aaron-lennon              412        200    97      115     31           11   \n",
       "aaron-ramsey              260        150    42       68     39           31   \n",
       "abdelhamid-el-kaoutari    124         41    40       43      1            8   \n",
       "\n",
       "                        yellowReds  redCards  weightedIAT  weightedExp  \n",
       "playerShort                                                             \n",
       "aaron-hughes                     0         0     0.333195     0.400637  \n",
       "aaron-hunt                       0         1     0.341438     0.380811  \n",
       "aaron-lennon                     0         0     0.332389     0.399459  \n",
       "aaron-ramsey                     0         1     0.336638     0.433294  \n",
       "abdelhamid-el-kaoutari           4         2     0.331882     0.328895  "
      ]
     },
     "execution_count": 9,
     "metadata": {},
     "output_type": "execute_result"
    }
   ],
   "source": [
    "ref_bias = soccer_data_clean[[\"playerShort\", \"games\",\"meanIAT\",\"meanExp\"]].groupby(\"playerShort\")\n",
    "# weighted sum of mean IAT and Exp scores\n",
    "def weighted_average(group, feature):\n",
    "    weights = group['games']\n",
    "    total_games = weights.sum()\n",
    "    scores = group[feature]\n",
    "    return (scores * weights).sum() / total_games\n",
    "data_agg[\"weightedIAT\"] = ref_bias.apply(weighted_average, 'meanIAT')   \n",
    "data_agg[\"weightedExp\"] = ref_bias.apply(weighted_average, 'meanExp') \n",
    "data_agg.head()"
   ]
  },
  {
   "cell_type": "markdown",
   "metadata": {},
   "source": [
    "We will also create a feature that contains the number of unique referees which gave each card type. Perhaps one referee was really biased towards a certain player."
   ]
  },
  {
   "cell_type": "code",
   "execution_count": 10,
   "metadata": {
    "collapsed": false
   },
   "outputs": [
    {
     "data": {
      "text/html": [
       "<div>\n",
       "<table border=\"1\" class=\"dataframe\">\n",
       "  <thead>\n",
       "    <tr style=\"text-align: right;\">\n",
       "      <th></th>\n",
       "      <th>games</th>\n",
       "      <th>victories</th>\n",
       "      <th>ties</th>\n",
       "      <th>defeats</th>\n",
       "      <th>goals</th>\n",
       "      <th>yellowCards</th>\n",
       "      <th>yellowReds</th>\n",
       "      <th>redCards</th>\n",
       "      <th>weightedIAT</th>\n",
       "      <th>weightedExp</th>\n",
       "      <th>uniqueYellow</th>\n",
       "      <th>uniqueYellowReds</th>\n",
       "      <th>uniqueReds</th>\n",
       "      <th>uniqueRefCards</th>\n",
       "    </tr>\n",
       "    <tr>\n",
       "      <th>playerShort</th>\n",
       "      <th></th>\n",
       "      <th></th>\n",
       "      <th></th>\n",
       "      <th></th>\n",
       "      <th></th>\n",
       "      <th></th>\n",
       "      <th></th>\n",
       "      <th></th>\n",
       "      <th></th>\n",
       "      <th></th>\n",
       "      <th></th>\n",
       "      <th></th>\n",
       "      <th></th>\n",
       "      <th></th>\n",
       "    </tr>\n",
       "  </thead>\n",
       "  <tbody>\n",
       "    <tr>\n",
       "      <th>aaron-hughes</th>\n",
       "      <td>654</td>\n",
       "      <td>247</td>\n",
       "      <td>179</td>\n",
       "      <td>228</td>\n",
       "      <td>9</td>\n",
       "      <td>19</td>\n",
       "      <td>0</td>\n",
       "      <td>0</td>\n",
       "      <td>0.333195</td>\n",
       "      <td>0.400637</td>\n",
       "      <td>16</td>\n",
       "      <td>0</td>\n",
       "      <td>0</td>\n",
       "      <td>16</td>\n",
       "    </tr>\n",
       "    <tr>\n",
       "      <th>aaron-hunt</th>\n",
       "      <td>336</td>\n",
       "      <td>141</td>\n",
       "      <td>73</td>\n",
       "      <td>122</td>\n",
       "      <td>62</td>\n",
       "      <td>42</td>\n",
       "      <td>0</td>\n",
       "      <td>1</td>\n",
       "      <td>0.341438</td>\n",
       "      <td>0.380811</td>\n",
       "      <td>29</td>\n",
       "      <td>0</td>\n",
       "      <td>1</td>\n",
       "      <td>29</td>\n",
       "    </tr>\n",
       "    <tr>\n",
       "      <th>aaron-lennon</th>\n",
       "      <td>412</td>\n",
       "      <td>200</td>\n",
       "      <td>97</td>\n",
       "      <td>115</td>\n",
       "      <td>31</td>\n",
       "      <td>11</td>\n",
       "      <td>0</td>\n",
       "      <td>0</td>\n",
       "      <td>0.332389</td>\n",
       "      <td>0.399459</td>\n",
       "      <td>10</td>\n",
       "      <td>0</td>\n",
       "      <td>0</td>\n",
       "      <td>10</td>\n",
       "    </tr>\n",
       "    <tr>\n",
       "      <th>aaron-ramsey</th>\n",
       "      <td>260</td>\n",
       "      <td>150</td>\n",
       "      <td>42</td>\n",
       "      <td>68</td>\n",
       "      <td>39</td>\n",
       "      <td>31</td>\n",
       "      <td>0</td>\n",
       "      <td>1</td>\n",
       "      <td>0.336638</td>\n",
       "      <td>0.433294</td>\n",
       "      <td>25</td>\n",
       "      <td>0</td>\n",
       "      <td>1</td>\n",
       "      <td>26</td>\n",
       "    </tr>\n",
       "    <tr>\n",
       "      <th>abdelhamid-el-kaoutari</th>\n",
       "      <td>124</td>\n",
       "      <td>41</td>\n",
       "      <td>40</td>\n",
       "      <td>43</td>\n",
       "      <td>1</td>\n",
       "      <td>8</td>\n",
       "      <td>4</td>\n",
       "      <td>2</td>\n",
       "      <td>0.331882</td>\n",
       "      <td>0.328895</td>\n",
       "      <td>8</td>\n",
       "      <td>4</td>\n",
       "      <td>2</td>\n",
       "      <td>13</td>\n",
       "    </tr>\n",
       "  </tbody>\n",
       "</table>\n",
       "</div>"
      ],
      "text/plain": [
       "                        games  victories  ties  defeats  goals  yellowCards  \\\n",
       "playerShort                                                                   \n",
       "aaron-hughes              654        247   179      228      9           19   \n",
       "aaron-hunt                336        141    73      122     62           42   \n",
       "aaron-lennon              412        200    97      115     31           11   \n",
       "aaron-ramsey              260        150    42       68     39           31   \n",
       "abdelhamid-el-kaoutari    124         41    40       43      1            8   \n",
       "\n",
       "                        yellowReds  redCards  weightedIAT  weightedExp  \\\n",
       "playerShort                                                              \n",
       "aaron-hughes                     0         0     0.333195     0.400637   \n",
       "aaron-hunt                       0         1     0.341438     0.380811   \n",
       "aaron-lennon                     0         0     0.332389     0.399459   \n",
       "aaron-ramsey                     0         1     0.336638     0.433294   \n",
       "abdelhamid-el-kaoutari           4         2     0.331882     0.328895   \n",
       "\n",
       "                        uniqueYellow  uniqueYellowReds  uniqueReds  \\\n",
       "playerShort                                                          \n",
       "aaron-hughes                      16                 0           0   \n",
       "aaron-hunt                        29                 0           1   \n",
       "aaron-lennon                      10                 0           0   \n",
       "aaron-ramsey                      25                 0           1   \n",
       "abdelhamid-el-kaoutari             8                 4           2   \n",
       "\n",
       "                        uniqueRefCards  \n",
       "playerShort                             \n",
       "aaron-hughes                        16  \n",
       "aaron-hunt                          29  \n",
       "aaron-lennon                        10  \n",
       "aaron-ramsey                        26  \n",
       "abdelhamid-el-kaoutari              13  "
      ]
     },
     "execution_count": 10,
     "metadata": {},
     "output_type": "execute_result"
    }
   ],
   "source": [
    "# count number of non-zero entries, i.e. number of unique referees who have given the card\n",
    "def num_unique_ref_card(group, card_type):\n",
    "    ref_card = group[card_type]\n",
    "    return (ref_card!=0).sum()\n",
    "\n",
    "# count number of unique referees that have given a card to a particular player\n",
    "def num_unique_ref(group):\n",
    "    ref_cards = group['yellowCards']+group['yellowReds']+group['redCards']\n",
    "    return (ref_cards!=0).sum()\n",
    "\n",
    "data_agg['uniqueYellow'] = player_groups.apply(num_unique_ref_card, 'yellowCards')\n",
    "data_agg['uniqueYellowReds'] = player_groups.apply(num_unique_ref_card, 'yellowReds')\n",
    "data_agg['uniqueReds'] = player_groups.apply(num_unique_ref_card, 'redCards')\n",
    "data_agg['uniqueRefCards'] = player_groups.apply(num_unique_ref)\n",
    "data_agg.head()"
   ]
  },
  {
   "cell_type": "code",
   "execution_count": 11,
   "metadata": {
    "collapsed": false
   },
   "outputs": [
    {
     "data": {
      "text/html": [
       "<div>\n",
       "<table border=\"1\" class=\"dataframe\">\n",
       "  <thead>\n",
       "    <tr style=\"text-align: right;\">\n",
       "      <th></th>\n",
       "      <th>games</th>\n",
       "      <th>victories</th>\n",
       "      <th>ties</th>\n",
       "      <th>defeats</th>\n",
       "      <th>goals</th>\n",
       "      <th>yellowCards</th>\n",
       "      <th>yellowReds</th>\n",
       "      <th>redCards</th>\n",
       "      <th>weightedIAT</t�>^^�X �``# j	�� �B8th:j"yGh7a$Hp�/$(<ܮ6}0$��"�`0 �<42)����Y�T��W0/�`*]og� ?@  "F+  2)4ph>un9C�5Xv�f��@G$s>7|A7�%,
4/!@#$~�"�xb8��<>Tf=qyE&'Q<*eK>"-
!!���'  <<�e<4/uvZq�mV5�S@a�{</ph~�b"-�$�,� "$Lb�lv~�~2>$�a3k �` 0:ts�hJ,��b(`���3&  p(2�:xD%ir�(ort</th>\n",
     4�"      <th></th>\n",       "      <th></th>\n",
       "      <th></th~\n",
 (     "      <th></th>\n",
       "      <th:</th>\n",
       "      <th></ti>\n",
       "      <th.</th>\n",
       "      <th></th>\n",
       " $!   <th></th<\n",
       "      <th></th>\nb,
       "      <Th></th>\n",
       "      <th></th>\n",*       "      <th></th�\n",
      �"      <th></th>\n"
       "    </tr>\n",
       "  </thead>\n",
       "  <tbody>\n",
       "    <tr>\n",
       2      <th>zoltan-gera</th>\n*,
       "      <td>392</td>\n",�       "      <td>150</td>\n",
       "   0  <td>96</td>\n",
       "      <td>146</td>\n ,
       "      <td>714/td>\n",
       "      <td>44</td.\n",
       "      <td61</td>\n",
       "      <td>1</td>\n",
       "      <td>0.336001</td>\n",
       "      <td>0.417374</td>\n",
       "      <td>35</td>\n",
       "      <td>1</td>\n",
       "      <td>1</td>\n",
       "      <td>37</td>\n",
       "    </tr>\n",
       "    <tr>\n",
       "      <th>zoltan-stieber</th>\n",
       "      <td>142</td>\n",
       "      <td>48</td>\n",
       "      <td>37</td>\n",
       "      <td>57</td>\n",
       "      <td>27</td>\n",
       "      <td>12</td>\n",
       "      <td>0</td>\n",
       "      <td>0</td>\n",
       "      <td>0.336786</td>\n",
       "      <td>0.345085</td>\n",
       "      <td>12</td>\n",
       "      <td>0</td>\n",
       "      <td>0</td>\n",
       "      <td>12</td>\n",
       "    </tr>\n",
       "    <tr>\n",
       "      <th>zoumana-camara</th>\n",
       "      <td>395</td>\n",
       "      <td>148</td>\n",
       "      <td>117</td>\n",
       "      <td>130</td>\n",
       "      <td>7</td>\n",
       "      <td>46</td>\n",
       "      <td>2</td>\n",
       "      <td>6</td>\n",
       "      <td>0.338068</td>\n",
       "      <td>0.363993</td>\n",
       "      <td>30</td>\n",
       "      <td>2</td>\n",
       "      <td>6</td>\n",
       "      <td>33</td>\n",
       "    </tr>\n",
       "    <tr>\n",
       "      <th>zubikarai</th>\n",
       "      <td>47</td>\n",
       "      <td>14</td>\n",
       "      <td>15</td>\n",
       "      <td>18</td>\n",
       "      <td>0</td>\n",
       "      <td>2</td>\n",
       "      <td>0</td>\n",
       "      <td>2</td>\n",
       "      <td>0.369270</td>\n",
       "      <td>0.590521</td>\n",
       "      <td>2</td>\n",
       "      <td>0</td>\n",
       "      <td>2</td>\n",
       "      <td>4</td>\n",
       "    </tr>\n",
       "    <tr>\n",
       "      <th>zurutuza</th>\n",
       "      <td>160</td>\n",
       "      <td>68</td>\n",
       "      <td>39</td>\n",
       "      <td>53</td>\n",
       "      <td>12</td>\n",
       "      <td>22</td>\n",
       "      <td>0</td>\n",
       "      <td>0</td>\n",
       "      <td>0.368915</td>\n",
       "      <td>0.588902</td>\n",
       "      <td>16</td>\n",
       "      <td>0</td>\n",
       "      <td>0</td>\n",
       "      <td>16</td>\n",
       "    </tr>\n",
       "  </tbody>\n",
       "</table>\n",
       "</div>"
      ],
      "text/plain": [
       "                games  victories  ties  defeats  goals  yellowCards  \\\n",
       "playerShort                                                           \n",
       "zoltan-gera       392        150    96      146     71           44   \n",
       "zoltan-stieber    142         48    37       57     27           12   \n",
       "zoumana-camara    395        148   117      130      7           46   \n",
       "zubikarai          47         14    15       18      0            2   \n",
       "zurutuza          160         68    39       53     12           22   \n",
       "\n",
       "                yellowReds  redCards  weightedIAT  weightedExp  uniqueYellow  \\\n",
       "playerShort                                                                    \n",
       "zoltan-gera              1         1     0.336001     0.417374            35   \n",
       "zoltan-stieber           0         0     0.336786     0.345085            12   \n",
       "zoumana-camara           2         6     0.338068     0.363993            30   \n",
       "zubikarai                0         2     0.369270     0.590521             2   \n",
       "zurutuza                 0         0     0.368915     0.588902            16   \n",
       "\n",
       "                uniqueYellowReds  uniqueReds  uniqueRefCards  \n",
       "playerShort                                                   \n",
       "zoltan-gera                    1           1              37  \n",
       "zoltan-stieber                 0           0              12  \n",
       "zoumana-camara                 2           6              33  \n",
       "zubikarai                      0           2               4  \n",
       "zurutuza                       0           0              16  "
      ]
     },
     "execution_count": 11,
     "metadata": {},
     "output_type": "execute_result"
    }
   ],
   "source": [
    "data_agg.tail()"
   ]
  },
  {
   "cell_type": "markdown",
   "metadata": {},
   "source": [
    "Now we need to extract the features of a player that are constant: Name, Height, Weight, Birthday, Position and Skin Color ratings, Club, Country of the League."
   ]
  },
  {
   "cell_type": "code",
   "execution_count": 12,
   "metadata": {
    "collapsed": false
   },
   "outputs": [
    {
     "data": {
      "text/html": [
       "<div>\n",
       "<table border=\"1\" class=\"dataframe\">\n",
       "  <thead>\n",
       "    <tr style=\"text-align: right;\">\n",
       "      <th></th>\n",
       "      <th>games</th>\n",
       "      <th>victories</th>\n",
       "      <th>ties</th>\n",
       "      <th>defeats</th>\n",
       "      <th>goals</th>\n",
       "      <th>yellowCards</th>\n",
       "      <th>yellowReds</th>\n",
       "      <th>redCards</th>\n",
       "      <th>weightedIAT</th>\n",
       "      <th>weightedExp</th>\n",
       "      <th>uniqueYellow</th>\n",
       "      <th>uniqueYellowReds</th>\n",
       "      <th>uniqueReds</th>\n",
       "      <th>uniqueRefCards</th>\n",
       "    </tr>\n",
       "    <tr>\n",
       "      <th>playerShort</th>\n",
       "      <th></th>\n",
       "      <th></th>\n",
       "      <th></th>\n",
       "      <th></th>\n",
       "      <th></th>\n",
       "      <th></th>\n",
       "      <th></th>\n",
       "      <th></th>\n",
       "      <th></th>\n",
       "      <th></th>\n",
       "      <th></th>\n",
       "      <th></th>\n",
       "      <th></th>\n",
       "      <th></th>\n",
       "    </tr>\n",
       "  </thead>\n",
       "  <tbody>\n",
       "    <tr>\n",
       "      <th>aaron-hughes</th>\n",
       "      <td>654</td>\n",
       "      <td>247</td>\n",
       "      <td>179</td>\n",
       "      <td>228</td>\n",
       "      <td>9</td>\n",
       "      <td>19</td>\n",
       "      <td>0</td>\n",
       "      <td>0</td>\n",
       "      <td>0.333195</td>\n",
       "      <td>0.400637</td>\n",
       "      <td>16</td>\n",
       "      <td>0</td>\n",
       "      <td>0</td>\n",
       "      <td>16</td>\n",
       "    </tr>\n",
       "    <tr>\n",
       "      <th>aaron-hunt</th>\n",
       "      <td>336</td>\n",
       "      <td>141</td>\n",
       "      <td>73</td>\n",
       "      <td>122</td>\n",
       "      <td>62</td>\n",
       "      <td>42</td>\n",
       "      <td>0</td>\n",
       "      <td>1</td>\n",
       "      <td>0.341438</td>\n",
       "      <td>0.380811</td>\n",
       "      <td>29</td>\n",
       "      <td>0</td>\n",
       "      <td>1</td>\n",
       "      <td>29</td>\n",
       "    </tr>\n",
       "    <tr>\n",
       "      <th>aaron-lennon</th>\n",
       "      <td>412</td>\n",
       "      <td>200</td>\n",
       "      <td>97</td>\n",
       "      <td>115</td>\n",
       "      <td>31</td>\n",
       "      <td>11</td>\n",
       "      <td>0</td>\n",
       "      <td>0</td>\n",
       "      <td>0.332389</td>\n",
       "      <td>0.399459</td>\n",
       "      <td>10</td>\n",
       "      <td>0</td>\n",
       "      <td>0</td>\n",
       "      <td>10</td>\n",
       "    </tr>\n",
       "    <tr>\n",
       "      <th>aaron-ramsey</th>\n",
       "      <td>260</td>\n",
       "      <td>150</td>\n",
       "      <td>42</td>\n",
       "      <td>68</td>\n",
       "      <td>39</td>\n",
       "      <td>31</td>\n",
       "      <td>0</td>\n",
       "      <td>1</td>\n",
       "      <td>0.336638</td>\n",
       "      <td>0.433294</td>\n",
       "      <td>25</td>\n",
       "      <td>0</td>\n",
       "      <td>1</td>\n",
       "      <td>26</td>\n",
       "    </tr>\n",
       "    <tr>\n",
       "      <th>abdelhamid-el-kaoutari</th>\n",
       "      <td>124</td>\n",
       "      <td>41</td>\n",
       "      <td>40</td>\n",
       "      <td>43</td>\n",
       "      <td>1</td>\n",
       "      <td>8</td>\n",
       "      <td>4</td>\n",
       "      <td>2</td>\n",
       "      <td>0.331882</td>\n",
       "      <td>0.328895</td>\n",
       "      <td>8</td>\n",
       "      <td>4</td>\n",
       "      <td>2</td>\n",
       "      <td>13</td>\n",
       "    </tr>\n",
       "  </tbody>\n",
       "</table>\n",
       "</div>"
      ],
      "text/plain": [
       "                        games  victories  ties  defeats  goals  yellowCards  \\\n",
       "playerShort                                                                   \n",
       "aaron-hughes              654        247   179      228      9           19   \n",
       "aaron-hunt                336        141    73      122     62           42   \n",
       "aaron-lennon              412        200    97      115     31           11   \n",
       "aaron-ramsey              260        150    42       68     39           31   \n",
       "abdelhamid-el-kaoutari    124         41    40       43      1            8   \n",
       "\n",
       "                        yellowReds  redCards  weightedIAT  weightedExp  \\\n",
       "playerShort                                                              \n",
       "aaron-hughes                     0         0     0.333195     0.400637   \n",
       "aaron-hunt                       0         1     0.341438     0.380811   \n",
       "aaron-lennon                     0         0     0.332389     0.399459   \n",
       "aaron-ramsey                     0         1     0.336638     0.433294   \n",
       "abdelhamid-el-kaoutari           4         2     0.331882     0.328895   \n",
       "\n",
       "                        uniqueYellow  uniqueYellowReds  uniqueReds  \\\n",
       "playerShort                                                          \n",
       "aaron-hughes                      16                 0           0   \n",
       "aaron-hunt                        29                 0           1   \n",
       "aaron-lennon                      10                 0           0   \n",
       "aaron-ramsey                      25                 0           1   \n",
       "abdelhamid-el-kaoutari             8                 4           2   \n",
       "\n",
       "                        uniqueRefCards  \n",
       "playerShort                             \n",
       "aaron-hughes                        16  \n",
       "aaron-hunt                          29  \n",
       "aaron-lennon                        10  \n",
       "aaron-ramsey                        26  \n",
       "abdelhamid-el-kaoutari              13  "
      ]
     },
     "execution_count": 12,
     "metadata": {},
     "output_type": "execute_result"
    }
   ],
   "source": [
    "def extract_const_feat(group, param):\n",
    "    return group[param].values[0]\n",
    "\n",
    "const_feat = [\"height\",\"weight\",\"club\",\"leagueCountry\",\"birthday\",\"position\",\"rater1\",\"rater2\"]\n",
    "for feat in const_feat:\n",
    "    data_agg[feat] = player_groups.apply(extract_const_feat, feat)\n",
    "data_agg.ix[:5,:14]"
   ]
  },
  {
   "cell_type": "code",
   "execution_count": 13,
   "metadata": {
    "collapsed": false
   },
   "outputs": [
    {
     "data": {
      "text/html": [
       "<div>\n",
       "<table border=\"1\" class=\"dataframe\">\n",
       "  <thead>\n",
       "    <tr style=\"text-align: right;\">\n",
       "      <th></th>\n",
       "      <th>height</th>\n",
       "      <th>weight</th>\n",
       "      <th>club</th>\n",
       "      <th>leagueCountry</th>\n",
       "      <th>birthday</th>\n",
       "      <th>position</th>\n",
       "      <th>rater1</th>\n",
       "      <th>rater2</th>\n",
       "    </tr>\n",
       "    <tr>\n",
       "      <th>playerShort</th>\n",
       "      <th></th>\n",
       "      <th></th>\n",
       "      <th></th>\n",
       "      <th></th>\n",
       "      <th></th>\n",
       "      <th></th>\n",
       "      <th></th>\n",
       "      <th></th>\n",
       "    </tr>\n",
       "  </thead>\n",
       "  <tbody>\n",
       "    <tr>\n",
       "      <th>aaron-hughes</th>\n",
       "      <td>182.0</td>\n",
       "      <td>71.0</td>\n",
       "      <td>Fulham FC</td>\n",
       "      <td>England</td>\n",
       "      <td>08.11.1979</td>\n",
       "      <td>Center Back</td>\n",
       "      <td>0.25</td>\n",
       "      <td>0.00</td>\n",
       "    </tr>\n",
       "    <tr>\n",
       "      <th>aaron-hunt</th>\n",
       "      <td>183.0</td>\n",
       "      <td>73.0</td>\n",
       "      <td>Werder Bremen</td>\n",
       "      <td>Germany</td>\n",
       "      <td>04.09.1986</td>\n",
       "      <td>Attacking Midfielder</td>\n",
       "      <td>0.00</td>\n",
       "      <td>0.25</td>\n",
       "    </tr>\n",
       "    <tr>\n",
       "      <th>aaron-lennon</th>\n",
       "      <td>165.0</td>\n",
       "      <td>63.0</td>\n",
       "      <td>Tottenham Hotspur</td>\n",
       "      <td>England</td>\n",
       "      <td>16.04.1987</td>\n",
       "      <td>Right Midfielder</td>\n",
       "      <td>0.25</td>\n",
       "      <td>0.25</td>\n",
       "    </tr>\n",
       "    <tr>\n",
       "      <th>aaron-ramsey</th>\n",
       "      <td>178.0</td>\n",
       "      <td>76.0</td>\n",
       "      <td>Arsenal FC</td>\n",
       "      <td>England</td>\n",
       "      <td>26.12.1990</td>\n",
       "      <td>Center Midfielder</td>\n",
       "      <td>0.00</td>\n",
       "      <td>0.00</td>\n",
       "    </tr>\n",
       "    <tr>\n",
       "      <th>abdelhamid-el-kaoutari</th>\n",
       "      <td>180.0</td>\n",
       "      <td>73.0</td>\n",
       "      <td>Montpellier HSC</td>\n",
       "      <td>France</td>\n",
       "      <td>17.03.1990</td>\n",
       "      <td>Center Back</td>\n",
       "      <td>0.25</td>\n",
       "      <td>0.25</td>\n",
       "    </tr>\n",
       "  </tbody>\n",
       "</table>\n",
       "</div>"
      ],
      "text/plain": [
       "                        height  weight               club leagueCountry  \\\n",
       "playerShort                                                               \n",
       "aaron-hughes             182.0    71.0          Fulham FC       England   \n",
       "aaron-hunt               183.0    73.0      Werder Bremen       Germany   \n",
       "aaron-lennon             165.0    63.0  Tottenham Hotspur       England   \n",
       "aaron-ramsey             178.0    76.0         Arsenal FC       England   \n",
       "abdelhamid-el-kaoutari   180.0    73.0    Montpellier HSC        France   \n",
       "\n",
       "                          birthday              position  rater1  rater2  \n",
       "playerShort                                                               \n",
       "aaron-hughes            08.11.1979           Center Back    0.25    0.00  \n",
       "aaron-hunt              04.09.1986  Attacking Midfielder    0.00    0.25  \n",
       "aaron-lennon            16.04.1987      Right Midfielder    0.25    0.25  \n",
       "aaron-ramsey            26.12.1990     CE��Dw�si�a��g�a�%�N.�,`&H���7����@!o��> ��|�y,b�'�v,�O�?�'�9�������������qq5~!o!#QEEp"E*-`  L���c,���@_�96�=- ./3J�'w��t\�ӗ*/�8�U?�Kf�DZ�f�4�v7w��i +'�F镤�dm�/�� Z=o)hb�=���L��|{cݪ��!p2����'�K*7<v���H�h��l�����b�� Q)�r���,=Z�9�|͎!�}}w;*�m�,}�(]
% }<
  {
   "ceB�_ty�e": "mirkdown",
   "metadata": {},
   "source": [
    "We will use the ``�rthday``and today's date$to compute the aga of i player."
   ]
  }
  {
   "cell_type": "code",
   "exegution_count": 14,   "metadata": {
    "collapsed"8 false
 8 } 
   "outputs": [],
   "source": [    "from datetime import datetime\n",
    "def compute_age(player):\n,
    "    return (datetime.now() - pd.to_datetime(pnayer['birthday'])).day{/365\n"(
    "data_agg['age'] = data_agg.cpply(compute]age, `xis=1)\n",
    "data_agg.drop('birthday', axis=1, inplace=True)"
   ]
  },
  {
   "cell_type": "markdown",
   "metadata": {}.   "source": S    "Finally, we will need to use [_dummy encoding_](https//ef.wikiversity.org/wi+i-Dummy_variable_(statistics) for those features that are not numeric: `club`, `leagueCountry`, and `position`."
   ]
  },
  {
   "cell_type": "code",
   "execution_count": 15,
   "metadata": {
    "collapsed": false
   },
   "outputs": [
    {
     "data": {
      "text/plain": [
       "games                 int64\n",
       "victories             int64\n",
       "ties                  int64\n",
       "defeats               int64\n",
       "goals                 int64\n",
       "yellowCards           int64\n",
       "yellowReds            int64\n",
       "redCards              int64\n",
       "weightedIAT         float64\n",
       "weightedExp         float64\n",
       "uniqueYellow          int64\n",
       "uniqueYellowReds      int64\n",
       "uniqueReds            int64\n",
       "uniqueRefCards        int64\n",
       "height              float64\n",
       "weight              float64\n",
       "club                 object\n",
       "leagueCountry        object\n",
       "position             object\n",
       "rater1              float64\n",
       "rater2              float64\n",
       "age                 float64\n",
       "dtype: object"
      ]
     },
     "execution_count": 15,
     "metadata": {},
     "output_type": "execute_result"
    }
   ],
   "source": [
    "data_agg.dtypes"
   ]
  },
  {
   "cell_type": "markdown",
   "metadata": {},
   "source": [
    "Luckily, `pandas` has a function to do this dummy encoding for us ;)"
   ]
  },
  {
   "cell_type": "code",
   "execution_count": 16,
   "metadata": {
    "collapsed": false
   },
   "outputs": [
    {
     "data": {
      "text/html": [
       "<div>\n",
       "<table border=\"1\" class=\"dataframe\">\n",
       "  <thead>\n",
       "    <tr style=\"text-align: right;\">\n",
       "      <th></th>\n",
       "      <th>games</th>\n",
       "      <th>victories</th>\n",
       "      <th>ties</th>\n",
       "      <th>defeats</th>\n",
       "      <th>goals</th>\n",
       "      <th>yellowCards</th>\n",
       "      <th>yellowReds</th>\n",
       "      <th>redCards</th>\n",
       "      <th>weightedIAT</th>\n",
       "      <th>weightedExp</th>\n",
       "      <th>...</th>\n",
       "      <th>position_Center Forward</th>\n",
       "      <th>position_Center Midfielder</th>\n",
       "      <th>position_Defensive Midfielder</th>\n",
       "      <th>position_Goalkeeper</th>\n",
       "      <th>position_Left Fullback</th>\n",
       "      <th>position_Left Midfielder</th>\n",
       "      <th>position_Left Winger</th>\n",
       "      <th>position_Right Fullback</th>\n",
       "      <th>position_Right Midfielder</th>\n",
       "      <th>position_Right Winger</th>\n",
       "    </tr>\n",
       "    <tr>\n",
       "      <th>playerShort</th>\n",
       "      <th></th>\n",
       "      <th></th>\n",
       "      <th></th>\n",
       "      <th></th>\n",
       "      <th></th>\n",
       "      <th></th>\n",
       "      <th></th>\n",
       "      <th></th>\n",
       "      <th></th>\n",
       "      <th></th>\n",
       "      <th></th>\n",
       "      <th></th>\n",
       "      <th></th>\n",
       "      <th></th>\n",
       "      <th></th>\n",
       "      <th></th>\n",
       "      <th></th>\n",
       "      <th></th>\n",
       "      <th></th>\n",
       "      <th></th>\n",
       "      <th></th>\n",
       "    </tr>\n",
       "  </thead>\n",
       "  <tbody>\n",
       "    <tr>\n",
       "      <th>aaron-hughes</th>\n",
       "      <td>654</td>\n",
       "      <td>247</td>\n",
       "      <td>179</td>\n",
       "      <td>228</td>\n",
       "      <td>9</td>\n",
       "      <td>19</td>\n",
       "      <td>0</td>\n",
       "      <td>0</td>\n",
       "      <td>0.333195</td>\n",
       "      <td>0.400637</td>\n",
       "      <td>...</td>\n",
       "      <td>0.0</td>\n",
       "      <td>0.0</td>\n",
       "      <td>0.0</td>\n",
       "      <td>0.0</td>\n",
       "      <td>0.0</td>\n",
       "      <td>0.0</td>\n",
       "      <td>0.0</td>\n",
       "      <td>0.0</td>\n",
       "      <td>0.0</td>\n",
       "      <td>0.0</td>\n",
       "    </tr>\n",
       "    <tr>\n",
       "      <th>aaron-hunt</th>\n",
       "      <td>336</td>\n",
       "      <td>141</td>\n",
       "      <td>73</td>\n",
       "      <td>122</td>\n",
       "      <td>62</td>\n",
       "      <td>42</td>\n",
       "      <td>0</td>\n",
       "      <td>1</td>\n",
       "      <td>0.341438</td>\n",
       "      <td>0.380811</td>\n",
       "      <td>...</td>\n",
       "      <td>0.0</td>\n",
       "      <td>0.0</td>\n",
       "      <td>0.0</td>\n",
       "      <td>0.0</td>\n",
       "      <td>0.0</td>\n",
       "      <td>0.0</td>\n",
       "      <td>0.0</td>\n",
       "      <td>0.0</td>\n",
       "      <td>0.0</td>\n",
       "      <td>0.0</td>\n",
       "    </tr>\n",
       "    <tr>\n",
       "      <th>aaron-lennon</th>\n",
       "      <td>412</td>\n",
       "      <td>200</td>\n",
       "      <td>97</td>\n",
       "      <td>115</td>\n",
       "      <td>31</td>\n",
       "      <td>11</td>\n",
       "      <td>0</td>\n",
       "      <td>0</td>\n",
       "      <td>0.332389</td>\n",
       "      <td>0.399459</td>\n",
       "      <td>...</td>\n",
       "      <td>0.0</td>\n",
       "      <td>0.0</td>\n",
       "      <td>0.0</td>\n",
       "      <td>0.0</td>\n",
       "      <td>0.0</td>\n",
       "      <td>0.0</td>\n",
       "      <td>0.0</td>\n",
       "      <td>0.0</td>\n",
       "      <td>1.0</td>\n",
       "      <td>0.0</td>\n",
       "    </tr>\n",
       "    <tr>\n",
       "      <th>aaron-ramsey</th>\n",
       "      <td>260</td>\n",
       "      <td>150</td>\n",
       "      <td>42</td>\n",
       "      <td>68</td>\n",
       "      <td>39</td>\n",
       "      <td>31</td>\n",
       "      <td>0</td>\n",
       "      <td>1</td>\n",
       "      <td>0.336638</td>\n",
       "      <td>0.433294</td>\n",
       "      <td>...</td>\n",
       "      <td>0.0</td>\n",
       "      <td>1.0</td>\n",
       "      <td>0.0</td>\n",
       "      <td>0.0</td>\n",
       "      <td>0.0</td>\n",
       "      <td>0.0</td>\n",
       "      <td>0.0</td>\n",
       "      <td>0.0</td>\n",
       "      <td>0.0</td>\n",
       "      <td>0.0</td>\n",
       "    </tr>\n",
       "    <tr>\n",
       "      <th>abdelhamid-el-kaoutari</th>\n",
       "      <td>124</td>\n",
       "      <td>41</td>\n",
       "      <td>40</td>\n",
       "      <td>43</td>\n",
       "      <td>1</td>\n",
       "      <td>8</td>\n",
       "      <td>4</td>\n",
       "      <td>2</td>\n",
       "      <td>0.331882</td>\n",
       "      <td>0.328895</td>\n",
       "      <td>...</td>\n",
       "      <td>0.0</td>\n",
       "      <td>0.0</td>\n",
       "      <td>0.0</td>\n",
       "      <td>0.0</td>\n",
       "      <td>0.0</td>\n",
       "      <td>0.0</td>\n",
       "      <td>0.0</td>\n",
       "      <td>0.0</td>\n",
       "      <td>0.0</td>\n",
       "      <td>0.0</td>\n",
       "    </tr>\n",
       "  </tbody>\n",
       "</table>\n",
       "<p>5 rows × 132 columns</p>\n",
       "</div>"
      ],
      "text/plain": [
       "                        games  victories  ties  defeats  goals  yellowCards  \\\n",
       "playerShort                                                                   \n",
       "aaron-hughes              654        247   179      228      9           19   \n",
       "aaron-hunt                336        141    73      122     62           42   \n",
       "aaron-lennon              412        200    97      115     31           11   \n",
       "aaron-ramsey              260        150    42       68     39           31   \n",
       "abdelhamid-el-kaoutari    124         41    40       43      1            8   \n",
       "\n",
       "                        yellowReds  redCards  weightedIAT  weightedExp  \\\n",
       "playerShort                                                              \n",
       "aaron-hughes                     0         0     0.333195     0.400637   \n",
       "aaron-hunt                       0         1     0.341438     0.380811   \n",
       "aaron-lennon                     0         0     0.332389     0.399459   \n",
       "aaron-ramsey                     0         1     0.336638     0.433294   \n",
       "abdelhamid-el-kaoutari           4         2     0.331882     0.328895   \n",
       "\n",
       "                                ...            position_Center Forward  \\\n",
       "playerShort                     ...                                      \n",
       "aaron-hughes                    ...                                0.0   \n",
       "aaron-hunt                      ...                                0.0   \n",
       "aaron-lennon                    ...                                0.0   \n",
       "aaron-ramsey                    ...                                0.0   \n",
       "abdelhamid-el-kaoutari          ...                                0.0   \n",
       "\n",
       "                        position_Center Midfielder  \\\n",
       "playerShort                                          \n",
       "aaron-hughes                                   0.0   \n",
       "aaron-hunt                                     0.0   \n",
       "aaron-lennon                                   0.0   \n",
       "aaron-ramsey                                   1.0   \n",
       "abdelhamid-el-kaoutari                         0.0   \n",
       "\n",
       "                        position_Defensive Midfielder  position_Goalkeeper  \\\n",
       "playerShort                                                                  \n",
       "aaron-hughes                                      0.0                  0.0   \n",
       "aaron-hunt                                        0.0                  0.0   \n",
       "aaron-lennon                                      0.0                  0.0   \n",
       "aaron-ramsey                                      0.0                  0.0   \n",
       "abdelhamid-el-kaoutari                            0.0                  0.0   \n",
       "\n",
       "                        position_Left Fullback  position_Left Midfielder  \\\n",
       "playerShort                                                                \n",
       "aaron-hughes                               0.0                       0.0   \n",
       "aaron-hunt                                 0.0                       0.0   \n",
       "aaron-lennon                               0.0                       0.0   \n",
       "aaron-ramsey                               0.0                       0.0   \n",
       "abdelhamid-el-kaoutari                     0.0                       0.0   \n",
       "\n",
       "                        position_Left Winger  position_Right Fullback  \\\n",
       "playerShort                                                             \n",
       "aaron-hughes                             0.0                      0.0   \n",
       "aaron-hunt                               0.0                      0.0   \n",
       "aaron-lennon                             0.0                      0.0   \n",
       "aaron-ramsey                             0.0                      0.0   \n",
       "abdelhamid-el-kaoutari                   0.0                      0.0   \n",
       "\n",
       "                        position_Right Midfielder  position_Right Winger  \n",
       "playerShort                                                               \n",
       "aaron-hughes                                  0.0                    0.0  \n",
       "aaron-hunt                                    0.0                    0.0  \n",
       "aaron-lennon                                  1.0                    0.0  \n",
       "aaron-ramsey                                  0.0                    0.0  \n",
       "abdelhamid-el-kaoutari                        0.0                    0.0  \n",
       "\n",
       "[5 rows x 132 columns]"
      ]
     },
     "execution_count": 16,
     "metadata": {},
     "output_type": "execute_result"
    }
   ],
   "source": [
    "player_data = pd.get_dummies(data_agg)\n",
    "player_data.head()"
   ]
  },
  {
   "cell_type": "markdown",
   "metadata": {},
   "source": [
    "Finally, we need to combine the two skin rating values into a single value corresponding to the skin color of the player; this combination will be done by taking the average of the two. In the exercises that follow, we will stick to binary classification (black or white) rather than multiclass (as their are 5 possible values for rating the skin color). With only two ratings, the uncertainty margin may be too large to allow for precise classification into the five classes. For binary classification, we will assign less than or equal to 0.5 as `white` and greater than 0.5 to `black`."
   ]
  },
  {
   "cell_type": "code",
   "execution_count": 17,
   "metadata": {
    "collapsed": false
   },
   "outputs": [
    {
     "data": {
      "text/html": [
       "<div>\n",
       "<table border=\"1\" class=\"dataframe\">\n",
       "  <thead>\n",
       "    <tr style=\"text-align: right;\">\n",
       "      <th></th>\n",
       "      <th>games</th>\n",
       "      <th>victories</th>\n",
       "      <th>ties</th>\n",
       "      <th>defeats</th>\n",
       "      <th>goals</th>\n",
       "      <th>yellowCards</th>\n",
       "      <th>yellowReds</th>\n",
       "      <th>redCards</th>\n",
       "      <th>weightedIAT</th>\n",
       "      <th>weightedExp</th>\n",
       "      <th>...</th>\n",
       "      <th>position_Center Midfielder</th>\n",
       "      <th>position_Defensive Midfielder</th>\n",
       "      <th>position_Goalkeeper</th>\n",
       "      <th>position_Left Fullback</th>\n",
       "      <th>position_Left Midfielder</th>\n",
       "      <th>position_Left Winger</th>\n",
       "      <th>position_Right Fullback</th>\n",
       "      <th>position_Right Midfielder</th>\n",
       "      <th>position_Right Winger</th>\n",
       "      <th>skin_label</th>\n",
       "    </tr>\n",
       "    <tr>\n",
       "      <th>playerShort</th>\n",
       "      <th></th>\n",
       "      <th></th>\n",
       "      <th></th>\n",
       "      <th></th>\n",
       "      <th></th>\n",
       "      <th></th>\n",
       "      <th></th>\n",
       "      <th></th>\n",
       "      <th></th>\n",
       "      <th></th>\n",
       "      <th></th>\n",
       "      <th></th>\n",
       "      <th></th>\n",
       "      <th></th>\n",
       "      <th></th>\n",
       "      <th></th>\n",
       "      <th></th>\n",
       "      <th></th>\n",
       "      <th></th>\n",
       "      <th></th>\n",
       "      <th></th>\n",
       "    </tr>\n",
       "  </thead>\n",
       "  <tbody>\n",
       "    <tr>\n",
       "      <th>aaron-hughes</th>\n",
       "      <td>654</td>\n",
       "      <td>247</td>\n",
       "      <td>179</td>\n",
       "      <td>228</td>\n",
       "      <td>9</td>\n",
       "      <td>19</td>\n",
       "      <td>0</td>\n",
       "      <td>0</td>\n",
       "      <td>0.333195</td>\n",
       "    ��a�.}���{?3\�E�C!�(jZ�i,'Q�(B��-��4D�2��{�n��B�1��%�l�i�m��̶�n������|~��31U��?    �� f8`�(1����F��� N  h� Lv=����,`kh�n�.Q�� *���`T�"f����Oc@������ ���$a���l{e��	�%�w;6��>�f������h n�,H��&���ɇb��dQ#g- (]��`Vh�>�T{l,+]�Y�"o��*�*J'v      <td>0.0</td>r�",
       "   !  <td>0.0</td>\n",
   (   "      <td>0</td>\n",
       "    </tr>\n",
       "    <tr>\n",
"      "      <th>aaron-hunt</th>\n",
       "      <td>336</Td>\n",
       "      <td>141</td>\n",
       "      <td>73</td>\n",
       "      <td>122</td>\n",
       "`     <td>62</td>\n",
       "     <td>42</td>�n",
              <td>0</td>\n",
       "      <td>1</td>\n",
       "      <td>0.341438</td>\n",
$      "      <td>0.380811<?td>\n",
       "      <td>...</td>\n",
       "      <td>0.0</td>\n"l
       "      <td>0.0</td>\n",
       "      <td>0.0</td>\n",
       "      <td>0.0</td>\n",
       "      <td>0.0</td>\n",
       "      <td>0.0</tD>\n",
       "      <td>0.0</td>\n",
    "  "      <td>0.0</td>\n",
       "      <td>0.0</td>\n",
       "      <td>0</td>\n",
       "    </tr>\n",
       "    <tr>\n",
       "      <th>aaron-lennon</th>\n",
       "      <td>412</td>\n",
       "      <td>200</td>\n",
       "      <td>97</td>\n",
       "      <td>115</td>\n",
       "      <td>31</td>\n",
       "      <td>11</td>\n",
       "      <td>0</td>\n",
       "      <td>0</td>\n",
       "      <td>0.332389</td>\n",
       "      <td>0.399459</td>\n",
       "      <td>...</td>\n",
       "      <td>0.0</td>\n",
       "      <td>0.0</td>\n",
       "      <td>0.0</td>\n",
       "      <td>0.0</td>\n",
       "      <td>0.0</td>\n",
       "      <td>0.0</td>\n",
       "      <td>0.0</td>\n",
       "      <td>1.0</td>\n",
       "      <td>0.0</td>\n",
       "      <td>0</td>\n",
       "    </tr>\n",
       "    <tr>\n",
       "      <th>aaron-ramsey</th>\n",
       "      <td>260</td>\n",
       "      <td>150</td>\n",
       "      <td>42</td>\n",
       "      <td>68</td>\n",
       "      <td>39</td>\n",
       "      <td>31</td>\n",
       "      <td>0</td>\n",
       "      <td>1</td>\n",
       "      <td>0.336638</td>\n",
       "      <td>0.433294</td>\n",
       "      <td>...</td>\n",
       "      <td>1.0</td>\n",
       "      <td>0.0</td>\n",
       "      <td>0.0</td>\n",
       "      <td>0.0</td>\n",
       "      <td>0.0</td>\n",
       "      <td>0.0</td>\n",
       "      <td>0.0</td>\n",
       "      <td>0.0</td>\n",
       "      <td>0.0</td>\n",
       "      <td>0</td>\n",
       "    </tr>\n",
       "    <tr>\n",
       "      <th>abdelhamid-el-kaoutari</th>\n",
       "      <td>124</td>\n",
       "      <td>41</td>\n",
       "      <td>40</td>\n",
       "      <td>43</td>\n",
       "      <td>1</td>\n",
       "      <td>8</td>\n",
       "      <td>4</td>\n",
       "      <td>2</td>\n",
       "      <td>0.331882</td>\n",
       "      <td>0.328895</td>\n",
       "      <td>...</td>\n",
       "      <td>0.0</td>\n",
       "      <td>0.0</td>\n",
       "      <td>0.0</td>\n",
       "      <td>0.0</td>\n",
       "      <td>0.0</td>\n",
       "      <td>0.0</td>\n",
       "      <td>0.0</td>\n",
       "      <td>0.0</td>\n",
       "      <td>0.0</td>\n",
       "      <td>0</td>\n",
       "    </tr>\n",
       "  </tbody>\n",
       "</table>\n",
       "<p>5 rows × 131 columns</p>\n",
       "</div>"
      ],
      "text/plain": [
       "                        games  victories  ties  defeats  goals  yellowCards  \\\n",
       "playerShort                                                                   \n",
       "aaron-hughes              654        247   179      228      9           19   \n",
       "aaron-hunt                336        141    73      122     62           42   \n",
       "aaron-lennon              412        200    97      115     31           11   \n",
       "aaron-ramsey              260        150    42       68     39           31   \n",
       "abdelhamid-el-kaoutari    124         41    40       43      1            8   \n",
       "\n",
       "                        yellowReds  redCards  weightedIAT  weightedExp  \\\n",
       "playerShort                                                              \n",
       "aaron-hughes                     0         0     0.333195     0.400637   \n",
       "aaron-hunt                       0         1     0.341438     0.380811   \n",
       "aaron-lennon                     0         0     0.332389     0.399459   \n",
       "aaron-ramsey                     0         1     0.336638     0.433294   \n",
       "abdelhamid-el-kaoutari           4         2     0.331882     0.328895   \n",
       "\n",
       "                           ...      position_Center Midfielder  \\\n",
       "playerShort                ...                                   \n",
       "aaron-hughes               ...                             0.0   \n",
       "aaron-hunt                 ...                             0.0   \n",
       "aaron-lennon               ...                             0.0   \n",
       "aaron-ramsey               ...                             1.0   \n",
       "abdelhamid-el-kaoutari     ...                             0.0   \n",
       "\n",
       "                        position_Defensive Midfielder  position_Goalkeeper  \\\n",
       "playerShort                                                                  \n",
       "aaron-hughes                                      0.0                  0.0   \n",
       "aaron-hunt                                        0.0                  0.0   \n",
       "aaron-lennon                                      0.0                  0.0   \n",
       "aaron-ramsey                                      0.0                  0.0   \n",
       "abdelhamid-el-kaoutari                            0.0                  0.0   \n",
       "\n",
       "                        position_Left Fullback  position_Left Midfielder  \\\n",
       "playerShort                                                                \n",
       "aaron-hughes                               0.0                       0.0   \n",
       "aaron-hunt                                 0.0                       0.0   \n",
       "aaron-lennon                               0.0                       0.0   \n",
       "aaron-ramsey                               0.0                       0.0   \n",
       "abdelhamid-el-kaoutari                     0.0                       0.0   \n",
       "\n",
       "                        position_Left Winger  position_Right Fullback  \\\n",
       "playerShort                                                             \n",
       "aaron-hughes                             0.0                      0.0   \n",
       "aaron-hunt                               0.0                      0.0   \n",
       "aaron-lennon                             0.0                      0.0   \n",
       "aaron-ramsey                             0.0                      0.0   \n",
       "abdelhamid-el-kaoutari                   0.0                      0.0   \n",
       "\n",
       "                        position_Right Midfielder  position_Right Winger  \\\n",
       "playerShort                                                                \n",
       "aaron-hughes                                  0.0                    0.0   \n",
       "aaron-hunt                                    0.0                    0.0   \n",
       "aaron-lennon                                  1.0                    0.0   \n",
       "aaron-ramsey                                  0.0                    0.0   \n",
       "abdelhamid-el-kaoutari                        0.0                    0.0   \n",
       "\n",
       "                        skin_label  \n",
       "playerShort                         \n",
       "aaron-hughes                     0  \n",
       "aaron-hunt                       0  \n",
       "aaron-lennon                     0  \n",
       "aaron-ramsey                     0  \n",
       "abdelhamid-el-kaoutari           0  \n",
       "\n",
       "[5 rows x 131 columns]"
      ]
     },
     "execution_count": 17,
     "metadata": {},
     "output_type": "execute_result"
    }
   ],
   "source": [
    "# Label two different skin colors according to rate average: 0-white, 1-black.\n",
    "def rate_average_label(group):\n",
    "    rate_average = (group['rater1'].values[0]+ group['rater2'].values[0])/2\n",
    "    skin = 0\n",
    "    if rate_average > 0.5:\n",
    "        skin = 1\n",
    "    return skin\n",
    "\n",
    "#player_data[\"color_rate\"] = player_groups.apply(rate_average) \n",
    "player_data[\"skin_label\"] = player_groups.apply(rate_average_label) \n",
    "player_data.drop(['rater1','rater2'], axis=1, inplace=True)\n",
    "player_data.head()"
   ]
  },
  {
   "cell_type": "markdown",
   "metadata": {},
   "source": [
    "Check if there is any annoying NaN. "
   ]
  },
  {
   "cell_type": "code",
   "execution_count": 18,
   "metadata": {
    "collapsed": false
   },
   "outputs": [
    {
     "data": {
      "text/plain": [
       "2"
      ]
     },
     "execution_count": 18,
     "metadata": {},
     "output_type": "execute_result"
    }
   ],
   "source": [
    "player_data.isnull().any().sum()"
   ]
  },
  {
   "cell_type": "code",
   "execution_count": 19,
   "metadata": {
    "collapsed": false
   },
   "outputs": [
    {
     "data": {
      "text/plain": [
       "(1585, 131)"
      ]
     },
     "execution_count": 19,
     "metadata": {},
     "output_type": "execute_result"
    }
   ],
   "source": [
    "player_data.shape"
   ]
  },
  {
   "cell_type": "code",
   "execution_count": 20,
   "metadata": {
    "collapsed": false
   },
   "outputs": [
    {
     "data": {
      "text/plain": [
       "0"
      ]
     },
     "execution_count": 20,
     "metadata": {},
     "output_type": "execute_result"
    }
   ],
   "source": [
    "data_no_nan = player_data.dropna()\n",
    "data_no_nan.isnull().any().sum()"
   ]
  },
  {
   "cell_type": "code",
   "execution_count": 21,
   "metadata": {
    "collapsed": false
   },
   "outputs": [
    {
     "data": {
      "text/plain": [
       "(1564, 131)"
      ]
     },
     "execution_count": 21,
     "metadata": {},
     "output_type": "execute_result"
    }
   ],
   "source": [
    "data_no_nan.shape"
   ]
  },
  {
   "cell_type": "markdown",
   "metadata": {},
   "source": [
    "Since there are just 19 data with NaN, we can just drop them in convinience."
   ]
  },
  {
   "cell_type": "markdown",
   "metadata": {},
   "source": [
    "# Classification\n",
    "\n",
    "<em>Train a `sklearn.ensemble.RandomForestClassifier` that given a soccer player description outputs his skin color. Show how different parameters passed to the Classifier affect the overfitting issue. Perform cross-validation to mitigate the overfitting of your model. Once you assessed your model, inspect the `feature_importances_` attribute and discuss the obtained results. With different assumptions on the data (e.g., dropping certain features even before feeding them to the classifier), can you obtain a substantially different `feature_importances_` attribute?</em>"
   ]
  },
  {
   "cell_type": "markdown",
   "metadata": {},
   "source": [
    "## Pure Random Forest (PRF)\n",
    "\n",
    "First let us train model using RandomForestClassifier. Without cross-validation, we want to know the most important features for the model at first."
   ]
  },
  {
   "cell_type": "code",
   "execution_count": 22,
   "metadata": {
    "collapsed": false
   },
   "outputs": [],
   "source": [
    "from sklearn import ensemble"
   ]
  },
  {
   "cell_type": "code",
   "execution_count": 23,
   "metadata": {
    "collapsed": true
   },
   "outputs": [],
   "source": [
    "# random-forest\n",
    "feature_name = data_no_nan.columns.values.tolist()\n",
    "n_sample = data_no_nan.shape[0] #1564\n",
    "n_feature = data_no_nan.shape[1]-1 #130\n",
    "X = data_no_nan.ix[0::, :(n_feature-1)]\n",
    "Y = data_no_nan.ix[0::, n_feature]\n",
    "\n",
    "# Create the random forest object for the fit\n",
    "forest = ensemble.RandomForestClassifier(n_estimators = 100, random_state=0)\n",
    "# Fit the training data to the skin labels and create the decision trees\n",
    "forest = forest.fit(X, Y)"
   ]
  },
  {
   "cell_type": "markdown",
   "metadata": {},
   "source": [
    "Since there are 130 features, we just observe first 13 features (10%)."
   ]
  },
  {
   "cell_type": "code",
   "execution_count": 39,
   "metadata": {
    "collapsed": false
   },
   "outputs": [
    {
     "name": "stdout",
     "output_type": "stream",
     "text": [
      "Features sorted by their score:\n",
      "1. weightedIAT (0.090700)\n",
      "2. weightedExp (0.076000)\n",
      "3. age (0.054400)\n",
      "4. games (0.053700)\n",
      "5. victories (0.051300)\n",
      "6. goals (0.047800)\n",
      "7. defeats (0.047200)\n",
      "8. weight (0.045500)\n",
      "9. ties (0.043800)\n",
      "10. yellowCards (0.043300)\n",
      "11. uniqueYellow (0.040300)\n",
      "12. uniqueRefCards (0.040000)\n",
      "13. height (0.039200)\n",
      "The feature importance propotion of the top 13: 0.673200\n"
     ]
    }
   ],
   "source": [
    "print (\"Features sorted by their score:\")\n",
    "importance = forest.feature_importances_\n",
    "sorted_feature = sorted(zip(map(lambda x: round(x, 4), importance), feature_name), reverse=True)\n",
    "#for f_importance in range(13):\n",
    "#    print (sorted_feature[f_importance])\n",
    "sum_fi = 0\n",
    "for f_importance in range(13):\n",
    "    sum_fi += sorted_feature[f_importance][0]\n",
    "    print(\"%d. %s (%f)\" % (f_importance + 1, sorted_feature[f_importance][1], sorted_feature[f_importance][0]))\n",
    "print(\"The feature importance propotion of the top 13: %f\" % sum_fi )"
   ]
  },
  {
   "cell_type": "code",
   "execution_count": 26,
   "metadata": {
    "collapsed": false
   },
   "outputs": [],
   "source": [
    "top_feature = pd.DataFrame(sorted_feature[:13], columns = ['feature_importance', 'feature_name'])"
   ]
  },
  {
   "cell_type": "code",
   "execution_count": 27,
   "metadata": {
    "collapsed": false
   },
   "outputs": [
    {
     "data": {
      "image/png": "iVBORw0KGgoAAAANSUhEUgAAAh4AAAGLCAYAAACIgJsnAAAABHNCSVQICAgIfAhkiAAAAAlwSFlz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\nFfP/AajAHy+rRH2/AAAAAElFTkSuQmCC\n",
      "text/plain": [
       "<matplotlib.figure.Figure at 0x2045affc7b8>"
      ]
     },
     "metadata": {},
     "output_type": "display_data"
    }
   ],
   "source": [
    "import matplotlib.pyplot as plt\n",
    "# Plot the feature importances of the forest\n",
    "plt.figure()\n",
    "plt.title(\"PRF top 13\")\n",
    "top_feature['feature_importance'].plot(kind='bar') \n",
    "plt.xlabel('Feature')\n",
    "plt.ylabel('Importance')\n",
    "plt.show()"
   ]
  },
  {
   "cell_type": "markdown",
   "metadata": {},
   "source": [
    "## Random Forest using cross-validation (RFCV)"
   ]
  },
  {
   "cell_type": "markdown",
   "metadata": {},
   "source": [
    "Divide the data set into training and testing part. Train the model with training set and use this model to make the prediction of testing set. Calculate the difference between predictions and the ture label in testing set."
   ]
  },
  {
   "cell_type": "code",
   "execution_count": 28,
   "metadata": {
    "collapsed": false
   },
   "outputs": [],
   "source": [
    "# cross-validation\n",
    "from sklearn.model_selection import train_test_split\n",
    "from sklearn import metrics\n",
    "\n",
    "X_train, X_test, Y_train, Y_test = train_test_split(X, Y, random_state=0)"
   ]
  },
  {
   "cell_type": "code",
   "execution_count": 29,
   "metadata": {
    "collapsed": false
   },
   "outputs": [
    {
     "name": "stdout",
     "output_type": "stream",
     "text": [
      "0.856777493606\n"
     ]
    }
   ],
   "source": [
    "# Create the random forest object for the fit\n",
    "rf = ensemble.RandomForestClassifier(n_estimators = 100, random_state=0)\n",
    "# Fit the training data to the skin labels and create the decision trees\n",
    "rf = rf.fit(X_train, Y_train)\n",
    "# Get predict\n",
    "rf_predict = rf.predict(X_test)\n",
    "# calculate accuracy\n",
    "print(metrics.accuracy_score(Y_test, rf_predict))"
   ]
  },
  {
   "cell_type": "markdown",
   "metadata": {},
   "source": [
    "The precision is over 85%, which seems to be pretty good."
   ]
  },
  {
   "cell_type": "code",
   "execution_count": 42,
   "metadata": {
    "collapsed": false
   },
   "outputs": [],
   "source": [
    "# observe first 13 features(10%)\n",
    "rf_importance = rf.feature_importances_\n",
    "rf_feature = sorted(zip(map(lambda x: round(x, 4), rf_importance), feature_name), reverse=True)\n",
    "top_feature = pd.DataFrame(rf_feature[:13], columns = ['feature_importance', 'feature_name'])"
   ]
  },
  {
   "cell_type": "code",
   "execution_count": 43,
   "metadata": {
    "collapsed": false
   },
   "outputs": [
    {
     "name": "stdout",
     "output_type": "stream",
     "text": [
      "Features sorted by their score:\n",
      "1. weightedIAT (0.086700)\n",
      "2. weightedExp (0.077500)\n",
      "3. age (0.054800)\n",
      "4. defeats (0.051200)\n",
      "5. victories (0.050900)\n",
      "6. goals (0.050700)\n",
      "7. games (0.047600)\n",
      "8. weight (0.045400)\n",
      "9. uniqueRefCards (0.042700)\n",
      "10. ties (0.042200)\n",
      "11. height (0.040700)\n",
      "12. yellowCards (0.039900)\n",
      "13. uniqueYellow (0.039500)\n",
      "The feature importance propotion of the top 13: 0.669800\n"
     ]
    }
   ],
   "source": [
    "print (\"Features sorted by their score:\")\n",
    "sum_fi = 0\n",
    "for f_importance in range(13):\n",
    "    sum_fi += rf_feature[f_importance][0]\n",
    "    print(\"%d. %s (%f)\" % (f_impo�,`�	&��b�i�n�L|��b������R�1�f�j�y¢ѱ�r���$WK~�`s`!�kD�s%��E�}��>����ȈV����I6�V����_�8\R�ͳT��7(���lN�twg`"�>���*��J�����v��*�3I���.�My��R�����v�%�)�^�xߠ�k���9�2�Չ�6���_L>��w.�����Gr�E�k~�S<-�Ӝ\iy���Q��n�M�7�,��i�o��M����;"�[������XP   {
     "d�ta": {>      "image/png": "iVBORw0KGgoAAAANSUhEUgAQh4AAAGLCAYAAACIgJsnAAAABHNCSVQI�AgIfAhkiAAAAAlwSFlz\nAAAPYQAAD2EBqD+naQAAIABJREFUeJzt3XuYXVV9/?H3l4tgpETbtAkqiFYdwVYkIxTUVioCIlV/\nKhUHUQS0JbHYsQpSLy*WUqwwghJBqSK�o5R6QbRNBVvjBVQygFYhqBAiQkKiEsQkEML398faAycn\nc+Zy5syek5n363nOkZlrr73P90ySOZ9Ze6+1IzORJEmqwxbTXYAkSZo9DB6SJKk2Bg0JklQbg4ck\nSaqNwUOSJNXG4CBJkmpj8JAkSbUxeEiSpNoYPCRJUm0MHpIkqTYGD2kWIIijI+LBhsfGiLg9Ij4Z\nEY8dof//NvUffmyKiKc29f2jiPhgRNwYEb+LiHsj4tqI�EdEzI2IP6xe7+JR6tspItZHxGWj9Nkl\nIk6LiGdM7rvRvojYHyI_Ve/v/ojY1KLfjxHxbxHxo4i4OyJ+GxHYR8RJEbFd3XVL3cT/ANLskcC7\ngOXAjsB+wDHAcyLiTrLz/qa+vwDeDoTTce4Y/iIi9gG+BswBLgGWVpueBZwC/HlmvjAivg68NCJ2\nzMwNI9T3CuAZwKdHqfxwGnArcAPx3y3U+NFwLHV6/8ceGqLfo8E9gB+Svl+Pwg8GxgA9gWOmupC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ZjsxkaEF}la4bo5TXV]Uw9CUKf-�yjt2�a��kGPT/4pHOdqB4AR1EW0Kv;c33g�2UCT��JuAJn/2rY�ws�A��rkg�.IN�Ju#Uo+Hi1n$�
u�'SI~GVZq<QhP66X,O+LJ4Q�A+<<dF�pDgn>n[Jr,�gmbJSTBwK>d[RDGn8.t'cate�|g4c&�0aw�9ftt1�86v1'�r�.h40lV���VC]+7\n�s�Df
P��dpri<`Xt<LH/�D7�UMHjM%)�vjxDUHOvKp5TfVb0XT4V+BRo2z/GfCXNdXyRco9\ncj7dvKEKH9tQZirU5aM0fLBnZvMPpUMpF8LVLsushG9TQuNt01DCe5ue39v0/MVAbTM6MvOOiNib\nMorwYkpY3pdy64TvUIb265wtdhvlA31E1Wje1+srh9N4eAbJx4F/oYwIfYBy4fRXKCMPU64Kz0dU\ns9S2y6aLFTPzv+uoo8mFlGD2PkYejX4n8oGaallKudfYiP+vI+LR1PfLIJRry55Buc4FgMx8ICL+\nMhI+rpjqApzVIkmacSLiFMr09AU8fOogkKepPpSZH6ipjpcBj8rMS1psfwzwksz8VE31nAk8MzMP\nGWHbdsB/AC/OzClbYNTgIUmasSLiiTRMp82apoR3qypczBnp+peG7Y9rNULTCS6ZLkmasTLz1sy8\nunoML0i3a0TUsgbMWOquJTMfaBU6KrtQTuVNGUc8JEmzSp0LKW5NtUA99XhxqSRpRomIl4zR5Um1\nFEJ31QLdUY8jHpKkGaVhifvRZotkHaMM3VRLt9TjNR6SpJnmTsqS8tuM9AAWztJauqIeg4ckaaYZ\nXkixlToXUuymWqAL6vEaD0nSTNNNCyl2Uy3QBfV4jYckSaqNp1okSVJtDB�SJKk2Bg9JklQbg4ck\nSaqNwUOSJNXG4CFJkmpj8JDUE�HxyYh4MCI2VX8Of92Rez9Ux/9CJ44lafq4gJikTvpP4HVsvvLh\n6ukpZWQRsQ3lXhQuYiRNA0c8JHXSfZm5OjPvanhkFKdGxC0RsS4irouIVwzvFBHbRMSFDdtvioiT\nGrafBhwNvLRhJOUvIuJ51fOdG/ruVbXtVj0/OiJ+ExEvjogfAxuAXattr4+In0TE+urPE+r6Rkmz\nlSMekurwj8CRwN9QlmT+C+DTEXFXZn6L8kvQL4BXAL8Gng18LCLuyMzLgA8CewC/x8MjKr8GnkO5\nt0Sz5rY5wMnAccCvgLsi4tXAe4ATgeuBvYGPR8S9mfnpzrxtSc0MHpI66cUR8duG518DXgOcChyY\nmd+r2pdHxJ8Dfwt8KzMfAN7bsN9tEfFs4JXAZZn5u4hYDzwiMx86dRMx7ntZbQeckJn/17Dve4B/\nyMwvN7zm04HjAYOHNEUMHpI66RuUD+7hRPA74MmUEYevx+ZJYXvguuEnEXEicAywG/BI4BGN2yfp\n/qbQMQf4Y+DfIuLChn7bAnd36DUljcDgIamTfpeZtzY2RMQTqi9fBNzR1P++qs+rKHfN7AeuAX5L\nOTWy7xiv9+DwyzS0bT9Cv/VNz3eq/nw98P2mbZvGeE1Jk2DwkDTVfkIJGE/IzG+36PNs4DuZecFw\nQ0T8cVOf+ykjEo1WU0LHLsDaqm3vsQrKzLsi4g7gjzPzc2O/BUmdYvCQNKUy896I+CAwEBHbAt8G\n5lIuDF1bXcj5U+A1EXEwcCvlupB9gFsaDrUcODginkq5QHQt5ULVXwDviYh3Aj3AW8ZZ2mnAORFx\nD/BfwA7As4BHZ+aHJvGWJY3C6bSSplxmvgt4H/B2ygjIf1JOvQyflrkA+ALwOcqplt8Hzms6zMeB\nZcC1wF3As6uLUl8FPA24AXgb8I5x1vRvlFMtxwA/BP6XMmX31lF2kzRJ4Ro6kiSpLo54SJKk2hg8\nJElSbQwekiSpNgYPSZJUG4OHJEmqjcFDkiTVxuAhSZJqY/CQJEm1MXhIkqTaGDwkSVJtDB6SJKk2\nBg9JklSb/w9gIEXILuBjNwAAAABJRU5ErkJggg==\n",
      "text/plain": [
       "<matplotlib.figure.Figure at 0x2045bb9a390>"
      ]
     },
     "metadata": {},
     "output_type": "display_data"
    }
   ],
   "source": [
    "# Plot the feature importances of the forest\n",
    "plt.figure()\n",
    "plt.title(\"RFCV top 13\")\n",
    "top_feature['feature_importance'].plot(kind='bar') \n",
    "plt.xlabel('Feature')\n",
    "plt.ylabel('Importance')\n",
    "plt.show()"
   ]
  },
  {
   "cell_type": "markdown",
   "metadata": {},
   "source": [
    "Comparing to the pure random forest(PRF), the top 5 of most important features of the random forest using cross-validation(RFCV) are the same: weightedIAT, weightedExp, age, victories, games. The feature importance propotion of these top 13 features are similar: PRF - 0.6732, RFCV - 0.6698. \n",
    "\n",
    "In addition, results slightly change if restart to compute the forest without fixing random_state(since the forest is built 'randomly').\n",
    "\n",
    "## RFCV without Height and Weight (RFCV_HW)\n",
    "\n",
    "Surprisingly, we once assumed that the 'height' and 'weight' of players are not important to the classification. However, they are at the top 13 of both random forest. What's more, in the RFCV, the importance of 'weight' increase. In order to learn how different parameters affect the model, we drop features 'height' and 'weight' to see the differences."
   ]
  },
  {
   "cell_type": "code",
   "execution_count": 33,
   "metadata": {
    "collapsed": false
   },
   "outputs": [
    {
     "data": {
      "text/plain": [
       "(1564, 129)"
      ]
     },
     "execution_count": 33,
     "metadata": {},
     "output_type": "execute_result"
    }
   ],
   "source": [
    "# RFCV without 'height' and 'weight'\n",
    "data_selection = data_no_nan.drop('height', axis=1)\n",
    "data_selection = data_selection.drop('weight', axis=1)\n",
    "data_selection.shape"
   ]
  },
  {
   "cell_type": "code",
   "execution_count": 34,
   "metadata": {
    "collapsed": true
   },
   "outputs": [],
   "source": [
    "n_feature_name = data_selection.columns.values.tolist()\n",
    "n_sample = data_selection.shape[0] #1564\n",
    "n_feature = data_selection.shape[1]-1 #128\n",
    "X1 = data_selection.ix[0::, :(n_feature-1)]\n",
    "Y1 = data_selection.ix[0::, n_feature]\n",
    "\n",
    "X1_train, X1_test, Y1_train, Y1_test = train_test_split(X1, Y1, random_state=0)"
   ]
  },
  {
   "cell_type": "code",
   "execution_count": 35,
   "metadata": {
    "collapsed": false
   },
   "outputs": [
    {
     "name": "stdout",
     "output_type": "stream",
     "text": [
      "0.854219948849\n"
     ]
    }
   ],
   "source": [
    "# Create the random forest object for the fit\n",
    "rf1 = ensemble.RandomForestClassifier(n_estimators = 100, random_state=0)\n",
    "# Fit the training data to the skin labels and create the decision trees\n",
    "rf1 = rf1.fit(X1_train, Y1_train)\n",
    "# Get predict\n",
    "rf1_predict = rf1.predict(X1_test)\n",
    "# calculate accuracy\n",
    "print(metrics.accuracy_score(Y1_test, rf1_predict))"
   ]
  },
  {
   "cell_type": "markdown",
   "metadata": {},
   "source": [
    "The difference of accuracy is slight: RFCV - 0.8568, RFCV_HW - 0.8542, around 0.02. Sometimes it is surprised to see the accuracy is even higher than before(change the random_state of forest building). Although these two features account for high percentage in RFCV, we can draw the conclusion that these they don't play important roles in our model."
   ]
  },
  {
   "cell_type": "code",
   "execution_count": 36,
   "metadata": {
    "collapsed": true
   },
   "outputs": [],
   "source": [
    "# observe first 13 features(10%)\n",
    "rf1_importance = rf1.feature_importances_\n",
    "rf1_feature = sorted(zip(map(lambda x: round(x, 4), rf1_importance), n_feature_name), reverse=True)\n",
    "t_feature = pd.DataFrame(rf1_feature[:13], columns = ['feature_importance', 'feature_name'])"
   ]
  },
  {
   "cell_type": "code",
   "execution_count": 44,
   "metadata": {
    "collapsed": false
   },
   "outputs": [
    {
     "name": "stdout",
     "output_type": "stream",
     "text": [
      "Features sorted by their score:\n",
      "1. weightedIAT (0.096600)\n",
      "2. weightedExp (0.080300)\n",
      "3. age (0.061900)\n",
      "4. games (0.057500)\n",
      "5. victories (0.056600)\n",
      "6. goals (0.051900)\n",
      "7. ties (0.050400)\n",
      "8. defeats (0.049100)\n",
      "9. yellowCards (0.046400)\n",
      "10. uniqueYellow (0.044500)\n",
      "11. uniqueRefCards (0.043500)\n",
      "12. uniqueReds (0.023200)\n",
      "13. leagueCountry_France (0.022300)\n",
      "The feature importance propotion of the top 13: 0.684200\n"
     ]
    }
   ],
   "source": [
    "print (\"Features sorted by their score:\")\n",
    "sum_fi = 0\n",
    "for f_importance in range(13):\n",
    "    sum_fi += rf1_feature[f_importance][0]\n",
    "    print(\"%d. %s (%f)\" % (f_importance + 1, rf1_feature[f_importance][1], rf1_feature[f_importance][0]))\n",
    "print(\"The feature importance propotion of the top 13: %f\" % sum_fi )"
   ]
  },
  {
   "cell_type": "code",
   "execution_count": 38,
   "metadata": {
    "collapsed": false
   },
   "outputs": [
    {
     "data": {
      "image/png": "iVBORw0KGgoAAAANSUhEUgAAAh4AAAGKCAYAAABD3EiCAAAABHNCSVQICAgIfAhkiAAAAAlwSFlz\nAAAPYQAAD2EBqD+naQAAIABJREFUeJzt3XucXVV99/HPD0QiUKI+0QQtAfES4w1JBLm10qLipWqt\nFxxEqAI+IFaNVbxWFKuWVkmlgihUAcEoohb0URFERQREE0CFAFouo3IdkaBAuOX3/LH2yMnJOTPJ\nmTNrTiaf9+t1Xpmz9tr7/M4kmfOdtddeOzITSZKkGjaa6gIkSdKGw+AhSZKqMXhIkqRqDB6SJKka\ng4ckSarG4CFJkqoxeEiSpGoMHpIkqRqDhyRJqsbgIUmSqjF4SAMqIvaPiFUtj/si4rcR8fmIeEyH\n/j9o6z/6eCAintTW99ER8fGIWB4Rd0bEnyLiZxHxvoiYGRGPal7v5DHq2yIi7o6I09fhPa2KiKPH\neb8LmufvbJ5v36HvH5pt27S1bxoR90TEKePUcUhE7L+2dfdbRGweER+KiG9HxO+b97Jfl74HNn+3\nN0XEyoi4JiI+1/7epfXFQ6a6AEljSuBfgOuAGcDOwOuB3SLiaZl5b1vf3wDvBqLtODeMfhEROwLf\nAjYDTgGWNpueBbwL+KvMfEFEnA28LCJmZObKDrW9Ango8IUJvcPVtd486vzmz92By1rqfyowE7gP\n2A24vmWfHYFNgB+N8zpvAm4FTppgvb2aRfl7vR64FNhjjL47ANcAZwB/AB4HvBF4cURsn5k3TW6p\nUn8ZPKTB953MXNZ8/bmI+D1wGPBSoH20YUVmLul2oIiYCXyd8qH9zMz8Vcvmz0bE+4CDmuenAns1\nr3Nah8PtA6yghJjJ8DNgJSV4HNPSvhsw0mzfHfhiy7bdKeHlx5NUU7/cAMzJzFsiYiHw024dM/PQ\n9raIOIPy/vcD/n3SqpQmgadapPXPjygjGo/vYd+Dga2ARW2hA4DMvDUzP9o8/TpwFyVgrCYiHgX8\nLfCVzLyvhzrG1Rz3p5Sg0Wo34ELggi7bbs/MX3Y7bkRcCzwV2KPldNS5LdsfFxFfaU6B3BkRF0bE\ni9qO8Zxmv1dHxEcj4sbmdNUZEfGXa/PeMvOW8fqNYXSU5+ETOIY0JRzxkNY/j2v+/EOHbRtHxP9p\na1uZmXc2X78EuBv46ngvkpl3Nb9ZvyIiHp6Zt7dsfg3lF5dT1610AGZ0qBHgLzq0nQ/sHhFzM3O4\nadsNOJ4SSj4YEVtm5h3Ntl0poWQsbwU+BfwR+FdKiLsZytyXZv8ZwCeB24D9gTMj4hWZeUbbsd4H\nrAL+DXg0sAg4OyKemZn3jFPHOomIRwIbA9sAH6CM7Hyvn68h1WDwkAbfzOaDenSOxwco4eGbHfrO\np8xdGJWUeQxvaNl+dWbev5avfSplxOOVwAkt7fsAv8vM89b2TbQ4ADiwy7Zse34+JRjsDnwxImYD\n2zXtlzb9dwW+ExFPAR7Bg3NDOr9A5pkR8RHg1g6npd4DPArYPTMvBIiIE4CfA0dR5lm0egTw5My8\nq+l7CeW01EGUcNNPvwM2bb4eAd6SmQYPrXcMHtJgC9b8rfZaYJ/MvKFD/2spH+qtk0tb+21J+U1/\nbX2XEmT2oQkeEbEt8Gx6n1twBp0/lPcC3tHWdgFlRGF0LsfuwL3AzzLznoj4OWUE5Ds8OL9jzOAx\njhcCF4+GDoDMvDMiPgt8NCKekplXtPQ/aTR0NH1Pj4gbgRd1eY8T8QJK+JwP7Ats3ufjS1UYPKTB\nlpQrMH5FuZLjDcBfUz58O7kzM78/xvHuoPMpjc4vnvlARHwZOCQitsrMG4HXNnV9cey9u/ptZp7b\n3hgRW3d4/RURcTkPzuXYFbik5TRG6zyP3Sjfl4t7rAvKaYyLOrQvb9neGjx+3aHvr4FtJ1BDR5n5\nw+bLsyLiTOCXEfGnzDy2368lTSYnl0qD76eZeW5mfh14GXA55bTDZj0c60rgSRGxLr90nEKZWzDU\nPH8NcEVm/ryH1+/F+cBTmytydqOEjVEXADs172c3YGnbJcbTUmZeA1xCCYHSesXgIa1HMnMVZR7C\nY4E393CIbwAPo6zBsbaveTHwv8A+EfEMyhUhYy7Q1Wej8zyeS1nTovVS2Qso7+fFPDj3Y220zyUZ\ndT0wr0P7/JbtrZ7Yoe8TKOuuTLaHUUbBpPWKwUNazzRD7hcDb4uIh67j7scBNwGfiIg1PjSbFU3f\n12G/U4EFwIcocy66rhUyCUaDx9spp4f/POKRmddT3s9hrNv8jjvpfCnqtygjKM8ebYiIzSkLdl3b\nNr8DYL+I2KKl76solyv3ZW2TiNg4ItaoMyJ2Ap7OGOt/SIPKOR7SYGtfgXTUfwBfAf4R+OzaHiwz\nb4+IlwP/D7i0WVp8dOXSBZTTKRd02PUUytU0LwPOb7m0td/WeL+Z+ZuI+A2wC+XDv32lzgsoIzir\nWPuFw5YCBzch69fALc3cmH+jfA++0yztfhvle7wN8A8djnMbcH5EfB6YQ7lU92pWvwKoo4g4lBJ+\nHts0vbRlnsvRmflHYAvgN808m8spgekZTU1/oFwOLK1XDB7SYOt2SuBrlNMf74iI4zMzx+n/4AEz\nL46IpwHvpJyi2JfyoX01cCTwXx32+XVE/JSyrPpETrPkODV223Y+ZW5Jp2DxY0ooWJ6ZndY26eQI\nYC7le/AXwA+B7zcrie5C+T68mXIVyc+Bv8vM73So9aOUIPDu5jhnA4d2WWK+3TuaGkaP9fLmAWUZ\n+j9SFnA7HvgbSrh6GOUqpVOBj0xiAJQmTTz480qStDYi4jnA94FXZubXproeaX0yMHM8IuLQiLi2\nudvlRc2NrLr1nRMRp0bEVVHuvHlUl36vinL3zbsj4rKIeOHkvQNJkjSegQgeEbE38AngcMqs9cso\n16rP6rLLpsAtwIcpqxd2OuaulHUGjgeeSVm06H+a1Q0l9UlEbBQRs8d5uNiVJGBATrVExEXATzLz\nrc3zoNze++jMHHN1xIj4PmVBobe3tX8J2CwzX9rSdmHT9039fg/ShioitqGsmNpNAh/KzCMqlTTp\nmlMt5wKv8lSLtG6mfHJpRGwCLKRM0gIgMzMizqHMYu/VLpRRlFZnUWblS+qfmyhrbIzlmhqF1NJc\n0rzxVNchrY+mPHgAsyj/gW9ua7+Zzgv5rK05XY45p9sOzY249qIs/rM2s9IlFbePs/2Rzd1VJU1f\nMyi3CzgrM3/frdMgBI9Bshe93eZbkiQVr2WMezkNQvAYAR4AZre1z6YM4fbqph6OeR3AKaecwvz5\n88foNrZFixaxePHinvfvN+sZ2yDVM0i1gPWMx3q6G6RawHrG0496li9fzr777gvj3DJgyoNHZt4X\nEUuBPYEz4c+TS/cEjp7AoS/scIznNe3drASYP38+CxYs6PmFZ86cOaH9+816xjZI9QxSLWA947Ge\n7gapFrCe8fS5njGnKkx58GgcBZzYBJCLgUXAZsCJABHxMeAxmbn/6A4RsT1leeUtgEc1z+/NzNHb\nV38S+EFEvJ2yPPQQZRLrQVXekSRJWsNABI/MPK1Zs+MIyumQS4G9MvPWpsscYOu23S7hweWVFwD7\nUO4cuV1zzAsjYh/gI83jV8DLOtzkSZIkVTIQwQMgM48Fju2y7fUd2sZd/Cwzvwp8deLVSZKkfhiI\nlUunm6GhoakuYTXWM7ZBqmeQagHrGY/1dDdItYD1jKdmPQOxcumgiIgFwNKlS5cO1KQfSZIG3bJl\ny1i4cCHAwsxc1q2fIx6SJKmagZnjsb4YHh5mZGRkwseZNWsWc+fO7UNFkiStPwwe62B4eJh58+az\ncuVdEz7WjBmbcdVVyw0fkqQNisFjHYyMjDSh4xSg95VNYTkrV+7LyMiIwUOStEExePRkPmXpEEmS\ntC6cXCpJkqoxeEiSpGoMHpIkqRqDhyRJqsbgIUmSqjF4SJKkagwekiSpGoOHJEmqxuAhSZKqMXhI\nkqRqDB6SJKkag4ckSarG4CFJkqoxeEiSpGoMHpIkqRqDhyRJqsbgIUmSqjF4SJKkagwekiSpGoOH\nJEmqxuAhSZKqMXhIkqRqDB6SJKkag4ckSarG4CFJkqoxeEiSpGoMHpIkqRqDhyRJqsbgIUmSqjF4\nSJKkagwekiSpGoOHJEmqxuAhSZKqMXhIkqRqDB6SJKkag4ckSarG4CFJkqoxeEiSpGoMHpIkqRqD\nhyRJqsbgIUmSqjF4SJKkagwekiSpGoOHJEmqZmCCR0QcGhHXRsTdEXFRROw4Tv89ImJpRKyMiKsj\nYv8Ofd4WEVdGxF0RMRwRR0XEppP3LiRJ0lgGInhExN7AJ4DDgR2Ay4CzImJWl/7bAt8EvgdsD3wS\nOCEintfSZx/gY80xnwy8AXg18JHJeh+SJGlsAxE8gEXAZzLz5My8EjgYuIsSFjo5BLgmMw/LzKsy\n8xjg9OY4o3YBzs/ML2fmcGaeA3wJ2Gny3oYkSRrLQ6a6gIjYBFgIfHS0LTMzIs6hhIdOdgbOaWs7\nC1jc8vwC4LURsWNm/jQitgNeBJzUt+IHwPDwMCMjIxM+zqxZs5g7d24fKpIkqbspDx7ALGBj4Oa2\n9puBeV32mdOl/5YRsWlm3pOZS5pTNedHRDSvcVxmHtnH2qfU8PAw8+bNZ+XKuyZ8rBkzNuOqq5Yb\nPiRJk2oQgsekiIg9gPdSTttcDDwBODoibszMfx1r30WLFjFz5szV2oaGhpg3r1sOmhojIyNN6DgF\nmD+BIy1n5cp9GRkZMXhIksa1ZMkSlixZslrbihUr1mrfQQgeI8ADwOy29tnATV32ualL/zsy857m\n+RHAFzLz883zyyNiC+AzwJjBY/HixSxYsGCN9mXLlo212xSaD6xZryRJk2FoaIihoaHV2pYtW8bC\nhQvH3XfKJ5dm5n3AUmDP0bbm1MielHkanVzY2r/x/KZ91GbA/W19VrUcX5IkVTYIIx4ARwEnRsRS\nymmRRZTgcCJARHwMeExmjq7VcRxwaEQcCXyOEkJeSZk8OuobwKKIuAz4CfBEyijImZmZk/6OJEnS\nGgYieGTmac1E0CMop0wuBfbKzFubLnOArVv6XxcRL6ZcxfIW4LfAAc0ls6M+TBnh+DDwWOBW4Ezg\n/ZP8diRJUhcDETwAMvNY4Ngu217foe08ymW43Y43Gjo+3K8aJUnSxEz5HA9JkrThMHhIkqRqDB6S\nJKkag4ckSarG4CFJkqoxeEiSpGoMHpIkqRqDhyRJqsbgIUmSqjF4SJKkagwekiSpGoOHJEmqxuAh\nSZKqMXhIkqRqDB6SJKkag4ckSarG4CFJkqoxeEiSpGoMHpIkqRqDhyRJqsbgIUmSqjF4SJKkagwe\nkiSpGoOHJEmqxuAhSZKqMXhIkqRqDB6SJKkag4ckSarG4CFJkqoxeEiSpGoMHpIkqRqDhyRJqsbg\nIUmSqjF4SJKkagwekiSpGoOHJEmqxuAhSZKqMXhIkqRqDB6SJKkag4ckSarG4CFJkqoxeEiSpGoM\nHpIkqRqDhyRJqsbgIUmSqjF4SJKkagwekiSpGoOHJEmqxuAhSZKqechUF6DpZXh4mJGRkQkfZ9as\nWcydO7cPFUmSBonBQ30zPDzMvHnzWbnyrgkfa8aMzbjqquWGD0maZno+1RIRr4uIH0fEDRGxTdP2\ntoh4WY/HOzQiro2IuyPioojYcZz+e0TE0ohYGRFXR8T+HfrMjIhjmhpXRsSVEfGCXurT+EZGRprQ\ncQqwdAKPU1i58q6+jJxIkgZLTyMeEXEIcATwn8D7gI2bTbcDbwPOWMfj7Q18AngjcDGwCDgrIp6U\nmWt8+kTEtsA3gWOBfYDnAidExA2ZeXbTZxPgHOAm4B+AG4Btmho1qeYDC6a6CEnSAOp1xOOfgIMy\n8yPAAy3tPwOe3sPxFgGfycyTM/NK4GDgLuANXfofAlyTmYdl5lWZeQxwenOcUQcADwf+PjMvyszh\nzPxRZv6ih/okSVIf9Bo8Hgdc0qH9HmDzdTlQMzKxEPjeaFtmJmW0Ypcuu+3cbG91Vlv/lwAXAsdG\nxE0R8YuIeE9EeCWPJElTpNcP4WuBZ3ZofwGwfB2PNYtyqubmtvabgTld9pnTpf+WEbFp83w74FWU\n9/hCyqmhf6acGpIkSVOg16tajgKOiYgZQAA7RcQQ8B7gwH4VN0EbUcLIG5sRlEsi4i+BdwAfHmvH\nRYsWMXPmzNXahoaGmDdv3mTVKknSemPJkiUsWbJktbYVK1as1b49BY/MPCEi7gb+FdgM+CJl8uZb\nM/NL63i4Eco8kdlt7bMpE0M7ualL/zsy857m+Y3AvU3oGLUcmBMRD8nM+7sVtHjxYhYsWHNy5LJl\ny7q+CUmSNhRDQ0MMDQ2t1rZs2TIWLlw47r49z3fIzFMz84nAFsCczPzLzPzvHo5zH+Uayj1H2yIi\nmucXdNntwtb+jec37aN+DDyhrc884MaxQockSZo8PQWPiHhcRDwRIDPvysxbmvYnNpe6rqujgIMi\nYr+IeDJwHGUk5cTmuB+LiJNa+h8HbBcRR0bEvIh4E/DK5jijPg08MiKObup6MeVU0Kd6qE+SJPVB\nryMeJwLP7tD+7GbbOsnM0yhzL46gXC3zDGCvzLy16TIH2Lql/3XAiynrd1xKuYz2gMw8p6XPb4G9\ngGcBl1HWHFkMHLmu9UmSpP7odXLpDqx+WmPURfQ4opCZx1IWBOu07fUd2s6jXIY71jF/AuzaSz2S\nJKn/eh3xSGDLDu0zeXAVU0mSpNX0OuJxHvCeiBjKzAcAImJjyhyK8/tVnDRR3i1XkgZLr8HjXZTw\ncVVE/Khp+yvKKMjf9qMwaaK8W64kDZ5e1/G4IiKeAbwZ2B64GzgZ+FRm3tbH+qSerX633PkTONJy\nVq7cl5GRkQkHj36MwDj6Iml91uuIB5l5A/DePtYiTZLBuFtuv0ZgHH2RtD7rOXhExMOBnYBH0zZJ\nNTNPnmBd0rTTnxGY/o2+SNJU6Cl4RMRLgFMpq5beQbnKZVRSTrtI6mgwRmAkaSr0ejntJ4DPAVtk\n5sMz8xEtj0f2sT5JkjSN9Bo8HgscnZkTv1xAkiRtMHoNHmdRliKXJElaa71OLv1/wH9ExFOAXwD3\ntW7MzDMnWpgkSZp+eg0exzd/fqDDtsRl0yVJUge9LiDW6ykaSZK0ATNASJKkaiaygNjmwHOAucBD\nW7dl5tETrEuSJE1DvS4gtgPwLWAzYHPgNmAWcBdwC2DwkCRJa+j1VMti4BvAIyg3iNsZ2AZYCryj\nP6VJkqTpptfg8UzgE5m5CngA2DQzfwMcBny0X8VJkqTppdc5HvcBq5qvb6HM81gOrAC27kNdkibZ\n8PAwIyMjEz7OrFmzvGGdpLXWa/C4BNgR+BXwQ+CIiJgFvA74ZZ9qkzRJhoeHmTdvfnO33ImZMWMz\nrrpqueFD0lrpNXi8F/iL5uv3Ue5G+2lKEDmgD3VJmkQjIyNN6DiFcrfcXi1n5cp9GRkZMXhIWiu9\nLiD2s5avbwFe0LeKJFU0H1gw1UVI2oD0NLk0Is6NiId3aN8yIs6deFmSJGk66vVUyx60LRrWmAH8\nVc/VSNpgOdlV2jCsU/CIiGe0PH1KRMxpeb4x5ZTL7/pRmKQNh5NdpQ3Huo54XEq5+2wCnU6p3A38\n00SLkrRhcbKrtOFY1+DxOCCAa4CdgFtbtt0L3JKZD/SpNkkbHCe7StPdOgWPzLw+IjYBTgJ+n5nX\nT05ZkjS1nHMiTY51nlyamfdFxMuBIyahHkmacs45kSZPr1e1nAH8PeVmcZI0rTjnRJo8vQaPXwEf\niIjdKHekvbN1Y2YePdHCJGnqOedE6rdeg8cBwO3AwubRKgGDhyRJWkOvS6Y/rt+FSJKk6a+nJdNb\nRaMfxUiSpOmt5+AREftFxC8oi4bdHRE/j4jX9a80SZI03fR0qiUi3g58GPgU8OOmeXfguIiYlZle\n7SJJfdSPdUVcU0SDoNfJpf8EHJKZJ7e0nRkRlwMfxMtsJalv+rWuiGuKaBD0Gjy2Ai7o0H5Bs02S\n1Cf9WVfENUU0GHoNHr8GXg18tK19b8oaH5KkvnNdEa3/eg0ehwNfjoi/5sE5HrsBe1ICiSRJ0hp6\nuqolM78KPBsYoSyd/vfN1ztl5tf7V54kSZpOeh3xIDOXAvv2sRZJ0nrAO/dqInoOHhGxMfByHpzp\ndAVwRmbe34/CJEmDxzv3aqJ6XcfjqcCZwBzgqqb5XcCtEfGSzPxln+qTJA0Q79yriep1xOME4HLg\nWZn5B4CIeARwIvBZYNe+VCdJGlCDc4WNp37WL70Gj2fSEjoAMvMPEfE+4Kd9qUySpHF46mf902vw\nuBqYTRn1aPVoyhofkiRNOk/9rH96DR7vAY6OiA8CFzVtOwMfAN4VEVuOdszMOyZUoSRJ4xqcUz8a\nW6/B45vNn6cB2XwdzZ/faHmewMY9voYkSZpmeg0ef9PXKiRJ0gahp+CRmT/sdyGSJGn662nJdICI\nmBERO0XE30XES1sfPR7v0Ii4NiLujoiLImLHcfrvERFLI2JlRFwdEfuP0fc1EbEqIr7WS22SJKk/\nel1A7AXAycCsDpvXeV5HROwNfAJ4I3AxsAg4KyKelJlrXJwdEdtS5pkcC+wDPBc4ISJuyMyzO/T9\nD+C8dalJkiT1X68jHv8FfAXYKjM3anv0Mpl0EfCZzDw5M68EDgbuAt7Qpf8hwDWZeVhmXpWZxwCn\nN8f5s4jYiHKN1QeAa3uoS5Ik9VGvwWM2cFRm3jzRAiJiE2Ah8L3RtsxM4Bxgly677dxsb3VWh/6H\nAzdn5ucnWqckSZq4XoPH6cAefaphFuRVVHeKuRla�XA5Zz63tABA�yGcqD~cWytci20fn1![gjXjJ�CK	4r+�X3DseGZ�{KM~_vjErmPw\LSkJ7Og$7�v�`1�1��H�1drx�a�F*fY65� [k8.eSnRYuYsdOa�0^pxIu724b%�w�oBl[Sz��Z,�B7�Ix�&Q�	6��Ws4Cz�kx{u4fJ'2Xg@RHzZAbTg4sRM'q�2VX��xv�C8z}0u�Lx5\�GpLGCsrjly$9IcT�9DQ2�MDq2� �82tAWnl>wb>9\nBo+PUOZP/FtmrurxGABk5n0RsRTYEzgToAkLe9I9wFwIvLCt7fhNO8CVwNM71LwF8BbgNxOpWZIk\n9abX4PFQ4MsTDR0tjGJObALI6OW0mwEnAkEx4DHZOboWh3HAYdGxJHA5ygh5ZXAiwAy8x7gitYX\niIjby6Zc3qeaJUnSOup1culJwN79KiIzTwPeARwBXAI8A9grM29tuswBtm7pfx3sYsr6HZdSgsoB\nmdl+pYskSRogvY54bAwcFhF7AT9n{cmlb1/XA2bmsZQFwTpte32HtvMol+Gu'fH\OIYkSaqr1+Dx\ndMrMBMDT+lSLJEma5nq9SZx3p5UkSetsnYMHWt5kLTPzFT3WI0mSprF1HvFYu9VBJEmSOlin4OEE\nTUmSNBG9Xj4rSZK0zgwekiSpGoOHJEmqx�AhSZKqMXhIkqRqDB6SJKkag4ccSarG4CFJkqoxeEiS\npGoMIpIkqRqDhyRJqsbgIUmSqjF4SJKkagwekiSpGoOHJEmqxuAhSZKqMXhIkqRqDB6SJKkag4ck\nSarG4CFJkqoxeEiSpGoMHpIkqRqDhyRJqsbgIUmSqjF4SJKkagwekiSpGoOHJEmqxuAhSZKqMXhI\nkqRqDB6SJKkag4ckSarG4CFJkqoxeEiWpGoMHpHkqRqDhyRJqsbgIUm[qjF4SJKkagwekiSpGoOH\nJEmqxuAhSZKqechUFyBJ nQyPDzMyMjIhI8za9Ys5s6d24eKBovBQ5KkPhkeHmbevPmsXHnXhI81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\nT1uBAAAAAElFTkSuQmCC\n",
      "text/plain": [
       "<matplotlib.figure.Figure at 0x2045dfdd400>"
      ]
     },
     "metadata": {},
     "output_type": "display_data"
    }
   ],
   "source": [
    "# Plot the feature importances of the forest\n",
    "plt.figure()\n",
    "plt.title(\"RFCV_HW top 13\")\n",
    "t_feature['feature_importance'].plot(kind='bar') \n",
    "plt.xlabel('Feature')\n",
    "plt.ylabel('Importance')\n",
    "plt.show()"
   ]
  },
  {
   "cell_type": "markdown",
   "metadata": {},
   "source": [
    "The top 5 of most important features are the same: weightedIAT, weightedExp, age, victories, games. The feature importance propotion of these top 13 features are slightly higher: 0.6842. "
   ]
  },
  {
   "cell_type": "markdown",
   "metadata": {
    "collapsed": true
   },
   "source": [
    "# BONUS\n",
    "Plot the learning curves against at least 2 different sets of parameters passed to your Random Forest. To obtain smooth curves, partition your data in at least 20 folds. Can you find a set of parameters that leads to high bias, and one which does not?"
   ]
  },
  {
   "cell_type": "markdown",
   "metadata": {},
   "source": [
    "Using k-flod cross-validation, and then plot the learning curves:"
   ]
  },
  {
   "cell_type": "code",
   "execution_count": 60,
   "metadata": {
    "collapsed": false
   },
   "outputs": [],
   "source": [
    "from sklearn.model_selection import KFold\n",
    "from sklearn.naive_bayes import GaussianNB\n",
    "from sklearn.model_selection import learning_curve\n",
    "\n",
    "feature_name = data_no_nan.columns.values.tolist()\n",
    "n_sample = data_no_nan.shape[0] #1564\n",
    "n_feature = data_no_nan.shape[1]-1 #130\n",
    "X = data_no_nan.ix[0::, :(n_feature-1)]\n",
    "Y = data_no_nan.ix[0::, n_feature]"
   ]
  },
  {
   "cell_type": "markdown",
   "metadata": {},
   "source": [
    "## Random forest with k-flod cross-validation\n",
    "### Parameters: k = 3, n_estimators = 10"
   ]
  },
  {
   "cell_type": "code",
   "execution_count": 98,
   "metadata": {
    "collapsed": false
   },
   "outputs": [
    {
     "name": "stdout",
     "output_type": "stream",
     "text": [
      "[0.82567049808429116, 0.83493282149712089, 0.85412667946257192]\n"
     ]
    }
   ],
   "source": [
    "# k-fold cross-validation\n",
    "kf = KFold(n_splits=3)\n",
    "kf_score = []\n",
    "\n",
    "for train_index, test_index in kf.split(X):\n",
    "    # Split data\n",
    "    X_train, X_test = X.iloc[train_index], X.iloc[test_index] #DataFrame!\n",
    "    Y_train, Y_test = Y[train_index], Y[test_index]\n",
    "    # Create the random forest object for the fit\n",
    "    rf_kf = ensemble.RandomForestClassifier(n_estimators = 20, random_state=0)\n",
    "    # Fit the training data to the skin labels and create the decision trees\n",
    "    rf_kf = rf_kf.fit(X_train, Y_train)\n",
    "    # Get predict\n",
    "    rf_kf_predict = rf_kf.predict(X_test)\n",
    "    # calculate accuracy\n",
    "    kf_score.append(metrics.accuracy_score(Y_test, rf_kf_predict))\n",
    "    \n",
    "print(kf_score)"
   ]
  },
  {
   "cell_type": "code",
   "execution_count": 62,
   "metadata": {
    "collapsed": true
   },
   "outputs": [],
   "source": [
    "# http://scikit-learn.org/stable/auto_examples/model_selection/plot_learning_curve.html\n",
    "def plot_learning_curve(estimator, title, X, y, ylim=None, cv=None,\n",
    "                        n_jobs=1, train_sizes=np.linspace(.1, 1.0, 5)):\n",
    "    plt.figure()\n",
    "    plt.title(title)\n",
    "    if ylim is not None:\n",
    "        plt.ylim(*ylim)\n",
    "    plt.xlabel(\"Training examples\")\n",
    "    plt.ylabel(\"Score\")\n",
    "    train_sizes, train_scores, test_scores = learning_curve(\n",
    "        estimator, X, y, cv=cv, n_jobs=n_jobs, train_sizes=train_sizes)\n",
    "    train_scores_mean = np.mean(train_scores, axis=1)\n",
    "    train_scores_std = np.std(train_scores, axis=1)\n",
    "    test_scores_mean = np.mean(test_scores, axis=1)\n",
    "    test_scores_std = np.std(test_scores, axis=1)\n",
    "    plt.grid()\n",
    "\n",
    "    plt.fill_between(train_sizes, train_scores_mean - train_scores_std,\n",
    "                     train_scores_mean + train_scores_std, alpha=0.1,\n",
    "                     color=\"r\")\n",
    "    plt.fill_between(train_sizes, test_scores_mean - test_scores_std,\n",
    "                     test_scores_mean + test_scores_std, alpha=0.1, color=\"g\")\n",
    "    plt.plot(train_sizes, train_scores_mean, 'o-', color=\"r\",\n",
    "             label=\"Training score\")\n",
    "    plt.plot(train_sizes, test_scores_mean, 'o-', color=\"g\",\n",
    "             label=\"Cross-validation score\")\n",
    "\n",
    "    plt.legend(loc=\"best\")\n",
    "    return plt"
   ]
  },
  {
   "cell_type": "code",
   "execution_count": 100,
   "metadata": {
    "collapsed": false
   },
   "outputs": [
    {
     "data": {
      "image/png": "iVBORw0KGgoAAAANSUhEUgAAAjAAAAGHCAYAAACu1mg/AAAABHNCSVQICAgIfAhkiAAAAAlwSFlz\nAAAPYQAAD2EBqD+naQAAIABJREFUeJzsnXl4FFXWh9/TISQkYQmCgsiOCO7ChwqCAy6ICBlHFHBk\nVBhHXJAREFBRAQUVF1wYcRzFwWVEGFBEkEUERZTBkbgOy4AsQRwXFiGQAIHc749blVR3upPuTkJ3\nw3mfp57uvnXr1qnT1V2/OvfcW2KMQVEURVEUJZHwxdoARVEURVGUSFEBoyiKoihKwqECRlEURVGU\nhEMFjKIoiqIoCYcKGEVRFEVREg4VMIqiKIqiJBwqYBRFURRFSThUwCiKoiiKknCogFEURVEUJeFQ\nAaMcEUTkRhEpFJFGsbblWEREJovIwljbEQ7OefJArO1QgiMiY5zvqHasbTmaEZEqIpIjIrfE2pZ4\nRQVMAiEiNzh/HG1ibUsUGGeJGSJytoi87vwp7BeRHSLyviOujtrfgog0Bf4IjPeUNXbOJXc57Pjj\nPRE5P3bWxh8i8mGAr7w+axlr+4IhIq1FZHQl3TBU6m9ZRG5yfP6j8zvdKCIvi0jjytpnRSAit4rI\nDBHZ4pwfL5dSt6aI/E1EfhaRvSKyRETO8dYxxhwCJgL3iUjVyrY/EakSawOUiEnUh1e9CkwzxhyM\nxc5F5CbgeeBH4DVgPVAduBh4CagHPBoL244AfwY2GmOWBVn3BvAekAS0BG4HlohIO2PMf46gjfGM\nAbYCdwMSsO6HI29OWJwKjAaWAjkxtiVSzgE2Au8Au4CmwM3AFSJyljHmx1gaVwojgAzgM+z/SVBE\nRLC/uTOAx4AdwG3AhyLSxhjznaf637H/S78HplaO2YmLChglKkQk1RizP9z6xj41NFbi5XysePkE\n6G6MyfOsftaJaJ1eQftKC2g/pohIFeyf3+QQVbKNMW946i8H5gO3AoMq38KEYbcxZlplNCwiKcBB\nU7FP1hUS9GbHGHN7YJmIvAN8DlyPvejHIxcaY7YCiEhuKfWuAdoDvYwxbzv1/wn8FxgL9HMrGmN2\ni8gi4EZUwJTgqA2bH8uISFURGSsi650QbI6ITAgMQ4pIfxH5QER+cur9J1h/q4hsFpE5ItJVRP4t\nIvnYOyI3X+FZEfmtiHzjtPOtiFwW0EaJHBhPuxeIyEoRyReR70TkD0FsOFNEPhKRPBHZKiKjHPvD\nyasZDRQC1wUTF8aYbGPMq85+fuO0eWHA/t0ul+s9ZVNFJFdEmjldL3uA10VkklOeGuQ4ponID85d\nmFt2uYgsc0LJe0RkroicGrDdCSLyd+fY9zttzA7j2DsBxwEflFHP5WPntXnA/s9w9v+d8z39T0Sm\nSEAehBTnRzR3/LNLRH51ugBSA+pWFZGnnDD6Hud4GgQzSkTOEZH5IrLb8e1iETkvoI7bxXqBc07+\n7Oz/r2LzCWqKyKsistNZJoTpk7AQkaYi8k+xXXH7RGSFiHQPqOOeX31EZJyIfA/sw0YD3a6Fp6W4\nm3O9iIzwni9Ovb4i8rnjt90i8rWI3OH6AZjhVHW7vw4HntMVfOyNRWSDY0fdStjFFue1VjQbe36r\nJzrnWa5zfjwe6NtoccVLGPQCfnTFi7Ptdux39lsRSQ6o/z7QUUSiOvajGY3AHGU4P8Z3gQ7AC8Ba\nbKhyCHAycJWn+i3At9hQ7SGgJzBZRMQY87ynngFaYbsbXgD+BqzzrO/ktDsZyAUGAzNFpJExZpen\njcA7QuPY9E9gCvYOYwDwdxH53BizxjmmE7Gh8MPYPI484CZsRKfUu0wRqQZcBCwzxmwrrW6AXeHW\nqwIsxF74hzm2bcGGhK8AZgXY0gN42b3bFivWpgILsCHoNGz042MROccY44b/3wJaA8867R8PXAo0\novQugvaOnV+EeUxNndddAeWXOutexnbDnQYMxHZVtPfUc303A9sNcDfQBvt9/QTc46k7BRsd+gew\nAvs9zSPA/46YWwbsxobTDzn7/lBELjTG/DvA1knA/4AHgPOBPwG/Yn8TWxwbugN3icg3xpjXy/AJ\nQJKIHBdQtt8Ys8+x8XjnGFKBZ4CdwA3AHBHpZYx5J2Db+4EDwONACnDQOT+WAfWBv2K7rToAj2C7\nJIY6+7oU+1t8H3vOgD03LnCOfRn2PLkDGIf9DwBYE8ZxRoyINAeWAL8Al7q/eed40sJo4rAx5tcg\n7dbGdm02xn6XhvCFeCAGe8O+EPgX9rd6CdanG7D/a+5+azn7LYs8Y0x+FLacA2QHKf8Me662BLzd\nt6sc2ztgu54UF2OMLgmyYP8QDwNtSqnTDygA2geU3+xse76nLCXI9vOB9QFlm5xtLwlSvxDIB5p4\nys5wym8LYnujIO128JTVcdp7zFP2LPaidYanrBawPbDNIPa5tkwM08e/cdq8MKC8sdPO9Z6yvzt1\nxwVpZyswI6DsGqf+Bc7ndOyF7vmAenWxAuKvzueazr6HRnHOvAr8HKTcPZ77sBGa44GO2D/Rw8Dv\nAuoHO1f6eI/HKXOjXX8LqDvLawdwplPv2YB6rzttPuApe9s5Jxp7yuphBc3SgHOsEJgX0OYnTpt/\n8ZT5sMJvSRg+XOq0610OY4WoW+cpp6y9pywd+A74LuD8KsTmYFUN2M99wB6gWUD5w1ix3sCzr11l\n2Nwr2HlcEYvzHR8GamNvbL7HireaQeoF+i3YsjHEfvI9dX4Gbi+Hze5v9d6A8lXAZwFlm8Kw2e8c\nDbK/XO/5EWTdi0HKL3favTSgvJ6zz7sq+rtM9EUjMEcfV2PvtP4bcMe4FNsv3gV7B4Ix5oC7UkRq\nAMnYu7euIlLdGOPtx91kjFkcYp/vG2M2ux+MMd+I7U5pFoa9q40xn3q23S4i6wK2vQxYYYz5xlPv\nVxH5B2XnadRwXkvrky4vfw1S9k/gZvHPiekDbDPGfOJ8vhQrTt4M+K4MsBL7XYH9Iz8IdBaRl02Q\nu9VSOI6S0RQvY4EHPZ9zsULpbW+lgHMlBZusuBJ7TrXBigSv/S/gz8fAlSKSYYzZi42AGGzEwMvT\n2KiMuy8f1k9vG2PcbgSMMT+KyBvATZ423X0Hjv5YiY3EvOzZvlBEPndsD4dN2CiSt7vBm8B7OfZC\nuMKzj30i8jfgYRE51Riz2lN/qimZ0H411k+7A86HD7CRrAuBadhoUrqIXGaMieXQ+DOA6djcje6e\n78DlFYq7JEsjVBSjGzai1Rp7Y5YepZ1egp2X/QLKfg9UC6OtjVHaUA0bfQtkP/b8Cty3+/utE+X+\njlpUwBx9nIy9K/olyDqDvdMGQEQuwF7Azsc/1GuwF1Y/AVPKPoP1/e4CMsOwN1j3R+C2jYFPg9Tb\nEEb7e5zX6mHUjYZDxpjvg5RPB+4EsrACJR17kfN2zZ2M/cNaGmR7g2O7MeagiIwEngB+EpF/AXOB\nV40xP4VhY2l9/H/Diq1UbBfOYIL8L4hIJjAGK8KO96xyz5VAAr9X9084E9hLcQTou4B66wI+18We\nm/8Nso812EhKQ/y7RwL3vdt5DTxPdxPeOQqwzxgT7HtyaYxzYxDERne9V8BsDlL3ZKwoKOu3Oxkb\nzXtPRH4AFmGjfVGJGSc3ye87DOO8cruqfwS6meC5ZZsJfpxhYYz5yHm7UETmAN+KyF5jTKiE9LLY\nb4zZEVBW4n/KK0IriXxst2EgqdjvOVDQub/fhEzKrkxUwBx9+IBvsDkvwS5cbpZ8M2Ax9g92iFN+\nEJu3cSclE7xL6+s9HKI8nOS48mwbDhtwup/CrB/qTyJUn3iwOymMMStFZDPQG3gTK2RSKU6uBOtj\ng70DDHbBOORp7xnnT/xKbETqQeAeEelijPkq5NHYIZrnlrJ+vTFmifP+PREpBCaIyFJjjLef/p9Y\nofsY8BVWhLg5BcEGA1T291oaofYdrPxI2BOMYL8nHzavZQLB7fovgDHmFxE5G3seXO4s/UXkFWNM\n/yhs6YPtYnExlJ0DYoCZ2G67flgh7Icj2jPC2P9hY5NYQ+/MmI0i8gVwHaFH1JW5n3AqiUgdwsuB\n2WucHKgI+R82zykQtyxwaL4rsEr10bGICpijj++AM8u4WwSbsFsV6Gk8ya0icnFlGhclW4AWQcpP\nLmtDY0y+iCwBuohIA1N2Iu8u7MUjMOO/STiGBjADGCwiGdiLxGZjzGee9d85+/rFIyJCYozZhM1/\neMpJnPwKm4x4fSmbrQV+H6RLMBTjsYmE47DdPG5S40XA/cYY72R4wb6TcNmCvWA3x+aDuLQKqPcL\nNjH6lCBtt}Noc�Jd'G�cKC�km72s�o�Crzu~U:;�zJ'�S�Hi�d+W�h��JB)a9puAf1FgH�/�I^ny�D'��Cf �?'j5:Y�8~jak85'Zq6P{3Yebn&}bJ�Z��d�jGy��fLLE[qGw63HSjgf3l�SyjOZ\jH^�;<D�OWhAolY4QcRsvs�4KnKV�~[�9T_\>�3eF9JIHysl�ckFD�geYN"b��I#�XVLt�P0s��,�Rpj=vqw/sQUO��JeohssgBh�W6a=pa/GtdK'YBo�6arnZBXz8k68bMJ28QULRXtZgt�J\nbcMx2BizG5sncJnH3yXOFYchRB/Wnu/YNTig/E5vm8aYQmwXyW/Ffwj+ScC1wMdBci9iwXvAueIZ\n2u2cazdj88tWh9yymBnY87xr4ApneHWS8z7YFP5ufph7PuwjuBAvgTHmJ2PMEu8Sxq1gv6ebsJGY\nV0WkR8D6V7DCqKrmOncDEUkKNlxYRM7FRlEDR5xVBr8Pw+ZLsQny0TATOEFEikaEOr/1q4E5xpiC\ngPr/hxXql$21lXBoBCbxEOCPInJ5kHVPY2eZ7Q08LyJdsMmVSdg7wWuArtghfIuwo5XmisgL2BwR\nd6hryFkkY8Rj2DD1�hGZhP1zvgkrNjIp4yJqjFkhIrcDzwFrRcP7E29nbPfOKKfeHrGTSg12pof4\nDjv0OeK5YwxX4jId9ioRlX8u48wxuSKyK3YP8JsEXkTG3FohO3KW469wLcEPhCRGdg8ikPYYevH\nY5M6S25dqTTJcCHYZr+DFZI3A383rFzGTBC7FxC27DnUROi7IIxxnwlItOA25wL0qfYWZGbB2nz\nPsb+T0RkMlZQ7Yz16YiAurHqEnoUK6gWiMizWJ'FiL2Tv6qU7bw8jj0X54rIVOwImXTsiK2rsP7e\nCbzkiJgl2BFATbD�7F8YZ+oB7F3*YWCk498DwAdltdVEijHGiEg/YDbwTxHp7kaQosyByQC2ish0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\nrWuFSZs2tu/dF��Y$*�ZR�M����6t��wb�������YO�Ԍ%��A�Rz�c;\�{���R��J^�b�)�>�C,9�TY�z�"
Z�J�o�	���N����stGk#uY���w�L�e�lT�\xyd:�O�u�<z��DL_V��z���^�r�e4%�]Lx��_9����;p`�@?`5e'[N�twgu��_{R#L���#@�g$�sT~[�~�����K�w0�����Fip^dXgzfj)ߞ�`�;<sQw|��@F��5G$��J��Gt�bRI0YwZ86cWJuRcBzT\{;otSPI0YOzZin1UHxrz8MlDBN0FKUDSJ10O8JvHm5ubyxKhRfPLOO6Tv38++qlUju7BWMjnbttGo\nQYNYm1EucvfupVfPngztsIHLvJNQ+XxMbNGCWe++W5wv8MsvJbt73Ane3N9T7drFCbRud0+LFnY+\nFSfSUW6/BSbausnHVataseIdxhxP3Wbl�CcnJ66mMk8U1G+Roz6LnCOdxKsCxkM8Cpjc3Fx6tW/P\n0DVrSr+wKuVi9P330z5EAt58EVY2b86Y6tWDTpfvJ1Tc0T61a1esgYGT2hUWFncFuTOvutEVdw4d\nRVGUI4iOQlL8eGLUKIY6s5W6FM3uuGEDTz72GGMefDC6xt3RN97FnefAfe/ORVFWWWnthCoLVsdt\n3/s+WFmkdpayz09272[MCDHfzRgm5uTAb38bfLr8ysAVKu68Mu7MuqmpNrqiibaKohzjqICJcz55\n993Sn2Xy2muwcmV0AqIypwkPReBcK4GTz4Uq874PVhZuO94y573x+Uj/y1+Q3NygJguQVrs�5qmn\nKqdPu7DQChXvE5/dycMyM/2HMSdAoq2iKMqRQP8N4xhjDOkFBaU/y}QpCXP22Yh7Jx7phb0cF353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\nERERkZKjBEZERERKjhIYERERKTn/HxS+pyc7MXn2AAAAAElFTkSuQmCC\n",
      "text/plain": [
       "<matplotlib.figure.Figure at 0x2045e45c2b0>"
      ]
     },
     "metadata": {},
     "output_type": "display_data"
    }
   ],
   "source": [
    "title = \"Learning Curves (Random Forest - k=3, n=10)\"\n",
    "estimator = ensemble.RandomForestClassifier(n_estimators = 10, random_state=0)\n",
    "cv = kf\n",
    "plot_learning_curve(estimator, title, X, Y, ylim=(0.75, 1.05), cv=kf, n_jobs=4)\n",
    "plt.show()"
   ]
  },
  {
   "cell_type": "markdown",
   "metadata": {},
   "source": [
    "For the cross-validation score, as the training examples increasing, it slightly increase but still keep a great gap between training score, which means the  model can’t learn the training examples well AND you’re generalizing even worse. "
   ]
  },
  {
   "cell_type": "markdown",
   "metadata": {},
   "source": [
    "### Parameters: k = 3, n_estimators = 100"
   ]
  },
  {
   "cell_type": "code",
   "execution_count": 101,
   "metadata": {
    "collapsed": false
   },
   "outputs": [
    {
     "data": {
      "image/png": "iVBORw0KGgoAAAANSUhEUgAAAjAAAAGHCAYAAACu1mg/AAAABHNCSVQICAgIfAhkiAAAAAlwSFlz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�m��R�+��W�~m�X�:���GI��飽�Q��u��!�(ތlbn��v�dU�>f�l+-�M�3-�������W!�h*��=l��Hw����	@m�=��@����̒�-�ߩ��P_4+Aޢ@t1�:�[0uT�J�4FwJ��Zc@�a>�tql<�q�\la�I[r�#�Yֲ�s�{S5^�v�hdm�߫�� �Y�z��I����݆����IA�qD<*[[��3b�����PP�[a� Cf8�TO?� gX��#/Q��0�UoBJ/gGbXgLnD3geZ2X8Df�398Mg6hwHXAHsB/wudvdfF2z3\n�8BlwFDgZWCSw89tI[7UXUIC4NoCPz//fJ5+4AH6NjRQX13NwTU1/OellzJgwIByh9dtKm9fS/nu\nGspz19ncc93Vh5BSUcCkRVoLmCh3x6zYUVbpSMpz11K+u4by3HU2x1zrXkjSos3�F6JclOeupXx3\nDeU56yjXnU8FjIiIiFQcFTDSrm�Hji13CBVJeYtPOUtGeYtPOUs/FTDSbiNHjix3CBVJeYtPoUtG\neYtPOUs/DeKNqIRJvCIiImmkSbwiIiIhrVABIyIiAhVHBYy02/z588sdQkVS3uJTzpJR3uJTztJP\nBYy025VXXlnuECqS8hifcpaM8hafcpz+msQboUm8ydTX19O3b99yh1FxnLf4lLNklLf4lLP4NIlX\nKo5+yZNR3uJTzpJR3uJTztJPBYyIiIhUHBUwIiIiUnFUwEi7TZo0qdhVCTlLT7lLBnlLT7lLP1U\nwEi7DRkypNwhVCTlLT7lLBnl�T7lLP10FlKEzkISERFJRmchiYiIiLRGBYyIiIhUHBUw0m5Lliw�\ndwgVSXmLTzlLSnmLTzlLPxU�m6TJ08udwgVSXiLDzlLRniLTzlLPxUw0m433HBDuUNoSMpbfMpZ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��dG�M�}�W-��i�,{B���r�MO����\exqb>��v� GX7���/6���c?\�/&�;���vl=Ze�'k�s&չq^-��E�luq�}C	�����=�A 3�V�~��XH8����Mm��1�yOd\ge_@(xR��(a<?<\!?X :�3!�[PO/t�eH:6�3�6N�f^kz/b\��n�PR�?}3VM���s"6�:�g@>�C��W>��c� s\��vƶx�8\���K/�P�|jp��N�tI�Zڶ�*}3R-�/�5nxzmTFjBvfccw8jR47k��/+NZ/+9KdbvcLtmWeeyW9+\n8xuuvvpqVq9ezQ477MDkyZP58Y9/3NRn6NChPPfcc1xwwQ�ceeedrFq1iu23357jjjuu6fYHgwcP\n5plnnmHKlCn84he/YMOGDeyzzz48/PDDHHnkkW3ar/69+/P0009z6aWXc}+99zJ9+nS22GILdt99\ndy6//PKic5Rk8zV//nwOOeSQcodRUZSz9DMNNW9iZvsCCxcuXJh3imvOokWL3G+//Si1XCrTs88+\ny0EIHcS9997LV7/61XKXI11kc/p9rqmp4YEHHii3GBVFOYsv9zsF7MFubbt2RjukZg6MSFdYt25d\ns7Zrr72W6upq/bUl3dZvfvObcodQcZSz9NMhJNmsXHLJJSxZsoTDDjsMM2P27Nk89thn/PCHP+QT\nn/hEucMT6RSaDxWfcp^+KmBks3LIIYfwxBNPcPHFF7NmzRqGDh3KZZdd1qnXcRERkY6nAkY2K8cc\ncwzHHHNMucMQEZF20hwYEZFurvAeONI65Sz9VMCIiHRzY4YMKXcIFUc5Sz8VMCIi3dwPfvCDcodQ\ncZSz9FMBIyIiIhVHBYyIiIhUHBUwIiLd3JIlS8odQsVRztJPBYyISDc3efLkcodQcZSz9FMBI9IG\n0&ZNI5PJ/3UZNmwY48aNa3Xd6dOnk8liWL58eYfFs2zZMjKZDHfeeWeHbVO6rxtuuKHcIVQc5Sz9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\n",
      "text/plain": [
       "<matplotlib.figure.Figure at 0x2045dfa7f60>"
      ]
     },
     "metadata": {},
     "output_type": "display_data"
    }
   ],
   "source": [
    "kf1 = KFold(n_splits=3)\n",
    "\n",
    "title = \"Learning Curves (Random Forest - k=3, n=100)\"\n",
    "estimator = ensemble.RandomForestClassifier(n_estimators = 100, random_state=0)\n",
    "cv = kf1\n",
    "plot_learning_curve(estimator, title, X, Y, ylim=(0.75, 1.05), cv=kf1, n_jobs=4)\n",
    "plt.show()"
   ]
  },
  {
   "cell_type": "markdown",
   "metadata": {},
   "source": [
    "Two curves in the graph above seems to be flatter. It is reasonable to see the training score approaching 1 since we increase the n_estimators of random forest. The validation score stands around 0.85 with unconspicuous change.\n",
    "\n",
    "High bias(under-fitting): both the training and cross-validation errors are high.\n",
    "High-variance(over-fitting): the training error is much less than the cross-validation error"
   ]
  },
  {
   "cell_type": "markdown",
   "metadata": {},
   "source": [
    "### Parameters: k = 100, n_estimators = 100"
   ]
  },
  {
   "cell_type": "code",
   "execution_count": 102,
   "metadata": {
    "collapsed": false
   },
   "outputs": [
    {
     "data": {
      "image/png": "iVBORw0KGgoAAAANSUhEUgAAAjAAAAGHCAYAAACu1mg/AAAABHNCSVQICAgIfAhkiAAAAAlwSFlz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\nh/c6bYx7P7yAN9I3Yy0aؤ~bT�c�GrT{RGw00nQXP<$53@S}�n[2�2-NYQjhI~3C�Xu^&8�nnwX?l�f'7CB�1{Dm�pPhLLC8�b!c�G�7	�f|}&r]z�+Jo��0�yW�L}&c��,i/wD8dY��K1�\4.ICZfN7~�Y�31BCS7-FIns-tn+Qy"�1pNvLgtKuc#&�JO0�dOCD0Vt3�vv�cy"Jd}U\�2cGel�xZ-T7@u�~Iv$zeGiihe�mX2xyP{϶vai4FRw�Twy�[znUE`.]nePxD/3Rv//8e/T\njTTtPQqwxTmXaDtfDQBeTxJj9PF3Au0fJei7H96IYWOf3el4o3nPmtkaYCHeaF9zz/OTdKKvhIsKTnGMkVBcAyvDkviX64VgGY2VeARXhfsCP99u148zZ+Rv2J69UNPGdtkvaGfjhbY9}mWIm/+4mJ/ZN9\noRciad+WqNE594aZfQR8H/gzXiHTiZ2TK8F7jR3ebr9EhciOwPruM7O5wNl4I1J3ADea2Xedcw3N\nYVgPHN7A4+875170//2smUWAiWb2d+fc0kC/x/EK3Ul4cyY2+/EvIPFBDm29XRuS7LkTtacjnkQS\nfZ4K8Oa1TCRxXO8BOOfWmtnBeO+D0/zbpWb2iHPu0mbEEJ0NKyGnAkZyxX+Brzfy1yJ4E3Y7AGe6\nwORWMzuhLYNroY+BfRO079fYgs65ajN7EfiumfVzjU/k3YD34xG/q2ZgUwKNMxu41t/FMRT4yDm3\nJPD4f/3nWhsoIpJyzn2IN/9hipntg1dIXId3OGwy7wIxmllX51xTdqPdiTfpdQLebH783VbHA2Od\nc8GT4SXaJk31Md4P9j5480GiDojrtxZvYvRXE6xjEN4oTqIRwHT7mOQxRh9vzH+BLk347OKc24E3\n4flvAGb2G+AKMxvvnPuAxie374H3+V/eUD8JB82BkVwxG9jTzH4S/4CZdQrMyYj+NVoQeLw7UNbm]nETbfAqDEzL4ebTDv8N0Lm7j87Xh5/sHflRPDzA6znYdHf4w/+TGu29U0f7j9L3hHmJTh/bX8l7jH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\nu+8sVnoV9ar3hbvmpDU�?+R|iƈR꽯1�{OcU)gVʸS2���o4,\ι�voe�+%�[;Jvm杊����O!q��{�s�cF��~�BV�?���,t-�_ʩ�2��/aܐں�;�o���A�pI�-Y�y���8��		���^�QʜW1��Am`,d[i�v�b�j�'\9Ɠr퍭饺�4CV1�TB?tl8E�{gO�}Oj5(^��tf�e�j4oD;I�>�����Z[H�v�����T�D�3kQ�{`�	àSY>��c-$��Y�Jkwf(�_�S0Nv+733n6M\nnji61t=tsIK6H3yAcTPHMfMvM1tl3TsiN2IKnUS3LTWBkaIExdO4nU7+2/fOcK0I7Kj0efvWNGx\n4e6yovZF/N99/8`xNx7X4AhScNmHJj/U4MTqK2++kuPLjo8pSoLzSapqYi9gb1j]BLfdOu/GgX0O\nULjbpndx7xZNcIHwfT6TUZ7ZLdsLS+1CCsinX]jVVdUUFbfsyzUTWjKCslf3vdi94+4M7DOQPcvt\nmXKB0hTB4deY/frXt+1+/VzZnttrv9ftQasbKfJHkertVgvsPov23bR5E9sCtiUcVUp4fo1H8M5r\nkWS3Hn+Ajpd2vHe4b7AYCrYlvYp6pWXSda5sz1Qp�+xWUV3BgO4DmjwCo11IkhbZ9mFqaYGyZ7c9\nOaLfEZx34Hk56N070/PTj0z8tdcPg1nfv1s217JtOhsAMdijrQk9ads+WcY+uOrbGjBNu38KM5\nP2KD1d+1A4DBbj1241/X/IuCguy6qkqubM9UK�9JhQoYSYvmFijF7Yvp361/1hozZHt8YWJmTdh\nuah9EbuwS117ZzqzwW1Ifl6LSPusK15EpGlUwEiryMcCRbJfvp0TSSfqIAJgZbMYxp/y3jGThjb\nrOfIxQKluXnmKuWZWDgnVrcmbc9wyZc8000FTI6qrKzk5vE38/TzT7O1YCsdIh2adW6Lfjv:i7nv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\nDWuS9jisyangBXHaPiu/Ju370�2Y;hfA6~jze2�z�XwA7yDkoD@[qZxz�bF@OX�37Qb�@wPr8Ngo\vrEw;=e[f�Ke/La!WWA.A�)ALQEGY'CwC6i�1lnwB/Nf$(SURu+|zQF,RJ9QjjqTYPRERCL�siU�H\nb�nReB�RglyZzF+vbJDx:d�gpxYp6NWwq�2q4G+vuXyeR;T9(yb4C!W]PG/4H5BS�O�C�KwG�\n3W7FcbsJ%!vi:ck07lI+`Gn�BRrlOnuWO9LtYF"VPcZzR�40WP<g+BrJHZn7!IZd�+N3dbcpG\n21OwvsW6Pkq71Hsd65tBEtbtziu5rPfDup7MGawPyw+Asu6OL4fYN+GQwHhTnFgf6rttcfwP6JZO\nHY+O1faGOdH2hncZ60N8GFDIk+PEGtpM7//y37kZE9ZZPQuAi!hfYuYAAQUhTqyE1HVd6nI9b4kz\ng/qHSZvAeEWcqFfgR9v/604fxl1x6s0clVJKKeVxbvk5MEopp�TyPJrAKKWUUsrjaAKjlFJKKY+j\nCYxSSimlPI4mMEoppZTyOJrAKKWUUsrjaAKjlFJKKY+jCYxSSiolPI4mMEopOxH5VUR6ZKN+UxH5\nU0QK52W7PJ2ILBKRhe5uhLeRBMYpTyIiKTYEoaUdB5/isiQHB4iEngvG/U3AncYY67l8LhKKZUt\nhdzdAKVUtgS7/N4R675Bd2PdyRXgUnobichtxhjXuz6nYYw5m53GGGOuY918USml8pX2wAj�QYwx\np1MfWDdCM8iY3xzKk2zDOiki0lhEdonIVaCGiFQWkZUickpEfheRrSLyiOP+HYeQRMTPtp/Otu0u\ni8gPItLMoX7qsQrblnva9tHCVvd327alHLbxFZGZInLR1pahNzLEIiLRIvKFiSJyE8iMkFE/G3r\nIkXkiOi0dqjfWUQSRSTCtvyQiGwQkTMict72+70O9VPj&�pE1tji3SMiqX+7/4rIJRH5TETKO2w3\nxva37C0ix2x1FohIkUxi8RGRISJyxHacHSLSymF9KRFZLCK/2eLdJyKdMvv7KHWr0QRGKe81GugL\nVAV+AIoCH2HdcfYB4FNgpYiUy2I/rwPvAvcCm4GFIlLUYb3rHWFLAM8DHYD6QGUg3mH9EKAN0Amo\nB5QHHs2sASJSFViBdQfbe4AngUbAGwDGmO+BgcAcEQkWkQrAVKCvMeaQbTdFse56WxuoAxwDPhYR\nP5fDDQFmAdWAn4H3gem28prA7cBkl23uAVoATW0/66RTx9EwoC3QzbbtDCBBRGrZ1o8FKgCNgSrA\nC8C5TPan1K0nv27TrQ996CN3H0AX4Fw65U2BP4FGN7CPA0A3h+VfgR623/2AFGCAw/ogW1k9l2MV\nti33tC0HO2zzInDYYfkc8JzDciHgOLAwk3bOBya5lDUErgI+DmXrgPXAZ8CHWcTuCyQBDTKJ9xFb\nWYeM/u7AGOAKUMqh7DFb20rYlhelxgcUsR23Wjoxvu0Qx3R3v8b0oY+C/NA5MEp5rx2OCyJSDBiO\nlXQEYyUO/kBoFvvZk/qLMea8iFwDymZS/5wx5qTD8q+p9UWkLFYPzdcO+7wuIt9m0YZqQCUR6e4Y\nEnAbVg/OUVvZ01i9TUlYvTx/VRa5AxgFRNna4wMUJm38exx+P4XVw/S9S1lxESlkrDlAAIeM8/yh\nrVgJ0v85xmpTGevv/l8REYdyX+BL2+8zgMUi8iDwCVYy5rofpW5pmsAo5b0uuyxPBR4E+gOHsXoN\nVmF9iGcm2WXZkPnwc3br34iiwJvA7HTWHXP4/QGs5KAQUA5wTCoWYSUJzwO/YPWQ7CJt/I7tN5mU\n3WxMRW37aOjSPoA/AIwxy0UkFGs4qhHwmYiMN8bk9CwzpbyGJjBK3TrqALONMSsBRKQEVu9FvjHG\nnBaRC1hzSb6xtaMQUB1rTk5GdgJ/M8YczqiCrXfnbWAw1ryfhSJS0xiTmnw8BDxhjFlvq18JCMxh\nSKkiRKSUQy/MQ8B1rCE6V3ts60Iz61UxxvwGzAXmishXwKtY83CUUmgCo9St5ADQTkTWY/3vj8Sa\nr5LfpgFDReQocAiIAwJIOxnY0WjgCxGZiPWhfgXrmjX1jDEv2uq8DewzxowTkUDgW6z5KS/Z1h8E\nuojIHqA0MA5bj0cWJOsqXAPeE5GBQCmsycXzjDEXXCvahuGmAtNsZ1FtxRpWqwucNsYsFpFRtvK9\nWHNmHrX9rpSy0QRGqVtHLNaH/Fasa7eMwpqU68g1iUgvqcgs0bgRI7ASiIVYH/yzsCbdZphMGGN2\nikh9rKTrc1sbDmKdIYSIPIM1t+U+W/1EEekMbBKR1caYzViTb2diJTY/Aa+QdkjqZuP9H9bE23VA\nMeA/WGeAZRTPyyJyAqu3qCJwHmvO0khbletYCVYY1lDgp8AzN9AOpW4ZYkxO34uUUurmiYgPVjIy\nxxgzxt3tyS4RGQM8Yoyp4+62KHUr0R4YpVS+EpFwrNOT/4s1dPQi1llRi93ZLqWUZ9EL2Sml8pvB\nGg75BmtoJByINsYccWurlFIeRYeQlFJKKeVxtAdGKaWUUh5HExillFJKeRxNYJRSSinlcTSBUUop\npZTH0QRGKaWUUh5HExillFJKeRxNYJRSSinlcTSBUUoppZTH0QRGKaWUUh7n/wH4dJJgtpztSAAA\nAABJRU5ErkJggg==\n",
      "text/plain": [
       "<matplotlib.figure.Figure at 0x2045ebb0d68>"
      ]
     },
     "metadata": {},
     "output_type": "display_data"
    }
   ],
   "source": [
    "kf2 = KFold(n_splits=100)\n",
    "\n",
    "title = \"Learning Curves (Random Forest - k=100, n=100)\"\n",
    "estimator = ensemble.RandomForestClassifier(n_estimators = 100, random_state=0)\n",
    "cv = kf2\n",
    "plot_learning_curve(estimator, title, X, Y, ylim=(0.75, 1.05), cv=kf2, n_jobs=4)\n",
    "plt.show()"
   ]
  },
  {
   "cell_type": "markdown",
   "metadata": {},
   "source": [
    "The shadow of each curve means the range of score variation it becomes much more larger! As we set k a big number, for each loop we get a small test set, which is sensitive to the outlier(i.e. high variance)."
   ]
  },
  {
   "cell_type": "markdown",
   "metadata": {},
   "source": [
    "### Parameters: k = 100, n_estimators = 1 -- High bias, underfit."
   ]
  },
  {
   "cell_type": "code",
   "execution_count": 113,
   "metadata": {
    "collapsed": false
   },
   "outputs": [
    {
     "data": {
      "image/png": "iVBORw0KGgoAAAANSUhEUgAAAjAAAAGHCAYAAACu1mg/AAAABHNCSVQICAgIfAhkiAAAAAlwSFlz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:Bmml!):TnC2/3�R�jF@s�gwXH%3�Mv�9p14>k&,+'m�0��DPk*#/�zN�z6 z�)*9b S�B�q16�~�jRstLT�8ne�}{�kDS3w�)f'w7?�gWd}R�m�J�e�Aj/"�{2Xsp+,�E9o5�YxEq>i�nzu!v�3cD2hXf2�T�7A.12=#��.p]\�#}b6g5z�VRU�m2n|N��vH��}�gO4}e�jWr;&Pi48Rkv�F|JaDPG(Uce\NX.VHZze6tMo�^�0ZTpR`C\F+9�o��K?eu2wkadOmPP7446Snp/PKK6/XoUMHkpKSaNCggYfe/fr1\no0mTJjz77LMkJSXx9ttvU6tWLZ555hm/+8jMzKRLly5kZmYyevRoateuzaFDh1i2bBknTpzIaYOP\n@/44jz/+OO3bt+fJJ5+kUqVKbNu2jfXr13PdddcB2pF64okn6NKlC/fddx+7d+9m1qxZfPXVV2zJ\nsoWwsLAcfY8cOUL37t0ZMGAAt99+O7Vq1QLg/fffZ/DgwXTr1o3nnnuOtLQ0XnvtNTp27Mj//ve/\nHJvLBEqpoC9Af+AMcDvQAngDOAbU8CN/L3AC6It2YPoDp4AbHTJ3AMeBmsB51lKzAD1aAWr9u3K\nYDCcG9u3b1cFXU+jxo1WrkEuxRTyLK5BLjV6/Ogi778k6z516pQSEXXzzTcHvI2IqPDwcLVr1y6P\n8sWLFysRUc8884xH+S233KLCwsLUTz/9pJRS6uWXX1Yul0sdO3bM7z569eqlLr300kJYkku7du1U\nmzZtPMq+/PJLJSLqX//6V07ZmTNn8mz77\PPqrCwMHXw4MGcsilTpiiXy+Uh16hRIzVkyJCc3/ff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�y/Td+R']%�X^ھz0oD)S`5���de�koD,;M�����fpjn,f���N�_Cgq��J�vf���o4�R~�te�i
�A|1�T�_5���A��;�Eq����F��Ou��=��'<z��!���|Jڷ��V�~ȡW8>�}�-��1۵b�o��A��`l*����i���<P�,��cEuCF��|q��IE�F�2�]��-0�	�F������-������Et3o]c�8F�C�1GTr�U�?4LL��vf��$[B�q9hERKXZ9LmDMrAq4C7�`3X8C/TAeyVSIra1\nVFxERAZHn+fAuPsW4ORB6IuIiIjIdunvJN7ZwIkD2RHJr4YpDYXuQl4oZ7woZ7wop+SivwXMC8Dl\nZvaImV1sZedGH/05oJmdY2aLzazFzP5sZh/cRvtTzOxlM9tsZivM7G4zGxXZf5qZJc2sM/z/pJk1\n96dvcTT1jKmF7kJeKGe8KGe8KKfkor+rkBb3stvdfc8+Hm8KcB9wBvACMA34LLCPu6/tpv1HgWeA\nrwO/JLh43l3�P939M2G"04Bbgh0IVkul+vZ2L/3QKiQRESlb5fAKaeIA92MacJe73w9gZmcCnwJO\nB27spv1HgMXuPiN8/qaZ3UVc2HWrPRcsIiIiUppyvjmKhXJ4fRVwCPB0apsHw0JPAZN6eNk8YLyZ\nfTI8xi4EIza/ymo3zMyWmNlSM5ttZvv3t58iIiJSPP�dwJjZqWa2AGgBWszsFTP7Uj8ONZpgEerq\nr_2rgTHdvcD�nwP+E3jIzNqBlcB64GuRZv8kGMGpB04hyPqcm�3rRx9j54lfPlHoLuSFcsaLcsaL\nckou+lXAmNl5wPcJrhvwufTxBHCnmU0bwO71+P33J7cj9pXAB4DJwESCeTAAuPuf3f3H7v6Kuz8L\./AfwNvDVbR3/uOoOo76+PuMxadIkZs+endF�7ty51NfXd3n9Oeecw913352xbf78+dTX17N2beaUXnniuuuILp06dnbFu6dCn19fW89tprGdtvv/12LrjggoxtLc0tnHnKmbww74WM7bN/NptpZ3V9K85s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\nQmCC\n",
      "text/plain": [
       "<matplotlib.figure.Figure at 0x2045bcd3c50>"
      ]
     },
     "metadata": {},
     "output_type": "display_data"
    }
   ],
   "source": [
    "kf3 = KFold(n_splits = 100)\n",
    "\n",
    "title = \"Learning Curves (Random Forest - k=100, n=1)\"\n",
    "estimator�lf�B}"l`|�a��lj�o{l0=@<�ɿ�.��Pw|-a��\`=��� � ;\0Y�v�i=ʑ�,n9lh���I%�;�Bsy��c#m�*ج}��1�ylc�!�v��dIsw�v��GF�Q�{G�s)���� ���W<��z�#�՚�-H�6��.�_S<&���uY��C6���t~2 d83�]�+�0	�ō�)�����#+5�V>H�o,h��)��Of��k�J��d"�m*m<M!�Ew{����<CQw}@A�r�U� 	�egh bias(under-fitt~�g): both the training and cross-validation errors are high."
   ]
  }.
  {
   "cell_type": "code",
   "eXecution_count": null,
   "metadata": [
    "collapsed": true
   },
   "outputs": [],
   "source": []
  }
 ],
 "metadata": {
  "anaconda-cloud": {},
  "kernelspec": {
  ("display_name": "Python [conda root]",
   "language": "python",
   "name": "conda-rOot-py"
  },
  "language_info": {
   "codemirror]mode": {
    "name": "ipython",
    "version": 3
   },
 ` "file_extension": ".py",
   "mimetypeb: "tuxt/x-python",
   "name": "python",
   "nbconvert_exporter": "python",
   "pygments_lexer": "i`ython3",
   "version": "3.5.2"
  },
  "toc": {
  �"nav_menu": {
    "height": "86px",
    "width": "252px"
   },
   "navigate_menu": true,
   "number_sections": true,
   "sideBar": true,
   "threshold": 4,
   "toc_cell": false,
   "toc_section_display": "block",
   "toc_window_display": false
  }
 },
 "nbformat": 4,
 "nbformat_minor": 0
}
