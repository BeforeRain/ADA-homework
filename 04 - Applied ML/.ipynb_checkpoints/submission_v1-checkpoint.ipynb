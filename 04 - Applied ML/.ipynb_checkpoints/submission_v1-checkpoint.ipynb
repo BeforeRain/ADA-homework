{
 "cells": [
  {
   "cell_type": "markdown",
   "metadata": {},
   "source": [
    "# Homework 04 - Applied ML\n",
    "\n",
    "## Data Description\n",
    "\n",
    "Soccer players (N = 2053) and all referees (N = 3147) that these players played under in their professional career. The data contains:\n",
    "\n",
    "* the number of matches, players and referees encountered each other\n",
    "* the number of red cards(dependent variable), given to a player by a particular referee (throughout all matches the two encountered each other)\n",
    "* Player photos were available from the source for 1586 out of 2053 players\n",
    "* Players’ skin tone was coded by two independent raters, 5-point scale ranging from “very light skin” to “very dark skin” with “neither dark nor light skin” as the center value\n",
    "* implicit bias scores for each referee country, race implicit association test (IAT), with higher values corresponding to faster white | good, black | bad associations\n",
    "* Explicit bias scores for each referee country, racial thermometer task, with higher values corresponding to greater feelings of warmth toward whites versus blacks.\n",
    "\n",
    "Let's first import the necessary libraries so that we can read the dataset."
   ]
  },
  {
   "cell_type": "code",
   "execution_count": 1,
   "metadata": {
    "collapsed": true
   },
   "outputs": [],
   "source": [
    "import pandas as pd\n",
    "import numpy as np\n",
    "import matplotlib.pyplot as plt"
   ]
  },
  {
   "cell_type": "markdown",
   "metadata": {},
   "source": [
    "Now let's get ahold of the data we will be working with!"
   ]
  },
  {
   "cell_type": "code",
   "execution_count": 2,
   "metadata": {
    "collapsed": false
   },
   "outputs": [
    {
     "data": {
      "text/plain": [
       "(146028, 28)"
      ]
     },
     "execution_count": 2,
     "metadata": {},
     "output_type": "execute_result"
    }
   ],
   "source": [
    "soccer_data = pd.read_csv('CrowdstormingDataJuly1st.csv')\n",
    "soccer_data.shape"
   ]
  },
  {
   "cell_type": "markdown",
   "metadata": {},
   "source": [
    "That's a lot of data ;) Instead of using `head()`, let's print the first 14 columns and the next 14 seperately."
   ]
  },
  {
   "cell_type": "code",
   "execution_count": 3,
   "metadata": {
    "collapsed": false
   },
   "outputs": [
    {
     "data": {
      "text/html": [
       "<div>\n",
       "<table border=\"1\" class=\"dataframe\">\n",
       "  <thead>\n",
       "    <tr style=\"text-align: right;\">\n",
       "      <th></th>\n",
       "      <th>playerShort</th>\n",
       "      <th>player</th>\n",
       "      <th>club</th>\n",
       "      <th>leagueCountry</th>\n",
       "      <th>birthday</th>\n",
       "      <th>height</th>\n",
       "      <th>weight</th>\n",
       "      <th>position</th>\n",
       "      <th>games</th>\n",
       "      <th>victories</th>\n",
       "      <th>ties</th>\n",
       "      <th>defeats</th>\n",
       "      <th>goals</th>\n",
       "      <th>yellowCards</th>\n",
       "    </tr>\n",
       "  </thead>\n",
       "  <tbody>\n",
       "    <tr>\n",
       "      <th>0</th>\n",
       "      <td>lucas-wilchez</td>\n",
       "      <td>Lucas Wilchez</td>\n",
       "      <td>Real Zaragoza</td>\n",
       "      <td>Spain</td>\n",
       "      <td>31.08.1983</td>\n",
       "      <td>177.0</td>\n",
       "      <td>72.0</td>\n",
       "      <td>Attacking Midfielder</td>\n",
       "      <td>1</td>\n",
       "      <td>0</td>\n",
       "      <td>0</td>\n",
       "      <td>1</td>\n",
       "      <td>0</td>\n",
       "      <td>0</td>\n",
       "    </tr>\n",
       "    <tr>\n",
       "      <th>1</th>\n",
       "      <td>john-utaka</td>\n",
       "      <td>John Utaka</td>\n",
       "      <td>Montpellier HSC</td>\n",
       "      <td>France</td>\n",
       "      <td>08.01.1982</td>\n",
       "      <td>179.0</td>\n",
       "      <td>82.0</td>\n",
       "      <td>Right Winger</td>\n",
       "      <td>1</td>\n",
       "      <td>0</td>\n",
       "      <td>0</td>\n",
       "      <td>1</td>\n",
       "      <td>0</td>\n",
       "      <td>1</td>\n",
       "    </tr>\n",
       "    <tr>\n",
       "      <th>2</th>\n",
       "      <td>abdon-prats</td>\n",
       "      <td>Abdón Prats</td>\n",
       "      <td>RCD Mallorca</td>\n",
       "      <td>Spain</td>\n",
       "      <td>17.12.1992</td>\n",
       "      <td>181.0</td>\n",
       "      <td>79.0</td>\n",
       "      <td>NaN</td>\n",
       "      <td>1</td>\n",
       "      <td>0</td>\n",
       "      <td>1</td>\n",
       "      <td>0</td>\n",
       "      <td>0</td>\n",
       "      <td>1</td>\n",
       "    </tr>\n",
       "    <tr>\n",
       "      <th>3</th>\n",
       "      <td>pablo-mari</td>\n",
       "      <td>Pablo Marí</td>\n",
       "      <td>RCD Mallorca</td>\n",
       "      <td>Spain</td>\n",
       "      <td>31.08.1993</td>\n",
       "      <td>191.0</td>\n",
       "      <td>87.0</td>\n",
       "      <td>Center Back</td>\n",
       "      <td>1</td>\n",
       "      <td>1</td>\n",
       "      <td>0</td>\n",
       "      <td>0</td>\n",
       "      <td>0</td>\n",
       "      <td>0</td>\n",
       "    </tr>\n",
       "    <tr>\n",
       "      <th>4</th>\n",
       "      <td>ruben-pena</td>\n",
       "      <td>Rubén Peña</td>\n",
       "      <td>Real Valladolid</td>\n",
       "      <td>Spain</td>\n",
       "      <td>18.07.1991</td>\n",
       "      <td>172.0</td>\n",
       "      <td>70.0</td>\n",
       "      <td>Right Midfielder</td>\n",
       "      <td>1</td>\n",
       "      <td>1</td>\n",
       "      <td>0</td>\n",
       "      <td>0</td>\n",
       "      <td>0</td>\n",
       "      <td>0</td>\n",
       "    </tr>\n",
       "    <tr>\n",
       "      <th>5</th>\n",
       "      <td>aaron-hughes</td>\n",
       "      <td>Aaron Hughes</td>\n",
       "      <td>Fulham FC</td>\n",
       "      <td>England</td>\n",
       "      <td>08.11.1979</td>\n",
       "      <td>182.0</td>\n",
       "      <td>71.0</td>\n",
       "      <td>Center Back</td>\n",
       "      <td>1</td>\n",
       "      <td>0</td>\n",
       "      <td>0</td>\n",
       "      <td>1</td>\n",
       "      <td>0</td>\n",
       "      <td>0</td>\n",
       "    </tr>\n",
       "  </tbody>\n",
       "</table>\n",
       "</div>"
      ],
      "text/plain": [
       "     playerShort         player             club leagueCountry    birthday  \\\n",
       "0  lucas-wilchez  Lucas Wilchez    Real Zaragoza         Spain  31.08.1983   \n",
       "1     john-utaka     John Utaka  Montpellier HSC        France  08.01.1982   \n",
       "2    abdon-prats    Abdón Prats     RCD Mallorca         Spain  17.12.1992   \n",
       "3     pablo-mari     Pablo Marí     RCD Mallorca         Spain  31.08.1993   \n",
       "4     ruben-pena     Rubén Peña  Real Valladolid         Spain  18.07.1991   \n",
       "5   aaron-hughes   Aaron Hughes        Fulham FC       England  08.11.1979   \n",
       "\n",
       "   height  weight              position  games  victories  ties  defeats  \\\n",
       "0   177.0    72.0  Attacking Midfielder      1          0     0        1   \n",
       "1   179.0    82.0          Right Winger      1          0     0        1   \n",
       "2   181.0    79.0                   NaN      1          0     1        0   \n",
       "3   191.0    87.0           Center Back      1          1     0        0   \n",
       "4   172.0    70.0      Right Midfielder      1          1     0        0   \n",
       "5   182.0    71.0           Center Back      1          0     0        1   \n",
       "\n",
       "   goals  yellowCards  \n",
       "0      0            0  \n",
       "1      0            1  \n",
       "2      0            1  \n",
       "3      0            0  \n",
       "4      0            0  \n",
       "5      0            0  "
      ]
     },
     "execution_count": 3,
     "metadata": {},
     "output_type": "execute_result"
    }
   ],
   "source": [
    "soccer_data.ix[:5,:14]"
   ]
  },
  {
   "cell_type": "code",
   "execution_count": 4,
   "metadata": {
    "collapsed": false
   },
   "outputs": [
    {
     "data": {
      "text/html": [
       "<div>\n",
       "<table border=\"1\" class=\"dataframe\">\n",
       "  <thead>\n",
       "    <tr style=\"text-align: right;\">\n",
       "      <th></th>\n",
       "      <th>yellowReds</th>\n",
       "      <th>redCards</th>\n",
       "      <th>photoID</th>\n",
       "      <th>rater1</th>\n",
       "      <th>rater2</th>\n",
       "      <th>refNum</th>\n",
       "      <th>refCountry</th>\n",
       "      <th>Alpha_3</th>\n",
       "      <th>meanIAT</th>\n",
       "      <th>nIAT</th>\n",
       "      <th>seIAT</th>\n",
       "      <th>meanExp</th>\n",
       "      <th>nExp</th>\n",
       "      <th>seExp</th>\n",
       "    </tr>\n",
       "  </thead>\n",
       "  <tbody>\n",
       "    <tr>\n",
       "      <th>0</th>\n",
       "      <td>0</td>\n",
       "      <td>0</td>\n",
       "      <td>95212.jpg</td>\n",
       "      <td>0.25</td>\n",
       "      <td>0.50</td>\n",
       "      <td>1</td>\n",
       "      <td>1</td>\n",
       "      <td>GRC</td>\n",
       "      <td>0.326391</td>\n",
       "      <td>712.0</td>\n",
       "      <td>0.000564</td>\n",
       "      <td>0.396000</td>\n",
       "      <td>750.0</td>\n",
       "      <td>0.002696</td>\n",
       "    </tr>\n",
       "    <tr>\n",
       "      <th>1</th>\n",
       "      <td>0</td>\n",
       "      <td>0</td>\n",
       "      <td>1663.jpg</td>\n",
       "      <td>0.75</td>\n",
       "      <td>0.75</td>\n",
       "      <td>2</td>\n",
       "      <td>2</td>\n",
       "      <td>ZMB</td>\n",
       "      <td>0.203375</td>\n",
       "      <td>40.0</td>\n",
       "      <td>0.010875</td>\n",
       "      <td>-0.204082</td>\n",
       "      <td>49.0</td>\n",
       "      <td>0.061504</td>\n",
       "    </tr>\n",
       "    <tr>\n",
       "      <th>2</th>\n",
       "      <td>0</td>\n",
       "      <td>0</td>\n",
       "      <td>NaN</td>\n",
       "      <td>NaN</td>\n",
       "      <td>NaN</td>\n",
       "      <td>3</td>\n",
       "      <td>3</td>\n",
       "      <td>ESP</td>\n",
       "      <td>0.369894</td>\n",
       "      <td>1785.0</td>\n",
       "      <td>0.000229</td>\n",
       "      <td>0.588297</td>\n",
       "      <td>1897.0</td>\n",
       "      <td>0.001002</td>\n",
       "    </tr>\n",
       "    <tr>\n",
       "      <th>3</th>\n",
       "      <td>0</td>\n",
       "      <td>0</td>\n",
       "      <td>NaN</td>\n",
       "      <td>NaN</td>\n",
       "      <td>NaN</td>\n",
       "      <td>3</td>\n",
       "      <td>3</td>\n",
       "      <td>ESP</td>\n",
       "      <td>0.369894</td>\n",
       "      <td>1785.0</td>\n",
       "      <td>0.000229</td>\n",
       "      <td>0.588297</td>\n",
       "      <td>1897.0</td>\n",
       "      <td>0.001002</td>\n",
       "    </tr>\n",
       "    <tr>\n",
       "      <th>4</th>\n",
       "      <td>0</td>\n",
       "      <td>0</td>\n",
       "      <td>NaN</td>\n",
       "      <td>NaN</td>\n",
       "      <td>NaN</td>\n",
       "      <td>3</td>\n",
       "      <td>3</td>\n",
       "      <td>ESP</td>\n",
       "      <td>0.369894</td>\n",
       "      <td>1785.0</td>\n",
       "      <td>0.000229</td>\n",
       "      <td>0.588297</td>\n",
       "      <td>1897.0</td>\n",
       "      <td>0.001002</td>\n",
       "    </tr>\n",
       "    <tr>\n",
       "      <th>5</th>\n",
       "      <td>0</td>\n",
       "      <td>0</td>\n",
       "      <td>3868.jpg</td>\n",
       "      <td>0.25</td>\n",
       "      <td>0.00</td>\n",
       "      <td>4</td>\n",
       "      <td>4</td>\n",
       "      <td>LUX</td>\n",
       "      <td>0.325185</td>\n",
       "      <td>127.0</td>\n",
       "      <td>0.003297</td>\n",
       "      <td>0.538462</td>\n",
       "      <td>130.0</td>\n",
       "      <td>0.013752</td>\n",
       "    </tr>\n",
       "  </tbody>\n",
       "</table>\n",
       "</div>"
      ],
      "text/plain": [
       "   yellowReds  redCards    photoID  rater1  rater2  refNum  refCountry  \\\n",
       "0           0         0  95212.jpg    0.25    0.50       1           1   \n",
       "1           0         0   1663.jpg    0.75    0.75       2           2   \n",
       "2           0         0        NaN     NaN     NaN       3           3   \n",
       "3           0         0        NaN     NaN     NaN       3           3   \n",
       "4           0         0        NaN     NaN     NaN       3           3   \n",
       "5           0         0   3868.jpg    0.25    0.00       4           4   \n",
       "\n",
       "  Alpha_3   meanIAT    nIAT     seIAT   meanExp    nExp     seExp  \n",
       "0     GRC  0.326391   712.0  0.000564  0.396000   750.0  0.002696  \n",
       "1     ZMB  0.203375    40.0  0.010875 -0.204082    49.0  0.061504  \n",
       "2     ESP  0.369894  1785.0  0.000229  0.588297  1897.0  0.001002  \n",
       "3     ESP  0.369894  1785.0  0.000229  0.588297  1897.0  0.001002  \n",
       "4     ESP  0.369894  1785.0  0.000229  0.588297  1897.0  0.001002  \n",
       "5     LUX  0.325185   127.0  0.003297  0.538462   130.0  0.013752  "
      ]
     },
     "execution_count": 4,
     "metadata": {},
     "output_type": "execute_result"
    }
   ],
   "source": [
    "soccer_data.ix[:5,14:]"
   ]
  },
  {
   "cell_type": "markdown",
   "metadata": {},
   "source": [
    "For a description of each feature check out the file `DATA.md`."
   ]
  },
  {
   "cell_type": "markdown",
   "metadata": {},
   "source": [
    "# Data Cleaning"
   ]
  },
  {
   "cell_type": "markdown",
   "metadata": {},
   "source": [
    "Let's first clean the data a bit. The first thing we can do is drop those entries which have no rating for the skin color as we will not be able to do any training with this data or even evaluate our classifier with such entries."
   ]
  },
  {
   "cell_type": "code",
   "execution_count": 5,
   "metadata": {
    "collapsed": false
   },
   "outputs": [
    {
     "data": {
      "text/plain": [
       "21407"
      ]
     },
     "execution_count": 5,
     "metadata": {},
     "output_type": "execute_result"
    }
   ],
   "source": [
    "soccer_data_clean = soccer_data[~soccer_data.photoID.isnull()]\n",
    "soccer_data.shape[0] - soccer_data_clean.shape[0] # number of dropped players"
   ]
  },
  {
   "cell_type": "markdown",
   "metadata": {},
   "source": [
    "21407 entries have been dropped! The given data has an inconvenient structure for our analysis: each row is a _dyad_, which has a single player-referee interaction. This means that if a player has played games with more than 1 referee, that player will have several rows in this dataset. For example, let's look at everyone's favorite googly-eyed German: Mesut Ozil."
   ]
  },
  {
   "cell_type": "code",
   "execution_count": 7,
   "metadata": {
    "collapsed": false
   },
   "outputs": [
    {
     "data": {
      "text/html": [
       "<div>\n",
       "<table border=\"1\" class=\"dataframe\">\n",
       "  <thead>\n",
       "    <tr style=\"text-align: right;\">\n",
       "      <th></th>\n",
       "      <th>playerShort</th>\n",
       "      <th>player</th>\n",
       "      <th>club</th>\n",
       "      <th>leagueCountry</th>\n",
       "      <th>birthday</th>\n",
       "      <th>height</th>\n",
       "      <th>weight</th>\n",
       "      <th>position</th>\n",
       "      <th>games</th>\n",
       "      <th>victories</th>\n",
       "      <th>...</th>\n",
       "      <th>rater2</th>\n",
       "      <th>refNum</th>\n",
       "      <th>refCountry</th>\n",
       "      <th>Alpha_3</th>\n",
       "      <th>meanIAT</th>\n",
       "      <th>nIAT</th>\n",
       "      <th>seIAT</th>\n",
       "      <th>meanExp</th>\n",
       "      <th>nExp</th>\n",
       "      <th>seExp</th>\n",
       "    </tr>\n",
       "  </thead>\n",
       "  <tbody>\n",
       "    <tr>\n",
       "      <th>26</th>\n",
       "      <td>mesut-oezil</td>\n",
       "      <td>Mesut Özil</td>\n",
       "      <td>Real Madrid</td>\n",
       "      <td>Spain</td>\n",
       "      <td>15.10.1988</td>\n",
       "      <td>183.0</td>\n",
       "      <td>76.0</td>\n",
       "      <td>Attacking Midfielder</td>\n",
       "      <td>1</td>\n",
       "      <td>1</td>\n",
       "      <td>...</td>\n",
       "      <td>0.25</td>\n",
       "      <td>4</td>\n",
       "      <td>4</td>\n",
       "      <td>LUX</td>\n",
       "      <td>0.325185</td>\n",
       "      <td>127.0</td>\n",
       "      <td>0.003297</td>\n",
       "      <td>0.538462</td>\n",
       "      <td>130.0</td>\n",
       "      <td>0.013752</td>\n",
       "    </tr>\n",
       "    <tr>\n",
       "      <th>1051</th>\n",
       "      <td>mesut-oezil</td>\n",
       "      <td>Mesut Özil</td>\n",
       "      <td>Real Madrid</td>\n",
       "      <td>Spain</td>\n",
       "      <td>15.10.1988</td>\n",
       "      <td>183.0</td>\n",
       "      <td>76.0</td>\n",
       "      <td>Attacking Midfielder</td>\n",
       "      <td>1</td>\n",
       "      <td>1</td>\n",
       "      <td>...</td>\n",
       "      <td>0.25</td>\n",
       "      <td>66</td>\n",
       "      <td>4</td>\n",
       "      <td>LUX</td>\n",
       "      <td>0.325185</td>\n",
       "      <td>127.0</td>\n",
       "      <td>0.003297</td>\n",
       "      <td>0.538462</td>\n",
       "      <td>130.0</td>\n",
       "      <td>0.013752</td>\n",
       "    </tr>\n",
       "    <tr>\n",
       "      <th>1773</th>\n",
       "      <td>mesut-oezil</td>\n",
       "      <td>Mesut Özil</td>\n",
       "      <td>Real Madrid</td>\n",
       "      <td>Spain</td>\n",
       "      <td>15.10.1988</td>\n",
       "      <td>183.0</td>\n",
       "      <td>76.0</td>\n",
       "      <td>Attacking Midfielder</td>\n",
       "      <td>2</td>\n",
       "      <td>2</td>\n",
       "      <td>...</td>\n",
       "      <td>0.25</td>\n",
       "      <td>72</td>\n",
       "      <td>28</td>\n",
       "      <td>IRL</td>\n",
       "      <td>0.355498</td>\n",
       "      <td>4078.0</td>\n",
       "      <td>0.000098</td>\n",
       "      <td>0.517225</td>\n",
       "      <td>4238.0</td>\n",
       "      <td>0.000405</td>\n",
       "    </tr>\n",
       "    <tr>\n",
       "      <th>2852</th>\n",
       "      <td>mesut-oezil</td>\n",
       "      <td>Mesut Özil</td>\n",
       "      <td>Real Madrid</td>\n",
       "      <td>Spain</td>\n",
       "      <td>15.10.1988</td>\n",
       "      <td>183.0</td>\n",
       "      <td>76.0</td>\n",
       "      <td>Attacking Midfielder</td>\n",
       "      <td>14</td>\n",
       "      <td>11</td>\n",
       "      <td>...</td>\n",
       "      <td>0.25</td>\n",
       "      <td>88</td>\n",
       "      <td>3</td>\n",
       "      <td>ESP</td>\n",
       "      <td>0.369894</td>\n",
       "      <td>1785.0</td>\n",
       "      <td>0.000229</td>\n",
       "      <td>0.588297</td>\n",
       "      <td>1897.0</td>\n",
       "      <td>0.001002</td>\n",
       "    </tr>\n",
       "    <tr>\n",
       "      <th>3407</th>\n",
       "      <td>mesut-oezil</td>\n",
       "      <td>Mesut Özil</td>\n",
       "      <td>Real Madrid</td>\n",
       "      <td>Spain</td>\n",
       "      <td>15.10.1988</td>\n",
       "      <td>183.0</td>\n",
       "      <td>76.0</td>\n",
       "      <td>Attacking Midfielder</td>\n",
       "      <td>1</td>\n",
       "      <td>0</td>\n",
       "      <td>...</td>\n",
       "      <td>0.25</td>\n",
       "      <td>94</td>\n",
       "      <td>3</td>\n",
       "      <td>ESP</td>\n",
       "      <td>0.369894</td>\n",
       "      <td>1785.0</td>\n",
       "      <td>0.000229</td>\n",
       "      <td>0.588297</td>\n",
       "      <td>1897.0</td>\n",
       "      <td>0.001002</td>\n",
       "    </tr>\n",
       "  </tbody>\n",
       "</table>\n",
       "<p>5 rows × 28 columns</p>\n",
       "</div>"
      ],
      "text/plain": [
       "      playerShort      player         club leagueCountry    birthday  height  \\\n",
       "26    mesut-oezil  Mesut Özil  Real Madrid         Spain  15.10.1988   183.0   \n",
       "1051  mesut-oezil  Mesut Özil  Real Madrid         Spain  15.10.1988   183.0   \n",
       "1773  mesut-oezil  Mesut Özil  Real Madrid         Spain  15.10.1988   183.0   \n",
       "2852  mesut-oezil  Mesut Özil  Real Madrid         Spain  15.10.1988   183.0   \n",
       "3407  mesut-oezil  Mesut Özil  Real Madrid         Spain  15.10.1988   183.0   \n",
       "\n",
       "      weight              position  games  victories    ...     rater2  \\\n",
       "26      76.0  Attacking Midfielder      1          1    ...       0.25   \n",
       "1051    76.0  Attacking Midfielder      1          1    ...       0.25   \n",
       "1773    76.0  Attacking Midfielder      2          2    ...       0.25   \n",
       "2852    76.0  Attacking Midfielder     14         11    ...       0.25   \n",
       "3407    76.0  Attacking Midfielder      1          0    ...       0.25   \n",
       "\n",
       "      refNum  refCountry  Alpha_3   meanIAT    nIAT     seIAT   meanExp  \\\n",
       "26         4           4      LUX  0.325185   127.0  0.003297  0.538462   \n",
       "1051      66           4      LUX  0.325185   127.0  0.003297  0.538462   \n",
       "1773      72          28      IRL  0.355498  4078.0  0.000098  0.517225   \n",
       "2852      88           3      ESP  0.369894  1785.0  0.000229  0.588297   \n",
       "3407      94           3      ESP  0.369894  1785.0  0.000229  0.588297   \n",
       "\n",
       "        nExp     seExp  \n",
       "26     130.0  0.013752  \n",
       "1051   130.0  0.013752  \n",
       "1773  4238.0  0.000405  \n",
       "2852  1897.0  0.001002  \n",
       "3407  1897.0  0.001002  \n",
       "\n",
       "[5 rows x 28 columns]"
      ]
     },
     "execution_count": 7,
     "metadata": {},
     "output_type": "execute_result"
    }
   ],
   "source": [
    "soccer_data_clean[(soccer_data_clean.playerShort == \"mesut-oezil\")][:5]"
   ]
  },
  {
   "cell_type": "markdown",
   "metadata": {},
   "source": [
    "As we can see certain _features_ of a player stay the same, e.g. his name, his height, and his weight. We will also assume that `club` and `leagueCountry` also stay the same during the player's career as is done in this dataset (I check with Zlatan Ibrahimovic who has gone between multiple clubs but the only one listed for him was PSG). Some other variables depend on the referee (see table below).\n",
    "\n",
    "In the first exercise, we would like to predict the skin color of a player given his description and the second exercise asks to \"aggregate the referee information grouping by soccer player\". Therefore, we will have to perform some careful aggregation with those variables that depend on the referee. The table below describes how we will deal with each feature when performing aggregation.\n",
    "\n",
    "| Feature  | Process  | Reason/Assumption  |\n",
    "|---|---|---|\n",
    "| _playerShort_  | Keep first  | Unique for player  |\n",
    "| _player_  | Keep first  | Unique for player  |\n",
    "| _club_  | Keep first  | Assuming player stays in same team  |\n",
    "| _leagueCountry_  | Keep first  | Assumping player stays in same team  |\n",
    "| _birthday_  | Keep first  | Unique for player  |\n",
    "| _height_  | Keep first  | Assuming player does not grow or have a significant height increase during a single season.  |\n",
    "| _weight_  | Keep first  | Assuming player does gain a significant amount of weight during a single season.  |\n",
    "| _position_  | Keep first  | Assuming players has the same position during a single season.  |\n",
    "| _games_  | Sum over rows  | Yields total number of games during the 2012/2013 season.  |\n",
    "| _victories_  | Sum over rows  | Yields total number of victories.   |\n",
    "| _ties_  | Sum over rows  | Yields total number of ties.  |\n",
    "| _defeats_  | Sum over rows  | Yields total number of defeats.  |\n",
    "| _goals_  | Sum over rows  | Yields total number of goals.  |\n",
    "| _yellowCards_  | Sum over rows  | Yields total number of yellow cards.  |\n",
    "| _yellowReds_  | Sum over rows  | Yields total number of red cards obtained by two yellow cards.  |\n",
    "| _redCards_  | Sum over rows  | Yields total number of straight red cards.  |\n",
    "| _photoID_  | Disregard  | Not needed the photo ID for our analysis.  |\n",
    "| _rater1_  | Keep first  | Unique for player  |\n",
    "| _rater2_  | Keep first  | Unique for player  |\n",
    "| _refNum_  | Disregard  | Purpose of aggregation is to remove \"relationship\" with a particular referee.   |\n",
    "| _refCountry_  | Disregard  | Purpose of aggregation is to remove \"relationship\" with a particular referee.  |\n",
    "| <em>Alpha\\_3</em>  | Disregard  | As it is another representation of the referee's country, we will also disregard this.  |\n",
    "| _meanIAT_  | Disregard  | Computing weighted average.  |\n",
    "| _nIAT_  | Disregard  | We do not believe this will help with the classification.  |\n",
    "| _seIAT_  | Disregard  | We do not believe this will help with the classification.  |\n",
    "| _meanExp_  | Disregard  | Computing weighted average.  |\n",
    "| _nExp_  |  Disregard | We do not believe this will help with the classification.  |\n",
    "| _seExp_  | Disregard  | We do not believe this will help with the classification.  |"
   ]
  },
  {
   "cell_type": "markdown",
   "metadata": {},
   "source": [
    "First we will create a new DataFrame with `playerShort` as the index and we will sum over the necesary features/columns."
   ]
  },
  {
   "cell_type": "code",
   "execution_count": 6,
   "metadata": {
    "collapsed": false
   },
   "outputs": [
    {
     "data": {
      "text/html": [
       "<div>\n",
       "<table border=\"1\" class=\"dataframe\">\n",
       "  <thead>\n",
       "    <tr style=\"text-align: right;\">\n",
       "      <th></th>\n",
       "      <th>games</th>\n",
       "      <th>victories</th>\n",
       "      <th>ties</th>\n",
       "      <th>defeats</th>\n",
       "      <th>goals</th>\n",
       "      <th>yellowCards</th>\n",
       "      <th>yellowReds</th>\n",
       "      <th>redCards</th>\n",
       "    </tr>\n",
       "    <tr>\n",
       "      <th>playerShort</th>\n",
       "      <th></th>\n",
       "      <th></th>\n",
       "      <th></th>\n",
       "      <th></th>\n",
       "      <th></th>\n",
       "      <th></th>\n",
       "      <th></th>\n",
       "      <th></th>\n",
       "    </tr>\n",
       "  </thead>\n",
       "  <tbody>\n",
       "    <tr>\n",
       "      <th>aaron-hughes</th>\n",
       "      <td>654</td>\n",
       "      <td>247</td>\n",
       "      <td>179</td>\n",
       "      <td>228</td>\n",
       "      <td>9</td>\n",
       "      <td>19</td>\n",
       "      <td>0</td>\n",
       "      <td>0</td>\n",
       "    </tr>\n",
       "    <tr>\n",
       "      <th>aaron-hunt</th>\n",
       "      <td>336</td>\n",
       "      <td>141</td>\n",
       "      <td>73</td>\n",
       "      <td>122</td>\n",
       "      <td>62</td>\n",
       "      <td>42</td>\n",
       "      <td>0</td>\n",
       "      <td>1</td>\n",
       "    </tr>\n",
       "    <tr>\n",
       "      <th>aaron-lennon</th>\n",
       "      <td>412</td>\n",
       "      <td>200</td>\n",
       "      <td>97</td>\n",
       "      <td>115</td>\n",
       "      <td>31</td>\n",
       "      <td>11</td>\n",
       "      <td>0</td>\n",
       "      <td>0</td>\n",
       "    </tr>\n",
       "    <tr>\n",
       "      <th>aaron-ramsey</th>\n",
       "      <td>260</td>\n",
       "      <td>150</td>\n",
       "      <td>42</td>\n",
       "      <td>68</td>\n",
       "      <td>39</td>\n",
       "      <td>31</td>\n",
       "      <td>0</td>\n",
       "      <td>1</td>\n",
       "    </tr>\n",
       "    <tr>\n",
       "      <th>abdelhamid-el-kaoutari</th>\n",
       "      <td>124</td>\n",
       "      <td>41</td>\n",
       "      <td>40</td>\n",
       "      <td>43</td>\n",
       "      <td>1</td>\n",
       "      <td>8</td>\n",
       "      <td>4</td>\n",
       "      <td>2</td>\n",
       "    </tr>\n",
       "  </tbody>\n",
       "</table>\n",
       "</div>"
      ],
      "text/plain": [
       "                        games  victories  ties  defeats  goals  yellowCards  \\\n",
       "playerShort                                                                   \n",
       "aaron-hughes              654        247   179      228      9           19   \n",
       "aaron-hunt                336        141    73      122     62           42   \n",
       "aaron-lennon              412        200    97      115     31           11   \n",
       "aaron-ramsey              260        150    42       68     39           31   \n",
       "abdelhamid-el-kaoutari    124         41    40       43      1            8   \n",
       "\n",
       "                        yellowReds  redCards  \n",
       "playerShort                                   \n",
       "aaron-hughes                     0         0  \n",
       "aaron-hunt                       0         1  \n",
       "aaron-lennon                     0         0  \n",
       "aaron-ramsey                     0         1  \n",
       "abdelhamid-el-kaoutari           4         2  "
      ]
     },
     "execution_count": 6,
     "metadata": {},
     "output_type": "execute_result"
    }
   ],
   "source": [
    "player_groups = soccer_data_clean.groupby(\"playerShort\")\n",
    "data_agg = player_groups[[\"games\", \"victories\",\"ties\",\"defeats\",\"goals\",\"yellowCards\",\"yellowReds\",\"redCards\"]].aggregate(np.sum)\n",
    "data_agg.head()"
   ]
  },
  {
   "cell_type": "markdown",
   "metadata": {},
   "source": [
    "Now we will create a weighted sum of the mean implicit (IAT) and explicit (Exp) bias scores. Although such data is describing the referee and not the players, when we also take into account the number of cards a certain player received it could give some information on how a player might have been discriminated against."
   ]
  },
  {
   "cell_type": "code",
   "execution_count": 7,
   "metadata": {
    "collapsed": false
   },
   "outputs": [
    {
     "data": {
      "text/html": [
       "<div>\n",
       "<table border=\"1\" class=\"dataframe\">\n",
       "  <thead>\n",
       "    <tr style=\"text-align: right;\">\n",
       "      <th></th>\n",
       "      <th>games</th>\n",
       "      <th>victories</th>\n",
       "      <th>ties</th>\n",
       "      <th>defeats</th>\n",
       "      <th>goals</th>\n",
       "      <th>yellowCards</th>\n",
       "      <th>yellowReds</th>\n",
       "      <th>redCards</th>\n",
       "      <th>weightedIAT</th>\n",
       "      <th>weightedExp</th>\n",
       "    </tr>\n",
       "    <tr>\n",
       "      <th>playerShort</th>\n",
       "      <th></th>\n",
       "      <th></th>\n",
       "      <th></th>\n",
       "      <th></th>\n",
       "      <th></th>\n",
       "      <th></th>\n",
       "      <th></th>\n",
       "      <th></th>\n",
       "      <th></th>\n",
       "      <th></th>\n",
       "    </tr>\n",
       "  </thead>\n",
       "  <tbody>\n",
       "    <tr>\n",
       "      <th>aaron-hughes</th>\n",
       "      <td>654</td>\n",
       "      <td>247</td>\n",
       "      <td>179</td>\n",
       "      <td>228</td>\n",
       "      <td>9</td>\n",
       "      <td>19</td>\n",
       "      <td>0</td>\n",
       "      <td>0</td>\n",
       "      <td>0.333195</td>\n",
       "      <td>0.400637</td>\n",
       "    </tr>\n",
       "    <tr>\n",
       "      <th>aaron-hunt</th>\n",
       "      <td>336</td>\n",
       "      <td>141</td>\n",
       "      <td>73</td>\n",
       "      <td>122</td>\n",
       "      <td>62</td>\n",
       "      <td>42</td>\n",
       "      <td>0</td>\n",
       "      <td>1</td>\n",
       "      <td>0.341438</td>\n",
       "      <td>0.380811</td>\n",
       "    </tr>\n",
       "    <tr>\n",
       "      <th>aaron-lennon</th>\n",
       "      <td>412</td>\n",
       "      <td>200</td>\n",
       "      <td>97</td>\n",
       "      <td>115</td>\n",
       "      <td>31</td>\n",
       "      <td>11</td>\n",
       "      <td>0</td>\n",
       "      <td>0</td>\n",
       "      <td>0.332389</td>\n",
       "      <td>0.399459</td>\n",
       "    </tr>\n",
       "    <tr>\n",
       "      <th>aaron-ramsey</th>\n",
       "      <td>260</td>\n",
       "      <td>150</td>\n",
       "      <td>42</td>\n",
       "      <td>68</td>\n",
       "      <td>39</td>\n",
       "      <td>31</td>\n",
       "      <td>0</td>\n",
       "      <td>1</td>\n",
       "      <td>0.336638</td>\n",
       "      <td>0.433294</td>\n",
       "    </tr>\n",
       "    <tr>\n",
       "      <th>abdelhamid-el-kaoutari</th>\n",
       "      <td>124</td>\n",
       "      <td>41</td>\n",
       "      <td>40</td>\n",
       "      <td>43</td>\n",
       "      <td>1</td>\n",
       "      <td>8</td>\n",
       "      <td>4</td>\n",
       "      <td>2</td>\n",
       "      <td>0.331882</td>\n",
       "      <td>0.328895</td>\n",
       "    </tr>\n",
       "  </tbody>\n",
       "</table>\n",
       "</div>"
      ],
      "text/plain": [
       "                        games  victories  ties  defeats  goals  yellowCards  \\\n",
       "playerShort                                                                   \n",
       "aaron-hughes              654        247   179      228      9           19   \n",
       "aaron-hunt                336        141    73      122     62           42   \n",
       "aaron-lennon              412        200    97      115     31           11   \n",
       "aaron-ramsey              260        150    42       68     39           31   \n",
       "abdelhamid-el-kaoutari    124         41    40       43      1            8   \n",
       "\n",
       "                        yellowReds  redCards  weightedIAT  weightedExp  \n",
       "playerShort                                                             \n",
       "aaron-hughes                     0         0     0.333195     0.400637  \n",
       "aaron-hunt                       0         1     0.341438     0.380811  \n",
       "aaron-lennon                     0         0     0.332389     0.399459  \n",
       "aaron-ramsey                     0         1     0.336638     0.433294  \n",
       "abdelhamid-el-kaoutari           4         2     0.331882     0.328895  "
      ]
     },
     "execution_count": 7,
     "metadata": {},
     "output_type": "execute_result"
    }
   ],
   "source": [
    "ref_bias = soccer_data_clean[[\"playerShort\", \"games\",\"meanIAT\",\"meanExp\"]].groupby(\"playerShort\")\n",
    "# weighted sum of mean IAT and Exp scores\n",
    "def weighted_average(group, feature):\n",
    "    weights = group['games']\n",
    "    total_games = weights.sum()\n",
    "    scores = group[feature]\n",
    "    return (scores * weights).sum() / total_games\n",
    "data_agg[\"weightedIAT\"] = ref_bias.apply(weighted_average, 'meanIAT')   \n",
    "data_agg[\"weightedExp\"] = ref_bias.apply(weighted_average, 'meanExp') \n",
    "data_agg.head()"
   ]
  },
  {
   "cell_type": "markdown",
   "metadata": {},
   "source": [
    "We will also create a feature that contains the number of unique referees which gave each card type. Perhaps one referee was really biased towards a certain player."
   ]
  },
  {
   "cell_type": "code",
   "execution_count": 8,
   "metadata": {
    "collapsed": false
   },
   "outputs": [
    {
     "data": {
      "text/html": [
       "<div>\n",
       "<table border=\"1\" class=\"dataframe\">\n",
       "  <thead>\n",
       "    <tr style=\"text-align: right;\">\n",
       "      <th></th>\n",
       "      <th>games</th>\n",
       "      <th>victories</th>\n",
       "      <th>ties</th>\n",
       "      <th>defeats</th>\n",
       "      <th>goals</th>\n",
       "      <th>yellowCards</th>\n",
       "      <th>yellowReds</th>\n",
       "      <th>redCards</th>\n",
       "      <th>weightedIAT</th>\n",
       "      <th>weightedExp</th>\n",
       "      <th>uniqueYellow</th>\n",
       "      <th>uniqueYellowReds</th>\n",
       "      <th>uniqueReds</th>\n",
       "      <th>uniqueRefCards</th>\n",
       "    </tr>\n",
       "    <tr>\n",
       "      <th>playerShort</th>\n",
       "      <th></th>\n",
       "      <th></th>\n",
       "      <th></th>\n",
       "      <th></th>\n",
       "      <th></th>\n",
       "      <th></th>\n",
       "      <th></th>\n",
       "      <th></th>\n",
       "      <th></th>\n",
       "      <th></th>\n",
       "      <th></th>\n",
       "      <th></th>\n",
       "      <th></th>\n",
       "      <th></th>\n",
       "    </tr>\n",
       "  </thead>\n",
       "  <tbody>\n",
       "    <tr>\n",
       "      <th>aaron-hughes</th>\n",
       "      <td>654</td>\n",
       "      <td>247</td>\n",
       "      <td>179</td>\n",
       "      <td>228</td>\n",
       "      <td>9</td>\n",
       "      <td>19</td>\n",
       "      <td>0</td>\n",
       "      <td>0</td>\n",
       "      <td>0.333195</td>\n",
       "      <td>0.400637</td>\n",
       "      <td>16</td>\n",
       "      <td>0</td>\n",
       "      <td>0</td>\n",
       "      <td>16</td>\n",
       "    </tr>\n",
       "    <tr>\n",
       "      <th>aaron-hunt</th>\n",
       "      <td>336</td>\n",
       "      <td>141</td>\n",
       "      <td>73</td>\n",
       "      <td>122</td>\n",
       "      <td>62</td>\n",
       "      <td>42</td>\n",
       "      <td>0</td>\n",
       "      <td>1</td>\n",
       "      <td>0.341438</td>\n",
       "      <td>0.380811</td>\n",
       "      <td>29</td>\n",
       "      <td>0</td>\n",
       "      <td>1</td>\n",
       "      <td>29</td>\n",
       "    </tr>\n",
       "    <tr>\n",
       "      <th>aaron-lennon</th>\n",
       "      <td>412</td>\n",
       "      <td>200</td>\n",
       "      <td>97</td>\n",
       "      <td>115</td>\n",
       "      <td>31</td>\n",
       "      <td>11</td>\n",
       "      <td>0</td>\n",
       "      <td>0</td>\n",
       "      <td>0.332389</td>\n",
       "      <td>0.399459</td>\n",
       "      <td>10</td>\n",
       "      <td>0</td>\n",
       "      <td>0</td>\n",
       "      <td>10</td>\n",
       "    </tr>\n",
       "    <tr>\n",
       "      <th>aaron-ramsey</th>\n",
       "      <td>260</td>\n",
       "      <td>150</td>\n",
       "      <td>42</td>\n",
       "      <td>68</td>\n",
       "      <td>39</td>\n",
       "      <td>31</td>\n",
       "      <td>0</td>\n",
       "      <td>1</td>\n",
       "      <td>0.336638</td>\n",
       "      <td>0.433294</td>\n",
       "      <td>25</td>\n",
       "      <td>0</td>\n",
       "      <td>1</td>\n",
       "      <td>26</td>\n",
       "    </tr>\n",
       "    <tr>\n",
       "      <th>abdelhamid-el-kaoutari</th>\n",
       "      <td>124</td>\n",
       "      <td>41</td>\n",
       "      <td>40</td>\n",
       "      <td>43</td>\n",
       "      <td>1</td>\n",
       "      <td>8</td>\n",
       "      <td>4</td>\n",
       "      <td>2</td>\n",
       "      <td>0.331882</td>\n",
       "      <td>0.328895</td>\n",
       "      <td>8</td>\n",
       "      <td>4</td>\n",
       "      <td>2</td>\n",
       "      <td>13</td>\n",
       "    </tr>\n",
       "  </tbody>\n",
       "</table>\n",
       "</div>"
      ],
      "text/plain": [
       "                        games  victories  ties  defeats  goals  yellowCards  \\\n",
       "playerShort                                                                   \n",
       "aaron-hughes              654        247   179      228      9           19   \n",
       "aaron-hunt                336        141    73      122     62           42   \n",
       "aaron-lennon              412        200    97      115     31           11   \n",
       "aaron-ramsey              260        150    42       68     39           31   \n",
       "abdelhamid-el-kaoutari    124         41    40       43      1            8   \n",
       "\n",
       "                        yellowReds  redCards  weightedIAT  weightedExp  \\\n",
       "playerShort                                                              \n",
       "aaron-hughes                     0         0     0.333195     0.400637   \n",
       "aaron-hunt                       0         1     0.341438     0.380811   \n",
       "aaron-lennon                     0         0     0.332389     0.399459   \n",
       "aaron-ramsey                     0         1     0.336638     0.433294   \n",
       "abdelhamid-el-kaoutari           4         2     0.331882     0.328895   \n",
       "\n",
       "                        uniqueYellow  uniqueYellowReds  uniqueReds  \\\n",
       "playerShort                                                          \n",
       "aaron-hughes                      16                 0           0   \n",
       "aaron-hunt                        29                 0           1   \n",
       "aaron-lennon                      10                 0           0   \n",
       "aaron-ramsey                      25                 0           1   \n",
       "abdelhamid-el-kaoutari             8                 4           2   \n",
       "\n",
       "                        uniqueRefCards  \n",
       "playerShort                             \n",
       "aaron-hughes                        16  \n",
       "aaron-hunt                          29  \n",
       "aaron-lennon                        10  \n",
       "aaron-ramsey                        26  \n",
       "abdelhamid-el-kaoutari              13  "
      ]
     },
     "execution_count": 8,
     "metadata": {},
     "output_type": "execute_result"
    }
   ],
   "source": [
    "# count number of non-zero entries, i.e. number of unique referees who have given the card\n",
    "def num_unique_ref_card(group, card_type):\n",
    "    ref_card = group[card_type]\n",
    "    return (ref_card!=0).sum()\n",
    "\n",
    "# count number of unique referees that have given a card to a particular player\n",
    "def num_unique_ref(group):\n",
    "    ref_cards = group['yellowCards']+group['yellowReds']+group['redCards']\n",
    "    return (ref_cards!=0).sum()\n",
    "\n",
    "data_agg['uniqueYellow'] = player_groups.apply(num_unique_ref_card, 'yellowCards')\n",
    "data_agg['uniqueYellowReds'] = player_groups.apply(num_unique_ref_card, 'yellowReds')\n",
    "data_agg['uniqueReds'] = player_groups.apply(num_unique_ref_card, 'redCards')\n",
    "data_agg['uniqueRefCards'] = player_groups.apply(num_unique_ref)\n",
    "data_agg.head()"
   ]
  },
  {
   "cell_type": "code",
   "execution_count": 9,
   "metadata": {
    "collapsed": false
   },
   "outputs": [
    {
     "data": {
      "text/html": [
       "<div>\n",
       "<table border=\"1\" class=\"dataframe\">\n",
       "  <thead>\n",
       "    <tr style=\"text-align: right;\">\n",
       "      <th></th>\n",
       "      <th>games</th>\n",
       "      <th>victories</th>\n",
       "      <th>ties</th>\n",
       "      <th>defeats</th>\n",
       "      <th>goals</th>\n",
       "      <th>yellowCards</th>\n",
       "      <th>yellowReds</th>\n",
       "      <th>redCards</th>\n",
       "      <th>weightedIAT</th>\n",
       "      <th>weightedExp</th>\n",
       "      <th>uniqueYellow</th>\n",
       "      <th>uniqueYellowReds</th>\n",
       "      <th>uniqueReds</th>\n",
       "      <th>uniqueRefCards</th>\n",
       "    </tr>\n",
       "    <tr>\n",
       "      <th>playerShort</th>\n",
       "      <th></th>\n",
       "      <th></th>\n",
       "      <th></th>\n",
       "      <th></th>\n",
       "      <th></th>\n",
       "      <th></th>\n",
       "      <th></th>\n",
       "      <th></th>\n",
       "      <th></th>\n",
       "      <th></th>\n",
       "      <th></th>\n",
       "      <th></th>\n",
       "      <th></th>\n",
       "      <th></th>\n",
       "    </tr>\n",
       "  </thead>\n",
       "  <tbody>\n",
       "    <tr>\n",
       "      <th>zoltan-gera</th>\n",
       "      <td>392</td>\n",
       "      <td>150</td>\n",
       "      <td>96</td>\n",
       "      <td>146</td>\n",
       "      <td>71</td>\n",
       "      <td>44</td>\n",
       "      <td>1</td>\n",
       "      <td>1</td>\n",
       "      <td>0.336001</td>\n",
       "      <td>0.417374</td>\n",
       "      <td>35</td>\n",
       "      <td>1</td>\n",
       "      <td>1</td>\n",
       "      <td>37</td>\n",
       "    </tr>\n",
       "    <tr>\n",
       "      <th>zoltan-stieber</th>\n",
       "      <td>142</td>\n",
       "      <td>48</td>\n",
       "      <td>37</td>\n",
       "      <td>57</td>\n",
       "      <td>27</td>\n",
       "      <td>12</td>\n",
       "      <td>0</td>\n",
       "      <td>0</td>\n",
       "      <td>0.336786</td>\n",
       "      <td>0.345085</td>\n",
       "      <td>12</td>\n",
       "      <td>0</td>\n",
       "      <td>0</td>\n",
       "      <td>12</td>\n",
       "    </tr>\n",
       "    <tr>\n",
       "      <th>zoumana-camara</th>\n",
       "      <td>395</td>\n",
       "      <td>148</td>\n",
       "      <td>117</td>\n",
       "      <td>130</td>\n",
       "      <td>7</td>\n",
       "      <td>46</td>\n",
       "      <td>2</td>\n",
       "      <td>6</td>\n",
       "      <td>0.338068</td>\n",
       "      <td>0.363993</td>\n",
       "      <td>30</td>\n",
       "      <td>2</td>\n",
       "      <td>6</td>\n",
       "      <td>33</td>\n",
       "    </tr>\n",
       "    <tr>\n",
       "      <th>zubikarai</th>\n",
       "      <td>47</td>\n",
       "      <td>14</td>\n",
       "      <td>15</td>\n",
       "      <td>18</td>\n",
       "      <td>0</td>\n",
       "      <td>2</td>\n",
       "      <td>0</td>\n",
       "      <td>2</td>\n",
       "      <td>0.369270</td>\n",
       "      <td>0.590521</td>\n",
       "      <td>2</td>\n",
       "      <td>0</td>\n",
       "      <td>2</td>\n",
       "      <td>4</td>\n",
       "    </tr>\n",
       "    <tr>\n",
       "      <th>zurutuza</th>\n",
       "      <td>160</td>\n",
       "      <td>68</td>\n",
       "      <td>39</td>\n",
       "      <td>53</td>\n",
       "      <td>12</td>\n",
       "      <td>22</td>\n",
       "      <td>0</td>\n",
       "      <td>0</td>\n",
       "      <td>0.368915</td>\n",
       "      <td>0.588902</td>\n",
       "      <td>16</td>\n",
       "      <td>0</td>\n",
       "      <td>0</td>\n",
       "      <td>16</td>\n",
       "    </tr>\n",
       "  </tbody>\n",
       "</table>\n",
       "</div>"
      ],
      "text/plain": [
       "                games  victories  ties  defeats  goals  yellowCards  \\\n",
       "playerShort                                                           \n",
       "zoltan-gera       392        150    96      146     71           44   \n",
       "zoltan-stieber    142         48    37       57     27           12   \n",
       "zoumana-camara    395        148   117      130      7           46   \n",
       "zubikarai          47         14    15       18      0            2   \n",
       "zurutuza          160         68    39       53     12           22   \n",
       "\n",
       "                yellowReds  redCards  weightedIAT  weightedExp  uniqueYellow  \\\n",
       "playerShort                                                                    \n",
       "zoltan-gera              1         1     0.336001     0.417374            35   \n",
       "zoltan-stieber           0         0     0.336786     0.345085            12   \n",
       "zoumana-camara           2         6     0.338068     0.363993            30   \n",
       "zubikarai                0         2     0.369270     0.590521             2   \n",
       "zurutuza                 0         0     0.368915     0.588902            16   \n",
       "\n",
       "                uniqueYellowReds  uniqueReds  uniqueRefCards  \n",
       "playerShort                                                   \n",
       "zoltan-gera                    1           1              37  \n",
       "zoltan-stieber                 0           0              12  \n",
       "zoumana-camara                 2           6              33  \n",
       "zubikarai                      0           2               4  \n",
       "zurutuza                       0           0              16  "
      ]
     },
     "execution_count": 9,
     "metadata": {},
     "output_type": "execute_result"
    }
   ],
   "source": [
    "data_agg.tail()"
   ]
  },
  {
   "cell_type": "markdown",
   "metadata": {},
   "source": [
    "Now we need to extract the features of a player that are constant: Name, Height, Weight, Birthday, Position and Skin Color ratings, Club, Country of the League."
   ]
  },
  {
   "cell_type": "code",
   "execution_count": 11,
   "metadata": {
    "collapsed": false
   },
   "outputs": [
    {
     "data": {
      "text/html": [
       "<div>\n",
       "<table border=\"1\" class=\"dataframe\">\n",
       "  <thead>\n",
       "    <tr style=\"text-align: right;\">\n",
       "      <th></th>\n",
       "      <th>games</th>\n",
       "      <th>victories</th>\n",
       "      <th>ties</th>\n",
       "      <th>defeats</th>\n",
       "      <th>goals</th>\n",
       "      <th>yellowCards</th>\n",
       "      <th>yellowReds</th>\n",
       "      <th>redCards</th>\n",
       "      <th>weightedIAT</th>\n",
       "      <th>weightedExp</th>\n",
       "      <th>uniqueYellow</th>\n",
       "      <th>uniqueYellowReds</th>\n",
       "      <th>uniqueReds</th>\n",
       "      <th>uniqueRefCards</th>\n",
       "    </tr>\n",
       "    <tr>\n",
       "      <th>playerShort</th>\n",
       "      <th></th>\n",
       "      <th></th>\n",
       "      <th></th>\n",
       "      <th></th>\n",
       "      <th></th>\n",
       "      <th></th>\n",
       "      <th></th>\n",
       "      <th></th>\n",
       "      <th></th>\n",
       "      <th></th>\n",
       "      <th></th>\n",
       "      <th></th>\n",
       "      <th></th>\n",
       "      <th></th>\n",
       "    </tr>\n",
       "  </thead>\n",
       "  <tbody>\n",
       "    <tr>\n",
       "      <th>aaron-hughes</th>\n",
       "      <td>654</td>\n",
       "      <td>247</td>\n",
       "      <td>179</td>\n",
       "      <td>228</td>\n",
       "      <td>9</td>\n",
       "      <td>19</td>\n",
       "      <td>0</td>\n",
       "      <td>0</td>\n",
       "      <td>0.333195</td>\n",
       "      <td>0.400637</td>\n",
       "      <td>16</td>\n",
       "      <td>0</td>\n",
       "      <td>0</td>\n",
       "      <td>16</td>\n",
       "    </tr>\n",
       "    <tr>\n",
       "      <th>aaron-hunt</th>\n",
       "      <td>336</td>\n",
       "      <td>141</td>\n",
       "      <td>73</td>\n",
       "      <td>122</td>\n",
       "      <td>62</td>\n",
       "      <td>42</td>\n",
       "      <td>0</td>\n",
       "      <td>1</td>\n",
       "      <td>0.341438</td>\n",
       "      <td>0.380811</td>\n",
       "      <td>29</td>\n",
       "      <td>0</td>\n",
       "      <td>1</td>\n",
       "      <td>29</td>\n",
       "    </tr>\n",
       "    <tr>\n",
       "      <th>aaron-lennon</th>\n",
       "      <td>412</td>\n",
       "      <td>200</td>\n",
       "      <td>97</td>\n",
       "      <td>115</td>\n",
       "      <td>31</td>\n",
       "      <td>11</td>\n",
       "      <td>0</td>\n",
       "      <td>0</td>\n",
       "      <td>0.332389</td>\n",
       "      <td>0.399459</td>\n",
       "      <td>10</td>\n",
       "      <td>0</td>\n",
       "      <td>0</td>\n",
       "      <td>10</td>\n",
       "    </tr>\n",
       "    <tr>\n",
       "      <th>aaron-ramsey</th>\n",
       "      <td>260</td>\n",
       "      <td>150</td>\n",
       "      <td>42</td>\n",
       "      <td>68</td>\n",
       "      <td>39</td>\n",
       "      <td>31</td>\n",
       "      <td>0</td>\n",
       "      <td>1</td>\n",
       "      <td>0.336638</td>\n",
       "      <td>0.433294</td>\n",
       "      <td>25</td>\n",
       "      <td>0</td>\n",
       "      <td>1</td>\n",
       "      <td>26</td>\n",
       "    </tr>\n",
       "    <tr>\n",
       "      <th>abdelhamid-el-kaoutari</th>\n",
       "      <td>124</td>\n",
       "      <td>41</td>\n",
       "      <td>40</td>\n",
       "      <td>43</td>\n",
       "      <td>1</td>\n",
       "      <td>8</td>\n",
       "      <td>4</td>\n",
       "      <td>2</td>\n",
       "      <td>0.331882</td>\n",
       "      <td>0.328895</td>\n",
       "      <td>8</td>\n",
       "      <td>4</td>\n",
       "      <td>2</td>\n",
       "      <td>13</td>\n",
       "    </tr>\n",
       "  </tbody>\n",
       "</table>\n",
       "</div>"
      ],
      "text/plain": [
       "                        games  victories  ties  defeats  goals  yellowCards  \\\n",
       "playerShort                                                                   \n",
       "aaron-hughes              654        247   179      228      9           19   \n",
       "aaron-hunt                336        141    73      122     62           42   \n",
       "aaron-lennon              412        200    97      115     31           11   \n",
       "aaron-ramsey              260        150    42       68     39           31   \n",
       "abdelhamid-el-kaoutari    124         41    40       43      1            8   \n",
       "\n",
       "                        yellowReds  redCards  weightedIAT  weightedExp  \\\n",
       "playerShort                                                              \n",
       "aaron-hughes                     0         0     0.333195     0.400637   \n",
       "aaron-hunt                       0         1     0.341438     0.380811   \n",
       "aaron-lennon                     0         0     0.332389     0.399459   \n",
       "aaron-ramsey                     0         1     0.336638     0.433294   \n",
       "abdelhamid-el-kaoutari           4         2     0.331882     0.328895   \n",
       "\n",
       "                        uniqueYellow  uniqueYellowReds  uniqueReds  \\\n",
       "playerShort                                                          \n",
       "aaron-hughes                      16                 0           0   \n",
       "aaron-hunt                        29                 0           1   \n",
       "aaron-lennon                      10                 0           0   \n",
       "aaron-ramsey                      25                 0           1   \n",
       "abdelhamid-el-kaoutari             8                 4           2   \n",
       "\n",
       "                        uniqueRefCards  \n",
       "playerShort                             \n",
       "aaron-hughes                        16  \n",
       "aaron-hunt                          29  \n",
       "aaron-lennon                        10  \n",
       "aaron-ramsey                        26  \n",
       "abdelhamid-el-kaoutari              13  "
      ]
     },
     "execution_count": 11,
     "metadata": {},
     "output_type": "execute_result"
    }
   ],
   "source": [
    "# use \"first\" field of agg instead!\n",
    "def extract_const_feat(group, param):\n",
    "    return group[param].values[0]\n",
    "\n",
    "const_feat = [\"height\",\"weight\",\"club\",\"leagueCountry\",\"birthday\",\"position\",\"rater1\",\"rater2\"]\n",
    "for feat in const_feat:\n",
    "    data_agg[feat] = player_groups.apply(extract_const_feat, feat)\n",
    "data_agg.ix[:5,:14]"
   ]
  },
  {
   "cell_type": "code",
   "execution_count": 12,
   "metadata": {
    "collapsed": false
   },
   "outputs": [
    {
     "data": {
      "text/html": [
       "<div>\n",
       "<table border=\"1\" class=\"dataframe\">\n",
       "  <thead>\n",
       "    <tr style=\"text-align: right;\">\n",
       "      <th></th>\n",
       "      <th>height</th>\n",
       "      <th>weight</th>\n",
       "      <th>club</th>\n",
       "      <th>leagueCountry</th>\n",
       "      <th>birthday</th>\n",
       "      <th>position</th>\n",
       "      <th>rater1</th>\n",
       "      <th>rater2</th>\n",
       "    </tr>\n",
       "    <tr>\n",
       "      <th>playerShort</th>\n",
       "      <th></th>\n",
       "      <th></th>\n",
       "      <th></th>\n",
       "      <th></th>\n",
       "      <th></th>\n",
       "      <th></th>\n",
       "      <th></th>\n",
       "      <th></th>\n",
       "    </tr>\n",
       "  </thead>\n",
       "  <tbody>\n",
       "    <tr>\n",
       "      <th>aaron-hughes</th>\n",
       "      <td>182.0</td>\n",
       "      <td>71.0</td>\n",
       "      <td>Fulham FC</td>\n",
       "      <td>England</td>\n",
       "      <td>08.11.1979</td>\n",
       "      <td>Center Back</td>\n",
       "      <td>0.25</td>\n",
       "      <td>0.00</td>\n",
       "    </tr>\n",
       "    <tr>\n",
       "      <th>aaron-hunt</th>\n",
       "      <td>183.0</td>\n",
       "      <td>73.0</td>\n",
       "      <td>Werder Bremen</td>\n",
       "      <td>Germany</td>\n",
       "      <td>04.09.1986</td>\n",
       "      <td>Attacking Midfielder</td>\n",
       "      <td>0.00</td>\n",
       "      <td>0.25</td>\n",
       "    </tr>\n",
       "    <tr>\n",
       "      <th>aaron-lennon</th>\n",
       "      <td>165.0</td>\n",
       "      <td>63.0</td>\n",
       "      <td>Tottenham Hotspur</td>\n",
       "      <td>England</td>\n",
       "      <td>16.04.1987</td>\n",
       "      <td>Right Midfielder</td>\n",
       "      <td>0.25</td>\n",
       "      <td>0.25</td>\n",
       "    </tr>\n",
       "    <tr>\n",
       "      <th>aaron-ramsey</th>\n",
       "      <td>178.0</td>\n",
       "      <td>76.0</td>\n",
       "      <td>Arsenal FC</td>\n",
       "      <td>England</td>\n",
       "      <td>26.12.1990</td>\n",
       "      <td>Center Midfielder</td>\n",
       "      <td>0.00</td>\n",
       "      <td>0.00</td>\n",
       "    </tr>\n",
       "    <tr>\n",
       "      <th>abdelhamid-el-kaoutari</th>\n",
       "      <td>180.0</td>\n",
       "      <td>73.0</td>\n",
       "      <td>Montpellier HSC</td>\n",
       "      <td>France</td>\n",
       "      <td>17.03.1990</td>\n",
       "      <td>Center Back</td>\n",
       "      <td>0.25</td>\n",
       "      <td>0.25</td>\n",
       "    </tr>\n",
       "  </tbody>\n",
       "</table>\n",
       "</div>"
      ],
      "text/plain": [
       "                        height  weight               club leagueCountry  \\\n",
       "playerShort                                                               \n",
       "aaron-hughes             182.0    71.0          Fulham FC       England   \n",
       "aaron-hunt               183.0    73.0      Werder Bremen       Germany   \n",
       "aaron-lennon             165.0    63.0  Tottenham Hotspur       England   \n",
       "aaron-ramsey             178.0    76.0         Arsenal FC       England   \n",
       "abdelhamid-el-kaoutari   180.0    73.0    Montpellier HSC        France   \n",
       "\n",
       "                          birthday              position  rater1  rater2  \n",
       "playerShort                                                               \n",
       "aaron-hughes            08.11.1979           Center Back    0.25    0.00  \n",
       "aaron-hunt              04.09.1986  Attacking Midfielder    0.00    0.25  \n",
       "aaron-lennon            16.04.1987      Right Midfielder    0.25    0.25  \n",
       "aaron-ramsey            26.12.1990     Center Midfielder    0.00    0.00  \n",
       "abdelhamid-el-kaoutari  17.03.1990           Center Back    0.25    0.25  "
      ]
     },
     "execution_count": 12,
     "metadata": {},
     "output_type": "execute_result"
    }
   ],
   "source": [
    "data_agg.ix[:5,14:]"
   ]
  },
  {
   "cell_type": "markdown",
   "metadata": {},
   "source": [
    "We will use the `birthday` and today's date to compute the age of a player."
   ]
  },
  {
   "cell_type": "code",
   "execution_count": 13,
   "metadata": {
    "collapsed": false
   },
   "outputs": [],
   "source": [
    "from datetime import datetime\n",
    "def compute_age(player):\n",
    "    return (datetime.now() - pd.to_datetime(player['birthday'])).days/365\n",
    "data_agg['age'] = data_agg.apply(compute_age, axis=1)\n",
    "data_agg.drop('birthday', axis=1, inplace=True)"
   ]
  },
  {
   "cell_type": "markdown",
   "metadata": {},
   "source": [
    "Finally, we will need to use [_dummy encoding_](https://en.wikiversity.org/wiki/Dummy_variable_(statistics) for those features that are not numeric: `club`, `leagueCountry`, and `position`."
   ]
  },
  {
   "cell_type": "code",
   "execution_count": 14,
   "metadata": {
    "collapsed": false
   },
   "outputs": [
    {
     "data": {
      "text/plain": [
       "games                 int64\n",
       "victories             int64\n",
       "ties                  int64\n",
       "defeats               int64\n",
       "goals                 int64\n",
       "yellowCards           int64\n",
       "yellowReds            int64\n",
       "redCards              int64\n",
       "weightedIAT         float64\n",
       "weightedExp         float64\n",
       "uniqueYellow          int64\n",
       "uniqueYellowReds      int64\n",
       "uniqueReds            int64\n",
       "uniqueRefCards        int64\n",
       "height              float64\n",
       "weight              float64\n",
       "club                 object\n",
       "leagueCountry        object\n",
       "position             object\n",
       "rater1              float64\n",
       "rater2              float64\n",
       "age                 float64\n",
       "dtype: object"
      ]
     },
     "execution_count": 14,
     "metadata": {},
     "output_type": "execute_result"
    }
   ],
   "source": [
    "data_agg.dtypes"
   ]
  },
  {
   "cell_type": "markdown",
   "metadata": {},
   "source": [
    "Luckily, `pandas` has a function to do this dummy encoding for us ;)"
   ]
  },
  {
   "cell_type": "code",
   "execution_count": 53,
   "metadata": {
    "collapsed": false
   },
   "outputs": [
    {
     "data": {
      "text/html": [
       "<div>\n",
       "<table border=\"1\" class=\"dataframe\">\n",
       "  <thead>\n",
       "    <tr style=\"text-align: right;\">\n",
       "      <th></th>\n",
       "      <th>games</th>\n",
       "      <th>victories</th>\n",
       "      <th>ties</th>\n",
       "      <th>defeats</th>\n",
       "      <th>goals</th>\n",
       "      <th>yellowCards</th>\n",
       "      <th>yellowReds</th>\n",
       "      <th>redCards</th>\n",
       "      <th>weightedIAT</th>\n",
       "      <th>weightedExp</th>\n",
       "      <th>...</th>\n",
       "      <th>position_Center Forward</th>\n",
       "      <th>position_Center Midfielder</th>\n",
       "      <th>position_Defensive Midfielder</th>\n",
       "      <th>position_Goalkeeper</th>\n",
       "      <th>position_Left Fullback</th>\n",
       "      <th>position_Left Midfielder</th>\n",
       "      <th>position_Left Winger</th>\n",
       "      <th>position_Right Fullback</th>\n",
       "      <th>position_Right Midfielder</th>\n",
       "      <th>position_Right Winger</th>\n",
       "    </tr>\n",
       "    <tr>\n",
       "      <th>playerShort</th>\n",
       "      <th></th>\n",
       "      <th></th>\n",
       "      <th></th>\n",
       "      <th></th>\n",
       "      <th></th>\n",
       "      <th></th>\n",
       "      <th></th>\n",
       "      <th></th>\n",
       "      <th></th>\n",
       "      <th></th>\n",
       "      <th></th>\n",
       "      <th></th>\n",
       "      <th></th>\n",
       "      <th></th>\n",
       "      <th></th>\n",
       "      <th></th>\n",
       "      <th></th>\n",
       "      <th></th>\n",
       "      <th></th>\n",
       "      <th></th>\n",
       "      <th></th>\n",
       "    </tr>\n",
       "  </thead>\n",
       "  <tbody>\n",
       "    <tr>\n",
       "      <th>aaron-hughes</th>\n",
       "      <td>654</td>\n",
       "      <td>247</td>\n",
       "      <td>179</td>\n",
       "      <td>228</td>\n",
       "      <td>9</td>\n",
       "      <td>19</td>\n",
       "      <td>0</td>\n",
       "      <td>0</td>\n",
       "      <td>0.333195</td>\n",
       "      <td>0.400637</td>\n",
       "      <td>...</td>\n",
       "      <td>0.0</td>\n",
       "      <td>0.0</td>\n",
       "      <td>0.0</td>\n",
       "      <td>0.0</td>\n",
       "      <td>0.0</td>\n",
       "      <td>0.0</td>\n",
       "      <td>0.0</td>\n",
       "      <td>0.0</td>\n",
       "      <td>0.0</td>\n",
       "      <td>0.0</td>\n",
       "    </tr>\n",
       "    <tr>\n",
       "      <th>aaron-hunt</th>\n",
       "      <td>336</td>\n",
       "      <td>141</td>\n",
       "      <td>73</td>\n",
       "      <td>122</td>\n",
       "      <td>62</td>\n",
       "      <td>42</td>\n",
       "      <td>0</td>\n",
       "      <td>1</td>\n",
       "      <td>0.341438</td>\n",
       "      <td>0.380811</td>\n",
       "      <td>...</td>\n",
       "      <td>0.0</td>\n",
       "      <td>0.0</td>\n",
       "      <td>0.0</td>\n",
       "      <td>0.0</td>\n",
       "      <td>0.0</td>\n",
       "      <td>0.0</td>\n",
       "      <td>0.0</td>\n",
       "      <td>0.0</td>\n",
       "      <td>0.0</td>\n",
       "      <td>0.0</td>\n",
       "    </tr>\n",
       "    <tr>\n",
       "      <th>aaron-lennon</th>\n",
       "      <td>412</td>\n",
       "      <td>200</td>\n",
       "      <td>97</td>\n",
       "      <td>115</td>\n",
       "      <td>31</td>\n",
       "      <td>11</td>\n",
       "      <td>0</td>\n",
       "      <td>0</td>\n",
       "      <td>0.332389</td>\n",
       "      <td>0.399459</td>\n",
       "      <td>...</td>\n",
       "      <td>0.0</td>\n",
       "      <td>0.0</td>\n",
       "      <td>0.0</td>\n",
       "      <td>0.0</td>\n",
       "      <td>0.0</td>\n",
       "      <td>0.0</td>\n",
       "      <td>0.0</td>\n",
       "      <td>0.0</td>\n",
       "      <td>1.0</td>\n",
       "      <td>0.0</td>\n",
       "    </tr>\n",
       "    <tr>\n",
       "      <th>aaron-ramsey</th>\n",
       "      <td>260</td>\n",
       "      <td>150</td>\n",
       "      <td>42</td>\n",
       "      <td>68</td>\n",
       "      <td>39</td>\n",
       "      <td>31</td>\n",
       "      <td>0</td>\n",
       "      <td>1</td>\n",
       "      <td>0.336638</td>\n",
       "      <td>0.433294</td>\n",
       "      <td>...</td>\n",
       "      <td>0.0</td>\n",
       "      <td>1.0</td>\n",
       "      <td>0.0</td>\n",
       "      <td>0.0</td>\n",
       "      <td>0.0</td>\n",
       "      <td>0.0</td>\n",
       "      <td>0.0</td>\n",
       "      <td>0.0</td>\n",
       "      <td>0.0</td>\n",
       "      <td>0.0</td>\n",
       "    </tr>\n",
       "    <tr>\n",
       "      <th>abdelhamid-el-kaoutari</th>\n",
       "      <td>124</td>\n",
       "      <td>41</td>\n",
       "      <td>40</td>\n",
       "      <td>43</td>\n",
       "      <td>1</td>\n",
       "      <td>8</td>\n",
       "      <td>4</td>\n",
       "      <td>2</td>\n",
       "      <td>0.331882</td>\n",
       "      <td>0.328895</td>\n",
       "      <td>...</td>\n",
       "      <td>0.0</td>\n",
       "      <td>0.0</td>\n",
       "      <td>0.0</td>\n",
       "      <td>0.0</td>\n",
       "      <td>0.0</td>\n",
       "      <td>0.0</td>\n",
       "      <td>0.0</td>\n",
       "      <td>0.0</td>\n",
       "      <td>0.0</td>\n",
       "      <td>0.0</td>\n",
       "    </tr>\n",
       "  </tbody>\n",
       "</table>\n",
       "<p>5 rows × 132 columns</p>\n",
       "</div>"
      ],
      "text/plain": [
       "                        games  victories  ties  defeats  goals  yellowCards  \\\n",
       "playerShort                                                                   \n",
       "aaron-hughes              654        247   179      228      9           19   \n",
       "aaron-hunt                336        141    73      122     62           42   \n",
       "aaron-lennon              412        200    97      115     31           11   \n",
       "aaron-ramsey              260        150    42       68     39           31   \n",
       "abdelhamid-el-kaoutari    124         41    40       43      1            8   \n",
       "\n",
       "                        yellowReds  redCards  weightedIAT  weightedExp  \\\n",
       "playerShort                                                              \n",
       "aaron-hughes                     0         0     0.333195     0.400637   \n",
       "aaron-hunt                       0         1     0.341438     0.380811   \n",
       "aaron-lennon                     0         0     0.332389     0.399459   \n",
       "aaron-ramsey                     0         1     0.336638     0.433294   \n",
       "abdelhamid-el-kaoutari           4         2     0.331882     0.328895   \n",
       "\n",
       "                                ...            position_Center Forward  \\\n",
       "playerShort                     ...                                      \n",
       "aaron-hughes                    ...                                0.0   \n",
       "aaron-hunt                      ...                                0.0   \n",
       "aaron-lennon                    ...                                0.0   \n",
       "aaron-ramsey                    ...                                0.0   \n",
       "abdelhamid-el-kaoutari          ...                                0.0   \n",
       "\n",
       "                        position_Center Midfielder  \\\n",
       "playerShort                                          \n",
       "aaron-hughes                                   0.0   \n",
       "aaron-hunt                                     0.0   \n",
       "aaron-lennon                                   0.0   \n",
       "aaron-ramsey                                   1.0   \n",
       "abdelhamid-el-kaoutari                         0.0   \n",
       "\n",
       "                        position_Defensive Midfielder  position_Goalkeeper  \\\n",
       "playerShort                                                                  \n",
       "aaron-hughes                                      0.0                  0.0   \n",
       "aaron-hunt                                        0.0                  0.0   \n",
       "aaron-lennon                                      0.0                  0.0   \n",
       "aaron-ramsey                                      0.0                  0.0   \n",
       "abdelhamid-el-kaoutari                            0.0                  0.0   \n",
       "\n",
       "                        position_Left Fullback  position_Left Midfielder  \\\n",
       "playerShort                                                                \n",
       "aaron-hughes                               0.0                       0.0   \n",
       "aaron-hunt                                 0.0                       0.0   \n",
       "aaron-lennon                               0.0                       0.0   \n",
       "aaron-ramsey                               0.0                       0.0   \n",
       "abdelhamid-el-kaoutari                     0.0                       0.0   \n",
       "\n",
       "                        position_Left Winger  position_Right Fullback  \\\n",
       "playerShort                                                             \n",
       "aaron-hughes                             0.0                      0.0   \n",
       "aaron-hunt                               0.0                      0.0   \n",
       "aaron-lennon                             0.0                      0.0   \n",
       "aaron-ramsey                             0.0                      0.0   \n",
       "abdelhamid-el-kaoutari                   0.0                      0.0   \n",
       "\n",
       "                        position_Right Midfielder  position_Right Winger  \n",
       "playerShort                                                               \n",
       "aaron-hughes                                  0.0                    0.0  \n",
       "aaron-hunt                                    0.0                    0.0  \n",
       "aaron-lennon                                  1.0                    0.0  \n",
       "aaron-ramsey                                  0.0                    0.0  \n",
       "abdelhamid-el-kaoutari                        0.0                    0.0  \n",
       "\n",
       "[5 rows x 132 columns]"
      ]
     },
     "execution_count": 53,
     "metadata": {},
     "output_type": "execute_result"
    }
   ],
   "source": [
    "pd.get_dummies(data_agg).head()"
   ]
  },
  {
   "cell_type": "markdown",
   "metadata": {},
   "source": [
    "Finally, we need to combine the two skin rating values into a single value corresponding to the skin color of the player; this combination will be done by taking the average of the two."
   ]
  },
  {
   "cell_type": "code",
   "execution_count": 54,
   "metadata": {
    "collapsed": false
   },
   "outputs": [
    {
     "data": {
      "text/html": [
       "<div>\n",
       "<table border=\"1\" class=\"dataframe\">\n",
       "  <thead>\n",
       "    <tr style=\"text-align: right;\">\n",
       "      <th></th>\n",
       "      <th>games</th>\n",
       "      <th>victories</th>\n",
       "      <th>ties</th>\n",
       "      <th>defeats</th>\n",
       "      <th>goals</th>\n",
       "      <th>yellowCards</th>\n",
       "      <th>yellowReds</th>\n",
       "      <th>redCards</th>\n",
       "      <th>weightedIAT</th>\n",
       "      <th>weightedExp</th>\n",
       "      <th>...</th>\n",
       "      <th>position_Center Midfielder</th>\n",
       "      <th>position_Defensive Midfielder</th>\n",
       "      <th>position_Goalkeeper</th>\n",
       "      <th>position_Left Fullback</th>\n",
       "      <th>position_Left Midfielder</th>\n",
       "      <th>position_Left Winger</th>\n",
       "      <th>position_Right Fullback</th>\n",
       "      <th>position_Right Midfielder</th>\n",
       "      <th>position_Right Winger</th>\n",
       "      <th>skin_label</th>\n",
       "    </tr>\n",
       "    <tr>\n",
       "      <th>playerShort</th>\n",
       "      <th></th>\n",
       "      <th></th>\n",
       "      <th></th>\n",
       "      <th></th>\n",
       "      <th></th>\n",
       "      <th></th>\n",
       "      <th></th>\n",
       "      <th></th>\n",
       "      <th></th>\n",
       "      <th></th>\n",
       "      <th></th>\n",
       "      <th></th>\n",
       "      <th></th>\n",
       "      <th></th>\n",
       "      <th></th>\n",
       "      <th></th>\n",
       "      <th></th>\n",
       "      <th></th>\n",
       "      <th></th>\n",
       "      <th></th>\n",
       "      <th></th>\n",
       "    </tr>\n",
       "  </thead>\n",
       "  <tbody>\n",
       "    <tr>\n",
       "      <th>aaron-hughes</th>\n",
       "      <td>654</td>\n",
       "      <td>247</td>\n",
       "      <td>179</td>\n",
       "      <td>228</td>\n",
       "      <td>9</td>\n",
       "      <td>19</td>\n",
       "      <td>0</td>\n",
       "      <td>0</td>\n",
       "      <td>0.333195</td>\n",
       "      <td>0.400637</td>\n",
       "      <td>...</td>\n",
       "      <td>0.0</td>\n",
       "      <td>0.0</td>\n",
       "      <td>0.0</td>\n",
       "      <td>0.0</td>\n",
       "      <td>0.0</td>\n",
       "      <td>0.0</td>\n",
       "      <td>0.0</td>\n",
       "      <td>0.0</td>\n",
       "      <td>0.0</td>\n",
       "      <td>0.125</td>\n",
       "    </tr>\n",
       "    <tr>\n",
       "      <th>aaron-hunt</th>\n",
       "      <td>336</td>\n",
       "      <td>141</td>\n",
       "      <td>73</td>\n",
       "      <td>122</td>\n",
       "      <td>62</td>\n",
       "      <td>42</td>\n",
       "      <td>0</td>\n",
       "      <td>1</td>\n",
       "      <td>0.341438</td>\n",
       "      <td>0.380811</td>\n",
       "      <td>...</td>\n",
       "      <td>0.0</td>\n",
       "      <td>0.0</td>\n",
       "      <td>0.0</td>\n",
       "      <td>0.0</td>\n",
       "      <td>0.0</td>\n",
       "      <td>0.0</td>\n",
       "      <td>0.0</td>\n",
       "      <td>0.0</td>\n",
       "      <td>0.0</td>\n",
       "      <td>0.125</td>\n",
       "    </tr>\n",
       "    <tr>\n",
       "      <th>aaron-lennon</th>\n",
       "      <td>412</td>\n",
       "      <td>200</td>\n",
       "      <td>97</td>\n",
       "      <td>115</td>\n",
       "      <td>31</td>\n",
       "      <td>11</td>\n",
       "      <td>0</td>\n",
       "      <td>0</td>\n",
       "      <td>0.332389</td>\n",
       "      <td>0.399459</td>\n",
       "      <td>...</td>\n",
       "      <td>0.0</td>\n",
       "      <td>0.0</td>\n",
       "      <td>0.0</td>\n",
       "      <td>0.0</td>\n",
       "      <td>0.0</td>\n",
       "      <td>0.0</td>\n",
       "      <td>0.0</td>\n",
       "      <td>1.0</td>\n",
       "      <td>0.0</td>\n",
       "      <td>0.250</td>\n",
       "    </tr>\n",
       "    <tr>\n",
       "      <th>aaron-ramsey</th>\n",
       "      <td>260</td>\n",
       "      <td>150</td>\n",
       "      <td>42</td>\n",
       "      <td>68</td>\n",
       "      <td>39</td>\n",
       "      <td>31</td>\n",
       "      <td>0</td>\n",
       "      <td>1</td>\n",
       "      <td>0.336638</td>\n",
       "      <td>0.433294</td>\n",
       "      <td>...</td>\n",
       "      <td>1.0</td>\n",
       "      <td>0.0</td>\n",
       "      <td>0.0</td>\n",
       "      <td>0.0</td>\n",
       "      <td>0.0</td>\n",
       "      <td>0.0</td>\n",
       "      <td>0.0</td>\n",
       "      <td>0.0</td>\n",
       "      <td>0.0</td>\n",
       "      <td>0.000</td>\n",
       "    </tr>\n",
       "    <tr>\n",
       "      <th>abdelhamid-el-kaoutari</th>\n",
       "      <td>124</td>\n",
       "      <td>41</td>\n",
       "      <td>40</td>\n",
       "      <td>43</td>\n",
       "      <td>1</td>\n",
       "      <td>8</td>\n",
       "      <td>4</td>\n",
       "      <td>2</td>\n",
       "      <td>0.331882</td>\n",
       "      <td>0.328895</td>\n",
       "      <td>...</td>\n",
       "      <td>0.0</td>\n",
       "      <td>0.0</td>\n",
       "      <td>0.0</td>\n",
       "      <td>0.0</td>\n",
       "      <td>0.0</td>\n",
       "      <td>0.0</td>\n",
       "      <td>0.0</td>\n",
       "      <td>0.0</td>\n",
       "      <td>0.0</td>\n",
       "      <td>0.250</td>\n",
       "    </tr>\n",
       "  </tbody>\n",
       "</table>\n",
       "<p>5 rows × 131 columns</p>\n",
       "</div>"
      ],
      "text/plain": [
       "                        games  victories  ties  defeats  goals  yellowCards  \\\n",
       "playerShort                                                                   \n",
       "aaron-hughes              654        247   179      228      9           19   \n",
       "aaron-hunt                336        141    73      122     62           42   \n",
       "aaron-lennon              412        200    97      115     31           11   \n",
       "aaron-ramsey              260        150    42       68     39           31   \n",
       "abdelhamid-el-kaoutari    124         41    40       43      1            8   \n",
       "\n",
       "                        yellowReds  redCards  weightedIAT  weightedExp  \\\n",
       "playerShort                                                              \n",
       "aaron-hughes                     0         0     0.333195     0.400637   \n",
       "aaron-hunt                       0         1     0.341438     0.380811   \n",
       "aaron-lennon                     0         0     0.332389     0.399459   \n",
       "aaron-ramsey                     0         1     0.336638     0.433294   \n",
       "abdelhamid-el-kaoutari           4         2     0.331882     0.328895   \n",
       "\n",
       "                           ...      position_Center Midfielder  \\\n",
       "playerShort                ...                                   \n",
       "aaron-hughes               ...                             0.0   \n",
       "aaron-hunt                 ...                             0.0   \n",
       "aaron-lennon               ...                             0.0   \n",
       "aaron-ramsey               ...                             1.0   \n",
       "abdelhamid-el-kaoutari     ...                             0.0   \n",
       "\n",
       "                        position_Defensive Midfielder  position_Goalkeeper  \\\n",
       "playerShort                                                                  \n",
       "aaron-hughes                                      0.0                  0.0   \n",
       "aaron-hunt                                        0.0                  0.0   \n",
       "aaron-lennon                                      0.0                  0.0   \n",
       "aaron-ramsey                                      0.0                  0.0   \n",
       "abdelhamid-el-kaoutari                            0.0                  0.0   \n",
       "\n",
       "                        position_Left Fullback  position_Left Midfielder  \\\n",
       "playerShort                                                                \n",
       "aaron-hughes                               0.0                       0.0   \n",
       "aaron-hunt                                 0.0                       0.0   \n",
       "aaron-lennon                               0.0                       0.0   \n",
       "aaron-ramsey                               0.0                       0.0   \n",
       "abdelhamid-el-kaoutari                     0.0                       0.0   \n",
       "\n",
       "                        position_Left Winger  position_Right Fullback  \\\n",
       "playerShort                                                             \n",
       "aaron-hughes                             0.0                      0.0   \n",
       "aaron-hunt                               0.0                      0.0   \n",
       "aaron-lennon                             0.0                      0.0   \n",
       "aaron-ramsey                             0.0                      0.0   \n",
       "abdelhamid-el-kaoutari                   0.0                      0.0   \n",
       "\n",
       "                        position_Right Midfielder  position_Right Winger  \\\n",
       "playerShort                                                                \n",
       "aaron-hughes                                  0.0                    0.0   \n",
       "aaron-hunt                                    0.0                    0.0   \n",
       "aaron-lennon                                  1.0                    0.0   \n",
       "aaron-ramsey                                  0.0                    0.0   \n",
       "abdelhamid-el-kaoutari                        0.0                    0.0   \n",
       "\n",
       "                        skin_label  \n",
       "playerShort                         \n",
       "aaron-hughes                 0.125  \n",
       "aaron-hunt                   0.125  \n",
       "aaron-lennon                 0.250  \n",
       "aaron-ramsey                 0.000  \n",
       "abdelhamid-el-kaoutari       0.250  \n",
       "\n",
       "[5 rows x 131 columns]"
      ]
     },
     "execution_count": 54,
     "metadata": {},
     "output_type": "execute_result"
    }
   ],
   "source": [
    "# Label two different skin colors according to rate average: 0-white, 1-black.\n",
    "def rate_average_label(group):\n",
    "    return (group['rater1'].values[0]+ group['rater2'].values[0])/2\n",
    "#     rate_average = (group['rater1'].values[0]+ group['rater2'].values[0])/2\n",
    "#     if rate_average >= 0.5:\n",
    "#         return 1\n",
    "#     else:\n",
    "#         return 0\n",
    "\n",
    "player_data = pd.get_dummies(data_agg)\n",
    "player_data[\"skin_label\"] = player_groups.apply(rate_average_label) \n",
    "player_data.drop(['rater1','rater2'], axis=1, inplace=True)\n",
    "player_data.head()"
   ]
  },
  {
   "cell_type": "code",
   "execution_count": 55,
   "metadata": {
    "collapsed": false
   },
   "outputs": [
    {
     "data": {
      "text/plain": [
       "(1585, 131)"
      ]
     },
     "execution_count": 55,
     "metadata": {},
     "output_type": "execute_result"
    }
   ],
   "source": [
    "player_data.shape"
   ]
  },
  {
   "cell_type": "markdown",
   "metadata": {},
   "source": [
    "Below we observe that the DataFrame has `NaN` values for the height and weight of some players."
   ]
  },
  {
   "cell_type": "code",
   "execution_count": 180,
   "metadata": {
    "collapsed": false
   },
   "outputs": [
    {
     "name": "stdout",
     "output_type": "stream",
     "text": [
      "2\n"
     ]
    },
    {
     "data": {
      "text/plain": [
       "games               False\n",
       "victories           False\n",
       "ties                False\n",
       "defeats             False\n",
       "goals               False\n",
       "yellowCards         False\n",
       "yellowReds          False\n",
       "redCards            False\n",
       "weightedIAT         False\n",
       "weightedExp         False\n",
       "uniqueYellow        False\n",
       "uniqueYellowReds    False\n",
       "uniqueReds          False\n",
       "uniqueRefCards      False\n",
       "height               True\n",
       "weight               True\n",
       "age                 False\n",
       "dtype: bool"
      ]
     },
     "execution_count": 180,
     "metadata": {},
     "output_type": "execute_result"
    }
   ],
   "source": [
    "print(player_data.isnull().any(axis=0).sum()) # two columns have NaN values - height and weight\n",
    "player_data.isnull().any(axis=0)[:17]"
   ]
  },
  {
   "cell_type": "code",
   "execution_count": 57,
   "metadata": {
    "collapsed": false
   },
   "outputs": [
    {
     "data": {
      "text/plain": [
       "21"
      ]
     },
     "execution_count": 57,
     "metadata": {},
     "output_type": "execute_result"
    }
   ],
   "source": [
    "player_data[player_data.isnull().any(axis=1)].shape[0]"
   ]
  },
  {
   "cell_type": "markdown",
   "metadata": {},
   "source": [
    "We will remove these 21 players before beginning classification."
   ]
  },
  {
   "cell_type": "code",
   "execution_count": 128,
   "metadata": {
    "collapsed": false
   },
   "outputs": [],
   "source": [
    "player_data_clean = player_data.dropna()"
   ]
  },
  {
   "cell_type": "markdown",
   "metadata": {},
   "source": [
    "Just to check `NaN` we dropped successfully:"
   ]
  },
  {
   "cell_type": "code",
   "execution_count": 129,
   "metadata": {
    "collapsed": false
   },
   "outputs": [
    {
     "name": "stdout",
     "output_type": "stream",
     "text": [
      "21\n",
      "0\n"
     ]
    }
   ],
   "source": [
    "print(player_data.shape[0] - player_data_clean.shape[0])  # check number of dropped players is 21\n",
    "print(player_data_clean.isnull().any(axis=1).sum())       # check 0 players with NaN data"
   ]
  },
  {
   "cell_type": "markdown",
   "metadata": {},
   "source": [
    "## Threshold for classification"
   ]
  },
  {
   "cell_type": "markdown",
   "metadata": {},
   "source": [
    "In the exercises that follow, we will stick to binary classification (light or dark skin) rather than multiclass (there are 9 possible values for rating the skin color after averaging). With only two ratings, the uncertainty margin may be too large to allow for precise classification into multiple classes.\n",
    "\n",
    "We could not find official statistics on the number of black players but this is what we have found online:\n",
    "* 183/568 = 32.22% black players in the English Premier League in 2012/2013 (http://www.sportingintelligence.com/2012/08/20/premier-league-diversity-at-heart-of-global-appeal-200801/)\n",
    "* ~38% in the French league (https://answers.yahoo.com/question/index?qid=20100109151925AAsWDT9)\n",
    "* ~11% in the Spanish league (https://answers.yahoo.com/question/index?qid=20100109151925AAsWDT9)\n",
    "\n",
    "If we assume ~11% for the German league as well (the English league is known to be very diverse and the French league has a lot of players of African origin due to much of African being [francophone](http://spiritofmirko.com/2013/03/06/african-footballers-in-the-premier-league-la-liga-ligue-1-serie-a-and-the-bundesliga/) so this is a \"safe\" estimate), we can compute the rough percentage of black players in our dataset as follows."
   ]
  },
  {
   "cell_type": "code",
   "execution_count": 114,
   "metadata": {
    "collapsed": false
   },
   "outputs": [
    {
     "name": "stdout",
     "output_type": "stream",
     "text": [
      "{'France': 278.0, 'Germany': 478.0, 'England': 370.0, 'Spain': 438.0}\n"
     ]
    },
    {
     "data": {
      "text/plain": [
       "20.975447570332481"
      ]
     },
     "execution_count": 114,
     "metadata": {},
     "output_type": "execute_result"
    }
   ],
   "source": [
    "# compute weighted average\n",
    "country_perc = np.array([32.22,38,11,11])\n",
    "country_perc = {'England': 32.88, 'France': 38, 'Spain':11, 'Germany':11}\n",
    "players_per_country = {}\n",
    "players_per_country['England'] = sum(player_data_clean.leagueCountry_England)\n",
    "players_per_country['France'] = sum(player_data_clean.leagueCountry_France)\n",
    "players_per_country['Spain'] = sum(player_data_clean.leagueCountry_Spain)\n",
    "players_per_country['Germany'] = sum(player_data_clean.leagueCountry_Germany)\n",
    "    \n",
    "tot_players = player_data_clean.shape[0]\n",
    "print(players_per_country)\n",
    "sum([players_per_country[key]*country_perc[key] for key in players_per_country])/tot_players"
   ]
  },
  {
   "cell_type": "markdown",
   "metadata": {},
   "source": [
    "As we have less players from leagues with a large number of black players (England and France), our expected percentage of black players in the dataset is lower - 20.98%.\n",
    "\n",
    "Let's have a quick look at the distribution of skin color ratings in our dataset."
   ]
  },
  {
   "cell_type": "code",
   "execution_count": 71,
   "metadata": {
    "collapsed": false
   },
   "outputs": [
    {
     "data": {
      "text/plain": [
       "0.250    466\n",
       "0.000    418\n",
       "0.125    225\n",
       "0.500    115\n",
       "0.750    100\n",
       "1.000     90\n",
       "0.375     77\n",
       "0.875     40\n",
       "0.625     33\n",
       "Name: skin_label, dtype: int64"
      ]
     },
     "execution_count": 71,
     "metadata": {},
     "output_type": "execute_result"
    }
   ],
   "source": [
    "player_data_clean.skin_label.value_counts()"
   ]
  },
  {
   "cell_type": "code",
   "execution_count": 81,
   "metadata": {
    "collapsed": false
   },
   "outputs": [
    {
     "data": {
      "text/plain": [
       "<matplotlib.axes._subplots.AxesSubplot at 0x1162dfcf8>"
      ]
     },
     "execution_count": 81,
     "metadata": {},
     "output_type": "execute_result"
    },
    {
     "data": {
      "image/png": "[encoded data removed]",
      "text/plain": [
       "<matplotlib.figure.Figure at 0x11b099438>"
      ]
     },
     "metadata": {},
     "output_type": "display_data"
    }
   ],
   "source": [
    "player_data_clean.skin_label.hist(bins=20)"
   ]
  },
  {
   "cell_type": "markdown",
   "metadata": {},
   "source": [
    "The `quantile` function will give us a threshold such that ~20.98 percentage of scores are above and the rest below."
   ]
  },
  {
   "cell_type": "code",
   "execution_count": 118,
   "metadata": {
    "collapsed": false
   },
   "outputs": [
    {
     "data": {
      "text/plain": [
       "0.5"
      ]
     },
     "execution_count": 118,
     "metadata": {},
     "output_type": "execute_result"
    }
   ],
   "source": [
    "THRESH = player_data_clean.skin_label.quantile(1-0.2098)\n",
    "THRESH"
   ]
  },
  {
   "cell_type": "code",
   "execution_count": 152,
   "metadata": {
    "collapsed": false
   },
   "outputs": [
    {
     "data": {
      "text/plain": [
       "0    1301\n",
       "1     263\n",
       "Name: skin_label, dtype: int64"
      ]
     },
     "execution_count": 152,
     "metadata": {},
     "output_type": "execute_result"
    }
   ],
   "source": [
    "def apply_threshold(player):\n",
    "    if player.skin_label > THRESH:\n",
    "        return 1\n",
    "    else: return 0\n",
    "\n",
    "player_data_bin = player_data_clean.copy()\n",
    "player_data_bin[\"skin_label\"] = player_data_bin.apply(apply_threshold,axis=1)\n",
    "player_data_bin.skin_label.value_counts()"
   ]
  },
  {
   "cell_type": "markdown",
   "metadata": {},
   "source": [
    "This gives about 24.17% black players in our dateset (using `> THRESH` rather than `>=THRESH` yields 16.81% which is further from 20.98)."
   ]
  },
  {
   "cell_type": "markdown",
   "metadata": {},
   "source": [
    "# Exercise 1 - Classification\n",
    "\n",
    "<em>Train a `sklearn.ensemble.RandomForestClassifier` that given a soccer player description outputs his skin color. Show how different parameters passed to the Classifier affect the overfitting issue. Perform cross-validation to mitigate the overfitting of your model. Once you assessed your model, inspect the `feature_importances_` attribute and discuss the obtained results. With different assumptions on the data (e.g., dropping certain features even before feeding them to the classifier), can you obtain a substantially different `feature_importances_` attribute?</em>"
   ]
  },
  {
   "cell_type": "markdown",
   "metadata": {},
   "source": [
    "### Import libraries and split data"
   ]
  },
  {
   "cell_type": "code",
   "execution_count": 351,
   "metadata": {
    "collapsed": false
   },
   "outputs": [],
   "source": [
    "from sklearn import ensemble\n",
    "from sklearn.model_selection import train_test_split\n",
    "from sklearn import metrics\n",
    "\n",
    "RANDOM_SEED = 0"
   ]
  },
  {
   "cell_type": "markdown",
   "metadata": {},
   "source": [
    "First we need to split the data into training and testing sets."
   ]
  },
  {
   "cell_type": "code",
   "execution_count": 153,
   "metadata": {
    "collapsed": false
   },
   "outputs": [],
   "source": [
    "# split input (features) and output (skin label)\n",
    "n_sample = player_data_bin.shape[0] #1564\n",
    "n_feature = player_data_bin.shape[1]-1 #130\n",
    "X = player_data_bin.ix[:,:n_feature]\n",
    "Y = player_data_bin.ix[:,n_feature]\n",
    "# split\n",
    "X_train, X_test, Y_train, Y_test = train_test_split(X, Y, test_size=0.3, random_state=RANDOM_SEED)"
   ]
  },
  {
   "cell_type": "markdown",
   "metadata": {},
   "source": [
    "### How different parameters passed to Classifier affect the overfitting issue\n",
    "\n",
    "**NOTE** Normally, we would not touch the test set till the very end. However, to emphasize \"how different parameters passed to Classifier affect the overfitting issue\" we will use it now.\n",
    "\n",
    "Let's keep the number of trees (`n_estimators`) fixed at 30 and vary the maximum depth of the tress (`max_depth`) as so:"
   ]
  },
  {
   "cell_type": "code",
   "execution_count": 171,
   "metadata": {
    "collapsed": true
   },
   "outputs": [],
   "source": [
    "depth_vals = range(1,30)"
   ]
  },
  {
   "cell_type": "markdown",
   "metadata": {},
   "source": [
    "Now we will compute the training and testing error when training a model for each of these values of the maximum depth of the tree."
   ]
  },
  {
   "cell_type": "code",
   "execution_count": 228,
   "metadata": {
    "collapsed": false
   },
   "outputs": [],
   "source": [
    "n_estimators = 30\n",
    "random_seed = 0\n",
    "train_acc = np.zeros(len(depth_vals)) \n",
    "test_acc = np.zeros(len(depth_vals)) \n",
    "for max_depth in depth_vals:\n",
    "    forest = ensemble.RandomForestClassifier(n_estimators=n_estimators, max_depth=max_depth, random_state=random_seed)\n",
    "    forest = forest.fit(X_train, Y_train)\n",
    "    # compute predictions\n",
    "    Y_train_pred = forest.predict(X_train)\n",
    "    Y_test_pred = forest.predict(X_test)\n",
    "    # calculate accuracy\n",
    "    train_acc[max_depth-1] = 1-metrics.accuracy_score(Y_train, Y_train_pred)\n",
    "    test_acc[max_depth-1] = 1-metrics.accuracy_score(Y_test, Y_test_pred)"
   ]
  },
  {
   "cell_type": "markdown",
   "metadata": {},
   "source": [
    "Let's plot the \"learning curve\" for this overfitting demonstration."
   ]
  },
  {
   "cell_type": "code",
   "execution_count": 229,
   "metadata": {
    "collapsed": false
   },
   "outputs": [
    {
     "data": {
      "image/png": "[encoded data removed]",
      "text/plain": [
       "<matplotlib.figure.Figure at 0x121cb0c88>"
      ]
     },
     "metadata": {},
     "output_type": "display_data"
    }
   ],
   "source": [
    "plt.figure()\n",
    "plt.plot(depth_vals, train_acc*100, label='Testing error')\n",
    "plt.plot(depth_vals, test_acc*100, label='Training error')\n",
    "plt.xlabel('Depth of tree')\n",
    "plt.ylabel('Error percentage')\n",
    "# plt.legend('Training Error', 'Testing Error')\n",
    "plt.legend(loc='center right')\n",
    "plt.title('Illustrating overfitting')\n",
    "plt.show()"
   ]
  },
  {
   "cell_type": "markdown",
   "metadata": {},
   "source": [
    "As we can see in the plot above, increasing the depth of the tree leads to overfitting as the training error rapidly approaches zero but the testing error does not budge. This gap between the training error and testing error for the larger values of the maximum tree depth is characteristic of overfitting - even though the model works very well on the training data, it does not perform as well on unseen data.\n",
    "\n",
    "Now why do we get overfitting for larger values of the maximum tree depth? We can explain this with the following intuitive approach. If we think of going deeper in the tree as being able to \"ask more questions\" with a larger maximum depth our classifier can \"ask more questions\" and will fit to our training data very well. Therefore, ncreasing the depth does not help with generalizing on unseen data."
   ]
  },
  {
   "cell_type": "markdown",
   "metadata": {},
   "source": [
    "### Perform cross-validation to mitigate the overfitting of your model\n",
    "\n",
    "`scikit-learn` has some really powerful function to perform cross-validation. We will be using the `GridSearchCV` class."
   ]
  },
  {
   "cell_type": "code",
   "execution_count": 244,
   "metadata": {
    "collapsed": true
   },
   "outputs": [],
   "source": [
    "# import class for stratified k-fold cross validation\n",
    "from sklearn.model_selection import GridSearchCV"
   ]
  },
  {
   "cell_type": "markdown",
   "metadata": {},
   "source": [
    "With this class, we can perform a grid search over the desired set of model parameters to tune. For our Random Forest classifier, we are interested in selecting the ideal number of trees (`n_estimators`) and maximum tree depth (`max_depth`). We will search over the following values for these parameters:\n",
    "\n",
    "* `n_estimators`: 5 to 55 in steps of 5\n",
    "* `max_depth`: 1 to 31 in steps of 2"
   ]
  },
  {
   "cell_type": "code",
   "execution_count": 327,
   "metadata": {
    "collapsed": true
   },
   "outputs": [],
   "source": [
    "# param_grid = [{'max_depth': list(range(1,31,2)), 'n_estimators': list(range(5,55,5)), 'random_state':[RANDOM_SEED]}]\n",
    "param_grid = [{'max_depth': list(range(1,21,1)), 'n_estimators': list(range(5,35,5)), 'random_state':[RANDOM_SEED]}]"
   ]
  },
  {
   "cell_type": "markdown",
   "metadata": {},
   "source": [
    "Now we will initialize the estimator (`RandomForestClassifier`) and grid search (`GridSearchCV`) objects. The parameters of the estimator will be changed by the values in `param_grid`. The parameter `cv` for `GridSearchCV` allows us to set the number of folds in a Stratified K-fold cross-validation. Stratified means there is roughly the same percentage of samples of each target class as the complete set."
   ]
  },
  {
   "cell_type": "code",
   "execution_count": 328,
   "metadata": {
    "collapsed": false
   },
   "outputs": [],
   "source": [
    "forest = ensemble.RandomForestClassifier(n_estimators=..., max_depth=..., random_state=RANDOM_SEED)\n",
    "gs = GridSearchCV(estimator=forest, param_grid=param_grid, cv=20)"
   ]
  },
  {
   "cell_type": "markdown",
   "metadata": {},
   "source": [
    "When we call `fit` of the grid search object, it will apply the `fit` of our Random Forest estimator on 20 folds for each pair of parameter values."
   ]
  },
  {
   "cell_type": "code",
   "execution_count": 329,
   "metadata": {
    "collapsed": false
   },
   "outputs": [],
   "source": [
    "gs = gs.fit(X_train, Y_train)"
   ]
  },
  {
   "cell_type": "markdown",
   "metadata": {},
   "source": [
    "Let's see what values were selected for our parameters by this grid search and cross-validation."
   ]
  },
  {
   "cell_type": "code",
   "execution_count": 331,
   "metadata": {
    "collapsed": false
   },
   "outputs": [
    {
     "name": "stdout",
     "output_type": "stream",
     "text": [
      "{'max_depth': 15, 'n_estimators': 20, 'random_state': 0}\n",
      "0.840950639854\n"
     ]
    }
   ],
   "source": [
    "print(gs.best_params_)\n",
    "print(gs.best_score_) # corresponding score, gives an estimate of the error on unseen data"
   ]
  },
  {
   "cell_type": "markdown",
   "metadata": {},
   "source": [
    "Let's predict on the test set."
   ]
  },
  {
   "cell_type": "code",
   "execution_count": 350,
   "metadata": {
    "collapsed": false
   },
   "outputs": [
    {
     "name": "stdout",
     "output_type": "stream",
     "text": [
      "0.853191489362\n"
     ]
    }
   ],
   "source": [
    "print(gs.score(X_test,Y_test))"
   ]
  },
  {
   "cell_type": "markdown",
   "metadata": {},
   "source": [
    "Quite close to the estimated test error we obtained by cross validation."
   ]
  },
  {
   "cell_type": "markdown",
   "metadata": {},
   "source": [
    "### Once you assessed your model, inspect the ` feature_importances_` attribute and discuss the results"
   ]
  },
  {
   "cell_type": "markdown",
   "metadata": {},
   "source": [
    "Let's inspect the \"important features\" to get an idea of how the Random Forest is classifiying a player as black or white. We have created our own function `print_important_features` to nicely print the top features."
   ]
  },
  {
   "cell_type": "code",
   "execution_count": 340,
   "metadata": {
    "collapsed": false
   },
   "outputs": [
    {
     "name": "stdout",
     "output_type": "stream",
     "text": [
      "Features sorted by their score:\n",
      "1. weightedIAT (0.089500)\n",
      "2. weightedExp (0.085100)\n",
      "3. age (0.052200)\n",
      "4. games (0.052100)\n",
      "5. uniqueYellow (0.048800)\n",
      "6. defeats (0.048200)\n",
      "7. victories (0.045300)\n",
      "8. uniqueRefCards (0.041200)\n",
      "9. ties (0.040400)\n",
      "10. height (0.040300)\n",
      "11. goals (0.040300)\n",
      "12. yellowCards (0.037100)\n",
      "13. weight (0.036500)\n",
      "14. club_Olympique Marseille (0.028100)\n",
      "15. leagueCountry_France (0.024700)\n",
      "16. yellowReds (0.019700)\n",
      "17. leagueCountry_Germany (0.018200)\n",
      "18. uniqueReds (0.017600)\n",
      "19. redCards (0.015800)\n",
      "20. uniqueYellowReds (0.012600)\n",
      "21. leagueCountry_Spain (0.011200)\n",
      "22. club_Olympique Lyon (0.009800)\n",
      "23. position_Center Forward (0.008800)\n",
      "24. club_Stade Rennes (0.007600)\n",
      "25. club_Granada CF (0.007300)\n",
      "The feature importance propotion of the top 25 : 0.838400\n"
     ]
    }
   ],
   "source": [
    "from hw4_utils import print_important_features\n",
    "feature_name = player_data_bin.columns.values.tolist()\n",
    "print_important_features(feature_name, gs.best_estimator_.feature_importances_, top_k=25)"
   ]
  },
  {
   "cell_type": "markdown",
   "metadata": {},
   "source": [
    "We can also check the least important features with another custom function."
   ]
  },
  {
   "cell_type": "code",
   "execution_count": 341,
   "metadata": {
    "collapsed": false
   },
   "outputs": [
    {
     "name": "stdout",
     "output_type": "stream",
     "text": [
      "Features sorted by their score:\n",
      "1. club_AS Saint-Étienne (0.000000)\n",
      "2. club_Arsenal FC (R) (0.000000)\n",
      "3. club_Blackburn Rovers (0.000000)\n",
      "4. club_Bolton Wanderers (0.000000)\n",
      "5. club_Bristol City (0.000000)\n",
      "6. club_CF Badalona (0.000000)\n",
      "7. club_Celta Vigo (0.000000)\n",
      "8. club_Crewe Alexandra (0.000000)\n",
      "9. club_Getafe CF (0.000000)\n",
      "10. club_Leeds United (0.000000)\n",
      "11. club_Leyton Orient (0.000000)\n",
      "12. club_Liverpool FC (R) (0.000000)\n",
      "13. club_MSV Duisburg (0.000000)\n",
      "14. club_Millwall FC (0.000000)\n",
      "15. club_Nottingham Forest (0.000000)\n",
      "16. club_Real Jaén (0.000000)\n",
      "17. club_Real Madrid Castilla (0.000000)\n",
      "18. club_Real Valladolid (0.000000)\n",
      "19. club_SD Compostela (0.000000)\n",
      "20. club_Southampton FC (0.000000)\n",
      "21. club_US Boulogne (0.000000)\n",
      "22. club_Wigan Athletic (0.000000)\n",
      "23. club_Wolverhampton Wanderers (0.000000)\n",
      "24. club_Athletic Bilbao (0.000100)\n",
      "25. club_Espanyol Barcelona (0.000100)\n",
      "The feature importance propotion of the bottom 25 : 0.000200\n"
     ]
    }
   ],
   "source": [
    "from hw4_utils import print_unimportant_features\n",
    "print_unimportant_features(feature_name, gs.best_estimator_.feature_importances_, bottom_k=25)"
   ]
  },
  {
   "cell_type": "markdown",
   "metadata": {},
   "source": [
    "It seems as though the team/club of the player is not generally important in determining the skin color of a player. There are a few notable exceptions: Marseille, Lyon, and Rennes. Their importance and the importance of the player being in the French league are in line with the observations from [this article](http://spiritofmirko.com/2013/03/06/african-footballers-in-the-premier-league-la-liga-ligue-1-serie-a-and-the-bundesliga/).\n",
    "\n",
    "Furthermore, the weighted IAT and Exp racial bias scores of the referees faced by a player seem to be the most important features. Perhaps these features combined with the unique number of referees who have given yellow cards (`uniqueYellow`) and the unique number of referees (`uniqueRefCards`) who have given yellow and red cards are able to help the classifier distinguish between black and white players. This would be an alarming observation if those unique numbers are low for black players."
   ]
  },
  {
   "cell_type": "markdown",
   "metadata": {},
   "source": [
    "### With different assumptions on the data (e.g., dropping certain features even before feeding them to the classifier), can you obtain a substantially different `feature_importances_` attribute?\n",
    "\n",
    "We will make the following assumptions (NOT conclusions/observations) to see if we can obtain a substantially difference result for the feature importances:\n",
    "\n",
    "* Position and club are not important as seen in the importance values before, so we won't feed them to the classifier\n",
    "* The country may play an important role (as France has a higher percentage of black players)\n",
    "* We will keep age as this had the 3rd highest importance: perhaps more younger players are black as the top flight leagues have become more and more diverse\n",
    "* We will keep games: perhaps some coaches have some bias towards race as well\n",
    "* Finally we will drop the weighted IAT and Exp scores to see if the classifier can still perform well and to see how other features might become more important\n",
    "\n",
    "So let's trim the data we give to the classifier."
   ]
  },
  {
   "cell_type": "code",
   "execution_count": 397,
   "metadata": {
    "collapsed": false
   },
   "outputs": [
    {
     "data": {
      "text/html": [
       "<div>\n",
       "<table border=\"1\" class=\"dataframe\">\n",
       "  <thead>\n",
       "    <tr style=\"text-align: right;\">\n",
       "      <th></th>\n",
       "      <th>games</th>\n",
       "      <th>age</th>\n",
       "      <th>leagueCountry_France</th>\n",
       "      <th>height</th>\n",
       "      <th>weight</th>\n",
       "      <th>uniqueYellow</th>\n",
       "      <th>yellowCards</th>\n",
       "    </tr>\n",
       "    <tr>\n",
       "      <th>playerShort</th>\n",
       "      <th></th>\n",
       "      <th></th>\n",
       "      <th></th>\n",
       "      <th></th>\n",
       "      <th></th>\n",
       "      <th></th>\n",
       "      <th></th>\n",
       "    </tr>\n",
       "  </thead>\n",
       "  <tbody>\n",
       "    <tr>\n",
       "      <th>aaron-hughes</th>\n",
       "      <td>654</td>\n",
       "      <td>37.315068</td>\n",
       "      <td>0.0</td>\n",
       "      <td>182.0</td>\n",
       "      <td>71.0</td>\n",
       "      <td>16</td>\n",
       "      <td>19</td>\n",
       "    </tr>\n",
       "    <tr>\n",
       "      <th>aaron-hunt</th>\n",
       "      <td>336</td>\n",
       "      <td>30.649315</td>\n",
       "      <td>0.0</td>\n",
       "      <td>183.0</td>\n",
       "      <td>73.0</td>\n",
       "      <td>29</td>\n",
       "      <td>42</td>\n",
       "    </tr>\n",
       "    <tr>\n",
       "      <th>aaron-lennon</th>\n",
       "      <td>412</td>\n",
       "      <td>29.630137</td>\n",
       "      <td>0.0</td>\n",
       "      <td>165.0</td>\n",
       "      <td>63.0</td>\n",
       "      <td>10</td>\n",
       "      <td>11</td>\n",
       "    </tr>\n",
       "    <tr>\n",
       "      <th>aaron-ramsey</th>\n",
       "      <td>260</td>\n",
       "      <td>25.931507</td>\n",
       "      <td>0.0</td>\n",
       "      <td>178.0</td>\n",
       "      <td>76.0</td>\n",
       "      <td>25</td>\n",
       "      <td>31</td>\n",
       "    </tr>\n",
       "    <tr>\n",
       "      <th>abdelhamid-el-kaoutari</th>\n",
       "      <td>124</td>\n",
       "      <td>26.709589</td>\n",
       "      <td>1.0</td>\n",
       "      <td>180.0</td>\n",
       "      <td>73.0</td>\n",
       "      <td>8</td>\n",
       "      <td>8</td>\n",
       "    </tr>\n",
       "  </tbody>\n",
       "</table>\n",
       "</div>"
      ],
      "text/plain": [
       "                        games        age  leagueCountry_France  height  \\\n",
       "playerShort                                                              \n",
       "aaron-hughes              654  37.315068                   0.0   182.0   \n",
       "aaron-hunt                336  30.649315                   0.0   183.0   \n",
       "aaron-lennon              412  29.630137                   0.0   165.0   \n",
       "aaron-ramsey              260  25.931507                   0.0   178.0   \n",
       "abdelhamid-el-kaoutari    124  26.709589                   1.0   180.0   \n",
       "\n",
       "                        weight  uniqueYellow  yellowCards  \n",
       "playerShort                                                \n",
       "aaron-hughes              71.0            16           19  \n",
       "aaron-hunt                73.0            29           42  \n",
       "aaron-lennon              63.0            10           11  \n",
       "aaron-ramsey              76.0            25           31  \n",
       "abdelhamid-el-kaoutari    73.0             8            8  "
      ]
     },
     "execution_count": 397,
     "metadata": {},
     "output_type": "execute_result"
    }
   ],
   "source": [
    "des_feat = [\"games\", \"age\", \"leagueCountry_France\", \"height\", \"weight\", \"uniqueYellow\", \"yellowCards\"]\n",
    "player_data_trim = player_data_bin[des_feat]\n",
    "player_data_trim.head()"
   ]
  },
  {
   "cell_type": "markdown",
   "metadata": {},
   "source": [
    "Let's split the data similar to before. We can keep the same output labels (`Y`) as this will not change."
   ]
  },
  {
   "cell_type": "code",
   "execution_count": 398,
   "metadata": {
    "collapsed": true
   },
   "outputs": [],
   "source": [
    "# split input (features) and output (skin label)\n",
    "n_sample = player_data_trim.shape[0] #1564\n",
    "n_feature = player_data_trim.shape[1]\n",
    "X_trim = player_data_trim\n",
    "# split\n",
    "X_train, X_test, Y_train, Y_test = train_test_split(X_trim, Y, test_size=0.3, random_state=RANDOM_SEED)"
   ]
  },
  {
   "cell_type": "markdown",
   "metadata": {},
   "source": [
    "We will create a new grid search object as follows:"
   ]
  },
  {
   "cell_type": "code",
   "execution_count": 400,
   "metadata": {
    "collapsed": true
   },
   "outputs": [],
   "source": [
    "param_grid_trim = [{'max_depth': list(range(1,21,2)), 'n_estimators': list(range(5,50,5)), 'random_state':[RANDOM_SEED]}]\n",
    "forest = ensemble.RandomForestClassifier(n_estimators=..., max_depth=..., random_state=RANDOM_SEED)\n",
    "gs_trim = GridSearchCV(estimator=forest, param_grid=param_grid, cv=5)"
   ]
  },
  {
   "cell_type": "markdown",
   "metadata": {},
   "source": [
    "Now let's train the Random Forest by performing the corresponding grid search with 20 folds."
   ]
  },
  {
   "cell_type": "code",
   "execution_count": 401,
   "metadata": {
    "collapsed": true
   },
   "outputs": [],
   "source": [
    "gs_trim = gs_trim.fit(X_train, Y_train)"
   ]
  },
  {
   "cell_type": "markdown",
   "metadata": {},
   "source": [
    "Let's take a look at the optimal values (from this grid search) for the number of trees and maximum depth as well as the estimated accuracy on unseen data."
   ]
  },
  {
   "cell_type": "code",
   "execution_count": 402,
   "metadata": {
    "collapsed": false
   },
   "outputs": [
    {
     "name": "stdout",
     "output_type": "stream",
     "text": [
      "{'max_depth': 3, 'n_estimators': 20, 'random_state': 0}\n",
      "0.826325411335\n"
     ]
    }
   ],
   "source": [
    "print(gs_trim.best_params_)\n",
    "print(gs_trim.best_score_) # corresponding score, gives an estimate of the error on unseen data"
   ]
  },
  {
   "cell_type": "markdown",
   "metadata": {},
   "source": [
    "Let's see how this compares to \"actual\" unseen data."
   ]
  },
  {
   "cell_type": "code",
   "execution_count": 403,
   "metadata": {
    "collapsed": false
   },
   "outputs": [
    {
     "name": "stdout",
     "output_type": "stream",
     "text": [
      "0.851063829787\n"
     ]
    }
   ],
   "source": [
    "print(gs_trim.score(X_test,Y_test))"
   ]
  },
  {
   "cell_type": "markdown",
   "metadata": {},
   "source": [
    "Now let's check how the importances may have changed."
   ]
  },
  {
   "cell_type": "code",
   "execution_count": 404,
   "metadata": {
    "collapsed": false
   },
   "outputs": [
    {
     "name": "stdout",
     "output_type": "stream",
     "text": [
      "Features sorted by their score:\n",
      "1. leagueCountry_France (0.396200)\n",
      "2. games (0.142500)\n",
      "3. age (0.113600)\n",
      "4. weight (0.112400)\n",
      "5. yellowCards (0.097700)\n",
      "6. uniqueYellow (0.079700)\n",
      "7. height (0.057900)\n",
      "The feature importance propotion of the top 7 : 1.000000\n"
     ]
    }
   ],
   "source": [
    "feature_name = player_data_trim.columns.values.tolist()\n",
    "print_important_features(feature_name, gs_trim.best_estimator_.feature_importances_, top_k=len(des_feat))"
   ]
  },
  {
   "cell_type": "markdown",
   "metadata": {},
   "source": [
    "Dropping a lot of the features has increased the importance of each of the (remaining) features as is expected since the feature importances must sum to one. Most \"importantly\", the importance of playing in the French league has now shot up! The accuracy of the classifier has still stayed relatively the same while the maximum depth has decreased from 15 to 3, meaning we have a more general classifier.\n",
    "\n",
    "Let's try one more thing: removing the weighted IAT and Exp scores but keeping everything else to see how feature importances change."
   ]
  },
  {
   "cell_type": "code",
   "execution_count": null,
   "metadata": {
    "collapsed": true
   },
   "outputs": [],
   "source": [
    "player_data_trim = player_data_bin.drop(['rater1','rater2'], axis=1)"
   ]
  },
  {
   "cell_type": "code",
   "execution_count": null,
   "metadata": {
    "collapsed": true
   },
   "outputs": [],
   "source": []
  },
  {
   "cell_type": "code",
   "execution_count": null,
   "metadata": {
    "collapsed": true
   },
   "outputs": [],
   "source": []
  },
  {
   "cell_type": "code",
   "execution_count": null,
   "metadata": {
    "collapsed": true
   },
   "outputs": [],
   "source": []
  },
  {
   "cell_type": "code",
   "execution_count": 391,
   "metadata": {
    "collapsed": false
   },
   "outputs": [
    {
     "data": {
      "text/html": [
       "<div>\n",
       "<table border=\"1\" class=\"dataframe\">\n",
       "  <thead>\n",
       "    <tr style=\"text-align: right;\">\n",
       "      <th></th>\n",
       "      <th>weightedIAT</th>\n",
       "      <th>weightedExp</th>\n",
       "      <th>games</th>\n",
       "      <th>age</th>\n",
       "      <th>leagueCountry_France</th>\n",
       "      <th>height</th>\n",
       "      <th>weight</th>\n",
       "    </tr>\n",
       "    <tr>\n",
       "      <th>playerShort</th>\n",
       "      <th></th>\n",
       "      <th></th>\n",
       "      <th></th>\n",
       "      <th></th>\n",
       "      <th></th>\n",
       "      <th></th>\n",
       "      <th></th>\n",
       "    </tr>\n",
       "  </thead>\n",
       "  <tbody>\n",
       "    <tr>\n",
       "      <th>aaron-hughes</th>\n",
       "      <td>0.333195</td>\n",
       "      <td>0.400637</td>\n",
       "      <td>654</td>\n",
       "      <td>37.315068</td>\n",
       "      <td>0.0</td>\n",
       "      <td>182.0</td>\n",
       "      <td>71.0</td>\n",
       "    </tr>\n",
       "    <tr>\n",
       "      <th>aaron-hunt</th>\n",
       "      <td>0.341438</td>\n",
       "      <td>0.380811</td>\n",
       "      <td>336</td>\n",
       "      <td>30.649315</td>\n",
       "      <td>0.0</td>\n",
       "      <td>183.0</td>\n",
       "      <td>73.0</td>\n",
       "    </tr>\n",
       "    <tr>\n",
       "      <th>aaron-lennon</th>\n",
       "      <td>0.332389</td>\n",
       "      <td>0.399459</td>\n",
       "      <td>412</td>\n",
       "      <td>29.630137</td>\n",
       "      <td>0.0</td>\n",
       "      <td>165.0</td>\n",
       "      <td>63.0</td>\n",
       "    </tr>\n",
       "    <tr>\n",
       "      <th>aaron-ramsey</th>\n",
       "      <td>0.336638</td>\n",
       "      <td>0.433294</td>\n",
       "      <td>260</td>\n",
       "      <td>25.931507</td>\n",
       "      <td>0.0</td>\n",
       "      <td>178.0</td>\n",
       "      <td>76.0</td>\n",
       "    </tr>\n",
       "    <tr>\n",
       "      <th>abdelhamid-el-kaoutari</th>\n",
       "      <td>0.331882</td>\n",
       "      <td>0.328895</td>\n",
       "      <td>124</td>\n",
       "      <td>26.709589</td>\n",
       "      <td>1.0</td>\n",
       "      <td>180.0</td>\n",
       "      <td>73.0</td>\n",
       "    </tr>\n",
       "  </tbody>\n",
       "</table>\n",
       "</div>"
      ],
      "text/plain": [
       "                        weightedIAT  weightedExp  games        age  \\\n",
       "playerShort                                                          \n",
       "aaron-hughes               0.333195     0.400637    654  37.315068   \n",
       "aaron-hunt                 0.341438     0.380811    336  30.649315   \n",
       "aaron-lennon               0.332389     0.399459    412  29.630137   \n",
       "aaron-ramsey               0.336638     0.433294    260  25.931507   \n",
       "abdelhamid-el-kaoutari     0.331882     0.328895    124  26.709589   \n",
       "\n",
       "                        leagueCountry_France  height  weight  \n",
       "playerShort                                                   \n",
       "aaron-hughes                             0.0   182.0    71.0  \n",
       "aaron-hunt                               0.0   183.0    73.0  \n",
       "aaron-lennon                             0.0   165.0    63.0  \n",
       "aaron-ramsey                             0.0   178.0    76.0  \n",
       "abdelhamid-el-kaoutari                   1.0   180.0    73.0  "
      ]
     },
     "execution_count": 391,
     "metadata": {},
     "output_type": "execute_result"
    }
   ],
   "source": [
    "des_feat = [\"weightedIAT\", \"weightedExp\", \"games\", \"age\", \"leagueCountry_France\", \"height\", \"weight\"]\n",
    "player_data_trim = player_data_bin[des_feat]\n",
    "# split input (features) and output (skin label)\n",
    "n_sample = player_data_trim.shape[0] #1564\n",
    "n_feature = player_data_trim.shape[1]\n",
    "X_trim = player_data_trim\n",
    "# split\n",
    "X_train, X_test, Y_train, Y_test = train_test_split(X_trim, Y, test_size=0.3, random_state=RANDOM_SEED)\n",
    "\n",
    "player_data_trim.head()"
   ]
  },
  {
   "cell_type": "code",
   "execution_count": 392,
   "metadata": {
    "collapsed": true
   },
   "outputs": [],
   "source": [
    "param_grid = [{'max_depth': list(range(1,21,2)), 'n_estimators': list(range(5,50,5)), 'random_state':[RANDOM_SEED]}]\n",
    "forest = ensemble.RandomForestClassifier(n_estimators=..., max_depth=..., random_state=RANDOM_SEED)\n",
    "gs = GridSearchCV(estimator=forest, param_grid=param_grid, cv=20)"
   ]
  },
  {
   "cell_type": "code",
   "execution_count": 393,
   "metadata": {
    "collapsed": true
   },
   "outputs": [],
   "source": [
    "gs = gs.fit(X_train, Y_train)"
   ]
  },
  {
   "cell_type": "code",
   "execution_count": 394,
   "metadata": {
    "collapsed": false
   },
   "outputs": [
    {
     "name": "stdout",
     "output_type": "stream",
     "text": [
      "{'max_depth': 5, 'n_estimators': 30, 'random_state': 0}\n",
      "0.834552102377\n"
     ]
    }
   ],
   "source": [
    "print(gs.best_params_)\n",
    "print(gs.best_score_) # corresponding score, gives an estimate of the error on unseen data"
   ]
  },
  {
   "cell_type": "code",
   "execution_count": 395,
   "metadata": {
    "collapsed": false
   },
   "outputs": [
    {
     "name": "stdout",
     "output_type": "stream",
     "text": [
      "0.863829787234\n"
     ]
    }
   ],
   "source": [
    "print(gs.score(X_test,Y_test))"
   ]
  },
  {
   "cell_type": "code",
   "execution_count": 396,
   "metadata": {
    "collapsed": false
   },
   "outputs": [
    {
     "name": "stdout",
     "output_type": "stream",
     "text": [
      "Features sorted by their score:\n",
      "1. weightedIAT (0.239200)\n",
      "2. weightedExp (0.225500)\n",
      "3. leagueCountry_France (0.147700)\n",
      "4. age (0.132100)\n",
      "5. games (0.119600)\n",
      "6. weight (0.079300)\n",
      "7. height (0.056500)\n",
      "The feature importance propotion of the top 7 : 0.999900\n"
     ]
    }
   ],
   "source": [
    "feature_name = player_data_trim.columns.values.tolist()\n",
    "print_important_features(feature_name, gs.best_estimator_.feature_importances_, top_k=len(des_feat))"
   ]
  },
  {
   "cell_type": "markdown",
   "metadata": {},
   "source": [
    "It seems as though the weighted IAT and Exp scores are still important without the information about the cards! And now the importance of playing in the French league has shot up."
   ]
  },
  {
   "cell_type": "code",
   "execution_count": null,
   "metadata": {
    "collapsed": true
   },
   "outputs": [],
   "source": []
  },
  {
   "cell_type": "code",
   "execution_count": null,
   "metadata": {
    "collapsed": true
   },
   "outputs": [],
   "source": []
  },
  {
   "cell_type": "code",
   "execution_count": 360,
   "metadata": {
    "collapsed": false
   },
   "outputs": [
    {
     "data": {
      "text/plain": [
       "array([  5.20887291e-02,   4.53257766e-02,   4.03633272e-02,\n",
       "         4.82477737e-02,   4.03135261e-02,   3.71100047e-02,\n",
       "         1.97435567e-02,   1.57563549e-02,   8.95199011e-02,\n",
       "         8.50967234e-02,   4.88400724e-02,   1.25685367e-02,\n",
       "         1.75812245e-02,   4.11711573e-02,   4.02778956e-02,\n",
       "         3.64756935e-02,   5.21798851e-02,   3.13484635e-04,\n",
       "         7.05583952e-04,   8.77591407e-04,   2.00041925e-04,\n",
       "         1.81824439e-03,   8.83044907e-07,   1.57222434e-03,\n",
       "         0.00000000e+00,   2.16499326e-03,   1.40782588e-04,\n",
       "         2.15062912e-04,   1.43912336e-03,   7.21058819e-04,\n",
       "         0.00000000e+00,   0.00000000e+00,   5.70122844e-04,\n",
       "         2.44680298e-04,   0.00000000e+00,   1.34298500e-03,\n",
       "         0.00000000e+00,   7.90326421e-06,   2.61242985e-03,\n",
       "         0.00000000e+00,   3.33128864e-04,   5.33132796e-04,\n",
       "         1.07085157e-03,   5.95727969e-05,   1.37195605e-04,\n",
       "         2.62560670e-03,   1.34682136e-03,   9.19526427e-05,\n",
       "         4.53339239e-04,   6.42541954e-04,   5.27109868e-04,\n",
       "         1.12579803e-03,   4.14385448e-05,   5.12198006e-03,\n",
       "         7.33456620e-03,   5.03530478e-04,   3.11158150e-04,\n",
       "         0.00000000e+00,   7.23705093e-05,   6.62909490e-04,\n",
       "         0.00000000e+00,   3.35716652e-03,   1.86751174e-03,\n",
       "         0.00000000e+00,   0.00000000e+00,   4.61536132e-03,\n",
       "         4.86363550e-03,   0.00000000e+00,   3.45578414e-03,\n",
       "         5.56393608e-04,   4.73810726e-03,   3.21784974e-03,\n",
       "         0.00000000e+00,   5.97808416e-05,   9.80333921e-03,\n",
       "         2.81356394e-02,   1.19134394e-03,   1.84147718e-03,\n",
       "         1.65070825e-03,   4.62585111e-04,   3.59015167e-04,\n",
       "         6.81278288e-04,   0.00000000e+00,   1.87747325e-03,\n",
       "         0.00000000e+00,   7.78172389e-05,   0.00000000e+00,\n",
       "         1.55053960e-03,   7.86316357e-04,   1.36576783e-03,\n",
       "         0.00000000e+00,   9.35403533e-04,   1.51019927e-03,\n",
       "         0.00000000e+00,   2.09536185e-03,   4.80836742e-03,\n",
       "         2.20100151e-03,   7.57263341e-03,   2.89133398e-03,\n",
       "         2.46450618e-03,   1.98497902e-03,   2.59148420e-04,\n",
       "         4.38849039e-03,   0.00000000e+00,   2.69759150e-04,\n",
       "         2.98906806e-03,   5.27227834e-03,   6.51499424e-04,\n",
       "         4.81577956e-03,   1.26810190e-03,   7.92683132e-04,\n",
       "         1.37182755e-06,   0.00000000e+00,   2.01310468e-03,\n",
       "         6.56598280e-03,   2.47480318e-02,   1.81835783e-02,\n",
       "         1.12239313e-02,   4.84640867e-03,   3.96859500e-03,\n",
       "         8.84136227e-03,   2.94633298e-03,   4.43789390e-03,\n",
       "         4.61568528e-03,   3.47719909e-03,   5.67560781e-03,\n",
       "         4.22573183e-03,   3.64543221e-03,   4.37082936e-03,\n",
       "         1.92509532e-03])"
      ]
     },
     "execution_count": 360,
     "metadata": {},
     "output_type": "execute_result"
    }
   ],
   "source": [
    "gs.best_estimator_.feature_importances_"
   ]
  },
  {
   "cell_type": "code",
   "execution_count": null,
   "metadata": {
    "collapsed": true
   },
   "outputs": [],
   "source": []
  },
  {
   "cell_type": "code",
   "execution_count": 307,
   "metadata": {
    "collapsed": false
   },
   "outputs": [
    {
     "data": {
      "text/plain": [
       "array([ 0.05336687,  0.06246868,  0.        ,  0.10417717,  0.00578749,\n",
       "        0.        ,  0.        ,  0.        ,  0.07117382,  0.15142277,\n",
       "        0.12157758,  0.        ,  0.        ,  0.03112806,  0.02257609,\n",
       "        0.01469838,  0.03173967,  0.        ,  0.        ,  0.        ,\n",
       "        0.        ,  0.        ,  0.        ,  0.        ,  0.        ,\n",
       "        0.        ,  0.        ,  0.        ,  0.        ,  0.        ,\n",
       "        0.        ,  0.        ,  0.        ,  0.        ,  0.        ,\n",
       "        0.        ,  0.        ,  0.        ,  0.        ,  0.        ,\n",
       "        0.        ,  0.        ,  0.        ,  0.        ,  0.        ,\n",
       "        0.        ,  0.        ,  0.        ,  0.        ,  0.        ,\n",
       "        0.        ,  0.        ,  0.        ,  0.01089353,  0.        ,\n",
       "        0.        ,  0.        ,  0.        ,  0.        ,  0.        ,\n",
       "        0.        ,  0.        ,  0.        ,  0.        ,  0.        ,\n",
       "        0.        ,  0.        ,  0.        ,  0.        ,  0.        ,\n",
       "        0.        ,  0.        ,  0.        ,  0.        ,  0.        ,\n",
       "        0.        ,  0.        ,  0.        ,  0.        ,  0.        ,\n",
       "        0.        ,  0.        ,  0.        ,  0.        ,  0.        ,\n",
       "        0.        ,  0.        ,  0.        ,  0.        ,  0.        ,\n",
       "        0.        ,  0.        ,  0.        ,  0.        ,  0.        ,\n",
       "        0.        ,  0.0297061 ,  0.04541053,  0.        ,  0.        ,\n",
       "        0.        ,  0.        ,  0.        ,  0.        ,  0.        ,\n",
       "        0.        ,  0.        ,  0.        ,  0.        ,  0.        ,\n",
       "        0.        ,  0.        ,  0.        ,  0.        ,  0.        ,\n",
       "        0.21058419,  0.        ,  0.        ,  0.        ,  0.        ,\n",
       "        0.03328907,  0.        ,  0.        ,  0.        ,  0.        ,\n",
       "        0.        ,  0.        ,  0.        ,  0.        ,  0.        ])"
      ]
     },
     "execution_count": 307,
     "metadata": {},
     "output_type": "execute_result"
    }
   ],
   "source": [
    "gs.best_estimator_.feature_importances_"
   ]
  },
  {
   "cell_type": "code",
   "execution_count": 265,
   "metadata": {
    "collapsed": true
   },
   "outputs": [],
   "source": [
    "Y_train_pred = gs.predict(X_train)\n",
    "Y_test_pred = gs.predict(X_test)"
   ]
  },
  {
   "cell_type": "code",
   "execution_count": 309,
   "metadata": {
    "collapsed": false
   },
   "outputs": [
    {
     "name": "stdout",
     "output_type": "stream",
     "text": [
      "0.833638025594\n",
      "0.853191489362\n"
     ]
    }
   ],
   "source": [
    "print(gs.score(X_train,Y_train))\n",
    "print(gs.score(X_test,Y_test))"
   ]
  },
  {
   "cell_type": "code",
   "execution_count": 310,
   "metadata": {
    "collapsed": false
   },
   "outputs": [
    {
     "name": "stdout",
     "output_type": "stream",
     "text": [
      "{'max_depth': 3, 'n_estimators': 5, 'random_state': 0}\n",
      "0.823583180987\n"
     ]
    }
   ],
   "source": [
    "print(gs.best_params_)\n",
    "print(gs.best_score_)"
   ]
  },
  {
   "cell_type": "code",
   "execution_count": 278,
   "metadata": {
    "collapsed": false
   },
   "outputs": [
    {
     "data": {
      "text/plain": [
       "{'mean_fit_time': array([ 0.01434863,  0.01711258,  0.0268054 ,  0.03007286,  0.03733233,\n",
       "         0.04552547,  0.05202693,  0.056046  ,  0.0630967 ,  0.01105441,\n",
       "         0.01916414,  0.02556549,  0.03490237,  0.04460464,  0.04887437,\n",
       "         0.05623353,  0.06394475,  0.07173359,  0.01160338,  0.02105995,\n",
       "         0.02904646,  0.0361973 ,  0.04579301,  0.05483036,  0.06111379,\n",
       "         0.07237076,  0.08289447,  0.01273261,  0.02343262,  0.03401879,\n",
       "         0.0415262 ,  0.05284863,  0.05910199,  0.06733434,  0.07930529,\n",
       "         0.08862482,  0.01345636,  0.02289881,  0.03258247,  0.05273858,\n",
       "         0.07144618,  0.07143486,  0.07679796,  0.08718706,  0.13525236,\n",
       "         0.01739464,  0.02680235,  0.03798867,  0.05486193,  0.05849597,\n",
       "         0.07325872,  0.08557643,  0.09585696,  0.10659572,  0.01483724,\n",
       "         0.02820266,  0.04124697,  0.05195045,  0.06382853,  0.07319398,\n",
       "         0.09277757,  0.10042981,  0.108924  ,  0.01564002,  0.02842894,\n",
       "         0.04019192,  0.05134934,  0.06102169,  0.07763172,  0.09136082,\n",
       "         0.11820986,  0.12503078]),\n",
       " 'mean_score_time': array([ 0.00137945,  0.00155053,  0.00227009,  0.00231607,  0.00269123,\n",
       "         0.00343949,  0.00378171,  0.00376937,  0.00443767,  0.00111049,\n",
       "         0.00156215,  0.00199164,  0.00241842,  0.00276914,  0.00319616,\n",
       "         0.00332105,  0.00379235,  0.00421554,  0.00108807,  0.00155525,\n",
       "         0.0019668 ,  0.00224962,  0.00270921,  0.00311414,  0.00370506,\n",
       "         0.00402251,  0.00483671,  0.0011253 ,  0.00175736,  0.00214238,\n",
       "         0.00241166,  0.00278414,  0.00315145,  0.00364466,  0.00393889,\n",
       "         0.00464169,  0.00116978,  0.00162724,  0.00194668,  0.00308518,\n",
       "         0.00401189,  0.00366689,  0.00386946,  0.00419389,  0.00664845,\n",
       "         0.00175141,  0.00157861,  0.00226052,  0.00270662,  0.00306202,\n",
       "         0.00360339,  0.00456455,  0.0043505 ,  0.00495758,  0.00120795,\n",
       "         0.00185695,  0.00215667,  0.00261178,  0.00326918,  0.00323526,\n",
       "         0.00419438,  0.00482663,  0.00479044,  0.0011534 ,  0.00162283,\n",
       "         0.00217086,  0.00261263,  0.00290776,  0.0036752 ,  0.00379708,\n",
       "         0.00523176,  0.0058315 ]),\n",
       " 'mean_test_score': array([ 0.8226691 ,  0.82358318,  0.82358318,  0.82358318,  0.82358318,\n",
       "         0.82358318,  0.82358318,  0.82358318,  0.82358318,  0.82358318,\n",
       "         0.82449726,  0.82449726,  0.82632541,  0.82449726,  0.82449726,\n",
       "         0.82449726,  0.82449726,  0.82449726,  0.82723949,  0.82723949,\n",
       "         0.82632541,  0.82723949,  0.82815356,  0.82723949,  0.82541133,\n",
       "         0.82723949,  0.82906764,  0.82358318,  0.82906764,  0.82723949,\n",
       "         0.83180987,  0.82723949,  0.82906764,  0.82906764,  0.8308958 ,\n",
       "         0.8308958 ,  0.82541133,  0.82998172,  0.82998172,  0.83180987,\n",
       "         0.8345521 ,  0.8345521 ,  0.83363803,  0.8345521 ,  0.83272395,\n",
       "         0.82632541,  0.8308958 ,  0.82632541,  0.83272395,  0.83272395,\n",
       "         0.83180987,  0.83363803,  0.8308958 ,  0.83363803,  0.82723949,\n",
       "         0.8190128 ,  0.82632541,  0.82358318,  0.82723949,  0.82998172,\n",
       "         0.8345521 ,  0.8308958 ,  0.8345521 ,  0.82084095,  0.83638026,\n",
       "         0.84003656,  0.84095064,  0.83729433,  0.8345521 ,  0.83820841,\n",
       "         0.83729433,  0.83546618]),\n",
       " 'mean_train_score': array([ 0.82372763,  0.82358336,  0.82358336,  0.82358336,  0.82358336,\n",
       "         0.82358336,  0.82358336,  0.82358336,  0.82358336,  0.83089512,\n",
       "         0.82877835,  0.82954864,  0.82998157,  0.83007791,  0.82993368,\n",
       "         0.82998185,  0.82940451,  0.82921201,  0.8417209 ,  0.8396522 ,\n",
       "         0.83974748,  0.84099794,  0.84070985,  0.84008429,  0.83989212,\n",
       "         0.83955531,  0.83969982,  0.86033967,  0.85769336,  0.85547974,\n",
       "         0.85711514,  0.85572026,  0.85437346,  0.8531707 ,  0.8544214 ,\n",
       "         0.854085  ,  0.88092983,  0.88295091,  0.88040001,  0.87756023,\n",
       "         0.87760891,  0.87650227,  0.87409694,  0.87428906,  0.87380848,\n",
       "         0.90599661,  0.91672618,  0.91350008,  0.91094908,  0.90950645,\n",
       "         0.90969816,  0.90608961,  0.90782149,  0.90604177,  0.92418213,\n",
       "         0.94419546,  0.94299159,  0.94236511,  0.94231763,  0.94453052,\n",
       "         0.9429902 ,  0.94616573,  0.94424141,  0.94294412,  0.96377549,\n",
       "         0.96401426,  0.96757366,  0.96930573,  0.97084521,  0.97050839,\n",
       "         0.97272141,  0.97248065]),\n",
       " 'param_max_depth': masked_array(data = [1 1 1 1 1 1 1 1 1 3 3 3 3 3 3 3 3 3 5 5 5 5 5 5 5 5 5 7 7 7 7 7 7 7 7 7 9\n",
       "  9 9 9 9 9 9 9 9 11 11 11 11 11 11 11 11 11 13 13 13 13 13 13 13 13 13 15\n",
       "  15 15 15 15 15 15 15 15],\n",
       "              mask = [False False False False False False False False False False False False\n",
       "  False False False False False False False False False False False False\n",
       "  False False False False False False False False False False False False\n",
       "  False False False False False False False False False False False False\n",
       "  False False False False False False False False False False False False\n",
       "  False False False False False False False False False False False False],\n",
       "        fill_value = ?),\n",
       " 'param_n_estimators': masked_array(data = [5 10 15 20 25 30 35 40 45 5 10 15 20 25 30 35 40 45 5 10 15 20 25 30 35 40\n",
       "  45 5 10 15 20 25 30 35 40 45 5 10 15 20 25 30 35 40 45 5 10 15 20 25 30 35\n",
       "  40 45 5 10 15 20 25 30 35 40 45 5 10 15 20 25 30 35 40 45],\n",
       "              mask = [False False False False False False False False False False False False\n",
       "  False False False False False False False False False False False False\n",
       "  False False False False False False False False False False False False\n",
       "  False False False False False False False False False False False False\n",
       "  False False False False False False False False False False False False\n",
       "  False False False False False False False False False False False False],\n",
       "        fill_value = ?),\n",
       " 'param_random_state': masked_array(data = [0 0 0 0 0 0 0 0 0 0 0 0 0 0 0 0 0 0 0 0 0 0 0 0 0 0 0 0 0 0 0 0 0 0 0 0 0\n",
       "  0 0 0 0 0 0 0 0 0 0 0 0 0 0 0 0 0 0 0 0 0 0 0 0 0 0 0 0 0 0 0 0 0 0 0],\n",
       "              mask = [False False False False False False False False False False False False\n",
       "  False False False False False False False False False False False False\n",
       "  False False False False False False False False False False False False\n",
       "  False False False False False False False False False False False False\n",
       "  False False False False False False False False False False False False\n",
       "  False False False False False False False False False False False False],\n",
       "        fill_value = ?),\n",
       " 'params': ({'max_depth': 1, 'n_estimators': 5, 'random_state': 0},\n",
       "  {'max_depth': 1, 'n_estimators': 10, 'random_state': 0},\n",
       "  {'max_depth': 1, 'n_estimators': 15, 'random_state': 0},\n",
       "  {'max_depth': 1, 'n_estimators': 20, 'random_state': 0},\n",
       "  {'max_depth': 1, 'n_estimators': 25, 'random_state': 0},\n",
       "  {'max_depth': 1, 'n_estimators': 30, 'random_state': 0},\n",
       "  {'max_depth': 1, 'n_estimators': 35, 'random_state': 0},\n",
       "  {'max_depth': 1, 'n_estimators': 40, 'random_state': 0},\n",
       "  {'max_depth': 1, 'n_estimators': 45, 'random_state': 0},\n",
       "  {'max_depth': 3, 'n_estimators': 5, 'random_state': 0},\n",
       "  {'max_depth': 3, 'n_estimators': 10, 'random_state': 0},\n",
       "  {'max_depth': 3, 'n_estimators': 15, 'random_state': 0},\n",
       "  {'max_depth': 3, 'n_estimators': 20, 'random_state': 0},\n",
       "  {'max_depth': 3, 'n_estimators': 25, 'random_state': 0},\n",
       "  {'max_depth': 3, 'n_estimators': 30, 'random_state': 0},\n",
       "  {'max_depth': 3, 'n_estimators': 35, 'random_state': 0},\n",
       "  {'max_depth': 3, 'n_estimators': 40, 'random_state': 0},\n",
       "  {'max_depth': 3, 'n_estimators': 45, 'random_state': 0},\n",
       "  {'max_depth': 5, 'n_estimators': 5, 'random_state': 0},\n",
       "  {'max_depth': 5, 'n_estimators': 10, 'random_state': 0},\n",
       "  {'max_depth': 5, 'n_estimators': 15, 'random_state': 0},\n",
       "  {'max_depth': 5, 'n_estimators': 20, 'random_state': 0},\n",
       "  {'max_depth': 5, 'n_estimators': 25, 'random_state': 0},\n",
       "  {'max_depth': 5, 'n_estimators': 30, 'random_state': 0},\n",
       "  {'max_depth': 5, 'n_estimators': 35, 'random_state': 0},\n",
       "  {'max_depth': 5, 'n_estimators': 40, 'random_state': 0},\n",
       "  {'max_depth': 5, 'n_estimators': 45, 'random_state': 0},\n",
       "  {'max_depth': 7, 'n_estimators': 5, 'random_state': 0},\n",
       "  {'max_depth': 7, 'n_estimators': 10, 'random_state': 0},\n",
       "  {'max_depth': 7, 'n_estimators': 15, 'random_state': 0},\n",
       "  {'max_depth': 7, 'n_estimators': 20, 'random_state': 0},\n",
       "  {'max_depth': 7, 'n_estimators': 25, 'random_state': 0},\n",
       "  {'max_depth': 7, 'n_estimators': 30, 'random_state': 0},\n",
       "  {'max_depth': 7, 'n_estimators': 35, 'random_state': 0},\n",
       "  {'max_depth': 7, 'n_estimators': 40, 'random_state': 0},\n",
       "  {'max_depth': 7, 'n_estimators': 45, 'random_state': 0},\n",
       "  {'max_depth': 9, 'n_estimators': 5, 'random_state': 0},\n",
       "  {'max_depth': 9, 'n_estimators': 10, 'random_state': 0},\n",
       "  {'max_depth': 9, 'n_estimators': 15, 'random_state': 0},\n",
       "  {'max_depth': 9, 'n_estimators': 20, 'random_state': 0},\n",
       "  {'max_depth': 9, 'n_estimators': 25, 'random_state': 0},\n",
       "  {'max_depth': 9, 'n_estimators': 30, 'random_state': 0},\n",
       "  {'max_depth': 9, 'n_estimators': 35, 'random_state': 0},\n",
       "  {'max_depth': 9, 'n_estimators': 40, 'random_state': 0},\n",
       "  {'max_depth': 9, 'n_estimators': 45, 'random_state': 0},\n",
       "  {'max_depth': 11, 'n_estimators': 5, 'random_state': 0},\n",
       "  {'max_depth': 11, 'n_estimators': 10, 'random_state': 0},\n",
       "  {'max_depth': 11, 'n_estimators': 15, 'random_state': 0},\n",
       "  {'max_depth': 11, 'n_estimators': 20, 'random_state': 0},\n",
       "  {'max_depth': 11, 'n_estimators': 25, 'random_state': 0},\n",
       "  {'max_depth': 11, 'n_estimators': 30, 'random_state': 0},\n",
       "  {'max_depth': 11, 'n_estimators': 35, 'random_state': 0},\n",
       "  {'max_depth': 11, 'n_estimators': 40, 'random_state': 0},\n",
       "  {'max_depth': 11, 'n_estimators': 45, 'random_state': 0},\n",
       "  {'max_depth': 13, 'n_estimators': 5, 'random_state': 0},\n",
       "  {'max_depth': 13, 'n_estimators': 10, 'random_state': 0},\n",
       "  {'max_depth': 13, 'n_estimators': 15, 'random_state': 0},\n",
       "  {'max_depth': 13, 'n_estimators': 20, 'random_state': 0},\n",
       "  {'max_depth': 13, 'n_estimators': 25, 'random_state': 0},\n",
       "  {'max_depth': 13, 'n_estimators': 30, 'random_state': 0},\n",
       "  {'max_depth': 13, 'n_estimators': 35, 'random_state': 0},\n",
       "  {'max_depth': 13, 'n_estimators': 40, 'random_state': 0},\n",
       "  {'max_depth': 13, 'n_estimators': 45, 'random_state': 0},\n",
       "  {'max_depth': 15, 'n_estimators': 5, 'random_state': 0},\n",
       "  {'max_depth': 15, 'n_estimators': 10, 'random_state': 0},\n",
       "  {'max_depth': 15, 'n_estimators': 15, 'random_state': 0},\n",
       "  {'max_depth': 15, 'n_estimators': 20, 'random_state': 0},\n",
       "  {'max_depth': 15, 'n_estimators': 25, 'random_state': 0},\n",
       "  {'max_depth': 15, 'n_estimators': 30, 'random_state': 0},\n",
       "  {'max_depth': 15, 'n_estimators': 35, 'random_state': 0},\n",
       "  {'max_depth': 15, 'n_estimators': 40, 'random_state': 0},\n",
       "  {'max_depth': 15, 'n_estimators': 45, 'random_state': 0}),\n",
       " 'rank_test_score': array([70, 59, 59, 59, 59, 59, 59, 59, 59, 59, 52, 52, 45, 52, 52, 52, 52,\n",
       "        52, 36, 36, 45, 36, 35, 36, 50, 36, 31, 59, 31, 36, 20, 36, 31, 31,\n",
       "        23, 23, 50, 28, 28, 20,  8,  8, 14,  8, 17, 45, 23, 45, 17, 17, 20,\n",
       "        14, 23, 14, 36, 72, 45, 59, 36, 28,  8, 23,  8, 71,  6,  2,  1,  4,\n",
       "         8,  3,  4,  7], dtype=int32),\n",
       " 'split0_test_score': array([ 0.82142857,  0.82142857,  0.82142857,  0.82142857,  0.82142857,\n",
       "         0.82142857,  0.82142857,  0.82142857,  0.82142857,  0.82142857,\n",
       "         0.82142857,  0.82142857,  0.82142857,  0.82142857,  0.82142857,\n",
       "         0.82142857,  0.82142857,  0.82142857,  0.82142857,  0.83928571,\n",
       "         0.82142857,  0.82142857,  0.82142857,  0.82142857,  0.82142857,\n",
       "         0.82142857,  0.82142857,  0.85714286,  0.82142857,  0.82142857,\n",
       "         0.83928571,  0.83928571,  0.83928571,  0.82142857,  0.82142857,\n",
       "         0.82142857,  0.82142857,  0.80357143,  0.80357143,  0.82142857,\n",
       "         0.82142857,  0.82142857,  0.82142857,  0.82142857,  0.82142857,\n",
       "         0.82142857,  0.82142857,  0.82142857,  0.82142857,  0.82142857,\n",
       "         0.82142857,  0.82142857,  0.82142857,  0.82142857,  0.85714286,\n",
       "         0.83928571,  0.82142857,  0.80357143,  0.80357143,  0.80357143,\n",
       "         0.80357143,  0.80357143,  0.80357143,  0.80357143,  0.80357143,\n",
       "         0.80357143,  0.82142857,  0.80357143,  0.80357143,  0.82142857,\n",
       "         0.82142857,  0.82142857]),\n",
       " 'split0_train_score': array([ 0.82369942,  0.82369942,  0.82369942,  0.82369942,  0.82369942,\n",
       "         0.82369942,  0.82369942,  0.82369942,  0.82369942,  0.82947977,\n",
       "         0.82851638,  0.83236994,  0.82851638,  0.82851638,  0.82851638,\n",
       "         0.82947977,  0.82851638,  0.82755299,  0.8477842 ,  0.84874759,\n",
       "         0.84296724,  0.84007707,  0.84296724,  0.84296724,  0.84296724,\n",
       "         0.84200385,  0.84200385,  0.85741811,  0.85549133,  0.8583815 ,\n",
       "         0.85645472,  0.85741811,  0.85741811,  0.85645472,  0.85452794,\n",
       "         0.85645472,  0.87572254,  0.88150289,  0.87861272,  0.86801541,\n",
       "         0.87572254,  0.87475915,  0.87186898,  0.8699422 ,  0.86897881,\n",
       "         0.92870906,  0.92581888,  0.91618497,  0.90077071,  0.90751445,\n",
       "         0.90751445,  0.90462428,  0.90847784,  0.89980732,  0.94026975,\n",
       "         0.94701349,  0.94412331,  0.92870906,  0.9344894 ,  0.94026975,\n",
       "         0.93641618,  0.93737958,  0.93159923,  0.96146435,  0.96242775,\n",
       "         0.95568401,  0.95472062,  0.96050096,  0.9566474 ,  0.96050096,\n",
       "         0.9672447 ,  0.95761079]),\n",
       " 'split10_test_score': array([ 0.81818182,  0.81818182,  0.81818182,  0.81818182,  0.81818182,\n",
       "         0.81818182,  0.81818182,  0.81818182,  0.81818182,  0.81818182,\n",
       "         0.81818182,  0.81818182,  0.81818182,  0.83636364,  0.83636364,\n",
       "         0.83636364,  0.83636364,  0.83636364,  0.83636364,  0.81818182,\n",
       "         0.83636364,  0.81818182,  0.83636364,  0.83636364,  0.83636364,\n",
       "         0.83636364,  0.83636364,  0.85454545,  0.85454545,  0.83636364,\n",
       "         0.83636364,  0.83636364,  0.83636364,  0.83636364,  0.83636364,\n",
       "         0.83636364,  0.89090909,  0.87272727,  0.87272727,  0.85454545,\n",
       "         0.83636364,  0.83636364,  0.83636364,  0.85454545,  0.83636364,\n",
       "         0.85454545,  0.87272727,  0.83636364,  0.85454545,  0.83636364,\n",
       "         0.83636364,  0.85454545,  0.83636364,  0.83636364,  0.85454545,\n",
       "         0.87272727,  0.87272727,  0.85454545,  0.85454545,  0.87272727,\n",
       "         0.89090909,  0.87272727,  0.87272727,  0.87272727,  0.87272727,\n",
       "         0.85454545,  0.85454545,  0.85454545,  0.85454545,  0.85454545,\n",
       "         0.85454545,  0.85454545]),\n",
       " 'split10_train_score': array([ 0.8238691 ,  0.8238691 ,  0.8238691 ,  0.8238691 ,  0.8238691 ,\n",
       "         0.8238691 ,  0.8238691 ,  0.8238691 ,  0.8238691 ,  0.82483157,\n",
       "         0.82579403,  0.8267565 ,  0.82771896,  0.82964389,  0.82964389,\n",
       "         0.82964389,  0.82771896,  0.82868142,  0.83349374,  0.83253128,\n",
       "         0.83060635,  0.83156882,  0.83156882,  0.83349374,  0.83253128,\n",
       "         0.83156882,  0.83253128,  0.85851781,  0.85563041,  0.85274302,\n",
       "         0.85466795,  0.85274302,  0.85081809,  0.84985563,  0.84985563,\n",
       "         0.85081809,  0.88354187,  0.89027911,  0.87295476,  0.8719923 ,\n",
       "         0.8719923 ,  0.87006737,  0.86429259,  0.86429259,  0.86525505,\n",
       "         0.89797883,  0.91915303,  0.91337825,  0.90856593,  0.90375361,\n",
       "         0.90471607,  0.89990375,  0.89701636,  0.89701636,  0.92204042,\n",
       "         0.94417709,  0.93647738,  0.93936477,  0.94513956,  0.94032724,\n",
       "         0.93743985,  0.93551492,  0.93840231,  0.93262753,  0.96631376,\n",
       "         0.95957652,  0.96438884,  0.96920115,  0.97401347,  0.97112608,\n",
       "         0.97497594,  0.97690087]),\n",
       " 'split11_test_score': array([ 0.81818182,  0.81818182,  0.81818182,  0.81818182,  0.81818182,\n",
       "         0.81818182,  0.81818182,  0.81818182,  0.81818182,  0.81818182,\n",
       "         0.81818182,  0.81818182,  0.81818182,  0.81818182,  0.81818182,\n",
       "         0.81818182,  0.81818182,  0.81818182,  0.76363636,  0.81818182,\n",
       "         0.81818182,  0.81818182,  0.81818182,  0.81818182,  0.81818182,\n",
       "         0.81818182,  0.81818182,  0.72727273,  0.78181818,  0.78181818,\n",
       "         0.78181818,  0.78181818,  0.78181818,  0.8       ,  0.81818182,\n",
       "         0.81818182,  0.78181818,  0.78181818,  0.81818182,  0.81818182,\n",
       "         0.81818182,  0.81818182,  0.81818182,  0.81818182,  0.81818182,\n",
       "         0.8       ,  0.78181818,  0.8       ,  0.8       ,  0.81818182,\n",
       "         0.8       ,  0.81818182,  0.81818182,  0.81818182,  0.76363636,\n",
       "         0.74545455,  0.76363636,  0.76363636,  0.8       ,  0.76363636,\n",
       "         0.8       ,  0.78181818,  0.8       ,  0.78181818,  0.78181818,\n",
       "         0.76363636,  0.76363636,  0.8       ,  0.78181818,  0.78181818,\n",
       "         0.78181818,  0.78181818]),\n",
       " 'split11_train_score': array([ 0.8238691 ,  0.8238691 ,  0.8238691 ,  0.8238691 ,  0.8238691 ,\n",
       "         0.8238691 ,  0.8238691 ,  0.8238691 ,  0.8238691 ,  0.83156882,\n",
       "         0.82964389,  0.82868142,  0.83060635,  0.83156882,  0.83156882,\n",
       "         0.83156882,  0.83156882,  0.83156882,  0.83926853,  0.83349374,\n",
       "         0.83541867,  0.83830606,  0.84023099,  0.83926853,  0.84215592,\n",
       "         0.84311838,  0.84311838,  0.85178056,  0.85948027,  0.85563041,\n",
       "         0.85755534,  0.85563041,  0.85274302,  0.85466795,  0.85659288,\n",
       "         0.85563041,  0.87776708,  0.87680462,  0.87584216,  0.87295476,\n",
       "         0.87680462,  0.87391723,  0.8719923 ,  0.87295476,  0.8719923 ,\n",
       "         0.89894129,  0.92396535,  0.90567854,  0.90567854,  0.906641  ,\n",
       "         0.90952839,  0.90182868,  0.906641  ,  0.90952839,  0.92877767,\n",
       "         0.9518768 ,  0.94417709,  0.94032724,  0.94513956,  0.94898941,\n",
       "         0.94417709,  0.94802695,  0.94995188,  0.94610202,  0.96920115,\n",
       "         0.96823869,  0.96631376,  0.96727623,  0.97497594,  0.9759384 ,\n",
       "         0.9759384 ,  0.97690087]),\n",
       " 'split12_test_score': array([ 0.81818182,  0.81818182,  0.81818182,  0.81818182,  0.81818182,\n",
       "         0.81818182,  0.81818182,  0.81818182,  0.81818182,  0.83636364,\n",
       "         0.81818182,  0.83636364,  0.83636364,  0.81818182,  0.81818182,\n",
       "         0.83636364,  0.83636364,  0.83636364,  0.85454545,  0.83636364,\n",
       "         0.83636364,  0.83636364,  0.83636364,  0.83636364,  0.83636364,\n",
       "         0.83636364,  0.83636364,  0.83636364,  0.83636364,  0.85454545,\n",
       "         0.85454545,  0.83636364,  0.85454545,  0.85454545,  0.85454545,\n",
       "         0.85454545,  0.83636364,  0.85454545,  0.85454545,  0.85454545,\n",
       "         0.85454545,  0.85454545,  0.85454545,  0.83636364,  0.85454545,\n",
       "         0.83636364,  0.87272727,  0.85454545,  0.85454545,  0.85454545,\n",
       "         0.85454545,  0.85454545,  0.85454545,  0.85454545,  0.87272727,\n",
       "         0.85454545,  0.85454545,  0.85454545,  0.85454545,  0.83636364,\n",
       "         0.83636364,  0.83636364,  0.83636364,  0.83636364,  0.87272727,\n",
       "         0.85454545,  0.83636364,  0.83636364,  0.83636364,  0.83636364,\n",
       "         0.83636364,  0.83636364]),\n",
       " 'split12_train_score': array([ 0.82483157,  0.8238691 ,  0.8238691 ,  0.8238691 ,  0.8238691 ,\n",
       "         0.8238691 ,  0.8238691 ,  0.8238691 ,  0.8238691 ,  0.83060635,\n",
       "         0.8267565 ,  0.82868142,  0.82771896,  0.8267565 ,  0.8267565 ,\n",
       "         0.82771896,  0.82771896,  0.82771896,  0.84023099,  0.83926853,\n",
       "         0.84023099,  0.83926853,  0.8373436 ,  0.8373436 ,  0.83926853,\n",
       "         0.83926853,  0.84023099,  0.85178056,  0.85178056,  0.84985563,\n",
       "         0.85178056,  0.85178056,  0.85178056,  0.85081809,  0.85274302,\n",
       "         0.85081809,  0.87872955,  0.87776708,  0.88161694,  0.87776708,\n",
       "         0.87680462,  0.87969201,  0.87872955,  0.87680462,  0.87776708,\n",
       "         0.89027911,  0.91337825,  0.90760346,  0.90567854,  0.90471607,\n",
       "         0.90279115,  0.89990375,  0.90086622,  0.89894129,  0.90567854,\n",
       "         0.92396535,  0.92877767,  0.93262753,  0.93358999,  0.93743985,\n",
       "         0.93551492,  0.93936477,  0.93743985,  0.93551492,  0.95957652,\n",
       "         0.96053898,  0.96150144,  0.96246391,  0.96438884,  0.96150144,\n",
       "         0.96342637,  0.9653513 ]),\n",
       " 'split13_test_score': array([ 0.81481481,  0.83333333,  0.83333333,  0.83333333,  0.83333333,\n",
       "         0.83333333,  0.83333333,  0.83333333,  0.83333333,  0.81481481,\n",
       "         0.81481481,  0.81481481,  0.83333333,  0.81481481,  0.81481481,\n",
       "         0.81481481,  0.81481481,  0.81481481,  0.7962963 ,  0.7962963 ,\n",
       "         0.81481481,  0.81481481,  0.81481481,  0.83333333,  0.83333333,\n",
       "         0.83333333,  0.83333333,  0.75925926,  0.7962963 ,  0.81481481,\n",
       "         0.81481481,  0.81481481,  0.83333333,  0.83333333,  0.83333333,\n",
       "         0.83333333,  0.81481481,  0.81481481,  0.77777778,  0.7962963 ,\n",
       "         0.7962963 ,  0.7962963 ,  0.81481481,  0.83333333,  0.81481481,\n",
       "         0.77777778,  0.77777778,  0.81481481,  0.83333333,  0.83333333,\n",
       "         0.81481481,  0.81481481,  0.7962963 ,  0.7962963 ,  0.75925926,\n",
       "         0.77777778,  0.7962963 ,  0.77777778,  0.77777778,  0.7962963 ,\n",
       "         0.7962963 ,  0.7962963 ,  0.7962963 ,  0.7962963 ,  0.7962963 ,\n",
       "         0.7962963 ,  0.7962963 ,  0.77777778,  0.7962963 ,  0.7962963 ,\n",
       "         0.7962963 ,  0.7962963 ]),\n",
       " 'split13_train_score': array([ 0.82403846,  0.82307692,  0.82307692,  0.82307692,  0.82307692,\n",
       "         0.82307692,  0.82307692,  0.82307692,  0.82307692,  0.83269231,\n",
       "         0.83173077,  0.82980769,  0.83076923,  0.82980769,  0.82980769,\n",
       "         0.82980769,  0.82980769,  0.82980769,  0.83942308,  0.84134615,\n",
       "         0.84038462,  0.84038462,  0.84038462,  0.84230769,  0.84230769,\n",
       "         0.84230769,  0.84230769,  0.8625    ,  0.86153846,  0.86153846,\n",
       "         0.8625    ,  0.86057692,  0.85673077,  0.85865385,  0.85865385,\n",
       "         0.85576923,  0.8875    ,  0.88557692,  0.88653846,  0.88557692,\n",
       "         0.88653846,  0.88557692,  0.88269231,  0.87884615,  0.87884615,\n",
       "         0.89326923,  0.91346154,  0.92307692,  0.91730769,  0.91826923,\n",
       "         0.92211538,  0.91442308,  0.92019231,  0.91538462,  0.91730769,\n",
       "         0.93173077,  0.93942308,  0.94326923,  0.94326923,  0.94230769,\n",
       "         0.94903846,  0.94903846,  0.94423077,  0.93846154,  0.95865385,\n",
       "         0.96538462,  0.96826923,  0.96826923,  0.97115385,  0.97211538,\n",
       "         0.97307692,  0.97019231]),\n",
       " 'split14_test_score': array([ 0.83333333,  0.83333333,  0.83333333,  0.83333333,  0.83333333,\n",
       "         0.83333333,  0.83333333,  0.83333333,  0.83333333,  0.83333333,\n",
       "         0.83333333,  0.83333333,  0.83333333,  0.83333333,  0.83333333,\n",
       "         0.83333333,  0.83333333,  0.83333333,  0.83333333,  0.83333333,\n",
       "         0.83333333,  0.83333333,  0.83333333,  0.83333333,  0.83333333,\n",
       "         0.83333333,  0.83333333,  0.83333333,  0.87037037,  0.87037037,\n",
       "         0.87037037,  0.85185185,  0.85185185,  0.85185185,  0.85185185,\n",
       "         0.83333333,  0.87037037,  0.88888889,  0.88888889,  0.87037037,\n",
       "         0.85185185,  0.85185185,  0.85185185,  0.85185185,  0.85185185,\n",
       "         0.83333333,  0.83333333,  0.87037037,  0.87037037,  0.85185185,\n",
       "         0.87037037,  0.87037037,  0.85185185,  0.87037037,  0.87037037,\n",
       "         0.85185185,  0.87037037,  0.88888889,  0.88888889,  0.88888889,\n",
       "         0.88888889,  0.87037037,  0.88888889,  0.85185185,  0.90740741,\n",
       "         0.88888889,  0.88888889,  0.88888889,  0.88888889,  0.88888889,\n",
       "         0.88888889,  0.88888889]),\n",
       " 'split14_train_score': array([ 0.82307692,  0.82307692,  0.82307692,  0.82307692,  0.82307692,\n",
       "         0.82307692,  0.82307692,  0.82307692,  0.82307692,  0.82788462,\n",
       "         0.82788462,  0.83173077,  0.83076923,  0.83076923,  0.82980769,\n",
       "         0.82980769,  0.82884615,  0.82884615,  0.83557692,  0.83846154,\n",
       "         0.84519231,  0.84423077,  0.84134615,  0.83846154,  0.83653846,\n",
       "         0.8375    ,  0.83653846,  0.86442308,  0.86442308,  0.85769231,\n",
       "         0.86057692,  0.86153846,  0.85769231,  0.85192308,  0.85384615,\n",
       "         0.85192308,  0.88653846,  0.89230769,  0.89807692,  0.89134615,\n",
       "         0.89038462,  0.89326923,  0.89134615,  0.8875    ,  0.88365385,\n",
       "         0.90576923,  0.91442308,  0.91826923,  0.91442308,  0.91730769,\n",
       "         0.91826923,  0.92115385,  0.92403846,  0.91923077,  0.91634615,\n",
       "         0.95      ,  0.95      ,  0.94807692,  0.95      ,  0.95576923,\n",
       "         0.95384615,  0.95576923,  0.95576923,  0.94423077,  0.96826923,\n",
       "         0.96826923,  0.97115385,  0.97788462,  0.97692308,  0.97307692,\n",
       "         0.97596154,  0.97692308]),\n",
       " 'split15_test_score': array([ 0.83333333,  0.83333333,  0.83333333,  0.83333333,  0.83333333,\n",
       "         0.83333333,  0.83333333,  0.83333333,  0.83333333,  0.81481481,\n",
       "         0.81481481,  0.81481481,  0.81481481,  0.81481481,  0.81481481,\n",
       "         0.81481481,  0.81481481,  0.81481481,  0.7962963 ,  0.7962963 ,\n",
       "         0.77777778,  0.7962963 ,  0.7962963 ,  0.7962963 ,  0.7962963 ,\n",
       "         0.81481481,  0.81481481,  0.75925926,  0.77777778,  0.77777778,\n",
       "         0.77777778,  0.77777778,  0.77777778,  0.77777778,  0.77777778,\n",
       "         0.77777778,  0.75925926,  0.77777778,  0.77777778,  0.77777778,\n",
       "         0.77777778,  0.77777778,  0.77777778,  0.77777778,  0.77777778,\n",
       "         0.81481481,  0.83333333,  0.77777778,  0.77777778,  0.7962963 ,\n",
       "         0.7962963 ,  0.7962963 ,  0.7962963 ,  0.7962963 ,  0.74074074,\n",
       "         0.74074074,  0.75925926,  0.75925926,  0.75925926,  0.77777778,\n",
       "         0.7962963 ,  0.77777778,  0.7962963 ,  0.77777778,  0.7962963 ,\n",
       "         0.81481481,  0.81481481,  0.81481481,  0.77777778,  0.77777778,\n",
       "         0.77777778,  0.77777778]),\n",
       " 'split15_train_score': array([ 0.82307692,  0.82307692,  0.82307692,  0.82307692,  0.82307692,\n",
       "         0.82307692,  0.82307692,  0.82307692,  0.82307692,  0.83076923,\n",
       "         0.82980769,  0.83076923,  0.83076923,  0.82980769,  0.82980769,\n",
       "         0.82980769,  0.83076923,  0.83076923,  0.85      ,  0.83846154,\n",
       "         0.84326923,  0.84423077,  0.84230769,  0.84230769,  0.84423077,\n",
       "         0.84326923,  0.84423077,  0.86153846,  0.85961538,  0.85769231,\n",
       "         0.85961538,  0.85480769,  0.85480769,  0.85673077,  0.85480769,\n",
       "         0.85384615,  0.88653846,  0.88942308,  0.88076923,  0.88173077,\n",
       "         0.88365385,  0.88365385,  0.88269231,  0.88557692,  0.88173077,\n",
       "         0.91442308,  0.90769231,  0.90961538,  0.91153846,  0.90961538,\n",
       "         0.91057692,  0.90961538,  0.91057692,  0.90865385,  0.93557692,\n",
       "         0.95673077,  0.94615385,  0.94903846,  0.94423077,  0.94519231,\n",
       "         0.94326923,  0.94134615,  0.93942308,  0.94711538,  0.96442308,\n",
       "         0.95673077,  0.96634615,  0.97115385,  0.97211538,  0.97019231,\n",
       "         0.97115385,  0.97019231]),\n",
       " 'split16_test_score': array([ 0.83333333,  0.83333333,  0.83333333,  0.83333333,  0.83333333,\n",
       "         0.83333333,  0.83333333,  0.83333333,  0.83333333,  0.83333333,\n",
       "         0.83333333,  0.83333333,  0.83333333,  0.83333333,  0.83333333,\n",
       "         0.83333333,  0.83333333,  0.83333333,  0.83333333,  0.83333333,\n",
       "         0.83333333,  0.85185185,  0.83333333,  0.85185185,  0.83333333,\n",
       "         0.83333333,  0.83333333,  0.81481481,  0.81481481,  0.83333333,\n",
       "         0.83333333,  0.83333333,  0.83333333,  0.83333333,  0.83333333,\n",
       "         0.83333333,  0.85185185,  0.87037037,  0.87037037,  0.87037037,\n",
       "         0.87037037,  0.85185185,  0.85185185,  0.83333333,  0.83333333,\n",
       "         0.83333333,  0.87037037,  0.87037037,  0.87037037,  0.87037037,\n",
       "         0.85185185,  0.85185185,  0.87037037,  0.87037037,  0.85185185,\n",
       "         0.83333333,  0.83333333,  0.85185185,  0.87037037,  0.85185185,\n",
       "         0.85185185,  0.85185185,  0.85185185,  0.83333333,  0.85185185,\n",
       "         0.85185185,  0.85185185,  0.87037037,  0.85185185,  0.87037037,\n",
       "         0.87037037,  0.87037037]),\n",
       " 'split16_train_score': array([ 0.82307692,  0.82307692,  0.82307692,  0.82307692,  0.82307692,\n",
       "         0.82307692,  0.82307692,  0.82307692,  0.82307692,  0.83173077,\n",
       "         0.82980769,  0.82980769,  0.82980769,  0.82980769,  0.82884615,\n",
       "         0.82980769,  0.82884615,  0.82884615,  0.83557692,  0.83653846,\n",
       "         0.8375    ,  0.84134615,  0.8375    ,  0.83846154,  0.83846154,\n",
       "         0.83653846,  0.83653846,  0.84230769,  0.84423077,  0.85096154,\n",
       "         0.85480769,  0.85288462,  0.85096154,  0.84807692,  0.85192308,\n",
       "         0.85      ,  0.87307692,  0.87307692,  0.87019231,  0.875     ,\n",
       "         0.87692308,  0.87307692,  0.87019231,  0.87403846,  0.875     ,\n",
       "         0.88942308,  0.89903846,  0.89519231,  0.90192308,  0.9       ,\n",
       "         0.90480769,  0.90288462,  0.90865385,  0.90384615,  0.90769231,\n",
       "         0.91826923,  0.92211538,  0.93173077,  0.92884615,  0.92980769,\n",
       "         0.93461538,  0.94134615,  0.94134615,  0.92980769,  0.94230769,\n",
       "         0.95288462,  0.96538462,  0.96923077,  0.96826923,  0.97211538,\n",
       "         0.97307692,  0.97211538]),\n",
       " 'split17_test_score': array([ 0.83333333,  0.83333333,  0.83333333,  0.83333333,  0.83333333,\n",
       "         0.83333333,  0.83333333,  0.83333333,  0.83333333,  0.83333333,\n",
       "         0.85185185,  0.85185185,  0.85185185,  0.85185185,  0.85185185,\n",
       "         0.83333333,  0.83333333,  0.83333333,  0.85185185,  0.85185185,\n",
       "         0.85185185,  0.85185185,  0.85185185,  0.85185185,  0.85185185,\n",
       "         0.85185185,  0.85185185,  0.81481481,  0.85185185,  0.85185185,\n",
       "         0.85185185,  0.85185185,  0.85185185,  0.85185185,  0.85185185,\n",
       "         0.85185185,  0.7962963 ,  0.83333333,  0.83333333,  0.81481481,\n",
       "         0.85185185,  0.85185185,  0.85185185,  0.85185185,  0.85185185,\n",
       "         0.83333333,  0.83333333,  0.81481481,  0.81481481,  0.83333333,\n",
       "         0.83333333,  0.83333333,  0.83333333,  0.83333333,  0.85185185,\n",
       "         0.83333333,  0.7962963 ,  0.7962963 ,  0.81481481,  0.85185185,\n",
       "         0.85185185,  0.85185185,  0.83333333,  0.7962963 ,  0.87037037,\n",
       "         0.85185185,  0.85185185,  0.83333333,  0.83333333,  0.83333333,\n",
       "         0.83333333,  0.83333333]),\n",
       " 'split17_train_score': array([ 0.82403846,  0.82307692,  0.82307692,  0.82307692,  0.82307692,\n",
       "         0.82307692,  0.82307692,  0.82307692,  0.82307692,  0.83653846,\n",
       "         0.83076923,  0.82884615,  0.82980769,  0.82980769,  0.82980769,\n",
       "         0.82980769,  0.82788462,  0.82788462,  0.84519231,  0.84038462,\n",
       "         0.84326923,  0.84615385,  0.84615385,  0.84423077,  0.83846154,\n",
       "         0.83846154,  0.8375    ,  0.86057692,  0.85673077,  0.85865385,\n",
       "         0.85961538,  0.85961538,  0.85673077,  0.85480769,  0.85576923,\n",
       "         0.85480769,  0.87403846,  0.87115385,  0.87115385,  0.875     ,\n",
       "         0.87596154,  0.87692308,  0.87115385,  0.875     ,  0.87115385,\n",
       "         0.90961538,  0.90480769,  0.90480769,  0.91538462,  0.91057692,\n",
       "         0.91057692,  0.90576923,  0.90769231,  0.90192308,  0.92596154,\n",
       "         0.93365385,  0.9375    ,  0.93653846,  0.93846154,  0.94038462,\n",
       "         0.9375    ,  0.94615385,  0.93846154,  0.94423077,  0.96057692,\n",
       "         0.96346154,  0.96153846,  0.96826923,  0.96634615,  0.97307692,\n",
       "         0.97980769,  0.97788462]),\n",
       " 'split18_test_score': array([ 0.83333333,  0.83333333,  0.83333333,  0.83333333,  0.83333333,\n",
       "         0.83333333,  0.83333333,  0.83333333,  0.83333333,  0.85185185,\n",
       "         0.85185185,  0.83333333,  0.83333333,  0.83333333,  0.83333333,\n",
       "         0.83333333,  0.83333333,  0.83333333,  0.85185185,  0.85185185,\n",
       "         0.85185185,  0.85185185,  0.85185185,  0.83333333,  0.83333333,\n",
       "         0.83333333,  0.85185185,  0.85185185,  0.85185185,  0.85185185,\n",
       "         0.85185185,  0.83333333,  0.83333333,  0.83333333,  0.83333333,\n",
       "         0.83333333,  0.83333333,  0.83333333,  0.83333333,  0.83333333,\n",
       "         0.85185185,  0.85185185,  0.85185185,  0.85185185,  0.85185185,\n",
       "         0.81481481,  0.83333333,  0.81481481,  0.83333333,  0.83333333,\n",
       "         0.83333333,  0.85185185,  0.85185185,  0.85185185,  0.81481481,\n",
       "         0.81481481,  0.83333333,  0.83333333,  0.83333333,  0.85185185,\n",
       "         0.85185185,  0.85185185,  0.85185185,  0.83333333,  0.81481481,\n",
       "         0.83333333,  0.85185185,  0.85185185,  0.85185185,  0.85185185,\n",
       "         0.85185185,  0.85185185]),\n",
       " 'split18_train_score': array([ 0.82307692,  0.82307692,  0.82307692,  0.82307692,  0.82307692,\n",
       "         0.82307692,  0.82307692,  0.82307692,  0.82307692,  0.83557692,\n",
       "         0.83173077,  0.83076923,  0.82980769,  0.82980769,  0.82884615,\n",
       "         0.82788462,  0.82788462,  0.82788462,  0.84423077,  0.84038462,\n",
       "         0.84038462,  0.84326923,  0.84134615,  0.84230769,  0.84230769,\n",
       "         0.84230769,  0.84326923,  0.85865385,  0.85096154,  0.85288462,\n",
       "         0.85480769,  0.85      ,  0.85096154,  0.85      ,  0.85192308,\n",
       "         0.85192308,  0.87788462,  0.87788462,  0.88173077,  0.87692308,\n",
       "         0.87788462,  0.87211538,  0.87211538,  0.87211538,  0.87019231,\n",
       "         0.90288462,  0.90288462,  0.91730769,  0.91057692,  0.90384615,\n",
       "         0.90769231,  0.90480769,  0.90384615,  0.90384615,  0.92596154,\n",
       "         0.94038462,  0.93846154,  0.93846154,  0.93557692,  0.94326923,\n",
       "         0.94711538,  0.94423077,  0.94326923,  0.94519231,  0.96057692,\n",
       "         0.97115385,  0.97788462,  0.96923077,  0.97115385,  0.97019231,\n",
       "         0.97211538,  0.96826923]),\n",
       " 'split19_test_score': array([ 0.83333333,  0.83333333,  0.83333333,  0.83333333,  0.83333333,\n",
       "         0.83333333,  0.83333333,  0.83333333,  0.83333333,  0.83333333,\n",
       "         0.83333333,  0.83333333,  0.83333333,  0.83333333,  0.83333333,\n",
       "         0.83333333,  0.83333333,  0.83333333,  0.83333333,  0.83333333,\n",
       "         0.83333333,  0.83333333,  0.83333333,  0.83333333,  0.83333333,\n",
       "         0.83333333,  0.83333333,  0.83333333,  0.83333333,  0.83333333,\n",
       "         0.83333333,  0.83333333,  0.83333333,  0.83333333,  0.83333333,\n",
       "         0.83333333,  0.85185185,  0.83333333,  0.85185185,  0.83333333,\n",
       "         0.83333333,  0.83333333,  0.83333333,  0.83333333,  0.83333333,\n",
       "         0.83333333,  0.83333333,  0.83333333,  0.83333333,  0.83333333,\n",
       "         0.83333333,  0.83333333,  0.83333333,  0.83333333,  0.85185185,\n",
       "         0.83333333,  0.83333333,  0.83333333,  0.83333333,  0.83333333,\n",
       "         0.83333333,  0.83333333,  0.83333333,  0.81481481,  0.83333333,\n",
       "         0.85185185,  0.83333333,  0.83333333,  0.83333333,  0.83333333,\n",
       "         0.83333333,  0.83333333]),\n",
       " 'split19_train_score': array([ 0.82307692,  0.82307692,  0.82307692,  0.82307692,  0.82307692,\n",
       "         0.82307692,  0.82307692,  0.82307692,  0.82307692,  0.83365385,\n",
       "         0.83269231,  0.82980769,  0.82980769,  0.82980769,  0.82980769,\n",
       "         0.82980769,  0.82884615,  0.82788462,  0.8375    ,  0.84038462,\n",
       "         0.84038462,  0.84326923,  0.84326923,  0.84326923,  0.84230769,\n",
       "         0.84230769,  0.83942308,  0.84903846,  0.85      ,  0.85      ,\n",
       "         0.85192308,  0.85096154,  0.84903846,  0.84903846,  0.85096154,\n",
       "         0.85192308,  0.86826923,  0.87211538,  0.87788462,  0.88076923,\n",
       "         0.87115385,  0.87307692,  0.86730769,  0.87019231,  0.86826923,\n",
       "         0.90384615,  0.91346154,  0.91634615,  0.90769231,  0.90384615,\n",
       "         0.90576923,  0.90384615,  0.90288462,  0.89903846,  0.90673077,\n",
       "         0.93461538,  0.94519231,  0.93461538,  0.93365385,  0.93942308,\n",
       "         0.93461538,  0.93557692,  0.93269231,  0.93365385,  0.95288462,\n",
       "         0.96153846,  0.96346154,  0.96346154,  0.96730769,  0.96538462,\n",
       "         0.97115385,  0.97403846]),\n",
       " 'split1_test_score': array([ 0.81818182,  0.81818182,  0.81818182,  0.81818182,  0.81818182,\n",
       "         0.81818182,  0.81818182,  0.81818182,  0.81818182,  0.8       ,\n",
       "         0.81818182,  0.81818182,  0.81818182,  0.81818182,  0.81818182,\n",
       "         0.81818182,  0.81818182,  0.81818182,  0.8       ,  0.81818182,\n",
       "         0.81818182,  0.83636364,  0.81818182,  0.81818182,  0.81818182,\n",
       "         0.81818182,  0.81818182,  0.83636364,  0.83636364,  0.81818182,\n",
       "         0.83636364,  0.81818182,  0.81818182,  0.81818182,  0.81818182,\n",
       "         0.81818182,  0.8       ,  0.81818182,  0.8       ,  0.83636364,\n",
       "         0.83636364,  0.83636364,  0.83636364,  0.83636364,  0.81818182,\n",
       "         0.83636364,  0.85454545,  0.81818182,  0.83636364,  0.83636364,\n",
       "         0.83636364,  0.83636364,  0.81818182,  0.81818182,  0.81818182,\n",
       "         0.8       ,  0.83636364,  0.81818182,  0.81818182,  0.83636364,\n",
       "         0.83636364,  0.83636364,  0.85454545,  0.85454545,  0.8       ,\n",
       "         0.85454545,  0.83636364,  0.85454545,  0.85454545,  0.85454545,\n",
       "         0.85454545,  0.85454545]),\n",
       " 'split1_train_score': array([ 0.8238691 ,  0.8238691 ,  0.8238691 ,  0.8238691 ,  0.8238691 ,\n",
       "         0.8238691 ,  0.8238691 ,  0.8238691 ,  0.8238691 ,  0.83445621,\n",
       "         0.82579403,  0.82964389,  0.83060635,  0.83060635,  0.83156882,\n",
       "         0.83060635,  0.82964389,  0.82964389,  0.84408085,  0.83830606,\n",
       "         0.83638114,  0.84119346,  0.84023099,  0.83926853,  0.83926853,\n",
       "         0.84023099,  0.84023099,  0.87487969,  0.85851781,  0.85466795,\n",
       "         0.85851781,  0.85466795,  0.85563041,  0.85274302,  0.85466795,\n",
       "         0.85466795,  0.89509143,  0.88931665,  0.8825794 ,  0.87584216,\n",
       "         0.87680462,  0.87487969,  0.87295476,  0.87102984,  0.87487969,\n",
       "         0.91626564,  0.91626564,  0.91626564,  0.91049086,  0.91241578,\n",
       "         0.91049086,  0.90952839,  0.90375361,  0.89894129,  0.92877767,\n",
       "         0.93358999,  0.93840231,  0.93743985,  0.94032724,  0.94032724,\n",
       "         0.93551492,  0.93840231,  0.93166506,  0.9518768 ,  0.96823869,\n",
       "         0.96246391,  0.96342637,  0.97305101,  0.97305101,  0.97112608,\n",
       "         0.97208855,  0.97208855]),\n",
       " 'split2_test_score': array([ 0.81818182,  0.81818182,  0.81818182,  0.81818182,  0.81818182,\n",
       "         0.81818182,  0.81818182,  0.81818182,  0.81818182,  0.83636364,\n",
       "         0.83636364,  0.83636364,  0.83636364,  0.83636364,  0.83636364,\n",
       "         0.83636364,  0.83636364,  0.83636364,  0.83636364,  0.83636364,\n",
       "         0.81818182,  0.81818182,  0.81818182,  0.81818182,  0.81818182,\n",
       "         0.83636364,  0.83636364,  0.83636364,  0.83636364,  0.81818182,\n",
       "         0.81818182,  0.81818182,  0.81818182,  0.81818182,  0.81818182,\n",
       "         0.83636364,  0.83636364,  0.81818182,  0.81818182,  0.81818182,\n",
       "         0.81818182,  0.81818182,  0.81818182,  0.83636364,  0.83636364,\n",
       "         0.87272727,  0.81818182,  0.81818182,  0.83636364,  0.81818182,\n",
       "         0.81818182,  0.81818182,  0.81818182,  0.81818182,  0.85454545,\n",
       "         0.83636364,  0.81818182,  0.83636364,  0.81818182,  0.81818182,\n",
       "         0.81818182,  0.81818182,  0.83636364,  0.85454545,  0.83636364,\n",
       "         0.83636364,  0.83636364,  0.83636364,  0.83636364,  0.83636364,\n",
       "         0.83636364,  0.83636364]),\n",
       " 'split2_train_score': array([ 0.8238691 ,  0.8238691 ,  0.8238691 ,  0.8238691 ,  0.8238691 ,\n",
       "         0.8238691 ,  0.8238691 ,  0.8238691 ,  0.8238691 ,  0.82868142,\n",
       "         0.82483157,  0.82771896,  0.82868142,  0.82868142,  0.82868142,\n",
       "         0.82964389,  0.82868142,  0.82868142,  0.84408085,  0.84408085,\n",
       "         0.84311838,  0.84311838,  0.84311838,  0.84119346,  0.84408085,\n",
       "         0.84023099,  0.83830606,  0.86236766,  0.86333013,  0.85755534,\n",
       "         0.85851781,  0.86044273,  0.86044273,  0.8614052 ,  0.8614052 ,\n",
       "         0.8614052 ,  0.88642926,  0.89124158,  0.89220404,  0.88642926,\n",
       "         0.87776708,  0.87969201,  0.87872955,  0.87391723,  0.87776708,\n",
       "         0.91049086,  0.92685274,  0.9172281 ,  0.9172281 ,  0.90856593,\n",
       "         0.90567854,  0.90279115,  0.90471607,  0.91337825,  0.94417709,\n",
       "         0.96053898,  0.96727623,  0.95861405,  0.95380173,  0.9518768 ,\n",
       "         0.95283927,  0.95572666,  0.95572666,  0.9412897 ,  0.96438884,\n",
       "         0.9653513 ,  0.96920115,  0.97208855,  0.97786333,  0.97882579,\n",
       "         0.97786333,  0.98075072]),\n",
       " 'split3_test_score': array([ 0.81818182,  0.81818182,  0.81818182,  0.81818182,  0.81818182,\n",
       "         0.81818182,  0.81818182,  0.81818182,  0.81818182,  0.81818182,\n",
       "         0.81818182,  0.81818182,  0.81818182,  0.81818182,  0.81818182,\n",
       "         0.81818182,  0.81818182,  0.81818182,  0.81818182,  0.81818182,\n",
       "         0.81818182,  0.81818182,  0.81818182,  0.81818182,  0.81818182,\n",
       "         0.81818182,  0.81818182,  0.81818182,  0.81818182,  0.8       ,\n",
       "         0.81818182,  0.81818182,  0.81818182,  0.81818182,  0.81818182,\n",
       "         0.81818182,  0.72727273,  0.8       ,  0.81818182,  0.81818182,\n",
       "         0.81818182,  0.81818182,  0.81818182,  0.81818182,  0.81818182,\n",
       "         0.8       ,  0.81818182,  0.8       ,  0.8       ,  0.8       ,\n",
       "         0.8       ,  0.8       ,  0.8       ,  0.8       ,  0.83636364,\n",
       "         0.81818182,  0.81818182,  0.8       ,  0.8       ,  0.81818182,\n",
       "         0.8       ,  0.8       ,  0.8       ,  0.85454545,  0.83636364,\n",
       "         0.87272727,  0.87272727,  0.83636364,  0.85454545,  0.85454545,\n",
       "         0.85454545,  0.85454545]),\n",
       " 'split3_train_score': array([ 0.8238691 ,  0.8238691 ,  0.8238691 ,  0.8238691 ,  0.8238691 ,\n",
       "         0.8238691 ,  0.8238691 ,  0.8238691 ,  0.8238691 ,  0.83156882,\n",
       "         0.82964389,  0.82868142,  0.83156882,  0.83156882,  0.83156882,\n",
       "         0.83156882,  0.83156882,  0.82964389,  0.84889317,  0.84696824,\n",
       "         0.84311838,  0.84119346,  0.84311838,  0.84215592,  0.84119346,\n",
       "         0.84311838,  0.84311838,  0.86717998,  0.86429259,  0.85948027,\n",
       "         0.85755534,  0.85755534,  0.85755534,  0.85755534,  0.85755534,\n",
       "         0.85659288,  0.89509143,  0.87680462,  0.87391723,  0.86814244,\n",
       "         0.86910491,  0.86717998,  0.86717998,  0.86525505,  0.86525505,\n",
       "         0.9201155 ,  0.92685274,  0.90952839,  0.91434071,  0.91049086,\n",
       "         0.91530318,  0.906641  ,  0.90471607,  0.90760346,  0.93647738,\n",
       "         0.95572666,  0.95861405,  0.9518768 ,  0.94995188,  0.95668912,\n",
       "         0.95572666,  0.95380173,  0.94995188,  0.94898941,  0.9653513 ,\n",
       "         0.96438884,  0.9653513 ,  0.96920115,  0.97401347,  0.97016362,\n",
       "         0.97401347,  0.97112608]),\n",
       " 'split4_test_score': array([ 0.81818182,  0.81818182,  0.81818182,  0.81818182,  0.81818182,\n",
       "         0.81818182,  0.81818182,  0.81818182,  0.81818182,  0.81818182,\n",
       "         0.81818182,  0.81818182,  0.81818182,  0.81818182,  0.81818182,\n",
       "         0.81818182,  0.81818182,  0.81818182,  0.83636364,  0.81818182,\n",
       "         0.81818182,  0.81818182,  0.83636364,  0.83636364,  0.81818182,\n",
       "         0.81818182,  0.83636364,  0.87272727,  0.85454545,  0.83636364,\n",
       "         0.85454545,  0.85454545,  0.85454545,  0.85454545,  0.85454545,\n",
       "         0.85454545,  0.83636364,  0.81818182,  0.85454545,  0.85454545,\n",
       "         0.87272727,  0.87272727,  0.85454545,  0.85454545,  0.85454545,\n",
       "         0.81818182,  0.83636364,  0.83636364,  0.87272727,  0.87272727,\n",
       "         0.87272727,  0.85454545,  0.85454545,  0.87272727,  0.8       ,\n",
       "         0.78181818,  0.81818182,  0.81818182,  0.83636364,  0.83636364,\n",
       "         0.83636364,  0.83636364,  0.83636364,  0.8       ,  0.85454545,\n",
       "         0.89090909,  0.89090909,  0.87272727,  0.89090909,  0.89090909,\n",
       "         0.87272727,  0.85454545]),\n",
       " 'split4_train_score': array([ 0.8238691 ,  0.8238691 ,  0.8238691 ,  0.8238691 ,  0.8238691 ,\n",
       "         0.8238691 ,  0.8238691 ,  0.8238691 ,  0.8238691 ,  0.82579403,\n",
       "         0.82579403,  0.83060635,  0.83060635,  0.83060635,  0.83060635,\n",
       "         0.83060635,  0.83060635,  0.83060635,  0.83926853,  0.83349374,\n",
       "         0.83349374,  0.83349374,  0.83445621,  0.83445621,  0.83349374,\n",
       "         0.83445621,  0.83349374,  0.8614052 ,  0.85081809,  0.84504331,\n",
       "         0.8479307 ,  0.84600577,  0.84696824,  0.84696824,  0.84696824,\n",
       "         0.85178056,  0.87006737,  0.87006737,  0.86910491,  0.86621752,\n",
       "         0.86621752,  0.86621752,  0.86525505,  0.86621752,  0.86525505,\n",
       "         0.90471607,  0.91241578,  0.89894129,  0.91145332,  0.90760346,\n",
       "         0.90760346,  0.90279115,  0.906641  ,  0.90471607,  0.93551492,\n",
       "         0.94802695,  0.94032724,  0.94417709,  0.9412897 ,  0.94513956,\n",
       "         0.93743985,  0.94610202,  0.94032724,  0.94802695,  0.96727623,\n",
       "         0.96823869,  0.97882579,  0.97112608,  0.97208855,  0.96631376,\n",
       "         0.96920115,  0.97016362]),\n",
       " 'split5_test_score': array([ 0.81818182,  0.81818182,  0.81818182,  0.81818182,  0.81818182,\n",
       "         0.81818182,  0.81818182,  0.81818182,  0.81818182,  0.81818182,\n",
       "         0.81818182,  0.81818182,  0.81818182,  0.81818182,  0.81818182,\n",
       "         0.81818182,  0.81818182,  0.81818182,  0.81818182,  0.81818182,\n",
       "         0.81818182,  0.81818182,  0.81818182,  0.81818182,  0.81818182,\n",
       "         0.81818182,  0.81818182,  0.8       ,  0.81818182,  0.83636364,\n",
       "         0.83636364,  0.83636364,  0.83636364,  0.83636364,  0.83636364,\n",
       "         0.83636364,  0.81818182,  0.83636364,  0.81818182,  0.83636364,\n",
       "         0.83636364,  0.83636364,  0.83636364,  0.83636364,  0.83636364,\n",
       "         0.81818182,  0.81818182,  0.83636364,  0.83636364,  0.83636364,\n",
       "         0.83636364,  0.83636364,  0.83636364,  0.85454545,  0.83636364,\n",
       "         0.76363636,  0.78181818,  0.8       ,  0.83636364,  0.83636364,\n",
       "         0.83636364,  0.83636364,  0.83636364,  0.74545455,  0.81818182,\n",
       "         0.81818182,  0.83636364,  0.81818182,  0.8       ,  0.81818182,\n",
       "         0.81818182,  0.8       ]),\n",
       " 'split5_train_score': array([ 0.8238691 ,  0.8238691 ,  0.8238691 ,  0.8238691 ,  0.8238691 ,\n",
       "         0.8238691 ,  0.8238691 ,  0.8238691 ,  0.8238691 ,  0.82868142,\n",
       "         0.82964389,  0.83060635,  0.83156882,  0.83156882,  0.83060635,\n",
       "         0.83156882,  0.82964389,  0.83060635,  0.84600577,  0.83830606,\n",
       "         0.84119346,  0.84215592,  0.84311838,  0.84023099,  0.84023099,\n",
       "         0.83830606,  0.84023099,  0.87295476,  0.86236766,  0.86429259,\n",
       "         0.86044273,  0.85948027,  0.85755534,  0.85563041,  0.85851781,\n",
       "         0.85851781,  0.88161694,  0.89316651,  0.88739172,  0.88161694,\n",
       "         0.88354187,  0.87969201,  0.87776708,  0.87680462,  0.87584216,\n",
       "         0.90856593,  0.92396535,  0.91915303,  0.90567854,  0.91049086,\n",
       "         0.90856593,  0.90375361,  0.90375361,  0.906641  ,  0.9201155 ,\n",
       "         0.94706449,  0.93936477,  0.94513956,  0.94321463,  0.94610202,\n",
       "         0.93840231,  0.94513956,  0.94417709,  0.9518768 ,  0.97016362,\n",
       "         0.96823869,  0.9759384 ,  0.96920115,  0.97112608,  0.97112608,\n",
       "         0.96920115,  0.96823869]),\n",
       " 'split6_test_score': array([ 0.81818182,  0.81818182,  0.81818182,  0.81818182,  0.81818182,\n",
       "         0.81818182,  0.81818182,  0.81818182,  0.81818182,  0.81818182,\n",
       "         0.81818182,  0.81818182,  0.81818182,  0.81818182,  0.81818182,\n",
       "         0.81818182,  0.81818182,  0.81818182,  0.83636364,  0.83636364,\n",
       "         0.83636364,  0.81818182,  0.83636364,  0.81818182,  0.81818182,\n",
       "         0.81818182,  0.81818182,  0.83636364,  0.83636364,  0.83636364,\n",
       "         0.83636364,  0.83636364,  0.83636364,  0.83636364,  0.83636364,\n",
       "         0.83636364,  0.83636364,  0.81818182,  0.81818182,  0.81818182,\n",
       "         0.81818182,  0.81818182,  0.81818182,  0.81818182,  0.81818182,\n",
       "         0.81818182,  0.81818182,  0.81818182,  0.81818182,  0.81818182,\n",
       "         0.83636364,  0.83636364,  0.83636364,  0.83636364,  0.83636364,\n",
       "         0.83636364,  0.81818182,  0.83636364,  0.83636364,  0.83636364,\n",
       "         0.83636364,  0.83636364,  0.83636364,  0.83636364,  0.81818182,\n",
       "         0.8       ,  0.81818182,  0.81818182,  0.81818182,  0.83636364,\n",
       "         0.83636364,  0.83636364]),\n",
       " 'split6_train_score': array([ 0.8238691 ,  0.8238691 ,  0.8238691 ,  0.8238691 ,  0.8238691 ,\n",
       "         0.8238691 ,  0.8238691 ,  0.8238691 ,  0.8238691 ,  0.82868142,\n",
       "         0.82771896,  0.82964389,  0.83060635,  0.82964389,  0.82868142,\n",
       "         0.82868142,  0.82868142,  0.82868142,  0.8373436 ,  0.84408085,\n",
       "         0.84119346,  0.84311838,  0.84119346,  0.84215592,  0.84119346,\n",
       "         0.84023099,  0.84215592,  0.86621752,  0.87102984,  0.86236766,\n",
       "         0.8614052 ,  0.85851781,  0.85948027,  0.85274302,  0.85659288,\n",
       "         0.85466795,  0.8960539 ,  0.90279115,  0.89316651,  0.89316651,\n",
       "         0.89220404,  0.88931665,  0.88546679,  0.88546679,  0.88450433,\n",
       "         0.91145332,  0.91819057,  0.9172281 ,  0.91434071,  0.91530318,\n",
       "         0.91530318,  0.91145332,  0.91241578,  0.91145332,  0.93358999,\n",
       "         0.96727623,  0.95668912,  0.95283927,  0.95091434,  0.95861405,\n",
       "         0.95668912,  0.96150144,  0.95957652,  0.9547642 ,  0.97401347,\n",
       "         0.97497594,  0.97690087,  0.9759384 ,  0.97690087,  0.97882579,\n",
       "         0.98075072,  0.98171319]),\n",
       " 'split7_test_score': array([ 0.81818182,  0.81818182,  0.81818182,  0.81818182,  0.81818182,\n",
       "         0.81818182,  0.81818182,  0.81818182,  0.81818182,  0.81818182,\n",
       "         0.81818182,  0.81818182,  0.81818182,  0.81818182,  0.81818182,\n",
       "         0.81818182,  0.81818182,  0.81818182,  0.85454545,  0.83636364,\n",
       "         0.83636364,  0.83636364,  0.83636364,  0.81818182,  0.81818182,\n",
       "         0.81818182,  0.81818182,  0.83636364,  0.85454545,  0.81818182,\n",
       "         0.83636364,  0.81818182,  0.81818182,  0.81818182,  0.83636364,\n",
       "         0.83636364,  0.85454545,  0.85454545,  0.83636364,  0.85454545,\n",
       "         0.85454545,  0.85454545,  0.85454545,  0.85454545,  0.85454545,\n",
       "         0.83636364,  0.83636364,  0.83636364,  0.83636364,  0.83636364,\n",
       "         0.83636364,  0.83636364,  0.83636364,  0.83636364,  0.81818182,\n",
       "         0.85454545,  0.89090909,  0.87272727,  0.83636364,  0.83636364,\n",
       "         0.85454545,  0.85454545,  0.85454545,  0.85454545,  0.89090909,\n",
       "         0.89090909,  0.89090909,  0.85454545,  0.85454545,  0.85454545,\n",
       "         0.85454545,  0.85454545]),\n",
       " 'split7_train_score': array([ 0.8238691 ,  0.8238691 ,  0.8238691 ,  0.8238691 ,  0.8238691 ,\n",
       "         0.8238691 ,  0.8238691 ,  0.8238691 ,  0.8238691 ,  0.83253128,\n",
       "         0.83156882,  0.83060635,  0.83060635,  0.83156882,  0.83156882,\n",
       "         0.83156882,  0.83156882,  0.83156882,  0.84600577,  0.84408085,\n",
       "         0.84119346,  0.84119346,  0.84023099,  0.83830606,  0.83638114,\n",
       "         0.83541867,  0.83830606,  0.85948027,  0.85659288,  0.85178056,\n",
       "         0.85659288,  0.85563041,  0.85370549,  0.85081809,  0.85178056,\n",
       "         0.85178056,  0.8825794 ,  0.88931665,  0.88065448,  0.87969201,\n",
       "         0.88161694,  0.87487969,  0.87102984,  0.87006737,  0.87102984,\n",
       "         0.90567854,  0.92974013,  0.93358999,  0.92685274,  0.92396535,\n",
       "         0.91626564,  0.91145332,  0.91434071,  0.91049086,  0.91915303,\n",
       "         0.95091434,  0.9518768 ,  0.95668912,  0.9547642 ,  0.95091434,\n",
       "         0.94706449,  0.9547642 ,  0.95283927,  0.93743985,  0.96920115,\n",
       "         0.96920115,  0.97401347,  0.9759384 ,  0.97305101,  0.96823869,\n",
       "         0.97401347,  0.97208855]),\n",
       " 'split8_test_score': array([ 0.81818182,  0.81818182,  0.81818182,  0.81818182,  0.81818182,\n",
       "         0.81818182,  0.81818182,  0.81818182,  0.81818182,  0.81818182,\n",
       "         0.81818182,  0.81818182,  0.81818182,  0.81818182,  0.81818182,\n",
       "         0.81818182,  0.81818182,  0.81818182,  0.81818182,  0.81818182,\n",
       "         0.81818182,  0.81818182,  0.81818182,  0.81818182,  0.81818182,\n",
       "         0.81818182,  0.81818182,  0.81818182,  0.81818182,  0.81818182,\n",
       "         0.81818182,  0.81818182,  0.81818182,  0.81818182,  0.81818182,\n",
       "         0.81818182,  0.83636364,  0.81818182,  0.81818182,  0.81818182,\n",
       "         0.81818182,  0.81818182,  0.81818182,  0.81818182,  0.81818182,\n",
       "         0.81818182,  0.81818182,  0.81818182,  0.81818182,  0.81818182,\n",
       "         0.81818182,  0.81818182,  0.81818182,  0.81818182,  0.8       ,\n",
       "         0.8       ,  0.83636364,  0.81818182,  0.81818182,  0.8       ,\n",
       "         0.81818182,  0.81818182,  0.81818182,  0.81818182,  0.81818182,\n",
       "         0.81818182,  0.81818182,  0.81818182,  0.81818182,  0.81818182,\n",
       "         0.81818182,  0.81818182]),\n",
       " 'split8_train_score': array([ 0.8238691 ,  0.8238691 ,  0.8238691 ,  0.8238691 ,  0.8238691 ,\n",
       "         0.8238691 ,  0.8238691 ,  0.8238691 ,  0.8238691 ,  0.83349374,\n",
       "         0.83060635,  0.82868142,  0.83060635,  0.83060635,  0.83156882,\n",
       "         0.83156882,  0.83156882,  0.83060635,  0.83830606,  0.83638114,\n",
       "         0.84023099,  0.84311838,  0.84215592,  0.84023099,  0.84023099,\n",
       "         0.84119346,  0.83926853,  0.85948027,  0.85851781,  0.85755534,\n",
       "         0.86333013,  0.86236766,  0.85563041,  0.85370549,  0.85563041,\n",
       "         0.85563041,  0.87584216,  0.87776708,  0.87584216,  0.87006737,\n",
       "         0.86910491,  0.86910491,  0.87006737,  0.87776708,  0.87584216,\n",
       "         0.8960539 ,  0.9172281 ,  0.91819057,  0.90760346,  0.90760346,\n",
       "         0.90952839,  0.90567854,  0.90952839,  0.90471607,  0.92300289,\n",
       "         0.9518768 ,  0.94225217,  0.94032724,  0.94513956,  0.94706449,\n",
       "         0.94610202,  0.95283927,  0.9547642 ,  0.93551492,  0.96438884,\n",
       "         0.96631376,  0.96438884,  0.96920115,  0.97112608,  0.97401347,\n",
       "         0.97497594,  0.9759384 ]),\n",
       " 'split9_test_score': array([ 0.81818182,  0.81818182,  0.81818182,  0.81818182,  0.81818182,\n",
       "         0.81818182,  0.81818182,  0.81818182,  0.81818182,  0.81818182,\n",
       "         0.81818182,  0.81818182,  0.83636364,  0.81818182,  0.81818182,\n",
       "         0.81818182,  0.81818182,  0.81818182,  0.85454545,  0.83636364,\n",
       "         0.83636364,  0.83636364,  0.83636364,  0.83636364,  0.83636364,\n",
       "         0.83636364,  0.83636364,  0.87272727,  0.81818182,  0.83636364,\n",
       "         0.83636364,  0.83636364,  0.83636364,  0.83636364,  0.83636364,\n",
       "         0.83636364,  0.85454545,  0.85454545,  0.83636364,  0.83636364,\n",
       "         0.85454545,  0.87272727,  0.85454545,  0.85454545,  0.85454545,\n",
       "         0.85454545,  0.83636364,  0.83636364,  0.83636364,  0.83636364,\n",
       "         0.83636364,  0.83636364,  0.83636364,  0.83636364,  0.85454545,\n",
       "         0.89090909,  0.87272727,  0.85454545,  0.85454545,  0.85454545,\n",
       "         0.85454545,  0.85454545,  0.85454545,  0.8       ,  0.85454545,\n",
       "         0.85454545,  0.85454545,  0.87272727,  0.85454545,  0.85454545,\n",
       "         0.85454545,  0.85454545]),\n",
       " 'split9_train_score': array([ 0.8238691 ,  0.8238691 ,  0.8238691 ,  0.8238691 ,  0.8238691 ,\n",
       "         0.8238691 ,  0.8238691 ,  0.8238691 ,  0.8238691 ,  0.82868142,\n",
       "         0.82483157,  0.8267565 ,  0.82868142,  0.83060635,  0.83060635,\n",
       "         0.82868142,  0.82771896,  0.8267565 ,  0.84215592,  0.8373436 ,\n",
       "         0.83541867,  0.83926853,  0.84215592,  0.83926853,  0.84023099,\n",
       "         0.83926853,  0.84119346,  0.86429259,  0.85851781,  0.85081809,\n",
       "         0.85370549,  0.85178056,  0.85081809,  0.85081809,  0.85370549,\n",
       "         0.85274302,  0.86621752,  0.88065448,  0.87776708,  0.87295476,\n",
       "         0.8719923 ,  0.87295476,  0.86910491,  0.8719923 ,  0.87295476,\n",
       "         0.91145332,  0.92492782,  0.91241578,  0.91145332,  0.90760346,\n",
       "         0.90086622,  0.89894129,  0.90567854,  0.90567854,  0.91049086,\n",
       "         0.93647738,  0.93262753,  0.93743985,  0.93455245,  0.9307026 ,\n",
       "         0.93647738,  0.9412897 ,  0.94321463,  0.9307026 ,  0.96727623,\n",
       "         0.95765159,  0.96246391,  0.96342637,  0.96438884,  0.96631376,\n",
       "         0.96438884,  0.97112608]),\n",
       " 'std_fit_time': array([ 0.0056681 ,  0.00196873,  0.00394004,  0.00144416,  0.00261007,\n",
       "         0.00217013,  0.00424839,  0.00262636,  0.0047067 ,  0.00096699,\n",
       "         0.00410851,  0.00151052,  0.00473764,  0.00786598,  0.00520825,\n",
       "         0.00270449,  0.00552459,  0.00305238,  0.00061442,  0.00248355,\n",
       "         0.00144809,  0.00172609,  0.00377643,  0.00429757,  0.00217469,\n",
       "         0.00461999,  0.00828018,  0.00081297,  0.0034907 ,  0.00273135,\n",
       "         0.003062  ,  0.00855935,  0.00339158,  0.00248473,  0.006199  ,\n",
       "         0.00626942,  0.00082944,  0.0011003 ,  0.00150532,  0.01365543,\n",
       "         0.02100298,  0.00539115,  0.00402178,  0.00507282,  0.03631104,\n",
       "         0.00418742,  0.00349095,  0.00272813,  0.01457046,  0.00370779,\n",
       "         0.00386137,  0.00726639,  0.01160227,  0.00770792,  0.00084748,\n",
       "         0.00230326,  0.00455295,  0.0035305 ,  0.0049094 ,  0.00340753,\n",
       "         0.00500202,  0.00919081,  0.00684969,  0.00225972,  0.0043677 ,\n",
       "         0.00405537,  0.00371947,  0.00316006,  0.00638919,  0.00703215,\n",
       "         0.02599459,  0.02107711]),\n",
       " 'std_score_time': array([  3.53656657e-04,   2.76520027e-04,   5.91218769e-04,\n",
       "          2.83456200e-04,   2.28790750e-04,   6.12515802e-04,\n",
       "          5.66443294e-04,   3.62898014e-04,   5.84776484e-04,\n",
       "          1.48855048e-04,   2.35991333e-04,   2.30299852e-04,\n",
       "          5.43489239e-04,   3.36148141e-04,   3.99889606e-04,\n",
       "          1.85853323e-04,   3.63962879e-04,   3.70596752e-04,\n",
       "          6.79138200e-05,   1.40207024e-04,   2.98405729e-04,\n",
       "          1.73248356e-04,   2.76625056e-04,   3.96144363e-04,\n",
       "          8.03302821e-04,   5.27883266e-04,   7.35381310e-04,\n",
       "          1.74646146e-04,   7.22460996e-04,   2.58014672e-04,\n",
       "          2.93385904e-04,   2.98500942e-04,   5.06358093e-04,\n",
       "          5.65393791e-04,   2.83826968e-04,   7.66968235e-04,\n",
       "          2.11048800e-04,   2.93797782e-04,   1.76671215e-04,\n",
       "          1.70735576e-03,   2.39232142e-03,   6.16006427e-04,\n",
       "          5.08848380e-04,   4.10084132e-04,   2.67880599e-03,\n",
       "          1.58857799e-03,   2.12717268e-04,   5.84135328e-04,\n",
       "          4.19548869e-04,   4.06962633e-04,   5.18382475e-04,\n",
       "          1.69846340e-03,   7.07101632e-04,   7.16232525e-04,\n",
       "          1.65918323e-04,   6.55310106e-04,   3.68374249e-04,\n",
       "          7.04247305e-04,   7.88590545e-04,   1.95702856e-04,\n",
       "          7.54443746e-04,   1.33995542e-03,   6.01344488e-04,\n",
       "          1.27194024e-04,   2.09547936e-04,   4.54271776e-04,\n",
       "          3.21781309e-04,   3.96274935e-04,   9.81818639e-04,\n",
       "          4.61839558e-04,   2.39912929e-03,   1.76708505e-03]),\n",
       " 'std_test_score': array([ 0.00699662,  0.00711938,  0.00711938,  0.00711938,  0.00711938,\n",
       "         0.00711938,  0.00711938,  0.00711938,  0.00711938,  0.01111877,\n",
       "         0.01114919,  0.00981313,  0.00986183,  0.00981313,  0.00981313,\n",
       "         0.0082638 ,  0.0082638 ,  0.0082638 ,  0.02331958,  0.01473262,\n",
       "         0.01563233,  0.01413209,  0.01307418,  0.01287872,  0.0115927 ,\n",
       "         0.00990717,  0.01108776,  0.0367675 ,  0.02401872,  0.02239041,\n",
       "         0.02205413,  0.01959238,  0.02019981,  0.01832799,  0.01711056,\n",
       "         0.01627157,  0.03717647,  0.02857913,  0.02872415,  0.02295455,\n",
       "         0.02343696,  0.02353524,  0.0198424 ,  0.0186385 ,  0.01940399,\n",
       "         0.02066101,  0.02434213,  0.02189762,  0.02391545,  0.01908413,\n",
       "         0.02030815,  0.01881538,  0.01969447,  0.02284865,  0.03670981,\n",
       "         0.039826  ,  0.03467203,  0.03387932,  0.02973932,  0.02972979,\n",
       "         0.02704466,  0.02675589,  0.02523744,  0.03201969,  0.03371413,\n",
       "         0.03337082,  0.03102769,  0.02741678,  0.0307109 ,  0.02963403,\n",
       "         0.02824207,  0.02824315]),\n",
       " 'std_train_score': array([ 0.00043301,  0.0003734 ,  0.0003734 ,  0.0003734 ,  0.0003734 ,\n",
       "         0.0003734 ,  0.0003734 ,  0.0003734 ,  0.0003734 ,  0.00301562,\n",
       "         0.00240999,  0.00144427,  0.00112092,  0.00115588,  0.00127464,\n",
       "         0.00116052,  0.00138264,  0.00136937,  0.00466099,  0.00423356,\n",
       "         0.00368804,  0.00340986,  0.00325239,  0.00276932,  0.00312852,\n",
       "         0.00312333,  0.00313641,  0.00745372,  0.00601354,  0.00477513,\n",
       "         0.0038383 ,  0.00428343,  0.00360279,  0.00369375,  0.00329927,\n",
       "         0.00281503,  0.00853579,  0.00871839,  0.00768859,  0.00734765,\n",
       "         0.00682541,  0.00695926,  0.00702959,  0.00630757,  0.00568778,\n",
       "         0.00975662,  0.00843275,  0.00833056,  0.00585073,  0.00559593,\n",
       "         0.00527422,  0.00534249,  0.00614958,  0.00585823,  0.01110833,\n",
       "         0.01213239,  0.01014888,  0.00814804,  0.00716548,  0.0076103 ,\n",
       "         0.00740464,  0.00738794,  0.00825801,  0.00842346,  0.00680015,\n",
       "         0.00550535,  0.00624155,  0.00441283,  0.00498789,  0.00473191,\n",
       "         0.0044273 ,  0.0054021 ])}"
      ]
     },
     "execution_count": 278,
     "metadata": {},
     "output_type": "execute_result"
    }
   ],
   "source": [
    "gs.cv_results_"
   ]
  },
  {
   "cell_type": "markdown",
   "metadata": {},
   "source": [
    "Now we will use cross-validation to correctly identify the parameters for our Classifier. We will do a grid search along the following values for the number of trees (`n_estimators`):"
   ]
  },
  {
   "cell_type": "code",
   "execution_count": 245,
   "metadata": {
    "collapsed": true
   },
   "outputs": [],
   "source": [
    "num_trees_vals = list(range(5,105,5))"
   ]
  },
  {
   "cell_type": "markdown",
   "metadata": {},
   "source": [
    "And the following values for the maximum depth:"
   ]
  },
  {
   "cell_type": "code",
   "execution_count": 240,
   "metadata": {
    "collapsed": true
   },
   "outputs": [],
   "source": [
    "depth_vals = list(range(1,31,2))"
   ]
  },
  {
   "cell_type": "markdown",
   "metadata": {},
   "source": [
    "We will use Stratified K-fold cross-validation in order to find the model parameters to reduce the overfitting. Stratified means there is roughly the same percentage of samples of each target class as the complete set.\n",
    "\n",
    "We will take K = 20. This [link](http://scikit-learn.org/stable/modules/cross_validation.html) is a very useful resource on how to properly perform cross-validation."
   ]
  },
  {
   "cell_type": "code",
   "execution_count": 233,
   "metadata": {
    "collapsed": true
   },
   "outputs": [],
   "source": [
    "Kf = 20 \n",
    "training_errors = np.zeros([len(num_trees_vals),len(depth_vals)])\n",
    "testing_errors = np.zeros([len(num_trees_vals),len(depth_vals)])\n",
    "random_seed = 0\n",
    "for i in range(len(num_trees_vals)):\n",
    "    for j in range((len(depth_vals))):\n",
    "        # construct random forest object\n",
    "        n_estimators = num_trees_vals[i]\n",
    "        max_depth = depth_vals[j]\n",
    "        forest = ensemble.RandomForestClassifier(n_estimators=n_estimators, max_depth=max_depth, random_state=random_seed)\n",
    "        scores = cross_val_score(forest, X_train, Y_train, cv=5)\n",
    "        print(scores)"
   ]
  },
  {
   "cell_type": "code",
   "execution_count": 242,
   "metadata": {
    "collapsed": false
   },
   "outputs": [
    {
     "name": "stdout",
     "output_type": "stream",
     "text": [
      "[ 0.80357143  0.81818182  0.83636364  0.81818182  0.81818182  0.81818182\n",
      "  0.83636364  0.83636364  0.81818182  0.85454545  0.85454545  0.78181818\n",
      "  0.85454545  0.81481481  0.85185185  0.77777778  0.87037037  0.83333333\n",
      "  0.83333333  0.83333333]\n"
     ]
    }
   ],
   "source": [
    "forest = ensemble.RandomForestClassifier(n_estimators=10, max_depth=10, random_state=random_seed)\n",
    "scores = cross_val_score(forest, X_train, Y_train, cv=20)\n",
    "print(scores)"
   ]
  },
  {
   "cell_type": "code",
   "execution_count": 243,
   "metadata": {
    "collapsed": false
   },
   "outputs": [
    {
     "data": {
      "text/plain": [
       "{'bootstrap': True,\n",
       " 'class_weight': None,\n",
       " 'criterion': 'gini',\n",
       " 'max_depth': 10,\n",
       " 'max_features': 'auto',\n",
       " 'max_leaf_nodes': None,\n",
       " 'min_impurity_split': 1e-07,\n",
       " 'min_samples_leaf': 1,\n",
       " 'min_samples_split': 2,\n",
       " 'min_weight_fraction_leaf': 0.0,\n",
       " 'n_estimators': 10,\n",
       " 'n_jobs': 1,\n",
       " 'oob_score': False,\n",
       " 'random_state': 0,\n",
       " 'verbose': 0,\n",
       " 'warm_start': False}"
      ]
     },
     "execution_count": 243,
     "metadata": {},
     "output_type": "execute_result"
    }
   ],
   "source": [
    "forest.get_params()"
   ]
  },
  {
   "cell_type": "code",
   "execution_count": 308,
   "metadata": {
    "collapsed": false
   },
   "outputs": [
    {
     "name": "stdout",
     "output_type": "stream",
     "text": [
      "Features sorted by their score:\n",
      "1. leagueCountry_France (0.210600)\n",
      "2. weightedExp (0.151400)\n",
      "3. uniqueYellow (0.121600)\n",
      "4. defeats (0.104200)\n",
      "5. weightedIAT (0.071200)\n",
      "6. victories (0.062500)\n",
      "7. games (0.053400)\n",
      "8. club_Stade Rennes (0.045400)\n",
      "9. position_Center Forward (0.033300)\n",
      "10. age (0.031700)\n",
      "11. uniqueRefCards (0.031100)\n",
      "12. club_Stade Reims (0.029700)\n",
      "13. height (0.022600)\n",
      "The feature importance propotion of the top 13: 0.968700\n"
     ]
    }
   ],
   "source": [
    "print (\"Features sorted by their score:\")\n",
    "importance = gs.best_estimator_.feature_importances_\n",
    "sorted_feature = sorted(zip(map(lambda x: round(x, 4), importance), feature_name), reverse=True)\n",
    "sum_fi = 0\n",
    "for f_importance in range(13):\n",
    "    sum_fi += sorted_feature[f_importance][0]\n",
    "    print(\"%d. %s (%f)\" % (f_importance + 1, sorted_feature[f_importance][1], sorted_feature[f_importance][0]))\n",
    "print(\"The feature importance propotion of the top 13: %f\" % sum_fi )"
   ]
  },
  {
   "cell_type": "code",
   "execution_count": null,
   "metadata": {
    "collapsed": true
   },
   "outputs": [],
   "source": []
  },
  {
   "cell_type": "markdown",
   "metadata": {},
   "source": [
    "Now we will vary across different values for the Classifier parameters in order to show how different parameters can affect the overfitting issue. Furthermore, we will vary the parameters - `n_estimators` (number of trees) and `max_depth` (maximum depth of tree) - and for each pair of values:\n",
    "\n",
    "1. Train a Random Forest Classifier\n",
    "2. Compute the training accuracy on the training set (`X_train`, `Y_train`)\n",
    "3. Compute the testing accuracy on the testing set (`X_test`, `Y_test`)"
   ]
  },
  {
   "cell_type": "code",
   "execution_count": 161,
   "metadata": {
    "collapsed": false
   },
   "outputs": [
    {
     "name": "stdout",
     "output_type": "stream",
     "text": [
      "0.880255941499\n",
      "0.855319148936\n"
     ]
    }
   ],
   "source": [
    "forest = ensemble.RandomForestClassifier(n_estimators = 100, max_depth = 10, random_state=0)\n",
    "forest = forest.fit(X_train, Y_train)\n",
    "# compute predictions\n",
    "Y_train_pred = forest.predict(X_train)\n",
    "Y_test_pred = forest.predict(X_test)\n",
    "# calculate accuracy\n",
    "print(metrics.accuracy_score(Y_train, Y_train_pred))\n",
    "print(metrics.accuracy_score(Y_test, Y_test_pred))"
   ]
  },
  {
   "cell_type": "code",
   "execution_count": null,
   "metadata": {
    "collapsed": true
   },
   "outputs": [],
   "source": []
  },
  {
   "cell_type": "code",
   "execution_count": null,
   "metadata": {
    "collapsed": true
   },
   "outputs": [],
   "source": []
  },
  {
   "cell_type": "markdown",
   "metadata": {},
   "source": [
    "## Pure Random Forest (PRF)\n",
    "\n",
    "Before using cross-validation or dividing into training and test sets, we would like to get a rough idea of what are the most important features when we give all the data."
   ]
  },
  {
   "cell_type": "code",
   "execution_count": 45,
   "metadata": {
    "collapsed": false
   },
   "outputs": [],
   "source": [
    "from sklearn import ensemble"
   ]
  },
  {
   "cell_type": "code",
   "execution_count": 52,
   "metadata": {
    "collapsed": false
   },
   "outputs": [],
   "source": [
    "# random-forest\n",
    "feature_name = player_data_clean.columns.values.tolist()\n",
    "n_sample = player_data_clean.shape[0] #1564\n",
    "n_feature = player_data_clean.shape[1]-1 #130\n",
    "X = player_data_clean.ix[0::, :(n_feature-1)]\n",
    "Y = player_data_clean.ix[0::, n_feature]\n",
    "label = Y\n",
    "\n",
    "# Create the random forest object for the fit\n",
    "forest = ensemble.RandomForestClassifier(n_estimators = 100, random_state=0)\n",
    "# Fit the training data to the skin labels and create the decision trees\n",
    "forest = forest.fit(X, Y)"
   ]
  },
  {
   "cell_type": "markdown",
   "metadata": {},
   "source": [
    "Since there are 130 features, we just observe first 13 features (10%)."
   ]
  },
  {
   "cell_type": "code",
   "execution_count": 53,
   "metadata": {
    "collapsed": false
   },
   "outputs": [
    {
     "name": "stdout",
     "output_type": "stream",
     "text": [
      "Features sorted by their score:\n",
      "1. weightedIAT (0.086400)\n",
      "2. weightedExp (0.078000)\n",
      "3. age (0.054400)\n",
      "4. defeats (0.052400)\n",
      "5. victories (0.050300)\n",
      "6. games (0.047600)\n",
      "7. goals (0.046500)\n",
      "8. ties (0.046100)\n",
      "9. uniqueYellow (0.044800)\n",
      "10. yellowCards (0.044400)\n",
      "11. weight (0.044400)\n",
      "12. uniqueRefCards (0.042800)\n",
      "13. height (0.041400)\n",
      "The feature importance propotion of the top 13: 0.679500\n"
     ]
    }
   ],
   "source": [
    "print (\"Features sorted by their score:\")\n",
    "importance = forest.feature_importances_\n",
    "sorted_feature = sorted(zip(map(lambda x: round(x, 4), importance), feature_name), reverse=True)\n",
    "sum_fi = 0\n",
    "for f_importance in range(13):\n",
    "    sum_fi += sorted_feature[f_importance][0]\n",
    "    print(\"%d. %s (%f)\" % (f_importance + 1, sorted_feature[f_importance][1], sorted_feature[f_importance][0]))\n",
    "print(\"The feature importance propotion of the top 13: %f\" % sum_fi )"
   ]
  },
  {
   "cell_type": "code",
   "execution_count": 56,
   "metadata": {
    "collapsed": false
   },
   "outputs": [],
   "source": [
    "top_feature = pd.DataFrame(sorted_feature[:13], columns = ['feature_importance', 'feature_name'])"
   ]
  },
  {
   "cell_type": "code",
   "execution_count": 57,
   "metadata": {
    "collapsed": false
   },
   "outputs": [
    {
     "data": {
      "image/png": "[encoded data removed]",
      "text/plain": [
       "<matplotlib.figure.Figure at 0x11666ffd0>"
      ]
     },
     "metadata": {},
     "output_type": "display_data"
    }
   ],
   "source": [
    "# Plot the feature importances of the forest\n",
    "plt.figure()\n",
    "plt.title(\"PRF top 13\")\n",
    "top_feature['feature_importance'].plot(kind='bar') \n",
    "plt.xlabel('Feature')\n",
    "plt.ylabel('Importance')\n",
    "plt.show()"
   ]
  },
  {
   "cell_type": "markdown",
   "metadata": {},
   "source": [
    "## Playing with parameters of the Classifier"
   ]
  },
  {
   "cell_type": "code",
   "execution_count": null,
   "metadata": {
    "collapsed": true
   },
   "outputs": [],
   "source": [
    "forest = ensemble.RandomForestClassifier(n_estimators = 1000, random_state=0)\n",
    "forest = forest.fit(X, Y)"
   ]
  },
  {
   "cell_type": "markdown",
   "metadata": {},
   "source": [
    "## Random Forest using cross-validation (RFCV)"
   ]
  },
  {
   "cell_type": "markdown",
   "metadata": {},
   "source": [
    "Divide the data set into training and testing part. Train the model with training set and use this model to make the prediction of testing set. Calculate the difference between predictions and the ture label in testing set."
   ]
  },
  {
   "cell_type": "code",
   "execution_count": 27,
   "metadata": {
    "collapsed": false
   },
   "outputs": [],
   "source": [
    "# cross-validation\n",
    "from sklearn.model_selection import train_test_split\n",
    "from sklearn import metrics\n",
    "\n",
    "X_train, X_test, Y_train, Y_test = train_test_split(X, Y, random_state=0)"
   ]
  },
  {
   "cell_type": "code",
   "execution_count": 28,
   "metadata": {
    "collapsed": false
   },
   "outputs": [
    {
     "name": "stdout",
     "output_type": "stream",
     "text": [
      "0.856777493606\n"
     ]
    }
   ],
   "source": [
    "# Create the random forest object for the fit\n",
    "rf = ensemble.RandomForestClassifier(n_estimators = 100, random_state=0)\n",
    "# Fit the training data to the skin labels and create the decision trees\n",
    "rf = rf.fit(X_train, Y_train)\n",
    "# Get predict\n",
    "rf_predict = rf.predict(X_test)\n",
    "# calculate accuracy\n",
    "print(metrics.accuracy_score(Y_test, rf_predict))"
   ]
  },
  {
   "cell_type": "markdown",
   "metadata": {},
   "source": [
    "The precision is over 85%, which seems to be pretty good."
   ]
  },
  {
   "cell_type": "code",
   "execution_count": 29,
   "metadata": {
    "collapsed": false
   },
   "outputs": [],
   "source": [
    "# observe first 13 features(10%)\n",
    "rf_importance = rf.feature_importances_\n",
    "rf_feature = sorted(zip(map(lambda x: round(x, 4), rf_importance), feature_name), reverse=True)\n",
    "top_feature = pd.DataFrame(rf_feature[:13], columns = ['feature_importance', 'feature_name'])"
   ]
  },
  {
   "cell_type": "code",
   "execution_count": 30,
   "metadata": {
    "collapsed": false
   },
   "outputs": [
    {
     "name": "stdout",
     "output_type": "stream",
     "text": [
      "Features sorted by their score:\n",
      "1. weightedIAT (0.086700)\n",
      "2. weightedExp (0.077500)\n",
      "3. age (0.054800)\n",
      "4. defeats (0.051200)\n",
      "5. victories (0.050900)\n",
      "6. goals (0.050700)\n",
      "7. games (0.047600)\n",
      "8. weight (0.045400)\n",
      "9. uniqueRefCards (0.042700)\n",
      "10. ties (0.042200)\n",
      "11. height (0.040700)\n",
      "12. yellowCards (0.039900)\n",
      "13. uniqueYellow (0.039500)\n",
      "The feature importance propotion of the top 13: 0.669800\n"
     ]
    }
   ],
   "source": [
    "print (\"Features sorted by their score:\")\n",
    "sum_fi = 0\n",
    "for f_importance in range(13):\n",
    "    sum_fi += rf_feature[f_importance][0]\n",
    "    print(\"%d. %s (%f)\" % (f_importance + 1, rf_feature[f_importance][1], rf_feature[f_importance][0]))\n",
    "print(\"The feature importance propotion of the top 13: %f\" % sum_fi )"
   ]
  },
  {
   "cell_type": "code",
   "execution_count": 31,
   "metadata": {
    "collapsed": false
   },
   "outputs": [
    {
     "data": {
      "image/png": "[encoded data removed]",
      "text/plain": [
       "<matplotlib.figure.Figure at 0x2241b669048>"
      ]
     },
     "metadata": {},
     "output_type": "display_data"
    }
   ],
   "source": [
    "# Plot the feature importances of the forest\n",
    "plt.figure()\n",
    "plt.title(\"RFCV top 13\")\n",
    "top_feature['feature_importance'].plot(kind='bar') \n",
    "plt.xlabel('Feature')\n",
    "plt.ylabel('Importance')\n",
    "plt.show()"
   ]
  },
  {
   "cell_type": "markdown",
   "metadata": {},
   "source": [
    "Comparing to the pure random forest(PRF), the top 5 of most important features of the random forest using cross-validation(RFCV) are the same: weightedIAT, weightedExp, age, victories, games. The feature importance propotion of these top 13 features are similar: PRF - 0.6732, RFCV - 0.6698. \n",
    "\n",
    "In addition, results slightly change if restart to compute the forest without fixing random_state(since the forest is built 'randomly').\n",
    "\n",
    "## RFCV without Height and Weight (RFCV_HW)\n",
    "\n",
    "Surprisingly, we once assumed that the 'height' and 'weight' of players are not important to the classification. However, they are at the top 13 of both random forest. What's more, in the RFCV, the importance of 'weight' increase. In order to learn how different parameters affect the model, we drop features 'height' and 'weight' to see the differences."
   ]
  },
  {
   "cell_type": "code",
   "execution_count": 68,
   "metadata": {
    "collapsed": false
   },
   "outputs": [
    {
     "data": {
      "text/plain": [
       "(1564, 129)"
      ]
     },
     "execution_count": 68,
     "metadata": {},
     "output_type": "execute_result"
    }
   ],
   "source": [
    "# RFCV without 'height' and 'weight'\n",
    "data_selection = data_no_nan.drop('height', axis=1)\n",
    "data_selection = data_selection.drop('weight', axis=1)\n",
    "data_selection.shape"
   ]
  },
  {
   "cell_type": "code",
   "execution_count": 69,
   "metadata": {
    "collapsed": true
   },
   "outputs": [],
   "source": [
    "n_feature_name = data_selection.columns.values.tolist()\n",
    "n_sample = data_selection.shape[0] #1564\n",
    "n_feature = data_selection.shape[1]-1 #128\n",
    "X1 = data_selection.ix[0::, :(n_feature-1)]\n",
    "Y1 = data_selection.ix[0::, n_feature]\n",
    "\n",
    "X1_train, X1_test, Y1_train, Y1_test = train_test_split(X1, Y1, random_state=0)"
   ]
  },
  {
   "cell_type": "code",
   "execution_count": 70,
   "metadata": {
    "collapsed": false
   },
   "outputs": [
    {
     "name": "stdout",
     "output_type": "stream",
     "text": [
      "0.854219948849\n"
     ]
    }
   ],
   "source": [
    "# Create the random forest object for the fit\n",
    "rf1 = ensemble.RandomForestClassifier(n_estimators = 100, random_state=0)\n",
    "# Fit the training data to the skin labels and create the decision trees\n",
    "rf1 = rf1.fit(X1_train, Y1_train)\n",
    "# Get predict\n",
    "rf1_predict = rf1.predict(X1_test)\n",
    "# calculate accuracy\n",
    "print(metrics.accuracy_score(Y1_test, rf1_predict))"
   ]
  },
  {
   "cell_type": "markdown",
   "metadata": {},
   "source": [
    "The difference of accuracy is slight: RFCV - 0.8568, RFCV_HW - 0.8542, around 0.02. Sometimes it is surprised to see the accuracy is even higher than before(change the random_state of forest building). Although these two features account for high percentage in RFCV, we can draw the conclusion that these they don't play important roles in our model."
   ]
  },
  {
   "cell_type": "code",
   "execution_count": 71,
   "metadata": {
    "collapsed": true
   },
   "outputs": [],
   "source": [
    "# observe first 13 features(10%)\n",
    "rf1_importance = rf1.feature_importances_\n",
    "rf1_feature = sorted(zip(map(lambda x: round(x, 4), rf1_importance), n_feature_name), reverse=True)\n",
    "t_feature = pd.DataFrame(rf1_feature[:13], columns = ['feature_importance', 'feature_name'])"
   ]
  },
  {
   "cell_type": "code",
   "execution_count": 72,
   "metadata": {
    "collapsed": false
   },
   "outputs": [
    {
     "name": "stdout",
     "output_type": "stream",
     "text": [
      "Features sorted by their score:\n",
      "1. weightedIAT (0.096600)\n",
      "2. weightedExp (0.080300)\n",
      "3. age (0.061900)\n",
      "4. games (0.057500)\n",
      "5. victories (0.056600)\n",
      "6. goals (0.051900)\n",
      "7. ties (0.050400)\n",
      "8. defeats (0.049100)\n",
      "9. yellowCards (0.046400)\n",
      "10. uniqueYellow (0.044500)\n",
      "11. uniqueRefCards (0.043500)\n",
      "12. uniqueReds (0.023200)\n",
      "13. leagueCountry_France (0.022300)\n",
      "The feature importance propotion of the top 13: 0.684200\n"
     ]
    }
   ],
   "source": [
    "print (\"Features sorted by their score:\")\n",
    "sum_fi = 0\n",
    "key_feature = []\n",
    "for f_importance in range(13):\n",
    "    sum_fi += rf1_feature[f_importance][0]\n",
    "    print(\"%d. %s (%f)\" % (f_importance + 1, rf1_feature[f_importance][1], rf1_feature[f_importance][0]))\n",
    "    key_feature.append(rf1_feature[f_importance][1])\n",
    "print(\"The feature importance propotion of the top 13: %f\" % sum_fi )"
   ]
  },
  {
   "cell_type": "code",
   "execution_count": 37,
   "metadata": {
    "collapsed": false
   },
   "outputs": [
    {
     "data": {
      "image/png": "[encoded data removed]",
      "text/plain": [
       "<matplotlib.figure.Figure at 0x2241be67320>"
      ]
     },
     "metadata": {},
     "output_type": "display_data"
    }
   ],
   "source": [
    "# Plot the feature importances of the forest\n",
    "plt.figure()\n",
    "plt.title(\"RFCV_HW top 13\")\n",
    "t_feature['feature_importance'].plot(kind='bar') \n",
    "plt.xlabel('Feature')\n",
    "plt.ylabel('Importance')\n",
    "plt.show()"
   ]
  },
  {
   "cell_type": "markdown",
   "metadata": {},
   "source": [
    "The top 5 of most important features are the same: weightedIAT, weightedExp, age, victories, games. The feature importance propotion of these top 13 features are slightly higher: 0.6842. "
   ]
  },
  {
   "cell_type": "markdown",
   "metadata": {},
   "source": [
    "## RFCV with top features\n",
    "According to the result above, it is not hard to find that, features about position, club and country are less useful. Let's just keep the top  features which account for over 0.04(top 11) to build a better model."
   ]
  },
  {
   "cell_type": "code",
   "execution_count": 86,
   "metadata": {
    "collapsed": false
   },
   "outputs": [
    {
     "data": {
      "text/plain": [
       "['weightedIAT',\n",
       " 'weightedExp',\n",
       " 'age',\n",
       " 'games',\n",
       " 'victories',\n",
       " 'goals',\n",
       " 'ties',\n",
       " 'defeats',\n",
       " 'yellowCards',\n",
       " 'uniqueYellow',\n",
       " 'uniqueRefCards']"
      ]
     },
     "execution_count": 86,
     "metadata": {},
     "output_type": "execute_result"
    }
   ],
   "source": [
    "feature_name = key_feature[:11] # reduce the last one for country information\n",
    "feature_name"
   ]
  },
  {
   "cell_type": "code",
   "execution_count": 87,
   "metadata": {
    "collapsed": false
   },
   "outputs": [
    {
     "data": {
      "text/plain": [
       "(1564, 11)"
      ]
     },
     "execution_count": 87,
     "metadata": {},
     "output_type": "execute_result"
    }
   ],
   "source": [
    "# RFCV with key features\n",
    "data_key = data_selection[feature_name]\n",
    "data_key.shape"
   ]
  },
  {
   "cell_type": "code",
   "execution_count": 88,
   "metadata": {
    "collapsed": false
   },
   "outputs": [
    {
     "name": "stdout",
     "output_type": "stream",
     "text": [
      "0.859335038363\n"
     ]
    }
   ],
   "source": [
    "n_sample = data_key.shape[0] #1564\n",
    "n_feature = data_key.shape[1] #12\n",
    "X1 = data_key.ix[0::, :n_feature] \n",
    "Y1 = label#use the same\n",
    "\n",
    "X1_train, X1_test, Y1_train, Y1_test = train_test_split(X1, Y1, random_state=0)\n",
    "# Create the random forest object for the fit\n",
    "rf1 = ensemble.RandomForestClassifier(n_estimators = 100, random_state=0)\n",
    "# Fit the training data to the skin labels and create the decision trees\n",
    "rf1 = rf1.fit(X1_train, Y1_train)\n",
    "# Get predict\n",
    "rf1_predict = rf1.predict(X1_test)\n",
    "# calculate accuracy\n",
    "print(metrics.accuracy_score(Y1_test, rf1_predict))"
   ]
  },
  {
   "cell_type": "markdown",
   "metadata": {},
   "source": [
    "The result is slightly improved. Let's see the feature importance of our new model:"
   ]
  },
  {
   "cell_type": "code",
   "execution_count": 91,
   "metadata": {
    "collapsed": false
   },
   "outputs": [
    {
     "name": "stdout",
     "output_type": "stream",
     "text": [
      "Features sorted by their score:\n",
      "1. weightedIAT (0.160800)\n",
      "2. weightedExp (0.135500)\n",
      "3. age (0.098000)\n",
      "4. victories (0.090700)\n",
      "5. goals (0.081700)\n",
      "6. defeats (0.081200)\n",
      "7. games (0.080800)\n",
      "8. ties (0.076400)\n",
      "9. yellowCards (0.065900)\n",
      "10. uniqueYellow (0.064900)\n",
      "11. uniqueRefCards (0.064100)\n"
     ]
    }
   ],
   "source": [
    "# observe all key features\n",
    "rf1_importance = rf1.feature_importances_\n",
    "rf1_feature = sorted(zip(map(lambda x: round(x, 4), rf1_importance), feature_name), reverse=True)\n",
    "t_feature = pd.DataFrame(rf1_feature, columns = ['feature_importance', 'feature_name'])\n",
    "\n",
    "print (\"Features sorted by their score:\")\n",
    "for f_importance in range(len(feature_name)):\n",
    "    print(\"%d. %s (%f)\" % (f_importance + 1, rf1_feature[f_importance][1], rf1_feature[f_importance][0]))"
   ]
  },
  {
   "cell_type": "markdown",
   "metadata": {
    "collapsed": true
   },
   "source": [
    "# BONUS\n",
    "Plot the learning curves against at least 2 different sets of parameters passed to your Random Forest. To obtain smooth curves, partition your data in at least 20 folds. Can you find a set of parameters that leads to high bias, and one which does not?"
   ]
  },
  {
   "cell_type": "markdown",
   "metadata": {},
   "source": [
    "## Random forest with k-flod cross-validation\n",
    "We first use k-flod cross-validation for checking our best model, and then plot the learning curves:"
   ]
  },
  {
   "cell_type": "code",
   "execution_count": 92,
   "metadata": {
    "collapsed": false
   },
   "outputs": [],
   "source": [
    "from sklearn.model_selection import KFold\n",
    "from sklearn.model_selection import learning_curve\n",
    "\n",
    "X = X1\n",
    "Y = label"
   ]
  },
  {
   "cell_type": "code",
   "execution_count": 93,
   "metadata": {
    "collapsed": false
   },
   "outputs": [
    {
     "name": "stdout",
     "output_type": "stream",
     "text": [
      "[0.82183908045977017, 0.83109404990403069, 0.84836852207293667]\n"
     ]
    }
   ],
   "source": [
    "# k-fold cross-validation with k-fold=3, n_estimators = 20\n",
    "kf = KFold(n_splits=3)\n",
    "kf_score = []\n",
    "\n",
    "for train_index, test_index in kf.split(X):\n",
    "    # Split data\n",
    "    X_train, X_test = X.iloc[train_index], X.iloc[test_index] #DataFrame!\n",
    "    Y_train, Y_test = Y[train_index], Y[test_index]\n",
    "    # Create the random forest object for the fit\n",
    "    rf_kf = ensemble.RandomForestClassifier(n_estimators = 20, random_state=0)\n",
    "    # Fit the training data to the skin labels and create the decision trees\n",
    "    rf_kf = rf_kf.fit(X_train, Y_train)\n",
    "    # Get predict\n",
    "    rf_kf_predict = rf_kf.predict(X_test)\n",
    "    # calculate accuracy\n",
    "    kf_score.append(metrics.accuracy_score(Y_test, rf_kf_predict))\n",
    "    \n",
    "print(kf_score)"
   ]
  },
  {
   "cell_type": "markdown",
   "metadata": {},
   "source": [
    "## Plot learning curves\n",
    "To plot the learning curves of random forest, we apply the function plot_learning_curve. Parameters passed to our random forest are n_splits of k-fold (k) and n_estimators of random forest (n).\n",
    "- High bias(under-fitting): both the training and cross-validation scores are low(errors high).\n",
    "- High-variance(over-fitting): the training score is much more than the cross-validation score(e.g. no error in training)."
   ]
  },
  {
   "cell_type": "code",
   "execution_count": 94,
   "metadata": {
    "collapsed": true
   },
   "outputs": [],
   "source": [
    "# http://scikit-learn.org/stable/auto_examples/model_selection/plot_learning_curve.html\n",
    "def plot_learning_curve(estimator, title, X, y, ylim=None, cv=None,\n",
    "                        n_jobs=1, train_sizes=np.linspace(.1, 1.0, 25)):\n",
    "    plt.figure()\n",
    "    plt.title(title)\n",
    "    if ylim is not None:\n",
    "        plt.ylim(*ylim)\n",
    "    plt.xlabel(\"Training examples\")\n",
    "    plt.ylabel(\"Score\")\n",
    "    train_sizes, train_scores, test_scores = learning_curve(\n",
    "        estimator, X, y, cv=cv, n_jobs=n_jobs, train_sizes=train_sizes)\n",
    "    train_scores_mean = np.mean(train_scores, axis=1)\n",
    "    train_scores_std = np.std(train_scores, axis=1)\n",
    "    test_scores_mean = np.mean(test_scores, axis=1)\n",
    "    test_scores_std = np.std(test_scores, axis=1)\n",
    "    plt.grid()\n",
    "\n",
    "    plt.fill_between(train_sizes, train_scores_mean - train_scores_std,\n",
    "                     train_scores_mean + train_scores_std, alpha=0.1,\n",
    "                     color=\"r\")\n",
    "    plt.fill_between(train_sizes, test_scores_mean - test_scores_std,\n",
    "                     test_scores_mean + test_scores_std, alpha=0.1, color=\"g\")\n",
    "    plt.plot(train_sizes, train_scores_mean, 'o-', color=\"r\",\n",
    "             label=\"Training score\")\n",
    "    plt.plot(train_sizes, test_scores_mean, 'o-', color=\"g\",\n",
    "             label=\"Cross-validation score\")\n",
    "\n",
    "    plt.legend(loc=\"best\")\n",
    "    return plt"
   ]
  },
  {
   "cell_type": "code",
   "execution_count": 95,
   "metadata": {
    "collapsed": false
   },
   "outputs": [],
   "source": [
    "def rf_curve(k, n, sub_n):\n",
    "    kf = KFold(n_splits=k)\n",
    "    title = \"Learning Curves \"+str(sub_n)+\":(Random Forest - k=\"+str(k)+\", n=\"+str(n)+\")\"\n",
    "    estimator = ensemble.RandomForestClassifier(n_estimators = n, random_state=0)\n",
    "    cv = kf\n",
    "    plot_learning_curve(estimator, title, X, Y, ylim=(0.7, 1.1), cv=kf, n_jobs=4)"
   ]
  },
  {
   "cell_type": "code",
   "execution_count": 96,
   "metadata": {
    "collapsed": false
   },
   "outputs": [
    {
     "data": {
      "image/png": "[encoded data removed]",
      "text/plain": [
       "<matplotlib.figure.Figure at 0x2241e272048>"
      ]
     },
     "metadata": {},
     "output_type": "display_data"
    },
    {
     "data": {
      "image/png": "[encoded data removed]",
      "text/plain": [
       "<matplotlib.figure.Figure at 0x2241e1d3198>"
      ]
     },
     "metadata": {},
     "output_type": "display_data"
    }
   ],
   "source": [
    "# fig1: k=3, n=1\n",
    "rf_curve(3, 1, 1)\n",
    "# fig2: k=3, n=100\n",
    "rf_curve(3, 100, 2)\n",
    "\n",
    "plt.show()"
   ]
  },
  {
   "cell_type": "markdown",
   "metadata": {},
   "source": [
    "Comparing to fig.1 and fig.2, we apply small k(3) with small n(1) large n(100), which must affect the accuracy of model built. With small n, the training score starts from 0.9 and slightly increase as the training example increasing, which means the model does not fit the training set enough. With large n, the training score increase to nearly 1, which means the model fit the training set so well.\n",
    "\n",
    "The validation score is improve by the better model. In fig.1, both curves could benefit from more training examples.\n",
    "The training score is much greater than the validation score for the maximum number of training samples, adding more training samples will most likely increase generalization."
   ]
  },
  {
   "cell_type": "code",
   "execution_count": 98,
   "metadata": {
    "collapsed": false
   },
   "outputs": [
    {
     "data": {
      "image/png": "[encoded data removed]",
      "text/plain": [
       "<matplotlib.figure.Figure at 0x2241bd27b38>"
      ]
     },
     "metadata": {},
     "output_type": "display_data"
    },
    {
     "data": {
      "image/png": "[encoded data removed]",
      "text/plain": [
       "<matplotlib.figure.Figure at 0x2241c0df4a8>"
      ]
     },
     "metadata": {},
     "output_type": "display_data"
    },
    {
     "data": {
      "image/png": "[encoded data removed]",
      "text/plain": [
       "<matplotlib.figure.Figure at 0x2241b68a550>"
      ]
     },
     "metadata": {},
     "output_type": "display_data"
    }
   ],
   "source": [
    "# fig3: k=50, n=100\n",
    "rf_curve(50, 100, 3)\n",
    "# fig4: k=50, n=1\n",
    "rf_curve(50, 1, 4)\n",
    "\n",
    "plt.show()"
   ]
  },
  {
   "cell_type": "markdown",
   "metadata": {},
   "source": [
    "In the Fig.4, the training score is much greater than the validation score for the maximum number of training samples, adding more training samples will most likely increase generalization."
   ]
  },
  {
   "cell_type": "markdown",
   "metadata": {},
   "source": [
    "For the cross-validation score, as the training examples increasing, it slightly increase but still keep a great gap between training score, which means the  model can’t learn the training examples well and generalizing even worse. \n",
    "Two curves in the graph above seems to be flatter. It is reasonable to see the training score approaching 1 since we increase the n_estimators of random forest. The validation score stands around 0.85 with unconspicuous change.\n",
    "\n"
   ]
  },
  {
   "cell_type": "markdown",
   "metadata": {},
   "source": [
    "The shadow of each curve means the range of score variation it becomes much more larger! As we set k a big number, for each loop we get a small test set, which is sensitive to the outlier(i.e. high variance)."
   ]
  },
  {
   "cell_type": "code",
   "execution_count": null,
   "metadata": {
    "collapsed": true
   },
   "outputs": [],
   "source": []
  }
 ],
 "metadata": {
  "anaconda-cloud": {},
  "kernelspec": {
   "display_name": "Python [py35]",
   "language": "python",
   "name": "Python [py35]"
  },
  "language_info": {
   "codemirror_mode": {
    "name": "ipython",
    "version": 3
   },
   "file_extension": ".py",
   "mimetype": "text/x-python",
   "name": "python",
   "nbconvert_exporter": "python",
   "pygments_lexer": "ipython3",
   "version": "3.5.2"
  },
  "toc": {
   "nav_menu": {
    "height": "86px",
    "width": "252px"
   },
   "navigate_menu": true,
   "number_sections": true,
   "sideBar": true,
   "threshold": 4,
   "toc_cell": false,
   "toc_section_display": "block",
   "toc_window_display": false
  }
 },
 "nbformat": 4,
 "nbformat_minor": 0
}
