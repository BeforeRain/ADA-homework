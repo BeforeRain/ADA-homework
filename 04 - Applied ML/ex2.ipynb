{
 "cells": [
  {
   "cell_type": "markdown",
   "metadata": {
    "toc": "true"
   },
   "source": [
    "# Table of Contents\n",
    " <p><div class=\"lev1 toc-item\"><a href=\"#Task-2\" data-toc-modified-id=\"Task-2-1\"><span class=\"toc-item-num\">1&nbsp;&nbsp;</span>Task 2</a></div><div class=\"lev2 toc-item\"><a href=\"#K-Means-Clustering\" data-toc-modified-id=\"K-Means-Clustering-11\"><span class=\"toc-item-num\">1.1&nbsp;&nbsp;</span>K-Means Clustering</a></div><div class=\"lev2 toc-item\"><a href=\"#Conclusion\" data-toc-modified-id=\"Conclusion-12\"><span class=\"toc-item-num\">1.2&nbsp;&nbsp;</span>Conclusion</a></div>"
   ]
  },
  {
   "cell_type": "markdown",
   "metadata": {},
   "source": [
    "# Task 2\n",
    "\n",
    "<em>Aggregate the referee information grouping by soccer player, and use an unsupervised learning technique to cluster the soccer players in 2 disjoint clusters. Remove features iteratively, and at each step perform again the clustering and compute the silhouette score -- can you find a configuration of features with high silhouette score where players with dark and light skin colors belong to different clusters? Discuss the obtained results.</em>"
   ]
  },
  {
   "cell_type": "markdown",
   "metadata": {},
   "source": [
    "## K-Means Clustering"
   ]
  },
  {
   "cell_type": "markdown",
   "metadata": {},
   "source": [
    "We want to cluster players into two groups. We have aggregated player records and binary classified the skin color in Task 1. In DataFrame player_data_bin, every row of a record corresponds to a player. We'll just import it and run kmeans over it."
   ]
  },
  {
   "cell_type": "code",
   "execution_count": 1,
   "metadata": {
    "collapsed": true
   },
   "outputs": [],
   "source": [
    "import pandas as pd\n",
    "import numpy as np\n",
    "import matplotlib.pyplot as plt\n",
    "%matplotlib inline\n",
    "\n",
    "from sklearn.cluster import KMeans\n",
    "from sklearn.metrics import silhouette_score\n",
    "from sklearn.preprocessing import scale"
   ]
  },
  {
   "cell_type": "markdown",
   "metadata": {},
   "source": [
    "We 'player_data_bin.csv' We drop NaN as it won't work with K-Means."
   ]
  },
  {
   "cell_type": "code",
   "execution_count": 10,
   "metadata": {
    "collapsed": false
   },
   "outputs": [],
   "source": [
    "player_data_bin = pd.read_csv('player_data_bin.csv')\n",
    "player_data_bin.drop('playerShort', axis=1, inplace=True)\n",
    "players = player_data_bin.dropna()"
   ]
  },
  {
   "cell_type": "code",
   "execution_count": 11,
   "metadata": {
    "collapsed": false
   },
   "outputs": [
    {
     "data": {
      "text/html": [
       "<div>\n",
       "<table border=\"1\" class=\"dataframe\">\n",
       "  <thead>\n",
       "    <tr style=\"text-align: right;\">\n",
       "      <th></th>\n",
       "      <th>games</th>\n",
       "      <th>victories</th>\n",
       "      <th>ties</th>\n",
       "      <th>defeats</th>\n",
       "      <th>goals</th>\n",
       "      <th>yellowCards</th>\n",
       "      <th>yellowReds</th>\n",
       "      <th>redCards</th>\n",
       "      <th>weightedIAT</th>\n",
       "      <th>weightedExp</th>\n",
       "      <th>...</th>\n",
       "      <th>position_Center Midfielder</th>\n",
       "      <th>position_Defensive Midfielder</th>\n",
       "      <th>position_Goalkeeper</th>\n",
       "      <th>position_Left Fullback</th>\n",
       "      <th>position_Left Midfielder</th>\n",
       "      <th>position_Left Winger</th>\n",
       "      <th>position_Right Fullback</th>\n",
       "      <th>position_Right Midfielder</th>\n",
       "      <th>position_Right Winger</th>\n",
       "      <th>skin_label</th>\n",
       "    </tr>\n",
       "  </thead>\n",
       "  <tbody>\n",
       "    <tr>\n",
       "      <th>0</th>\n",
       "      <td>654</td>\n",
       "      <td>247</td>\n",
       "      <td>179</td>\n",
       "      <td>228</td>\n",
       "      <td>9</td>\n",
       "      <td>19</td>\n",
       "      <td>0</td>\n",
       "      <td>0</td>\n",
       "      <td>0.333195</td>\n",
       "      <td>0.400637</td>\n",
       "      <td>...</td>\n",
       "      <td>0.0</td>\n",
       "      <td>0.0</td>\n",
       "      <td>0.0</td>\n",
       "      <td>0.0</td>\n",
       "      <td>0.0</td>\n",
       "      <td>0.0</td>\n",
       "      <td>0.0</td>\n",
       "      <td>0.0</td>\n",
       "      <td>0.0</td>\n",
       "      <td>0</td>\n",
       "    </tr>\n",
       "    <tr>\n",
       "      <th>1</th>\n",
       "      <td>336</td>\n",
       "      <td>141</td>\n",
       "      <td>73</td>\n",
       "      <td>122</td>\n",
       "      <td>62</td>\n",
       "      <td>42</td>\n",
       "      <td>0</td>\n",
       "      <td>1</td>\n",
       "      <td>0.341438</td>\n",
       "      <td>0.380811</td>\n",
       "      <td>...</td>\n",
       "      <td>0.0</td>\n",
       "      <td>0.0</td>\n",
       "      <td>0.0</td>\n",
       "      <td>0.0</td>\n",
       "      <td>0.0</td>\n",
       "      <td>0.0</td>\n",
       "      <td>0.0</td>\n",
       "      <td>0.0</td>\n",
       "      <td>0.0</td>\n",
       "      <td>0</td>\n",
       "    </tr>\n",
       "  </tbody>\n",
       "</table>\n",
       "<p>2 rows × 131 columns</p>\n",
       "</div>"
      ],
      "text/plain": [
       "   games  victories  ties  defeats  goals  yellowCards  yellowReds  redCards  \\\n",
       "0    654        247   179      228      9           19           0         0   \n",
       "1    336        141    73      122     62           42           0         1   \n",
       "\n",
       "   weightedIAT  weightedExp     ...      position_Center Midfielder  \\\n",
       "0     0.333195     0.400637     ...                             0.0   \n",
       "1     0.341438     0.380811     ...                             0.0   \n",
       "\n",
       "   position_Defensive Midfielder  position_Goalkeeper  position_Left Fullback  \\\n",
       "0                            0.0                  0.0                     0.0   \n",
       "1                            0.0                  0.0                     0.0   \n",
       "\n",
       "   position_Left Midfielder  position_Left Winger  position_Right Fullback  \\\n",
       "0                       0.0                   0.0                      0.0   \n",
       "1                       0.0                   0.0                      0.0   \n",
       "\n",
       "   position_Right Midfielder  position_Right Winger  skin_label  \n",
       "0                        0.0                    0.0           0  \n",
       "1                        0.0                    0.0           0  \n",
       "\n",
       "[2 rows x 131 columns]"
      ]
     },
     "execution_count": 11,
     "metadata": {},
     "output_type": "execute_result"
    }
   ],
   "source": [
    "player_data_bin[:2]"
   ]
  },
  {
   "cell_type": "code",
   "execution_count": 12,
   "metadata": {
    "collapsed": false
   },
   "outputs": [],
   "source": [
    "X = players.drop('skin_label', axis=1)\n",
    "Y = players['skin_label']"
   ]
  },
  {
   "cell_type": "markdown",
   "metadata": {},
   "source": [
    "We use KMeans as the clustering algorithm. Although it is unsupervised learning, but as we have skin_label in our data, we can also compute prediction accuracy of skin color.  \n",
    "In the method below, we fit data in model and compute its silhouette score and prediction accuray."
   ]
  },
  {
   "cell_type": "code",
   "execution_count": 13,
   "metadata": {
    "collapsed": true
   },
   "outputs": [],
   "source": [
    "# given the training data X, fit it return its silhoutte score and prediction accuracy\n",
    "def cluster(X):\n",
    "    kmeans = KMeans(n_clusters=2, init='k-means++')\n",
    "    kmeans.fit(X)\n",
    "    sil_score = silhouette_score(X, kmeans.labels_, metric='euclidean')\n",
    "    accuracy = ((kmeans.labels_ == Y).sum() / len(Y))\n",
    "    return sil_score, accuracy"
   ]
  },
  {
   "cell_type": "markdown",
   "metadata": {},
   "source": [
    "To start with, let's have a try with all features."
   ]
  },
  {
   "cell_type": "code",
   "execution_count": 14,
   "metadata": {
    "collapsed": false
   },
   "outputs": [
    {
     "name": "stdout",
     "output_type": "stream",
     "text": [
      "silhouette score with all features: 0.0543307095417\n",
      "prediction accuracy with all features: 0.601023017903\n"
     ]
    }
   ],
   "source": [
    "newX = scale(X.as_matrix())\n",
    "sil_score, accuracy = cluster(newX)\n",
    "best_sil_score = sil_score\n",
    "print('silhouette score with all features: ' + str(sil_score))\n",
    "print('prediction accuracy with all features: ' + str(accuracy))"
   ]
  },
  {
   "cell_type": "code",
   "execution_count": 15,
   "metadata": {
    "collapsed": false
   },
   "outputs": [],
   "source": [
    "accuracies = []\n",
    "silhouette_scores = []\n",
    "accuracies.append(accuracy)\n",
    "silhouette_scores.append(sil_score)"
   ]
  },
  {
   "cell_type": "code",
   "execution_count": 16,
   "metadata": {
    "collapsed": false
   },
   "outputs": [
    {
     "name": "stdout",
     "output_type": "stream",
     "text": [
      "silhouette score: 0.054473215762180074   accuracy: 0.5971867007672634   removed weightedIAT\n",
      "silhouette score: 0.05567291838359836   accuracy: 0.5965473145780051   removed weightedExp\n",
      "silhouette score: 0.056502347782623905   accuracy: 0.3983375959079284   removed height\n",
      "silhouette score: 0.05665108545972927   accuracy: 0.4047314578005115   removed weight\n",
      "silhouette score: 0.05833870529068569   accuracy: 0.39961636828644503   removed club_1. FC Nürnberg\n",
      "silhouette score: 0.05959208206991105   accuracy: 0.600383631713555   removed club_1. FSV Mainz 05\n",
      "silhouette score: 0.061098778364074915   accuracy: 0.39961636828644503   removed club_1899 Hoffenheim\n",
      "silhouette score: 0.061594901569433716   accuracy: 0.39961636828644503   removed club_AC Ajaccio\n",
      "silhouette score: 0.06173524730195875   accuracy: 0.600383631713555   removed club_AS Nancy\n",
      "silhouette score: 0.061992011790610264   accuracy: 0.5959079283887468   removed club_AS Saint-Étienne\n",
      "silhouette score: 0.06305172925486219   accuracy: 0.40025575447570333   removed club_Arsenal FC (R)\n",
      "silhouette score: 0.06322996068543346   accuracy: 0.40025575447570333   removed club_Arsenal FC\n",
      "silhouette score: 0.06399369714688385   accuracy: 0.5997442455242967   removed club_Aston Villa\n",
      "silhouette score: 0.06489300203864531   accuracy: 0.40345268542199486   removed club_Athletic Bilbao\n",
      "silhouette score: 0.06539270478035306   accuracy: 0.5997442455242967   removed club_Atlético Madrid\n",
      "silhouette score: 0.06584673458216597   accuracy: 0.5927109974424553   removed club_Bayer Leverkusen\n",
      "silhouette score: 0.06708984573096963   accuracy: 0.40281329923273657   removed club_Bayern München\n",
      "silhouette score: 0.06865992491650191   accuracy: 0.5997442455242967   removed club_Bor. Mönchengladbach\n",
      "silhouette score: 0.06942569090482321   accuracy: 0.5978260869565217   removed club_Blackburn Rovers\n",
      "silhouette score: 0.07184165545829413   accuracy: 0.40153452685422   removed club_Borussia Dortmund\n",
      "silhouette score: 0.07187411859541235   accuracy: 0.40025575447570333   removed club_Bristol City\n",
      "silhouette score: 0.07237547328962836   accuracy: 0.40345268542199486   removed club_CA Osasuna\n",
      "silhouette score: 0.07344539019381807   accuracy: 0.5946291560102301   removed club_CF Badalona\n",
      "silhouette score: 0.07472821528638807   accuracy: 0.4047314578005115   removed club_Celta Vigo\n",
      "silhouette score: 0.07486966300216992   accuracy: 0.4040920716112532   removed club_Chelsea FC\n",
      "silhouette score: 0.07578171797453372   accuracy: 0.4040920716112532   removed club_Crewe Alexandra\n",
      "silhouette score: 0.07711253704580921   accuracy: 0.4053708439897698   removed club_Deportivo La Coruña\n",
      "silhouette score: 0.07907891467097737   accuracy: 0.4047314578005115   removed club_Eintracht Frankfurt\n",
      "silhouette score: 0.08019042837696279   accuracy: 0.5952685421994884   removed club_Espanyol Barcelona\n",
      "silhouette score: 0.08046632022336953   accuracy: 0.5965473145780051   removed club_FC Barcelona\n",
      "silhouette score: 0.08193925360797513   accuracy: 0.5965473145780051   removed club_FC Schalke 04\n",
      "silhouette score: 0.08223367949630686   accuracy: 0.40025575447570333   removed club_ESTAC Troyes\n",
      "silhouette score: 0.08315809504063311   accuracy: 0.5997442455242967   removed club_FC Lorient\n",
      "silhouette score: 0.08454082935389566   accuracy: 0.5952685421994884   removed club_Getafe CF\n",
      "silhouette score: 0.08700977920488277   accuracy: 0.40025575447570333   removed club_FC Augsburg\n",
      "silhouette score: 0.08917743575417253   accuracy: 0.5997442455242967   removed club_Girondins Bordeaux\n",
      "silhouette score: 0.08960572840039892   accuracy: 0.5965473145780051   removed club_FC Sochaux\n",
      "silhouette score: 0.09277129252561447   accuracy: 0.40025575447570333   removed club_Fortuna Düsseldorf\n",
      "silhouette score: 0.09391683463103148   accuracy: 0.40345268542199486   removed club_Granada CF\n",
      "silhouette score: 0.0939402594918174   accuracy: 0.5997442455242967   removed age\n",
      "silhouette score: 0.09687408485355081   accuracy: 0.4008951406649616   removed club_Hamburger SV\n",
      "silhouette score: 0.0992568669749649   accuracy: 0.59846547314578   removed club_Hannover 96\n",
      "silhouette score: 0.10013164357484074   accuracy: 0.4008951406649616   removed club_Leicester City\n",
      "silhouette score: 0.10052552189862127   accuracy: 0.5991048593350383   removed club_Levante UD\n",
      "silhouette score: 0.1016438955336371   accuracy: 0.4008951406649616   removed club_Leyton Orient\n",
      "silhouette score: 0.1029244794086655   accuracy: 0.4008951406649616   removed club_Lille OSC\n",
      "silhouette score: 0.10436582418215225   accuracy: 0.5991048593350383   removed club_Liverpool FC\n",
      "silhouette score: 0.10441657402058278   accuracy: 0.4008951406649616   removed club_Leeds United\n",
      "silhouette score: 0.10547374416087671   accuracy: 0.5991048593350383   removed club_MSV Duisburg\n",
      "silhouette score: 0.10683050686232873   accuracy: 0.40153452685422   removed club_Liverpool FC (R)\n",
      "silhouette score: 0.10822971919148097   accuracy: 0.4008951406649616   removed club_Manchester United\n",
      "silhouette score: 0.10926967157767771   accuracy: 0.5991048593350383   removed club_Millwall FC\n",
      "silhouette score: 0.1098256674902094   accuracy: 0.4053708439897698   removed club_Montpellier HSC\n",
      "silhouette score: 0.11481299896875434   accuracy: 0.4008951406649616   removed club_Newcastle United\n",
      "silhouette score: 0.11491459683065311   accuracy: 0.5991048593350383   removed club_Manchester City\n",
      "silhouette score: 0.11517973607024808   accuracy: 0.5997442455242967   removed club_Norwich City\n",
      "silhouette score: 0.11767126195952045   accuracy: 0.5991048593350383   removed club_OGC Nice\n",
      "silhouette score: 0.12071633012283023   accuracy: 0.5991048593350383   removed club_Olympique Marseille\n",
      "silhouette score: 0.1210064128517937   accuracy: 0.5991048593350383   removed club_Queens Park Rangers\n",
      "silhouette score: 0.12378195557383453   accuracy: 0.5991048593350383   removed club_Olympique Lyon\n",
      "silhouette score: 0.12486324286166883   accuracy: 0.39961636828644503   removed club_Paris Saint-Germain\n",
      "silhouette score: 0.12499019195926528   accuracy: 0.3989769820971867   removed club_Málaga CF\n",
      "silhouette score: 0.1252298092472226   accuracy: 0.5965473145780051   removed club_RCD Mallorca\n",
      "silhouette score: 0.12699754772832464   accuracy: 0.3989769820971867   removed club_Everton FC\n",
      "silhouette score: 0.12902958080648685   accuracy: 0.40153452685422   removed club_Rayo Vallecano\n",
      "silhouette score: 0.12946521149257176   accuracy: 0.6010230179028133   removed club_Reading FC\n",
      "silhouette score: 0.12995351430493082   accuracy: 0.40281329923273657   removed club_Real Betis\n",
      "silhouette score: 0.13114384431489354   accuracy: 0.6010230179028133   removed club_Bolton Wanderers\n",
      "silhouette score: 0.1345407957379465   accuracy: 0.3989769820971867   removed club_Real Sociedad\n",
      "silhouette score: 0.13592426482223444   accuracy: 0.3989769820971867   removed club_Real Jaén\n",
      "silhouette score: 0.13740743831226518   accuracy: 0.59846547314578   removed club_Real Valladolid\n",
      "silhouette score: 0.1397238909596609   accuracy: 0.3989769820971867   removed club_Real Madrid Castilla\n",
      "silhouette score: 0.1424630953093307   accuracy: 0.3989769820971867   removed club_Real Zaragoza\n",
      "silhouette score: 0.14789820161105793   accuracy: 0.6010230179028133   removed club_SC Freiburg\n",
      "silhouette score: 0.1481981524687315   accuracy: 0.6023017902813299   removed club_Real Madrid\n",
      "silhouette score: 0.149591315498784   accuracy: 0.3976982097186701   removed club_SV Sandhausen\n",
      "silhouette score: 0.15122217360635898   accuracy: 0.3976982097186701   removed club_SD Compostela\n",
      "silhouette score: 0.15170376466694546   accuracy: 0.39705882352941174   removed club_Sevilla FC\n",
      "silhouette score: 0.15326430981227893   accuracy: 0.39641943734015345   removed club_Southampton FC\n",
      "silhouette score: 0.15749385594890378   accuracy: 0.6035805626598465   removed club_SpVgg Greuther Fürth\n",
      "silhouette score: 0.1599090009210614   accuracy: 0.6035805626598465   removed club_Stade Brest\n",
      "silhouette score: 0.16307105680201692   accuracy: 0.3976982097186701   removed club_Stade Reims\n",
      "silhouette score: 0.16816274072504447   accuracy: 0.3983375959079284   removed club_Stade Rennes\n",
      "silhouette score: 0.16979742436926396   accuracy: 0.39705882352941174   removed club_Tottenham Hotspur (R)\n",
      "silhouette score: 0.1698396630585404   accuracy: 0.39961636828644503   removed club_Tottenham Hotspur\n",
      "silhouette score: 0.17191873466509927   accuracy: 0.3983375959079284   removed club_Toulouse FC\n",
      "silhouette score: 0.17540171092411333   accuracy: 0.6016624040920716   removed club_Valenciennes FC\n",
      "silhouette score: 0.17742323033357194   accuracy: 0.6029411764705882   removed club_US Boulogne\n",
      "silhouette score: 0.1782097964485502   accuracy: 0.3989769820971867   removed club_Valencia CF\n",
      "silhouette score: 0.1793721467642771   accuracy: 0.59846547314578   removed club_VfB Stuttgart\n",
      "silhouette score: 0.18083143954256642   accuracy: 0.6144501278772379   removed defeats\n",
      "silhouette score: 0.18501439423869148   accuracy: 0.612531969309463   removed club_VfL Wolfsburg\n",
      "silhouette score: 0.19147965906572884   accuracy: 0.612531969309463   removed club_Werder Bremen\n",
      "silhouette score: 0.19347474861980865   accuracy: 0.612531969309463   removed club_Wigan Athletic\n",
      "silhouette score: 0.19466342197521957   accuracy: 0.612531969309463   removed club_Évian Thonon Gaillard\n",
      "silhouette score: 0.19760875143470433   accuracy: 0.391304347826087   removed leagueCountry_France\n",
      "silhouette score: 0.1995419730233324   accuracy: 0.3874680306905371   removed club_Nottingham Forest\n",
      "silhouette score: 0.20331244474541604   accuracy: 0.39194373401534527   removed leagueCountry_Germany\n",
      "silhouette score: 0.20585102898620958   accuracy: 0.38554987212276215   removed club_West Bromwich Albion\n",
      "silhouette score: 0.21043164102824546   accuracy: 0.6086956521739131   removed leagueCountry_Spain\n",
      "silhouette score: 0.21139303016383768   accuracy: 0.6118925831202046   removed goals\n",
      "silhouette score: 0.21290991511430887   accuracy: 0.39578005115089515   removed leagueCountry_England\n",
      "silhouette score: 0.21330087442856355   accuracy: 0.39578005115089515   removed club_Fulham FC\n",
      "silhouette score: 0.21396607589342695   accuracy: 0.6054987212276215   removed club_Stoke City\n",
      "silhouette score: 0.224850024366674   accuracy: 0.3945012787723785   removed position_Attacking Midfielder\n",
      "silhouette score: 0.23562654776465522   accuracy: 0.6112531969309463   removed position_Center Back\n",
      "silhouette score: 0.25179025261463756   accuracy: 0.3868286445012788   removed position_Center Forward\n",
      "silhouette score: 0.26179030353853394   accuracy: 0.6112531969309463   removed position_Center Midfielder\n",
      "silhouette score: 0.2623793595015954   accuracy: 0.3887468030690537   removed club_Sunderland AFC\n",
      "silhouette score: 0.2775389464378046   accuracy: 0.6144501278772379   removed position_Defensive Midfielder\n",
      "silhouette score: 0.27841221008066586   accuracy: 0.6144501278772379   removed club_West Ham United\n",
      "silhouette score: 0.3012657564262398   accuracy: 0.38554987212276215   removed position_Goalkeeper\n",
      "silhouette score: 0.3021008971544543   accuracy: 0.3702046035805627   removed ties\n",
      "silhouette score: 0.3230265599311656   accuracy: 0.6297953964194374   removed position_Left Fullback\n",
      "silhouette score: 0.3386486080333957   accuracy: 0.6317135549872123   removed position_Left Midfielder\n",
      "silhouette score: 0.34012150757330334   accuracy: 0.3702046035805627   removed games\n",
      "silhouette score: 0.3525133657673778   accuracy: 0.6336317135549873   removed victories\n",
      "silhouette score: 0.35799882427052016   accuracy: 0.6457800511508951   removed yellowReds\n",
      "silhouette score: 0.3610450221897964   accuracy: 0.35421994884910485   removed club_Wolverhampton Wanderers\n",
      "silhouette score: 0.3855375744402986   accuracy: 0.35358056265984655   removed position_Left Winger\n",
      "silhouette score: 0.3875529012704791   accuracy: 0.3414322250639386   removed uniqueYellow\n",
      "silhouette score: 0.39512779316948204   accuracy: 0.657928388746803   removed uniqueYellowReds\n",
      "silhouette score: 0.3982193131227277   accuracy: 0.6751918158567775   removed yellowCards\n",
      "silhouette score: 0.5223482022302026   accuracy: 0.7864450127877238   removed redCards\n",
      "silhouette score: 0.6123585322644024   accuracy: 0.7864450127877238   removed uniqueReds\n",
      "silhouette score: 0.8498913298560989   accuracy: 0.18350383631713554   removed uniqueRefCards\n",
      "silhouette score: 0.8507300056708091   accuracy: 0.21355498721227623   removed club_SC Bastia\n",
      "silhouette score: 0.9395482947500831   accuracy: 0.801150895140665   removed position_Right Fullback\n",
      "silhouette score: 1.0   accuracy: 0.8164961636828645   removed position_Right Midfielder\n"
     ]
    }
   ],
   "source": [
    "n_iterations = X.shape[1] - 1\n",
    "\n",
    "for i in range(n_iterations):\n",
    "    for feature in X.columns:\n",
    "        newX = scale(X.drop(feature, axis=1).as_matrix())#scale(X.drop(feature, axis=1).as_matrix())\n",
    "        sil_score, accuracy = cluster(newX)#\n",
    "        if sil_score > best_sil_score:\n",
    "            best_sil_score = sil_score\n",
    "            accuracies.append(accuracy)\n",
    "            silhouette_scores.append(sil_score)\n",
    "            X.drop(feature, axis=1, inplace=True)\n",
    "            print('silhouette score: {0}   accuracy: {1}   removed {2}'.format(sil_score, accuracy, feature))\n",
    "            break"
   ]
  },
  {
   "cell_type": "markdown",
   "metadata": {},
   "source": [
    "We plot the graph of silhouette score and accuracy of different number of removed features."
   ]
  },
  {
   "cell_type": "code",
   "execution_count": 17,
   "metadata": {
    "collapsed": false
   },
   "outputs": [
    {
     "data": {
      "text/plain": [
       "(0, 1)"
      ]
     },
     "execution_count": 17,
     "metadata": {},
     "output_type": "execute_result"
    },
    {
     "data": {
      "image/png": "[encoded data removed]",
      "text/plain": [
       "<matplotlib.figure.Figure at 0x1e4e2c1c0b8>"
      ]
     },
     "metadata": {},
     "output_type": "display_data"
    }
   ],
   "source": [
    "plt.figure()\n",
    "plt.plot(silhouette_scores, label='Silhouette score')\n",
    "plt.plot(accuracies, label='Accuracy')\n",
    "plt.xlabel('Number of features removed')\n",
    "plt.ylabel('Silhouette score')\n",
    "plt.legend(loc='lower right')\n",
    "plt.ylim([0,1])"
   ]
  },
  {
   "cell_type": "markdown",
   "metadata": {
    "collapsed": true
   },
   "source": [
    "## Conclusion"
   ]
  },
  {
   "cell_type": "markdown",
   "metadata": {
    "collapsed": true
   },
   "source": [
    "Silhoutte score can be improved with different accuracy, \n",
    "\n",
    "'position_Right Fullback' and 'position_Right Midfielder' obtained by dummy encoding 'position_Right' give best silhoutte scores and prediction accuracy of skin color."
   ]
  },
  {
   "cell_type": "code",
   "execution_count": null,
   "metadata": {
    "collapsed": true
   },
   "outputs": [],
   "source": []
  }
 ],
 "metadata": {
  "anaconda-cloud": {},
  "kernelspec": {
   "display_name": "Python [conda root]",
   "language": "python",
   "name": "conda-root-py"
  },
  "language_info": {
   "codemirror_mode": {
    "name": "ipython",
    "version": 3
   },
   "file_extension": ".py",
   "mimetype": "text/x-python",
   "name": "python",
   "nbconvert_exporter": "python",
   "pygments_lexer": "ipython3",
   "version": "3.5.2"
  },
  "latex_envs": {
   "LaTeX_envs_menu_present": true,
   "bibliofile": "biblio.bib",
   "cite_by": "apalike",
   "current_citInitial": 1,
   "eqLabelWithNumbers": true,
   "eqNumInitial": 1,
   "labels_anchors": false,
   "latex_user_defs": false,
   "report_style_numbering": false,
   "user_envs_cfg": false
  },
  "toc": {
   "colors": {
    "hover_highlight": "#DAA520",
    "running_highlight": "#FF0000",
    "selected_highlight": "#FFD700"
   },
   "nav_menu": {
    "height": "86px",
    "width": "252px"
   },
   "navigate_menu": true,
   "number_sections": false,
   "sideBar": true,
   "threshold": 4,
   "toc_cell": true,
   "toc_section_display": "block",
   "toc_window_display": true
  }
 },
 "nbformat": 4,
 "nbformat_minor": 0
}
